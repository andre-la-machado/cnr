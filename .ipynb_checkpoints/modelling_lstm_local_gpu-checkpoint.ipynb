{
 "cells": [
  {
   "cell_type": "markdown",
   "metadata": {
    "colab_type": "text",
    "id": "view-in-github"
   },
   "source": [
    "<a href=\"https://colab.research.google.com/github/andre-la-machado/cnr/blob/master/modelling_lstm_colab.ipynb\" target=\"_parent\"><img src=\"https://colab.research.google.com/assets/colab-badge.svg\" alt=\"Open In Colab\"/></a>"
   ]
  },
  {
   "cell_type": "markdown",
   "metadata": {
    "id": "WUg3rsB0MaUT"
   },
   "source": [
    "# LSTM Modelling"
   ]
  },
  {
   "cell_type": "markdown",
   "metadata": {
    "id": "d2sEClXHMaUU"
   },
   "source": [
    "On this Notebook, a LSTM Model will be tried for the Competitition Data."
   ]
  },
  {
   "cell_type": "markdown",
   "metadata": {
    "id": "WgcFrkVNMaUV"
   },
   "source": [
    "## Libraries"
   ]
  },
  {
   "cell_type": "code",
   "execution_count": 1,
   "metadata": {
    "colab": {
     "base_uri": "https://localhost:8080/",
     "height": 51
    },
    "id": "xPzbEtzOMaUW",
    "outputId": "88c4fa41-de7f-40a7-b66f-10e9ae9bfad1"
   },
   "outputs": [],
   "source": [
    "import numpy as np\n",
    "import pandas as pd \n",
    "import matplotlib.pyplot as plt \n",
    "import seaborn as sns \n",
    "sns.set_style('darkgrid')\n",
    "from cnr_methods import get_selected_features, transform_data, revert_data, get_simplified_data\n",
    "import random\n",
    "\n",
    "from sklearn.model_selection import TimeSeriesSplit, train_test_split\n",
    "from sklearn.preprocessing import MinMaxScaler"
   ]
  },
  {
   "cell_type": "code",
   "execution_count": 2,
   "metadata": {
    "colab": {
     "base_uri": "https://localhost:8080/",
     "height": 102
    },
    "id": "EJt5BAyhMaUZ",
    "outputId": "a9b272fb-a88d-43e3-c133-b76c49cd1f75",
    "tags": []
   },
   "outputs": [
    {
     "name": "stdout",
     "output_type": "stream",
     "text": [
      "True\n",
      "True\n",
      "[PhysicalDevice(name='/physical_device:GPU:0', device_type='GPU')]\n",
      "2.3.0\n",
      "2.4.0\n"
     ]
    }
   ],
   "source": [
    "import tensorflow as tf\n",
    "print(tf.test.is_built_with_cuda())  # Sanity check: GPU available to tf or not\n",
    "print(tf.test.is_built_with_gpu_support())\n",
    "print(tf.config.list_physical_devices('GPU'))\n",
    "print(tf.__version__)  # Check if __version__>=\"2.0.0\"\n",
    "print(tf.keras.__version__)"
   ]
  },
  {
   "cell_type": "code",
   "execution_count": 3,
   "metadata": {},
   "outputs": [],
   "source": [
    "gpu_devices = tf.config.experimental.list_physical_devices('GPU')\n",
    "for device in gpu_devices: tf.config.experimental.set_memory_growth(device, True)"
   ]
  },
  {
   "cell_type": "markdown",
   "metadata": {
    "id": "TfHnGOTHMaUd"
   },
   "source": [
    "## Read Data"
   ]
  },
  {
   "cell_type": "markdown",
   "metadata": {
    "id": "AJx9hbTsMaUd"
   },
   "source": [
    "Here, the data used correspond to the results of the Feature Engineering and Selection Step. For simplicity, during Hyperparameter Optimization, only Wind Farm 3 Training Data is used."
   ]
  },
  {
   "cell_type": "code",
   "execution_count": 4,
   "metadata": {
    "id": "hzHSYL52MaUe"
   },
   "outputs": [],
   "source": [
    "full_data = pd.read_csv(r\"C:\\Users\\andre_\\OneDrive\\Documentos\\Feature Selection\\Selected_Features_Data.csv\")\n",
    "\n",
    "#full_data = full_data.rename({'Unnamed: 0' : 'Time'},axis=1)\n",
    "full_data = full_data.set_index('Time')\n",
    "\n",
    "full_label = pd.read_csv(r'C:\\Users\\andre_\\OneDrive\\Documentos\\GitHub\\cnr\\Data\\Y_train.csv')"
   ]
  },
  {
   "cell_type": "code",
   "execution_count": 5,
   "metadata": {},
   "outputs": [],
   "source": [
    "full_data = full_data[['ID', 'WF', 'U_100m', 'V_100m', 'U_10m', 'V_10m', 'T', 'CLCT', 'Set',\n",
    "       'Wind Speed 100m', 'Wind Direction 100m', 'Wind Speed 10m',\n",
    "       'Wind Direction 10m','Month_Number']]"
   ]
  },
  {
   "cell_type": "code",
   "execution_count": 6,
   "metadata": {},
   "outputs": [],
   "source": [
    "X = full_data[full_data['Set']=='Train']\n",
    "\n",
    "WF = 'WF3'\n",
    "X = X[X['WF']==WF]\n",
    "y = full_label[full_label['ID'].isin(X['ID'])]"
   ]
  },
  {
   "cell_type": "code",
   "execution_count": 7,
   "metadata": {
    "colab": {
     "base_uri": "https://localhost:8080/",
     "height": 0
    },
    "id": "K3dqO0HFMaUk",
    "outputId": "05e209ab-99bd-433c-9dad-7ae9aee2ddb3"
   },
   "outputs": [
    {
     "data": {
      "text/html": [
       "<div>\n",
       "<style scoped>\n",
       "    .dataframe tbody tr th:only-of-type {\n",
       "        vertical-align: middle;\n",
       "    }\n",
       "\n",
       "    .dataframe tbody tr th {\n",
       "        vertical-align: top;\n",
       "    }\n",
       "\n",
       "    .dataframe thead th {\n",
       "        text-align: right;\n",
       "    }\n",
       "</style>\n",
       "<table border=\"1\" class=\"dataframe\">\n",
       "  <thead>\n",
       "    <tr style=\"text-align: right;\">\n",
       "      <th></th>\n",
       "      <th>ID</th>\n",
       "      <th>WF</th>\n",
       "      <th>U_100m</th>\n",
       "      <th>V_100m</th>\n",
       "      <th>U_10m</th>\n",
       "      <th>V_10m</th>\n",
       "      <th>T</th>\n",
       "      <th>CLCT</th>\n",
       "      <th>Set</th>\n",
       "      <th>Wind Speed 100m</th>\n",
       "      <th>Wind Direction 100m</th>\n",
       "      <th>Wind Speed 10m</th>\n",
       "      <th>Wind Direction 10m</th>\n",
       "      <th>Month_Number</th>\n",
       "    </tr>\n",
       "    <tr>\n",
       "      <th>Time</th>\n",
       "      <th></th>\n",
       "      <th></th>\n",
       "      <th></th>\n",
       "      <th></th>\n",
       "      <th></th>\n",
       "      <th></th>\n",
       "      <th></th>\n",
       "      <th></th>\n",
       "      <th></th>\n",
       "      <th></th>\n",
       "      <th></th>\n",
       "      <th></th>\n",
       "      <th></th>\n",
       "      <th></th>\n",
       "    </tr>\n",
       "  </thead>\n",
       "  <tbody>\n",
       "    <tr>\n",
       "      <th>2018-05-01 01:00:00</th>\n",
       "      <td>12479</td>\n",
       "      <td>WF3</td>\n",
       "      <td>5.789500</td>\n",
       "      <td>3.820200</td>\n",
       "      <td>1.054669</td>\n",
       "      <td>1.317597</td>\n",
       "      <td>275.690</td>\n",
       "      <td>86.504507</td>\n",
       "      <td>Train</td>\n",
       "      <td>6.936299</td>\n",
       "      <td>0.583268</td>\n",
       "      <td>1.687717</td>\n",
       "      <td>0.895782</td>\n",
       "      <td>5</td>\n",
       "    </tr>\n",
       "    <tr>\n",
       "      <th>2018-05-01 02:00:00</th>\n",
       "      <td>12480</td>\n",
       "      <td>WF3</td>\n",
       "      <td>6.003300</td>\n",
       "      <td>3.920600</td>\n",
       "      <td>0.876879</td>\n",
       "      <td>1.483483</td>\n",
       "      <td>275.770</td>\n",
       "      <td>98.976088</td>\n",
       "      <td>Train</td>\n",
       "      <td>7.170127</td>\n",
       "      <td>0.578533</td>\n",
       "      <td>1.723264</td>\n",
       "      <td>1.036951</td>\n",
       "      <td>5</td>\n",
       "    </tr>\n",
       "    <tr>\n",
       "      <th>2018-05-01 03:00:00</th>\n",
       "      <td>12481</td>\n",
       "      <td>WF3</td>\n",
       "      <td>5.931829</td>\n",
       "      <td>0.907656</td>\n",
       "      <td>0.949640</td>\n",
       "      <td>1.419591</td>\n",
       "      <td>276.875</td>\n",
       "      <td>64.193607</td>\n",
       "      <td>Train</td>\n",
       "      <td>6.000870</td>\n",
       "      <td>0.151837</td>\n",
       "      <td>1.707938</td>\n",
       "      <td>0.981212</td>\n",
       "      <td>5</td>\n",
       "    </tr>\n",
       "    <tr>\n",
       "      <th>2018-05-01 04:00:00</th>\n",
       "      <td>12482</td>\n",
       "      <td>WF3</td>\n",
       "      <td>5.205300</td>\n",
       "      <td>1.683800</td>\n",
       "      <td>1.027462</td>\n",
       "      <td>1.029786</td>\n",
       "      <td>275.650</td>\n",
       "      <td>57.482484</td>\n",
       "      <td>Train</td>\n",
       "      <td>5.470862</td>\n",
       "      <td>0.312855</td>\n",
       "      <td>1.454695</td>\n",
       "      <td>0.786528</td>\n",
       "      <td>5</td>\n",
       "    </tr>\n",
       "    <tr>\n",
       "      <th>2018-05-01 05:00:00</th>\n",
       "      <td>12483</td>\n",
       "      <td>WF3</td>\n",
       "      <td>4.845900</td>\n",
       "      <td>0.702200</td>\n",
       "      <td>1.011645</td>\n",
       "      <td>0.785352</td>\n",
       "      <td>275.530</td>\n",
       "      <td>89.971463</td>\n",
       "      <td>Train</td>\n",
       "      <td>4.896512</td>\n",
       "      <td>0.143904</td>\n",
       "      <td>1.280704</td>\n",
       "      <td>0.660129</td>\n",
       "      <td>5</td>\n",
       "    </tr>\n",
       "  </tbody>\n",
       "</table>\n",
       "</div>"
      ],
      "text/plain": [
       "                        ID   WF    U_100m    V_100m     U_10m     V_10m  \\\n",
       "Time                                                                      \n",
       "2018-05-01 01:00:00  12479  WF3  5.789500  3.820200  1.054669  1.317597   \n",
       "2018-05-01 02:00:00  12480  WF3  6.003300  3.920600  0.876879  1.483483   \n",
       "2018-05-01 03:00:00  12481  WF3  5.931829  0.907656  0.949640  1.419591   \n",
       "2018-05-01 04:00:00  12482  WF3  5.205300  1.683800  1.027462  1.029786   \n",
       "2018-05-01 05:00:00  12483  WF3  4.845900  0.702200  1.011645  0.785352   \n",
       "\n",
       "                           T       CLCT    Set  Wind Speed 100m  \\\n",
       "Time                                                              \n",
       "2018-05-01 01:00:00  275.690  86.504507  Train         6.936299   \n",
       "2018-05-01 02:00:00  275.770  98.976088  Train         7.170127   \n",
       "2018-05-01 03:00:00  276.875  64.193607  Train         6.000870   \n",
       "2018-05-01 04:00:00  275.650  57.482484  Train         5.470862   \n",
       "2018-05-01 05:00:00  275.530  89.971463  Train         4.896512   \n",
       "\n",
       "                     Wind Direction 100m  Wind Speed 10m  Wind Direction 10m  \\\n",
       "Time                                                                           \n",
       "2018-05-01 01:00:00             0.583268        1.687717            0.895782   \n",
       "2018-05-01 02:00:00             0.578533        1.723264            1.036951   \n",
       "2018-05-01 03:00:00             0.151837        1.707938            0.981212   \n",
       "2018-05-01 04:00:00             0.312855        1.454695            0.786528   \n",
       "2018-05-01 05:00:00             0.143904        1.280704            0.660129   \n",
       "\n",
       "                     Month_Number  \n",
       "Time                               \n",
       "2018-05-01 01:00:00             5  \n",
       "2018-05-01 02:00:00             5  \n",
       "2018-05-01 03:00:00             5  \n",
       "2018-05-01 04:00:00             5  \n",
       "2018-05-01 05:00:00             5  "
      ]
     },
     "execution_count": 7,
     "metadata": {},
     "output_type": "execute_result"
    }
   ],
   "source": [
    "X.head()"
   ]
  },
  {
   "cell_type": "markdown",
   "metadata": {
    "id": "GDPihT4eMaUt"
   },
   "source": [
    "## Scaling Data"
   ]
  },
  {
   "cell_type": "markdown",
   "metadata": {
    "id": "cK7eE4ZXdbyU"
   },
   "source": [
    "For a better performance of the Network, here functions are created to scale data between [-1,1] using MinMaxScaler. For the Direction Data, presented in degrees, Sin and Cos are calculated, which naturally have values in this same scale."
   ]
  },
  {
   "cell_type": "code",
   "execution_count": 8,
   "metadata": {
    "id": "hpn10ECJG97j"
   },
   "outputs": [],
   "source": [
    "def preprocessing_X(X):\n",
    "\n",
    "  scaler = MinMaxScaler(feature_range=(-1,1))\n",
    "\n",
    "  X_saved_columns = X[['ID','WF','Set','Month_Number']]\n",
    "  X_saved_columns = X_saved_columns.reset_index().drop('Time',axis=1)\n",
    "  X = X.drop(['ID','WF','Set','Month_Number'],axis=1)\n",
    "\n",
    "  # Fill NaN's\n",
    "  #X = X.fillna(method=\"ffill\", axis=1) # ZOH\n",
    "  #X = X.fillna(0)\n",
    "\n",
    "  # Scaling Data\n",
    "  directions = X[['Wind Direction 100m', 'Wind Direction 10m']]\n",
    "  directions[\"Sin_Wind Direction 100m\"] = np.sin(X['Wind Direction 100m']*(np.pi/180))\n",
    "  directions[\"Cos_Wind Direction 100m\"] = np.cos(X['Wind Direction 100m']*(np.pi/180))\n",
    "  directions[\"Sin_Wind Direction 10m\"] = np.sin(X['Wind Direction 10m']*(np.pi/180))\n",
    "  directions[\"Cos_Wind Direction 10m\"] = np.cos(X['Wind Direction 10m']*(np.pi/180))\n",
    "  directions = directions.drop(['Wind Direction 100m', 'Wind Direction 10m'],axis=1)\n",
    "  directions = directions.reset_index().drop('Time',axis=1)\n",
    "\n",
    "  X = X.drop(['Wind Direction 100m', 'Wind Direction 10m'],axis=1)\n",
    "  X_columns = X.columns\n",
    "\n",
    "  X = scaler.fit_transform(X)\n",
    "  X = pd.DataFrame(X,columns=X_columns)\n",
    "  X = pd.concat([X,directions],axis=1)\n",
    "  X = pd.concat([X,X_saved_columns],axis=1)\n",
    "\n",
    "  X = X.fillna(-2)\n",
    "\n",
    "  return X"
   ]
  },
  {
   "cell_type": "code",
   "execution_count": 9,
   "metadata": {
    "id": "b95dMH0BHFmN"
   },
   "outputs": [],
   "source": [
    "def preprocessing_y(y):\n",
    "\n",
    "  scaler = MinMaxScaler(feature_range=(-1,1))\n",
    "\n",
    "  #y = y.fillna(method=\"ffill\", axis=1) # ZOH\n",
    "  #y = y.fillna(0)\n",
    "  y = y.drop('ID',axis=1)\n",
    "  y = scaler.fit_transform(y)\n",
    "  y = pd.DataFrame(y)\n",
    "  y = y.fillna(-2)\n",
    "\n",
    "  return y,scaler"
   ]
  },
  {
   "cell_type": "markdown",
   "metadata": {
    "id": "ZOe3UyUzMaU_"
   },
   "source": [
    "## Subsets Creation"
   ]
  },
  {
   "cell_type": "markdown",
   "metadata": {
    "id": "TdZ3SWMKMaU_"
   },
   "source": [
    "Here, the Data is converted to a group of subsets where each subset has n_steps of past data."
   ]
  },
  {
   "cell_type": "code",
   "execution_count": 10,
   "metadata": {
    "id": "m5ns8yzXMaU_"
   },
   "outputs": [],
   "source": [
    "n_steps = 60"
   ]
  },
  {
   "cell_type": "code",
   "execution_count": 11,
   "metadata": {
    "id": "A800bL_SMaVC"
   },
   "outputs": [],
   "source": [
    "# split a multivariate sequence into samples\n",
    "def split_sequences(X, y = None, n_steps = 1):\n",
    "\tsample_X, sample_y = list(), list()\n",
    "\tfor i in range(len(X)):\n",
    "\t\t# find the end of this pattern\n",
    "\t\tend_ix = i + n_steps\n",
    "\t\t# check if we are beyond the dataset\n",
    "\t\tif end_ix > len(X):\n",
    "\t\t\tbreak\n",
    "\t\t# gather input and output parts of the pattern\n",
    "\t\tseq_x = X[i:end_ix, :]\n",
    "\t\tsample_X.append(seq_x)\n",
    "\t\tif y is not None:\n",
    "\t\t\tseq_y = y[end_ix-1,-1]\n",
    "\t\t\tsample_y.append(seq_y)\n",
    "\treturn np.array(sample_X), np.array(sample_y)"
   ]
  },
  {
   "cell_type": "code",
   "execution_count": 12,
   "metadata": {
    "id": "okz8xasuzDXS"
   },
   "outputs": [],
   "source": [
    "def shift_save(df,n_steps):\n",
    "  empty = pd.DataFrame(np.zeros((n_steps-1,df.shape[1])),columns=df.columns)\n",
    "  df = pd.concat([empty,df])\n",
    "  return df"
   ]
  },
  {
   "cell_type": "code",
   "execution_count": 13,
   "metadata": {
    "id": "RCgXPLQ0MaVE"
   },
   "outputs": [],
   "source": [
    "sample_X,sample_y = split_sequences(X.values,y.values,n_steps)"
   ]
  },
  {
   "cell_type": "code",
   "execution_count": 14,
   "metadata": {
    "id": "3qSIjG8HMaVH"
   },
   "outputs": [],
   "source": [
    "n_features = sample_X.shape[2] - 2"
   ]
  },
  {
   "cell_type": "markdown",
   "metadata": {
    "id": "JzkqvqX5MaVJ"
   },
   "source": [
    "## Model"
   ]
  },
  {
   "cell_type": "markdown",
   "metadata": {
    "id": "USm2oSuSMaVK"
   },
   "source": [
    "Here, a function to create the Model usin Keras is defined."
   ]
  },
  {
   "cell_type": "code",
   "execution_count": 15,
   "metadata": {
    "id": "Lt8xYhd3MaVK"
   },
   "outputs": [],
   "source": [
    "def LSTM_Model(input_shape, batch_size=1):\n",
    "  # Numerical branch\n",
    "\n",
    "  input_layer = tf.keras.Input(shape = input_shape,batch_size = batch_size)\n",
    "\n",
    "  hidden_1 = tf.keras.layers.LSTM(units=128,return_sequences=True,stateful=True)(input_layer)\n",
    "  hidden_1 = tf.keras.layers.Dropout(0.4)(hidden_1)\n",
    "\n",
    "  hidden_2 = tf.keras.layers.LSTM(units=87,return_sequences=True,stateful=True)(hidden_1)\n",
    "  hidden_2 = tf.keras.layers.Dropout(0.4)(hidden_2)\n",
    "\n",
    "  hidden_3 = tf.keras.layers.LSTM(units=57,stateful=True)(hidden_2)\n",
    "  hidden_3 = tf.keras.layers.Dropout(0.4)(hidden_3)\n",
    "\n",
    "  # Output\n",
    "  #outputs = tf.keras.layers.PReLU()(hidden_2)\n",
    "  #outputs = tf.keras.layers.Dropout(rate=0.2)(hidden_2)\n",
    "  outputs = tf.keras.layers.Dense(units=1)(hidden_3)\n",
    "\n",
    "  model = tf.keras.Model(inputs=input_layer, outputs=outputs)\n",
    "\n",
    "  return model"
   ]
  },
  {
   "cell_type": "code",
   "execution_count": 16,
   "metadata": {},
   "outputs": [],
   "source": [
    "def LSTM_Model_2(input_shape, batch_size=1):\n",
    "\n",
    "  model = tf.keras.Sequential()\n",
    "  model.add(tf.keras.layers.LSTM(128, batch_input_shape=(batch_size, input_shape[0], input_shape[1]), return_sequences=True,stateful=True))\n",
    "  model.add(tf.keras.layers.Dropout(0.4))\n",
    "  model.add(tf.keras.layers.LSTM(87, return_sequences=True,stateful=True))\n",
    "  model.add(tf.keras.layers.Dropout(0.4))\n",
    "  model.add(tf.keras.layers.LSTM(57, stateful=True))\n",
    "  model.add(tf.keras.layers.Dropout(0.4))\n",
    "  model.add(tf.keras.layers.Dense(1))\n",
    "\n",
    "  return model"
   ]
  },
  {
   "cell_type": "code",
   "execution_count": 17,
   "metadata": {
    "id": "IrjTyZ8KMaVM"
   },
   "outputs": [],
   "source": [
    "input_shape = (n_steps,n_features)"
   ]
  },
  {
   "cell_type": "code",
   "execution_count": 18,
   "metadata": {
    "id": "ja7P7f1HMaVO",
    "tags": []
   },
   "outputs": [],
   "source": [
    "model = LSTM_Model_2(input_shape)"
   ]
  },
  {
   "cell_type": "code",
   "execution_count": 19,
   "metadata": {
    "colab": {
     "base_uri": "https://localhost:8080/",
     "height": 425
    },
    "id": "__ARBNVBMaVQ",
    "outputId": "103cc329-f009-4d2b-fadf-4d0c7a4007a2",
    "tags": []
   },
   "outputs": [
    {
     "name": "stdout",
     "output_type": "stream",
     "text": [
      "Model: \"sequential\"\n",
      "_________________________________________________________________\n",
      "Layer (type)                 Output Shape              Param #   \n",
      "=================================================================\n",
      "lstm (LSTM)                  (1, 60, 128)              72192     \n",
      "_________________________________________________________________\n",
      "dropout (Dropout)            (1, 60, 128)              0         \n",
      "_________________________________________________________________\n",
      "lstm_1 (LSTM)                (1, 60, 87)               75168     \n",
      "_________________________________________________________________\n",
      "dropout_1 (Dropout)          (1, 60, 87)               0         \n",
      "_________________________________________________________________\n",
      "lstm_2 (LSTM)                (1, 57)                   33060     \n",
      "_________________________________________________________________\n",
      "dropout_2 (Dropout)          (1, 57)                   0         \n",
      "_________________________________________________________________\n",
      "dense (Dense)                (1, 1)                    58        \n",
      "=================================================================\n",
      "Total params: 180,478\n",
      "Trainable params: 180,478\n",
      "Non-trainable params: 0\n",
      "_________________________________________________________________\n"
     ]
    }
   ],
   "source": [
    "model.summary()"
   ]
  },
  {
   "cell_type": "markdown",
   "metadata": {
    "id": "JpR1xJhqMaVT"
   },
   "source": [
    "## Validation"
   ]
  },
  {
   "cell_type": "markdown",
   "metadata": {},
   "source": [
    "Here, a Validation Process is done using the SKlearn's TimeSeriesSplit with 5 folds. The results of RMSE for each Split on Train, Validation and Test sets are plotted in the end."
   ]
  },
  {
   "cell_type": "code",
   "execution_count": 20,
   "metadata": {
    "id": "Y4K8mWyxMaVW"
   },
   "outputs": [],
   "source": [
    "random.seed(317)\n",
    "tf.random.set_seed(317)\n",
    "\n",
    "patience = 3\n",
    "epochs = 10\n",
    "k_fold_splits = 5\n",
    "total_it = 50\n",
    "monitor = \"root_mean_squared_error\"\n",
    "batch_size = 1"
   ]
  },
  {
   "cell_type": "markdown",
   "metadata": {
    "id": "XDJ3EJABMaVe"
   },
   "source": [
    "### Hold Out Score"
   ]
  },
  {
   "cell_type": "markdown",
   "metadata": {
    "id": "UrZ9HNlNcSLE"
   },
   "source": [
    "Here, the same model is trained on the last n months of the Validation and tested on a Holdout Set never seen before."
   ]
  },
  {
   "cell_type": "code",
   "execution_count": 21,
   "metadata": {
    "id": "KMcTgPbPMaVe"
   },
   "outputs": [],
   "source": [
    "X_train, X_holdout, y_train, y_holdout = train_test_split(X, y, test_size=0.125, shuffle=False)"
   ]
  },
  {
   "cell_type": "code",
   "execution_count": 22,
   "metadata": {},
   "outputs": [],
   "source": [
    "X_train, X_val, y_train, y_val = train_test_split(X_train, y_train, test_size=0.143, shuffle=False)"
   ]
  },
  {
   "cell_type": "code",
   "execution_count": 23,
   "metadata": {
    "colab": {
     "base_uri": "https://localhost:8080/",
     "height": 1000
    },
    "id": "dv6-ih-IIK3N",
    "outputId": "dd73ae78-0c22-4f76-8fa5-9cc2a1b7bd8d"
   },
   "outputs": [
    {
     "name": "stderr",
     "output_type": "stream",
     "text": [
      "<ipython-input-8-77d29a6893c2>:15: SettingWithCopyWarning: \n",
      "A value is trying to be set on a copy of a slice from a DataFrame.\n",
      "Try using .loc[row_indexer,col_indexer] = value instead\n",
      "\n",
      "See the caveats in the documentation: https://pandas.pydata.org/pandas-docs/stable/user_guide/indexing.html#returning-a-view-versus-a-copy\n",
      "  directions[\"Sin_Wind Direction 100m\"] = np.sin(X['Wind Direction 100m']*(np.pi/180))\n",
      "<ipython-input-8-77d29a6893c2>:16: SettingWithCopyWarning: \n",
      "A value is trying to be set on a copy of a slice from a DataFrame.\n",
      "Try using .loc[row_indexer,col_indexer] = value instead\n",
      "\n",
      "See the caveats in the documentation: https://pandas.pydata.org/pandas-docs/stable/user_guide/indexing.html#returning-a-view-versus-a-copy\n",
      "  directions[\"Cos_Wind Direction 100m\"] = np.cos(X['Wind Direction 100m']*(np.pi/180))\n",
      "<ipython-input-8-77d29a6893c2>:17: SettingWithCopyWarning: \n",
      "A value is trying to be set on a copy of a slice from a DataFrame.\n",
      "Try using .loc[row_indexer,col_indexer] = value instead\n",
      "\n",
      "See the caveats in the documentation: https://pandas.pydata.org/pandas-docs/stable/user_guide/indexing.html#returning-a-view-versus-a-copy\n",
      "  directions[\"Sin_Wind Direction 10m\"] = np.sin(X['Wind Direction 10m']*(np.pi/180))\n",
      "<ipython-input-8-77d29a6893c2>:18: SettingWithCopyWarning: \n",
      "A value is trying to be set on a copy of a slice from a DataFrame.\n",
      "Try using .loc[row_indexer,col_indexer] = value instead\n",
      "\n",
      "See the caveats in the documentation: https://pandas.pydata.org/pandas-docs/stable/user_guide/indexing.html#returning-a-view-versus-a-copy\n",
      "  directions[\"Cos_Wind Direction 10m\"] = np.cos(X['Wind Direction 10m']*(np.pi/180))\n",
      "<ipython-input-8-77d29a6893c2>:15: SettingWithCopyWarning: \n",
      "A value is trying to be set on a copy of a slice from a DataFrame.\n",
      "Try using .loc[row_indexer,col_indexer] = value instead\n",
      "\n",
      "See the caveats in the documentation: https://pandas.pydata.org/pandas-docs/stable/user_guide/indexing.html#returning-a-view-versus-a-copy\n",
      "  directions[\"Sin_Wind Direction 100m\"] = np.sin(X['Wind Direction 100m']*(np.pi/180))\n",
      "<ipython-input-8-77d29a6893c2>:16: SettingWithCopyWarning: \n",
      "A value is trying to be set on a copy of a slice from a DataFrame.\n",
      "Try using .loc[row_indexer,col_indexer] = value instead\n",
      "\n",
      "See the caveats in the documentation: https://pandas.pydata.org/pandas-docs/stable/user_guide/indexing.html#returning-a-view-versus-a-copy\n",
      "  directions[\"Cos_Wind Direction 100m\"] = np.cos(X['Wind Direction 100m']*(np.pi/180))\n",
      "<ipython-input-8-77d29a6893c2>:17: SettingWithCopyWarning: \n",
      "A value is trying to be set on a copy of a slice from a DataFrame.\n",
      "Try using .loc[row_indexer,col_indexer] = value instead\n",
      "\n",
      "See the caveats in the documentation: https://pandas.pydata.org/pandas-docs/stable/user_guide/indexing.html#returning-a-view-versus-a-copy\n",
      "  directions[\"Sin_Wind Direction 10m\"] = np.sin(X['Wind Direction 10m']*(np.pi/180))\n",
      "<ipython-input-8-77d29a6893c2>:18: SettingWithCopyWarning: \n",
      "A value is trying to be set on a copy of a slice from a DataFrame.\n",
      "Try using .loc[row_indexer,col_indexer] = value instead\n",
      "\n",
      "See the caveats in the documentation: https://pandas.pydata.org/pandas-docs/stable/user_guide/indexing.html#returning-a-view-versus-a-copy\n",
      "  directions[\"Cos_Wind Direction 10m\"] = np.cos(X['Wind Direction 10m']*(np.pi/180))\n",
      "<ipython-input-8-77d29a6893c2>:15: SettingWithCopyWarning: \n",
      "A value is trying to be set on a copy of a slice from a DataFrame.\n",
      "Try using .loc[row_indexer,col_indexer] = value instead\n",
      "\n",
      "See the caveats in the documentation: https://pandas.pydata.org/pandas-docs/stable/user_guide/indexing.html#returning-a-view-versus-a-copy\n",
      "  directions[\"Sin_Wind Direction 100m\"] = np.sin(X['Wind Direction 100m']*(np.pi/180))\n",
      "<ipython-input-8-77d29a6893c2>:16: SettingWithCopyWarning: \n",
      "A value is trying to be set on a copy of a slice from a DataFrame.\n",
      "Try using .loc[row_indexer,col_indexer] = value instead\n",
      "\n",
      "See the caveats in the documentation: https://pandas.pydata.org/pandas-docs/stable/user_guide/indexing.html#returning-a-view-versus-a-copy\n",
      "  directions[\"Cos_Wind Direction 100m\"] = np.cos(X['Wind Direction 100m']*(np.pi/180))\n",
      "<ipython-input-8-77d29a6893c2>:17: SettingWithCopyWarning: \n",
      "A value is trying to be set on a copy of a slice from a DataFrame.\n",
      "Try using .loc[row_indexer,col_indexer] = value instead\n",
      "\n",
      "See the caveats in the documentation: https://pandas.pydata.org/pandas-docs/stable/user_guide/indexing.html#returning-a-view-versus-a-copy\n",
      "  directions[\"Sin_Wind Direction 10m\"] = np.sin(X['Wind Direction 10m']*(np.pi/180))\n",
      "<ipython-input-8-77d29a6893c2>:18: SettingWithCopyWarning: \n",
      "A value is trying to be set on a copy of a slice from a DataFrame.\n",
      "Try using .loc[row_indexer,col_indexer] = value instead\n",
      "\n",
      "See the caveats in the documentation: https://pandas.pydata.org/pandas-docs/stable/user_guide/indexing.html#returning-a-view-versus-a-copy\n",
      "  directions[\"Cos_Wind Direction 10m\"] = np.cos(X['Wind Direction 10m']*(np.pi/180))\n"
     ]
    }
   ],
   "source": [
    "X_train = preprocessing_X(X_train)\n",
    "X_val = preprocessing_X(X_val)\n",
    "X_holdout = preprocessing_X(X_holdout)\n",
    "\n",
    "X_train = X_train.drop(['ID','WF','Set','Month_Number'],axis=1)\n",
    "X_val = X_val.drop(['ID','WF','Set','Month_Number'],axis=1)\n",
    "X_holdout = X_holdout.drop(['ID','WF','Set','Month_Number'],axis=1)\n",
    "\n",
    "y_train,scaler = preprocessing_y(y_train)\n",
    "y_val,_ = preprocessing_y(y_val)\n",
    "y_holdout,_ = preprocessing_y(y_holdout)"
   ]
  },
  {
   "cell_type": "code",
   "execution_count": 24,
   "metadata": {
    "id": "DCt5uDOTMaVj"
   },
   "outputs": [],
   "source": [
    "X_train, y_train = split_sequences(X_train.values,y_train.values,n_steps)\n",
    "X_val, y_val = split_sequences(X_val.values,y_val.values,n_steps)\n",
    "X_holdout, y_holdout = split_sequences(X_holdout.values,y_holdout.values,n_steps)"
   ]
  },
  {
   "cell_type": "code",
   "execution_count": 25,
   "metadata": {
    "id": "zLZJNzIrMaVl"
   },
   "outputs": [],
   "source": [
    "model = LSTM_Model_2(input_shape)"
   ]
  },
  {
   "cell_type": "code",
   "execution_count": 26,
   "metadata": {
    "colab": {
     "base_uri": "https://localhost:8080/",
     "height": 374
    },
    "id": "XUfPcqXlMaVn",
    "outputId": "e987885e-352c-47e0-916f-06fadda2b647",
    "tags": []
   },
   "outputs": [
    {
     "name": "stdout",
     "output_type": "stream",
     "text": [
      "Epoch 1/10\n",
      "4619/4619 [==============================] - 46s 10ms/step - loss: 0.0612 - root_mean_squared_error: 0.2473 - val_loss: 0.1093 - val_root_mean_squared_error: 0.3306\n",
      "Epoch 2/10\n",
      "4619/4619 [==============================] - 43s 9ms/step - loss: 0.0392 - root_mean_squared_error: 0.1980 - val_loss: 0.0845 - val_root_mean_squared_error: 0.2908\n",
      "Epoch 3/10\n",
      "4619/4619 [==============================] - 43s 9ms/step - loss: 0.0338 - root_mean_squared_error: 0.1840 - val_loss: 0.0846 - val_root_mean_squared_error: 0.2909\n",
      "Epoch 4/10\n",
      "4619/4619 [==============================] - 43s 9ms/step - loss: 0.0310 - root_mean_squared_error: 0.1760 - val_loss: 0.0948 - val_root_mean_squared_error: 0.3079\n",
      "Epoch 5/10\n",
      "4619/4619 [==============================] - 43s 9ms/step - loss: 0.0295 - root_mean_squared_error: 0.1719 - val_loss: 0.0950 - val_root_mean_squared_error: 0.3082\n",
      "Epoch 6/10\n",
      "4619/4619 [==============================] - 43s 9ms/step - loss: 0.0292 - root_mean_squared_error: 0.1709 - val_loss: 0.0787 - val_root_mean_squared_error: 0.2806\n",
      "Epoch 7/10\n",
      "4619/4619 [==============================] - 43s 9ms/step - loss: 0.0259 - root_mean_squared_error: 0.1609 - val_loss: 0.1095 - val_root_mean_squared_error: 0.3309\n",
      "Epoch 8/10\n",
      "4619/4619 [==============================] - 43s 9ms/step - loss: 0.0264 - root_mean_squared_error: 0.1626 - val_loss: 0.0585 - val_root_mean_squared_error: 0.2418\n",
      "Epoch 9/10\n",
      "4619/4619 [==============================] - 43s 9ms/step - loss: 0.0249 - root_mean_squared_error: 0.1578 - val_loss: 0.0681 - val_root_mean_squared_error: 0.2609\n",
      "Epoch 10/10\n",
      "4619/4619 [==============================] - 43s 9ms/step - loss: 0.0237 - root_mean_squared_error: 0.1541 - val_loss: 0.0672 - val_root_mean_squared_error: 0.2592\n"
     ]
    },
    {
     "data": {
      "text/plain": [
       "<tensorflow.python.keras.callbacks.History at 0x19d0a4a6a00>"
      ]
     },
     "execution_count": 26,
     "metadata": {},
     "output_type": "execute_result"
    }
   ],
   "source": [
    "callbacks_list = [tf.keras.callbacks.EarlyStopping(monitor=monitor, patience=patience, verbose=0, min_delta=1e-8)]\n",
    "model.compile(optimizer='adam', loss='mse', metrics=[tf.keras.metrics.RootMeanSquaredError()])\n",
    "model.fit(x = X_train, y = y_train, batch_size = batch_size, epochs = epochs, validation_data = (X_val, y_val), callbacks=callbacks_list)"
   ]
  },
  {
   "cell_type": "code",
   "execution_count": 27,
   "metadata": {
    "id": "X4PNtrv0MaVp",
    "tags": []
   },
   "outputs": [],
   "source": [
    "preds = model.predict(X_holdout,batch_size = batch_size,callbacks=callbacks_list)"
   ]
  },
  {
   "cell_type": "markdown",
   "metadata": {
    "id": "Y8PCgJ71cDUf"
   },
   "source": [
    "Here, Predicitions and True Labels of the Holdout Set are scaled back to measure the CAPE Error, and be compared on a Chart."
   ]
  },
  {
   "cell_type": "code",
   "execution_count": 28,
   "metadata": {
    "id": "wXT215AXZ1mm"
   },
   "outputs": [],
   "source": [
    "preds = scaler.inverse_transform(preds)\n",
    "y_holdout = scaler.inverse_transform(pd.DataFrame(y_holdout))"
   ]
  },
  {
   "cell_type": "code",
   "execution_count": 29,
   "metadata": {
    "id": "Pnu0r9nEsdN8"
   },
   "outputs": [],
   "source": [
    "def metric_cnr(preds,labels):\n",
    "    cape_cnr = 100*np.sum(np.abs(preds-labels))/np.sum(labels)\n",
    "    return 'CAPE', cape_cnr"
   ]
  },
  {
   "cell_type": "code",
   "execution_count": 30,
   "metadata": {
    "colab": {
     "base_uri": "https://localhost:8080/",
     "height": 34
    },
    "id": "Y2_xB0ODWiZ7",
    "outputId": "04007191-9423-43b8-9d47-25f3d25e64b2"
   },
   "outputs": [
    {
     "data": {
      "text/plain": [
       "('CAPE', 26.228719000215953)"
      ]
     },
     "execution_count": 30,
     "metadata": {},
     "output_type": "execute_result"
    }
   ],
   "source": [
    "metric_cnr(preds,y_holdout)"
   ]
  },
  {
   "cell_type": "code",
   "execution_count": 31,
   "metadata": {
    "colab": {
     "base_uri": "https://localhost:8080/",
     "height": 501
    },
    "id": "l_TjOBo0MaVr",
    "outputId": "8c1f5a8a-8285-4966-adb8-e62a0be7e27a"
   },
   "outputs": [
    {
     "data": {
      "text/plain": [
       "<matplotlib.legend.Legend at 0x19d7095db20>"
      ]
     },
     "execution_count": 31,
     "metadata": {},
     "output_type": "execute_result"
    },
    {
     "data": {
      "image/png": "[encoded data removed]",
      "text/plain": [
       "<Figure size 1080x576 with 1 Axes>"
      ]
     },
     "metadata": {},
     "output_type": "display_data"
    }
   ],
   "source": [
    "plt.figure(figsize=(15,8))\n",
    "preds_len = np.arange(len(y_holdout))\n",
    "plt.plot(preds_len,y_holdout,label='True Values')\n",
    "plt.plot(preds_len,preds,'r--',label='Predicts')\n",
    "plt.legend()"
   ]
  },
  {
   "cell_type": "markdown",
   "metadata": {
    "id": "x-CCiRv1Mias"
   },
   "source": [
    "## Submission Generation"
   ]
  },
  {
   "cell_type": "markdown",
   "metadata": {
    "id": "tYtIDxev6ave"
   },
   "source": [
    "Here some different models for Submit Generation are tried. The first One works with a Expanded Window Training Set."
   ]
  },
  {
   "cell_type": "code",
   "execution_count": null,
   "metadata": {
    "id": "b1Y2kRnDLxG3"
   },
   "outputs": [],
   "source": [
    "def WF_submit_gen(full_data,full_label,WF,input_shape,batch_size):\n",
    "  # Get Data of Wind Farm\n",
    "  X_WF = full_data[full_data['WF']==WF]\n",
    "\n",
    "  full_X_train = X_WF[X_WF['Set']=='Train']\n",
    "  full_X_test = X_WF[X_WF['Set']=='Test']\n",
    "  full_y_train = full_label[full_label['ID'].isin(full_X_train['ID'])]\n",
    "\n",
    "  # Months Loop\n",
    "  WF_preds = pd.DataFrame(columns=['Production'])\n",
    "  predicted_X_test = pd.DataFrame(columns=full_X_train.columns)\n",
    "  predicted_X_test.index.names = ['Time']\n",
    "  for month in full_X_test['Month_Number'].unique():\n",
    "\n",
    "    print(\"Farm {} - Month {}\".format(WF,month))\n",
    "\n",
    "    # Special Condition for Month 10\n",
    "    if month == 9:\n",
    "      X_test = full_X_test[full_X_test['Month_Number']==month]\n",
    "      X_test_10 = full_X_test[full_X_test['Month_Number']==10]\n",
    "      X_test_pure = pd.concat([X_test,X_test_10])\n",
    "    else:\n",
    "      X_test_pure = full_X_test[full_X_test['Month_Number']==month]\n",
    "\n",
    "    if month == 10:\n",
    "      continue\n",
    "\n",
    "    # Append Data Already Predicted\n",
    "    X_train = pd.concat([full_X_train,predicted_X_test])\n",
    "    y_train = pd.concat([full_y_train,WF_preds])\n",
    "\n",
    "    # Split Train Data on Train and Validation Set\n",
    "    X_train, X_val, y_train, y_val = train_test_split(X_train, y_train, test_size=0.2, shuffle=False)\n",
    "\n",
    "    # Preprocessing Data\n",
    "    X_train = preprocessing_X(X_train)\n",
    "    X_val = preprocessing_X(X_val)\n",
    "    X_test = preprocessing_X(X_test_pure)\n",
    "\n",
    "    # Shift-Save on X_test\n",
    "    X_test = shift_save(X_test,n_steps)\n",
    "\n",
    "    X_train = X_train.drop(['ID','WF','Set','Month_Number'],axis=1)\n",
    "    X_val = X_val.drop(['ID','WF','Set','Month_Number'],axis=1)\n",
    "    X_test = X_test.drop(['ID','WF','Set','Month_Number'],axis=1)\n",
    "\n",
    "    y_train,scaler_y = preprocessing_y(y_train)\n",
    "    y_val,_ = preprocessing_y(y_val)\n",
    "\n",
    "    # Subset Creation \n",
    "\n",
    "    X_train, y_train = split_sequences(X_train.values,y_train.values,n_steps)\n",
    "    X_val, y_val = split_sequences(X_val.values,y_val.values,n_steps)\n",
    "    X_test, _ = split_sequences(X_test.values,None,n_steps)\n",
    "\n",
    "    # Model Creation and Training\n",
    "    model = LSTM_Model_2(input_shape,batch_size=batch_size)\n",
    "    callbacks_list = [tf.keras.callbacks.EarlyStopping(monitor=monitor, patience=patience, verbose=0, min_delta=1e-8)]\n",
    "    model.compile(optimizer='adam', loss='mse', metrics=[tf.keras.metrics.RootMeanSquaredError()])\n",
    "    model.fit(x = X_train, y = y_train, batch_size = batch_size, epochs = epochs, validation_data = (X_val, y_val), callbacks=callbacks_list,shuffle=False)\n",
    "\n",
    "    # Prediction Generation\n",
    "    pred = model.predict(X_test,batch_size = batch_size,callbacks=callbacks_list)\n",
    "    pred = pred.reshape(pred.shape[0])\n",
    "    pred = pd.DataFrame(pred,columns=['Production'])\n",
    "\n",
    "    # Save Predictions on Final Array\n",
    "    predicted_X_test = pd.concat([predicted_X_test,X_test_pure])\n",
    "\n",
    "    pred = scaler_y.inverse_transform(pred)\n",
    "    pred = pd.DataFrame(pred,columns=['Production'])\n",
    "    WF_preds = pd.concat([WF_preds,pred])\n",
    "\n",
    "  #WF_preds = scaler_y.inverse_transform(pd.DataFrame(WF_preds))\n",
    "  #WF_preds = pd.DataFrame(WF_preds,columns=['Production'])\n",
    "\n",
    "  return WF_preds"
   ]
  },
  {
   "cell_type": "markdown",
   "metadata": {
    "id": "x1_odnSc6lLx"
   },
   "source": [
    "Here a Direct Submission Model is created. In other words, All the training data is used to forecast all the Test Data at once."
   ]
  },
  {
   "cell_type": "code",
   "execution_count": null,
   "metadata": {
    "id": "HZxI1nocllLd"
   },
   "outputs": [],
   "source": [
    "def WF_submit_gen_3(full_data,full_label,WF,input_shape,batch_size):\n",
    "  # Get Data of Wind Farm\n",
    "  X_WF = full_data[full_data['WF']==WF]\n",
    "\n",
    "  # Scale X Data\n",
    "  X_WF = preprocessing_X(X_WF)\n",
    "\n",
    "  full_X_train = X_WF[X_WF['Set']=='Train']\n",
    "  full_X_test = X_WF[X_WF['Set']=='Test']\n",
    "  full_y_train = full_label[full_label['ID'].isin(full_X_train['ID'])]\n",
    "\n",
    "  # Scale y_train\n",
    "  full_y_train,scaler_y = preprocessing_y(full_y_train)\n",
    "\n",
    "  # Subsets Generation\n",
    "  full_X_train = full_X_train.drop(['ID','WF','Set'],axis=1)\n",
    "  full_X_train, full_y_train = split_sequences(full_X_train.values,full_y_train.values,n_steps)\n",
    "\n",
    "  full_X_test_split = full_X_test.drop(['ID','WF','Set'],axis=1)\n",
    "  full_X_test_split = shift_save(full_X_test_split,n_steps)\n",
    "  full_X_test_split, _ = split_sequences(full_X_test_split.values,None,n_steps)\n",
    "\n",
    "  # Split Train Data on Train and Validation Set\n",
    "  X_train, X_val, y_train, y_val = train_test_split(full_X_train, full_y_train, test_size=0.3, shuffle=False)\n",
    "\n",
    "  # Model Creation and Training\n",
    "  model = LSTM_Model(input_shape,batch_size=batch_size)\n",
    "  callbacks_list = [tf.keras.callbacks.EarlyStopping(monitor=monitor, patience=patience, verbose=0, min_delta=1e-8)]\n",
    "  model.compile(optimizer='adam', loss='mse', metrics=[tf.keras.metrics.RootMeanSquaredError()])\n",
    "  model.fit(x = X_train, y = y_train, batch_size = batch_size, epochs = epochs, validation_data = (X_val, y_val), callbacks=callbacks_list,shuffle=False)\n",
    "\n",
    "  # Prediction Generation\n",
    "  pred = model.predict(full_X_test_split,batch_size = batch_size,callbacks=callbacks_list)\n",
    "  pred = pred.reshape(pred.shape[0])\n",
    "\n",
    "  WF_preds = scaler_y.inverse_transform(pd.DataFrame(pred))\n",
    "  WF_preds = pd.DataFrame(WF_preds,columns=['Production'])\n",
    "\n",
    "  return WF_preds"
   ]
  },
  {
   "cell_type": "markdown",
   "metadata": {},
   "source": [
    "Here, a model is created with Rolling Window on Training Data, instead of Expanded Window. This model is less expensive in processing."
   ]
  },
  {
   "cell_type": "code",
   "execution_count": null,
   "metadata": {},
   "outputs": [],
   "source": [
    "def WF_submit_gen_4(full_data,full_label,WF,input_shape,batch_size,n_months):\n",
    "  # Get Data of Wind Farm\n",
    "  X_WF = full_data[full_data['WF']==WF]\n",
    "\n",
    "  full_X_train = X_WF[X_WF['Set']=='Train']\n",
    "  full_X_test = X_WF[X_WF['Set']=='Test']\n",
    "  full_y_train = full_label[full_label['ID'].isin(full_X_train['ID'])]\n",
    "\n",
    "  # Months Loop\n",
    "  WF_preds = pd.DataFrame(columns=['Production'])\n",
    "  predicted_X_test = pd.DataFrame(columns=full_X_train.columns)\n",
    "  predicted_X_test.index.names = ['Time']\n",
    "  for month in full_X_test['Month_Number'].unique():\n",
    "\n",
    "    print(\"Farm {} - Month {}\".format(WF,month))\n",
    "\n",
    "    # Special Condition for Month 10\n",
    "    if month == 9:\n",
    "      X_test = full_X_test[full_X_test['Month_Number']==month]\n",
    "      X_test_10 = full_X_test[full_X_test['Month_Number']==10]\n",
    "      X_test_pure = pd.concat([X_test,X_test_10])\n",
    "    else:\n",
    "      X_test_pure = full_X_test[full_X_test['Month_Number']==month]\n",
    "\n",
    "    if month == 10:\n",
    "      continue\n",
    "\n",
    "    # Append Data Already Predicted\n",
    "    X_train = pd.concat([full_X_train,predicted_X_test])\n",
    "    y_train = pd.concat([full_y_train,WF_preds])\n",
    "    \n",
    "    X_train = X_train[X_train['Month_Number'].isin(X_train['Month_Number'].unique()[-n_months:])]\n",
    "    y_train  = y_train.iloc[-X_train.shape[0]:]\n",
    "\n",
    "    # Split Train Data on Train and Validation Set\n",
    "    X_train, X_val, y_train, y_val = train_test_split(X_train, y_train, test_size=0.2, shuffle=False)\n",
    "\n",
    "    # Preprocessing Data\n",
    "    X_train = preprocessing_X(X_train)\n",
    "    X_val = preprocessing_X(X_val)\n",
    "    X_test = preprocessing_X(X_test_pure)\n",
    "\n",
    "    # Shift-Save on X_test\n",
    "    X_test = shift_save(X_test,n_steps)\n",
    "\n",
    "    X_train = X_train.drop(['ID','WF','Set','Month_Number'],axis=1)\n",
    "    X_val = X_val.drop(['ID','WF','Set','Month_Number'],axis=1)\n",
    "    X_test = X_test.drop(['ID','WF','Set','Month_Number'],axis=1)\n",
    "\n",
    "    y_train,scaler_y = preprocessing_y(y_train)\n",
    "    y_val,_ = preprocessing_y(y_val)\n",
    "\n",
    "    # Subset Creation \n",
    "\n",
    "    X_train, y_train = split_sequences(X_train.values,y_train.values,n_steps)\n",
    "    X_val, y_val = split_sequences(X_val.values,y_val.values,n_steps)\n",
    "    X_test, _ = split_sequences(X_test.values,None,n_steps)\n",
    "\n",
    "    # Model Creation and Training\n",
    "    model = LSTM_Model(input_shape,batch_size=batch_size)\n",
    "    callbacks_list = [tf.keras.callbacks.EarlyStopping(monitor=monitor, patience=patience, verbose=0, min_delta=1e-8)]\n",
    "    model.compile(optimizer='adam', loss='mse', metrics=[tf.keras.metrics.RootMeanSquaredError()])\n",
    "    model.fit(x = X_train, y = y_train, batch_size = batch_size, epochs = epochs, validation_data = (X_val, y_val), callbacks=callbacks_list,shuffle=False)\n",
    "\n",
    "    # Prediction Generation\n",
    "    pred = model.predict(X_test,batch_size = batch_size,callbacks=callbacks_list)\n",
    "    pred = pred.reshape(pred.shape[0])\n",
    "    pred = pd.DataFrame(pred,columns=['Production'])\n",
    "\n",
    "    # Save Predictions on Final Array\n",
    "    predicted_X_test = pd.concat([predicted_X_test,X_test_pure])\n",
    "\n",
    "    pred = scaler_y.inverse_transform(pred)\n",
    "    pred = pd.DataFrame(pred,columns=['Production'])\n",
    "    WF_preds = pd.concat([WF_preds,pred])\n",
    "\n",
    "  return WF_preds"
   ]
  },
  {
   "cell_type": "code",
   "execution_count": null,
   "metadata": {},
   "outputs": [],
   "source": [
    "def WF_submit_gen_5(full_data,full_label,WF,input_shape,batch_size):\n",
    "  # Get Data of Wind Farm\n",
    "  X_WF = full_data[full_data['WF']==WF]\n",
    "\n",
    "  full_X_train = X_WF[X_WF['Set']=='Train']\n",
    "  full_X_test = X_WF[X_WF['Set']=='Test']\n",
    "  full_y_train = full_label[full_label['ID'].isin(full_X_train['ID'])]\n",
    "\n",
    "  X_train, X_val, y_train, y_val = train_test_split(full_X_train, full_y_train, test_size=0.2, shuffle=False)\n",
    "    \n",
    "  # Preprocessing Data\n",
    "  X_train = preprocessing_X(X_train)\n",
    "  X_val = preprocessing_X(X_val)\n",
    "\n",
    "  X_train = X_train.drop(['ID','WF','Set','Month_Number'],axis=1)\n",
    "  X_val = X_val.drop(['ID','WF','Set','Month_Number'],axis=1)\n",
    "\n",
    "  y_train,scaler_y = preprocessing_y(y_train)\n",
    "  y_val,_ = preprocessing_y(y_val)\n",
    "\n",
    "  # Subset Creation \n",
    "\n",
    "  X_train, y_train = split_sequences(X_train.values,y_train.values,n_steps)\n",
    "  X_val, y_val = split_sequences(X_val.values,y_val.values,n_steps)\n",
    "\n",
    "  model = LSTM_Model(input_shape,batch_size=batch_size)\n",
    "  callbacks_list = [tf.keras.callbacks.EarlyStopping(monitor=monitor, patience=patience, verbose=0, min_delta=1e-8)]\n",
    "  model.compile(optimizer='adam', loss='mse', metrics=[tf.keras.metrics.RootMeanSquaredError()])\n",
    "  model.fit(x = X_train, y = y_train, batch_size = batch_size, epochs = epochs, validation_data = (X_val, y_val), callbacks=callbacks_list,shuffle=False)\n",
    "\n",
    "\n",
    "  # Months Loop\n",
    "  WF_preds = pd.DataFrame(columns=['Production'])\n",
    "  for month in full_X_test['Month_Number'].unique():\n",
    "\n",
    "    print(\"Farm {} - Month {}\".format(WF,month))\n",
    "\n",
    "    # Special Condition for Month 10\n",
    "    if month == 9:\n",
    "      X_test = full_X_test[full_X_test['Month_Number']==month]\n",
    "      X_test_10 = full_X_test[full_X_test['Month_Number']==10]\n",
    "      X_test_pure = pd.concat([X_test,X_test_10])\n",
    "    else:\n",
    "      X_test_pure = full_X_test[full_X_test['Month_Number']==month]\n",
    "\n",
    "    if month == 10:\n",
    "      continue\n",
    "\n",
    "    # Preprocessing Data\n",
    "    X_test = preprocessing_X(X_test_pure)\n",
    "\n",
    "    # Shift-Save on X_test\n",
    "    X_test = shift_save(X_test,n_steps)\n",
    "\n",
    "    X_test = X_test.drop(['ID','WF','Set','Month_Number'],axis=1)\n",
    "\n",
    "    # Subset Creation \n",
    "    X_test, _ = split_sequences(X_test.values,None,n_steps)\n",
    "\n",
    "    # Prediction Generation\n",
    "    pred = model.predict(X_test,batch_size = batch_size,callbacks=callbacks_list)\n",
    "    pred = pred.reshape(pred.shape[0])\n",
    "    pred = pd.DataFrame(pred,columns=['Production'])\n",
    "    \n",
    "    # Retrain with Predicted Data\n",
    "    model.fit(x = X_test, y = pred, batch_size = batch_size, epochs = epochs,shuffle=False)\n",
    "\n",
    "    pred = scaler_y.inverse_transform(pred)\n",
    "    pred = pd.DataFrame(pred,columns=['Production'])\n",
    "    WF_preds = pd.concat([WF_preds,pred])\n",
    "\n",
    "  #WF_preds = scaler_y.inverse_transform(pd.DataFrame(WF_preds))\n",
    "  #WF_preds = pd.DataFrame(WF_preds,columns=['Production'])\n",
    "\n",
    "  return WF_preds"
   ]
  },
  {
   "cell_type": "markdown",
   "metadata": {},
   "source": [
    "Here, the Submission Generation Model is applied to each Wind Farm."
   ]
  },
  {
   "cell_type": "code",
   "execution_count": null,
   "metadata": {
    "colab": {
     "base_uri": "https://localhost:8080/",
     "height": 1000
    },
    "id": "lhdQ4elWhebU",
    "outputId": "172afb1f-5211-4800-dfef-c8b995a834d4"
   },
   "outputs": [],
   "source": [
    "final_preds = pd.DataFrame()\n",
    "for WF in full_data['WF'].unique():\n",
    "  WF_preds = WF_submit_gen_5(full_data,full_label,WF,input_shape,batch_size)\n",
    "  final_preds = final_preds.append(WF_preds)"
   ]
  },
  {
   "cell_type": "markdown",
   "metadata": {},
   "source": [
    "Finally the Submit File is created, and a Final Plot of the Submission is done."
   ]
  },
  {
   "cell_type": "code",
   "execution_count": null,
   "metadata": {
    "id": "bu6q2KZZNR3U"
   },
   "outputs": [],
   "source": [
    "final_preds = final_preds.reset_index().drop('index',axis=1)\n",
    "final_preds['ID'] = pd.read_csv(r'C:\\Users\\andre_\\OneDrive\\Documentos\\GitHub\\cnr\\Data\\random_submission_example.csv')['ID']\n",
    "final_preds = final_preds.set_index('ID')"
   ]
  },
  {
   "cell_type": "code",
   "execution_count": null,
   "metadata": {
    "colab": {
     "base_uri": "https://localhost:8080/",
     "height": 450
    },
    "id": "XGnL_N8tNGlT",
    "outputId": "d6645a7c-8058-4c69-bace-603bf7c09781"
   },
   "outputs": [],
   "source": [
    "final_preds"
   ]
  },
  {
   "cell_type": "code",
   "execution_count": null,
   "metadata": {
    "colab": {
     "base_uri": "https://localhost:8080/",
     "height": 282
    },
    "id": "8XMZasjfNVhk",
    "outputId": "0e361a7b-acf7-438f-d7f9-7a68555b62f2"
   },
   "outputs": [],
   "source": [
    "plt.plot(final_preds.index,final_preds['Production'])"
   ]
  },
  {
   "cell_type": "code",
   "execution_count": null,
   "metadata": {
    "id": "UvmNmz_tNXPm"
   },
   "outputs": [],
   "source": [
    "final_preds.to_csv('Submission_LSTM.csv')"
   ]
  },
  {
   "cell_type": "code",
   "execution_count": null,
   "metadata": {},
   "outputs": [],
   "source": []
  }
 ],
 "metadata": {
  "accelerator": "GPU",
  "colab": {
   "include_colab_link": true,
   "name": "modelling_lstm_colab.ipynb",
   "provenance": [],
   "toc_visible": true
  },
  "kernelspec": {
   "display_name": "Python 3",
   "language": "python",
   "name": "python3"
  },
  "language_info": {
   "codemirror_mode": {
    "name": "ipython",
    "version": 3
   },
   "file_extension": ".py",
   "mimetype": "text/x-python",
   "name": "python",
   "nbconvert_exporter": "python",
   "pygments_lexer": "ipython3",
   "version": "3.8.5"
  }
 },
 "nbformat": 4,
 "nbformat_minor": 1
}
