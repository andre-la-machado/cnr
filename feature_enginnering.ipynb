{
 "cells": [
  {
   "cell_type": "markdown",
   "metadata": {},
   "source": [
    "# Feature Engineering"
   ]
  },
  {
   "cell_type": "markdown",
   "metadata": {},
   "source": [
    "## Libraries"
   ]
  },
  {
   "cell_type": "code",
   "execution_count": 1,
   "metadata": {},
   "outputs": [],
   "source": [
    "import numpy as np\n",
    "import pandas as pd\n",
    "from cnr_methods import get_simplified_data, transform_data\n",
    "\n",
    "# Feature Engineering Library for Time Series\n",
    "from tsfresh import extract_features\n",
    "from tsfresh.utilities.dataframe_functions import make_forecasting_frame\n",
    "from tsfresh.utilities.dataframe_functions import impute\n",
    "from tsfresh.feature_selection.relevance import calculate_relevance_table\n",
    "\n",
    "# Feature Selection Libraries\n",
    "from lofo import LOFOImportance, Dataset, plot_importance\n",
    "from sklearn.model_selection import TimeSeriesSplit\n",
    "from sklearn.metrics import make_scorer, mean_absolute_error\n",
    "import xgboost as xgb"
   ]
  },
  {
   "cell_type": "markdown",
   "metadata": {},
   "source": [
    "## Read Data"
   ]
  },
  {
   "cell_type": "markdown",
   "metadata": {},
   "source": [
    "For this pipeline, only Training Set will be used."
   ]
  },
  {
   "cell_type": "code",
   "execution_count": 2,
   "metadata": {},
   "outputs": [],
   "source": [
    "full_data = get_simplified_data()\n",
    "full_data = full_data[full_data['Set']=='Train']\n",
    "y_train = pd.read_csv('Y_train.csv')"
   ]
  },
  {
   "cell_type": "markdown",
   "metadata": {},
   "source": [
    "As done in the other Notebooks, we will transform the Column 'Time' to Datetime format and set as the index of the dataset."
   ]
  },
  {
   "cell_type": "code",
   "execution_count": 3,
   "metadata": {},
   "outputs": [],
   "source": [
    "full_data['Time'] = pd.to_datetime(full_data['Time'],dayfirst=True)\n",
    "full_data = full_data.set_index('Time')"
   ]
  },
  {
   "cell_type": "code",
   "execution_count": 4,
   "metadata": {},
   "outputs": [
    {
     "output_type": "execute_result",
     "data": {
      "text/plain": "                     ID   WF    U_100m    V_100m     U_10m     V_10m        T  \\\nTime                                                                            \n2018-05-01 01:00:00   1  WF1 -2.248500 -3.257800  1.254603 -0.289687  286.440   \n2018-05-01 02:00:00   2  WF1 -2.434500 -1.446100  2.490908 -0.413370  286.260   \n2018-05-01 03:00:00   3  WF1 -1.220571 -0.266871  0.997093 -1.415138  286.575   \n2018-05-01 04:00:00   4  WF1  3.706500 -6.217400  0.689598 -0.961441  284.780   \n2018-05-01 05:00:00   5  WF1  3.813400 -5.444600  0.290994 -0.294963  284.460   \n\n                          CLCT    Set  \nTime                                   \n2018-05-01 01:00:00  82.543144  Train  \n2018-05-01 02:00:00  99.990844  Train  \n2018-05-01 03:00:00  98.367235  Train  \n2018-05-01 04:00:00  94.860604  Train  \n2018-05-01 05:00:00  95.905879  Train  ",
      "text/html": "<div>\n<style scoped>\n    .dataframe tbody tr th:only-of-type {\n        vertical-align: middle;\n    }\n\n    .dataframe tbody tr th {\n        vertical-align: top;\n    }\n\n    .dataframe thead th {\n        text-align: right;\n    }\n</style>\n<table border=\"1\" class=\"dataframe\">\n  <thead>\n    <tr style=\"text-align: right;\">\n      <th></th>\n      <th>ID</th>\n      <th>WF</th>\n      <th>U_100m</th>\n      <th>V_100m</th>\n      <th>U_10m</th>\n      <th>V_10m</th>\n      <th>T</th>\n      <th>CLCT</th>\n      <th>Set</th>\n    </tr>\n    <tr>\n      <th>Time</th>\n      <th></th>\n      <th></th>\n      <th></th>\n      <th></th>\n      <th></th>\n      <th></th>\n      <th></th>\n      <th></th>\n      <th></th>\n    </tr>\n  </thead>\n  <tbody>\n    <tr>\n      <th>2018-05-01 01:00:00</th>\n      <td>1</td>\n      <td>WF1</td>\n      <td>-2.248500</td>\n      <td>-3.257800</td>\n      <td>1.254603</td>\n      <td>-0.289687</td>\n      <td>286.440</td>\n      <td>82.543144</td>\n      <td>Train</td>\n    </tr>\n    <tr>\n      <th>2018-05-01 02:00:00</th>\n      <td>2</td>\n      <td>WF1</td>\n      <td>-2.434500</td>\n      <td>-1.446100</td>\n      <td>2.490908</td>\n      <td>-0.413370</td>\n      <td>286.260</td>\n      <td>99.990844</td>\n      <td>Train</td>\n    </tr>\n    <tr>\n      <th>2018-05-01 03:00:00</th>\n      <td>3</td>\n      <td>WF1</td>\n      <td>-1.220571</td>\n      <td>-0.266871</td>\n      <td>0.997093</td>\n      <td>-1.415138</td>\n      <td>286.575</td>\n      <td>98.367235</td>\n      <td>Train</td>\n    </tr>\n    <tr>\n      <th>2018-05-01 04:00:00</th>\n      <td>4</td>\n      <td>WF1</td>\n      <td>3.706500</td>\n      <td>-6.217400</td>\n      <td>0.689598</td>\n      <td>-0.961441</td>\n      <td>284.780</td>\n      <td>94.860604</td>\n      <td>Train</td>\n    </tr>\n    <tr>\n      <th>2018-05-01 05:00:00</th>\n      <td>5</td>\n      <td>WF1</td>\n      <td>3.813400</td>\n      <td>-5.444600</td>\n      <td>0.290994</td>\n      <td>-0.294963</td>\n      <td>284.460</td>\n      <td>95.905879</td>\n      <td>Train</td>\n    </tr>\n  </tbody>\n</table>\n</div>"
     },
     "metadata": {},
     "execution_count": 4
    }
   ],
   "source": [
    "full_data.head()"
   ]
  },
  {
   "cell_type": "markdown",
   "metadata": {},
   "source": [
    "To simplify the work, we will generate features for just one Wind Farm. When doing modelling, the features, as the models, will be generated for all Wind Farms separately."
   ]
  },
  {
   "cell_type": "code",
   "execution_count": 5,
   "metadata": {},
   "outputs": [],
   "source": [
    "WF = 'WF1'\n",
    "data = full_data[full_data['WF']==WF]\n",
    "y_train = y_train[y_train['ID'].isin(data['ID'])]"
   ]
  },
  {
   "cell_type": "markdown",
   "metadata": {},
   "source": [
    "## Feature Creation"
   ]
  },
  {
   "cell_type": "markdown",
   "metadata": {},
   "source": [
    "### Wind Speed Vector"
   ]
  },
  {
   "cell_type": "code",
   "execution_count": 6,
   "metadata": {},
   "outputs": [],
   "source": [
    "feature_data = data[['ID','WF','U_100m','V_100m','U_10m','V_10m','T','CLCT','Set']]\n",
    "feature_data['Wind Speed 100m'] = np.sqrt(feature_data['U_100m']**2 + feature_data['V_100m']**2)\n",
    "feature_data['Wind Direction 100m'] = np.arctan(feature_data['V_100m']/feature_data['U_100m'])\n",
    "feature_data['Wind Speed 10m'] = np.sqrt(feature_data['U_10m']**2 + feature_data['V_10m']**2)\n",
    "feature_data['Wind Direction 10m'] = np.arctan(feature_data['V_10m']/feature_data['U_10m'])\n",
    "feature_data = feature_data.drop(['U_100m','V_100m','U_10m','V_10m'],axis=1)"
   ]
  },
  {
   "cell_type": "markdown",
   "metadata": {},
   "source": [
    "Changing Reference for Negative Angles:"
   ]
  },
  {
   "cell_type": "code",
   "execution_count": 7,
   "metadata": {},
   "outputs": [],
   "source": [
    "feature_data['Wind Direction 100m'] = feature_data['Wind Direction 100m'].apply(lambda x: 360 + x if x < 0 else x)\n",
    "feature_data['Wind Direction 10m'] = feature_data['Wind Direction 10m'].apply(lambda x: 360 + x if x < 0 else x)"
   ]
  },
  {
   "cell_type": "markdown",
   "metadata": {},
   "source": [
    "Using Wind Speed and Direction instead of U and V, we will create some variables over the Numerical Variables from the simplified data."
   ]
  },
  {
   "cell_type": "code",
   "execution_count": 8,
   "metadata": {},
   "outputs": [],
   "source": [
    "feature_data[feature_data['Wind Direction 100m'] < 0]['Wind Direction 100m'] = 360 - feature_data[feature_data['Wind Direction 100m'] < 0]['Wind Direction 100m']"
   ]
  },
  {
   "cell_type": "code",
   "execution_count": 9,
   "metadata": {},
   "outputs": [],
   "source": [
    "features = ['T', 'CLCT', 'Wind Speed 100m','Wind Direction 100m', 'Wind Speed 10m', 'Wind Direction 10m']"
   ]
  },
  {
   "cell_type": "markdown",
   "metadata": {},
   "source": [
    "### Time-Relative Variables"
   ]
  },
  {
   "cell_type": "markdown",
   "metadata": {},
   "source": [
    "Here, we get Values for Last Week and Month for each Numerical Feature."
   ]
  },
  {
   "cell_type": "code",
   "execution_count": 10,
   "metadata": {},
   "outputs": [],
   "source": [
    "for column in features:\n",
    "    feature_data[column + '_last_week'] = feature_data[column].shift(7)\n",
    "    feature_data[column + '_last_month'] = feature_data[column].shift(30)"
   ]
  },
  {
   "cell_type": "markdown",
   "metadata": {},
   "source": [
    "Get the Number of Month:"
   ]
  },
  {
   "cell_type": "code",
   "execution_count": 11,
   "metadata": {},
   "outputs": [],
   "source": [
    "feature_data['Month_Number'] = feature_data.index.month"
   ]
  },
  {
   "cell_type": "markdown",
   "metadata": {},
   "source": [
    "Month Statistics:"
   ]
  },
  {
   "cell_type": "code",
   "execution_count": 12,
   "metadata": {},
   "outputs": [],
   "source": [
    "mean = feature_data.groupby('Month_Number').mean()[features]\n",
    "median = feature_data.groupby('Month_Number').median()[features]\n",
    "variance = feature_data.groupby('Month_Number').var()[features]"
   ]
  },
  {
   "cell_type": "code",
   "execution_count": 13,
   "metadata": {},
   "outputs": [],
   "source": [
    "mean.columns = mean.columns + '_Month_Mean'\n",
    "median.columns = median.columns + '_Month_Median'\n",
    "variance.columns = variance.columns + '_Month_Variance'"
   ]
  },
  {
   "cell_type": "code",
   "execution_count": 14,
   "metadata": {},
   "outputs": [],
   "source": [
    "feature_data = feature_data.merge(mean,on='Month_Number',how='left')\n",
    "feature_data = feature_data.merge(median,on='Month_Number',how='left')\n",
    "feature_data = feature_data.merge(variance,on='Month_Number',how='left')"
   ]
  },
  {
   "cell_type": "code",
   "execution_count": 15,
   "metadata": {},
   "outputs": [],
   "source": [
    "feature_data.index = data.index"
   ]
  },
  {
   "cell_type": "markdown",
   "metadata": {},
   "source": [
    "### Distance from Features"
   ]
  },
  {
   "cell_type": "markdown",
   "metadata": {},
   "source": [
    "Distance of Position of Max and Min (Already on Tsfresh, check it later):"
   ]
  },
  {
   "cell_type": "code",
   "execution_count": 16,
   "metadata": {},
   "outputs": [],
   "source": [
    "for column in features:\n",
    "    feature_data[column + '_Distance_Max'] = feature_data.index - feature_data[column].idxmax()\n",
    "    feature_data[column + '_Distance_Min'] = feature_data.index - feature_data[column].idxmin()\n",
    "    feature_data[column + '_Distance_Max'] = feature_data[column + '_Distance_Max'].apply(lambda x : x.days)\n",
    "    feature_data[column + '_Distance_Min'] = feature_data[column + '_Distance_Min'].apply(lambda x : x.days)"
   ]
  },
  {
   "cell_type": "markdown",
   "metadata": {},
   "source": [
    "### Rolling Window Variables"
   ]
  },
  {
   "cell_type": "markdown",
   "metadata": {},
   "source": [
    "### Wavelet Transformations (Check)"
   ]
  },
  {
   "cell_type": "code",
   "execution_count": 17,
   "metadata": {},
   "outputs": [],
   "source": [
    "feature_data = feature_data.fillna(0)"
   ]
  },
  {
   "cell_type": "markdown",
   "metadata": {},
   "source": [
    "## Tsfresh"
   ]
  },
  {
   "cell_type": "markdown",
   "metadata": {},
   "source": [
    "Now we use Tsfresh, a Python Library that automates Feature Engineering for Time Series Data. We generate new features for all the columns on the Simplified Data, as done below."
   ]
  },
  {
   "cell_type": "code",
   "execution_count": 18,
   "metadata": {},
   "outputs": [],
   "source": [
    "data = data[['ID','WF','U_100m','V_100m','U_10m','V_10m','T','CLCT','Set']]"
   ]
  },
  {
   "cell_type": "code",
   "execution_count": 19,
   "metadata": {},
   "outputs": [
    {
     "output_type": "stream",
     "name": "stderr",
     "text": "Feature Extraction: 100%|██████████| 15/15 [02:28<00:00,  9.89s/it]\nFeature Extraction: 100%|██████████| 15/15 [02:15<00:00,  9.02s/it]\nFeature Extraction: 100%|██████████| 15/15 [02:11<00:00,  8.78s/it]\nFeature Extraction: 100%|██████████| 15/15 [02:11<00:00,  8.76s/it]\nFeature Extraction: 100%|██████████| 15/15 [02:11<00:00,  8.80s/it]\nFeature Extraction: 100%|██████████| 15/15 [01:47<00:00,  7.16s/it]\n"
    }
   ],
   "source": [
    "tsfresh_data = pd.DataFrame()\n",
    "for variable in ['U_100m','V_100m','U_10m','V_10m','T','CLCT']: \n",
    "    df_shift, y = make_forecasting_frame(data[variable],kind=variable,max_timeshift=20,rolling_direction=1)\n",
    "    X = extract_features(df_shift, column_id=\"id\", column_sort=\"time\", column_value=\"value\", impute_function=impute,show_warnings=False,n_jobs=3)\n",
    "    X['Feature'] = variable\n",
    "    tsfresh_data = tsfresh_data.append(X)"
   ]
  },
  {
   "cell_type": "markdown",
   "metadata": {},
   "source": [
    "Process tsfresh_data to pass column 'Features' to the other columns"
   ]
  },
  {
   "cell_type": "code",
   "execution_count": 20,
   "metadata": {},
   "outputs": [],
   "source": [
    "tsfresh_data = tsfresh_data.pivot(columns='Feature')"
   ]
  },
  {
   "cell_type": "code",
   "execution_count": 21,
   "metadata": {},
   "outputs": [],
   "source": [
    "tsfresh_data.columns = tsfresh_data.columns.map('{0[0]}|{0[1]}'.format)"
   ]
  },
  {
   "cell_type": "code",
   "execution_count": 22,
   "metadata": {},
   "outputs": [
    {
     "output_type": "execute_result",
     "data": {
      "text/plain": "                     value__abs_energy|CLCT  value__abs_energy|T  \\\nid                                                                 \n2018-05-01 02:00:00             6813.370572         82047.873600   \n2018-05-01 03:00:00            16811.539518        163992.661200   \n2018-05-01 04:00:00            26487.652359        246117.891825   \n2018-05-01 05:00:00            35486.186521        327217.540225   \n2018-05-01 06:00:00            44684.124127        408135.031825   \n\n                     value__abs_energy|U_100m  value__abs_energy|U_10m  \\\nid                                                                       \n2018-05-01 02:00:00                  5.055752                 1.574030   \n2018-05-01 03:00:00                 10.982542                 7.778652   \n2018-05-01 04:00:00                 12.472335                 8.772845   \n2018-05-01 05:00:00                 26.210477                 9.248391   \n2018-05-01 06:00:00                 40.752497                 9.333069   \n\n                     value__abs_energy|V_100m  value__abs_energy|V_10m  \\\nid                                                                       \n2018-05-01 02:00:00                 10.613261                 0.083919   \n2018-05-01 03:00:00                 12.704466                 0.254793   \n2018-05-01 04:00:00                 12.775686                 2.257409   \n2018-05-01 05:00:00                 51.431749                 3.181777   \n2018-05-01 06:00:00                 81.075418                 3.268781   \n\n                     value__absolute_sum_of_changes|CLCT  \\\nid                                                         \n2018-05-01 02:00:00                             0.000000   \n2018-05-01 03:00:00                            17.447701   \n2018-05-01 04:00:00                            19.071310   \n2018-05-01 05:00:00                            22.577941   \n2018-05-01 06:00:00                            23.623216   \n\n                     value__absolute_sum_of_changes|T  \\\nid                                                      \n2018-05-01 02:00:00                             0.000   \n2018-05-01 03:00:00                             0.180   \n2018-05-01 04:00:00                             0.495   \n2018-05-01 05:00:00                             2.290   \n2018-05-01 06:00:00                             2.610   \n\n                     value__absolute_sum_of_changes|U_100m  \\\nid                                                           \n2018-05-01 02:00:00                               0.000000   \n2018-05-01 03:00:00                               0.186000   \n2018-05-01 04:00:00                               1.399929   \n2018-05-01 05:00:00                               6.327000   \n2018-05-01 06:00:00                               6.433900   \n\n                     value__absolute_sum_of_changes|U_10m  ...  \\\nid                                                         ...   \n2018-05-01 02:00:00                              0.000000  ...   \n2018-05-01 03:00:00                              1.236305  ...   \n2018-05-01 04:00:00                              2.730120  ...   \n2018-05-01 05:00:00                              3.037614  ...   \n2018-05-01 06:00:00                              3.436218  ...   \n\n                     value__variance|U_100m  value__variance|U_10m  \\\nid                                                                   \n2018-05-01 02:00:00                0.000000               0.000000   \n2018-05-01 03:00:00                0.008649               0.382112   \n2018-05-01 04:00:00                0.284984               0.425138   \n2018-05-01 05:00:00                6.250924               0.467797   \n2018-05-01 06:00:00                8.045999               0.556415   \n\n                     value__variance|V_100m  value__variance|V_10m  \\\nid                                                                   \n2018-05-01 02:00:00                0.000000               0.000000   \n2018-05-01 03:00:00                0.820564               0.003824   \n2018-05-01 04:00:00                1.513166               0.253942   \n2018-05-01 05:00:00                5.034489               0.202684   \n2018-05-01 06:00:00                5.149121               0.198239   \n\n                     value__variance_larger_than_standard_deviation|CLCT  \\\nid                                                                         \n2018-05-01 02:00:00                                                0.0     \n2018-05-01 03:00:00                                                1.0     \n2018-05-01 04:00:00                                                1.0     \n2018-05-01 05:00:00                                                1.0     \n2018-05-01 06:00:00                                                1.0     \n\n                     value__variance_larger_than_standard_deviation|T  \\\nid                                                                      \n2018-05-01 02:00:00                                               0.0   \n2018-05-01 03:00:00                                               0.0   \n2018-05-01 04:00:00                                               0.0   \n2018-05-01 05:00:00                                               0.0   \n2018-05-01 06:00:00                                               0.0   \n\n                     value__variance_larger_than_standard_deviation|U_100m  \\\nid                                                                           \n2018-05-01 02:00:00                                                0.0       \n2018-05-01 03:00:00                                                0.0       \n2018-05-01 04:00:00                                                0.0       \n2018-05-01 05:00:00                                                1.0       \n2018-05-01 06:00:00                                                1.0       \n\n                     value__variance_larger_than_standard_deviation|U_10m  \\\nid                                                                          \n2018-05-01 02:00:00                                                0.0      \n2018-05-01 03:00:00                                                0.0      \n2018-05-01 04:00:00                                                0.0      \n2018-05-01 05:00:00                                                0.0      \n2018-05-01 06:00:00                                                0.0      \n\n                     value__variance_larger_than_standard_deviation|V_100m  \\\nid                                                                           \n2018-05-01 02:00:00                                                0.0       \n2018-05-01 03:00:00                                                0.0       \n2018-05-01 04:00:00                                                1.0       \n2018-05-01 05:00:00                                                1.0       \n2018-05-01 06:00:00                                                1.0       \n\n                     value__variance_larger_than_standard_deviation|V_10m  \nid                                                                         \n2018-05-01 02:00:00                                                0.0     \n2018-05-01 03:00:00                                                0.0     \n2018-05-01 04:00:00                                                0.0     \n2018-05-01 05:00:00                                                0.0     \n2018-05-01 06:00:00                                                0.0     \n\n[5 rows x 4536 columns]",
      "text/html": "<div>\n<style scoped>\n    .dataframe tbody tr th:only-of-type {\n        vertical-align: middle;\n    }\n\n    .dataframe tbody tr th {\n        vertical-align: top;\n    }\n\n    .dataframe thead th {\n        text-align: right;\n    }\n</style>\n<table border=\"1\" class=\"dataframe\">\n  <thead>\n    <tr style=\"text-align: right;\">\n      <th></th>\n      <th>value__abs_energy|CLCT</th>\n      <th>value__abs_energy|T</th>\n      <th>value__abs_energy|U_100m</th>\n      <th>value__abs_energy|U_10m</th>\n      <th>value__abs_energy|V_100m</th>\n      <th>value__abs_energy|V_10m</th>\n      <th>value__absolute_sum_of_changes|CLCT</th>\n      <th>value__absolute_sum_of_changes|T</th>\n      <th>value__absolute_sum_of_changes|U_100m</th>\n      <th>value__absolute_sum_of_changes|U_10m</th>\n      <th>...</th>\n      <th>value__variance|U_100m</th>\n      <th>value__variance|U_10m</th>\n      <th>value__variance|V_100m</th>\n      <th>value__variance|V_10m</th>\n      <th>value__variance_larger_than_standard_deviation|CLCT</th>\n      <th>value__variance_larger_than_standard_deviation|T</th>\n      <th>value__variance_larger_than_standard_deviation|U_100m</th>\n      <th>value__variance_larger_than_standard_deviation|U_10m</th>\n      <th>value__variance_larger_than_standard_deviation|V_100m</th>\n      <th>value__variance_larger_than_standard_deviation|V_10m</th>\n    </tr>\n    <tr>\n      <th>id</th>\n      <th></th>\n      <th></th>\n      <th></th>\n      <th></th>\n      <th></th>\n      <th></th>\n      <th></th>\n      <th></th>\n      <th></th>\n      <th></th>\n      <th></th>\n      <th></th>\n      <th></th>\n      <th></th>\n      <th></th>\n      <th></th>\n      <th></th>\n      <th></th>\n      <th></th>\n      <th></th>\n      <th></th>\n    </tr>\n  </thead>\n  <tbody>\n    <tr>\n      <th>2018-05-01 02:00:00</th>\n      <td>6813.370572</td>\n      <td>82047.873600</td>\n      <td>5.055752</td>\n      <td>1.574030</td>\n      <td>10.613261</td>\n      <td>0.083919</td>\n      <td>0.000000</td>\n      <td>0.000</td>\n      <td>0.000000</td>\n      <td>0.000000</td>\n      <td>...</td>\n      <td>0.000000</td>\n      <td>0.000000</td>\n      <td>0.000000</td>\n      <td>0.000000</td>\n      <td>0.0</td>\n      <td>0.0</td>\n      <td>0.0</td>\n      <td>0.0</td>\n      <td>0.0</td>\n      <td>0.0</td>\n    </tr>\n    <tr>\n      <th>2018-05-01 03:00:00</th>\n      <td>16811.539518</td>\n      <td>163992.661200</td>\n      <td>10.982542</td>\n      <td>7.778652</td>\n      <td>12.704466</td>\n      <td>0.254793</td>\n      <td>17.447701</td>\n      <td>0.180</td>\n      <td>0.186000</td>\n      <td>1.236305</td>\n      <td>...</td>\n      <td>0.008649</td>\n      <td>0.382112</td>\n      <td>0.820564</td>\n      <td>0.003824</td>\n      <td>1.0</td>\n      <td>0.0</td>\n      <td>0.0</td>\n      <td>0.0</td>\n      <td>0.0</td>\n      <td>0.0</td>\n    </tr>\n    <tr>\n      <th>2018-05-01 04:00:00</th>\n      <td>26487.652359</td>\n      <td>246117.891825</td>\n      <td>12.472335</td>\n      <td>8.772845</td>\n      <td>12.775686</td>\n      <td>2.257409</td>\n      <td>19.071310</td>\n      <td>0.495</td>\n      <td>1.399929</td>\n      <td>2.730120</td>\n      <td>...</td>\n      <td>0.284984</td>\n      <td>0.425138</td>\n      <td>1.513166</td>\n      <td>0.253942</td>\n      <td>1.0</td>\n      <td>0.0</td>\n      <td>0.0</td>\n      <td>0.0</td>\n      <td>1.0</td>\n      <td>0.0</td>\n    </tr>\n    <tr>\n      <th>2018-05-01 05:00:00</th>\n      <td>35486.186521</td>\n      <td>327217.540225</td>\n      <td>26.210477</td>\n      <td>9.248391</td>\n      <td>51.431749</td>\n      <td>3.181777</td>\n      <td>22.577941</td>\n      <td>2.290</td>\n      <td>6.327000</td>\n      <td>3.037614</td>\n      <td>...</td>\n      <td>6.250924</td>\n      <td>0.467797</td>\n      <td>5.034489</td>\n      <td>0.202684</td>\n      <td>1.0</td>\n      <td>0.0</td>\n      <td>1.0</td>\n      <td>0.0</td>\n      <td>1.0</td>\n      <td>0.0</td>\n    </tr>\n    <tr>\n      <th>2018-05-01 06:00:00</th>\n      <td>44684.124127</td>\n      <td>408135.031825</td>\n      <td>40.752497</td>\n      <td>9.333069</td>\n      <td>81.075418</td>\n      <td>3.268781</td>\n      <td>23.623216</td>\n      <td>2.610</td>\n      <td>6.433900</td>\n      <td>3.436218</td>\n      <td>...</td>\n      <td>8.045999</td>\n      <td>0.556415</td>\n      <td>5.149121</td>\n      <td>0.198239</td>\n      <td>1.0</td>\n      <td>0.0</td>\n      <td>1.0</td>\n      <td>0.0</td>\n      <td>1.0</td>\n      <td>0.0</td>\n    </tr>\n  </tbody>\n</table>\n<p>5 rows × 4536 columns</p>\n</div>"
     },
     "metadata": {},
     "execution_count": 22
    }
   ],
   "source": [
    "tsfresh_data.head()"
   ]
  },
  {
   "cell_type": "code",
   "execution_count": 23,
   "metadata": {},
   "outputs": [],
   "source": [
    "tsfresh_data = tsfresh_data.fillna(0)"
   ]
  },
  {
   "cell_type": "markdown",
   "metadata": {},
   "source": [
    "## Feature Selection"
   ]
  },
  {
   "cell_type": "code",
   "execution_count": 24,
   "metadata": {},
   "outputs": [],
   "source": [
    "final_features = feature_data.merge(tsfresh_data,left_on=feature_data.index,right_on=tsfresh_data.index,how='left')\n",
    "\n",
    "final_features = final_features.merge(y_train,on='ID',how='left')\n",
    "\n",
    "final_features = final_features.rename({'key_0':'Date'},axis=1)"
   ]
  },
  {
   "cell_type": "code",
   "execution_count": 25,
   "metadata": {},
   "outputs": [
    {
     "output_type": "execute_result",
     "data": {
      "text/plain": "                    Date    ID   WF           T       CLCT    Set  \\\n0    2018-05-01 01:00:00     1  WF1  286.440000  82.543144  Train   \n1    2018-05-01 02:00:00     2  WF1  286.260000  99.990844  Train   \n2    2018-05-01 03:00:00     3  WF1  286.575000  98.367235  Train   \n3    2018-05-01 04:00:00     4  WF1  284.780000  94.860604  Train   \n4    2018-05-01 05:00:00     5  WF1  284.460000  95.905879  Train   \n...                  ...   ...  ...         ...        ...    ...   \n6234 2019-01-15 20:00:00  6235  WF1  280.165000   0.000000  Train   \n6235 2019-01-15 21:00:00  6236  WF1  280.748363   0.000000  Train   \n6236 2019-01-15 22:00:00  6237  WF1  279.299000   0.000000  Train   \n6237 2019-01-15 23:00:00  6238  WF1  279.018000   0.020584  Train   \n6238 2019-01-16 00:00:00  6239  WF1  280.212506   0.000000  Train   \n\n      Wind Speed 100m  Wind Direction 100m  Wind Speed 10m  \\\n0            3.958410             0.966685        1.287613   \n1            2.831607             0.535998        2.524975   \n2            1.249405             0.215257        1.731130   \n3            7.238384           358.966787        1.183180   \n4            6.647232           359.040198        0.414344   \n...               ...                  ...             ...   \n6234         7.525992             1.296441        2.413738   \n6235         5.346706             1.295402        2.167850   \n6236         6.292259             1.183191        2.006114   \n6237         5.410301             1.030792        1.874554   \n6238         3.338338             0.759496        1.851320   \n\n      Wind Direction 10m  ...  value__variance|U_10m  value__variance|V_100m  \\\n0             359.773077  ...                    NaN                     NaN   \n1             359.835547  ...               0.000000                0.000000   \n2             359.043004  ...               0.382112                0.820564   \n3             359.051417  ...               0.425138                1.513166   \n4             359.207829  ...               0.467797                5.034489   \n...                  ...  ...                    ...                     ...   \n6234            1.538599  ...               4.120462               18.795947   \n6235            1.435734  ...               3.898628               19.828202   \n6236            1.287960  ...               3.661329               20.771851   \n6237            1.364315  ...               3.259851               19.907168   \n6238            1.346804  ...               2.628633               20.460651   \n\n      value__variance|V_10m  \\\n0                       NaN   \n1                  0.000000   \n2                  0.003824   \n3                  0.253942   \n4                  0.202684   \n...                     ...   \n6234               5.645028   \n6235               6.997559   \n6236               8.200948   \n6237               9.210740   \n6238               9.944538   \n\n      value__variance_larger_than_standard_deviation|CLCT  \\\n0                                                   NaN     \n1                                                   0.0     \n2                                                   1.0     \n3                                                   1.0     \n4                                                   1.0     \n...                                                 ...     \n6234                                                0.0     \n6235                                                0.0     \n6236                                                0.0     \n6237                                                0.0     \n6238                                                0.0     \n\n      value__variance_larger_than_standard_deviation|T  \\\n0                                                  NaN   \n1                                                  0.0   \n2                                                  0.0   \n3                                                  0.0   \n4                                                  0.0   \n...                                                ...   \n6234                                               1.0   \n6235                                               1.0   \n6236                                               1.0   \n6237                                               1.0   \n6238                                               1.0   \n\n      value__variance_larger_than_standard_deviation|U_100m  \\\n0                                                   NaN       \n1                                                   0.0       \n2                                                   0.0       \n3                                                   0.0       \n4                                                   1.0       \n...                                                 ...       \n6234                                                1.0       \n6235                                                1.0       \n6236                                                1.0       \n6237                                                1.0       \n6238                                                1.0       \n\n      value__variance_larger_than_standard_deviation|U_10m  \\\n0                                                   NaN      \n1                                                   0.0      \n2                                                   0.0      \n3                                                   0.0      \n4                                                   0.0      \n...                                                 ...      \n6234                                                1.0      \n6235                                                1.0      \n6236                                                1.0      \n6237                                                1.0      \n6238                                                1.0      \n\n      value__variance_larger_than_standard_deviation|V_100m  \\\n0                                                   NaN       \n1                                                   0.0       \n2                                                   0.0       \n3                                                   1.0       \n4                                                   1.0       \n...                                                 ...       \n6234                                                1.0       \n6235                                                1.0       \n6236                                                1.0       \n6237                                                1.0       \n6238                                                1.0       \n\n      value__variance_larger_than_standard_deviation|V_10m  Production  \n0                                                   NaN           0.02  \n1                                                   0.0           0.07  \n2                                                   0.0           0.22  \n3                                                   0.0           0.39  \n4                                                   0.0           0.41  \n...                                                 ...            ...  \n6234                                                1.0           0.45  \n6235                                                1.0           0.54  \n6236                                                1.0           0.05  \n6237                                                1.0           0.04  \n6238                                                1.0           0.05  \n\n[6239 rows x 4590 columns]",
      "text/html": "<div>\n<style scoped>\n    .dataframe tbody tr th:only-of-type {\n        vertical-align: middle;\n    }\n\n    .dataframe tbody tr th {\n        vertical-align: top;\n    }\n\n    .dataframe thead th {\n        text-align: right;\n    }\n</style>\n<table border=\"1\" class=\"dataframe\">\n  <thead>\n    <tr style=\"text-align: right;\">\n      <th></th>\n      <th>Date</th>\n      <th>ID</th>\n      <th>WF</th>\n      <th>T</th>\n      <th>CLCT</th>\n      <th>Set</th>\n      <th>Wind Speed 100m</th>\n      <th>Wind Direction 100m</th>\n      <th>Wind Speed 10m</th>\n      <th>Wind Direction 10m</th>\n      <th>...</th>\n      <th>value__variance|U_10m</th>\n      <th>value__variance|V_100m</th>\n      <th>value__variance|V_10m</th>\n      <th>value__variance_larger_than_standard_deviation|CLCT</th>\n      <th>value__variance_larger_than_standard_deviation|T</th>\n      <th>value__variance_larger_than_standard_deviation|U_100m</th>\n      <th>value__variance_larger_than_standard_deviation|U_10m</th>\n      <th>value__variance_larger_than_standard_deviation|V_100m</th>\n      <th>value__variance_larger_than_standard_deviation|V_10m</th>\n      <th>Production</th>\n    </tr>\n  </thead>\n  <tbody>\n    <tr>\n      <th>0</th>\n      <td>2018-05-01 01:00:00</td>\n      <td>1</td>\n      <td>WF1</td>\n      <td>286.440000</td>\n      <td>82.543144</td>\n      <td>Train</td>\n      <td>3.958410</td>\n      <td>0.966685</td>\n      <td>1.287613</td>\n      <td>359.773077</td>\n      <td>...</td>\n      <td>NaN</td>\n      <td>NaN</td>\n      <td>NaN</td>\n      <td>NaN</td>\n      <td>NaN</td>\n      <td>NaN</td>\n      <td>NaN</td>\n      <td>NaN</td>\n      <td>NaN</td>\n      <td>0.02</td>\n    </tr>\n    <tr>\n      <th>1</th>\n      <td>2018-05-01 02:00:00</td>\n      <td>2</td>\n      <td>WF1</td>\n      <td>286.260000</td>\n      <td>99.990844</td>\n      <td>Train</td>\n      <td>2.831607</td>\n      <td>0.535998</td>\n      <td>2.524975</td>\n      <td>359.835547</td>\n      <td>...</td>\n      <td>0.000000</td>\n      <td>0.000000</td>\n      <td>0.000000</td>\n      <td>0.0</td>\n      <td>0.0</td>\n      <td>0.0</td>\n      <td>0.0</td>\n      <td>0.0</td>\n      <td>0.0</td>\n      <td>0.07</td>\n    </tr>\n    <tr>\n      <th>2</th>\n      <td>2018-05-01 03:00:00</td>\n      <td>3</td>\n      <td>WF1</td>\n      <td>286.575000</td>\n      <td>98.367235</td>\n      <td>Train</td>\n      <td>1.249405</td>\n      <td>0.215257</td>\n      <td>1.731130</td>\n      <td>359.043004</td>\n      <td>...</td>\n      <td>0.382112</td>\n      <td>0.820564</td>\n      <td>0.003824</td>\n      <td>1.0</td>\n      <td>0.0</td>\n      <td>0.0</td>\n      <td>0.0</td>\n      <td>0.0</td>\n      <td>0.0</td>\n      <td>0.22</td>\n    </tr>\n    <tr>\n      <th>3</th>\n      <td>2018-05-01 04:00:00</td>\n      <td>4</td>\n      <td>WF1</td>\n      <td>284.780000</td>\n      <td>94.860604</td>\n      <td>Train</td>\n      <td>7.238384</td>\n      <td>358.966787</td>\n      <td>1.183180</td>\n      <td>359.051417</td>\n      <td>...</td>\n      <td>0.425138</td>\n      <td>1.513166</td>\n      <td>0.253942</td>\n      <td>1.0</td>\n      <td>0.0</td>\n      <td>0.0</td>\n      <td>0.0</td>\n      <td>1.0</td>\n      <td>0.0</td>\n      <td>0.39</td>\n    </tr>\n    <tr>\n      <th>4</th>\n      <td>2018-05-01 05:00:00</td>\n      <td>5</td>\n      <td>WF1</td>\n      <td>284.460000</td>\n      <td>95.905879</td>\n      <td>Train</td>\n      <td>6.647232</td>\n      <td>359.040198</td>\n      <td>0.414344</td>\n      <td>359.207829</td>\n      <td>...</td>\n      <td>0.467797</td>\n      <td>5.034489</td>\n      <td>0.202684</td>\n      <td>1.0</td>\n      <td>0.0</td>\n      <td>1.0</td>\n      <td>0.0</td>\n      <td>1.0</td>\n      <td>0.0</td>\n      <td>0.41</td>\n    </tr>\n    <tr>\n      <th>...</th>\n      <td>...</td>\n      <td>...</td>\n      <td>...</td>\n      <td>...</td>\n      <td>...</td>\n      <td>...</td>\n      <td>...</td>\n      <td>...</td>\n      <td>...</td>\n      <td>...</td>\n      <td>...</td>\n      <td>...</td>\n      <td>...</td>\n      <td>...</td>\n      <td>...</td>\n      <td>...</td>\n      <td>...</td>\n      <td>...</td>\n      <td>...</td>\n      <td>...</td>\n      <td>...</td>\n    </tr>\n    <tr>\n      <th>6234</th>\n      <td>2019-01-15 20:00:00</td>\n      <td>6235</td>\n      <td>WF1</td>\n      <td>280.165000</td>\n      <td>0.000000</td>\n      <td>Train</td>\n      <td>7.525992</td>\n      <td>1.296441</td>\n      <td>2.413738</td>\n      <td>1.538599</td>\n      <td>...</td>\n      <td>4.120462</td>\n      <td>18.795947</td>\n      <td>5.645028</td>\n      <td>0.0</td>\n      <td>1.0</td>\n      <td>1.0</td>\n      <td>1.0</td>\n      <td>1.0</td>\n      <td>1.0</td>\n      <td>0.45</td>\n    </tr>\n    <tr>\n      <th>6235</th>\n      <td>2019-01-15 21:00:00</td>\n      <td>6236</td>\n      <td>WF1</td>\n      <td>280.748363</td>\n      <td>0.000000</td>\n      <td>Train</td>\n      <td>5.346706</td>\n      <td>1.295402</td>\n      <td>2.167850</td>\n      <td>1.435734</td>\n      <td>...</td>\n      <td>3.898628</td>\n      <td>19.828202</td>\n      <td>6.997559</td>\n      <td>0.0</td>\n      <td>1.0</td>\n      <td>1.0</td>\n      <td>1.0</td>\n      <td>1.0</td>\n      <td>1.0</td>\n      <td>0.54</td>\n    </tr>\n    <tr>\n      <th>6236</th>\n      <td>2019-01-15 22:00:00</td>\n      <td>6237</td>\n      <td>WF1</td>\n      <td>279.299000</td>\n      <td>0.000000</td>\n      <td>Train</td>\n      <td>6.292259</td>\n      <td>1.183191</td>\n      <td>2.006114</td>\n      <td>1.287960</td>\n      <td>...</td>\n      <td>3.661329</td>\n      <td>20.771851</td>\n      <td>8.200948</td>\n      <td>0.0</td>\n      <td>1.0</td>\n      <td>1.0</td>\n      <td>1.0</td>\n      <td>1.0</td>\n      <td>1.0</td>\n      <td>0.05</td>\n    </tr>\n    <tr>\n      <th>6237</th>\n      <td>2019-01-15 23:00:00</td>\n      <td>6238</td>\n      <td>WF1</td>\n      <td>279.018000</td>\n      <td>0.020584</td>\n      <td>Train</td>\n      <td>5.410301</td>\n      <td>1.030792</td>\n      <td>1.874554</td>\n      <td>1.364315</td>\n      <td>...</td>\n      <td>3.259851</td>\n      <td>19.907168</td>\n      <td>9.210740</td>\n      <td>0.0</td>\n      <td>1.0</td>\n      <td>1.0</td>\n      <td>1.0</td>\n      <td>1.0</td>\n      <td>1.0</td>\n      <td>0.04</td>\n    </tr>\n    <tr>\n      <th>6238</th>\n      <td>2019-01-16 00:00:00</td>\n      <td>6239</td>\n      <td>WF1</td>\n      <td>280.212506</td>\n      <td>0.000000</td>\n      <td>Train</td>\n      <td>3.338338</td>\n      <td>0.759496</td>\n      <td>1.851320</td>\n      <td>1.346804</td>\n      <td>...</td>\n      <td>2.628633</td>\n      <td>20.460651</td>\n      <td>9.944538</td>\n      <td>0.0</td>\n      <td>1.0</td>\n      <td>1.0</td>\n      <td>1.0</td>\n      <td>1.0</td>\n      <td>1.0</td>\n      <td>0.05</td>\n    </tr>\n  </tbody>\n</table>\n<p>6239 rows × 4590 columns</p>\n</div>"
     },
     "metadata": {},
     "execution_count": 25
    }
   ],
   "source": [
    "final_features"
   ]
  },
  {
   "cell_type": "code",
   "execution_count": 26,
   "metadata": {},
   "outputs": [],
   "source": [
    "features = final_features.drop(['ID','WF','Set','Date'],axis=1).columns"
   ]
  },
  {
   "cell_type": "code",
   "execution_count": 27,
   "metadata": {},
   "outputs": [],
   "source": [
    "final_features = transform_data(final_features[features],1)"
   ]
  },
  {
   "cell_type": "code",
   "execution_count": 24,
   "metadata": {},
   "outputs": [],
   "source": [
    "cv = TimeSeriesSplit()"
   ]
  },
  {
   "cell_type": "code",
   "execution_count": 25,
   "metadata": {},
   "outputs": [],
   "source": [
    "scorer = make_scorer(mean_absolute_error, greater_is_better=False)"
   ]
  },
  {
   "cell_type": "code",
   "execution_count": 26,
   "metadata": {},
   "outputs": [],
   "source": [
    "xgboost = xgb.XGBRegressor(tree_method='gpu_hist',max_depth=5,n_jobs=3)"
   ]
  },
  {
   "cell_type": "code",
   "execution_count": 27,
   "metadata": {},
   "outputs": [],
   "source": [
    "features = final_features.drop(['Date','ID','WF','Set'],axis=1).columns.values\n",
    "\n",
    "dataset = Dataset(df=final_features, target=\"Production\", features=features)"
   ]
  },
  {
   "cell_type": "code",
   "execution_count": 28,
   "metadata": {},
   "outputs": [],
   "source": [
    "lofo_imp = LOFOImportance(dataset, cv=cv, scoring=scorer,model=xgboost)"
   ]
  },
  {
   "cell_type": "code",
   "execution_count": 29,
   "metadata": {},
   "outputs": [
    {
     "output_type": "stream",
     "name": "stderr",
     "text": "  0%|          | 16/4586 [15:39<74:51:26, 58.97s/it]"
    },
    {
     "output_type": "error",
     "ename": "KeyboardInterrupt",
     "evalue": "",
     "traceback": [
      "\u001b[1;31m---------------------------------------------------------------------------\u001b[0m",
      "\u001b[1;31mKeyboardInterrupt\u001b[0m                         Traceback (most recent call last)",
      "\u001b[1;32m<ipython-input-29-551d686e3df7>\u001b[0m in \u001b[0;36m<module>\u001b[1;34m\u001b[0m\n\u001b[1;32m----> 1\u001b[1;33m \u001b[0mimportance_df\u001b[0m \u001b[1;33m=\u001b[0m \u001b[0mlofo_imp\u001b[0m\u001b[1;33m.\u001b[0m\u001b[0mget_importance\u001b[0m\u001b[1;33m(\u001b[0m\u001b[1;33m)\u001b[0m\u001b[1;33m\u001b[0m\u001b[1;33m\u001b[0m\u001b[0m\n\u001b[0m",
      "\u001b[1;32m~\\anaconda3\\lib\\site-packages\\lofo\\lofo_importance.py\u001b[0m in \u001b[0;36mget_importance\u001b[1;34m(self)\u001b[0m\n\u001b[0;32m     89\u001b[0m             \u001b[0mlofo_cv_scores\u001b[0m \u001b[1;33m=\u001b[0m \u001b[1;33m[\u001b[0m\u001b[1;33m]\u001b[0m\u001b[1;33m\u001b[0m\u001b[1;33m\u001b[0m\u001b[0m\n\u001b[0;32m     90\u001b[0m             \u001b[1;32mfor\u001b[0m \u001b[0mf\u001b[0m \u001b[1;32min\u001b[0m \u001b[0mtqdm\u001b[0m\u001b[1;33m(\u001b[0m\u001b[0mfeature_list\u001b[0m\u001b[1;33m)\u001b[0m\u001b[1;33m:\u001b[0m\u001b[1;33m\u001b[0m\u001b[1;33m\u001b[0m\u001b[0m\n\u001b[1;32m---> 91\u001b[1;33m                 \u001b[0mlofo_cv_scores\u001b[0m\u001b[1;33m.\u001b[0m\u001b[0mappend\u001b[0m\u001b[1;33m(\u001b[0m\u001b[0mself\u001b[0m\u001b[1;33m.\u001b[0m\u001b[0m_get_cv_score\u001b[0m\u001b[1;33m(\u001b[0m\u001b[0mfeature_to_remove\u001b[0m\u001b[1;33m=\u001b[0m\u001b[0mf\u001b[0m\u001b[1;33m)\u001b[0m\u001b[1;33m)\u001b[0m\u001b[1;33m\u001b[0m\u001b[1;33m\u001b[0m\u001b[0m\n\u001b[0m\u001b[0;32m     92\u001b[0m \u001b[1;33m\u001b[0m\u001b[0m\n\u001b[0;32m     93\u001b[0m             \u001b[0mlofo_cv_scores_normalized\u001b[0m \u001b[1;33m=\u001b[0m \u001b[0mnp\u001b[0m\u001b[1;33m.\u001b[0m\u001b[0marray\u001b[0m\u001b[1;33m(\u001b[0m\u001b[1;33m[\u001b[0m\u001b[0mbase_cv_score\u001b[0m \u001b[1;33m-\u001b[0m \u001b[0mlofo_cv_score\u001b[0m \u001b[1;32mfor\u001b[0m \u001b[0mlofo_cv_score\u001b[0m \u001b[1;32min\u001b[0m \u001b[0mlofo_cv_scores\u001b[0m\u001b[1;33m]\u001b[0m\u001b[1;33m)\u001b[0m\u001b[1;33m\u001b[0m\u001b[1;33m\u001b[0m\u001b[0m\n",
      "\u001b[1;32m~\\anaconda3\\lib\\site-packages\\lofo\\lofo_importance.py\u001b[0m in \u001b[0;36m_get_cv_score\u001b[1;34m(self, feature_to_remove)\u001b[0m\n\u001b[0;32m     52\u001b[0m         \u001b[1;32mwith\u001b[0m \u001b[0mwarnings\u001b[0m\u001b[1;33m.\u001b[0m\u001b[0mcatch_warnings\u001b[0m\u001b[1;33m(\u001b[0m\u001b[1;33m)\u001b[0m\u001b[1;33m:\u001b[0m\u001b[1;33m\u001b[0m\u001b[1;33m\u001b[0m\u001b[0m\n\u001b[0;32m     53\u001b[0m             \u001b[0mwarnings\u001b[0m\u001b[1;33m.\u001b[0m\u001b[0msimplefilter\u001b[0m\u001b[1;33m(\u001b[0m\u001b[1;34m\"ignore\"\u001b[0m\u001b[1;33m)\u001b[0m\u001b[1;33m\u001b[0m\u001b[1;33m\u001b[0m\u001b[0m\n\u001b[1;32m---> 54\u001b[1;33m             \u001b[0mcv_results\u001b[0m \u001b[1;33m=\u001b[0m \u001b[0mcross_validate\u001b[0m\u001b[1;33m(\u001b[0m\u001b[0mself\u001b[0m\u001b[1;33m.\u001b[0m\u001b[0mmodel\u001b[0m\u001b[1;33m,\u001b[0m \u001b[0mX\u001b[0m\u001b[1;33m,\u001b[0m \u001b[0my\u001b[0m\u001b[1;33m,\u001b[0m \u001b[0mcv\u001b[0m\u001b[1;33m=\u001b[0m\u001b[0mself\u001b[0m\u001b[1;33m.\u001b[0m\u001b[0mcv\u001b[0m\u001b[1;33m,\u001b[0m \u001b[0mscoring\u001b[0m\u001b[1;33m=\u001b[0m\u001b[0mself\u001b[0m\u001b[1;33m.\u001b[0m\u001b[0mscoring\u001b[0m\u001b[1;33m,\u001b[0m \u001b[0mfit_params\u001b[0m\u001b[1;33m=\u001b[0m\u001b[0mfit_params\u001b[0m\u001b[1;33m)\u001b[0m\u001b[1;33m\u001b[0m\u001b[1;33m\u001b[0m\u001b[0m\n\u001b[0m\u001b[0;32m     55\u001b[0m         \u001b[1;32mreturn\u001b[0m \u001b[0mcv_results\u001b[0m\u001b[1;33m[\u001b[0m\u001b[1;34m'test_score'\u001b[0m\u001b[1;33m]\u001b[0m\u001b[1;33m\u001b[0m\u001b[1;33m\u001b[0m\u001b[0m\n\u001b[0;32m     56\u001b[0m \u001b[1;33m\u001b[0m\u001b[0m\n",
      "\u001b[1;32m~\\anaconda3\\lib\\site-packages\\sklearn\\model_selection\\_validation.py\u001b[0m in \u001b[0;36mcross_validate\u001b[1;34m(estimator, X, y, groups, scoring, cv, n_jobs, verbose, fit_params, pre_dispatch, return_train_score, return_estimator, error_score)\u001b[0m\n\u001b[0;32m    234\u001b[0m             \u001b[0mreturn_times\u001b[0m\u001b[1;33m=\u001b[0m\u001b[1;32mTrue\u001b[0m\u001b[1;33m,\u001b[0m \u001b[0mreturn_estimator\u001b[0m\u001b[1;33m=\u001b[0m\u001b[0mreturn_estimator\u001b[0m\u001b[1;33m,\u001b[0m\u001b[1;33m\u001b[0m\u001b[1;33m\u001b[0m\u001b[0m\n\u001b[0;32m    235\u001b[0m             error_score=error_score)\n\u001b[1;32m--> 236\u001b[1;33m         for train, test in cv.split(X, y, groups))\n\u001b[0m\u001b[0;32m    237\u001b[0m \u001b[1;33m\u001b[0m\u001b[0m\n\u001b[0;32m    238\u001b[0m     \u001b[0mzipped_scores\u001b[0m \u001b[1;33m=\u001b[0m \u001b[0mlist\u001b[0m\u001b[1;33m(\u001b[0m\u001b[0mzip\u001b[0m\u001b[1;33m(\u001b[0m\u001b[1;33m*\u001b[0m\u001b[0mscores\u001b[0m\u001b[1;33m)\u001b[0m\u001b[1;33m)\u001b[0m\u001b[1;33m\u001b[0m\u001b[1;33m\u001b[0m\u001b[0m\n",
      "\u001b[1;32m~\\anaconda3\\lib\\site-packages\\joblib\\parallel.py\u001b[0m in \u001b[0;36m__call__\u001b[1;34m(self, iterable)\u001b[0m\n\u001b[0;32m   1005\u001b[0m                 \u001b[0mself\u001b[0m\u001b[1;33m.\u001b[0m\u001b[0m_iterating\u001b[0m \u001b[1;33m=\u001b[0m \u001b[0mself\u001b[0m\u001b[1;33m.\u001b[0m\u001b[0m_original_iterator\u001b[0m \u001b[1;32mis\u001b[0m \u001b[1;32mnot\u001b[0m \u001b[1;32mNone\u001b[0m\u001b[1;33m\u001b[0m\u001b[1;33m\u001b[0m\u001b[0m\n\u001b[0;32m   1006\u001b[0m \u001b[1;33m\u001b[0m\u001b[0m\n\u001b[1;32m-> 1007\u001b[1;33m             \u001b[1;32mwhile\u001b[0m \u001b[0mself\u001b[0m\u001b[1;33m.\u001b[0m\u001b[0mdispatch_one_batch\u001b[0m\u001b[1;33m(\u001b[0m\u001b[0miterator\u001b[0m\u001b[1;33m)\u001b[0m\u001b[1;33m:\u001b[0m\u001b[1;33m\u001b[0m\u001b[1;33m\u001b[0m\u001b[0m\n\u001b[0m\u001b[0;32m   1008\u001b[0m                 \u001b[1;32mpass\u001b[0m\u001b[1;33m\u001b[0m\u001b[1;33m\u001b[0m\u001b[0m\n\u001b[0;32m   1009\u001b[0m \u001b[1;33m\u001b[0m\u001b[0m\n",
      "\u001b[1;32m~\\anaconda3\\lib\\site-packages\\joblib\\parallel.py\u001b[0m in \u001b[0;36mdispatch_one_batch\u001b[1;34m(self, iterator)\u001b[0m\n\u001b[0;32m    833\u001b[0m                 \u001b[1;32mreturn\u001b[0m \u001b[1;32mFalse\u001b[0m\u001b[1;33m\u001b[0m\u001b[1;33m\u001b[0m\u001b[0m\n\u001b[0;32m    834\u001b[0m             \u001b[1;32melse\u001b[0m\u001b[1;33m:\u001b[0m\u001b[1;33m\u001b[0m\u001b[1;33m\u001b[0m\u001b[0m\n\u001b[1;32m--> 835\u001b[1;33m                 \u001b[0mself\u001b[0m\u001b[1;33m.\u001b[0m\u001b[0m_dispatch\u001b[0m\u001b[1;33m(\u001b[0m\u001b[0mtasks\u001b[0m\u001b[1;33m)\u001b[0m\u001b[1;33m\u001b[0m\u001b[1;33m\u001b[0m\u001b[0m\n\u001b[0m\u001b[0;32m    836\u001b[0m                 \u001b[1;32mreturn\u001b[0m \u001b[1;32mTrue\u001b[0m\u001b[1;33m\u001b[0m\u001b[1;33m\u001b[0m\u001b[0m\n\u001b[0;32m    837\u001b[0m \u001b[1;33m\u001b[0m\u001b[0m\n",
      "\u001b[1;32m~\\anaconda3\\lib\\site-packages\\joblib\\parallel.py\u001b[0m in \u001b[0;36m_dispatch\u001b[1;34m(self, batch)\u001b[0m\n\u001b[0;32m    752\u001b[0m         \u001b[1;32mwith\u001b[0m \u001b[0mself\u001b[0m\u001b[1;33m.\u001b[0m\u001b[0m_lock\u001b[0m\u001b[1;33m:\u001b[0m\u001b[1;33m\u001b[0m\u001b[1;33m\u001b[0m\u001b[0m\n\u001b[0;32m    753\u001b[0m             \u001b[0mjob_idx\u001b[0m \u001b[1;33m=\u001b[0m \u001b[0mlen\u001b[0m\u001b[1;33m(\u001b[0m\u001b[0mself\u001b[0m\u001b[1;33m.\u001b[0m\u001b[0m_jobs\u001b[0m\u001b[1;33m)\u001b[0m\u001b[1;33m\u001b[0m\u001b[1;33m\u001b[0m\u001b[0m\n\u001b[1;32m--> 754\u001b[1;33m             \u001b[0mjob\u001b[0m \u001b[1;33m=\u001b[0m \u001b[0mself\u001b[0m\u001b[1;33m.\u001b[0m\u001b[0m_backend\u001b[0m\u001b[1;33m.\u001b[0m\u001b[0mapply_async\u001b[0m\u001b[1;33m(\u001b[0m\u001b[0mbatch\u001b[0m\u001b[1;33m,\u001b[0m \u001b[0mcallback\u001b[0m\u001b[1;33m=\u001b[0m\u001b[0mcb\u001b[0m\u001b[1;33m)\u001b[0m\u001b[1;33m\u001b[0m\u001b[1;33m\u001b[0m\u001b[0m\n\u001b[0m\u001b[0;32m    755\u001b[0m             \u001b[1;31m# A job can complete so quickly than its callback is\u001b[0m\u001b[1;33m\u001b[0m\u001b[1;33m\u001b[0m\u001b[1;33m\u001b[0m\u001b[0m\n\u001b[0;32m    756\u001b[0m             \u001b[1;31m# called before we get here, causing self._jobs to\u001b[0m\u001b[1;33m\u001b[0m\u001b[1;33m\u001b[0m\u001b[1;33m\u001b[0m\u001b[0m\n",
      "\u001b[1;32m~\\anaconda3\\lib\\site-packages\\joblib\\_parallel_backends.py\u001b[0m in \u001b[0;36mapply_async\u001b[1;34m(self, func, callback)\u001b[0m\n\u001b[0;32m    207\u001b[0m     \u001b[1;32mdef\u001b[0m \u001b[0mapply_async\u001b[0m\u001b[1;33m(\u001b[0m\u001b[0mself\u001b[0m\u001b[1;33m,\u001b[0m \u001b[0mfunc\u001b[0m\u001b[1;33m,\u001b[0m \u001b[0mcallback\u001b[0m\u001b[1;33m=\u001b[0m\u001b[1;32mNone\u001b[0m\u001b[1;33m)\u001b[0m\u001b[1;33m:\u001b[0m\u001b[1;33m\u001b[0m\u001b[1;33m\u001b[0m\u001b[0m\n\u001b[0;32m    208\u001b[0m         \u001b[1;34m\"\"\"Schedule a func to be run\"\"\"\u001b[0m\u001b[1;33m\u001b[0m\u001b[1;33m\u001b[0m\u001b[0m\n\u001b[1;32m--> 209\u001b[1;33m         \u001b[0mresult\u001b[0m \u001b[1;33m=\u001b[0m \u001b[0mImmediateResult\u001b[0m\u001b[1;33m(\u001b[0m\u001b[0mfunc\u001b[0m\u001b[1;33m)\u001b[0m\u001b[1;33m\u001b[0m\u001b[1;33m\u001b[0m\u001b[0m\n\u001b[0m\u001b[0;32m    210\u001b[0m         \u001b[1;32mif\u001b[0m \u001b[0mcallback\u001b[0m\u001b[1;33m:\u001b[0m\u001b[1;33m\u001b[0m\u001b[1;33m\u001b[0m\u001b[0m\n\u001b[0;32m    211\u001b[0m             \u001b[0mcallback\u001b[0m\u001b[1;33m(\u001b[0m\u001b[0mresult\u001b[0m\u001b[1;33m)\u001b[0m\u001b[1;33m\u001b[0m\u001b[1;33m\u001b[0m\u001b[0m\n",
      "\u001b[1;32m~\\anaconda3\\lib\\site-packages\\joblib\\_parallel_backends.py\u001b[0m in \u001b[0;36m__init__\u001b[1;34m(self, batch)\u001b[0m\n\u001b[0;32m    588\u001b[0m         \u001b[1;31m# Don't delay the application, to avoid keeping the input\u001b[0m\u001b[1;33m\u001b[0m\u001b[1;33m\u001b[0m\u001b[1;33m\u001b[0m\u001b[0m\n\u001b[0;32m    589\u001b[0m         \u001b[1;31m# arguments in memory\u001b[0m\u001b[1;33m\u001b[0m\u001b[1;33m\u001b[0m\u001b[1;33m\u001b[0m\u001b[0m\n\u001b[1;32m--> 590\u001b[1;33m         \u001b[0mself\u001b[0m\u001b[1;33m.\u001b[0m\u001b[0mresults\u001b[0m \u001b[1;33m=\u001b[0m \u001b[0mbatch\u001b[0m\u001b[1;33m(\u001b[0m\u001b[1;33m)\u001b[0m\u001b[1;33m\u001b[0m\u001b[1;33m\u001b[0m\u001b[0m\n\u001b[0m\u001b[0;32m    591\u001b[0m \u001b[1;33m\u001b[0m\u001b[0m\n\u001b[0;32m    592\u001b[0m     \u001b[1;32mdef\u001b[0m \u001b[0mget\u001b[0m\u001b[1;33m(\u001b[0m\u001b[0mself\u001b[0m\u001b[1;33m)\u001b[0m\u001b[1;33m:\u001b[0m\u001b[1;33m\u001b[0m\u001b[1;33m\u001b[0m\u001b[0m\n",
      "\u001b[1;32m~\\anaconda3\\lib\\site-packages\\joblib\\parallel.py\u001b[0m in \u001b[0;36m__call__\u001b[1;34m(self)\u001b[0m\n\u001b[0;32m    254\u001b[0m         \u001b[1;32mwith\u001b[0m \u001b[0mparallel_backend\u001b[0m\u001b[1;33m(\u001b[0m\u001b[0mself\u001b[0m\u001b[1;33m.\u001b[0m\u001b[0m_backend\u001b[0m\u001b[1;33m,\u001b[0m \u001b[0mn_jobs\u001b[0m\u001b[1;33m=\u001b[0m\u001b[0mself\u001b[0m\u001b[1;33m.\u001b[0m\u001b[0m_n_jobs\u001b[0m\u001b[1;33m)\u001b[0m\u001b[1;33m:\u001b[0m\u001b[1;33m\u001b[0m\u001b[1;33m\u001b[0m\u001b[0m\n\u001b[0;32m    255\u001b[0m             return [func(*args, **kwargs)\n\u001b[1;32m--> 256\u001b[1;33m                     for func, args, kwargs in self.items]\n\u001b[0m\u001b[0;32m    257\u001b[0m \u001b[1;33m\u001b[0m\u001b[0m\n\u001b[0;32m    258\u001b[0m     \u001b[1;32mdef\u001b[0m \u001b[0m__len__\u001b[0m\u001b[1;33m(\u001b[0m\u001b[0mself\u001b[0m\u001b[1;33m)\u001b[0m\u001b[1;33m:\u001b[0m\u001b[1;33m\u001b[0m\u001b[1;33m\u001b[0m\u001b[0m\n",
      "\u001b[1;32m~\\anaconda3\\lib\\site-packages\\joblib\\parallel.py\u001b[0m in \u001b[0;36m<listcomp>\u001b[1;34m(.0)\u001b[0m\n\u001b[0;32m    254\u001b[0m         \u001b[1;32mwith\u001b[0m \u001b[0mparallel_backend\u001b[0m\u001b[1;33m(\u001b[0m\u001b[0mself\u001b[0m\u001b[1;33m.\u001b[0m\u001b[0m_backend\u001b[0m\u001b[1;33m,\u001b[0m \u001b[0mn_jobs\u001b[0m\u001b[1;33m=\u001b[0m\u001b[0mself\u001b[0m\u001b[1;33m.\u001b[0m\u001b[0m_n_jobs\u001b[0m\u001b[1;33m)\u001b[0m\u001b[1;33m:\u001b[0m\u001b[1;33m\u001b[0m\u001b[1;33m\u001b[0m\u001b[0m\n\u001b[0;32m    255\u001b[0m             return [func(*args, **kwargs)\n\u001b[1;32m--> 256\u001b[1;33m                     for func, args, kwargs in self.items]\n\u001b[0m\u001b[0;32m    257\u001b[0m \u001b[1;33m\u001b[0m\u001b[0m\n\u001b[0;32m    258\u001b[0m     \u001b[1;32mdef\u001b[0m \u001b[0m__len__\u001b[0m\u001b[1;33m(\u001b[0m\u001b[0mself\u001b[0m\u001b[1;33m)\u001b[0m\u001b[1;33m:\u001b[0m\u001b[1;33m\u001b[0m\u001b[1;33m\u001b[0m\u001b[0m\n",
      "\u001b[1;32m~\\anaconda3\\lib\\site-packages\\sklearn\\model_selection\\_validation.py\u001b[0m in \u001b[0;36m_fit_and_score\u001b[1;34m(estimator, X, y, scorer, train, test, verbose, parameters, fit_params, return_train_score, return_parameters, return_n_test_samples, return_times, return_estimator, error_score)\u001b[0m\n\u001b[0;32m    513\u001b[0m             \u001b[0mestimator\u001b[0m\u001b[1;33m.\u001b[0m\u001b[0mfit\u001b[0m\u001b[1;33m(\u001b[0m\u001b[0mX_train\u001b[0m\u001b[1;33m,\u001b[0m \u001b[1;33m**\u001b[0m\u001b[0mfit_params\u001b[0m\u001b[1;33m)\u001b[0m\u001b[1;33m\u001b[0m\u001b[1;33m\u001b[0m\u001b[0m\n\u001b[0;32m    514\u001b[0m         \u001b[1;32melse\u001b[0m\u001b[1;33m:\u001b[0m\u001b[1;33m\u001b[0m\u001b[1;33m\u001b[0m\u001b[0m\n\u001b[1;32m--> 515\u001b[1;33m             \u001b[0mestimator\u001b[0m\u001b[1;33m.\u001b[0m\u001b[0mfit\u001b[0m\u001b[1;33m(\u001b[0m\u001b[0mX_train\u001b[0m\u001b[1;33m,\u001b[0m \u001b[0my_train\u001b[0m\u001b[1;33m,\u001b[0m \u001b[1;33m**\u001b[0m\u001b[0mfit_params\u001b[0m\u001b[1;33m)\u001b[0m\u001b[1;33m\u001b[0m\u001b[1;33m\u001b[0m\u001b[0m\n\u001b[0m\u001b[0;32m    516\u001b[0m \u001b[1;33m\u001b[0m\u001b[0m\n\u001b[0;32m    517\u001b[0m     \u001b[1;32mexcept\u001b[0m \u001b[0mException\u001b[0m \u001b[1;32mas\u001b[0m \u001b[0me\u001b[0m\u001b[1;33m:\u001b[0m\u001b[1;33m\u001b[0m\u001b[1;33m\u001b[0m\u001b[0m\n",
      "\u001b[1;32m~\\anaconda3\\lib\\site-packages\\xgboost\\sklearn.py\u001b[0m in \u001b[0;36mfit\u001b[1;34m(self, X, y, sample_weight, base_margin, eval_set, eval_metric, early_stopping_rounds, verbose, xgb_model, sample_weight_eval_set, callbacks)\u001b[0m\n\u001b[0;32m    547\u001b[0m                               \u001b[0mevals_result\u001b[0m\u001b[1;33m=\u001b[0m\u001b[0mevals_result\u001b[0m\u001b[1;33m,\u001b[0m \u001b[0mobj\u001b[0m\u001b[1;33m=\u001b[0m\u001b[0mobj\u001b[0m\u001b[1;33m,\u001b[0m \u001b[0mfeval\u001b[0m\u001b[1;33m=\u001b[0m\u001b[0mfeval\u001b[0m\u001b[1;33m,\u001b[0m\u001b[1;33m\u001b[0m\u001b[1;33m\u001b[0m\u001b[0m\n\u001b[0;32m    548\u001b[0m                               \u001b[0mverbose_eval\u001b[0m\u001b[1;33m=\u001b[0m\u001b[0mverbose\u001b[0m\u001b[1;33m,\u001b[0m \u001b[0mxgb_model\u001b[0m\u001b[1;33m=\u001b[0m\u001b[0mxgb_model\u001b[0m\u001b[1;33m,\u001b[0m\u001b[1;33m\u001b[0m\u001b[1;33m\u001b[0m\u001b[0m\n\u001b[1;32m--> 549\u001b[1;33m                               callbacks=callbacks)\n\u001b[0m\u001b[0;32m    550\u001b[0m \u001b[1;33m\u001b[0m\u001b[0m\n\u001b[0;32m    551\u001b[0m         \u001b[1;32mif\u001b[0m \u001b[0mevals_result\u001b[0m\u001b[1;33m:\u001b[0m\u001b[1;33m\u001b[0m\u001b[1;33m\u001b[0m\u001b[0m\n",
      "\u001b[1;32m~\\anaconda3\\lib\\site-packages\\xgboost\\training.py\u001b[0m in \u001b[0;36mtrain\u001b[1;34m(params, dtrain, num_boost_round, evals, obj, feval, maximize, early_stopping_rounds, evals_result, verbose_eval, xgb_model, callbacks)\u001b[0m\n\u001b[0;32m    207\u001b[0m                            \u001b[0mevals\u001b[0m\u001b[1;33m=\u001b[0m\u001b[0mevals\u001b[0m\u001b[1;33m,\u001b[0m\u001b[1;33m\u001b[0m\u001b[1;33m\u001b[0m\u001b[0m\n\u001b[0;32m    208\u001b[0m                            \u001b[0mobj\u001b[0m\u001b[1;33m=\u001b[0m\u001b[0mobj\u001b[0m\u001b[1;33m,\u001b[0m \u001b[0mfeval\u001b[0m\u001b[1;33m=\u001b[0m\u001b[0mfeval\u001b[0m\u001b[1;33m,\u001b[0m\u001b[1;33m\u001b[0m\u001b[1;33m\u001b[0m\u001b[0m\n\u001b[1;32m--> 209\u001b[1;33m                            xgb_model=xgb_model, callbacks=callbacks)\n\u001b[0m\u001b[0;32m    210\u001b[0m \u001b[1;33m\u001b[0m\u001b[0m\n\u001b[0;32m    211\u001b[0m \u001b[1;33m\u001b[0m\u001b[0m\n",
      "\u001b[1;32m~\\anaconda3\\lib\\site-packages\\xgboost\\training.py\u001b[0m in \u001b[0;36m_train_internal\u001b[1;34m(params, dtrain, num_boost_round, evals, obj, feval, xgb_model, callbacks)\u001b[0m\n\u001b[0;32m     72\u001b[0m         \u001b[1;31m# Skip the first update if it is a recovery step.\u001b[0m\u001b[1;33m\u001b[0m\u001b[1;33m\u001b[0m\u001b[1;33m\u001b[0m\u001b[0m\n\u001b[0;32m     73\u001b[0m         \u001b[1;32mif\u001b[0m \u001b[0mversion\u001b[0m \u001b[1;33m%\u001b[0m \u001b[1;36m2\u001b[0m \u001b[1;33m==\u001b[0m \u001b[1;36m0\u001b[0m\u001b[1;33m:\u001b[0m\u001b[1;33m\u001b[0m\u001b[1;33m\u001b[0m\u001b[0m\n\u001b[1;32m---> 74\u001b[1;33m             \u001b[0mbst\u001b[0m\u001b[1;33m.\u001b[0m\u001b[0mupdate\u001b[0m\u001b[1;33m(\u001b[0m\u001b[0mdtrain\u001b[0m\u001b[1;33m,\u001b[0m \u001b[0mi\u001b[0m\u001b[1;33m,\u001b[0m \u001b[0mobj\u001b[0m\u001b[1;33m)\u001b[0m\u001b[1;33m\u001b[0m\u001b[1;33m\u001b[0m\u001b[0m\n\u001b[0m\u001b[0;32m     75\u001b[0m             \u001b[0mbst\u001b[0m\u001b[1;33m.\u001b[0m\u001b[0msave_rabit_checkpoint\u001b[0m\u001b[1;33m(\u001b[0m\u001b[1;33m)\u001b[0m\u001b[1;33m\u001b[0m\u001b[1;33m\u001b[0m\u001b[0m\n\u001b[0;32m     76\u001b[0m             \u001b[0mversion\u001b[0m \u001b[1;33m+=\u001b[0m \u001b[1;36m1\u001b[0m\u001b[1;33m\u001b[0m\u001b[1;33m\u001b[0m\u001b[0m\n",
      "\u001b[1;32m~\\anaconda3\\lib\\site-packages\\xgboost\\core.py\u001b[0m in \u001b[0;36mupdate\u001b[1;34m(self, dtrain, iteration, fobj)\u001b[0m\n\u001b[0;32m   1247\u001b[0m             _check_call(_LIB.XGBoosterUpdateOneIter(self.handle,\n\u001b[0;32m   1248\u001b[0m                                                     \u001b[0mctypes\u001b[0m\u001b[1;33m.\u001b[0m\u001b[0mc_int\u001b[0m\u001b[1;33m(\u001b[0m\u001b[0miteration\u001b[0m\u001b[1;33m)\u001b[0m\u001b[1;33m,\u001b[0m\u001b[1;33m\u001b[0m\u001b[1;33m\u001b[0m\u001b[0m\n\u001b[1;32m-> 1249\u001b[1;33m                                                     dtrain.handle))\n\u001b[0m\u001b[0;32m   1250\u001b[0m         \u001b[1;32melse\u001b[0m\u001b[1;33m:\u001b[0m\u001b[1;33m\u001b[0m\u001b[1;33m\u001b[0m\u001b[0m\n\u001b[0;32m   1251\u001b[0m             \u001b[0mpred\u001b[0m \u001b[1;33m=\u001b[0m \u001b[0mself\u001b[0m\u001b[1;33m.\u001b[0m\u001b[0mpredict\u001b[0m\u001b[1;33m(\u001b[0m\u001b[0mdtrain\u001b[0m\u001b[1;33m,\u001b[0m \u001b[0mtraining\u001b[0m\u001b[1;33m=\u001b[0m\u001b[1;32mTrue\u001b[0m\u001b[1;33m)\u001b[0m\u001b[1;33m\u001b[0m\u001b[1;33m\u001b[0m\u001b[0m\n",
      "\u001b[1;31mKeyboardInterrupt\u001b[0m: "
     ]
    }
   ],
   "source": [
    "importance_df = lofo_imp.get_importance()"
   ]
  },
  {
   "cell_type": "code",
   "execution_count": null,
   "metadata": {},
   "outputs": [],
   "source": [
    "plot_importance(importance_df, figsize=(12, 20))"
   ]
  }
 ],
 "metadata": {
  "file_extension": ".py",
  "kernelspec": {
   "display_name": "Python 3",
   "language": "python",
   "name": "python3"
  },
  "language_info": {
   "codemirror_mode": {
    "name": "ipython",
    "version": 3
   },
   "file_extension": ".py",
   "mimetype": "text/x-python",
   "name": "python",
   "nbconvert_exporter": "python",
   "pygments_lexer": "ipython3",
   "version": "3.7.6-final"
  },
  "mimetype": "text/x-python",
  "name": "python",
  "npconvert_exporter": "python",
  "pygments_lexer": "ipython3",
  "version": 3
 },
 "nbformat": 4,
 "nbformat_minor": 2
}