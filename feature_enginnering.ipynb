{
 "cells": [
  {
   "cell_type": "markdown",
   "metadata": {},
   "source": [
    "# Feature Engineering"
   ]
  },
  {
   "cell_type": "markdown",
   "metadata": {},
   "source": [
    "## Libraries"
   ]
  },
  {
   "cell_type": "code",
   "execution_count": 2,
   "metadata": {},
   "outputs": [],
   "source": [
    "import numpy as np\n",
    "import pandas as pd\n",
    "from cnr_methods import get_simplified_data, transform_data, LOFO_GPU_Importance\n",
    "\n",
    "# Feature Engineering Library for Time Series\n",
    "from tsfresh import extract_features\n",
    "from tsfresh.utilities.dataframe_functions import make_forecasting_frame\n",
    "from tsfresh.utilities.dataframe_functions import impute\n",
    "from tsfresh.feature_selection.relevance import calculate_relevance_table\n",
    "\n",
    "# Feature Selection Libraries\n",
    "from lofo import LOFOImportance, Dataset, plot_importance\n",
    "from sklearn.model_selection import KFold\n",
    "from sklearn.metrics import make_scorer, mean_absolute_error\n",
    "import xgboost as xgb"
   ]
  },
  {
   "cell_type": "markdown",
   "metadata": {},
   "source": [
    "## Read Data"
   ]
  },
  {
   "cell_type": "markdown",
   "metadata": {},
   "source": [
    "For this pipeline, only Training Set will be used."
   ]
  },
  {
   "cell_type": "code",
   "execution_count": 3,
   "metadata": {},
   "outputs": [],
   "source": [
    "full_data = get_simplified_data()\n",
    "full_data = full_data[full_data['Set']=='Train']\n",
    "y_train = pd.read_csv('Data/Y_train.csv')"
   ]
  },
  {
   "cell_type": "markdown",
   "metadata": {},
   "source": [
    "As done in the other Notebooks, we will transform the Column 'Time' to Datetime format and set as the index of the dataset."
   ]
  },
  {
   "cell_type": "code",
   "execution_count": 4,
   "metadata": {},
   "outputs": [],
   "source": [
    "full_data['Time'] = pd.to_datetime(full_data['Time'],dayfirst=True)\n",
    "full_data = full_data.set_index('Time')"
   ]
  },
  {
   "cell_type": "code",
   "execution_count": 5,
   "metadata": {},
   "outputs": [
    {
     "output_type": "execute_result",
     "data": {
      "text/plain": "                     ID   WF    U_100m    V_100m     U_10m     V_10m        T  \\\nTime                                                                            \n2018-05-01 01:00:00   1  WF1 -2.248500 -3.257800  1.254603 -0.289687  286.440   \n2018-05-01 02:00:00   2  WF1 -2.434500 -1.446100  2.490908 -0.413370  286.260   \n2018-05-01 03:00:00   3  WF1 -1.220571 -0.266871  0.997093 -1.415138  286.575   \n2018-05-01 04:00:00   4  WF1  3.706500 -6.217400  0.689598 -0.961441  284.780   \n2018-05-01 05:00:00   5  WF1  3.813400 -5.444600  0.290994 -0.294963  284.460   \n\n                          CLCT    Set  \nTime                                   \n2018-05-01 01:00:00  82.543144  Train  \n2018-05-01 02:00:00  99.990844  Train  \n2018-05-01 03:00:00  98.367235  Train  \n2018-05-01 04:00:00  94.860604  Train  \n2018-05-01 05:00:00  95.905879  Train  ",
      "text/html": "<div>\n<style scoped>\n    .dataframe tbody tr th:only-of-type {\n        vertical-align: middle;\n    }\n\n    .dataframe tbody tr th {\n        vertical-align: top;\n    }\n\n    .dataframe thead th {\n        text-align: right;\n    }\n</style>\n<table border=\"1\" class=\"dataframe\">\n  <thead>\n    <tr style=\"text-align: right;\">\n      <th></th>\n      <th>ID</th>\n      <th>WF</th>\n      <th>U_100m</th>\n      <th>V_100m</th>\n      <th>U_10m</th>\n      <th>V_10m</th>\n      <th>T</th>\n      <th>CLCT</th>\n      <th>Set</th>\n    </tr>\n    <tr>\n      <th>Time</th>\n      <th></th>\n      <th></th>\n      <th></th>\n      <th></th>\n      <th></th>\n      <th></th>\n      <th></th>\n      <th></th>\n      <th></th>\n    </tr>\n  </thead>\n  <tbody>\n    <tr>\n      <th>2018-05-01 01:00:00</th>\n      <td>1</td>\n      <td>WF1</td>\n      <td>-2.248500</td>\n      <td>-3.257800</td>\n      <td>1.254603</td>\n      <td>-0.289687</td>\n      <td>286.440</td>\n      <td>82.543144</td>\n      <td>Train</td>\n    </tr>\n    <tr>\n      <th>2018-05-01 02:00:00</th>\n      <td>2</td>\n      <td>WF1</td>\n      <td>-2.434500</td>\n      <td>-1.446100</td>\n      <td>2.490908</td>\n      <td>-0.413370</td>\n      <td>286.260</td>\n      <td>99.990844</td>\n      <td>Train</td>\n    </tr>\n    <tr>\n      <th>2018-05-01 03:00:00</th>\n      <td>3</td>\n      <td>WF1</td>\n      <td>-1.220571</td>\n      <td>-0.266871</td>\n      <td>0.997093</td>\n      <td>-1.415138</td>\n      <td>286.575</td>\n      <td>98.367235</td>\n      <td>Train</td>\n    </tr>\n    <tr>\n      <th>2018-05-01 04:00:00</th>\n      <td>4</td>\n      <td>WF1</td>\n      <td>3.706500</td>\n      <td>-6.217400</td>\n      <td>0.689598</td>\n      <td>-0.961441</td>\n      <td>284.780</td>\n      <td>94.860604</td>\n      <td>Train</td>\n    </tr>\n    <tr>\n      <th>2018-05-01 05:00:00</th>\n      <td>5</td>\n      <td>WF1</td>\n      <td>3.813400</td>\n      <td>-5.444600</td>\n      <td>0.290994</td>\n      <td>-0.294963</td>\n      <td>284.460</td>\n      <td>95.905879</td>\n      <td>Train</td>\n    </tr>\n  </tbody>\n</table>\n</div>"
     },
     "metadata": {},
     "execution_count": 5
    }
   ],
   "source": [
    "full_data.head()"
   ]
  },
  {
   "cell_type": "markdown",
   "metadata": {},
   "source": [
    "To simplify the work, we will generate features for just one Wind Farm. When doing modelling, the features, as the models, will be generated for all Wind Farms separately."
   ]
  },
  {
   "cell_type": "code",
   "execution_count": 6,
   "metadata": {},
   "outputs": [],
   "source": [
    "WF = 'WF1'\n",
    "data = full_data[full_data['WF']==WF]\n",
    "y_train = y_train[y_train['ID'].isin(data['ID'])]"
   ]
  },
  {
   "cell_type": "code",
   "execution_count": 8,
   "metadata": {},
   "outputs": [
    {
     "output_type": "execute_result",
     "data": {
      "text/plain": "                        ID   WF    U_100m    V_100m     U_10m     V_10m  \\\nTime                                                                      \n2018-05-01 01:00:00      1  WF1 -2.248500 -3.257800  1.254603 -0.289687   \n2018-05-01 02:00:00      2  WF1 -2.434500 -1.446100  2.490908 -0.413370   \n2018-05-01 03:00:00      3  WF1 -1.220571 -0.266871  0.997093 -1.415138   \n2018-05-01 04:00:00      4  WF1  3.706500 -6.217400  0.689598 -0.961441   \n2018-05-01 05:00:00      5  WF1  3.813400 -5.444600  0.290994 -0.294963   \n...                    ...  ...       ...       ...       ...       ...   \n2019-01-15 20:00:00  37371  WF6 -0.868480 -5.454230  0.660126 -0.827276   \n2019-01-15 21:00:00  37372  WF6 -0.453421 -3.824979  0.420679 -0.751297   \n2019-01-15 22:00:00  37373  WF6 -0.874800 -4.534290  0.144120 -0.699230   \n2019-01-15 23:00:00  37374  WF6 -0.791820 -3.940990 -0.059005 -0.551902   \n2019-01-16 00:00:00  37375  WF6 -0.597210 -2.164399 -0.134844 -0.396182   \n\n                              T       CLCT    Set  \nTime                                               \n2018-05-01 01:00:00  286.440000  82.543144  Train  \n2018-05-01 02:00:00  286.260000  99.990844  Train  \n2018-05-01 03:00:00  286.575000  98.367235  Train  \n2018-05-01 04:00:00  284.780000  94.860604  Train  \n2018-05-01 05:00:00  284.460000  95.905879  Train  \n...                         ...        ...    ...  \n2019-01-15 20:00:00  274.113000   0.000000  Train  \n2019-01-15 21:00:00  274.520365   0.000000  Train  \n2019-01-15 22:00:00  273.261000   0.000000  Train  \n2019-01-15 23:00:00  272.851000   0.000000  Train  \n2019-01-16 00:00:00  273.485839   2.133261  Train  \n\n[37375 rows x 9 columns]",
      "text/html": "<div>\n<style scoped>\n    .dataframe tbody tr th:only-of-type {\n        vertical-align: middle;\n    }\n\n    .dataframe tbody tr th {\n        vertical-align: top;\n    }\n\n    .dataframe thead th {\n        text-align: right;\n    }\n</style>\n<table border=\"1\" class=\"dataframe\">\n  <thead>\n    <tr style=\"text-align: right;\">\n      <th></th>\n      <th>ID</th>\n      <th>WF</th>\n      <th>U_100m</th>\n      <th>V_100m</th>\n      <th>U_10m</th>\n      <th>V_10m</th>\n      <th>T</th>\n      <th>CLCT</th>\n      <th>Set</th>\n    </tr>\n    <tr>\n      <th>Time</th>\n      <th></th>\n      <th></th>\n      <th></th>\n      <th></th>\n      <th></th>\n      <th></th>\n      <th></th>\n      <th></th>\n      <th></th>\n    </tr>\n  </thead>\n  <tbody>\n    <tr>\n      <th>2018-05-01 01:00:00</th>\n      <td>1</td>\n      <td>WF1</td>\n      <td>-2.248500</td>\n      <td>-3.257800</td>\n      <td>1.254603</td>\n      <td>-0.289687</td>\n      <td>286.440000</td>\n      <td>82.543144</td>\n      <td>Train</td>\n    </tr>\n    <tr>\n      <th>2018-05-01 02:00:00</th>\n      <td>2</td>\n      <td>WF1</td>\n      <td>-2.434500</td>\n      <td>-1.446100</td>\n      <td>2.490908</td>\n      <td>-0.413370</td>\n      <td>286.260000</td>\n      <td>99.990844</td>\n      <td>Train</td>\n    </tr>\n    <tr>\n      <th>2018-05-01 03:00:00</th>\n      <td>3</td>\n      <td>WF1</td>\n      <td>-1.220571</td>\n      <td>-0.266871</td>\n      <td>0.997093</td>\n      <td>-1.415138</td>\n      <td>286.575000</td>\n      <td>98.367235</td>\n      <td>Train</td>\n    </tr>\n    <tr>\n      <th>2018-05-01 04:00:00</th>\n      <td>4</td>\n      <td>WF1</td>\n      <td>3.706500</td>\n      <td>-6.217400</td>\n      <td>0.689598</td>\n      <td>-0.961441</td>\n      <td>284.780000</td>\n      <td>94.860604</td>\n      <td>Train</td>\n    </tr>\n    <tr>\n      <th>2018-05-01 05:00:00</th>\n      <td>5</td>\n      <td>WF1</td>\n      <td>3.813400</td>\n      <td>-5.444600</td>\n      <td>0.290994</td>\n      <td>-0.294963</td>\n      <td>284.460000</td>\n      <td>95.905879</td>\n      <td>Train</td>\n    </tr>\n    <tr>\n      <th>...</th>\n      <td>...</td>\n      <td>...</td>\n      <td>...</td>\n      <td>...</td>\n      <td>...</td>\n      <td>...</td>\n      <td>...</td>\n      <td>...</td>\n      <td>...</td>\n    </tr>\n    <tr>\n      <th>2019-01-15 20:00:00</th>\n      <td>37371</td>\n      <td>WF6</td>\n      <td>-0.868480</td>\n      <td>-5.454230</td>\n      <td>0.660126</td>\n      <td>-0.827276</td>\n      <td>274.113000</td>\n      <td>0.000000</td>\n      <td>Train</td>\n    </tr>\n    <tr>\n      <th>2019-01-15 21:00:00</th>\n      <td>37372</td>\n      <td>WF6</td>\n      <td>-0.453421</td>\n      <td>-3.824979</td>\n      <td>0.420679</td>\n      <td>-0.751297</td>\n      <td>274.520365</td>\n      <td>0.000000</td>\n      <td>Train</td>\n    </tr>\n    <tr>\n      <th>2019-01-15 22:00:00</th>\n      <td>37373</td>\n      <td>WF6</td>\n      <td>-0.874800</td>\n      <td>-4.534290</td>\n      <td>0.144120</td>\n      <td>-0.699230</td>\n      <td>273.261000</td>\n      <td>0.000000</td>\n      <td>Train</td>\n    </tr>\n    <tr>\n      <th>2019-01-15 23:00:00</th>\n      <td>37374</td>\n      <td>WF6</td>\n      <td>-0.791820</td>\n      <td>-3.940990</td>\n      <td>-0.059005</td>\n      <td>-0.551902</td>\n      <td>272.851000</td>\n      <td>0.000000</td>\n      <td>Train</td>\n    </tr>\n    <tr>\n      <th>2019-01-16 00:00:00</th>\n      <td>37375</td>\n      <td>WF6</td>\n      <td>-0.597210</td>\n      <td>-2.164399</td>\n      <td>-0.134844</td>\n      <td>-0.396182</td>\n      <td>273.485839</td>\n      <td>2.133261</td>\n      <td>Train</td>\n    </tr>\n  </tbody>\n</table>\n<p>37375 rows × 9 columns</p>\n</div>"
     },
     "metadata": {},
     "execution_count": 8
    }
   ],
   "source": [
    "full_data"
   ]
  },
  {
   "cell_type": "markdown",
   "metadata": {},
   "source": [
    "## Feature Creation"
   ]
  },
  {
   "cell_type": "markdown",
   "metadata": {},
   "source": [
    "### Wind Speed Vector"
   ]
  },
  {
   "cell_type": "code",
   "execution_count": 6,
   "metadata": {},
   "outputs": [],
   "source": [
    "feature_data = data[['ID','WF','U_100m','V_100m','U_10m','V_10m','T','CLCT','Set']]\n",
    "feature_data['Wind Speed 100m'] = np.sqrt(feature_data['U_100m']**2 + feature_data['V_100m']**2)\n",
    "feature_data['Wind Direction 100m'] = np.arctan(feature_data['V_100m']/feature_data['U_100m'])\n",
    "feature_data['Wind Speed 10m'] = np.sqrt(feature_data['U_10m']**2 + feature_data['V_10m']**2)\n",
    "feature_data['Wind Direction 10m'] = np.arctan(feature_data['V_10m']/feature_data['U_10m'])\n",
    "feature_data = feature_data.drop(['U_100m','V_100m','U_10m','V_10m'],axis=1)"
   ]
  },
  {
   "cell_type": "markdown",
   "metadata": {},
   "source": [
    "Changing Reference for Negative Angles:"
   ]
  },
  {
   "cell_type": "code",
   "execution_count": 7,
   "metadata": {},
   "outputs": [],
   "source": [
    "feature_data['Wind Direction 100m'] = feature_data['Wind Direction 100m'].apply(lambda x: 360 + x if x < 0 else x)\n",
    "feature_data['Wind Direction 10m'] = feature_data['Wind Direction 10m'].apply(lambda x: 360 + x if x < 0 else x)"
   ]
  },
  {
   "cell_type": "markdown",
   "metadata": {},
   "source": [
    "Using Wind Speed and Direction instead of U and V, we will create some variables over the Numerical Variables from the simplified data."
   ]
  },
  {
   "cell_type": "code",
   "execution_count": 8,
   "metadata": {},
   "outputs": [],
   "source": [
    "feature_data[feature_data['Wind Direction 100m'] < 0]['Wind Direction 100m'] = 360 - feature_data[feature_data['Wind Direction 100m'] < 0]['Wind Direction 100m']"
   ]
  },
  {
   "cell_type": "code",
   "execution_count": 9,
   "metadata": {},
   "outputs": [],
   "source": [
    "features = ['T', 'CLCT', 'Wind Speed 100m','Wind Direction 100m', 'Wind Speed 10m', 'Wind Direction 10m']"
   ]
  },
  {
   "cell_type": "markdown",
   "metadata": {},
   "source": [
    "### Time-Relative Variables"
   ]
  },
  {
   "cell_type": "markdown",
   "metadata": {},
   "source": [
    "Here, we get Values for Last Week and Month for each Numerical Feature."
   ]
  },
  {
   "cell_type": "code",
   "execution_count": 10,
   "metadata": {},
   "outputs": [],
   "source": [
    "for column in features:\n",
    "    feature_data[column + '_last_week'] = feature_data[column].shift(7)\n",
    "    feature_data[column + '_last_month'] = feature_data[column].shift(30)"
   ]
  },
  {
   "cell_type": "markdown",
   "metadata": {},
   "source": [
    "Get the Number of Month:"
   ]
  },
  {
   "cell_type": "code",
   "execution_count": 11,
   "metadata": {},
   "outputs": [],
   "source": [
    "feature_data['Month_Number'] = feature_data.index.month"
   ]
  },
  {
   "cell_type": "markdown",
   "metadata": {},
   "source": [
    "Month Statistics:"
   ]
  },
  {
   "cell_type": "code",
   "execution_count": 12,
   "metadata": {},
   "outputs": [],
   "source": [
    "mean = feature_data.groupby('Month_Number').mean()[features]\n",
    "median = feature_data.groupby('Month_Number').median()[features]\n",
    "variance = feature_data.groupby('Month_Number').var()[features]"
   ]
  },
  {
   "cell_type": "code",
   "execution_count": 13,
   "metadata": {},
   "outputs": [],
   "source": [
    "mean.columns = mean.columns + '_Month_Mean'\n",
    "median.columns = median.columns + '_Month_Median'\n",
    "variance.columns = variance.columns + '_Month_Variance'"
   ]
  },
  {
   "cell_type": "code",
   "execution_count": 14,
   "metadata": {},
   "outputs": [],
   "source": [
    "feature_data = feature_data.merge(mean,on='Month_Number',how='left')\n",
    "feature_data = feature_data.merge(median,on='Month_Number',how='left')\n",
    "feature_data = feature_data.merge(variance,on='Month_Number',how='left')"
   ]
  },
  {
   "cell_type": "code",
   "execution_count": 15,
   "metadata": {},
   "outputs": [],
   "source": [
    "feature_data.index = data.index"
   ]
  },
  {
   "cell_type": "markdown",
   "metadata": {},
   "source": [
    "### Distance from Features"
   ]
  },
  {
   "cell_type": "markdown",
   "metadata": {},
   "source": [
    "Distance of Position of Max and Min (Already on Tsfresh, check it later):"
   ]
  },
  {
   "cell_type": "code",
   "execution_count": 16,
   "metadata": {},
   "outputs": [],
   "source": [
    "for column in features:\n",
    "    feature_data[column + '_Distance_Max'] = feature_data.index - feature_data[column].idxmax()\n",
    "    feature_data[column + '_Distance_Min'] = feature_data.index - feature_data[column].idxmin()\n",
    "    feature_data[column + '_Distance_Max'] = feature_data[column + '_Distance_Max'].apply(lambda x : x.days)\n",
    "    feature_data[column + '_Distance_Min'] = feature_data[column + '_Distance_Min'].apply(lambda x : x.days)"
   ]
  },
  {
   "cell_type": "markdown",
   "metadata": {},
   "source": [
    "### Rolling Window Variables"
   ]
  },
  {
   "cell_type": "markdown",
   "metadata": {},
   "source": [
    "### Wavelet Transformations (Check)"
   ]
  },
  {
   "cell_type": "markdown",
   "metadata": {},
   "source": [
    "## Tsfresh"
   ]
  },
  {
   "cell_type": "markdown",
   "metadata": {},
   "source": [
    "Now we use Tsfresh, a Python Library that automates Feature Engineering for Time Series Data. We generate new features for all the columns on the Simplified Data, as done below."
   ]
  },
  {
   "cell_type": "code",
   "execution_count": 17,
   "metadata": {},
   "outputs": [],
   "source": [
    "data = data[['ID','WF','U_100m','V_100m','U_10m','V_10m','T','CLCT','Set']]"
   ]
  },
  {
   "cell_type": "code",
   "execution_count": 18,
   "metadata": {},
   "outputs": [
    {
     "output_type": "stream",
     "name": "stderr",
     "text": "Feature Extraction: 100%|██████████| 15/15 [02:22<00:00,  9.53s/it]\nFeature Extraction: 100%|██████████| 15/15 [02:20<00:00,  9.35s/it]\nFeature Extraction: 100%|██████████| 15/15 [02:31<00:00, 10.12s/it]\nFeature Extraction: 100%|██████████| 15/15 [02:13<00:00,  8.92s/it]\nFeature Extraction: 100%|██████████| 15/15 [02:12<00:00,  8.84s/it]\nFeature Extraction: 100%|██████████| 15/15 [01:48<00:00,  7.22s/it]\n"
    }
   ],
   "source": [
    "tsfresh_data = pd.DataFrame()\n",
    "for variable in ['U_100m','V_100m','U_10m','V_10m','T','CLCT']: \n",
    "    df_shift, y = make_forecasting_frame(data[variable],kind=variable,max_timeshift=20,rolling_direction=1)\n",
    "    X = extract_features(df_shift, column_id=\"id\", column_sort=\"time\", column_value=\"value\", impute_function=impute,show_warnings=False,n_jobs=3)\n",
    "    X['Feature'] = variable\n",
    "    tsfresh_data = tsfresh_data.append(X)"
   ]
  },
  {
   "cell_type": "markdown",
   "metadata": {},
   "source": [
    "Process tsfresh_data to pass column 'Features' to the other columns"
   ]
  },
  {
   "cell_type": "code",
   "execution_count": 19,
   "metadata": {},
   "outputs": [],
   "source": [
    "tsfresh_data = tsfresh_data.pivot(columns='Feature')"
   ]
  },
  {
   "cell_type": "code",
   "execution_count": 20,
   "metadata": {},
   "outputs": [],
   "source": [
    "tsfresh_data.columns = tsfresh_data.columns.map('{0[0]}|{0[1]}'.format)"
   ]
  },
  {
   "cell_type": "code",
   "execution_count": 21,
   "metadata": {},
   "outputs": [
    {
     "output_type": "execute_result",
     "data": {
      "text/plain": "                     value__abs_energy|CLCT  value__abs_energy|T  \\\nid                                                                 \n2018-05-01 02:00:00             6813.370572         82047.873600   \n2018-05-01 03:00:00            16811.539518        163992.661200   \n2018-05-01 04:00:00            26487.652359        246117.891825   \n2018-05-01 05:00:00            35486.186521        327217.540225   \n2018-05-01 06:00:00            44684.124127        408135.031825   \n\n                     value__abs_energy|U_100m  value__abs_energy|U_10m  \\\nid                                                                       \n2018-05-01 02:00:00                  5.055752                 1.574030   \n2018-05-01 03:00:00                 10.982542                 7.778652   \n2018-05-01 04:00:00                 12.472335                 8.772845   \n2018-05-01 05:00:00                 26.210477                 9.248391   \n2018-05-01 06:00:00                 40.752497                 9.333069   \n\n                     value__abs_energy|V_100m  value__abs_energy|V_10m  \\\nid                                                                       \n2018-05-01 02:00:00                 10.613261                 0.083919   \n2018-05-01 03:00:00                 12.704466                 0.254793   \n2018-05-01 04:00:00                 12.775686                 2.257409   \n2018-05-01 05:00:00                 51.431749                 3.181777   \n2018-05-01 06:00:00                 81.075418                 3.268781   \n\n                     value__absolute_sum_of_changes|CLCT  \\\nid                                                         \n2018-05-01 02:00:00                             0.000000   \n2018-05-01 03:00:00                            17.447701   \n2018-05-01 04:00:00                            19.071310   \n2018-05-01 05:00:00                            22.577941   \n2018-05-01 06:00:00                            23.623216   \n\n                     value__absolute_sum_of_changes|T  \\\nid                                                      \n2018-05-01 02:00:00                             0.000   \n2018-05-01 03:00:00                             0.180   \n2018-05-01 04:00:00                             0.495   \n2018-05-01 05:00:00                             2.290   \n2018-05-01 06:00:00                             2.610   \n\n                     value__absolute_sum_of_changes|U_100m  \\\nid                                                           \n2018-05-01 02:00:00                               0.000000   \n2018-05-01 03:00:00                               0.186000   \n2018-05-01 04:00:00                               1.399929   \n2018-05-01 05:00:00                               6.327000   \n2018-05-01 06:00:00                               6.433900   \n\n                     value__absolute_sum_of_changes|U_10m  ...  \\\nid                                                         ...   \n2018-05-01 02:00:00                              0.000000  ...   \n2018-05-01 03:00:00                              1.236305  ...   \n2018-05-01 04:00:00                              2.730120  ...   \n2018-05-01 05:00:00                              3.037614  ...   \n2018-05-01 06:00:00                              3.436218  ...   \n\n                     value__variance|U_100m  value__variance|U_10m  \\\nid                                                                   \n2018-05-01 02:00:00                0.000000               0.000000   \n2018-05-01 03:00:00                0.008649               0.382112   \n2018-05-01 04:00:00                0.284984               0.425138   \n2018-05-01 05:00:00                6.250924               0.467797   \n2018-05-01 06:00:00                8.045999               0.556415   \n\n                     value__variance|V_100m  value__variance|V_10m  \\\nid                                                                   \n2018-05-01 02:00:00                0.000000               0.000000   \n2018-05-01 03:00:00                0.820564               0.003824   \n2018-05-01 04:00:00                1.513166               0.253942   \n2018-05-01 05:00:00                5.034489               0.202684   \n2018-05-01 06:00:00                5.149121               0.198239   \n\n                     value__variance_larger_than_standard_deviation|CLCT  \\\nid                                                                         \n2018-05-01 02:00:00                                                0.0     \n2018-05-01 03:00:00                                                1.0     \n2018-05-01 04:00:00                                                1.0     \n2018-05-01 05:00:00                                                1.0     \n2018-05-01 06:00:00                                                1.0     \n\n                     value__variance_larger_than_standard_deviation|T  \\\nid                                                                      \n2018-05-01 02:00:00                                               0.0   \n2018-05-01 03:00:00                                               0.0   \n2018-05-01 04:00:00                                               0.0   \n2018-05-01 05:00:00                                               0.0   \n2018-05-01 06:00:00                                               0.0   \n\n                     value__variance_larger_than_standard_deviation|U_100m  \\\nid                                                                           \n2018-05-01 02:00:00                                                0.0       \n2018-05-01 03:00:00                                                0.0       \n2018-05-01 04:00:00                                                0.0       \n2018-05-01 05:00:00                                                1.0       \n2018-05-01 06:00:00                                                1.0       \n\n                     value__variance_larger_than_standard_deviation|U_10m  \\\nid                                                                          \n2018-05-01 02:00:00                                                0.0      \n2018-05-01 03:00:00                                                0.0      \n2018-05-01 04:00:00                                                0.0      \n2018-05-01 05:00:00                                                0.0      \n2018-05-01 06:00:00                                                0.0      \n\n                     value__variance_larger_than_standard_deviation|V_100m  \\\nid                                                                           \n2018-05-01 02:00:00                                                0.0       \n2018-05-01 03:00:00                                                0.0       \n2018-05-01 04:00:00                                                1.0       \n2018-05-01 05:00:00                                                1.0       \n2018-05-01 06:00:00                                                1.0       \n\n                     value__variance_larger_than_standard_deviation|V_10m  \nid                                                                         \n2018-05-01 02:00:00                                                0.0     \n2018-05-01 03:00:00                                                0.0     \n2018-05-01 04:00:00                                                0.0     \n2018-05-01 05:00:00                                                0.0     \n2018-05-01 06:00:00                                                0.0     \n\n[5 rows x 4536 columns]",
      "text/html": "<div>\n<style scoped>\n    .dataframe tbody tr th:only-of-type {\n        vertical-align: middle;\n    }\n\n    .dataframe tbody tr th {\n        vertical-align: top;\n    }\n\n    .dataframe thead th {\n        text-align: right;\n    }\n</style>\n<table border=\"1\" class=\"dataframe\">\n  <thead>\n    <tr style=\"text-align: right;\">\n      <th></th>\n      <th>value__abs_energy|CLCT</th>\n      <th>value__abs_energy|T</th>\n      <th>value__abs_energy|U_100m</th>\n      <th>value__abs_energy|U_10m</th>\n      <th>value__abs_energy|V_100m</th>\n      <th>value__abs_energy|V_10m</th>\n      <th>value__absolute_sum_of_changes|CLCT</th>\n      <th>value__absolute_sum_of_changes|T</th>\n      <th>value__absolute_sum_of_changes|U_100m</th>\n      <th>value__absolute_sum_of_changes|U_10m</th>\n      <th>...</th>\n      <th>value__variance|U_100m</th>\n      <th>value__variance|U_10m</th>\n      <th>value__variance|V_100m</th>\n      <th>value__variance|V_10m</th>\n      <th>value__variance_larger_than_standard_deviation|CLCT</th>\n      <th>value__variance_larger_than_standard_deviation|T</th>\n      <th>value__variance_larger_than_standard_deviation|U_100m</th>\n      <th>value__variance_larger_than_standard_deviation|U_10m</th>\n      <th>value__variance_larger_than_standard_deviation|V_100m</th>\n      <th>value__variance_larger_than_standard_deviation|V_10m</th>\n    </tr>\n    <tr>\n      <th>id</th>\n      <th></th>\n      <th></th>\n      <th></th>\n      <th></th>\n      <th></th>\n      <th></th>\n      <th></th>\n      <th></th>\n      <th></th>\n      <th></th>\n      <th></th>\n      <th></th>\n      <th></th>\n      <th></th>\n      <th></th>\n      <th></th>\n      <th></th>\n      <th></th>\n      <th></th>\n      <th></th>\n      <th></th>\n    </tr>\n  </thead>\n  <tbody>\n    <tr>\n      <th>2018-05-01 02:00:00</th>\n      <td>6813.370572</td>\n      <td>82047.873600</td>\n      <td>5.055752</td>\n      <td>1.574030</td>\n      <td>10.613261</td>\n      <td>0.083919</td>\n      <td>0.000000</td>\n      <td>0.000</td>\n      <td>0.000000</td>\n      <td>0.000000</td>\n      <td>...</td>\n      <td>0.000000</td>\n      <td>0.000000</td>\n      <td>0.000000</td>\n      <td>0.000000</td>\n      <td>0.0</td>\n      <td>0.0</td>\n      <td>0.0</td>\n      <td>0.0</td>\n      <td>0.0</td>\n      <td>0.0</td>\n    </tr>\n    <tr>\n      <th>2018-05-01 03:00:00</th>\n      <td>16811.539518</td>\n      <td>163992.661200</td>\n      <td>10.982542</td>\n      <td>7.778652</td>\n      <td>12.704466</td>\n      <td>0.254793</td>\n      <td>17.447701</td>\n      <td>0.180</td>\n      <td>0.186000</td>\n      <td>1.236305</td>\n      <td>...</td>\n      <td>0.008649</td>\n      <td>0.382112</td>\n      <td>0.820564</td>\n      <td>0.003824</td>\n      <td>1.0</td>\n      <td>0.0</td>\n      <td>0.0</td>\n      <td>0.0</td>\n      <td>0.0</td>\n      <td>0.0</td>\n    </tr>\n    <tr>\n      <th>2018-05-01 04:00:00</th>\n      <td>26487.652359</td>\n      <td>246117.891825</td>\n      <td>12.472335</td>\n      <td>8.772845</td>\n      <td>12.775686</td>\n      <td>2.257409</td>\n      <td>19.071310</td>\n      <td>0.495</td>\n      <td>1.399929</td>\n      <td>2.730120</td>\n      <td>...</td>\n      <td>0.284984</td>\n      <td>0.425138</td>\n      <td>1.513166</td>\n      <td>0.253942</td>\n      <td>1.0</td>\n      <td>0.0</td>\n      <td>0.0</td>\n      <td>0.0</td>\n      <td>1.0</td>\n      <td>0.0</td>\n    </tr>\n    <tr>\n      <th>2018-05-01 05:00:00</th>\n      <td>35486.186521</td>\n      <td>327217.540225</td>\n      <td>26.210477</td>\n      <td>9.248391</td>\n      <td>51.431749</td>\n      <td>3.181777</td>\n      <td>22.577941</td>\n      <td>2.290</td>\n      <td>6.327000</td>\n      <td>3.037614</td>\n      <td>...</td>\n      <td>6.250924</td>\n      <td>0.467797</td>\n      <td>5.034489</td>\n      <td>0.202684</td>\n      <td>1.0</td>\n      <td>0.0</td>\n      <td>1.0</td>\n      <td>0.0</td>\n      <td>1.0</td>\n      <td>0.0</td>\n    </tr>\n    <tr>\n      <th>2018-05-01 06:00:00</th>\n      <td>44684.124127</td>\n      <td>408135.031825</td>\n      <td>40.752497</td>\n      <td>9.333069</td>\n      <td>81.075418</td>\n      <td>3.268781</td>\n      <td>23.623216</td>\n      <td>2.610</td>\n      <td>6.433900</td>\n      <td>3.436218</td>\n      <td>...</td>\n      <td>8.045999</td>\n      <td>0.556415</td>\n      <td>5.149121</td>\n      <td>0.198239</td>\n      <td>1.0</td>\n      <td>0.0</td>\n      <td>1.0</td>\n      <td>0.0</td>\n      <td>1.0</td>\n      <td>0.0</td>\n    </tr>\n  </tbody>\n</table>\n<p>5 rows × 4536 columns</p>\n</div>"
     },
     "metadata": {},
     "execution_count": 21
    }
   ],
   "source": [
    "tsfresh_data.head()"
   ]
  },
  {
   "cell_type": "code",
   "execution_count": 22,
   "metadata": {},
   "outputs": [],
   "source": [
    "tsfresh_data = tsfresh_data.fillna(0)"
   ]
  },
  {
   "cell_type": "markdown",
   "metadata": {},
   "source": [
    "## Feature Selection"
   ]
  },
  {
   "cell_type": "code",
   "execution_count": 23,
   "metadata": {},
   "outputs": [],
   "source": [
    "final_features = feature_data.merge(tsfresh_data,left_on=feature_data.index,right_on=tsfresh_data.index,how='left')\n",
    "\n",
    "final_features = final_features.rename({'key_0':'Date'},axis=1)"
   ]
  },
  {
   "cell_type": "code",
   "execution_count": 24,
   "metadata": {},
   "outputs": [],
   "source": [
    "features = final_features.drop(['ID','WF','Set','Date'],axis=1).columns"
   ]
  },
  {
   "cell_type": "code",
   "execution_count": 25,
   "metadata": {},
   "outputs": [],
   "source": [
    "final_features = transform_data(final_features[features])\n",
    "y_train = transform_data(y_train[['Production']])"
   ]
  },
  {
   "cell_type": "code",
   "execution_count": 26,
   "metadata": {},
   "outputs": [],
   "source": [
    "model  = xgb.XGBRegressor(tree_method='gpu_hist')"
   ]
  },
  {
   "cell_type": "code",
   "execution_count": 27,
   "metadata": {},
   "outputs": [
    {
     "output_type": "stream",
     "name": "stdout",
     "text": "1/4585 13.622494 s/it\n2/4585 13.484766 s/it\n3/4585 13.591627 s/it\n4/4585 13.662627 s/it\n5/4585 13.704747 s/it\n6/4585 14.294350 s/it\n7/4585 14.720705 s/it\n8/4585 14.55463 s/it\n9/4585 14.18513 s/it\n10/4585 13.887112 s/it\n11/4585 13.785861 s/it\n12/4585 13.618014 s/it\n13/4585 13.781347 s/it\n14/4585 13.676971 s/it\n15/4585 13.677553 s/it\n16/4585 13.772459 s/it\n17/4585 13.802408 s/it\n18/4585 13.727986 s/it\n19/4585 13.808075 s/it\n20/4585 14.770457 s/it\n21/4585 13.844336 s/it\n22/4585 13.955288 s/it\nException ignored in: <function Booster.__del__ at 0x000002912BB24CA8>\nTraceback (most recent call last):\n  File \"C:\\Users\\andre_\\anaconda3\\lib\\site-packages\\xgboost\\core.py\", line 1065, in __del__\n    _check_call(_LIB.XGBoosterFree(self.handle))\nKeyboardInterrupt\n23/4585 14.416404 s/it\n24/4585 14.965475 s/it\n"
    }
   ],
   "source": [
    "importance_df = LOFO_GPU_Importance(final_features,y_train['Production'],features,model)"
   ]
  },
  {
   "cell_type": "code",
   "execution_count": 1,
   "metadata": {},
   "outputs": [
    {
     "output_type": "error",
     "ename": "NameError",
     "evalue": "name 'final_features' is not defined",
     "traceback": [
      "\u001b[1;31m---------------------------------------------------------------------------\u001b[0m",
      "\u001b[1;31mNameError\u001b[0m                                 Traceback (most recent call last)",
      "\u001b[1;32m<ipython-input-1-988e99c11e85>\u001b[0m in \u001b[0;36m<module>\u001b[1;34m\u001b[0m\n\u001b[1;32m----> 1\u001b[1;33m \u001b[0mfinal_features\u001b[0m\u001b[1;33m\u001b[0m\u001b[1;33m\u001b[0m\u001b[0m\n\u001b[0m",
      "\u001b[1;31mNameError\u001b[0m: name 'final_features' is not defined"
     ]
    }
   ],
   "source": [
    "final_features"
   ]
  },
  {
   "cell_type": "code",
   "execution_count": null,
   "metadata": {},
   "outputs": [],
   "source": []
  }
 ],
 "metadata": {
  "file_extension": ".py",
  "kernelspec": {
   "display_name": "Python 3",
   "language": "python",
   "name": "python3"
  },
  "language_info": {
   "codemirror_mode": {
    "name": "ipython",
    "version": 3
   },
   "file_extension": ".py",
   "mimetype": "text/x-python",
   "name": "python",
   "nbconvert_exporter": "python",
   "pygments_lexer": "ipython3",
   "version": "3.7.6-final"
  },
  "mimetype": "text/x-python",
  "name": "python",
  "npconvert_exporter": "python",
  "pygments_lexer": "ipython3",
  "version": 3
 },
 "nbformat": 4,
 "nbformat_minor": 2
}