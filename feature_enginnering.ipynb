{
 "nbformat": 4,
 "nbformat_minor": 2,
 "metadata": {
  "language_info": {
   "name": "python",
   "codemirror_mode": {
    "name": "ipython",
    "version": 3
   },
   "version": "3.7.6-final"
  },
  "orig_nbformat": 2,
  "file_extension": ".py",
  "mimetype": "text/x-python",
  "name": "python",
  "npconvert_exporter": "python",
  "pygments_lexer": "ipython3",
  "version": 3,
  "kernelspec": {
   "name": "python3",
   "display_name": "Python 3"
  }
 },
 "cells": [
  {
   "cell_type": "markdown",
   "metadata": {},
   "source": [
    "# Feature Engineering"
   ]
  },
  {
   "cell_type": "markdown",
   "metadata": {},
   "source": [
    "## Libraries"
   ]
  },
  {
   "cell_type": "code",
   "execution_count": 1,
   "metadata": {},
   "outputs": [],
   "source": [
    "import numpy as np\n",
    "import pandas as pd\n",
    "from cnr_methods import get_simplified_data \n",
    "\n",
    "# Feature Engineering Library for Time Series\n",
    "from tsfresh import extract_features\n",
    "from tsfresh.utilities.dataframe_functions import make_forecasting_frame\n",
    "from tsfresh.utilities.dataframe_functions import impute\n",
    "\n",
    "from sklearn.ensemble import RandomForestRegressor\n",
    "# Feature Selection Library\n",
    "from boruta import BorutaPy"
   ]
  },
  {
   "cell_type": "markdown",
   "metadata": {},
   "source": [
    "## Read Data"
   ]
  },
  {
   "cell_type": "code",
   "execution_count": 9,
   "metadata": {},
   "outputs": [],
   "source": [
    "full_data = get_simplified_data()"
   ]
  },
  {
   "cell_type": "code",
   "execution_count": 10,
   "metadata": {},
   "outputs": [
    {
     "output_type": "execute_result",
     "data": {
      "text/plain": "   ID              Time   WF           T       CLCT    Set  Wind Speed 100m  \\\n0   1  01/05/2018 01:00  WF1  286.440000  82.543144  Train         3.958410   \n1   2  01/05/2018 02:00  WF1  286.260000  99.990844  Train         2.831607   \n2   3  01/05/2018 03:00  WF1  286.575000  98.367235  Train         1.249405   \n3   4  01/05/2018 04:00  WF1  285.842832  94.860604  Train         1.245551   \n4   5  01/05/2018 05:00  WF1  285.967452  95.905879  Train         1.266747   \n\n   Wind Direction 100m  Wind Speed 10m  Wind Direction 10m  \n0             0.966685        1.287613           -0.226923  \n1             0.535998        2.524975           -0.164453  \n2             0.215257        1.731130           -0.956996  \n3             1.226732        1.183180           -0.948583  \n4            -1.491457        0.414344           -0.792171  ",
      "text/html": "<div>\n<style scoped>\n    .dataframe tbody tr th:only-of-type {\n        vertical-align: middle;\n    }\n\n    .dataframe tbody tr th {\n        vertical-align: top;\n    }\n\n    .dataframe thead th {\n        text-align: right;\n    }\n</style>\n<table border=\"1\" class=\"dataframe\">\n  <thead>\n    <tr style=\"text-align: right;\">\n      <th></th>\n      <th>ID</th>\n      <th>Time</th>\n      <th>WF</th>\n      <th>T</th>\n      <th>CLCT</th>\n      <th>Set</th>\n      <th>Wind Speed 100m</th>\n      <th>Wind Direction 100m</th>\n      <th>Wind Speed 10m</th>\n      <th>Wind Direction 10m</th>\n    </tr>\n  </thead>\n  <tbody>\n    <tr>\n      <th>0</th>\n      <td>1</td>\n      <td>01/05/2018 01:00</td>\n      <td>WF1</td>\n      <td>286.440000</td>\n      <td>82.543144</td>\n      <td>Train</td>\n      <td>3.958410</td>\n      <td>0.966685</td>\n      <td>1.287613</td>\n      <td>-0.226923</td>\n    </tr>\n    <tr>\n      <th>1</th>\n      <td>2</td>\n      <td>01/05/2018 02:00</td>\n      <td>WF1</td>\n      <td>286.260000</td>\n      <td>99.990844</td>\n      <td>Train</td>\n      <td>2.831607</td>\n      <td>0.535998</td>\n      <td>2.524975</td>\n      <td>-0.164453</td>\n    </tr>\n    <tr>\n      <th>2</th>\n      <td>3</td>\n      <td>01/05/2018 03:00</td>\n      <td>WF1</td>\n      <td>286.575000</td>\n      <td>98.367235</td>\n      <td>Train</td>\n      <td>1.249405</td>\n      <td>0.215257</td>\n      <td>1.731130</td>\n      <td>-0.956996</td>\n    </tr>\n    <tr>\n      <th>3</th>\n      <td>4</td>\n      <td>01/05/2018 04:00</td>\n      <td>WF1</td>\n      <td>285.842832</td>\n      <td>94.860604</td>\n      <td>Train</td>\n      <td>1.245551</td>\n      <td>1.226732</td>\n      <td>1.183180</td>\n      <td>-0.948583</td>\n    </tr>\n    <tr>\n      <th>4</th>\n      <td>5</td>\n      <td>01/05/2018 05:00</td>\n      <td>WF1</td>\n      <td>285.967452</td>\n      <td>95.905879</td>\n      <td>Train</td>\n      <td>1.266747</td>\n      <td>-1.491457</td>\n      <td>0.414344</td>\n      <td>-0.792171</td>\n    </tr>\n  </tbody>\n</table>\n</div>"
     },
     "metadata": {},
     "execution_count": 10
    }
   ],
   "source": [
    "full_data.head()"
   ]
  },
  {
   "cell_type": "markdown",
   "metadata": {},
   "source": [
    "To simplify the work, we will generate features for just one Wind Farm. When doing modelling, the features, as the models, will be generated for all Wind Farms separately."
   ]
  },
  {
   "cell_type": "code",
   "execution_count": 11,
   "metadata": {},
   "outputs": [],
   "source": [
    "WF = 'WF1'\n",
    "data = full_data[full_data['WF']==WF]"
   ]
  },
  {
   "cell_type": "markdown",
   "metadata": {},
   "source": [
    "## Tsfresh"
   ]
  },
  {
   "cell_type": "markdown",
   "metadata": {},
   "source": [
    "First, we use Tsfresh, a Python Library that automates Feature Engineering for Time Series Data. We generate new features for all the columns on the Simplified Data, as done below."
   ]
  },
  {
   "cell_type": "code",
   "execution_count": 12,
   "metadata": {},
   "outputs": [
    {
     "output_type": "stream",
     "name": "stderr",
     "text": "Feature Extraction:   0%|          | 0/15 [00:00<?, ?it/s]"
    }
   ],
   "source": [
    "feature_data = pd.DataFrame()\n",
    "for wf in full_data['WF'].unique():\n",
    "    for variable in ['T', 'CLCT', 'Wind Speed 100m','Wind Direction 100m', 'Wind Speed 10m', 'Wind Direction 10m']:\n",
    "        df_shift, y = make_forecasting_frame(data[variable],kind=variable,max_timeshift=20,rolling_direction=1)\n",
    "        X = extract_features(df_shift, column_id=\"id\", column_sort=\"time\", column_value=\"value\", impute_function=impute,show_warnings=False,n_jobs=3)\n",
    "        X['Feature'] = variable\n",
    "        feature_data = feature_data.append(X)"
   ]
  },
  {
   "cell_type": "markdown",
   "metadata": {},
   "source": [
    "## Feature Selection"
   ]
  },
  {
   "cell_type": "markdown",
   "metadata": {},
   "source": [
    "Here we do the Feature Selection using Borutapy, a Python Implementation of the Famous R Method. For the method we use a Random Forest Regressor."
   ]
  },
  {
   "cell_type": "code",
   "execution_count": null,
   "metadata": {},
   "outputs": [],
   "source": [
    "rf = RandomForestClassifier(n_jobs=-1, class_weight='balanced', max_depth=5)"
   ]
  },
  {
   "cell_type": "code",
   "execution_count": null,
   "metadata": {},
   "outputs": [],
   "source": [
    "feat_selector = BorutaPy(rf, n_estimators='auto', verbose=2, random_state=1)"
   ]
  },
  {
   "cell_type": "code",
   "execution_count": null,
   "metadata": {},
   "outputs": [],
   "source": [
    "feat_selector.fit(X, y)"
   ]
  },
  {
   "cell_type": "code",
   "execution_count": null,
   "metadata": {},
   "outputs": [],
   "source": [
    "feat_selector.ranking_"
   ]
  }
 ]
}