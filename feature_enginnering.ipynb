{
 "nbformat": 4,
 "nbformat_minor": 2,
 "metadata": {
  "language_info": {
   "name": "python",
   "codemirror_mode": {
    "name": "ipython",
    "version": 3
   },
   "version": "3.7.6-final"
  },
  "orig_nbformat": 2,
  "file_extension": ".py",
  "mimetype": "text/x-python",
  "name": "python",
  "npconvert_exporter": "python",
  "pygments_lexer": "ipython3",
  "version": 3,
  "kernelspec": {
   "name": "python3",
   "display_name": "Python 3"
  }
 },
 "cells": [
  {
   "cell_type": "markdown",
   "metadata": {},
   "source": [
    "# Feature Engineering"
   ]
  },
  {
   "cell_type": "markdown",
   "metadata": {},
   "source": [
    "## Libraries"
   ]
  },
  {
   "cell_type": "code",
   "execution_count": 48,
   "metadata": {},
   "outputs": [],
   "source": [
    "import numpy as np\n",
    "import pandas as pd\n",
    "from cnr_methods import get_simplified_data \n",
    "\n",
    "# Feature Engineering Library for Time Series\n",
    "from tsfresh import extract_relevant_features\n",
    "from tsfresh.utilities.dataframe_functions import make_forecasting_frame\n",
    "from tsfresh.utilities.dataframe_functions import impute\n",
    "\n",
    "from sklearn.ensemble import RandomForestRegressor\n",
    "# Feature Selection Library\n",
    "from boruta import BorutaPy"
   ]
  },
  {
   "cell_type": "markdown",
   "metadata": {},
   "source": [
    "## Read Data"
   ]
  },
  {
   "cell_type": "markdown",
   "metadata": {},
   "source": [
    "For this pipeline, only Training Set will be used."
   ]
  },
  {
   "cell_type": "code",
   "execution_count": 49,
   "metadata": {},
   "outputs": [],
   "source": [
    "full_data = get_simplified_data()\n",
    "full_data = full_data[full_data['Set']=='Train']\n",
    "y_train = pd.read_csv('Y_train.csv')"
   ]
  },
  {
   "cell_type": "markdown",
   "metadata": {},
   "source": [
    "As done in the other Notebooks, we will transform the Column 'Time' to Datetime format and set as the index of the dataset."
   ]
  },
  {
   "cell_type": "code",
   "execution_count": 50,
   "metadata": {},
   "outputs": [],
   "source": [
    "full_data['Time'] = pd.to_datetime(full_data['Time'],dayfirst=True)\n",
    "full_data = full_data.set_index('Time')"
   ]
  },
  {
   "cell_type": "code",
   "execution_count": 51,
   "metadata": {},
   "outputs": [
    {
     "output_type": "execute_result",
     "data": {
      "text/plain": "                     ID   WF    U_100m    V_100m     U_10m     V_10m        T  \\\nTime                                                                            \n2018-05-01 01:00:00   1  WF1 -2.248500 -3.257800  1.254603 -0.289687  286.440   \n2018-05-01 02:00:00   2  WF1 -2.434500 -1.446100  2.490908 -0.413370  286.260   \n2018-05-01 03:00:00   3  WF1 -1.220571 -0.266871  0.997093 -1.415138  286.575   \n2018-05-01 04:00:00   4  WF1  3.706500 -6.217400  0.689598 -0.961441  284.780   \n2018-05-01 05:00:00   5  WF1  3.813400 -5.444600  0.290994 -0.294963  284.460   \n\n                          CLCT    Set  \nTime                                   \n2018-05-01 01:00:00  82.543144  Train  \n2018-05-01 02:00:00  99.990844  Train  \n2018-05-01 03:00:00  98.367235  Train  \n2018-05-01 04:00:00  94.860604  Train  \n2018-05-01 05:00:00  95.905879  Train  ",
      "text/html": "<div>\n<style scoped>\n    .dataframe tbody tr th:only-of-type {\n        vertical-align: middle;\n    }\n\n    .dataframe tbody tr th {\n        vertical-align: top;\n    }\n\n    .dataframe thead th {\n        text-align: right;\n    }\n</style>\n<table border=\"1\" class=\"dataframe\">\n  <thead>\n    <tr style=\"text-align: right;\">\n      <th></th>\n      <th>ID</th>\n      <th>WF</th>\n      <th>U_100m</th>\n      <th>V_100m</th>\n      <th>U_10m</th>\n      <th>V_10m</th>\n      <th>T</th>\n      <th>CLCT</th>\n      <th>Set</th>\n    </tr>\n    <tr>\n      <th>Time</th>\n      <th></th>\n      <th></th>\n      <th></th>\n      <th></th>\n      <th></th>\n      <th></th>\n      <th></th>\n      <th></th>\n      <th></th>\n    </tr>\n  </thead>\n  <tbody>\n    <tr>\n      <th>2018-05-01 01:00:00</th>\n      <td>1</td>\n      <td>WF1</td>\n      <td>-2.248500</td>\n      <td>-3.257800</td>\n      <td>1.254603</td>\n      <td>-0.289687</td>\n      <td>286.440</td>\n      <td>82.543144</td>\n      <td>Train</td>\n    </tr>\n    <tr>\n      <th>2018-05-01 02:00:00</th>\n      <td>2</td>\n      <td>WF1</td>\n      <td>-2.434500</td>\n      <td>-1.446100</td>\n      <td>2.490908</td>\n      <td>-0.413370</td>\n      <td>286.260</td>\n      <td>99.990844</td>\n      <td>Train</td>\n    </tr>\n    <tr>\n      <th>2018-05-01 03:00:00</th>\n      <td>3</td>\n      <td>WF1</td>\n      <td>-1.220571</td>\n      <td>-0.266871</td>\n      <td>0.997093</td>\n      <td>-1.415138</td>\n      <td>286.575</td>\n      <td>98.367235</td>\n      <td>Train</td>\n    </tr>\n    <tr>\n      <th>2018-05-01 04:00:00</th>\n      <td>4</td>\n      <td>WF1</td>\n      <td>3.706500</td>\n      <td>-6.217400</td>\n      <td>0.689598</td>\n      <td>-0.961441</td>\n      <td>284.780</td>\n      <td>94.860604</td>\n      <td>Train</td>\n    </tr>\n    <tr>\n      <th>2018-05-01 05:00:00</th>\n      <td>5</td>\n      <td>WF1</td>\n      <td>3.813400</td>\n      <td>-5.444600</td>\n      <td>0.290994</td>\n      <td>-0.294963</td>\n      <td>284.460</td>\n      <td>95.905879</td>\n      <td>Train</td>\n    </tr>\n  </tbody>\n</table>\n</div>"
     },
     "metadata": {},
     "execution_count": 51
    }
   ],
   "source": [
    "full_data.head()"
   ]
  },
  {
   "cell_type": "markdown",
   "metadata": {},
   "source": [
    "To simplify the work, we will generate features for just one Wind Farm. When doing modelling, the features, as the models, will be generated for all Wind Farms separately."
   ]
  },
  {
   "cell_type": "code",
   "execution_count": 52,
   "metadata": {},
   "outputs": [],
   "source": [
    "WF = 'WF1'\n",
    "data = full_data[full_data['WF']==WF]\n",
    "y_train = y_train[y_train['ID'].isin(data['ID'])]"
   ]
  },
  {
   "cell_type": "markdown",
   "metadata": {},
   "source": [
    "## Feature Creation"
   ]
  },
  {
   "cell_type": "markdown",
   "metadata": {},
   "source": [
    "### Wind Speed Vector"
   ]
  },
  {
   "cell_type": "code",
   "execution_count": 53,
   "metadata": {},
   "outputs": [],
   "source": [
    "feature_data = data[['ID','WF','U_100m','V_100m','U_10m','V_10m','T','CLCT','Set']]\n",
    "feature_data['Wind Speed 100m'] = np.sqrt(feature_data['U_100m']**2 + feature_data['V_100m']**2)\n",
    "feature_data['Wind Direction 100m'] = np.arctan(feature_data['V_100m']/feature_data['U_100m'])\n",
    "feature_data['Wind Speed 10m'] = np.sqrt(feature_data['U_10m']**2 + feature_data['V_10m']**2)\n",
    "feature_data['Wind Direction 10m'] = np.arctan(feature_data['V_10m']/feature_data['U_10m'])\n",
    "feature_data = feature_data.drop(['U_100m','V_100m','U_10m','V_10m'],axis=1)"
   ]
  },
  {
   "cell_type": "markdown",
   "metadata": {},
   "source": [
    "Changing Reference for Negative Angle:"
   ]
  },
  {
   "cell_type": "code",
   "execution_count": 54,
   "metadata": {},
   "outputs": [],
   "source": [
    "feature_data[feature_data['Wind Direction 100m'] < 0]['Wind Direction 100m'] = 360 - feature_data[feature_data['Wind Direction 100m'] < 0]['Wind Direction 100m']\n",
    "feature_data[feature_data['Wind Direction 10m'] < 0]['Wind Direction 10m'] = 360 - feature_data[feature_data['Wind Direction 10m'] < 0]['Wind Direction 10m']"
   ]
  },
  {
   "cell_type": "markdown",
   "metadata": {},
   "source": [
    "Using Wind Speed and Direction instead of U and V, we will create some variables over the Numerical Variables from the simplified data."
   ]
  },
  {
   "cell_type": "code",
   "execution_count": 55,
   "metadata": {},
   "outputs": [],
   "source": [
    "features = ['T', 'CLCT', 'Wind Speed 100m','Wind Direction 100m', 'Wind Speed 10m', 'Wind Direction 10m']"
   ]
  },
  {
   "cell_type": "markdown",
   "metadata": {},
   "source": [
    "### Time-Relative Variables"
   ]
  },
  {
   "cell_type": "markdown",
   "metadata": {},
   "source": [
    "Here, we get Values for Last Week and Month for each Numerical Feature."
   ]
  },
  {
   "cell_type": "code",
   "execution_count": 56,
   "metadata": {},
   "outputs": [],
   "source": [
    "for column in features:\n",
    "    feature_data[column + '_last_week'] = feature_data[column].shift(7)\n",
    "    feature_data[column + '_last_month'] = feature_data[column].shift(30)"
   ]
  },
  {
   "cell_type": "markdown",
   "metadata": {},
   "source": [
    "Get the Number of Month:"
   ]
  },
  {
   "cell_type": "code",
   "execution_count": 57,
   "metadata": {},
   "outputs": [],
   "source": [
    "feature_data['Month_Number'] = feature_data.index.month"
   ]
  },
  {
   "cell_type": "markdown",
   "metadata": {},
   "source": [
    "Month Statistics:"
   ]
  },
  {
   "cell_type": "code",
   "execution_count": 58,
   "metadata": {},
   "outputs": [],
   "source": [
    "mean = feature_data.groupby('Month_Number').mean()[features]\n",
    "median = feature_data.groupby('Month_Number').median()[features]\n",
    "variance = feature_data.groupby('Month_Number').var()[features]"
   ]
  },
  {
   "cell_type": "code",
   "execution_count": 59,
   "metadata": {},
   "outputs": [],
   "source": [
    "mean.columns = mean.columns + '_Month_Mean'\n",
    "median.columns = median.columns + '_Month_Median'\n",
    "variance.columns = variance.columns + '_Month_Variance'"
   ]
  },
  {
   "cell_type": "code",
   "execution_count": 60,
   "metadata": {},
   "outputs": [],
   "source": [
    "feature_data = feature_data.merge(mean,on='Month_Number',how='left')\n",
    "feature_data = feature_data.merge(median,on='Month_Number',how='left')\n",
    "feature_data = feature_data.merge(variance,on='Month_Number',how='left')"
   ]
  },
  {
   "cell_type": "code",
   "execution_count": 61,
   "metadata": {},
   "outputs": [],
   "source": [
    "feature_data.index = data.index"
   ]
  },
  {
   "cell_type": "markdown",
   "metadata": {},
   "source": [
    "### Distance from Features"
   ]
  },
  {
   "cell_type": "markdown",
   "metadata": {},
   "source": [
    "Distance of Position of Max and Min (Already on Tsfresh, check it later):"
   ]
  },
  {
   "cell_type": "code",
   "execution_count": 62,
   "metadata": {},
   "outputs": [],
   "source": [
    "for column in features:\n",
    "    feature_data[column + '_Distance_Max'] = feature_data.index - feature_data[column].idxmax()\n",
    "    feature_data[column + '_Distance_Min'] = feature_data.index - feature_data[column].idxmin()\n",
    "    feature_data[column + '_Distance_Max'] = feature_data[column + '_Distance_Max'].apply(lambda x : x.days)\n",
    "    feature_data[column + '_Distance_Min'] = feature_data[column + '_Distance_Min'].apply(lambda x : x.days)"
   ]
  },
  {
   "cell_type": "markdown",
   "metadata": {},
   "source": [
    "### Rolling Window Variables"
   ]
  },
  {
   "cell_type": "markdown",
   "metadata": {},
   "source": [
    "### Wavelet Transformations (Check)"
   ]
  },
  {
   "cell_type": "markdown",
   "metadata": {},
   "source": [
    "### Exponential Smoothing (Check)"
   ]
  },
  {
   "cell_type": "code",
   "execution_count": 66,
   "metadata": {},
   "outputs": [],
   "source": [
    "feature_data = feature_data.fillna(0)"
   ]
  },
  {
   "cell_type": "markdown",
   "metadata": {},
   "source": [
    "## Tsfresh"
   ]
  },
  {
   "cell_type": "markdown",
   "metadata": {},
   "source": [
    "Now we use Tsfresh, a Python Library that automates Feature Engineering for Time Series Data. We generate new features for all the columns on the Simplified Data, as done below. This step is done after the Wind Speed Vector calculation to avoid Negative Values on the features generated, which would cause problems on the Log Transformations done before Feature Selection."
   ]
  },
  {
   "cell_type": "code",
   "execution_count": 8,
   "metadata": {},
   "outputs": [
    {
     "output_type": "stream",
     "name": "stderr",
     "text": "Feature Extraction: 100%|██████████| 15/15 [02:10<00:00,  8.67s/it]\nFeature Extraction: 100%|██████████| 15/15 [01:46<00:00,  7.10s/it]\nFeature Extraction: 100%|██████████| 15/15 [02:08<00:00,  8.59s/it]\nFeature Extraction: 100%|██████████| 15/15 [02:11<00:00,  8.75s/it]\nFeature Extraction: 100%|██████████| 15/15 [02:08<00:00,  8.59s/it]\nFeature Extraction: 100%|██████████| 15/15 [02:10<00:00,  8.70s/it]\n"
    }
   ],
   "source": [
    "tsfresh_data = pd.DataFrame()\n",
    "for variable in ['T', 'CLCT', 'Wind Speed 100m','Wind Direction 100m', 'Wind Speed 10m', 'Wind Direction 10m']:\n",
    "    df_shift, y = make_forecasting_frame(feature_data[variable],kind=variable,max_timeshift=20,rolling_direction=1)\n",
    "    X = extract_relevant_features(df_shift.drop('kind',axis=1),y,column_id=\"id\", column_sort=\"time\",show_warnings=False,n_jobs=3)\n",
    "    X['Feature'] = variable\n",
    "    tsfresh_data = tsfresh_data.append(X)"
   ]
  },
  {
   "cell_type": "markdown",
   "metadata": {},
   "source": [
    "Process tsfresh_data to pass column 'Features' to the other columns"
   ]
  },
  {
   "cell_type": "code",
   "execution_count": 9,
   "metadata": {},
   "outputs": [],
   "source": [
    "tsfresh_data = tsfresh_data.pivot(columns='Feature')"
   ]
  },
  {
   "cell_type": "code",
   "execution_count": 10,
   "metadata": {},
   "outputs": [],
   "source": [
    "tsfresh_data.columns = tsfresh_data.columns.map('{0[0]}|{0[1]}'.format)"
   ]
  },
  {
   "cell_type": "code",
   "execution_count": 19,
   "metadata": {},
   "outputs": [],
   "source": [
    "tsfresh_data = tsfresh_data.fillna(0)"
   ]
  },
  {
   "cell_type": "code",
   "execution_count": 20,
   "metadata": {},
   "outputs": [
    {
     "output_type": "execute_result",
     "data": {
      "text/plain": "                     value__abs_energy|CLCT  value__abs_energy|T  \\\nid                                                                 \n2018-05-01 02:00:00             6813.370572         82047.873600   \n2018-05-01 03:00:00            16811.539518        163992.661200   \n2018-05-01 04:00:00            26487.652359        246117.891825   \n2018-05-01 05:00:00            35486.186521        327217.540225   \n2018-05-01 06:00:00            44684.124127        408135.031825   \n\n                     value__abs_energy|Wind Direction 100m  \\\nid                                                           \n2018-05-01 02:00:00                               0.934480   \n2018-05-01 03:00:00                               1.221774   \n2018-05-01 04:00:00                               1.268109   \n2018-05-01 05:00:00                               2.335638   \n2018-05-01 06:00:00                               3.256857   \n\n                     value__abs_energy|Wind Direction 10m  \\\nid                                                          \n2018-05-01 02:00:00                              0.051494   \n2018-05-01 03:00:00                              0.078539   \n2018-05-01 04:00:00                              0.994380   \n2018-05-01 05:00:00                              1.894191   \n2018-05-01 06:00:00                              2.521726   \n\n                     value__abs_energy|Wind Speed 100m  \\\nid                                                       \n2018-05-01 02:00:00                          15.669013   \n2018-05-01 03:00:00                          23.687009   \n2018-05-01 04:00:00                          25.248021   \n2018-05-01 05:00:00                          77.642226   \n2018-05-01 06:00:00                         121.827915   \n\n                     value__abs_energy|Wind Speed 10m  \\\nid                                                      \n2018-05-01 02:00:00                          1.657948   \n2018-05-01 03:00:00                          8.033445   \n2018-05-01 04:00:00                         11.030254   \n2018-05-01 05:00:00                         12.430168   \n2018-05-01 06:00:00                         12.601849   \n\n                     value__cwt_coefficients__widths_(2, 5, 10, 20)__coeff_4__w_10|CLCT  \\\nid                                                                                        \n2018-05-01 02:00:00                                         107.379975                    \n2018-05-01 03:00:00                                         107.379975                    \n2018-05-01 04:00:00                                         107.379975                    \n2018-05-01 05:00:00                                         107.379975                    \n2018-05-01 06:00:00                                          77.320684                    \n\n                     value__cwt_coefficients__widths_(2, 5, 10, 20)__coeff_4__w_10|T  \\\nid                                                                                     \n2018-05-01 02:00:00                                         784.843403                 \n2018-05-01 03:00:00                                         784.843403                 \n2018-05-01 04:00:00                                         784.843403                 \n2018-05-01 05:00:00                                         784.843403                 \n2018-05-01 06:00:00                                         228.921480                 \n\n                     value__cwt_coefficients__widths_(2, 5, 10, 20)__coeff_4__w_10|Wind Direction 100m  \\\nid                                                                                                       \n2018-05-01 02:00:00                                          -1.413445                                   \n2018-05-01 03:00:00                                          -1.413445                                   \n2018-05-01 04:00:00                                          -1.413445                                   \n2018-05-01 05:00:00                                          -1.413445                                   \n2018-05-01 06:00:00                                          -0.486840                                   \n\n                     value__cwt_coefficients__widths_(2, 5, 10, 20)__coeff_4__w_10|Wind Direction 10m  \\\nid                                                                                                      \n2018-05-01 02:00:00                                          -1.619390                                  \n2018-05-01 03:00:00                                          -1.619390                                  \n2018-05-01 04:00:00                                          -1.619390                                  \n2018-05-01 05:00:00                                          -1.619390                                  \n2018-05-01 06:00:00                                          -0.720543                                  \n\n                     ...  \\\nid                   ...   \n2018-05-01 02:00:00  ...   \n2018-05-01 03:00:00  ...   \n2018-05-01 04:00:00  ...   \n2018-05-01 05:00:00  ...   \n2018-05-01 06:00:00  ...   \n\n                     value__change_quantiles__f_agg_\"var\"__isabs_False__qh_0.6__ql_0.4|Wind Direction 100m  \\\nid                                                                                                           \n2018-05-01 02:00:00                                                0.0                                       \n2018-05-01 03:00:00                                                0.0                                       \n2018-05-01 04:00:00                                                0.0                                       \n2018-05-01 05:00:00                                                0.0                                       \n2018-05-01 06:00:00                                                0.0                                       \n\n                     value__change_quantiles__f_agg_\"var\"__isabs_False__qh_0.6__ql_0.4|Wind Direction 10m  \\\nid                                                                                                          \n2018-05-01 02:00:00                                                0.0                                      \n2018-05-01 03:00:00                                                0.0                                      \n2018-05-01 04:00:00                                                0.0                                      \n2018-05-01 05:00:00                                                0.0                                      \n2018-05-01 06:00:00                                                0.0                                      \n\n                     value__change_quantiles__f_agg_\"var\"__isabs_False__qh_0.6__ql_0.4|Wind Speed 100m  \\\nid                                                                                                       \n2018-05-01 02:00:00                                                0.0                                   \n2018-05-01 03:00:00                                                0.0                                   \n2018-05-01 04:00:00                                                0.0                                   \n2018-05-01 05:00:00                                                0.0                                   \n2018-05-01 06:00:00                                                0.0                                   \n\n                     value__change_quantiles__f_agg_\"var\"__isabs_False__qh_0.6__ql_0.4|Wind Speed 10m  \\\nid                                                                                                      \n2018-05-01 02:00:00                                                0.0                                  \n2018-05-01 03:00:00                                                0.0                                  \n2018-05-01 04:00:00                                                0.0                                  \n2018-05-01 05:00:00                                                0.0                                  \n2018-05-01 06:00:00                                                0.0                                  \n\n                     value__change_quantiles__f_agg_\"var\"__isabs_True__qh_0.6__ql_0.4|CLCT  \\\nid                                                                                           \n2018-05-01 02:00:00                                                0.0                       \n2018-05-01 03:00:00                                                0.0                       \n2018-05-01 04:00:00                                                0.0                       \n2018-05-01 05:00:00                                                0.0                       \n2018-05-01 06:00:00                                                0.0                       \n\n                     value__change_quantiles__f_agg_\"var\"__isabs_True__qh_0.6__ql_0.4|T  \\\nid                                                                                        \n2018-05-01 02:00:00                                                0.0                    \n2018-05-01 03:00:00                                                0.0                    \n2018-05-01 04:00:00                                                0.0                    \n2018-05-01 05:00:00                                                0.0                    \n2018-05-01 06:00:00                                                0.0                    \n\n                     value__change_quantiles__f_agg_\"var\"__isabs_True__qh_0.6__ql_0.4|Wind Direction 100m  \\\nid                                                                                                          \n2018-05-01 02:00:00                                                0.0                                      \n2018-05-01 03:00:00                                                0.0                                      \n2018-05-01 04:00:00                                                0.0                                      \n2018-05-01 05:00:00                                                0.0                                      \n2018-05-01 06:00:00                                                0.0                                      \n\n                     value__change_quantiles__f_agg_\"var\"__isabs_True__qh_0.6__ql_0.4|Wind Direction 10m  \\\nid                                                                                                         \n2018-05-01 02:00:00                                                0.0                                     \n2018-05-01 03:00:00                                                0.0                                     \n2018-05-01 04:00:00                                                0.0                                     \n2018-05-01 05:00:00                                                0.0                                     \n2018-05-01 06:00:00                                                0.0                                     \n\n                     value__change_quantiles__f_agg_\"var\"__isabs_True__qh_0.6__ql_0.4|Wind Speed 100m  \\\nid                                                                                                      \n2018-05-01 02:00:00                                                0.0                                  \n2018-05-01 03:00:00                                                0.0                                  \n2018-05-01 04:00:00                                                0.0                                  \n2018-05-01 05:00:00                                                0.0                                  \n2018-05-01 06:00:00                                                0.0                                  \n\n                     value__change_quantiles__f_agg_\"var\"__isabs_True__qh_0.6__ql_0.4|Wind Speed 10m  \nid                                                                                                    \n2018-05-01 02:00:00                                                0.0                                \n2018-05-01 03:00:00                                                0.0                                \n2018-05-01 04:00:00                                                0.0                                \n2018-05-01 05:00:00                                                0.0                                \n2018-05-01 06:00:00                                                0.0                                \n\n[5 rows x 2112 columns]",
      "text/html": "<div>\n<style scoped>\n    .dataframe tbody tr th:only-of-type {\n        vertical-align: middle;\n    }\n\n    .dataframe tbody tr th {\n        vertical-align: top;\n    }\n\n    .dataframe thead th {\n        text-align: right;\n    }\n</style>\n<table border=\"1\" class=\"dataframe\">\n  <thead>\n    <tr style=\"text-align: right;\">\n      <th></th>\n      <th>value__abs_energy|CLCT</th>\n      <th>value__abs_energy|T</th>\n      <th>value__abs_energy|Wind Direction 100m</th>\n      <th>value__abs_energy|Wind Direction 10m</th>\n      <th>value__abs_energy|Wind Speed 100m</th>\n      <th>value__abs_energy|Wind Speed 10m</th>\n      <th>value__cwt_coefficients__widths_(2, 5, 10, 20)__coeff_4__w_10|CLCT</th>\n      <th>value__cwt_coefficients__widths_(2, 5, 10, 20)__coeff_4__w_10|T</th>\n      <th>value__cwt_coefficients__widths_(2, 5, 10, 20)__coeff_4__w_10|Wind Direction 100m</th>\n      <th>value__cwt_coefficients__widths_(2, 5, 10, 20)__coeff_4__w_10|Wind Direction 10m</th>\n      <th>...</th>\n      <th>value__change_quantiles__f_agg_\"var\"__isabs_False__qh_0.6__ql_0.4|Wind Direction 100m</th>\n      <th>value__change_quantiles__f_agg_\"var\"__isabs_False__qh_0.6__ql_0.4|Wind Direction 10m</th>\n      <th>value__change_quantiles__f_agg_\"var\"__isabs_False__qh_0.6__ql_0.4|Wind Speed 100m</th>\n      <th>value__change_quantiles__f_agg_\"var\"__isabs_False__qh_0.6__ql_0.4|Wind Speed 10m</th>\n      <th>value__change_quantiles__f_agg_\"var\"__isabs_True__qh_0.6__ql_0.4|CLCT</th>\n      <th>value__change_quantiles__f_agg_\"var\"__isabs_True__qh_0.6__ql_0.4|T</th>\n      <th>value__change_quantiles__f_agg_\"var\"__isabs_True__qh_0.6__ql_0.4|Wind Direction 100m</th>\n      <th>value__change_quantiles__f_agg_\"var\"__isabs_True__qh_0.6__ql_0.4|Wind Direction 10m</th>\n      <th>value__change_quantiles__f_agg_\"var\"__isabs_True__qh_0.6__ql_0.4|Wind Speed 100m</th>\n      <th>value__change_quantiles__f_agg_\"var\"__isabs_True__qh_0.6__ql_0.4|Wind Speed 10m</th>\n    </tr>\n    <tr>\n      <th>id</th>\n      <th></th>\n      <th></th>\n      <th></th>\n      <th></th>\n      <th></th>\n      <th></th>\n      <th></th>\n      <th></th>\n      <th></th>\n      <th></th>\n      <th></th>\n      <th></th>\n      <th></th>\n      <th></th>\n      <th></th>\n      <th></th>\n      <th></th>\n      <th></th>\n      <th></th>\n      <th></th>\n      <th></th>\n    </tr>\n  </thead>\n  <tbody>\n    <tr>\n      <th>2018-05-01 02:00:00</th>\n      <td>6813.370572</td>\n      <td>82047.873600</td>\n      <td>0.934480</td>\n      <td>0.051494</td>\n      <td>15.669013</td>\n      <td>1.657948</td>\n      <td>107.379975</td>\n      <td>784.843403</td>\n      <td>-1.413445</td>\n      <td>-1.619390</td>\n      <td>...</td>\n      <td>0.0</td>\n      <td>0.0</td>\n      <td>0.0</td>\n      <td>0.0</td>\n      <td>0.0</td>\n      <td>0.0</td>\n      <td>0.0</td>\n      <td>0.0</td>\n      <td>0.0</td>\n      <td>0.0</td>\n    </tr>\n    <tr>\n      <th>2018-05-01 03:00:00</th>\n      <td>16811.539518</td>\n      <td>163992.661200</td>\n      <td>1.221774</td>\n      <td>0.078539</td>\n      <td>23.687009</td>\n      <td>8.033445</td>\n      <td>107.379975</td>\n      <td>784.843403</td>\n      <td>-1.413445</td>\n      <td>-1.619390</td>\n      <td>...</td>\n      <td>0.0</td>\n      <td>0.0</td>\n      <td>0.0</td>\n      <td>0.0</td>\n      <td>0.0</td>\n      <td>0.0</td>\n      <td>0.0</td>\n      <td>0.0</td>\n      <td>0.0</td>\n      <td>0.0</td>\n    </tr>\n    <tr>\n      <th>2018-05-01 04:00:00</th>\n      <td>26487.652359</td>\n      <td>246117.891825</td>\n      <td>1.268109</td>\n      <td>0.994380</td>\n      <td>25.248021</td>\n      <td>11.030254</td>\n      <td>107.379975</td>\n      <td>784.843403</td>\n      <td>-1.413445</td>\n      <td>-1.619390</td>\n      <td>...</td>\n      <td>0.0</td>\n      <td>0.0</td>\n      <td>0.0</td>\n      <td>0.0</td>\n      <td>0.0</td>\n      <td>0.0</td>\n      <td>0.0</td>\n      <td>0.0</td>\n      <td>0.0</td>\n      <td>0.0</td>\n    </tr>\n    <tr>\n      <th>2018-05-01 05:00:00</th>\n      <td>35486.186521</td>\n      <td>327217.540225</td>\n      <td>2.335638</td>\n      <td>1.894191</td>\n      <td>77.642226</td>\n      <td>12.430168</td>\n      <td>107.379975</td>\n      <td>784.843403</td>\n      <td>-1.413445</td>\n      <td>-1.619390</td>\n      <td>...</td>\n      <td>0.0</td>\n      <td>0.0</td>\n      <td>0.0</td>\n      <td>0.0</td>\n      <td>0.0</td>\n      <td>0.0</td>\n      <td>0.0</td>\n      <td>0.0</td>\n      <td>0.0</td>\n      <td>0.0</td>\n    </tr>\n    <tr>\n      <th>2018-05-01 06:00:00</th>\n      <td>44684.124127</td>\n      <td>408135.031825</td>\n      <td>3.256857</td>\n      <td>2.521726</td>\n      <td>121.827915</td>\n      <td>12.601849</td>\n      <td>77.320684</td>\n      <td>228.921480</td>\n      <td>-0.486840</td>\n      <td>-0.720543</td>\n      <td>...</td>\n      <td>0.0</td>\n      <td>0.0</td>\n      <td>0.0</td>\n      <td>0.0</td>\n      <td>0.0</td>\n      <td>0.0</td>\n      <td>0.0</td>\n      <td>0.0</td>\n      <td>0.0</td>\n      <td>0.0</td>\n    </tr>\n  </tbody>\n</table>\n<p>5 rows × 2112 columns</p>\n</div>"
     },
     "metadata": {},
     "execution_count": 20
    }
   ],
   "source": [
    "tsfresh_data.head()"
   ]
  },
  {
   "cell_type": "markdown",
   "metadata": {},
   "source": [
    "## Feature Selection"
   ]
  },
  {
   "cell_type": "markdown",
   "metadata": {},
   "source": [
    "Here we do the Feature Selection using Borutapy, a Python Implementation of the Famous R Method. For the method we use a Random Forest Regressor."
   ]
  },
  {
   "cell_type": "code",
   "execution_count": 67,
   "metadata": {},
   "outputs": [],
   "source": [
    "rf = RandomForestRegressor(n_estimators=100,n_jobs=3, max_depth=5)"
   ]
  },
  {
   "cell_type": "code",
   "execution_count": 68,
   "metadata": {},
   "outputs": [],
   "source": [
    "feat_selector = BorutaPy(rf, n_estimators='auto', verbose=2, random_state=1)"
   ]
  },
  {
   "cell_type": "code",
   "execution_count": 69,
   "metadata": {},
   "outputs": [
    {
     "output_type": "stream",
     "name": "stdout",
     "text": "Iteration: \t1 / 100\nConfirmed: \t0\nTentative: \t49\nRejected: \t0\nIteration: \t2 / 100\nConfirmed: \t0\nTentative: \t49\nRejected: \t0\nIteration: \t3 / 100\nConfirmed: \t0\nTentative: \t49\nRejected: \t0\nIteration: \t4 / 100\nConfirmed: \t0\nTentative: \t49\nRejected: \t0\nIteration: \t5 / 100\nConfirmed: \t0\nTentative: \t49\nRejected: \t0\nIteration: \t6 / 100\nConfirmed: \t0\nTentative: \t49\nRejected: \t0\nIteration: \t7 / 100\nConfirmed: \t0\nTentative: \t49\nRejected: \t0\nIteration: \t8 / 100\nConfirmed: \t28\nTentative: \t14\nRejected: \t7\nIteration: \t9 / 100\nConfirmed: \t28\nTentative: \t14\nRejected: \t7\nIteration: \t10 / 100\nConfirmed: \t28\nTentative: \t14\nRejected: \t7\nIteration: \t11 / 100\nConfirmed: \t28\nTentative: \t14\nRejected: \t7\nIteration: \t12 / 100\nConfirmed: \t29\nTentative: \t13\nRejected: \t7\nIteration: \t13 / 100\nConfirmed: \t29\nTentative: \t13\nRejected: \t7\nIteration: \t14 / 100\nConfirmed: \t29\nTentative: \t13\nRejected: \t7\nIteration: \t15 / 100\nConfirmed: \t29\nTentative: \t13\nRejected: \t7\nIteration: \t16 / 100\nConfirmed: \t30\nTentative: \t12\nRejected: \t7\nIteration: \t17 / 100\nConfirmed: \t30\nTentative: \t12\nRejected: \t7\nIteration: \t18 / 100\nConfirmed: \t30\nTentative: \t12\nRejected: \t7\nIteration: \t19 / 100\nConfirmed: \t31\nTentative: \t11\nRejected: \t7\nIteration: \t20 / 100\nConfirmed: \t31\nTentative: \t11\nRejected: \t7\nIteration: \t21 / 100\nConfirmed: \t31\nTentative: \t11\nRejected: \t7\nIteration: \t22 / 100\nConfirmed: \t31\nTentative: \t11\nRejected: \t7\nIteration: \t23 / 100\nConfirmed: \t31\nTentative: \t11\nRejected: \t7\nIteration: \t24 / 100\nConfirmed: \t31\nTentative: \t11\nRejected: \t7\nIteration: \t25 / 100\nConfirmed: \t31\nTentative: \t11\nRejected: \t7\nIteration: \t26 / 100\nConfirmed: \t31\nTentative: \t11\nRejected: \t7\nIteration: \t27 / 100\nConfirmed: \t31\nTentative: \t11\nRejected: \t7\nIteration: \t28 / 100\nConfirmed: \t31\nTentative: \t11\nRejected: \t7\nIteration: \t29 / 100\nConfirmed: \t31\nTentative: \t11\nRejected: \t7\nIteration: \t30 / 100\nConfirmed: \t31\nTentative: \t11\nRejected: \t7\nIteration: \t31 / 100\nConfirmed: \t31\nTentative: \t11\nRejected: \t7\nIteration: \t32 / 100\nConfirmed: \t32\nTentative: \t10\nRejected: \t7\nIteration: \t33 / 100\nConfirmed: \t32\nTentative: \t10\nRejected: \t7\nIteration: \t34 / 100\nConfirmed: \t34\nTentative: \t8\nRejected: \t7\nIteration: \t35 / 100\nConfirmed: \t34\nTentative: \t8\nRejected: \t7\nIteration: \t36 / 100\nConfirmed: \t34\nTentative: \t8\nRejected: \t7\nIteration: \t37 / 100\nConfirmed: \t34\nTentative: \t8\nRejected: \t7\nIteration: \t38 / 100\nConfirmed: \t34\nTentative: \t8\nRejected: \t7\nIteration: \t39 / 100\nConfirmed: \t34\nTentative: \t8\nRejected: \t7\nIteration: \t40 / 100\nConfirmed: \t34\nTentative: \t8\nRejected: \t7\nIteration: \t41 / 100\nConfirmed: \t34\nTentative: \t8\nRejected: \t7\nIteration: \t42 / 100\nConfirmed: \t34\nTentative: \t8\nRejected: \t7\nIteration: \t43 / 100\nConfirmed: \t34\nTentative: \t8\nRejected: \t7\nIteration: \t44 / 100\nConfirmed: \t34\nTentative: \t8\nRejected: \t7\nIteration: \t45 / 100\nConfirmed: \t34\nTentative: \t8\nRejected: \t7\nIteration: \t46 / 100\nConfirmed: \t34\nTentative: \t8\nRejected: \t7\nIteration: \t47 / 100\nConfirmed: \t34\nTentative: \t8\nRejected: \t7\nIteration: \t48 / 100\nConfirmed: \t34\nTentative: \t8\nRejected: \t7\nIteration: \t49 / 100\nConfirmed: \t34\nTentative: \t8\nRejected: \t7\nIteration: \t50 / 100\nConfirmed: \t34\nTentative: \t8\nRejected: \t7\nIteration: \t51 / 100\nConfirmed: \t34\nTentative: \t8\nRejected: \t7\nIteration: \t52 / 100\nConfirmed: \t34\nTentative: \t8\nRejected: \t7\nIteration: \t53 / 100\nConfirmed: \t34\nTentative: \t8\nRejected: \t7\nIteration: \t54 / 100\nConfirmed: \t34\nTentative: \t8\nRejected: \t7\nIteration: \t55 / 100\nConfirmed: \t34\nTentative: \t8\nRejected: \t7\nIteration: \t56 / 100\nConfirmed: \t34\nTentative: \t8\nRejected: \t7\nIteration: \t57 / 100\nConfirmed: \t34\nTentative: \t8\nRejected: \t7\nIteration: \t58 / 100\nConfirmed: \t34\nTentative: \t8\nRejected: \t7\nIteration: \t59 / 100\nConfirmed: \t35\nTentative: \t7\nRejected: \t7\nIteration: \t60 / 100\nConfirmed: \t35\nTentative: \t7\nRejected: \t7\nIteration: \t61 / 100\nConfirmed: \t35\nTentative: \t7\nRejected: \t7\nIteration: \t62 / 100\nConfirmed: \t35\nTentative: \t7\nRejected: \t7\nIteration: \t63 / 100\nConfirmed: \t35\nTentative: \t7\nRejected: \t7\nIteration: \t64 / 100\nConfirmed: \t35\nTentative: \t7\nRejected: \t7\nIteration: \t65 / 100\nConfirmed: \t35\nTentative: \t7\nRejected: \t7\nIteration: \t66 / 100\nConfirmed: \t35\nTentative: \t7\nRejected: \t7\nIteration: \t67 / 100\nConfirmed: \t35\nTentative: \t7\nRejected: \t7\nIteration: \t68 / 100\nConfirmed: \t35\nTentative: \t7\nRejected: \t7\nIteration: \t69 / 100\nConfirmed: \t35\nTentative: \t7\nRejected: \t7\nIteration: \t70 / 100\nConfirmed: \t35\nTentative: \t7\nRejected: \t7\nIteration: \t71 / 100\nConfirmed: \t35\nTentative: \t7\nRejected: \t7\nIteration: \t72 / 100\nConfirmed: \t35\nTentative: \t7\nRejected: \t7\nIteration: \t73 / 100\nConfirmed: \t35\nTentative: \t7\nRejected: \t7\nIteration: \t74 / 100\nConfirmed: \t35\nTentative: \t7\nRejected: \t7\nIteration: \t75 / 100\nConfirmed: \t35\nTentative: \t7\nRejected: \t7\nIteration: \t76 / 100\nConfirmed: \t35\nTentative: \t7\nRejected: \t7\nIteration: \t77 / 100\nConfirmed: \t35\nTentative: \t7\nRejected: \t7\nIteration: \t78 / 100\nConfirmed: \t35\nTentative: \t7\nRejected: \t7\nIteration: \t79 / 100\nConfirmed: \t35\nTentative: \t7\nRejected: \t7\nIteration: \t80 / 100\nConfirmed: \t35\nTentative: \t7\nRejected: \t7\nIteration: \t81 / 100\nConfirmed: \t35\nTentative: \t7\nRejected: \t7\nIteration: \t82 / 100\nConfirmed: \t35\nTentative: \t7\nRejected: \t7\nIteration: \t83 / 100\nConfirmed: \t35\nTentative: \t7\nRejected: \t7\nIteration: \t84 / 100\nConfirmed: \t35\nTentative: \t7\nRejected: \t7\nIteration: \t85 / 100\nConfirmed: \t35\nTentative: \t7\nRejected: \t7\nIteration: \t86 / 100\nConfirmed: \t35\nTentative: \t7\nRejected: \t7\nIteration: \t87 / 100\nConfirmed: \t35\nTentative: \t7\nRejected: \t7\nIteration: \t88 / 100\nConfirmed: \t35\nTentative: \t7\nRejected: \t7\nIteration: \t89 / 100\nConfirmed: \t35\nTentative: \t7\nRejected: \t7\nIteration: \t90 / 100\nConfirmed: \t35\nTentative: \t7\nRejected: \t7\nIteration: \t91 / 100\nConfirmed: \t35\nTentative: \t7\nRejected: \t7\nIteration: \t92 / 100\nConfirmed: \t35\nTentative: \t7\nRejected: \t7\nIteration: \t93 / 100\nConfirmed: \t35\nTentative: \t7\nRejected: \t7\nIteration: \t94 / 100\nConfirmed: \t35\nTentative: \t7\nRejected: \t7\nIteration: \t95 / 100\nConfirmed: \t35\nTentative: \t7\nRejected: \t7\nIteration: \t96 / 100\nConfirmed: \t35\nTentative: \t7\nRejected: \t7\nIteration: \t97 / 100\nConfirmed: \t35\nTentative: \t7\nRejected: \t7\nIteration: \t98 / 100\nConfirmed: \t35\nTentative: \t7\nRejected: \t7\nIteration: \t99 / 100\nConfirmed: \t35\nTentative: \t7\nRejected: \t7\n\n\nBorutaPy finished running.\n\nIteration: \t100 / 100\nConfirmed: \t35\nTentative: \t0\nRejected: \t7\n"
    },
    {
     "output_type": "execute_result",
     "data": {
      "text/plain": "BorutaPy(alpha=0.05,\n         estimator=RandomForestRegressor(bootstrap=True, ccp_alpha=0.0,\n                                         criterion='mse', max_depth=5,\n                                         max_features='auto',\n                                         max_leaf_nodes=None, max_samples=None,\n                                         min_impurity_decrease=0.0,\n                                         min_impurity_split=None,\n                                         min_samples_leaf=1,\n                                         min_samples_split=2,\n                                         min_weight_fraction_leaf=0.0,\n                                         n_estimators=183, n_jobs=3,\n                                         oob_score=False,\n                                         random_state=RandomState(MT19937) at 0x1C4A94248C8,\n                                         verbose=0, warm_start=False),\n         max_iter=100, n_estimators='auto', perc=100,\n         random_state=RandomState(MT19937) at 0x1C4A94248C8, two_step=True,\n         verbose=2)"
     },
     "metadata": {},
     "execution_count": 69
    }
   ],
   "source": [
    "feat_selector.fit(feature_data.drop(['ID','WF','Set'],axis=1).values, y_train['Production'].values)"
   ]
  },
  {
   "cell_type": "code",
   "execution_count": 70,
   "metadata": {},
   "outputs": [
    {
     "output_type": "execute_result",
     "data": {
      "text/plain": "array([ 1,  1,  1,  1,  1,  1,  1,  1,  1,  1,  6,  1,  1,  1,  4,  1,  1,\n        1, 13,  9,  2,  1,  1,  1, 11, 10,  4, 14,  1,  1,  1,  6,  6,  2,\n        8,  1, 12,  1,  1,  1,  1,  1,  1,  1,  1,  1,  1,  1,  1])"
     },
     "metadata": {},
     "execution_count": 70
    }
   ],
   "source": [
    "feat_selector.ranking_"
   ]
  },
  {
   "cell_type": "code",
   "execution_count": 85,
   "metadata": {},
   "outputs": [
    {
     "output_type": "execute_result",
     "data": {
      "text/plain": "array([ True,  True,  True,  True,  True,  True,  True,  True,  True,\n        True, False,  True,  True,  True, False,  True,  True,  True,\n       False, False, False,  True,  True,  True, False, False, False,\n       False,  True,  True,  True, False, False, False, False,  True,\n       False,  True,  True,  True,  True,  True,  True,  True,  True,\n        True,  True,  True,  True])"
     },
     "metadata": {},
     "execution_count": 85
    }
   ],
   "source": [
    "feat_selector.support_"
   ]
  },
  {
   "cell_type": "code",
   "execution_count": 73,
   "metadata": {},
   "outputs": [
    {
     "output_type": "error",
     "ename": "TypeError",
     "evalue": "'(slice(None, None, None), array([ True,  True,  True,  True,  True,  True,  True,  True,  True,\n        True, False,  True,  True,  True, False,  True,  True,  True,\n       False, False, False,  True,  True,  True, False, False, False,\n       False,  True,  True,  True, False, False, False, False,  True,\n       False,  True,  True,  True,  True,  True,  True,  True,  True,\n        True,  True,  True,  True]))' is an invalid key",
     "traceback": [
      "\u001b[1;31m---------------------------------------------------------------------------\u001b[0m",
      "\u001b[1;31mTypeError\u001b[0m                                 Traceback (most recent call last)",
      "\u001b[1;32m<ipython-input-73-97055b02ad05>\u001b[0m in \u001b[0;36m<module>\u001b[1;34m\u001b[0m\n\u001b[1;32m----> 1\u001b[1;33m \u001b[0mselected\u001b[0m \u001b[1;33m=\u001b[0m \u001b[0mfeature_data\u001b[0m\u001b[1;33m[\u001b[0m\u001b[1;33m:\u001b[0m\u001b[1;33m,\u001b[0m \u001b[0mfeat_selector\u001b[0m\u001b[1;33m.\u001b[0m\u001b[0msupport_\u001b[0m\u001b[1;33m]\u001b[0m\u001b[1;33m\u001b[0m\u001b[1;33m\u001b[0m\u001b[0m\n\u001b[0m",
      "\u001b[1;32m~\\anaconda3\\lib\\site-packages\\pandas\\core\\frame.py\u001b[0m in \u001b[0;36m__getitem__\u001b[1;34m(self, key)\u001b[0m\n\u001b[0;32m   2798\u001b[0m             \u001b[1;32mif\u001b[0m \u001b[0mself\u001b[0m\u001b[1;33m.\u001b[0m\u001b[0mcolumns\u001b[0m\u001b[1;33m.\u001b[0m\u001b[0mnlevels\u001b[0m \u001b[1;33m>\u001b[0m \u001b[1;36m1\u001b[0m\u001b[1;33m:\u001b[0m\u001b[1;33m\u001b[0m\u001b[1;33m\u001b[0m\u001b[0m\n\u001b[0;32m   2799\u001b[0m                 \u001b[1;32mreturn\u001b[0m \u001b[0mself\u001b[0m\u001b[1;33m.\u001b[0m\u001b[0m_getitem_multilevel\u001b[0m\u001b[1;33m(\u001b[0m\u001b[0mkey\u001b[0m\u001b[1;33m)\u001b[0m\u001b[1;33m\u001b[0m\u001b[1;33m\u001b[0m\u001b[0m\n\u001b[1;32m-> 2800\u001b[1;33m             \u001b[0mindexer\u001b[0m \u001b[1;33m=\u001b[0m \u001b[0mself\u001b[0m\u001b[1;33m.\u001b[0m\u001b[0mcolumns\u001b[0m\u001b[1;33m.\u001b[0m\u001b[0mget_loc\u001b[0m\u001b[1;33m(\u001b[0m\u001b[0mkey\u001b[0m\u001b[1;33m)\u001b[0m\u001b[1;33m\u001b[0m\u001b[1;33m\u001b[0m\u001b[0m\n\u001b[0m\u001b[0;32m   2801\u001b[0m             \u001b[1;32mif\u001b[0m \u001b[0mis_integer\u001b[0m\u001b[1;33m(\u001b[0m\u001b[0mindexer\u001b[0m\u001b[1;33m)\u001b[0m\u001b[1;33m:\u001b[0m\u001b[1;33m\u001b[0m\u001b[1;33m\u001b[0m\u001b[0m\n\u001b[0;32m   2802\u001b[0m                 \u001b[0mindexer\u001b[0m \u001b[1;33m=\u001b[0m \u001b[1;33m[\u001b[0m\u001b[0mindexer\u001b[0m\u001b[1;33m]\u001b[0m\u001b[1;33m\u001b[0m\u001b[1;33m\u001b[0m\u001b[0m\n",
      "\u001b[1;32m~\\anaconda3\\lib\\site-packages\\pandas\\core\\indexes\\base.py\u001b[0m in \u001b[0;36mget_loc\u001b[1;34m(self, key, method, tolerance)\u001b[0m\n\u001b[0;32m   2644\u001b[0m                 )\n\u001b[0;32m   2645\u001b[0m             \u001b[1;32mtry\u001b[0m\u001b[1;33m:\u001b[0m\u001b[1;33m\u001b[0m\u001b[1;33m\u001b[0m\u001b[0m\n\u001b[1;32m-> 2646\u001b[1;33m                 \u001b[1;32mreturn\u001b[0m \u001b[0mself\u001b[0m\u001b[1;33m.\u001b[0m\u001b[0m_engine\u001b[0m\u001b[1;33m.\u001b[0m\u001b[0mget_loc\u001b[0m\u001b[1;33m(\u001b[0m\u001b[0mkey\u001b[0m\u001b[1;33m)\u001b[0m\u001b[1;33m\u001b[0m\u001b[1;33m\u001b[0m\u001b[0m\n\u001b[0m\u001b[0;32m   2647\u001b[0m             \u001b[1;32mexcept\u001b[0m \u001b[0mKeyError\u001b[0m\u001b[1;33m:\u001b[0m\u001b[1;33m\u001b[0m\u001b[1;33m\u001b[0m\u001b[0m\n\u001b[0;32m   2648\u001b[0m                 \u001b[1;32mreturn\u001b[0m \u001b[0mself\u001b[0m\u001b[1;33m.\u001b[0m\u001b[0m_engine\u001b[0m\u001b[1;33m.\u001b[0m\u001b[0mget_loc\u001b[0m\u001b[1;33m(\u001b[0m\u001b[0mself\u001b[0m\u001b[1;33m.\u001b[0m\u001b[0m_maybe_cast_indexer\u001b[0m\u001b[1;33m(\u001b[0m\u001b[0mkey\u001b[0m\u001b[1;33m)\u001b[0m\u001b[1;33m)\u001b[0m\u001b[1;33m\u001b[0m\u001b[1;33m\u001b[0m\u001b[0m\n",
      "\u001b[1;32mpandas\\_libs\\index.pyx\u001b[0m in \u001b[0;36mpandas._libs.index.IndexEngine.get_loc\u001b[1;34m()\u001b[0m\n",
      "\u001b[1;32mpandas\\_libs\\index.pyx\u001b[0m in \u001b[0;36mpandas._libs.index.IndexEngine.get_loc\u001b[1;34m()\u001b[0m\n",
      "\u001b[1;31mTypeError\u001b[0m: '(slice(None, None, None), array([ True,  True,  True,  True,  True,  True,  True,  True,  True,\n        True, False,  True,  True,  True, False,  True,  True,  True,\n       False, False, False,  True,  True,  True, False, False, False,\n       False,  True,  True,  True, False, False, False, False,  True,\n       False,  True,  True,  True,  True,  True,  True,  True,  True,\n        True,  True,  True,  True]))' is an invalid key"
     ]
    }
   ],
   "source": [
    "selected = feature_data[:, feat_selector.support_]"
   ]
  },
  {
   "cell_type": "code",
   "execution_count": 84,
   "metadata": {},
   "outputs": [
    {
     "output_type": "execute_result",
     "data": {
      "text/plain": "Index(['Wind Speed 100m_last_week', 'Wind Speed 10m_last_week', 'Month_Number',\n       'T_Month_Mean', 'CLCT_Month_Mean', 'Wind Direction 10m_Month_Mean',\n       'T_Month_Median', 'CLCT_Month_Median', 'Wind Speed 100m_Month_Median',\n       'T_Month_Variance', 'CLCT_Month_Variance',\n       'Wind Speed 100m_Month_Variance', 'Wind Direction 100m_Month_Variance',\n       'Wind Direction 10m_Month_Variance'],\n      dtype='object')"
     },
     "metadata": {},
     "execution_count": 84
    }
   ],
   "source": [
    "feature_data.drop(['ID','WF','Set'],axis=1).columns[~feat_selector.support_]"
   ]
  },
  {
   "cell_type": "code",
   "execution_count": null,
   "metadata": {},
   "outputs": [],
   "source": []
  }
 ]
}