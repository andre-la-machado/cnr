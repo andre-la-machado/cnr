{
 "cells": [
  {
   "cell_type": "markdown",
   "metadata": {},
   "source": [
    "# LSTM Modelling"
   ]
  },
  {
   "cell_type": "markdown",
   "metadata": {},
   "source": [
    "On this Notebook, a LSTM Model will be tried for the Competitition Data."
   ]
  },
  {
   "cell_type": "markdown",
   "metadata": {},
   "source": [
    "## Libraries"
   ]
  },
  {
   "cell_type": "code",
   "execution_count": 1,
   "metadata": {},
   "outputs": [],
   "source": [
    "import numpy as np\n",
    "import pandas as pd \n",
    "import matplotlib.pyplot as plt \n",
    "import seaborn as sns \n",
    "sns.set_style('darkgrid')\n",
    "from cnr_methods import get_selected_features, transform_data, revert_data,metric_cnr, get_simplified_data\n",
    "import random\n",
    "\n",
    "from sklearn.model_selection import TimeSeriesSplit, train_test_split\n",
    "from sklearn.preprocessing import MinMaxScaler\n",
    "import tensorflow as tf"
   ]
  },
  {
   "cell_type": "markdown",
   "metadata": {},
   "source": [
    "## Read Data"
   ]
  },
  {
   "cell_type": "markdown",
   "metadata": {},
   "source": [
    "Here, the data used correspond to the results of the Feature Engineering and Selection Step. For simplicity, during Hyperparameter Optimization, only Wind Farm 3 Training Data is used."
   ]
  },
  {
   "cell_type": "code",
   "execution_count": 2,
   "metadata": {},
   "outputs": [],
   "source": [
    "full_data = get_selected_features(0)\n",
    "\n",
    "#full_data = full_data.rename({'Unnamed: 0' : 'Time'},axis=1)\n",
    "full_data = full_data.set_index('Time')\n",
    "\n",
    "full_label = pd.read_csv('Data/Y_train.csv')\n",
    "X = full_data[full_data['Set']=='Train']\n",
    "\n",
    "WF = 'WF3'\n",
    "X = X[X['WF']==WF]\n",
    "y = full_label[full_label['ID'].isin(X['ID'])]"
   ]
  },
  {
   "cell_type": "code",
   "execution_count": 3,
   "metadata": {},
   "outputs": [],
   "source": [
    "X = X.drop(['ID','WF','Set'],axis=1)"
   ]
  },
  {
   "cell_type": "code",
   "execution_count": 4,
   "metadata": {},
   "outputs": [
    {
     "output_type": "execute_result",
     "data": {
      "text/plain": "                       U_100m    V_100m     U_10m     V_10m        T  \\\nTime                                                                   \n2018-05-01 01:00:00  5.789500  3.820200  1.054669  1.317597  275.690   \n2018-05-01 02:00:00  6.003300  3.920600  0.876879  1.483483  275.770   \n2018-05-01 03:00:00  5.931829  0.907656  0.949640  1.419591  276.875   \n2018-05-01 04:00:00  5.205300  1.683800  1.027462  1.029786  275.650   \n2018-05-01 05:00:00  4.845900  0.702200  1.011645  0.785352  275.530   \n\n                          CLCT  Wind Direction 100m  Wind Direction 10m  \\\nTime                                                                      \n2018-05-01 01:00:00  86.504507             0.583268            0.895782   \n2018-05-01 02:00:00  98.976088             0.578533            1.036951   \n2018-05-01 03:00:00  64.193607             0.151837            0.981212   \n2018-05-01 04:00:00  57.482484             0.312855            0.786528   \n2018-05-01 05:00:00  89.971463             0.143904            0.660129   \n\n                     Wind Speed 100m  V_100m_lag_21_days  ...  \\\nTime                                                      ...   \n2018-05-01 01:00:00         6.936299                 NaN  ...   \n2018-05-01 02:00:00         7.170127                 NaN  ...   \n2018-05-01 03:00:00         6.000870                 NaN  ...   \n2018-05-01 04:00:00         5.470862                 NaN  ...   \n2018-05-01 05:00:00         4.896512                 NaN  ...   \n\n                     V_10m_Rolling_14_Window_Variance  \\\nTime                                                    \n2018-05-01 01:00:00                               NaN   \n2018-05-01 02:00:00                               NaN   \n2018-05-01 03:00:00                               NaN   \n2018-05-01 04:00:00                               NaN   \n2018-05-01 05:00:00                               NaN   \n\n                     U_100m_Rolling_14_Window_Mean  Wind Speed 10m  \\\nTime                                                                 \n2018-05-01 01:00:00                            NaN        1.687717   \n2018-05-01 02:00:00                            NaN        1.723264   \n2018-05-01 03:00:00                            NaN        1.707938   \n2018-05-01 04:00:00                            NaN        1.454695   \n2018-05-01 05:00:00                            NaN        1.280704   \n\n                     V_100m_Rolling_7_Window_Mean  T_lag_21_days  \\\nTime                                                               \n2018-05-01 01:00:00                           NaN            NaN   \n2018-05-01 02:00:00                           NaN            NaN   \n2018-05-01 03:00:00                           NaN            NaN   \n2018-05-01 04:00:00                           NaN            NaN   \n2018-05-01 05:00:00                           NaN            NaN   \n\n                     U_10m_Rolling_14_Window_Variance  \\\nTime                                                    \n2018-05-01 01:00:00                               NaN   \n2018-05-01 02:00:00                               NaN   \n2018-05-01 03:00:00                               NaN   \n2018-05-01 04:00:00                               NaN   \n2018-05-01 05:00:00                               NaN   \n\n                     CLCT_Rolling_7_Window_Mean  V_100m_lag_7_days  \\\nTime                                                                 \n2018-05-01 01:00:00                         NaN                NaN   \n2018-05-01 02:00:00                         NaN                NaN   \n2018-05-01 03:00:00                         NaN                NaN   \n2018-05-01 04:00:00                         NaN                NaN   \n2018-05-01 05:00:00                         NaN                NaN   \n\n                     U_10m_lag_7_days  U_100m_lag_21_days  \nTime                                                       \n2018-05-01 01:00:00               NaN                 NaN  \n2018-05-01 02:00:00               NaN                 NaN  \n2018-05-01 03:00:00               NaN                 NaN  \n2018-05-01 04:00:00               NaN                 NaN  \n2018-05-01 05:00:00               NaN                 NaN  \n\n[5 rows x 93 columns]",
      "text/html": "<div>\n<style scoped>\n    .dataframe tbody tr th:only-of-type {\n        vertical-align: middle;\n    }\n\n    .dataframe tbody tr th {\n        vertical-align: top;\n    }\n\n    .dataframe thead th {\n        text-align: right;\n    }\n</style>\n<table border=\"1\" class=\"dataframe\">\n  <thead>\n    <tr style=\"text-align: right;\">\n      <th></th>\n      <th>U_100m</th>\n      <th>V_100m</th>\n      <th>U_10m</th>\n      <th>V_10m</th>\n      <th>T</th>\n      <th>CLCT</th>\n      <th>Wind Direction 100m</th>\n      <th>Wind Direction 10m</th>\n      <th>Wind Speed 100m</th>\n      <th>V_100m_lag_21_days</th>\n      <th>...</th>\n      <th>V_10m_Rolling_14_Window_Variance</th>\n      <th>U_100m_Rolling_14_Window_Mean</th>\n      <th>Wind Speed 10m</th>\n      <th>V_100m_Rolling_7_Window_Mean</th>\n      <th>T_lag_21_days</th>\n      <th>U_10m_Rolling_14_Window_Variance</th>\n      <th>CLCT_Rolling_7_Window_Mean</th>\n      <th>V_100m_lag_7_days</th>\n      <th>U_10m_lag_7_days</th>\n      <th>U_100m_lag_21_days</th>\n    </tr>\n    <tr>\n      <th>Time</th>\n      <th></th>\n      <th></th>\n      <th></th>\n      <th></th>\n      <th></th>\n      <th></th>\n      <th></th>\n      <th></th>\n      <th></th>\n      <th></th>\n      <th></th>\n      <th></th>\n      <th></th>\n      <th></th>\n      <th></th>\n      <th></th>\n      <th></th>\n      <th></th>\n      <th></th>\n      <th></th>\n      <th></th>\n    </tr>\n  </thead>\n  <tbody>\n    <tr>\n      <th>2018-05-01 01:00:00</th>\n      <td>5.789500</td>\n      <td>3.820200</td>\n      <td>1.054669</td>\n      <td>1.317597</td>\n      <td>275.690</td>\n      <td>86.504507</td>\n      <td>0.583268</td>\n      <td>0.895782</td>\n      <td>6.936299</td>\n      <td>NaN</td>\n      <td>...</td>\n      <td>NaN</td>\n      <td>NaN</td>\n      <td>1.687717</td>\n      <td>NaN</td>\n      <td>NaN</td>\n      <td>NaN</td>\n      <td>NaN</td>\n      <td>NaN</td>\n      <td>NaN</td>\n      <td>NaN</td>\n    </tr>\n    <tr>\n      <th>2018-05-01 02:00:00</th>\n      <td>6.003300</td>\n      <td>3.920600</td>\n      <td>0.876879</td>\n      <td>1.483483</td>\n      <td>275.770</td>\n      <td>98.976088</td>\n      <td>0.578533</td>\n      <td>1.036951</td>\n      <td>7.170127</td>\n      <td>NaN</td>\n      <td>...</td>\n      <td>NaN</td>\n      <td>NaN</td>\n      <td>1.723264</td>\n      <td>NaN</td>\n      <td>NaN</td>\n      <td>NaN</td>\n      <td>NaN</td>\n      <td>NaN</td>\n      <td>NaN</td>\n      <td>NaN</td>\n    </tr>\n    <tr>\n      <th>2018-05-01 03:00:00</th>\n      <td>5.931829</td>\n      <td>0.907656</td>\n      <td>0.949640</td>\n      <td>1.419591</td>\n      <td>276.875</td>\n      <td>64.193607</td>\n      <td>0.151837</td>\n      <td>0.981212</td>\n      <td>6.000870</td>\n      <td>NaN</td>\n      <td>...</td>\n      <td>NaN</td>\n      <td>NaN</td>\n      <td>1.707938</td>\n      <td>NaN</td>\n      <td>NaN</td>\n      <td>NaN</td>\n      <td>NaN</td>\n      <td>NaN</td>\n      <td>NaN</td>\n      <td>NaN</td>\n    </tr>\n    <tr>\n      <th>2018-05-01 04:00:00</th>\n      <td>5.205300</td>\n      <td>1.683800</td>\n      <td>1.027462</td>\n      <td>1.029786</td>\n      <td>275.650</td>\n      <td>57.482484</td>\n      <td>0.312855</td>\n      <td>0.786528</td>\n      <td>5.470862</td>\n      <td>NaN</td>\n      <td>...</td>\n      <td>NaN</td>\n      <td>NaN</td>\n      <td>1.454695</td>\n      <td>NaN</td>\n      <td>NaN</td>\n      <td>NaN</td>\n      <td>NaN</td>\n      <td>NaN</td>\n      <td>NaN</td>\n      <td>NaN</td>\n    </tr>\n    <tr>\n      <th>2018-05-01 05:00:00</th>\n      <td>4.845900</td>\n      <td>0.702200</td>\n      <td>1.011645</td>\n      <td>0.785352</td>\n      <td>275.530</td>\n      <td>89.971463</td>\n      <td>0.143904</td>\n      <td>0.660129</td>\n      <td>4.896512</td>\n      <td>NaN</td>\n      <td>...</td>\n      <td>NaN</td>\n      <td>NaN</td>\n      <td>1.280704</td>\n      <td>NaN</td>\n      <td>NaN</td>\n      <td>NaN</td>\n      <td>NaN</td>\n      <td>NaN</td>\n      <td>NaN</td>\n      <td>NaN</td>\n    </tr>\n  </tbody>\n</table>\n<p>5 rows × 93 columns</p>\n</div>"
     },
     "metadata": {},
     "execution_count": 4
    }
   ],
   "source": [
    "X.head()"
   ]
  },
  {
   "cell_type": "markdown",
   "metadata": {},
   "source": [
    "## Scaling Data"
   ]
  },
  {
   "cell_type": "code",
   "execution_count": 5,
   "metadata": {},
   "outputs": [],
   "source": [
    "scaler = MinMaxScaler(feature_range=(-1,1))\n",
    "X = scaler.fit_transform(X)\n",
    "X = pd.DataFrame(X)"
   ]
  },
  {
   "cell_type": "code",
   "execution_count": 6,
   "metadata": {},
   "outputs": [],
   "source": [
    "y = scaler.fit_transform(y)\n",
    "y = pd.DataFrame(y)"
   ]
  },
  {
   "cell_type": "code",
   "execution_count": 7,
   "metadata": {},
   "outputs": [
    {
     "output_type": "execute_result",
     "data": {
      "text/plain": "         0         1         2         3         4         5         6   \\\n0  0.228968  0.130650 -0.080167  0.046187 -0.652228  0.730090 -0.996765   \n1  0.243537  0.136909 -0.099786  0.062691 -0.648044  0.979522 -0.996792   \n2  0.238667 -0.050938 -0.091757  0.056334 -0.590239  0.283872 -0.999162   \n3  0.189158 -0.002548 -0.083169  0.017554 -0.654321  0.149650 -0.998268   \n4  0.164667 -0.063747 -0.084914 -0.006764 -0.660598  0.799429 -0.999206   \n\n         7         8   9   ...  83  84        85  86  87  88  89  90  91  92  \n0 -0.995041 -0.235387 NaN  ... NaN NaN -0.710735 NaN NaN NaN NaN NaN NaN NaN  \n1 -0.994256 -0.209145 NaN  ... NaN NaN -0.704468 NaN NaN NaN NaN NaN NaN NaN  \n2 -0.994566 -0.340364 NaN  ... NaN NaN -0.707170 NaN NaN NaN NaN NaN NaN NaN  \n3 -0.995648 -0.399844 NaN  ... NaN NaN -0.751810 NaN NaN NaN NaN NaN NaN NaN  \n4 -0.996350 -0.464300 NaN  ... NaN NaN -0.782480 NaN NaN NaN NaN NaN NaN NaN  \n\n[5 rows x 93 columns]",
      "text/html": "<div>\n<style scoped>\n    .dataframe tbody tr th:only-of-type {\n        vertical-align: middle;\n    }\n\n    .dataframe tbody tr th {\n        vertical-align: top;\n    }\n\n    .dataframe thead th {\n        text-align: right;\n    }\n</style>\n<table border=\"1\" class=\"dataframe\">\n  <thead>\n    <tr style=\"text-align: right;\">\n      <th></th>\n      <th>0</th>\n      <th>1</th>\n      <th>2</th>\n      <th>3</th>\n      <th>4</th>\n      <th>5</th>\n      <th>6</th>\n      <th>7</th>\n      <th>8</th>\n      <th>9</th>\n      <th>...</th>\n      <th>83</th>\n      <th>84</th>\n      <th>85</th>\n      <th>86</th>\n      <th>87</th>\n      <th>88</th>\n      <th>89</th>\n      <th>90</th>\n      <th>91</th>\n      <th>92</th>\n    </tr>\n  </thead>\n  <tbody>\n    <tr>\n      <th>0</th>\n      <td>0.228968</td>\n      <td>0.130650</td>\n      <td>-0.080167</td>\n      <td>0.046187</td>\n      <td>-0.652228</td>\n      <td>0.730090</td>\n      <td>-0.996765</td>\n      <td>-0.995041</td>\n      <td>-0.235387</td>\n      <td>NaN</td>\n      <td>...</td>\n      <td>NaN</td>\n      <td>NaN</td>\n      <td>-0.710735</td>\n      <td>NaN</td>\n      <td>NaN</td>\n      <td>NaN</td>\n      <td>NaN</td>\n      <td>NaN</td>\n      <td>NaN</td>\n      <td>NaN</td>\n    </tr>\n    <tr>\n      <th>1</th>\n      <td>0.243537</td>\n      <td>0.136909</td>\n      <td>-0.099786</td>\n      <td>0.062691</td>\n      <td>-0.648044</td>\n      <td>0.979522</td>\n      <td>-0.996792</td>\n      <td>-0.994256</td>\n      <td>-0.209145</td>\n      <td>NaN</td>\n      <td>...</td>\n      <td>NaN</td>\n      <td>NaN</td>\n      <td>-0.704468</td>\n      <td>NaN</td>\n      <td>NaN</td>\n      <td>NaN</td>\n      <td>NaN</td>\n      <td>NaN</td>\n      <td>NaN</td>\n      <td>NaN</td>\n    </tr>\n    <tr>\n      <th>2</th>\n      <td>0.238667</td>\n      <td>-0.050938</td>\n      <td>-0.091757</td>\n      <td>0.056334</td>\n      <td>-0.590239</td>\n      <td>0.283872</td>\n      <td>-0.999162</td>\n      <td>-0.994566</td>\n      <td>-0.340364</td>\n      <td>NaN</td>\n      <td>...</td>\n      <td>NaN</td>\n      <td>NaN</td>\n      <td>-0.707170</td>\n      <td>NaN</td>\n      <td>NaN</td>\n      <td>NaN</td>\n      <td>NaN</td>\n      <td>NaN</td>\n      <td>NaN</td>\n      <td>NaN</td>\n    </tr>\n    <tr>\n      <th>3</th>\n      <td>0.189158</td>\n      <td>-0.002548</td>\n      <td>-0.083169</td>\n      <td>0.017554</td>\n      <td>-0.654321</td>\n      <td>0.149650</td>\n      <td>-0.998268</td>\n      <td>-0.995648</td>\n      <td>-0.399844</td>\n      <td>NaN</td>\n      <td>...</td>\n      <td>NaN</td>\n      <td>NaN</td>\n      <td>-0.751810</td>\n      <td>NaN</td>\n      <td>NaN</td>\n      <td>NaN</td>\n      <td>NaN</td>\n      <td>NaN</td>\n      <td>NaN</td>\n      <td>NaN</td>\n    </tr>\n    <tr>\n      <th>4</th>\n      <td>0.164667</td>\n      <td>-0.063747</td>\n      <td>-0.084914</td>\n      <td>-0.006764</td>\n      <td>-0.660598</td>\n      <td>0.799429</td>\n      <td>-0.999206</td>\n      <td>-0.996350</td>\n      <td>-0.464300</td>\n      <td>NaN</td>\n      <td>...</td>\n      <td>NaN</td>\n      <td>NaN</td>\n      <td>-0.782480</td>\n      <td>NaN</td>\n      <td>NaN</td>\n      <td>NaN</td>\n      <td>NaN</td>\n      <td>NaN</td>\n      <td>NaN</td>\n      <td>NaN</td>\n    </tr>\n  </tbody>\n</table>\n<p>5 rows × 93 columns</p>\n</div>"
     },
     "metadata": {},
     "execution_count": 7
    }
   ],
   "source": [
    "X.head()"
   ]
  },
  {
   "cell_type": "code",
   "execution_count": 8,
   "metadata": {},
   "outputs": [
    {
     "output_type": "execute_result",
     "data": {
      "text/plain": "             0         1\n0    -1.000000 -0.778768\n1    -0.999679 -0.631774\n2    -0.999359 -0.671863\n3    -0.999038 -0.778768\n4    -0.998718 -0.814402\n...        ...       ...\n6234  0.998718 -0.768374\n6235  0.999038 -0.808463\n6236  0.999359 -0.867854\n6237  0.999679 -0.839644\n6238  1.000000 -0.853007\n\n[6239 rows x 2 columns]",
      "text/html": "<div>\n<style scoped>\n    .dataframe tbody tr th:only-of-type {\n        vertical-align: middle;\n    }\n\n    .dataframe tbody tr th {\n        vertical-align: top;\n    }\n\n    .dataframe thead th {\n        text-align: right;\n    }\n</style>\n<table border=\"1\" class=\"dataframe\">\n  <thead>\n    <tr style=\"text-align: right;\">\n      <th></th>\n      <th>0</th>\n      <th>1</th>\n    </tr>\n  </thead>\n  <tbody>\n    <tr>\n      <th>0</th>\n      <td>-1.000000</td>\n      <td>-0.778768</td>\n    </tr>\n    <tr>\n      <th>1</th>\n      <td>-0.999679</td>\n      <td>-0.631774</td>\n    </tr>\n    <tr>\n      <th>2</th>\n      <td>-0.999359</td>\n      <td>-0.671863</td>\n    </tr>\n    <tr>\n      <th>3</th>\n      <td>-0.999038</td>\n      <td>-0.778768</td>\n    </tr>\n    <tr>\n      <th>4</th>\n      <td>-0.998718</td>\n      <td>-0.814402</td>\n    </tr>\n    <tr>\n      <th>...</th>\n      <td>...</td>\n      <td>...</td>\n    </tr>\n    <tr>\n      <th>6234</th>\n      <td>0.998718</td>\n      <td>-0.768374</td>\n    </tr>\n    <tr>\n      <th>6235</th>\n      <td>0.999038</td>\n      <td>-0.808463</td>\n    </tr>\n    <tr>\n      <th>6236</th>\n      <td>0.999359</td>\n      <td>-0.867854</td>\n    </tr>\n    <tr>\n      <th>6237</th>\n      <td>0.999679</td>\n      <td>-0.839644</td>\n    </tr>\n    <tr>\n      <th>6238</th>\n      <td>1.000000</td>\n      <td>-0.853007</td>\n    </tr>\n  </tbody>\n</table>\n<p>6239 rows × 2 columns</p>\n</div>"
     },
     "metadata": {},
     "execution_count": 8
    }
   ],
   "source": [
    "y"
   ]
  },
  {
   "cell_type": "markdown",
   "metadata": {},
   "source": [
    "## Subsets Creation"
   ]
  },
  {
   "cell_type": "markdown",
   "metadata": {},
   "source": [
    "Convert Df's to Array on Correct Shape"
   ]
  },
  {
   "cell_type": "code",
   "execution_count": 9,
   "metadata": {},
   "outputs": [],
   "source": [
    "n_steps = 7"
   ]
  },
  {
   "cell_type": "code",
   "execution_count": 10,
   "metadata": {},
   "outputs": [],
   "source": [
    "# split a multivariate sequence into samples\n",
    "def split_sequences(X, y, n_steps):\n",
    "\tsample_X, sample_y = list(), list()\n",
    "\tfor i in range(len(X)):\n",
    "\t\t# find the end of this pattern\n",
    "\t\tend_ix = i + n_steps\n",
    "\t\t# check if we are beyond the dataset\n",
    "\t\tif end_ix > len(X):\n",
    "\t\t\tbreak\n",
    "\t\t# gather input and output parts of the pattern\n",
    "\t\tseq_x, seq_y = X[i:end_ix, :-1], y[end_ix-1,-1]\n",
    "\t\tsample_X.append(seq_x)\n",
    "\t\tsample_y.append(seq_y)\n",
    "\treturn np.array(sample_X), np.array(sample_y)"
   ]
  },
  {
   "cell_type": "code",
   "execution_count": 11,
   "metadata": {},
   "outputs": [],
   "source": [
    "sample_X,sample_y = split_sequences(X.values,y.values,n_steps)"
   ]
  },
  {
   "cell_type": "code",
   "execution_count": 12,
   "metadata": {},
   "outputs": [],
   "source": [
    "n_features = sample_X.shape[2]"
   ]
  },
  {
   "cell_type": "markdown",
   "metadata": {},
   "source": [
    "## Model"
   ]
  },
  {
   "cell_type": "markdown",
   "metadata": {},
   "source": [
    "Model Creation Function:"
   ]
  },
  {
   "cell_type": "code",
   "execution_count": 13,
   "metadata": {},
   "outputs": [],
   "source": [
    "def LSTM_Model(input_shape):\n",
    "  # Numerical branch\n",
    "\n",
    "  input_layer = tf.keras.layers.Input(input_shape)\n",
    "\n",
    "  hidden_1 = tf.keras.layers.LSTM(units=50, activation=\"relu\")(input_layer)\n",
    "\n",
    "\n",
    "  # Output\n",
    "\n",
    "  outputs = tf.keras.layers.Dense(units=1)(hidden_1)\n",
    "\n",
    "  model = tf.keras.Model(inputs=input_layer, outputs=outputs)\n",
    "\n",
    "  return model"
   ]
  },
  {
   "cell_type": "code",
   "execution_count": 14,
   "metadata": {},
   "outputs": [],
   "source": [
    "input_shape = (n_steps,n_features)"
   ]
  },
  {
   "cell_type": "code",
   "execution_count": 15,
   "metadata": {},
   "outputs": [],
   "source": [
    "model = LSTM_Model(input_shape)"
   ]
  },
  {
   "cell_type": "code",
   "execution_count": 16,
   "metadata": {
    "tags": []
   },
   "outputs": [
    {
     "output_type": "stream",
     "name": "stdout",
     "text": "Model: \"model\"\n_________________________________________________________________\nLayer (type)                 Output Shape              Param #   \n=================================================================\ninput_1 (InputLayer)         [(None, 7, 92)]           0         \n_________________________________________________________________\nlstm (LSTM)                  (None, 50)                28600     \n_________________________________________________________________\ndense (Dense)                (None, 1)                 51        \n=================================================================\nTotal params: 28,651\nTrainable params: 28,651\nNon-trainable params: 0\n_________________________________________________________________\n"
    }
   ],
   "source": [
    "model.summary()"
   ]
  },
  {
   "cell_type": "markdown",
   "metadata": {},
   "source": [
    "## Isolated Tests"
   ]
  },
  {
   "cell_type": "code",
   "execution_count": 17,
   "metadata": {},
   "outputs": [],
   "source": [
    "def metric_cnr(preds,labels):\n",
    "    cape_cnr = 100*tf.math.reduce_sum(tf.math.abs(preds-labels))/tf.math.reduce_sum(labels)\n",
    "    return cape_cnr"
   ]
  },
  {
   "cell_type": "code",
   "execution_count": 18,
   "metadata": {},
   "outputs": [],
   "source": [
    "X, y = split_sequences(X.values,y.values,7)\n",
    "X_train, X_val, y_train, y_val = train_test_split(X, y, test_size=0.143, shuffle=False)"
   ]
  },
  {
   "cell_type": "code",
   "execution_count": 19,
   "metadata": {},
   "outputs": [],
   "source": [
    "model = LSTM_Model(input_shape)\n",
    "monitor = \"root_mean_squared_error\"\n",
    "patience = 50\n",
    "epochs = 50\n",
    "k_fold_splits = 5\n",
    "total_it = 120\n",
    "batch_size = 1 * ((len(X) - len(X) // k_fold_splits) // (total_it))"
   ]
  },
  {
   "cell_type": "code",
   "execution_count": 20,
   "metadata": {},
   "outputs": [],
   "source": [
    "callbacks_list = [tf.keras.callbacks.EarlyStopping(monitor=monitor, patience=patience, verbose=0, min_delta=1e-8)]"
   ]
  },
  {
   "cell_type": "code",
   "execution_count": 21,
   "metadata": {
    "tags": []
   },
   "outputs": [
    {
     "output_type": "stream",
     "name": "stdout",
     "text": "Epoch 1/50\nWARNING:tensorflow:Model was constructed with shape (None, 7, 92) for input Tensor(\"input_2:0\", shape=(None, 7, 92), dtype=float32), but it was called on an input with incompatible shape (None, 3, 92).\nWARNING:tensorflow:Model was constructed with shape (None, 7, 92) for input Tensor(\"input_2:0\", shape=(None, 7, 92), dtype=float32), but it was called on an input with incompatible shape (None, 3, 92).\n108/131 [=======================>......] - ETA: 0s - loss: nan - root_mean_squared_error: nan - metric_cnr: nanWARNING:tensorflow:Model was constructed with shape (None, 7, 92) for input Tensor(\"input_2:0\", shape=(None, 7, 92), dtype=float32), but it was called on an input with incompatible shape (None, 3, 92).\n131/131 [==============================] - 1s 4ms/step - loss: nan - root_mean_squared_error: nan - metric_cnr: nan - val_loss: nan - val_root_mean_squared_error: nan - val_metric_cnr: nan\nEpoch 2/50\n131/131 [==============================] - 0s 2ms/step - loss: nan - root_mean_squared_error: nan - metric_cnr: nan - val_loss: nan - val_root_mean_squared_error: nan - val_metric_cnr: nan\nEpoch 3/50\n131/131 [==============================] - 0s 2ms/step - loss: nan - root_mean_squared_error: nan - metric_cnr: nan - val_loss: nan - val_root_mean_squared_error: nan - val_metric_cnr: nan\nEpoch 4/50\n131/131 [==============================] - 0s 2ms/step - loss: nan - root_mean_squared_error: nan - metric_cnr: nan - val_loss: nan - val_root_mean_squared_error: nan - val_metric_cnr: nan\nEpoch 5/50\n131/131 [==============================] - 0s 2ms/step - loss: nan - root_mean_squared_error: nan - metric_cnr: nan - val_loss: nan - val_root_mean_squared_error: nan - val_metric_cnr: nan\nEpoch 6/50\n131/131 [==============================] - 0s 2ms/step - loss: nan - root_mean_squared_error: nan - metric_cnr: nan - val_loss: nan - val_root_mean_squared_error: nan - val_metric_cnr: nan\nEpoch 7/50\n131/131 [==============================] - 0s 2ms/step - loss: nan - root_mean_squared_error: nan - metric_cnr: nan - val_loss: nan - val_root_mean_squared_error: nan - val_metric_cnr: nan\nEpoch 8/50\n131/131 [==============================] - 0s 2ms/step - loss: nan - root_mean_squared_error: nan - metric_cnr: nan - val_loss: nan - val_root_mean_squared_error: nan - val_metric_cnr: nan\nEpoch 9/50\n131/131 [==============================] - 0s 2ms/step - loss: nan - root_mean_squared_error: nan - metric_cnr: nan - val_loss: nan - val_root_mean_squared_error: nan - val_metric_cnr: nan\nEpoch 10/50\n131/131 [==============================] - 0s 2ms/step - loss: nan - root_mean_squared_error: nan - metric_cnr: nan - val_loss: nan - val_root_mean_squared_error: nan - val_metric_cnr: nan\nEpoch 11/50\n131/131 [==============================] - 0s 2ms/step - loss: nan - root_mean_squared_error: nan - metric_cnr: nan - val_loss: nan - val_root_mean_squared_error: nan - val_metric_cnr: nan\nEpoch 12/50\n131/131 [==============================] - 0s 2ms/step - loss: nan - root_mean_squared_error: nan - metric_cnr: nan - val_loss: nan - val_root_mean_squared_error: nan - val_metric_cnr: nan\nEpoch 13/50\n131/131 [==============================] - 0s 2ms/step - loss: nan - root_mean_squared_error: nan - metric_cnr: nan - val_loss: nan - val_root_mean_squared_error: nan - val_metric_cnr: nan\nEpoch 14/50\n131/131 [==============================] - 0s 2ms/step - loss: nan - root_mean_squared_error: nan - metric_cnr: nan - val_loss: nan - val_root_mean_squared_error: nan - val_metric_cnr: nan\nEpoch 15/50\n131/131 [==============================] - 0s 2ms/step - loss: nan - root_mean_squared_error: nan - metric_cnr: nan - val_loss: nan - val_root_mean_squared_error: nan - val_metric_cnr: nan\nEpoch 16/50\n131/131 [==============================] - 0s 2ms/step - loss: nan - root_mean_squared_error: nan - metric_cnr: nan - val_loss: nan - val_root_mean_squared_error: nan - val_metric_cnr: nan\nEpoch 17/50\n131/131 [==============================] - 0s 2ms/step - loss: nan - root_mean_squared_error: nan - metric_cnr: nan - val_loss: nan - val_root_mean_squared_error: nan - val_metric_cnr: nan\nEpoch 18/50\n131/131 [==============================] - 0s 2ms/step - loss: nan - root_mean_squared_error: nan - metric_cnr: nan - val_loss: nan - val_root_mean_squared_error: nan - val_metric_cnr: nan\nEpoch 19/50\n131/131 [==============================] - 0s 2ms/step - loss: nan - root_mean_squared_error: nan - metric_cnr: nan - val_loss: nan - val_root_mean_squared_error: nan - val_metric_cnr: nan\nEpoch 20/50\n131/131 [==============================] - 0s 2ms/step - loss: nan - root_mean_squared_error: nan - metric_cnr: nan - val_loss: nan - val_root_mean_squared_error: nan - val_metric_cnr: nan\nEpoch 21/50\n131/131 [==============================] - 0s 2ms/step - loss: nan - root_mean_squared_error: nan - metric_cnr: nan - val_loss: nan - val_root_mean_squared_error: nan - val_metric_cnr: nan\nEpoch 22/50\n131/131 [==============================] - 0s 2ms/step - loss: nan - root_mean_squared_error: nan - metric_cnr: nan - val_loss: nan - val_root_mean_squared_error: nan - val_metric_cnr: nan\nEpoch 23/50\n131/131 [==============================] - 0s 2ms/step - loss: nan - root_mean_squared_error: nan - metric_cnr: nan - val_loss: nan - val_root_mean_squared_error: nan - val_metric_cnr: nan\nEpoch 24/50\n131/131 [==============================] - 0s 2ms/step - loss: nan - root_mean_squared_error: nan - metric_cnr: nan - val_loss: nan - val_root_mean_squared_error: nan - val_metric_cnr: nan\nEpoch 25/50\n131/131 [==============================] - 0s 2ms/step - loss: nan - root_mean_squared_error: nan - metric_cnr: nan - val_loss: nan - val_root_mean_squared_error: nan - val_metric_cnr: nan\nEpoch 26/50\n131/131 [==============================] - 0s 2ms/step - loss: nan - root_mean_squared_error: nan - metric_cnr: nan - val_loss: nan - val_root_mean_squared_error: nan - val_metric_cnr: nan\nEpoch 27/50\n131/131 [==============================] - 0s 2ms/step - loss: nan - root_mean_squared_error: nan - metric_cnr: nan - val_loss: nan - val_root_mean_squared_error: nan - val_metric_cnr: nan\nEpoch 28/50\n131/131 [==============================] - 0s 3ms/step - loss: nan - root_mean_squared_error: nan - metric_cnr: nan - val_loss: nan - val_root_mean_squared_error: nan - val_metric_cnr: nan\nEpoch 29/50\n131/131 [==============================] - 0s 3ms/step - loss: nan - root_mean_squared_error: nan - metric_cnr: nan - val_loss: nan - val_root_mean_squared_error: nan - val_metric_cnr: nan\nEpoch 30/50\n131/131 [==============================] - 0s 3ms/step - loss: nan - root_mean_squared_error: nan - metric_cnr: nan - val_loss: nan - val_root_mean_squared_error: nan - val_metric_cnr: nan\nEpoch 31/50\n131/131 [==============================] - 0s 2ms/step - loss: nan - root_mean_squared_error: nan - metric_cnr: nan - val_loss: nan - val_root_mean_squared_error: nan - val_metric_cnr: nan\nEpoch 32/50\n131/131 [==============================] - 0s 3ms/step - loss: nan - root_mean_squared_error: nan - metric_cnr: nan - val_loss: nan - val_root_mean_squared_error: nan - val_metric_cnr: nan\nEpoch 33/50\n131/131 [==============================] - 0s 3ms/step - loss: nan - root_mean_squared_error: nan - metric_cnr: nan - val_loss: nan - val_root_mean_squared_error: nan - val_metric_cnr: nan\nEpoch 34/50\n131/131 [==============================] - 0s 3ms/step - loss: nan - root_mean_squared_error: nan - metric_cnr: nan - val_loss: nan - val_root_mean_squared_error: nan - val_metric_cnr: nan\nEpoch 35/50\n131/131 [==============================] - 0s 2ms/step - loss: nan - root_mean_squared_error: nan - metric_cnr: nan - val_loss: nan - val_root_mean_squared_error: nan - val_metric_cnr: nan\nEpoch 36/50\n131/131 [==============================] - 0s 2ms/step - loss: nan - root_mean_squared_error: nan - metric_cnr: nan - val_loss: nan - val_root_mean_squared_error: nan - val_metric_cnr: nan\nEpoch 37/50\n131/131 [==============================] - 0s 3ms/step - loss: nan - root_mean_squared_error: nan - metric_cnr: nan - val_loss: nan - val_root_mean_squared_error: nan - val_metric_cnr: nan\nEpoch 38/50\n131/131 [==============================] - 0s 3ms/step - loss: nan - root_mean_squared_error: nan - metric_cnr: nan - val_loss: nan - val_root_mean_squared_error: nan - val_metric_cnr: nan\nEpoch 39/50\n131/131 [==============================] - 0s 2ms/step - loss: nan - root_mean_squared_error: nan - metric_cnr: nan - val_loss: nan - val_root_mean_squared_error: nan - val_metric_cnr: nan\nEpoch 40/50\n131/131 [==============================] - 0s 2ms/step - loss: nan - root_mean_squared_error: nan - metric_cnr: nan - val_loss: nan - val_root_mean_squared_error: nan - val_metric_cnr: nan\nEpoch 41/50\n131/131 [==============================] - 0s 2ms/step - loss: nan - root_mean_squared_error: nan - metric_cnr: nan - val_loss: nan - val_root_mean_squared_error: nan - val_metric_cnr: nan\nEpoch 42/50\n131/131 [==============================] - 0s 2ms/step - loss: nan - root_mean_squared_error: nan - metric_cnr: nan - val_loss: nan - val_root_mean_squared_error: nan - val_metric_cnr: nan\nEpoch 43/50\n131/131 [==============================] - 0s 3ms/step - loss: nan - root_mean_squared_error: nan - metric_cnr: nan - val_loss: nan - val_root_mean_squared_error: nan - val_metric_cnr: nan\nEpoch 44/50\n131/131 [==============================] - 0s 2ms/step - loss: nan - root_mean_squared_error: nan - metric_cnr: nan - val_loss: nan - val_root_mean_squared_error: nan - val_metric_cnr: nan\nEpoch 45/50\n131/131 [==============================] - 0s 2ms/step - loss: nan - root_mean_squared_error: nan - metric_cnr: nan - val_loss: nan - val_root_mean_squared_error: nan - val_metric_cnr: nan\nEpoch 46/50\n131/131 [==============================] - 0s 2ms/step - loss: nan - root_mean_squared_error: nan - metric_cnr: nan - val_loss: nan - val_root_mean_squared_error: nan - val_metric_cnr: nan\nEpoch 47/50\n131/131 [==============================] - 0s 2ms/step - loss: nan - root_mean_squared_error: nan - metric_cnr: nan - val_loss: nan - val_root_mean_squared_error: nan - val_metric_cnr: nan\nEpoch 48/50\n131/131 [==============================] - 0s 2ms/step - loss: nan - root_mean_squared_error: nan - metric_cnr: nan - val_loss: nan - val_root_mean_squared_error: nan - val_metric_cnr: nan\nEpoch 49/50\n131/131 [==============================] - 0s 3ms/step - loss: nan - root_mean_squared_error: nan - metric_cnr: nan - val_loss: nan - val_root_mean_squared_error: nan - val_metric_cnr: nan\nEpoch 50/50\n131/131 [==============================] - 0s 3ms/step - loss: nan - root_mean_squared_error: nan - metric_cnr: nan - val_loss: nan - val_root_mean_squared_error: nan - val_metric_cnr: nan\n"
    }
   ],
   "source": [
    "model.compile(optimizer='adam', loss='mean_squared_error', metrics=[tf.keras.metrics.RootMeanSquaredError(),metric_cnr])\n",
    "history = model.fit(x = X_train, y = y_train, batch_size = batch_size, epochs = epochs, validation_data = (X_val, y_val), callbacks=callbacks_list,shuffle=False)"
   ]
  },
  {
   "cell_type": "code",
   "execution_count": 22,
   "metadata": {},
   "outputs": [
    {
     "output_type": "execute_result",
     "data": {
      "text/plain": "[nan,\n nan,\n nan,\n nan,\n nan,\n nan,\n nan,\n nan,\n nan,\n nan,\n nan,\n nan,\n nan,\n nan,\n nan,\n nan,\n nan,\n nan,\n nan,\n nan,\n nan,\n nan,\n nan,\n nan,\n nan,\n nan,\n nan,\n nan,\n nan,\n nan,\n nan,\n nan,\n nan,\n nan,\n nan,\n nan,\n nan,\n nan,\n nan,\n nan,\n nan,\n nan,\n nan,\n nan,\n nan,\n nan,\n nan,\n nan,\n nan,\n nan]"
     },
     "metadata": {},
     "execution_count": 22
    }
   ],
   "source": [
    "history.history['metric_cnr']"
   ]
  },
  {
   "cell_type": "code",
   "execution_count": 23,
   "metadata": {},
   "outputs": [
    {
     "output_type": "execute_result",
     "data": {
      "text/plain": "[nan,\n nan,\n nan,\n nan,\n nan,\n nan,\n nan,\n nan,\n nan,\n nan,\n nan,\n nan,\n nan,\n nan,\n nan,\n nan,\n nan,\n nan,\n nan,\n nan,\n nan,\n nan,\n nan,\n nan,\n nan,\n nan,\n nan,\n nan,\n nan,\n nan,\n nan,\n nan,\n nan,\n nan,\n nan,\n nan,\n nan,\n nan,\n nan,\n nan,\n nan,\n nan,\n nan,\n nan,\n nan,\n nan,\n nan,\n nan,\n nan,\n nan]"
     },
     "metadata": {},
     "execution_count": 23
    }
   ],
   "source": [
    "history.history['val_metric_cnr']"
   ]
  },
  {
   "cell_type": "markdown",
   "metadata": {},
   "source": [
    "## Validation"
   ]
  },
  {
   "cell_type": "code",
   "execution_count": 17,
   "metadata": {},
   "outputs": [],
   "source": [
    "def metric_cnr(preds,labels):\n",
    "    cape_cnr = 100*np.sum(np.abs(preds-labels))/np.sum(labels)\n",
    "    return 'CAPE', cape_cnr"
   ]
  },
  {
   "cell_type": "code",
   "execution_count": 18,
   "metadata": {},
   "outputs": [],
   "source": [
    "def metric_cnr(preds,labels):\n",
    "    cape_cnr = 100*tf.math.reduce_sum(tf.math.abs(preds-labels))/tf.math.reduce_sum(labels)\n",
    "    return cape_cnr"
   ]
  },
  {
   "cell_type": "code",
   "execution_count": 19,
   "metadata": {},
   "outputs": [],
   "source": [
    "random.seed(317)\n",
    "tf.random.set_seed(317)\n",
    "\n",
    "patience = 5\n",
    "epochs = 50\n",
    "k_fold_splits = 5\n",
    "total_it = 120\n",
    "monitor = \"root_mean_squared_error\"\n",
    "batch_size = 1 * ((len(X) - len(X) // k_fold_splits) // (total_it))"
   ]
  },
  {
   "cell_type": "code",
   "execution_count": 20,
   "metadata": {
    "tags": []
   },
   "outputs": [
    {
     "output_type": "stream",
     "name": "stdout",
     "text": "Epoch 1/50\n20/20 [==============================] - 144s 7s/step - loss: nan - root_mean_squared_error: nan - metric_cnr: nan - val_loss: nan - val_root_mean_squared_error: nan - val_metric_cnr: nan\nEpoch 2/50\n 7/20 [=========>....................] - ETA: 1:22 - loss: nan - root_mean_squared_error: nan - metric_cnr: nan"
    },
    {
     "output_type": "error",
     "ename": "KeyboardInterrupt",
     "evalue": "",
     "traceback": [
      "\u001b[1;31m---------------------------------------------------------------------------\u001b[0m",
      "\u001b[1;31mKeyboardInterrupt\u001b[0m                         Traceback (most recent call last)",
      "\u001b[1;32m<ipython-input-20-1ff89593f86b>\u001b[0m in \u001b[0;36m<module>\u001b[1;34m\u001b[0m\n\u001b[0;32m     31\u001b[0m     \u001b[1;31m# Train the Model\u001b[0m\u001b[1;33m\u001b[0m\u001b[1;33m\u001b[0m\u001b[1;33m\u001b[0m\u001b[0m\n\u001b[0;32m     32\u001b[0m     \u001b[0mmodel\u001b[0m\u001b[1;33m.\u001b[0m\u001b[0mcompile\u001b[0m\u001b[1;33m(\u001b[0m\u001b[0moptimizer\u001b[0m\u001b[1;33m=\u001b[0m\u001b[1;34m'adam'\u001b[0m\u001b[1;33m,\u001b[0m \u001b[0mloss\u001b[0m\u001b[1;33m=\u001b[0m\u001b[1;34m'hinge'\u001b[0m\u001b[1;33m,\u001b[0m \u001b[0mmetrics\u001b[0m\u001b[1;33m=\u001b[0m\u001b[1;33m[\u001b[0m\u001b[0mtf\u001b[0m\u001b[1;33m.\u001b[0m\u001b[0mkeras\u001b[0m\u001b[1;33m.\u001b[0m\u001b[0mmetrics\u001b[0m\u001b[1;33m.\u001b[0m\u001b[0mRootMeanSquaredError\u001b[0m\u001b[1;33m(\u001b[0m\u001b[1;33m)\u001b[0m\u001b[1;33m,\u001b[0m\u001b[0mmetric_cnr\u001b[0m\u001b[1;33m]\u001b[0m\u001b[1;33m)\u001b[0m\u001b[1;33m\u001b[0m\u001b[1;33m\u001b[0m\u001b[0m\n\u001b[1;32m---> 33\u001b[1;33m     \u001b[0mhistory\u001b[0m \u001b[1;33m=\u001b[0m \u001b[0mmodel\u001b[0m\u001b[1;33m.\u001b[0m\u001b[0mfit\u001b[0m\u001b[1;33m(\u001b[0m\u001b[0mx\u001b[0m \u001b[1;33m=\u001b[0m \u001b[0mX_train\u001b[0m\u001b[1;33m,\u001b[0m \u001b[0my\u001b[0m \u001b[1;33m=\u001b[0m \u001b[0my_train\u001b[0m\u001b[1;33m,\u001b[0m \u001b[0mbatch_size\u001b[0m \u001b[1;33m=\u001b[0m \u001b[0mbatch_size\u001b[0m\u001b[1;33m,\u001b[0m \u001b[0mepochs\u001b[0m \u001b[1;33m=\u001b[0m \u001b[0mepochs\u001b[0m\u001b[1;33m,\u001b[0m \u001b[0mvalidation_data\u001b[0m \u001b[1;33m=\u001b[0m \u001b[1;33m(\u001b[0m\u001b[0mX_val\u001b[0m\u001b[1;33m,\u001b[0m \u001b[0my_val\u001b[0m\u001b[1;33m)\u001b[0m\u001b[1;33m,\u001b[0m \u001b[0mcallbacks\u001b[0m\u001b[1;33m=\u001b[0m\u001b[0mcallbacks_list\u001b[0m\u001b[1;33m)\u001b[0m\u001b[1;33m\u001b[0m\u001b[1;33m\u001b[0m\u001b[0m\n\u001b[0m\u001b[0;32m     34\u001b[0m \u001b[1;33m\u001b[0m\u001b[0m\n\u001b[0;32m     35\u001b[0m     \u001b[1;31m# Train and Validation Score\u001b[0m\u001b[1;33m\u001b[0m\u001b[1;33m\u001b[0m\u001b[1;33m\u001b[0m\u001b[0m\n",
      "\u001b[1;32m~\\anaconda3\\lib\\site-packages\\tensorflow\\python\\keras\\engine\\training.py\u001b[0m in \u001b[0;36m_method_wrapper\u001b[1;34m(self, *args, **kwargs)\u001b[0m\n\u001b[0;32m     64\u001b[0m   \u001b[1;32mdef\u001b[0m \u001b[0m_method_wrapper\u001b[0m\u001b[1;33m(\u001b[0m\u001b[0mself\u001b[0m\u001b[1;33m,\u001b[0m \u001b[1;33m*\u001b[0m\u001b[0margs\u001b[0m\u001b[1;33m,\u001b[0m \u001b[1;33m**\u001b[0m\u001b[0mkwargs\u001b[0m\u001b[1;33m)\u001b[0m\u001b[1;33m:\u001b[0m\u001b[1;33m\u001b[0m\u001b[1;33m\u001b[0m\u001b[0m\n\u001b[0;32m     65\u001b[0m     \u001b[1;32mif\u001b[0m \u001b[1;32mnot\u001b[0m \u001b[0mself\u001b[0m\u001b[1;33m.\u001b[0m\u001b[0m_in_multi_worker_mode\u001b[0m\u001b[1;33m(\u001b[0m\u001b[1;33m)\u001b[0m\u001b[1;33m:\u001b[0m  \u001b[1;31m# pylint: disable=protected-access\u001b[0m\u001b[1;33m\u001b[0m\u001b[1;33m\u001b[0m\u001b[0m\n\u001b[1;32m---> 66\u001b[1;33m       \u001b[1;32mreturn\u001b[0m \u001b[0mmethod\u001b[0m\u001b[1;33m(\u001b[0m\u001b[0mself\u001b[0m\u001b[1;33m,\u001b[0m \u001b[1;33m*\u001b[0m\u001b[0margs\u001b[0m\u001b[1;33m,\u001b[0m \u001b[1;33m**\u001b[0m\u001b[0mkwargs\u001b[0m\u001b[1;33m)\u001b[0m\u001b[1;33m\u001b[0m\u001b[1;33m\u001b[0m\u001b[0m\n\u001b[0m\u001b[0;32m     67\u001b[0m \u001b[1;33m\u001b[0m\u001b[0m\n\u001b[0;32m     68\u001b[0m     \u001b[1;31m# Running inside `run_distribute_coordinator` already.\u001b[0m\u001b[1;33m\u001b[0m\u001b[1;33m\u001b[0m\u001b[1;33m\u001b[0m\u001b[0m\n",
      "\u001b[1;32m~\\anaconda3\\lib\\site-packages\\tensorflow\\python\\keras\\engine\\training.py\u001b[0m in \u001b[0;36mfit\u001b[1;34m(self, x, y, batch_size, epochs, verbose, callbacks, validation_split, validation_data, shuffle, class_weight, sample_weight, initial_epoch, steps_per_epoch, validation_steps, validation_batch_size, validation_freq, max_queue_size, workers, use_multiprocessing)\u001b[0m\n\u001b[0;32m    846\u001b[0m                 batch_size=batch_size):\n\u001b[0;32m    847\u001b[0m               \u001b[0mcallbacks\u001b[0m\u001b[1;33m.\u001b[0m\u001b[0mon_train_batch_begin\u001b[0m\u001b[1;33m(\u001b[0m\u001b[0mstep\u001b[0m\u001b[1;33m)\u001b[0m\u001b[1;33m\u001b[0m\u001b[1;33m\u001b[0m\u001b[0m\n\u001b[1;32m--> 848\u001b[1;33m               \u001b[0mtmp_logs\u001b[0m \u001b[1;33m=\u001b[0m \u001b[0mtrain_function\u001b[0m\u001b[1;33m(\u001b[0m\u001b[0miterator\u001b[0m\u001b[1;33m)\u001b[0m\u001b[1;33m\u001b[0m\u001b[1;33m\u001b[0m\u001b[0m\n\u001b[0m\u001b[0;32m    849\u001b[0m               \u001b[1;31m# Catch OutOfRangeError for Datasets of unknown size.\u001b[0m\u001b[1;33m\u001b[0m\u001b[1;33m\u001b[0m\u001b[1;33m\u001b[0m\u001b[0m\n\u001b[0;32m    850\u001b[0m               \u001b[1;31m# This blocks until the batch has finished executing.\u001b[0m\u001b[1;33m\u001b[0m\u001b[1;33m\u001b[0m\u001b[1;33m\u001b[0m\u001b[0m\n",
      "\u001b[1;32m~\\anaconda3\\lib\\site-packages\\tensorflow\\python\\eager\\def_function.py\u001b[0m in \u001b[0;36m__call__\u001b[1;34m(self, *args, **kwds)\u001b[0m\n\u001b[0;32m    578\u001b[0m         \u001b[0mxla_context\u001b[0m\u001b[1;33m.\u001b[0m\u001b[0mExit\u001b[0m\u001b[1;33m(\u001b[0m\u001b[1;33m)\u001b[0m\u001b[1;33m\u001b[0m\u001b[1;33m\u001b[0m\u001b[0m\n\u001b[0;32m    579\u001b[0m     \u001b[1;32melse\u001b[0m\u001b[1;33m:\u001b[0m\u001b[1;33m\u001b[0m\u001b[1;33m\u001b[0m\u001b[0m\n\u001b[1;32m--> 580\u001b[1;33m       \u001b[0mresult\u001b[0m \u001b[1;33m=\u001b[0m \u001b[0mself\u001b[0m\u001b[1;33m.\u001b[0m\u001b[0m_call\u001b[0m\u001b[1;33m(\u001b[0m\u001b[1;33m*\u001b[0m\u001b[0margs\u001b[0m\u001b[1;33m,\u001b[0m \u001b[1;33m**\u001b[0m\u001b[0mkwds\u001b[0m\u001b[1;33m)\u001b[0m\u001b[1;33m\u001b[0m\u001b[1;33m\u001b[0m\u001b[0m\n\u001b[0m\u001b[0;32m    581\u001b[0m \u001b[1;33m\u001b[0m\u001b[0m\n\u001b[0;32m    582\u001b[0m     \u001b[1;32mif\u001b[0m \u001b[0mtracing_count\u001b[0m \u001b[1;33m==\u001b[0m \u001b[0mself\u001b[0m\u001b[1;33m.\u001b[0m\u001b[0m_get_tracing_count\u001b[0m\u001b[1;33m(\u001b[0m\u001b[1;33m)\u001b[0m\u001b[1;33m:\u001b[0m\u001b[1;33m\u001b[0m\u001b[1;33m\u001b[0m\u001b[0m\n",
      "\u001b[1;32m~\\anaconda3\\lib\\site-packages\\tensorflow\\python\\eager\\def_function.py\u001b[0m in \u001b[0;36m_call\u001b[1;34m(self, *args, **kwds)\u001b[0m\n\u001b[0;32m    609\u001b[0m       \u001b[1;31m# In this case we have created variables on the first call, so we run the\u001b[0m\u001b[1;33m\u001b[0m\u001b[1;33m\u001b[0m\u001b[1;33m\u001b[0m\u001b[0m\n\u001b[0;32m    610\u001b[0m       \u001b[1;31m# defunned version which is guaranteed to never create variables.\u001b[0m\u001b[1;33m\u001b[0m\u001b[1;33m\u001b[0m\u001b[1;33m\u001b[0m\u001b[0m\n\u001b[1;32m--> 611\u001b[1;33m       \u001b[1;32mreturn\u001b[0m \u001b[0mself\u001b[0m\u001b[1;33m.\u001b[0m\u001b[0m_stateless_fn\u001b[0m\u001b[1;33m(\u001b[0m\u001b[1;33m*\u001b[0m\u001b[0margs\u001b[0m\u001b[1;33m,\u001b[0m \u001b[1;33m**\u001b[0m\u001b[0mkwds\u001b[0m\u001b[1;33m)\u001b[0m  \u001b[1;31m# pylint: disable=not-callable\u001b[0m\u001b[1;33m\u001b[0m\u001b[1;33m\u001b[0m\u001b[0m\n\u001b[0m\u001b[0;32m    612\u001b[0m     \u001b[1;32melif\u001b[0m \u001b[0mself\u001b[0m\u001b[1;33m.\u001b[0m\u001b[0m_stateful_fn\u001b[0m \u001b[1;32mis\u001b[0m \u001b[1;32mnot\u001b[0m \u001b[1;32mNone\u001b[0m\u001b[1;33m:\u001b[0m\u001b[1;33m\u001b[0m\u001b[1;33m\u001b[0m\u001b[0m\n\u001b[0;32m    613\u001b[0m       \u001b[1;31m# Release the lock early so that multiple threads can perform the call\u001b[0m\u001b[1;33m\u001b[0m\u001b[1;33m\u001b[0m\u001b[1;33m\u001b[0m\u001b[0m\n",
      "\u001b[1;32m~\\anaconda3\\lib\\site-packages\\tensorflow\\python\\eager\\function.py\u001b[0m in \u001b[0;36m__call__\u001b[1;34m(self, *args, **kwargs)\u001b[0m\n\u001b[0;32m   2418\u001b[0m     \u001b[1;32mwith\u001b[0m \u001b[0mself\u001b[0m\u001b[1;33m.\u001b[0m\u001b[0m_lock\u001b[0m\u001b[1;33m:\u001b[0m\u001b[1;33m\u001b[0m\u001b[1;33m\u001b[0m\u001b[0m\n\u001b[0;32m   2419\u001b[0m       \u001b[0mgraph_function\u001b[0m\u001b[1;33m,\u001b[0m \u001b[0margs\u001b[0m\u001b[1;33m,\u001b[0m \u001b[0mkwargs\u001b[0m \u001b[1;33m=\u001b[0m \u001b[0mself\u001b[0m\u001b[1;33m.\u001b[0m\u001b[0m_maybe_define_function\u001b[0m\u001b[1;33m(\u001b[0m\u001b[0margs\u001b[0m\u001b[1;33m,\u001b[0m \u001b[0mkwargs\u001b[0m\u001b[1;33m)\u001b[0m\u001b[1;33m\u001b[0m\u001b[1;33m\u001b[0m\u001b[0m\n\u001b[1;32m-> 2420\u001b[1;33m     \u001b[1;32mreturn\u001b[0m \u001b[0mgraph_function\u001b[0m\u001b[1;33m.\u001b[0m\u001b[0m_filtered_call\u001b[0m\u001b[1;33m(\u001b[0m\u001b[0margs\u001b[0m\u001b[1;33m,\u001b[0m \u001b[0mkwargs\u001b[0m\u001b[1;33m)\u001b[0m  \u001b[1;31m# pylint: disable=protected-access\u001b[0m\u001b[1;33m\u001b[0m\u001b[1;33m\u001b[0m\u001b[0m\n\u001b[0m\u001b[0;32m   2421\u001b[0m \u001b[1;33m\u001b[0m\u001b[0m\n\u001b[0;32m   2422\u001b[0m   \u001b[1;33m@\u001b[0m\u001b[0mproperty\u001b[0m\u001b[1;33m\u001b[0m\u001b[1;33m\u001b[0m\u001b[0m\n",
      "\u001b[1;32m~\\anaconda3\\lib\\site-packages\\tensorflow\\python\\eager\\function.py\u001b[0m in \u001b[0;36m_filtered_call\u001b[1;34m(self, args, kwargs)\u001b[0m\n\u001b[0;32m   1663\u001b[0m          if isinstance(t, (ops.Tensor,\n\u001b[0;32m   1664\u001b[0m                            resource_variable_ops.BaseResourceVariable))),\n\u001b[1;32m-> 1665\u001b[1;33m         self.captured_inputs)\n\u001b[0m\u001b[0;32m   1666\u001b[0m \u001b[1;33m\u001b[0m\u001b[0m\n\u001b[0;32m   1667\u001b[0m   \u001b[1;32mdef\u001b[0m \u001b[0m_call_flat\u001b[0m\u001b[1;33m(\u001b[0m\u001b[0mself\u001b[0m\u001b[1;33m,\u001b[0m \u001b[0margs\u001b[0m\u001b[1;33m,\u001b[0m \u001b[0mcaptured_inputs\u001b[0m\u001b[1;33m,\u001b[0m \u001b[0mcancellation_manager\u001b[0m\u001b[1;33m=\u001b[0m\u001b[1;32mNone\u001b[0m\u001b[1;33m)\u001b[0m\u001b[1;33m:\u001b[0m\u001b[1;33m\u001b[0m\u001b[1;33m\u001b[0m\u001b[0m\n",
      "\u001b[1;32m~\\anaconda3\\lib\\site-packages\\tensorflow\\python\\eager\\function.py\u001b[0m in \u001b[0;36m_call_flat\u001b[1;34m(self, args, captured_inputs, cancellation_manager)\u001b[0m\n\u001b[0;32m   1744\u001b[0m       \u001b[1;31m# No tape is watching; skip to running the function.\u001b[0m\u001b[1;33m\u001b[0m\u001b[1;33m\u001b[0m\u001b[1;33m\u001b[0m\u001b[0m\n\u001b[0;32m   1745\u001b[0m       return self._build_call_outputs(self._inference_function.call(\n\u001b[1;32m-> 1746\u001b[1;33m           ctx, args, cancellation_manager=cancellation_manager))\n\u001b[0m\u001b[0;32m   1747\u001b[0m     forward_backward = self._select_forward_and_backward_functions(\n\u001b[0;32m   1748\u001b[0m         \u001b[0margs\u001b[0m\u001b[1;33m,\u001b[0m\u001b[1;33m\u001b[0m\u001b[1;33m\u001b[0m\u001b[0m\n",
      "\u001b[1;32m~\\anaconda3\\lib\\site-packages\\tensorflow\\python\\eager\\function.py\u001b[0m in \u001b[0;36mcall\u001b[1;34m(self, ctx, args, cancellation_manager)\u001b[0m\n\u001b[0;32m    596\u001b[0m               \u001b[0minputs\u001b[0m\u001b[1;33m=\u001b[0m\u001b[0margs\u001b[0m\u001b[1;33m,\u001b[0m\u001b[1;33m\u001b[0m\u001b[1;33m\u001b[0m\u001b[0m\n\u001b[0;32m    597\u001b[0m               \u001b[0mattrs\u001b[0m\u001b[1;33m=\u001b[0m\u001b[0mattrs\u001b[0m\u001b[1;33m,\u001b[0m\u001b[1;33m\u001b[0m\u001b[1;33m\u001b[0m\u001b[0m\n\u001b[1;32m--> 598\u001b[1;33m               ctx=ctx)\n\u001b[0m\u001b[0;32m    599\u001b[0m         \u001b[1;32melse\u001b[0m\u001b[1;33m:\u001b[0m\u001b[1;33m\u001b[0m\u001b[1;33m\u001b[0m\u001b[0m\n\u001b[0;32m    600\u001b[0m           outputs = execute.execute_with_cancellation(\n",
      "\u001b[1;32m~\\anaconda3\\lib\\site-packages\\tensorflow\\python\\eager\\execute.py\u001b[0m in \u001b[0;36mquick_execute\u001b[1;34m(op_name, num_outputs, inputs, attrs, ctx, name)\u001b[0m\n\u001b[0;32m     58\u001b[0m     \u001b[0mctx\u001b[0m\u001b[1;33m.\u001b[0m\u001b[0mensure_initialized\u001b[0m\u001b[1;33m(\u001b[0m\u001b[1;33m)\u001b[0m\u001b[1;33m\u001b[0m\u001b[1;33m\u001b[0m\u001b[0m\n\u001b[0;32m     59\u001b[0m     tensors = pywrap_tfe.TFE_Py_Execute(ctx._handle, device_name, op_name,\n\u001b[1;32m---> 60\u001b[1;33m                                         inputs, attrs, num_outputs)\n\u001b[0m\u001b[0;32m     61\u001b[0m   \u001b[1;32mexcept\u001b[0m \u001b[0mcore\u001b[0m\u001b[1;33m.\u001b[0m\u001b[0m_NotOkStatusException\u001b[0m \u001b[1;32mas\u001b[0m \u001b[0me\u001b[0m\u001b[1;33m:\u001b[0m\u001b[1;33m\u001b[0m\u001b[1;33m\u001b[0m\u001b[0m\n\u001b[0;32m     62\u001b[0m     \u001b[1;32mif\u001b[0m \u001b[0mname\u001b[0m \u001b[1;32mis\u001b[0m \u001b[1;32mnot\u001b[0m \u001b[1;32mNone\u001b[0m\u001b[1;33m:\u001b[0m\u001b[1;33m\u001b[0m\u001b[1;33m\u001b[0m\u001b[0m\n",
      "\u001b[1;31mKeyboardInterrupt\u001b[0m: "
     ]
    }
   ],
   "source": [
    "# Define Time Split Cross Validation\n",
    "tscv = TimeSeriesSplit(n_splits=k_fold_splits)\n",
    "\n",
    "# Separating Data from Hold Out Set\n",
    "\n",
    "X_cv, _, y_cv, _ = train_test_split(X, y, test_size=0.125, shuffle=False)\n",
    "\n",
    "train_scores = np.empty(0)\n",
    "val_scores = np.empty(0)\n",
    "test_scores = np.empty(0)\n",
    "for train_index, test_index in tscv.split(X_cv):\n",
    "\n",
    "    # Get the Data of the Split\n",
    "    X_train, X_test = X_cv.iloc[train_index], X_cv.iloc[test_index]\n",
    "    y_train, y_test = y_cv.iloc[train_index], y_cv.iloc[test_index]\n",
    "\n",
    "    # Separating Training Set of Split on Train and Validation Subsets\n",
    "    X_train, X_val, y_train, y_val = train_test_split(X_train, y_train, test_size=0.143, shuffle=False)\n",
    "\n",
    "    # Reshape Data\n",
    "    X_train, y_train = split_sequences(X_train.values,y_train.values,n_steps)\n",
    "    X_val, y_val = split_sequences(X_val.values,y_val.values,n_steps)\n",
    "    X_test, y_test = split_sequences(X_test.values,y_test.values,n_steps)\n",
    "\n",
    "    # Create Model\n",
    "    model = LSTM_Model(input_shape)\n",
    "\n",
    "    # Callbacks\n",
    "    callbacks_list = [tf.keras.callbacks.EarlyStopping(monitor=monitor, patience=patience, verbose=0, min_delta=1e-8)]\n",
    "\n",
    "    # Train the Model\n",
    "    model.compile(optimizer='adam', loss='mse', metrics=[tf.keras.metrics.RootMeanSquaredError(),metric_cnr])\n",
    "    history = model.fit(x = X_train, y = y_train, batch_size = batch_size, epochs = epochs, validation_data = (X_val, y_val), callbacks=callbacks_list)\n",
    "\n",
    "    # Train and Validation Score\n",
    "    train_score = np.array(history.history['metric_cnr']).mean()\n",
    "    val_score = np.array(history.history['val_metric_cnr']).mean()\n",
    "\n",
    "    # Test Score\n",
    "    preds = model.predict(X_test,batch_size = batch_size,callbacks=callbacks_list)\n",
    "    test_score = metric_cnr(preds,y_test)\n",
    "\n",
    "    train_scores = np.append(train_scores,train_score)\n",
    "    val_scores = np.append(val_scores,val_score)\n",
    "    test_scores = np.append(test_scores,test_score)"
   ]
  },
  {
   "cell_type": "code",
   "execution_count": 21,
   "metadata": {},
   "outputs": [
    {
     "output_type": "execute_result",
     "data": {
      "text/plain": "array([], dtype=float64)"
     },
     "metadata": {},
     "execution_count": 21
    }
   ],
   "source": [
    "train_scores"
   ]
  },
  {
   "cell_type": "markdown",
   "metadata": {},
   "source": [
    "### Hold Out Score"
   ]
  },
  {
   "cell_type": "code",
   "execution_count": 22,
   "metadata": {},
   "outputs": [],
   "source": [
    "X_train, X_holdout, y_train, y_holdout = train_test_split(X, y, test_size=0.125, shuffle=False)"
   ]
  },
  {
   "cell_type": "code",
   "execution_count": 23,
   "metadata": {},
   "outputs": [],
   "source": [
    "X_train, X_val, y_train, y_val = train_test_split(X_train, y_train, test_size=0.143, shuffle=False)"
   ]
  },
  {
   "cell_type": "code",
   "execution_count": 24,
   "metadata": {},
   "outputs": [],
   "source": [
    "X_train, y_train = split_sequences(X_train.values,y_train.values,n_steps)\n",
    "X_val, y_val = split_sequences(X_val.values,y_val.values,n_steps)\n",
    "X_holdout, y_holdout = split_sequences(X_holdout.values,y_holdout.values,n_steps)"
   ]
  },
  {
   "cell_type": "code",
   "execution_count": 25,
   "metadata": {},
   "outputs": [
    {
     "output_type": "error",
     "ename": "ValueError",
     "evalue": "Input 0 of layer lstm_5 is incompatible with the layer: expected ndim=3, found ndim=2. Full shape received: [None, 1024]",
     "traceback": [
      "\u001b[1;31m---------------------------------------------------------------------------\u001b[0m",
      "\u001b[1;31mValueError\u001b[0m                                Traceback (most recent call last)",
      "\u001b[1;32m<ipython-input-25-301e9a3c173d>\u001b[0m in \u001b[0;36m<module>\u001b[1;34m\u001b[0m\n\u001b[1;32m----> 1\u001b[1;33m \u001b[0mmodel\u001b[0m \u001b[1;33m=\u001b[0m \u001b[0mLSTM_Model\u001b[0m\u001b[1;33m(\u001b[0m\u001b[0minput_shape\u001b[0m\u001b[1;33m)\u001b[0m\u001b[1;33m\u001b[0m\u001b[1;33m\u001b[0m\u001b[0m\n\u001b[0m",
      "\u001b[1;32m<ipython-input-13-9736510f9f7b>\u001b[0m in \u001b[0;36mLSTM_Model\u001b[1;34m(input_shape)\u001b[0m\n\u001b[0;32m      7\u001b[0m   \u001b[0mhidden_1\u001b[0m \u001b[1;33m=\u001b[0m \u001b[0mtf\u001b[0m\u001b[1;33m.\u001b[0m\u001b[0mkeras\u001b[0m\u001b[1;33m.\u001b[0m\u001b[0mlayers\u001b[0m\u001b[1;33m.\u001b[0m\u001b[0mDropout\u001b[0m\u001b[1;33m(\u001b[0m\u001b[0mrate\u001b[0m\u001b[1;33m=\u001b[0m\u001b[1;36m0.2\u001b[0m\u001b[1;33m)\u001b[0m\u001b[1;33m(\u001b[0m\u001b[0mhidden_1\u001b[0m\u001b[1;33m)\u001b[0m\u001b[1;33m\u001b[0m\u001b[1;33m\u001b[0m\u001b[0m\n\u001b[0;32m      8\u001b[0m \u001b[1;33m\u001b[0m\u001b[0m\n\u001b[1;32m----> 9\u001b[1;33m   \u001b[0mhidden_2\u001b[0m \u001b[1;33m=\u001b[0m \u001b[0mtf\u001b[0m\u001b[1;33m.\u001b[0m\u001b[0mkeras\u001b[0m\u001b[1;33m.\u001b[0m\u001b[0mlayers\u001b[0m\u001b[1;33m.\u001b[0m\u001b[0mLSTM\u001b[0m\u001b[1;33m(\u001b[0m\u001b[0munits\u001b[0m\u001b[1;33m=\u001b[0m\u001b[1;36m512\u001b[0m\u001b[1;33m,\u001b[0m \u001b[0mactivation\u001b[0m\u001b[1;33m=\u001b[0m\u001b[1;34m\"tanh\"\u001b[0m\u001b[1;33m)\u001b[0m\u001b[1;33m(\u001b[0m\u001b[0mhidden_1\u001b[0m\u001b[1;33m)\u001b[0m\u001b[1;33m\u001b[0m\u001b[1;33m\u001b[0m\u001b[0m\n\u001b[0m\u001b[0;32m     10\u001b[0m   \u001b[0mhidden_2\u001b[0m \u001b[1;33m=\u001b[0m \u001b[0mtf\u001b[0m\u001b[1;33m.\u001b[0m\u001b[0mkeras\u001b[0m\u001b[1;33m.\u001b[0m\u001b[0mlayers\u001b[0m\u001b[1;33m.\u001b[0m\u001b[0mDropout\u001b[0m\u001b[1;33m(\u001b[0m\u001b[0mrate\u001b[0m\u001b[1;33m=\u001b[0m\u001b[1;36m0.2\u001b[0m\u001b[1;33m)\u001b[0m\u001b[1;33m(\u001b[0m\u001b[0mhidden_2\u001b[0m\u001b[1;33m)\u001b[0m\u001b[1;33m\u001b[0m\u001b[1;33m\u001b[0m\u001b[0m\n\u001b[0;32m     11\u001b[0m \u001b[1;33m\u001b[0m\u001b[0m\n",
      "\u001b[1;32m~\\anaconda3\\lib\\site-packages\\tensorflow\\python\\keras\\layers\\recurrent.py\u001b[0m in \u001b[0;36m__call__\u001b[1;34m(self, inputs, initial_state, constants, **kwargs)\u001b[0m\n\u001b[0;32m    652\u001b[0m \u001b[1;33m\u001b[0m\u001b[0m\n\u001b[0;32m    653\u001b[0m     \u001b[1;32mif\u001b[0m \u001b[0minitial_state\u001b[0m \u001b[1;32mis\u001b[0m \u001b[1;32mNone\u001b[0m \u001b[1;32mand\u001b[0m \u001b[0mconstants\u001b[0m \u001b[1;32mis\u001b[0m \u001b[1;32mNone\u001b[0m\u001b[1;33m:\u001b[0m\u001b[1;33m\u001b[0m\u001b[1;33m\u001b[0m\u001b[0m\n\u001b[1;32m--> 654\u001b[1;33m       \u001b[1;32mreturn\u001b[0m \u001b[0msuper\u001b[0m\u001b[1;33m(\u001b[0m\u001b[0mRNN\u001b[0m\u001b[1;33m,\u001b[0m \u001b[0mself\u001b[0m\u001b[1;33m)\u001b[0m\u001b[1;33m.\u001b[0m\u001b[0m__call__\u001b[0m\u001b[1;33m(\u001b[0m\u001b[0minputs\u001b[0m\u001b[1;33m,\u001b[0m \u001b[1;33m**\u001b[0m\u001b[0mkwargs\u001b[0m\u001b[1;33m)\u001b[0m\u001b[1;33m\u001b[0m\u001b[1;33m\u001b[0m\u001b[0m\n\u001b[0m\u001b[0;32m    655\u001b[0m \u001b[1;33m\u001b[0m\u001b[0m\n\u001b[0;32m    656\u001b[0m     \u001b[1;31m# If any of `initial_state` or `constants` are specified and are Keras\u001b[0m\u001b[1;33m\u001b[0m\u001b[1;33m\u001b[0m\u001b[1;33m\u001b[0m\u001b[0m\n",
      "\u001b[1;32m~\\anaconda3\\lib\\site-packages\\tensorflow\\python\\keras\\engine\\base_layer.py\u001b[0m in \u001b[0;36m__call__\u001b[1;34m(self, *args, **kwargs)\u001b[0m\n\u001b[0;32m    884\u001b[0m         \u001b[1;31m# are casted, not before.\u001b[0m\u001b[1;33m\u001b[0m\u001b[1;33m\u001b[0m\u001b[1;33m\u001b[0m\u001b[0m\n\u001b[0;32m    885\u001b[0m         input_spec.assert_input_compatibility(self.input_spec, inputs,\n\u001b[1;32m--> 886\u001b[1;33m                                               self.name)\n\u001b[0m\u001b[0;32m    887\u001b[0m         if (any(isinstance(x, ragged_tensor.RaggedTensor) for x in input_list)\n\u001b[0;32m    888\u001b[0m             and self._supports_ragged_inputs is False):  # pylint: disable=g-bool-id-comparison\n",
      "\u001b[1;32m~\\anaconda3\\lib\\site-packages\\tensorflow\\python\\keras\\engine\\input_spec.py\u001b[0m in \u001b[0;36massert_input_compatibility\u001b[1;34m(input_spec, inputs, layer_name)\u001b[0m\n\u001b[0;32m    178\u001b[0m                          \u001b[1;34m'expected ndim='\u001b[0m \u001b[1;33m+\u001b[0m \u001b[0mstr\u001b[0m\u001b[1;33m(\u001b[0m\u001b[0mspec\u001b[0m\u001b[1;33m.\u001b[0m\u001b[0mndim\u001b[0m\u001b[1;33m)\u001b[0m \u001b[1;33m+\u001b[0m \u001b[1;34m', found ndim='\u001b[0m \u001b[1;33m+\u001b[0m\u001b[1;33m\u001b[0m\u001b[1;33m\u001b[0m\u001b[0m\n\u001b[0;32m    179\u001b[0m                          \u001b[0mstr\u001b[0m\u001b[1;33m(\u001b[0m\u001b[0mndim\u001b[0m\u001b[1;33m)\u001b[0m \u001b[1;33m+\u001b[0m \u001b[1;34m'. Full shape received: '\u001b[0m \u001b[1;33m+\u001b[0m\u001b[1;33m\u001b[0m\u001b[1;33m\u001b[0m\u001b[0m\n\u001b[1;32m--> 180\u001b[1;33m                          str(x.shape.as_list()))\n\u001b[0m\u001b[0;32m    181\u001b[0m     \u001b[1;32mif\u001b[0m \u001b[0mspec\u001b[0m\u001b[1;33m.\u001b[0m\u001b[0mmax_ndim\u001b[0m \u001b[1;32mis\u001b[0m \u001b[1;32mnot\u001b[0m \u001b[1;32mNone\u001b[0m\u001b[1;33m:\u001b[0m\u001b[1;33m\u001b[0m\u001b[1;33m\u001b[0m\u001b[0m\n\u001b[0;32m    182\u001b[0m       \u001b[0mndim\u001b[0m \u001b[1;33m=\u001b[0m \u001b[0mx\u001b[0m\u001b[1;33m.\u001b[0m\u001b[0mshape\u001b[0m\u001b[1;33m.\u001b[0m\u001b[0mndims\u001b[0m\u001b[1;33m\u001b[0m\u001b[1;33m\u001b[0m\u001b[0m\n",
      "\u001b[1;31mValueError\u001b[0m: Input 0 of layer lstm_5 is incompatible with the layer: expected ndim=3, found ndim=2. Full shape received: [None, 1024]"
     ]
    }
   ],
   "source": [
    "model = LSTM_Model(input_shape)"
   ]
  },
  {
   "cell_type": "code",
   "execution_count": 26,
   "metadata": {
    "tags": []
   },
   "outputs": [
    {
     "output_type": "error",
     "ename": "NameError",
     "evalue": "name 'model' is not defined",
     "traceback": [
      "\u001b[1;31m---------------------------------------------------------------------------\u001b[0m",
      "\u001b[1;31mNameError\u001b[0m                                 Traceback (most recent call last)",
      "\u001b[1;32m<ipython-input-26-0b7c38297d2c>\u001b[0m in \u001b[0;36m<module>\u001b[1;34m\u001b[0m\n\u001b[0;32m      1\u001b[0m \u001b[0mcallbacks_list\u001b[0m \u001b[1;33m=\u001b[0m \u001b[1;33m[\u001b[0m\u001b[0mtf\u001b[0m\u001b[1;33m.\u001b[0m\u001b[0mkeras\u001b[0m\u001b[1;33m.\u001b[0m\u001b[0mcallbacks\u001b[0m\u001b[1;33m.\u001b[0m\u001b[0mEarlyStopping\u001b[0m\u001b[1;33m(\u001b[0m\u001b[0mmonitor\u001b[0m\u001b[1;33m=\u001b[0m\u001b[0mmonitor\u001b[0m\u001b[1;33m,\u001b[0m \u001b[0mpatience\u001b[0m\u001b[1;33m=\u001b[0m\u001b[0mpatience\u001b[0m\u001b[1;33m,\u001b[0m \u001b[0mverbose\u001b[0m\u001b[1;33m=\u001b[0m\u001b[1;36m0\u001b[0m\u001b[1;33m,\u001b[0m \u001b[0mmin_delta\u001b[0m\u001b[1;33m=\u001b[0m\u001b[1;36m1e-8\u001b[0m\u001b[1;33m)\u001b[0m\u001b[1;33m]\u001b[0m\u001b[1;33m\u001b[0m\u001b[1;33m\u001b[0m\u001b[0m\n\u001b[1;32m----> 2\u001b[1;33m \u001b[0mmodel\u001b[0m\u001b[1;33m.\u001b[0m\u001b[0mcompile\u001b[0m\u001b[1;33m(\u001b[0m\u001b[0moptimizer\u001b[0m\u001b[1;33m=\u001b[0m\u001b[1;34m'adam'\u001b[0m\u001b[1;33m,\u001b[0m \u001b[0mloss\u001b[0m\u001b[1;33m=\u001b[0m\u001b[1;34m'hinge'\u001b[0m\u001b[1;33m,\u001b[0m \u001b[0mmetrics\u001b[0m\u001b[1;33m=\u001b[0m\u001b[1;33m[\u001b[0m\u001b[0mtf\u001b[0m\u001b[1;33m.\u001b[0m\u001b[0mkeras\u001b[0m\u001b[1;33m.\u001b[0m\u001b[0mmetrics\u001b[0m\u001b[1;33m.\u001b[0m\u001b[0mRootMeanSquaredError\u001b[0m\u001b[1;33m(\u001b[0m\u001b[1;33m)\u001b[0m\u001b[1;33m,\u001b[0m\u001b[0mmetric_cnr\u001b[0m\u001b[1;33m]\u001b[0m\u001b[1;33m)\u001b[0m\u001b[1;33m\u001b[0m\u001b[1;33m\u001b[0m\u001b[0m\n\u001b[0m\u001b[0;32m      3\u001b[0m \u001b[0mmodel\u001b[0m\u001b[1;33m.\u001b[0m\u001b[0mfit\u001b[0m\u001b[1;33m(\u001b[0m\u001b[0mx\u001b[0m \u001b[1;33m=\u001b[0m \u001b[0mX_train\u001b[0m\u001b[1;33m,\u001b[0m \u001b[0my\u001b[0m \u001b[1;33m=\u001b[0m \u001b[0my_train\u001b[0m\u001b[1;33m,\u001b[0m \u001b[0mbatch_size\u001b[0m \u001b[1;33m=\u001b[0m \u001b[0mbatch_size\u001b[0m\u001b[1;33m,\u001b[0m \u001b[0mepochs\u001b[0m \u001b[1;33m=\u001b[0m \u001b[0mepochs\u001b[0m\u001b[1;33m,\u001b[0m \u001b[0mvalidation_data\u001b[0m \u001b[1;33m=\u001b[0m \u001b[1;33m(\u001b[0m\u001b[0mX_val\u001b[0m\u001b[1;33m,\u001b[0m \u001b[0my_val\u001b[0m\u001b[1;33m)\u001b[0m\u001b[1;33m,\u001b[0m \u001b[0mcallbacks\u001b[0m\u001b[1;33m=\u001b[0m\u001b[0mcallbacks_list\u001b[0m\u001b[1;33m)\u001b[0m\u001b[1;33m\u001b[0m\u001b[1;33m\u001b[0m\u001b[0m\n",
      "\u001b[1;31mNameError\u001b[0m: name 'model' is not defined"
     ]
    }
   ],
   "source": [
    "callbacks_list = [tf.keras.callbacks.EarlyStopping(monitor=monitor, patience=patience, verbose=0, min_delta=1e-8)]\n",
    "model.compile(optimizer='adam', loss='hinge', metrics=[tf.keras.metrics.RootMeanSquaredError(),metric_cnr])\n",
    "model.fit(x = X_train, y = y_train, batch_size = batch_size, epochs = epochs, validation_data = (X_val, y_val), callbacks=callbacks_list)"
   ]
  },
  {
   "cell_type": "code",
   "execution_count": 27,
   "metadata": {
    "tags": []
   },
   "outputs": [
    {
     "output_type": "error",
     "ename": "NameError",
     "evalue": "name 'model' is not defined",
     "traceback": [
      "\u001b[1;31m---------------------------------------------------------------------------\u001b[0m",
      "\u001b[1;31mNameError\u001b[0m                                 Traceback (most recent call last)",
      "\u001b[1;32m<ipython-input-27-09fd93dc897a>\u001b[0m in \u001b[0;36m<module>\u001b[1;34m\u001b[0m\n\u001b[1;32m----> 1\u001b[1;33m \u001b[0mpreds\u001b[0m \u001b[1;33m=\u001b[0m \u001b[0mmodel\u001b[0m\u001b[1;33m.\u001b[0m\u001b[0mpredict\u001b[0m\u001b[1;33m(\u001b[0m\u001b[0mX_holdout\u001b[0m\u001b[1;33m,\u001b[0m\u001b[0mbatch_size\u001b[0m \u001b[1;33m=\u001b[0m \u001b[0mbatch_size\u001b[0m\u001b[1;33m,\u001b[0m\u001b[0mcallbacks\u001b[0m\u001b[1;33m=\u001b[0m\u001b[0mcallbacks_list\u001b[0m\u001b[1;33m)\u001b[0m\u001b[1;33m\u001b[0m\u001b[1;33m\u001b[0m\u001b[0m\n\u001b[0m",
      "\u001b[1;31mNameError\u001b[0m: name 'model' is not defined"
     ]
    }
   ],
   "source": [
    "preds = model.predict(X_holdout,batch_size = batch_size,callbacks=callbacks_list)"
   ]
  },
  {
   "cell_type": "code",
   "execution_count": 28,
   "metadata": {},
   "outputs": [
    {
     "output_type": "error",
     "ename": "NameError",
     "evalue": "name 'preds' is not defined",
     "traceback": [
      "\u001b[1;31m---------------------------------------------------------------------------\u001b[0m",
      "\u001b[1;31mNameError\u001b[0m                                 Traceback (most recent call last)",
      "\u001b[1;32m<ipython-input-28-279a03751515>\u001b[0m in \u001b[0;36m<module>\u001b[1;34m\u001b[0m\n\u001b[0;32m      2\u001b[0m \u001b[0mpreds_len\u001b[0m \u001b[1;33m=\u001b[0m \u001b[0mnp\u001b[0m\u001b[1;33m.\u001b[0m\u001b[0marange\u001b[0m\u001b[1;33m(\u001b[0m\u001b[0mlen\u001b[0m\u001b[1;33m(\u001b[0m\u001b[0my_holdout\u001b[0m\u001b[1;33m)\u001b[0m\u001b[1;33m)\u001b[0m\u001b[1;33m\u001b[0m\u001b[1;33m\u001b[0m\u001b[0m\n\u001b[0;32m      3\u001b[0m \u001b[0mplt\u001b[0m\u001b[1;33m.\u001b[0m\u001b[0mplot\u001b[0m\u001b[1;33m(\u001b[0m\u001b[0mpreds_len\u001b[0m\u001b[1;33m,\u001b[0m\u001b[0my_holdout\u001b[0m\u001b[1;33m,\u001b[0m\u001b[0mlabel\u001b[0m\u001b[1;33m=\u001b[0m\u001b[1;34m'True Values'\u001b[0m\u001b[1;33m)\u001b[0m\u001b[1;33m\u001b[0m\u001b[1;33m\u001b[0m\u001b[0m\n\u001b[1;32m----> 4\u001b[1;33m \u001b[0mplt\u001b[0m\u001b[1;33m.\u001b[0m\u001b[0mplot\u001b[0m\u001b[1;33m(\u001b[0m\u001b[0mpreds_len\u001b[0m\u001b[1;33m,\u001b[0m\u001b[0mpreds\u001b[0m\u001b[1;33m,\u001b[0m\u001b[1;34m'r--'\u001b[0m\u001b[1;33m,\u001b[0m\u001b[0mlabel\u001b[0m\u001b[1;33m=\u001b[0m\u001b[1;34m'Predicts'\u001b[0m\u001b[1;33m)\u001b[0m\u001b[1;33m\u001b[0m\u001b[1;33m\u001b[0m\u001b[0m\n\u001b[0m\u001b[0;32m      5\u001b[0m \u001b[0mplt\u001b[0m\u001b[1;33m.\u001b[0m\u001b[0mlegend\u001b[0m\u001b[1;33m(\u001b[0m\u001b[1;33m)\u001b[0m\u001b[1;33m\u001b[0m\u001b[1;33m\u001b[0m\u001b[0m\n",
      "\u001b[1;31mNameError\u001b[0m: name 'preds' is not defined"
     ]
    }
   ],
   "source": [
    "plt.figure(figsize=(15,8))\n",
    "preds_len = np.arange(len(y_holdout))\n",
    "plt.plot(preds_len,y_holdout,label='True Values')\n",
    "plt.plot(preds_len,preds,'r--',label='Predicts')\n",
    "plt.legend()"
   ]
  },
  {
   "cell_type": "code",
   "execution_count": null,
   "metadata": {},
   "outputs": [],
   "source": []
  }
 ],
 "metadata": {
  "language_info": {
   "codemirror_mode": {
    "name": "ipython",
    "version": 3
   },
   "file_extension": ".py",
   "mimetype": "text/x-python",
   "name": "python",
   "nbconvert_exporter": "python",
   "pygments_lexer": "ipython3",
   "version": "3.7.6-final"
  },
  "orig_nbformat": 2,
  "kernelspec": {
   "name": "python_defaultSpec_1596153711946",
   "display_name": "Python 3.7.6 64-bit ('base': conda)"
  }
 },
 "nbformat": 4,
 "nbformat_minor": 2
}