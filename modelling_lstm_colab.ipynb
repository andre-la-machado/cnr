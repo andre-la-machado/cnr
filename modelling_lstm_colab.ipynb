{
  "nbformat": 4,
  "nbformat_minor": 0,
  "metadata": {
    "language_info": {
      "codemirror_mode": {
        "name": "ipython",
        "version": 3
      },
      "file_extension": ".py",
      "mimetype": "text/x-python",
      "name": "python",
      "nbconvert_exporter": "python",
      "pygments_lexer": "ipython3",
      "version": "3.7.6-final"
    },
    "orig_nbformat": 2,
    "kernelspec": {
      "name": "python_defaultSpec_1596670974807",
      "display_name": "Python 3.7.6 64-bit ('base': conda)"
    },
    "colab": {
      "name": "modelling_lstm_colab.ipynb",
      "provenance": [],
      "toc_visible": true,
      "include_colab_link": true
    },
    "accelerator": "GPU"
  },
  "cells": [
    {
      "cell_type": "markdown",
      "metadata": {
        "id": "view-in-github",
        "colab_type": "text"
      },
      "source": [
        "<a href=\"https://colab.research.google.com/github/andre-la-machado/cnr/blob/master/modelling_lstm_colab.ipynb\" target=\"_parent\"><img src=\"https://colab.research.google.com/assets/colab-badge.svg\" alt=\"Open In Colab\"/></a>"
      ]
    },
    {
      "cell_type": "markdown",
      "metadata": {
        "id": "WUg3rsB0MaUT",
        "colab_type": "text"
      },
      "source": [
        "# LSTM Modelling"
      ]
    },
    {
      "cell_type": "markdown",
      "metadata": {
        "id": "d2sEClXHMaUU",
        "colab_type": "text"
      },
      "source": [
        "On this Notebook, a LSTM Model will be tried for the Competitition Data."
      ]
    },
    {
      "cell_type": "markdown",
      "metadata": {
        "id": "WgcFrkVNMaUV",
        "colab_type": "text"
      },
      "source": [
        "## Libraries"
      ]
    },
    {
      "cell_type": "code",
      "metadata": {
        "id": "gRldKXObNEeh",
        "colab_type": "code",
        "colab": {
          "base_uri": "https://localhost:8080/",
          "height": 34
        },
        "outputId": "68bae2ae-17b6-416e-e855-f50f00fdf4a6"
      },
      "source": [
        "%pip uninstall -q -y tensorflow\n",
        "%pip install -q -U tensorflow-gpu>=2\n",
        "%reset -f"
      ],
      "execution_count": 1,
      "outputs": [
        {
          "output_type": "stream",
          "text": [
            "\u001b[33mWARNING: Skipping tensorflow as it is not installed.\u001b[0m\n"
          ],
          "name": "stdout"
        }
      ]
    },
    {
      "cell_type": "code",
      "metadata": {
        "id": "ZkGRpSoARdI6",
        "colab_type": "code",
        "colab": {
          "base_uri": "https://localhost:8080/",
          "height": 357
        },
        "outputId": "f3c831c7-56af-47de-e2be-2b7cf56e8959"
      },
      "source": [
        "!nvidia-smi"
      ],
      "execution_count": 2,
      "outputs": [
        {
          "output_type": "stream",
          "text": [
            "Tue Aug 18 02:30:56 2020       \n",
            "+-----------------------------------------------------------------------------+\n",
            "| NVIDIA-SMI 450.57       Driver Version: 418.67       CUDA Version: 10.1     |\n",
            "|-------------------------------+----------------------+----------------------+\n",
            "| GPU  Name        Persistence-M| Bus-Id        Disp.A | Volatile Uncorr. ECC |\n",
            "| Fan  Temp  Perf  Pwr:Usage/Cap|         Memory-Usage | GPU-Util  Compute M. |\n",
            "|                               |                      |               MIG M. |\n",
            "|===============================+======================+======================|\n",
            "|   0  Tesla P100-PCIE...  Off  | 00000000:00:04.0 Off |                    0 |\n",
            "| N/A   39C    P0    25W / 250W |      0MiB / 16280MiB |      0%      Default |\n",
            "|                               |                      |                 ERR! |\n",
            "+-------------------------------+----------------------+----------------------+\n",
            "                                                                               \n",
            "+-----------------------------------------------------------------------------+\n",
            "| Processes:                                                                  |\n",
            "|  GPU   GI   CI        PID   Type   Process name                  GPU Memory |\n",
            "|        ID   ID                                                   Usage      |\n",
            "|=============================================================================|\n",
            "|  No running processes found                                                 |\n",
            "+-----------------------------------------------------------------------------+\n"
          ],
          "name": "stdout"
        }
      ]
    },
    {
      "cell_type": "code",
      "metadata": {
        "id": "UJQZd0mUPnVD",
        "colab_type": "code",
        "colab": {
          "base_uri": "https://localhost:8080/",
          "height": 85
        },
        "outputId": "30f28939-52c7-4dd4-c741-583fdc5fc755"
      },
      "source": [
        "%pip install cupy-cuda101"
      ],
      "execution_count": 3,
      "outputs": [
        {
          "output_type": "stream",
          "text": [
            "Requirement already satisfied: cupy-cuda101 in /usr/local/lib/python3.6/dist-packages (7.4.0)\n",
            "Requirement already satisfied: six>=1.9.0 in /usr/local/lib/python3.6/dist-packages (from cupy-cuda101) (1.15.0)\n",
            "Requirement already satisfied: numpy>=1.9.0 in /usr/local/lib/python3.6/dist-packages (from cupy-cuda101) (1.18.5)\n",
            "Requirement already satisfied: fastrlock>=0.3 in /usr/local/lib/python3.6/dist-packages (from cupy-cuda101) (0.5)\n"
          ],
          "name": "stdout"
        }
      ]
    },
    {
      "cell_type": "code",
      "metadata": {
        "id": "xPzbEtzOMaUW",
        "colab_type": "code",
        "colab": {
          "base_uri": "https://localhost:8080/",
          "height": 51
        },
        "outputId": "14d351b8-ca77-4941-afbe-67eec5bcdc55"
      },
      "source": [
        "import numpy as np\n",
        "import pandas as pd \n",
        "import matplotlib.pyplot as plt \n",
        "import seaborn as sns \n",
        "sns.set_style('darkgrid')\n",
        "from cnr_methods import get_selected_features, transform_data, revert_data,metric_cnr, get_simplified_data\n",
        "import random\n",
        "\n",
        "from sklearn.model_selection import TimeSeriesSplit, train_test_split\n",
        "from sklearn.preprocessing import MinMaxScaler\n",
        "import tensorflow as tf"
      ],
      "execution_count": 4,
      "outputs": [
        {
          "output_type": "stream",
          "text": [
            "/usr/local/lib/python3.6/dist-packages/statsmodels/tools/_testing.py:19: FutureWarning: pandas.util.testing is deprecated. Use the functions in the public API at pandas.testing instead.\n",
            "  import pandas.util.testing as tm\n"
          ],
          "name": "stderr"
        }
      ]
    },
    {
      "cell_type": "code",
      "metadata": {
        "tags": [],
        "id": "EJt5BAyhMaUZ",
        "colab_type": "code",
        "colab": {
          "base_uri": "https://localhost:8080/",
          "height": 102
        },
        "outputId": "9b00386b-b0ba-4796-e1da-34d27c6183df"
      },
      "source": [
        "import tensorflow as tf\n",
        "print(tf.test.is_built_with_cuda())  # Sanity check: GPU available to tf or not\n",
        "print(tf.test.is_built_with_gpu_support())\n",
        "print(tf.config.list_physical_devices('GPU'))\n",
        "print(tf.__version__)  # Check if __version__>=\"2.0.0\"\n",
        "print(tf.keras.__version__)"
      ],
      "execution_count": 5,
      "outputs": [
        {
          "output_type": "stream",
          "text": [
            "True\n",
            "True\n",
            "[PhysicalDevice(name='/physical_device:GPU:0', device_type='GPU')]\n",
            "2.3.0\n",
            "2.4.0\n"
          ],
          "name": "stdout"
        }
      ]
    },
    {
      "cell_type": "markdown",
      "metadata": {
        "id": "TfHnGOTHMaUd",
        "colab_type": "text"
      },
      "source": [
        "## Read Data"
      ]
    },
    {
      "cell_type": "markdown",
      "metadata": {
        "id": "AJx9hbTsMaUd",
        "colab_type": "text"
      },
      "source": [
        "Here, the data used correspond to the results of the Feature Engineering and Selection Step. For simplicity, during Hyperparameter Optimization, only Wind Farm 3 Training Data is used."
      ]
    },
    {
      "cell_type": "code",
      "metadata": {
        "id": "hzHSYL52MaUe",
        "colab_type": "code",
        "colab": {}
      },
      "source": [
        "full_data = pd.read_csv(\"Selected_Features_Data.csv\")\n",
        "\n",
        "#full_data = full_data.rename({'Unnamed: 0' : 'Time'},axis=1)\n",
        "full_data = full_data.set_index('Time')\n",
        "\n",
        "full_label = pd.read_csv('Y_train.csv')\n",
        "X = full_data[full_data['Set']=='Train']\n",
        "\n",
        "WF = 'WF3'\n",
        "X = X[X['WF']==WF]\n",
        "y = full_label[full_label['ID'].isin(X['ID'])]"
      ],
      "execution_count": 6,
      "outputs": []
    },
    {
      "cell_type": "code",
      "metadata": {
        "id": "Wm8BYlb3MaUh",
        "colab_type": "code",
        "colab": {}
      },
      "source": [
        "X = X.drop(['ID','WF','Set'],axis=1)"
      ],
      "execution_count": 7,
      "outputs": []
    },
    {
      "cell_type": "code",
      "metadata": {
        "id": "K3dqO0HFMaUk",
        "colab_type": "code",
        "colab": {
          "base_uri": "https://localhost:8080/",
          "height": 488
        },
        "outputId": "42be1a09-2dab-45d8-ad4e-432e7eb9442d"
      },
      "source": [
        "X.head()"
      ],
      "execution_count": 8,
      "outputs": [
        {
          "output_type": "execute_result",
          "data": {
            "text/html": [
              "<div>\n",
              "<style scoped>\n",
              "    .dataframe tbody tr th:only-of-type {\n",
              "        vertical-align: middle;\n",
              "    }\n",
              "\n",
              "    .dataframe tbody tr th {\n",
              "        vertical-align: top;\n",
              "    }\n",
              "\n",
              "    .dataframe thead th {\n",
              "        text-align: right;\n",
              "    }\n",
              "</style>\n",
              "<table border=\"1\" class=\"dataframe\">\n",
              "  <thead>\n",
              "    <tr style=\"text-align: right;\">\n",
              "      <th></th>\n",
              "      <th>U_100m</th>\n",
              "      <th>V_100m</th>\n",
              "      <th>U_10m</th>\n",
              "      <th>V_10m</th>\n",
              "      <th>T</th>\n",
              "      <th>CLCT</th>\n",
              "      <th>Wind Speed 100m</th>\n",
              "      <th>Wind Direction 100m</th>\n",
              "      <th>Wind Speed 10m</th>\n",
              "      <th>Wind Direction 10m</th>\n",
              "      <th>T_lag_7_days</th>\n",
              "      <th>T_lag_14_days</th>\n",
              "      <th>T_lag_21_days</th>\n",
              "      <th>CLCT_lag_7_days</th>\n",
              "      <th>CLCT_lag_14_days</th>\n",
              "      <th>CLCT_lag_21_days</th>\n",
              "      <th>U_100m_lag_7_days</th>\n",
              "      <th>U_100m_lag_14_days</th>\n",
              "      <th>U_100m_lag_21_days</th>\n",
              "      <th>V_100m_lag_7_days</th>\n",
              "      <th>V_100m_lag_14_days</th>\n",
              "      <th>V_100m_lag_21_days</th>\n",
              "      <th>U_10m_lag_7_days</th>\n",
              "      <th>U_10m_lag_14_days</th>\n",
              "      <th>U_10m_lag_21_days</th>\n",
              "      <th>V_10m_lag_7_days</th>\n",
              "      <th>V_10m_lag_14_days</th>\n",
              "      <th>V_10m_lag_21_days</th>\n",
              "      <th>Month_Number</th>\n",
              "      <th>T_Last_Month_Mean</th>\n",
              "      <th>CLCT_Last_Month_Mean</th>\n",
              "      <th>U_100m_Last_Month_Mean</th>\n",
              "      <th>V_100m_Last_Month_Mean</th>\n",
              "      <th>U_10m_Last_Month_Mean</th>\n",
              "      <th>V_10m_Last_Month_Mean</th>\n",
              "      <th>TLast_Month_Variance</th>\n",
              "      <th>CLCTLast_Month_Variance</th>\n",
              "      <th>U_100mLast_Month_Variance</th>\n",
              "      <th>V_100mLast_Month_Variance</th>\n",
              "      <th>U_10mLast_Month_Variance</th>\n",
              "      <th>...</th>\n",
              "      <th>CLCT_Distance_Max</th>\n",
              "      <th>CLCT_Distance_Min</th>\n",
              "      <th>U_100m_Distance_Max</th>\n",
              "      <th>U_100m_Distance_Min</th>\n",
              "      <th>V_100m_Distance_Max</th>\n",
              "      <th>V_100m_Distance_Min</th>\n",
              "      <th>U_10m_Distance_Max</th>\n",
              "      <th>U_10m_Distance_Min</th>\n",
              "      <th>V_10m_Distance_Max</th>\n",
              "      <th>V_10m_Distance_Min</th>\n",
              "      <th>T_Rolling_7_Window_Mean</th>\n",
              "      <th>T_Rolling_14_Window_Mean</th>\n",
              "      <th>T_Rolling_7_Window_Variance</th>\n",
              "      <th>T_Rolling_14_Window_Variance</th>\n",
              "      <th>CLCT_Rolling_7_Window_Mean</th>\n",
              "      <th>CLCT_Rolling_14_Window_Mean</th>\n",
              "      <th>CLCT_Rolling_7_Window_Variance</th>\n",
              "      <th>CLCT_Rolling_14_Window_Variance</th>\n",
              "      <th>U_100m_Rolling_7_Window_Mean</th>\n",
              "      <th>U_100m_Rolling_14_Window_Mean</th>\n",
              "      <th>U_100m_Rolling_7_Window_Variance</th>\n",
              "      <th>U_100m_Rolling_14_Window_Variance</th>\n",
              "      <th>V_100m_Rolling_7_Window_Mean</th>\n",
              "      <th>V_100m_Rolling_14_Window_Mean</th>\n",
              "      <th>V_100m_Rolling_7_Window_Variance</th>\n",
              "      <th>V_100m_Rolling_14_Window_Variance</th>\n",
              "      <th>U_10m_Rolling_7_Window_Mean</th>\n",
              "      <th>U_10m_Rolling_14_Window_Mean</th>\n",
              "      <th>U_10m_Rolling_7_Window_Variance</th>\n",
              "      <th>U_10m_Rolling_14_Window_Variance</th>\n",
              "      <th>V_10m_Rolling_7_Window_Mean</th>\n",
              "      <th>V_10m_Rolling_14_Window_Mean</th>\n",
              "      <th>V_10m_Rolling_7_Window_Variance</th>\n",
              "      <th>V_10m_Rolling_14_Window_Variance</th>\n",
              "      <th>T_Expanded_Window_Max</th>\n",
              "      <th>CLCT_Expanded_Window_Max</th>\n",
              "      <th>U_100m_Expanded_Window_Max</th>\n",
              "      <th>V_100m_Expanded_Window_Max</th>\n",
              "      <th>U_10m_Expanded_Window_Max</th>\n",
              "      <th>V_10m_Expanded_Window_Max</th>\n",
              "    </tr>\n",
              "    <tr>\n",
              "      <th>Time</th>\n",
              "      <th></th>\n",
              "      <th></th>\n",
              "      <th></th>\n",
              "      <th></th>\n",
              "      <th></th>\n",
              "      <th></th>\n",
              "      <th></th>\n",
              "      <th></th>\n",
              "      <th></th>\n",
              "      <th></th>\n",
              "      <th></th>\n",
              "      <th></th>\n",
              "      <th></th>\n",
              "      <th></th>\n",
              "      <th></th>\n",
              "      <th></th>\n",
              "      <th></th>\n",
              "      <th></th>\n",
              "      <th></th>\n",
              "      <th></th>\n",
              "      <th></th>\n",
              "      <th></th>\n",
              "      <th></th>\n",
              "      <th></th>\n",
              "      <th></th>\n",
              "      <th></th>\n",
              "      <th></th>\n",
              "      <th></th>\n",
              "      <th></th>\n",
              "      <th></th>\n",
              "      <th></th>\n",
              "      <th></th>\n",
              "      <th></th>\n",
              "      <th></th>\n",
              "      <th></th>\n",
              "      <th></th>\n",
              "      <th></th>\n",
              "      <th></th>\n",
              "      <th></th>\n",
              "      <th></th>\n",
              "      <th></th>\n",
              "      <th></th>\n",
              "      <th></th>\n",
              "      <th></th>\n",
              "      <th></th>\n",
              "      <th></th>\n",
              "      <th></th>\n",
              "      <th></th>\n",
              "      <th></th>\n",
              "      <th></th>\n",
              "      <th></th>\n",
              "      <th></th>\n",
              "      <th></th>\n",
              "      <th></th>\n",
              "      <th></th>\n",
              "      <th></th>\n",
              "      <th></th>\n",
              "      <th></th>\n",
              "      <th></th>\n",
              "      <th></th>\n",
              "      <th></th>\n",
              "      <th></th>\n",
              "      <th></th>\n",
              "      <th></th>\n",
              "      <th></th>\n",
              "      <th></th>\n",
              "      <th></th>\n",
              "      <th></th>\n",
              "      <th></th>\n",
              "      <th></th>\n",
              "      <th></th>\n",
              "      <th></th>\n",
              "      <th></th>\n",
              "      <th></th>\n",
              "      <th></th>\n",
              "      <th></th>\n",
              "      <th></th>\n",
              "      <th></th>\n",
              "      <th></th>\n",
              "      <th></th>\n",
              "      <th></th>\n",
              "    </tr>\n",
              "  </thead>\n",
              "  <tbody>\n",
              "    <tr>\n",
              "      <th>2018-05-01 01:00:00</th>\n",
              "      <td>5.789500</td>\n",
              "      <td>3.820200</td>\n",
              "      <td>1.054669</td>\n",
              "      <td>1.317597</td>\n",
              "      <td>275.690</td>\n",
              "      <td>86.504507</td>\n",
              "      <td>6.936299</td>\n",
              "      <td>0.583268</td>\n",
              "      <td>1.687717</td>\n",
              "      <td>0.895782</td>\n",
              "      <td>NaN</td>\n",
              "      <td>NaN</td>\n",
              "      <td>NaN</td>\n",
              "      <td>NaN</td>\n",
              "      <td>NaN</td>\n",
              "      <td>NaN</td>\n",
              "      <td>NaN</td>\n",
              "      <td>NaN</td>\n",
              "      <td>NaN</td>\n",
              "      <td>NaN</td>\n",
              "      <td>NaN</td>\n",
              "      <td>NaN</td>\n",
              "      <td>NaN</td>\n",
              "      <td>NaN</td>\n",
              "      <td>NaN</td>\n",
              "      <td>NaN</td>\n",
              "      <td>NaN</td>\n",
              "      <td>NaN</td>\n",
              "      <td>5</td>\n",
              "      <td>NaN</td>\n",
              "      <td>NaN</td>\n",
              "      <td>NaN</td>\n",
              "      <td>NaN</td>\n",
              "      <td>NaN</td>\n",
              "      <td>NaN</td>\n",
              "      <td>NaN</td>\n",
              "      <td>NaN</td>\n",
              "      <td>NaN</td>\n",
              "      <td>NaN</td>\n",
              "      <td>NaN</td>\n",
              "      <td>...</td>\n",
              "      <td>-1</td>\n",
              "      <td>-2</td>\n",
              "      <td>-223</td>\n",
              "      <td>-201</td>\n",
              "      <td>-193</td>\n",
              "      <td>-160</td>\n",
              "      <td>-223</td>\n",
              "      <td>-227</td>\n",
              "      <td>-193</td>\n",
              "      <td>-14</td>\n",
              "      <td>NaN</td>\n",
              "      <td>NaN</td>\n",
              "      <td>NaN</td>\n",
              "      <td>NaN</td>\n",
              "      <td>NaN</td>\n",
              "      <td>NaN</td>\n",
              "      <td>NaN</td>\n",
              "      <td>NaN</td>\n",
              "      <td>NaN</td>\n",
              "      <td>NaN</td>\n",
              "      <td>NaN</td>\n",
              "      <td>NaN</td>\n",
              "      <td>NaN</td>\n",
              "      <td>NaN</td>\n",
              "      <td>NaN</td>\n",
              "      <td>NaN</td>\n",
              "      <td>NaN</td>\n",
              "      <td>NaN</td>\n",
              "      <td>NaN</td>\n",
              "      <td>NaN</td>\n",
              "      <td>NaN</td>\n",
              "      <td>NaN</td>\n",
              "      <td>NaN</td>\n",
              "      <td>NaN</td>\n",
              "      <td>275.690</td>\n",
              "      <td>86.504507</td>\n",
              "      <td>5.7895</td>\n",
              "      <td>3.8202</td>\n",
              "      <td>1.054669</td>\n",
              "      <td>1.317597</td>\n",
              "    </tr>\n",
              "    <tr>\n",
              "      <th>2018-05-01 02:00:00</th>\n",
              "      <td>6.003300</td>\n",
              "      <td>3.920600</td>\n",
              "      <td>0.876879</td>\n",
              "      <td>1.483483</td>\n",
              "      <td>275.770</td>\n",
              "      <td>98.976088</td>\n",
              "      <td>7.170127</td>\n",
              "      <td>0.578533</td>\n",
              "      <td>1.723264</td>\n",
              "      <td>1.036951</td>\n",
              "      <td>NaN</td>\n",
              "      <td>NaN</td>\n",
              "      <td>NaN</td>\n",
              "      <td>NaN</td>\n",
              "      <td>NaN</td>\n",
              "      <td>NaN</td>\n",
              "      <td>NaN</td>\n",
              "      <td>NaN</td>\n",
              "      <td>NaN</td>\n",
              "      <td>NaN</td>\n",
              "      <td>NaN</td>\n",
              "      <td>NaN</td>\n",
              "      <td>NaN</td>\n",
              "      <td>NaN</td>\n",
              "      <td>NaN</td>\n",
              "      <td>NaN</td>\n",
              "      <td>NaN</td>\n",
              "      <td>NaN</td>\n",
              "      <td>5</td>\n",
              "      <td>NaN</td>\n",
              "      <td>NaN</td>\n",
              "      <td>NaN</td>\n",
              "      <td>NaN</td>\n",
              "      <td>NaN</td>\n",
              "      <td>NaN</td>\n",
              "      <td>NaN</td>\n",
              "      <td>NaN</td>\n",
              "      <td>NaN</td>\n",
              "      <td>NaN</td>\n",
              "      <td>NaN</td>\n",
              "      <td>...</td>\n",
              "      <td>-1</td>\n",
              "      <td>-2</td>\n",
              "      <td>-223</td>\n",
              "      <td>-201</td>\n",
              "      <td>-193</td>\n",
              "      <td>-160</td>\n",
              "      <td>-223</td>\n",
              "      <td>-227</td>\n",
              "      <td>-193</td>\n",
              "      <td>-14</td>\n",
              "      <td>NaN</td>\n",
              "      <td>NaN</td>\n",
              "      <td>NaN</td>\n",
              "      <td>NaN</td>\n",
              "      <td>NaN</td>\n",
              "      <td>NaN</td>\n",
              "      <td>NaN</td>\n",
              "      <td>NaN</td>\n",
              "      <td>NaN</td>\n",
              "      <td>NaN</td>\n",
              "      <td>NaN</td>\n",
              "      <td>NaN</td>\n",
              "      <td>NaN</td>\n",
              "      <td>NaN</td>\n",
              "      <td>NaN</td>\n",
              "      <td>NaN</td>\n",
              "      <td>NaN</td>\n",
              "      <td>NaN</td>\n",
              "      <td>NaN</td>\n",
              "      <td>NaN</td>\n",
              "      <td>NaN</td>\n",
              "      <td>NaN</td>\n",
              "      <td>NaN</td>\n",
              "      <td>NaN</td>\n",
              "      <td>275.770</td>\n",
              "      <td>98.976088</td>\n",
              "      <td>6.0033</td>\n",
              "      <td>3.9206</td>\n",
              "      <td>1.054669</td>\n",
              "      <td>1.483483</td>\n",
              "    </tr>\n",
              "    <tr>\n",
              "      <th>2018-05-01 03:00:00</th>\n",
              "      <td>5.931829</td>\n",
              "      <td>0.907656</td>\n",
              "      <td>0.949640</td>\n",
              "      <td>1.419591</td>\n",
              "      <td>276.875</td>\n",
              "      <td>64.193607</td>\n",
              "      <td>6.000870</td>\n",
              "      <td>0.151837</td>\n",
              "      <td>1.707938</td>\n",
              "      <td>0.981212</td>\n",
              "      <td>NaN</td>\n",
              "      <td>NaN</td>\n",
              "      <td>NaN</td>\n",
              "      <td>NaN</td>\n",
              "      <td>NaN</td>\n",
              "      <td>NaN</td>\n",
              "      <td>NaN</td>\n",
              "      <td>NaN</td>\n",
              "      <td>NaN</td>\n",
              "      <td>NaN</td>\n",
              "      <td>NaN</td>\n",
              "      <td>NaN</td>\n",
              "      <td>NaN</td>\n",
              "      <td>NaN</td>\n",
              "      <td>NaN</td>\n",
              "      <td>NaN</td>\n",
              "      <td>NaN</td>\n",
              "      <td>NaN</td>\n",
              "      <td>5</td>\n",
              "      <td>NaN</td>\n",
              "      <td>NaN</td>\n",
              "      <td>NaN</td>\n",
              "      <td>NaN</td>\n",
              "      <td>NaN</td>\n",
              "      <td>NaN</td>\n",
              "      <td>NaN</td>\n",
              "      <td>NaN</td>\n",
              "      <td>NaN</td>\n",
              "      <td>NaN</td>\n",
              "      <td>NaN</td>\n",
              "      <td>...</td>\n",
              "      <td>-1</td>\n",
              "      <td>-2</td>\n",
              "      <td>-223</td>\n",
              "      <td>-201</td>\n",
              "      <td>-193</td>\n",
              "      <td>-160</td>\n",
              "      <td>-223</td>\n",
              "      <td>-227</td>\n",
              "      <td>-193</td>\n",
              "      <td>-14</td>\n",
              "      <td>NaN</td>\n",
              "      <td>NaN</td>\n",
              "      <td>NaN</td>\n",
              "      <td>NaN</td>\n",
              "      <td>NaN</td>\n",
              "      <td>NaN</td>\n",
              "      <td>NaN</td>\n",
              "      <td>NaN</td>\n",
              "      <td>NaN</td>\n",
              "      <td>NaN</td>\n",
              "      <td>NaN</td>\n",
              "      <td>NaN</td>\n",
              "      <td>NaN</td>\n",
              "      <td>NaN</td>\n",
              "      <td>NaN</td>\n",
              "      <td>NaN</td>\n",
              "      <td>NaN</td>\n",
              "      <td>NaN</td>\n",
              "      <td>NaN</td>\n",
              "      <td>NaN</td>\n",
              "      <td>NaN</td>\n",
              "      <td>NaN</td>\n",
              "      <td>NaN</td>\n",
              "      <td>NaN</td>\n",
              "      <td>276.875</td>\n",
              "      <td>98.976088</td>\n",
              "      <td>6.0033</td>\n",
              "      <td>3.9206</td>\n",
              "      <td>1.054669</td>\n",
              "      <td>1.483483</td>\n",
              "    </tr>\n",
              "    <tr>\n",
              "      <th>2018-05-01 04:00:00</th>\n",
              "      <td>5.205300</td>\n",
              "      <td>1.683800</td>\n",
              "      <td>1.027462</td>\n",
              "      <td>1.029786</td>\n",
              "      <td>275.650</td>\n",
              "      <td>57.482484</td>\n",
              "      <td>5.470862</td>\n",
              "      <td>0.312855</td>\n",
              "      <td>1.454695</td>\n",
              "      <td>0.786528</td>\n",
              "      <td>NaN</td>\n",
              "      <td>NaN</td>\n",
              "      <td>NaN</td>\n",
              "      <td>NaN</td>\n",
              "      <td>NaN</td>\n",
              "      <td>NaN</td>\n",
              "      <td>NaN</td>\n",
              "      <td>NaN</td>\n",
              "      <td>NaN</td>\n",
              "      <td>NaN</td>\n",
              "      <td>NaN</td>\n",
              "      <td>NaN</td>\n",
              "      <td>NaN</td>\n",
              "      <td>NaN</td>\n",
              "      <td>NaN</td>\n",
              "      <td>NaN</td>\n",
              "      <td>NaN</td>\n",
              "      <td>NaN</td>\n",
              "      <td>5</td>\n",
              "      <td>NaN</td>\n",
              "      <td>NaN</td>\n",
              "      <td>NaN</td>\n",
              "      <td>NaN</td>\n",
              "      <td>NaN</td>\n",
              "      <td>NaN</td>\n",
              "      <td>NaN</td>\n",
              "      <td>NaN</td>\n",
              "      <td>NaN</td>\n",
              "      <td>NaN</td>\n",
              "      <td>NaN</td>\n",
              "      <td>...</td>\n",
              "      <td>-1</td>\n",
              "      <td>-2</td>\n",
              "      <td>-223</td>\n",
              "      <td>-201</td>\n",
              "      <td>-193</td>\n",
              "      <td>-160</td>\n",
              "      <td>-223</td>\n",
              "      <td>-227</td>\n",
              "      <td>-193</td>\n",
              "      <td>-14</td>\n",
              "      <td>NaN</td>\n",
              "      <td>NaN</td>\n",
              "      <td>NaN</td>\n",
              "      <td>NaN</td>\n",
              "      <td>NaN</td>\n",
              "      <td>NaN</td>\n",
              "      <td>NaN</td>\n",
              "      <td>NaN</td>\n",
              "      <td>NaN</td>\n",
              "      <td>NaN</td>\n",
              "      <td>NaN</td>\n",
              "      <td>NaN</td>\n",
              "      <td>NaN</td>\n",
              "      <td>NaN</td>\n",
              "      <td>NaN</td>\n",
              "      <td>NaN</td>\n",
              "      <td>NaN</td>\n",
              "      <td>NaN</td>\n",
              "      <td>NaN</td>\n",
              "      <td>NaN</td>\n",
              "      <td>NaN</td>\n",
              "      <td>NaN</td>\n",
              "      <td>NaN</td>\n",
              "      <td>NaN</td>\n",
              "      <td>276.875</td>\n",
              "      <td>98.976088</td>\n",
              "      <td>6.0033</td>\n",
              "      <td>3.9206</td>\n",
              "      <td>1.054669</td>\n",
              "      <td>1.483483</td>\n",
              "    </tr>\n",
              "    <tr>\n",
              "      <th>2018-05-01 05:00:00</th>\n",
              "      <td>4.845900</td>\n",
              "      <td>0.702200</td>\n",
              "      <td>1.011645</td>\n",
              "      <td>0.785352</td>\n",
              "      <td>275.530</td>\n",
              "      <td>89.971463</td>\n",
              "      <td>4.896512</td>\n",
              "      <td>0.143904</td>\n",
              "      <td>1.280704</td>\n",
              "      <td>0.660129</td>\n",
              "      <td>NaN</td>\n",
              "      <td>NaN</td>\n",
              "      <td>NaN</td>\n",
              "      <td>NaN</td>\n",
              "      <td>NaN</td>\n",
              "      <td>NaN</td>\n",
              "      <td>NaN</td>\n",
              "      <td>NaN</td>\n",
              "      <td>NaN</td>\n",
              "      <td>NaN</td>\n",
              "      <td>NaN</td>\n",
              "      <td>NaN</td>\n",
              "      <td>NaN</td>\n",
              "      <td>NaN</td>\n",
              "      <td>NaN</td>\n",
              "      <td>NaN</td>\n",
              "      <td>NaN</td>\n",
              "      <td>NaN</td>\n",
              "      <td>5</td>\n",
              "      <td>NaN</td>\n",
              "      <td>NaN</td>\n",
              "      <td>NaN</td>\n",
              "      <td>NaN</td>\n",
              "      <td>NaN</td>\n",
              "      <td>NaN</td>\n",
              "      <td>NaN</td>\n",
              "      <td>NaN</td>\n",
              "      <td>NaN</td>\n",
              "      <td>NaN</td>\n",
              "      <td>NaN</td>\n",
              "      <td>...</td>\n",
              "      <td>-1</td>\n",
              "      <td>-2</td>\n",
              "      <td>-223</td>\n",
              "      <td>-201</td>\n",
              "      <td>-193</td>\n",
              "      <td>-159</td>\n",
              "      <td>-223</td>\n",
              "      <td>-227</td>\n",
              "      <td>-193</td>\n",
              "      <td>-14</td>\n",
              "      <td>NaN</td>\n",
              "      <td>NaN</td>\n",
              "      <td>NaN</td>\n",
              "      <td>NaN</td>\n",
              "      <td>NaN</td>\n",
              "      <td>NaN</td>\n",
              "      <td>NaN</td>\n",
              "      <td>NaN</td>\n",
              "      <td>NaN</td>\n",
              "      <td>NaN</td>\n",
              "      <td>NaN</td>\n",
              "      <td>NaN</td>\n",
              "      <td>NaN</td>\n",
              "      <td>NaN</td>\n",
              "      <td>NaN</td>\n",
              "      <td>NaN</td>\n",
              "      <td>NaN</td>\n",
              "      <td>NaN</td>\n",
              "      <td>NaN</td>\n",
              "      <td>NaN</td>\n",
              "      <td>NaN</td>\n",
              "      <td>NaN</td>\n",
              "      <td>NaN</td>\n",
              "      <td>NaN</td>\n",
              "      <td>276.875</td>\n",
              "      <td>98.976088</td>\n",
              "      <td>6.0033</td>\n",
              "      <td>3.9206</td>\n",
              "      <td>1.054669</td>\n",
              "      <td>1.483483</td>\n",
              "    </tr>\n",
              "  </tbody>\n",
              "</table>\n",
              "<p>5 rows × 93 columns</p>\n",
              "</div>"
            ],
            "text/plain": [
              "                       U_100m  ...  V_10m_Expanded_Window_Max\n",
              "Time                           ...                           \n",
              "2018-05-01 01:00:00  5.789500  ...                   1.317597\n",
              "2018-05-01 02:00:00  6.003300  ...                   1.483483\n",
              "2018-05-01 03:00:00  5.931829  ...                   1.483483\n",
              "2018-05-01 04:00:00  5.205300  ...                   1.483483\n",
              "2018-05-01 05:00:00  4.845900  ...                   1.483483\n",
              "\n",
              "[5 rows x 93 columns]"
            ]
          },
          "metadata": {
            "tags": []
          },
          "execution_count": 8
        }
      ]
    },
    {
      "cell_type": "markdown",
      "metadata": {
        "id": "WJi-4o_NMaUn",
        "colab_type": "text"
      },
      "source": [
        "## Fill NaN's"
      ]
    },
    {
      "cell_type": "markdown",
      "metadata": {
        "id": "JQuVx6ggdLQs",
        "colab_type": "text"
      },
      "source": [
        "To avoid Exploding Gradients, here the NaN's are filled."
      ]
    },
    {
      "cell_type": "code",
      "metadata": {
        "id": "ooikiHfdMaUn",
        "colab_type": "code",
        "colab": {}
      },
      "source": [
        "X = X.fillna(method=\"ffill\", axis=1) # ZOH\n",
        "X = X.fillna(0)"
      ],
      "execution_count": 9,
      "outputs": []
    },
    {
      "cell_type": "code",
      "metadata": {
        "id": "qm7rGia8MaUq",
        "colab_type": "code",
        "colab": {}
      },
      "source": [
        "y = y.fillna(method=\"ffill\", axis=1) # ZOH\n",
        "y = y.fillna(0)"
      ],
      "execution_count": 10,
      "outputs": []
    },
    {
      "cell_type": "markdown",
      "metadata": {
        "id": "GDPihT4eMaUt",
        "colab_type": "text"
      },
      "source": [
        "## Scaling Data"
      ]
    },
    {
      "cell_type": "markdown",
      "metadata": {
        "id": "cK7eE4ZXdbyU",
        "colab_type": "text"
      },
      "source": [
        "For a better performance of the Network, here the data is scaled between [-1,1] using MinMaxScaler. For the Direction Data, presented in degrees, Sin and Cos are calculated, which naturally have values in this same scale."
      ]
    },
    {
      "cell_type": "code",
      "metadata": {
        "id": "FE8dIJ5vMaUu",
        "colab_type": "code",
        "colab": {
          "base_uri": "https://localhost:8080/",
          "height": 425
        },
        "outputId": "52802183-b7a5-45f0-a051-ea9502665c8d"
      },
      "source": [
        "directions = X[['Wind Direction 100m', 'Wind Direction 10m']]\n",
        "directions[\"Sin_Wind Direction 100m\"] = np.sin(X['Wind Direction 100m']*(np.pi/180))\n",
        "directions[\"Cos_Wind Direction 100m\"] = np.cos(X['Wind Direction 100m']*(np.pi/180))\n",
        "directions[\"Sin_Wind Direction 10m\"] = np.sin(X['Wind Direction 10m']*(np.pi/180))\n",
        "directions[\"Cos_Wind Direction 10m\"] = np.cos(X['Wind Direction 10m']*(np.pi/180))\n",
        "\n",
        "directions = directions.drop(['Wind Direction 100m', 'Wind Direction 10m'],axis=1)\n",
        "directions = directions.reset_index().drop('Time',axis=1)"
      ],
      "execution_count": 11,
      "outputs": [
        {
          "output_type": "stream",
          "text": [
            "/usr/local/lib/python3.6/dist-packages/ipykernel_launcher.py:2: SettingWithCopyWarning: \n",
            "A value is trying to be set on a copy of a slice from a DataFrame.\n",
            "Try using .loc[row_indexer,col_indexer] = value instead\n",
            "\n",
            "See the caveats in the documentation: https://pandas.pydata.org/pandas-docs/stable/user_guide/indexing.html#returning-a-view-versus-a-copy\n",
            "  \n",
            "/usr/local/lib/python3.6/dist-packages/ipykernel_launcher.py:3: SettingWithCopyWarning: \n",
            "A value is trying to be set on a copy of a slice from a DataFrame.\n",
            "Try using .loc[row_indexer,col_indexer] = value instead\n",
            "\n",
            "See the caveats in the documentation: https://pandas.pydata.org/pandas-docs/stable/user_guide/indexing.html#returning-a-view-versus-a-copy\n",
            "  This is separate from the ipykernel package so we can avoid doing imports until\n",
            "/usr/local/lib/python3.6/dist-packages/ipykernel_launcher.py:4: SettingWithCopyWarning: \n",
            "A value is trying to be set on a copy of a slice from a DataFrame.\n",
            "Try using .loc[row_indexer,col_indexer] = value instead\n",
            "\n",
            "See the caveats in the documentation: https://pandas.pydata.org/pandas-docs/stable/user_guide/indexing.html#returning-a-view-versus-a-copy\n",
            "  after removing the cwd from sys.path.\n",
            "/usr/local/lib/python3.6/dist-packages/ipykernel_launcher.py:5: SettingWithCopyWarning: \n",
            "A value is trying to be set on a copy of a slice from a DataFrame.\n",
            "Try using .loc[row_indexer,col_indexer] = value instead\n",
            "\n",
            "See the caveats in the documentation: https://pandas.pydata.org/pandas-docs/stable/user_guide/indexing.html#returning-a-view-versus-a-copy\n",
            "  \"\"\"\n"
          ],
          "name": "stderr"
        }
      ]
    },
    {
      "cell_type": "code",
      "metadata": {
        "id": "5THmj09xMaUw",
        "colab_type": "code",
        "colab": {}
      },
      "source": [
        "X = X.drop(['Wind Direction 100m', 'Wind Direction 10m'],axis=1)\n",
        "X_columns = X.columns"
      ],
      "execution_count": 12,
      "outputs": []
    },
    {
      "cell_type": "code",
      "metadata": {
        "id": "39m7PeooMaUy",
        "colab_type": "code",
        "colab": {}
      },
      "source": [
        "scaler = MinMaxScaler(feature_range=(-1,1))\n",
        "X = scaler.fit_transform(X)\n",
        "X = pd.DataFrame(X,columns=X_columns)"
      ],
      "execution_count": 13,
      "outputs": []
    },
    {
      "cell_type": "code",
      "metadata": {
        "id": "T2n0DJcMMaU1",
        "colab_type": "code",
        "colab": {}
      },
      "source": [
        "X = pd.concat([X,directions],axis=1)"
      ],
      "execution_count": 14,
      "outputs": []
    },
    {
      "cell_type": "code",
      "metadata": {
        "id": "8HgZErb3MaU3",
        "colab_type": "code",
        "colab": {}
      },
      "source": [
        "y = y.drop('ID',axis=1)\n",
        "y = scaler.fit_transform(y)\n",
        "y = pd.DataFrame(y)"
      ],
      "execution_count": 15,
      "outputs": []
    },
    {
      "cell_type": "code",
      "metadata": {
        "id": "knBm6dIBMaU6",
        "colab_type": "code",
        "colab": {
          "base_uri": "https://localhost:8080/",
          "height": 287
        },
        "outputId": "387d97fa-667c-4be5-e168-8dd79655fb1a"
      },
      "source": [
        "X.head()"
      ],
      "execution_count": 16,
      "outputs": [
        {
          "output_type": "execute_result",
          "data": {
            "text/html": [
              "<div>\n",
              "<style scoped>\n",
              "    .dataframe tbody tr th:only-of-type {\n",
              "        vertical-align: middle;\n",
              "    }\n",
              "\n",
              "    .dataframe tbody tr th {\n",
              "        vertical-align: top;\n",
              "    }\n",
              "\n",
              "    .dataframe thead th {\n",
              "        text-align: right;\n",
              "    }\n",
              "</style>\n",
              "<table border=\"1\" class=\"dataframe\">\n",
              "  <thead>\n",
              "    <tr style=\"text-align: right;\">\n",
              "      <th></th>\n",
              "      <th>U_100m</th>\n",
              "      <th>V_100m</th>\n",
              "      <th>U_10m</th>\n",
              "      <th>V_10m</th>\n",
              "      <th>T</th>\n",
              "      <th>CLCT</th>\n",
              "      <th>Wind Speed 100m</th>\n",
              "      <th>Wind Speed 10m</th>\n",
              "      <th>T_lag_7_days</th>\n",
              "      <th>T_lag_14_days</th>\n",
              "      <th>T_lag_21_days</th>\n",
              "      <th>CLCT_lag_7_days</th>\n",
              "      <th>CLCT_lag_14_days</th>\n",
              "      <th>CLCT_lag_21_days</th>\n",
              "      <th>U_100m_lag_7_days</th>\n",
              "      <th>U_100m_lag_14_days</th>\n",
              "      <th>U_100m_lag_21_days</th>\n",
              "      <th>V_100m_lag_7_days</th>\n",
              "      <th>V_100m_lag_14_days</th>\n",
              "      <th>V_100m_lag_21_days</th>\n",
              "      <th>U_10m_lag_7_days</th>\n",
              "      <th>U_10m_lag_14_days</th>\n",
              "      <th>U_10m_lag_21_days</th>\n",
              "      <th>V_10m_lag_7_days</th>\n",
              "      <th>V_10m_lag_14_days</th>\n",
              "      <th>V_10m_lag_21_days</th>\n",
              "      <th>Month_Number</th>\n",
              "      <th>T_Last_Month_Mean</th>\n",
              "      <th>CLCT_Last_Month_Mean</th>\n",
              "      <th>U_100m_Last_Month_Mean</th>\n",
              "      <th>V_100m_Last_Month_Mean</th>\n",
              "      <th>U_10m_Last_Month_Mean</th>\n",
              "      <th>V_10m_Last_Month_Mean</th>\n",
              "      <th>TLast_Month_Variance</th>\n",
              "      <th>CLCTLast_Month_Variance</th>\n",
              "      <th>U_100mLast_Month_Variance</th>\n",
              "      <th>V_100mLast_Month_Variance</th>\n",
              "      <th>U_10mLast_Month_Variance</th>\n",
              "      <th>V_10mLast_Month_Variance</th>\n",
              "      <th>cos_day</th>\n",
              "      <th>...</th>\n",
              "      <th>V_100m_Distance_Max</th>\n",
              "      <th>V_100m_Distance_Min</th>\n",
              "      <th>U_10m_Distance_Max</th>\n",
              "      <th>U_10m_Distance_Min</th>\n",
              "      <th>V_10m_Distance_Max</th>\n",
              "      <th>V_10m_Distance_Min</th>\n",
              "      <th>T_Rolling_7_Window_Mean</th>\n",
              "      <th>T_Rolling_14_Window_Mean</th>\n",
              "      <th>T_Rolling_7_Window_Variance</th>\n",
              "      <th>T_Rolling_14_Window_Variance</th>\n",
              "      <th>CLCT_Rolling_7_Window_Mean</th>\n",
              "      <th>CLCT_Rolling_14_Window_Mean</th>\n",
              "      <th>CLCT_Rolling_7_Window_Variance</th>\n",
              "      <th>CLCT_Rolling_14_Window_Variance</th>\n",
              "      <th>U_100m_Rolling_7_Window_Mean</th>\n",
              "      <th>U_100m_Rolling_14_Window_Mean</th>\n",
              "      <th>U_100m_Rolling_7_Window_Variance</th>\n",
              "      <th>U_100m_Rolling_14_Window_Variance</th>\n",
              "      <th>V_100m_Rolling_7_Window_Mean</th>\n",
              "      <th>V_100m_Rolling_14_Window_Mean</th>\n",
              "      <th>V_100m_Rolling_7_Window_Variance</th>\n",
              "      <th>V_100m_Rolling_14_Window_Variance</th>\n",
              "      <th>U_10m_Rolling_7_Window_Mean</th>\n",
              "      <th>U_10m_Rolling_14_Window_Mean</th>\n",
              "      <th>U_10m_Rolling_7_Window_Variance</th>\n",
              "      <th>U_10m_Rolling_14_Window_Variance</th>\n",
              "      <th>V_10m_Rolling_7_Window_Mean</th>\n",
              "      <th>V_10m_Rolling_14_Window_Mean</th>\n",
              "      <th>V_10m_Rolling_7_Window_Variance</th>\n",
              "      <th>V_10m_Rolling_14_Window_Variance</th>\n",
              "      <th>T_Expanded_Window_Max</th>\n",
              "      <th>CLCT_Expanded_Window_Max</th>\n",
              "      <th>U_100m_Expanded_Window_Max</th>\n",
              "      <th>V_100m_Expanded_Window_Max</th>\n",
              "      <th>U_10m_Expanded_Window_Max</th>\n",
              "      <th>V_10m_Expanded_Window_Max</th>\n",
              "      <th>Sin_Wind Direction 100m</th>\n",
              "      <th>Cos_Wind Direction 100m</th>\n",
              "      <th>Sin_Wind Direction 10m</th>\n",
              "      <th>Cos_Wind Direction 10m</th>\n",
              "    </tr>\n",
              "  </thead>\n",
              "  <tbody>\n",
              "    <tr>\n",
              "      <th>0</th>\n",
              "      <td>0.228968</td>\n",
              "      <td>0.130650</td>\n",
              "      <td>-0.080167</td>\n",
              "      <td>0.046187</td>\n",
              "      <td>-0.652228</td>\n",
              "      <td>0.730090</td>\n",
              "      <td>-0.235387</td>\n",
              "      <td>-0.710735</td>\n",
              "      <td>-0.998463</td>\n",
              "      <td>-0.998463</td>\n",
              "      <td>-0.998463</td>\n",
              "      <td>-0.982084</td>\n",
              "      <td>-0.982084</td>\n",
              "      <td>-0.982084</td>\n",
              "      <td>-0.104511</td>\n",
              "      <td>-0.104511</td>\n",
              "      <td>-0.104511</td>\n",
              "      <td>-0.051678</td>\n",
              "      <td>-0.051678</td>\n",
              "      <td>-0.051678</td>\n",
              "      <td>-0.097700</td>\n",
              "      <td>-0.097700</td>\n",
              "      <td>-0.097700</td>\n",
              "      <td>0.004222</td>\n",
              "      <td>0.004222</td>\n",
              "      <td>0.004222</td>\n",
              "      <td>-0.272727</td>\n",
              "      <td>-1.0</td>\n",
              "      <td>-1.0</td>\n",
              "      <td>1.0</td>\n",
              "      <td>1.0</td>\n",
              "      <td>1.0</td>\n",
              "      <td>1.0</td>\n",
              "      <td>-1.0</td>\n",
              "      <td>-1.0</td>\n",
              "      <td>-1.0</td>\n",
              "      <td>-1.0</td>\n",
              "      <td>-0.77755</td>\n",
              "      <td>-0.795783</td>\n",
              "      <td>1.0</td>\n",
              "      <td>...</td>\n",
              "      <td>-1.0</td>\n",
              "      <td>-1.000000</td>\n",
              "      <td>-1.0</td>\n",
              "      <td>-1.0</td>\n",
              "      <td>-1.0</td>\n",
              "      <td>-1.0</td>\n",
              "      <td>-1.0</td>\n",
              "      <td>-1.0</td>\n",
              "      <td>-1.0</td>\n",
              "      <td>-1.0</td>\n",
              "      <td>-1.0</td>\n",
              "      <td>-1.0</td>\n",
              "      <td>-1.0</td>\n",
              "      <td>-1.0</td>\n",
              "      <td>-1.0</td>\n",
              "      <td>-1.0</td>\n",
              "      <td>-1.0</td>\n",
              "      <td>-1.0</td>\n",
              "      <td>-1.0</td>\n",
              "      <td>-1.0</td>\n",
              "      <td>-1.0</td>\n",
              "      <td>-1.0</td>\n",
              "      <td>-1.0</td>\n",
              "      <td>-1.0</td>\n",
              "      <td>-1.0</td>\n",
              "      <td>-1.0</td>\n",
              "      <td>-1.0</td>\n",
              "      <td>-1.0</td>\n",
              "      <td>-1.0</td>\n",
              "      <td>-1.0</td>\n",
              "      <td>-1.000000</td>\n",
              "      <td>-1.000000</td>\n",
              "      <td>-1.000000</td>\n",
              "      <td>-1.000000</td>\n",
              "      <td>-1.0</td>\n",
              "      <td>-1.000000</td>\n",
              "      <td>0.010180</td>\n",
              "      <td>0.999948</td>\n",
              "      <td>0.015634</td>\n",
              "      <td>0.999878</td>\n",
              "    </tr>\n",
              "    <tr>\n",
              "      <th>1</th>\n",
              "      <td>0.243537</td>\n",
              "      <td>0.136909</td>\n",
              "      <td>-0.099786</td>\n",
              "      <td>0.062691</td>\n",
              "      <td>-0.648044</td>\n",
              "      <td>0.979522</td>\n",
              "      <td>-0.209145</td>\n",
              "      <td>-0.704468</td>\n",
              "      <td>-0.997542</td>\n",
              "      <td>-0.997542</td>\n",
              "      <td>-0.997542</td>\n",
              "      <td>-0.979261</td>\n",
              "      <td>-0.979261</td>\n",
              "      <td>-0.979261</td>\n",
              "      <td>-0.094891</td>\n",
              "      <td>-0.094891</td>\n",
              "      <td>-0.094891</td>\n",
              "      <td>-0.042877</td>\n",
              "      <td>-0.042877</td>\n",
              "      <td>-0.042877</td>\n",
              "      <td>-0.082122</td>\n",
              "      <td>-0.082122</td>\n",
              "      <td>-0.082122</td>\n",
              "      <td>0.018267</td>\n",
              "      <td>0.018267</td>\n",
              "      <td>0.018267</td>\n",
              "      <td>-0.272727</td>\n",
              "      <td>-1.0</td>\n",
              "      <td>-1.0</td>\n",
              "      <td>1.0</td>\n",
              "      <td>1.0</td>\n",
              "      <td>1.0</td>\n",
              "      <td>1.0</td>\n",
              "      <td>-1.0</td>\n",
              "      <td>-1.0</td>\n",
              "      <td>-1.0</td>\n",
              "      <td>-1.0</td>\n",
              "      <td>-0.77755</td>\n",
              "      <td>-0.795783</td>\n",
              "      <td>1.0</td>\n",
              "      <td>...</td>\n",
              "      <td>-1.0</td>\n",
              "      <td>-1.000000</td>\n",
              "      <td>-1.0</td>\n",
              "      <td>-1.0</td>\n",
              "      <td>-1.0</td>\n",
              "      <td>-1.0</td>\n",
              "      <td>-1.0</td>\n",
              "      <td>-1.0</td>\n",
              "      <td>-1.0</td>\n",
              "      <td>-1.0</td>\n",
              "      <td>-1.0</td>\n",
              "      <td>-1.0</td>\n",
              "      <td>-1.0</td>\n",
              "      <td>-1.0</td>\n",
              "      <td>-1.0</td>\n",
              "      <td>-1.0</td>\n",
              "      <td>-1.0</td>\n",
              "      <td>-1.0</td>\n",
              "      <td>-1.0</td>\n",
              "      <td>-1.0</td>\n",
              "      <td>-1.0</td>\n",
              "      <td>-1.0</td>\n",
              "      <td>-1.0</td>\n",
              "      <td>-1.0</td>\n",
              "      <td>-1.0</td>\n",
              "      <td>-1.0</td>\n",
              "      <td>-1.0</td>\n",
              "      <td>-1.0</td>\n",
              "      <td>-1.0</td>\n",
              "      <td>-1.0</td>\n",
              "      <td>-0.994934</td>\n",
              "      <td>0.848259</td>\n",
              "      <td>-0.962208</td>\n",
              "      <td>-0.985599</td>\n",
              "      <td>-1.0</td>\n",
              "      <td>-0.965395</td>\n",
              "      <td>0.010097</td>\n",
              "      <td>0.999949</td>\n",
              "      <td>0.018097</td>\n",
              "      <td>0.999836</td>\n",
              "    </tr>\n",
              "    <tr>\n",
              "      <th>2</th>\n",
              "      <td>0.238667</td>\n",
              "      <td>-0.050938</td>\n",
              "      <td>-0.091757</td>\n",
              "      <td>0.056334</td>\n",
              "      <td>-0.590239</td>\n",
              "      <td>0.283872</td>\n",
              "      <td>-0.340364</td>\n",
              "      <td>-0.707170</td>\n",
              "      <td>-0.997906</td>\n",
              "      <td>-0.997906</td>\n",
              "      <td>-0.997906</td>\n",
              "      <td>-0.980376</td>\n",
              "      <td>-0.980376</td>\n",
              "      <td>-0.980376</td>\n",
              "      <td>-0.098689</td>\n",
              "      <td>-0.098689</td>\n",
              "      <td>-0.098689</td>\n",
              "      <td>-0.046352</td>\n",
              "      <td>-0.046352</td>\n",
              "      <td>-0.046352</td>\n",
              "      <td>-0.088273</td>\n",
              "      <td>-0.088273</td>\n",
              "      <td>-0.088273</td>\n",
              "      <td>0.012721</td>\n",
              "      <td>0.012721</td>\n",
              "      <td>0.012721</td>\n",
              "      <td>-0.272727</td>\n",
              "      <td>-1.0</td>\n",
              "      <td>-1.0</td>\n",
              "      <td>1.0</td>\n",
              "      <td>1.0</td>\n",
              "      <td>1.0</td>\n",
              "      <td>1.0</td>\n",
              "      <td>-1.0</td>\n",
              "      <td>-1.0</td>\n",
              "      <td>-1.0</td>\n",
              "      <td>-1.0</td>\n",
              "      <td>-0.77755</td>\n",
              "      <td>-0.795783</td>\n",
              "      <td>1.0</td>\n",
              "      <td>...</td>\n",
              "      <td>-1.0</td>\n",
              "      <td>-1.000000</td>\n",
              "      <td>-1.0</td>\n",
              "      <td>-1.0</td>\n",
              "      <td>-1.0</td>\n",
              "      <td>-1.0</td>\n",
              "      <td>-1.0</td>\n",
              "      <td>-1.0</td>\n",
              "      <td>-1.0</td>\n",
              "      <td>-1.0</td>\n",
              "      <td>-1.0</td>\n",
              "      <td>-1.0</td>\n",
              "      <td>-1.0</td>\n",
              "      <td>-1.0</td>\n",
              "      <td>-1.0</td>\n",
              "      <td>-1.0</td>\n",
              "      <td>-1.0</td>\n",
              "      <td>-1.0</td>\n",
              "      <td>-1.0</td>\n",
              "      <td>-1.0</td>\n",
              "      <td>-1.0</td>\n",
              "      <td>-1.0</td>\n",
              "      <td>-1.0</td>\n",
              "      <td>-1.0</td>\n",
              "      <td>-1.0</td>\n",
              "      <td>-1.0</td>\n",
              "      <td>-1.0</td>\n",
              "      <td>-1.0</td>\n",
              "      <td>-1.0</td>\n",
              "      <td>-1.0</td>\n",
              "      <td>-0.924962</td>\n",
              "      <td>0.848259</td>\n",
              "      <td>-0.962208</td>\n",
              "      <td>-0.985599</td>\n",
              "      <td>-1.0</td>\n",
              "      <td>-0.965395</td>\n",
              "      <td>0.002650</td>\n",
              "      <td>0.999996</td>\n",
              "      <td>0.017125</td>\n",
              "      <td>0.999853</td>\n",
              "    </tr>\n",
              "    <tr>\n",
              "      <th>3</th>\n",
              "      <td>0.189158</td>\n",
              "      <td>-0.002548</td>\n",
              "      <td>-0.083169</td>\n",
              "      <td>0.017554</td>\n",
              "      <td>-0.654321</td>\n",
              "      <td>0.149650</td>\n",
              "      <td>-0.399844</td>\n",
              "      <td>-0.751810</td>\n",
              "      <td>-0.999176</td>\n",
              "      <td>-0.999176</td>\n",
              "      <td>-0.999176</td>\n",
              "      <td>-0.984269</td>\n",
              "      <td>-0.984269</td>\n",
              "      <td>-0.984269</td>\n",
              "      <td>-0.111956</td>\n",
              "      <td>-0.111956</td>\n",
              "      <td>-0.111956</td>\n",
              "      <td>-0.058490</td>\n",
              "      <td>-0.058490</td>\n",
              "      <td>-0.058490</td>\n",
              "      <td>-0.109757</td>\n",
              "      <td>-0.109757</td>\n",
              "      <td>-0.109757</td>\n",
              "      <td>-0.006647</td>\n",
              "      <td>-0.006647</td>\n",
              "      <td>-0.006647</td>\n",
              "      <td>-0.272727</td>\n",
              "      <td>-1.0</td>\n",
              "      <td>-1.0</td>\n",
              "      <td>1.0</td>\n",
              "      <td>1.0</td>\n",
              "      <td>1.0</td>\n",
              "      <td>1.0</td>\n",
              "      <td>-1.0</td>\n",
              "      <td>-1.0</td>\n",
              "      <td>-1.0</td>\n",
              "      <td>-1.0</td>\n",
              "      <td>-0.77755</td>\n",
              "      <td>-0.795783</td>\n",
              "      <td>1.0</td>\n",
              "      <td>...</td>\n",
              "      <td>-1.0</td>\n",
              "      <td>-1.000000</td>\n",
              "      <td>-1.0</td>\n",
              "      <td>-1.0</td>\n",
              "      <td>-1.0</td>\n",
              "      <td>-1.0</td>\n",
              "      <td>-1.0</td>\n",
              "      <td>-1.0</td>\n",
              "      <td>-1.0</td>\n",
              "      <td>-1.0</td>\n",
              "      <td>-1.0</td>\n",
              "      <td>-1.0</td>\n",
              "      <td>-1.0</td>\n",
              "      <td>-1.0</td>\n",
              "      <td>-1.0</td>\n",
              "      <td>-1.0</td>\n",
              "      <td>-1.0</td>\n",
              "      <td>-1.0</td>\n",
              "      <td>-1.0</td>\n",
              "      <td>-1.0</td>\n",
              "      <td>-1.0</td>\n",
              "      <td>-1.0</td>\n",
              "      <td>-1.0</td>\n",
              "      <td>-1.0</td>\n",
              "      <td>-1.0</td>\n",
              "      <td>-1.0</td>\n",
              "      <td>-1.0</td>\n",
              "      <td>-1.0</td>\n",
              "      <td>-1.0</td>\n",
              "      <td>-1.0</td>\n",
              "      <td>-0.924962</td>\n",
              "      <td>0.848259</td>\n",
              "      <td>-0.962208</td>\n",
              "      <td>-0.985599</td>\n",
              "      <td>-1.0</td>\n",
              "      <td>-0.965395</td>\n",
              "      <td>0.005460</td>\n",
              "      <td>0.999985</td>\n",
              "      <td>0.013727</td>\n",
              "      <td>0.999906</td>\n",
              "    </tr>\n",
              "    <tr>\n",
              "      <th>4</th>\n",
              "      <td>0.164667</td>\n",
              "      <td>-0.063747</td>\n",
              "      <td>-0.084914</td>\n",
              "      <td>-0.006764</td>\n",
              "      <td>-0.660598</td>\n",
              "      <td>0.799429</td>\n",
              "      <td>-0.464300</td>\n",
              "      <td>-0.782480</td>\n",
              "      <td>-1.000000</td>\n",
              "      <td>-1.000000</td>\n",
              "      <td>-1.000000</td>\n",
              "      <td>-0.986797</td>\n",
              "      <td>-0.986797</td>\n",
              "      <td>-0.986797</td>\n",
              "      <td>-0.120569</td>\n",
              "      <td>-0.120569</td>\n",
              "      <td>-0.120569</td>\n",
              "      <td>-0.066370</td>\n",
              "      <td>-0.066370</td>\n",
              "      <td>-0.066370</td>\n",
              "      <td>-0.123705</td>\n",
              "      <td>-0.123705</td>\n",
              "      <td>-0.123705</td>\n",
              "      <td>-0.019222</td>\n",
              "      <td>-0.019222</td>\n",
              "      <td>-0.019222</td>\n",
              "      <td>-0.272727</td>\n",
              "      <td>-1.0</td>\n",
              "      <td>-1.0</td>\n",
              "      <td>1.0</td>\n",
              "      <td>1.0</td>\n",
              "      <td>1.0</td>\n",
              "      <td>1.0</td>\n",
              "      <td>-1.0</td>\n",
              "      <td>-1.0</td>\n",
              "      <td>-1.0</td>\n",
              "      <td>-1.0</td>\n",
              "      <td>-0.77755</td>\n",
              "      <td>-0.795783</td>\n",
              "      <td>1.0</td>\n",
              "      <td>...</td>\n",
              "      <td>-1.0</td>\n",
              "      <td>-0.992308</td>\n",
              "      <td>-1.0</td>\n",
              "      <td>-1.0</td>\n",
              "      <td>-1.0</td>\n",
              "      <td>-1.0</td>\n",
              "      <td>-1.0</td>\n",
              "      <td>-1.0</td>\n",
              "      <td>-1.0</td>\n",
              "      <td>-1.0</td>\n",
              "      <td>-1.0</td>\n",
              "      <td>-1.0</td>\n",
              "      <td>-1.0</td>\n",
              "      <td>-1.0</td>\n",
              "      <td>-1.0</td>\n",
              "      <td>-1.0</td>\n",
              "      <td>-1.0</td>\n",
              "      <td>-1.0</td>\n",
              "      <td>-1.0</td>\n",
              "      <td>-1.0</td>\n",
              "      <td>-1.0</td>\n",
              "      <td>-1.0</td>\n",
              "      <td>-1.0</td>\n",
              "      <td>-1.0</td>\n",
              "      <td>-1.0</td>\n",
              "      <td>-1.0</td>\n",
              "      <td>-1.0</td>\n",
              "      <td>-1.0</td>\n",
              "      <td>-1.0</td>\n",
              "      <td>-1.0</td>\n",
              "      <td>-0.924962</td>\n",
              "      <td>0.848259</td>\n",
              "      <td>-0.962208</td>\n",
              "      <td>-0.985599</td>\n",
              "      <td>-1.0</td>\n",
              "      <td>-0.965395</td>\n",
              "      <td>0.002512</td>\n",
              "      <td>0.999997</td>\n",
              "      <td>0.011521</td>\n",
              "      <td>0.999934</td>\n",
              "    </tr>\n",
              "  </tbody>\n",
              "</table>\n",
              "<p>5 rows × 95 columns</p>\n",
              "</div>"
            ],
            "text/plain": [
              "     U_100m    V_100m  ...  Sin_Wind Direction 10m  Cos_Wind Direction 10m\n",
              "0  0.228968  0.130650  ...                0.015634                0.999878\n",
              "1  0.243537  0.136909  ...                0.018097                0.999836\n",
              "2  0.238667 -0.050938  ...                0.017125                0.999853\n",
              "3  0.189158 -0.002548  ...                0.013727                0.999906\n",
              "4  0.164667 -0.063747  ...                0.011521                0.999934\n",
              "\n",
              "[5 rows x 95 columns]"
            ]
          },
          "metadata": {
            "tags": []
          },
          "execution_count": 16
        }
      ]
    },
    {
      "cell_type": "code",
      "metadata": {
        "id": "yChNODtbMaU8",
        "colab_type": "code",
        "colab": {
          "base_uri": "https://localhost:8080/",
          "height": 419
        },
        "outputId": "2f3c1180-0f4a-4761-fd50-56340ff117f6"
      },
      "source": [
        "y"
      ],
      "execution_count": 17,
      "outputs": [
        {
          "output_type": "execute_result",
          "data": {
            "text/html": [
              "<div>\n",
              "<style scoped>\n",
              "    .dataframe tbody tr th:only-of-type {\n",
              "        vertical-align: middle;\n",
              "    }\n",
              "\n",
              "    .dataframe tbody tr th {\n",
              "        vertical-align: top;\n",
              "    }\n",
              "\n",
              "    .dataframe thead th {\n",
              "        text-align: right;\n",
              "    }\n",
              "</style>\n",
              "<table border=\"1\" class=\"dataframe\">\n",
              "  <thead>\n",
              "    <tr style=\"text-align: right;\">\n",
              "      <th></th>\n",
              "      <th>0</th>\n",
              "    </tr>\n",
              "  </thead>\n",
              "  <tbody>\n",
              "    <tr>\n",
              "      <th>0</th>\n",
              "      <td>-0.778768</td>\n",
              "    </tr>\n",
              "    <tr>\n",
              "      <th>1</th>\n",
              "      <td>-0.631774</td>\n",
              "    </tr>\n",
              "    <tr>\n",
              "      <th>2</th>\n",
              "      <td>-0.671863</td>\n",
              "    </tr>\n",
              "    <tr>\n",
              "      <th>3</th>\n",
              "      <td>-0.778768</td>\n",
              "    </tr>\n",
              "    <tr>\n",
              "      <th>4</th>\n",
              "      <td>-0.814402</td>\n",
              "    </tr>\n",
              "    <tr>\n",
              "      <th>...</th>\n",
              "      <td>...</td>\n",
              "    </tr>\n",
              "    <tr>\n",
              "      <th>6234</th>\n",
              "      <td>-0.768374</td>\n",
              "    </tr>\n",
              "    <tr>\n",
              "      <th>6235</th>\n",
              "      <td>-0.808463</td>\n",
              "    </tr>\n",
              "    <tr>\n",
              "      <th>6236</th>\n",
              "      <td>-0.867854</td>\n",
              "    </tr>\n",
              "    <tr>\n",
              "      <th>6237</th>\n",
              "      <td>-0.839644</td>\n",
              "    </tr>\n",
              "    <tr>\n",
              "      <th>6238</th>\n",
              "      <td>-0.853007</td>\n",
              "    </tr>\n",
              "  </tbody>\n",
              "</table>\n",
              "<p>6239 rows × 1 columns</p>\n",
              "</div>"
            ],
            "text/plain": [
              "             0\n",
              "0    -0.778768\n",
              "1    -0.631774\n",
              "2    -0.671863\n",
              "3    -0.778768\n",
              "4    -0.814402\n",
              "...        ...\n",
              "6234 -0.768374\n",
              "6235 -0.808463\n",
              "6236 -0.867854\n",
              "6237 -0.839644\n",
              "6238 -0.853007\n",
              "\n",
              "[6239 rows x 1 columns]"
            ]
          },
          "metadata": {
            "tags": []
          },
          "execution_count": 17
        }
      ]
    },
    {
      "cell_type": "code",
      "metadata": {
        "id": "UreNMlu_UmBC",
        "colab_type": "code",
        "colab": {
          "base_uri": "https://localhost:8080/",
          "height": 34
        },
        "outputId": "0347b097-aebc-4d5e-d0f8-ba7f47d3994b"
      },
      "source": [
        "y.shape"
      ],
      "execution_count": 18,
      "outputs": [
        {
          "output_type": "execute_result",
          "data": {
            "text/plain": [
              "(6239, 1)"
            ]
          },
          "metadata": {
            "tags": []
          },
          "execution_count": 18
        }
      ]
    },
    {
      "cell_type": "markdown",
      "metadata": {
        "id": "ZOe3UyUzMaU_",
        "colab_type": "text"
      },
      "source": [
        "## Subsets Creation"
      ]
    },
    {
      "cell_type": "markdown",
      "metadata": {
        "id": "TdZ3SWMKMaU_",
        "colab_type": "text"
      },
      "source": [
        "Here, the Data is converted to a group of subsets where each subset has n_steps of past data."
      ]
    },
    {
      "cell_type": "code",
      "metadata": {
        "id": "m5ns8yzXMaU_",
        "colab_type": "code",
        "colab": {}
      },
      "source": [
        "n_steps = 60"
      ],
      "execution_count": 19,
      "outputs": []
    },
    {
      "cell_type": "code",
      "metadata": {
        "id": "A800bL_SMaVC",
        "colab_type": "code",
        "colab": {}
      },
      "source": [
        "# split a multivariate sequence into samples\n",
        "def split_sequences(X, y = None, n_steps = 1):\n",
        "\tsample_X, sample_y = list(), list()\n",
        "\tfor i in range(len(X)):\n",
        "\t\t# find the end of this pattern\n",
        "\t\tend_ix = i + n_steps\n",
        "\t\t# check if we are beyond the dataset\n",
        "\t\tif end_ix > len(X):\n",
        "\t\t\tbreak\n",
        "\t\t# gather input and output parts of the pattern\n",
        "\t\tseq_x = X[i:end_ix, :]\n",
        "\t\tsample_X.append(seq_x)\n",
        "\t\tif y is not None:\n",
        "\t\t\tseq_y = y[end_ix-1,-1]\n",
        "\t\t\tsample_y.append(seq_y)\n",
        "\treturn np.array(sample_X), np.array(sample_y)"
      ],
      "execution_count": 20,
      "outputs": []
    },
    {
      "cell_type": "code",
      "metadata": {
        "id": "RCgXPLQ0MaVE",
        "colab_type": "code",
        "colab": {}
      },
      "source": [
        "sample_X,sample_y = split_sequences(X.values,y.values,n_steps)"
      ],
      "execution_count": 21,
      "outputs": []
    },
    {
      "cell_type": "code",
      "metadata": {
        "id": "Mw3e0WAyQfSw",
        "colab_type": "code",
        "colab": {}
      },
      "source": [
        "sample_X,sample_y = split_sequences(X.values,None,n_steps)"
      ],
      "execution_count": 22,
      "outputs": []
    },
    {
      "cell_type": "code",
      "metadata": {
        "id": "3qSIjG8HMaVH",
        "colab_type": "code",
        "colab": {}
      },
      "source": [
        "n_features = sample_X.shape[2]"
      ],
      "execution_count": 23,
      "outputs": []
    },
    {
      "cell_type": "markdown",
      "metadata": {
        "id": "JzkqvqX5MaVJ",
        "colab_type": "text"
      },
      "source": [
        "## Model"
      ]
    },
    {
      "cell_type": "markdown",
      "metadata": {
        "id": "USm2oSuSMaVK",
        "colab_type": "text"
      },
      "source": [
        "Here, a function to create the Model usin Keras is defined."
      ]
    },
    {
      "cell_type": "code",
      "metadata": {
        "id": "Lt8xYhd3MaVK",
        "colab_type": "code",
        "colab": {}
      },
      "source": [
        "def LSTM_Model(input_shape, batch_size=1):\n",
        "  # Numerical branch\n",
        "\n",
        "  input_layer = tf.keras.Input(shape = input_shape,batch_size = batch_size)\n",
        "\n",
        "  hidden_1 = tf.keras.layers.LSTM(units=100,return_sequences=True,stateful=True)(input_layer)\n",
        "  hidden_1 = tf.keras.layers.Dropout(0.3)(hidden_1)\n",
        "\n",
        "  hidden_2 = tf.keras.layers.LSTM(units=50, stateful=True)(hidden_1)\n",
        "  hidden_2 = tf.keras.layers.Dropout(0.3)(hidden_2)\n",
        "\n",
        "\n",
        "  # Output\n",
        "  #outputs = tf.keras.layers.PReLU()(hidden_2)\n",
        "  outputs = tf.keras.layers.Dropout(rate=0.2)(hidden_2)\n",
        "  outputs = tf.keras.layers.Dense(units=1)(outputs)\n",
        "\n",
        "  model = tf.keras.Model(inputs=input_layer, outputs=outputs)\n",
        "\n",
        "  return model"
      ],
      "execution_count": 24,
      "outputs": []
    },
    {
      "cell_type": "code",
      "metadata": {
        "id": "IrjTyZ8KMaVM",
        "colab_type": "code",
        "colab": {}
      },
      "source": [
        "input_shape = (n_steps,n_features)"
      ],
      "execution_count": 25,
      "outputs": []
    },
    {
      "cell_type": "code",
      "metadata": {
        "tags": [],
        "id": "ja7P7f1HMaVO",
        "colab_type": "code",
        "colab": {}
      },
      "source": [
        "model = LSTM_Model(input_shape)"
      ],
      "execution_count": 26,
      "outputs": []
    },
    {
      "cell_type": "code",
      "metadata": {
        "tags": [],
        "id": "__ARBNVBMaVQ",
        "colab_type": "code",
        "colab": {
          "base_uri": "https://localhost:8080/",
          "height": 0
        },
        "outputId": "1ac5448e-87d7-403d-fa19-3e7c19b80f97"
      },
      "source": [
        "model.summary()"
      ],
      "execution_count": 27,
      "outputs": [
        {
          "output_type": "stream",
          "text": [
            "Model: \"functional_1\"\n",
            "_________________________________________________________________\n",
            "Layer (type)                 Output Shape              Param #   \n",
            "=================================================================\n",
            "input_1 (InputLayer)         [(1, 60, 95)]             0         \n",
            "_________________________________________________________________\n",
            "lstm (LSTM)                  (1, 60, 100)              78400     \n",
            "_________________________________________________________________\n",
            "dropout (Dropout)            (1, 60, 100)              0         \n",
            "_________________________________________________________________\n",
            "lstm_1 (LSTM)                (1, 50)                   30200     \n",
            "_________________________________________________________________\n",
            "dropout_1 (Dropout)          (1, 50)                   0         \n",
            "_________________________________________________________________\n",
            "dropout_2 (Dropout)          (1, 50)                   0         \n",
            "_________________________________________________________________\n",
            "dense (Dense)                (1, 1)                    51        \n",
            "=================================================================\n",
            "Total params: 108,651\n",
            "Trainable params: 108,651\n",
            "Non-trainable params: 0\n",
            "_________________________________________________________________\n"
          ],
          "name": "stdout"
        }
      ]
    },
    {
      "cell_type": "markdown",
      "metadata": {
        "id": "JpR1xJhqMaVT",
        "colab_type": "text"
      },
      "source": [
        "## Validation"
      ]
    },
    {
      "cell_type": "code",
      "metadata": {
        "id": "Y4K8mWyxMaVW",
        "colab_type": "code",
        "colab": {}
      },
      "source": [
        "random.seed(317)\n",
        "tf.random.set_seed(317)\n",
        "\n",
        "patience = 3\n",
        "epochs = 10\n",
        "k_fold_splits = 5\n",
        "total_it = 50\n",
        "monitor = \"root_mean_squared_error\"\n",
        "batch_size = 1"
      ],
      "execution_count": 28,
      "outputs": []
    },
    {
      "cell_type": "code",
      "metadata": {
        "tags": [],
        "id": "qgvERJ2tMaVZ",
        "colab_type": "code",
        "colab": {
          "base_uri": "https://localhost:8080/",
          "height": 1000
        },
        "outputId": "a708e321-7a27-4bb5-a5bc-f9251927f671"
      },
      "source": [
        "# Define Time Split Cross Validation\n",
        "tscv = TimeSeriesSplit(n_splits=k_fold_splits)\n",
        "\n",
        "# Separating Data from Hold Out Set\n",
        "\n",
        "X_cv, _, y_cv, _ = train_test_split(X, y, test_size=0.125, shuffle=False)\n",
        "\n",
        "train_scores = np.empty(0)\n",
        "val_scores = np.empty(0)\n",
        "test_scores = np.empty(0)\n",
        "for train_index, test_index in tscv.split(X_cv):\n",
        "\n",
        "    # Get the Data of the Split\n",
        "    X_train, X_test = X_cv.iloc[train_index], X_cv.iloc[test_index]\n",
        "    y_train, y_test = y_cv.iloc[train_index], y_cv.iloc[test_index]\n",
        "\n",
        "    # Separating Training Set of Split on Train and Validation Subsets\n",
        "    X_train, X_val, y_train, y_val = train_test_split(X_train, y_train, test_size=0.143, shuffle=False)\n",
        "\n",
        "    # Reshape Data\n",
        "    X_train, y_train = split_sequences(X_train.values,y_train.values,n_steps)\n",
        "    X_val, y_val = split_sequences(X_val.values,y_val.values,n_steps)\n",
        "    X_test, y_test = split_sequences(X_test.values,y_test.values,n_steps)\n",
        "\n",
        "    # Create Model\n",
        "    model = LSTM_Model(input_shape,batch_size=batch_size)\n",
        "\n",
        "    # Callbacks\n",
        "    callbacks_list = [tf.keras.callbacks.EarlyStopping(monitor=monitor, patience=patience, verbose=0, min_delta=1e-8)]\n",
        "\n",
        "    # Train the Model\n",
        "    model.compile(optimizer='adam', loss='mse', metrics=[tf.keras.metrics.RootMeanSquaredError()])\n",
        "    history = model.fit(x = X_train, y = y_train, batch_size = batch_size, epochs = epochs, validation_data = (X_val, y_val), callbacks=callbacks_list,shuffle=False)\n",
        "\n",
        "    # Train and Validation Score\n",
        "    train_score = np.array(history.history['root_mean_squared_error']).mean()\n",
        "    val_score = np.array(history.history['val_root_mean_squared_error']).mean()\n",
        "\n",
        "    # Test Score\n",
        "    preds = model.predict(X_test,batch_size = batch_size,callbacks=callbacks_list)\n",
        "    preds = tf.cast(preds, tf.float32)\n",
        "    y_test = tf.cast(y_test, tf.float32)\n",
        "\n",
        "    m = tf.keras.metrics.RootMeanSquaredError()\n",
        "    m.update_state(y_test,preds)\n",
        "    test_score = m.result().numpy()\n",
        "\n",
        "    train_scores = np.append(train_scores,train_score)\n",
        "    val_scores = np.append(val_scores,val_score)\n",
        "    test_scores = np.append(test_scores,test_score)"
      ],
      "execution_count": 29,
      "outputs": [
        {
          "output_type": "stream",
          "text": [
            "Epoch 1/10\n",
            "724/724 [==============================] - 5s 7ms/step - loss: 0.1118 - root_mean_squared_error: 0.3343 - val_loss: 0.0320 - val_root_mean_squared_error: 0.1790\n",
            "Epoch 2/10\n",
            "724/724 [==============================] - 4s 6ms/step - loss: 0.0862 - root_mean_squared_error: 0.2936 - val_loss: 0.0187 - val_root_mean_squared_error: 0.1366\n",
            "Epoch 3/10\n",
            "724/724 [==============================] - 4s 6ms/step - loss: 0.0827 - root_mean_squared_error: 0.2876 - val_loss: 0.0113 - val_root_mean_squared_error: 0.1063\n",
            "Epoch 4/10\n",
            "724/724 [==============================] - 4s 6ms/step - loss: 0.0723 - root_mean_squared_error: 0.2688 - val_loss: 0.0139 - val_root_mean_squared_error: 0.1181\n",
            "Epoch 5/10\n",
            "724/724 [==============================] - 5s 6ms/step - loss: 0.0661 - root_mean_squared_error: 0.2571 - val_loss: 0.0060 - val_root_mean_squared_error: 0.0777\n",
            "Epoch 6/10\n",
            "724/724 [==============================] - 5s 6ms/step - loss: 0.0609 - root_mean_squared_error: 0.2467 - val_loss: 0.0083 - val_root_mean_squared_error: 0.0910\n",
            "Epoch 7/10\n",
            "724/724 [==============================] - 5s 6ms/step - loss: 0.0532 - root_mean_squared_error: 0.2307 - val_loss: 0.0067 - val_root_mean_squared_error: 0.0818\n",
            "Epoch 8/10\n",
            "724/724 [==============================] - 5s 6ms/step - loss: 0.0508 - root_mean_squared_error: 0.2253 - val_loss: 0.0148 - val_root_mean_squared_error: 0.1215\n",
            "Epoch 9/10\n",
            "724/724 [==============================] - 5s 6ms/step - loss: 0.0465 - root_mean_squared_error: 0.2156 - val_loss: 0.0088 - val_root_mean_squared_error: 0.0938\n",
            "Epoch 10/10\n",
            "724/724 [==============================] - 4s 6ms/step - loss: 0.0449 - root_mean_squared_error: 0.2118 - val_loss: 0.0064 - val_root_mean_squared_error: 0.0799\n",
            "Epoch 1/10\n",
            "1503/1503 [==============================] - 10s 7ms/step - loss: 0.0926 - root_mean_squared_error: 0.3043 - val_loss: 0.0932 - val_root_mean_squared_error: 0.3052\n",
            "Epoch 2/10\n",
            "1503/1503 [==============================] - 9s 6ms/step - loss: 0.0654 - root_mean_squared_error: 0.2558 - val_loss: 0.0889 - val_root_mean_squared_error: 0.2982\n",
            "Epoch 3/10\n",
            "1503/1503 [==============================] - 9s 6ms/step - loss: 0.0579 - root_mean_squared_error: 0.2407 - val_loss: 0.0332 - val_root_mean_squared_error: 0.1822\n",
            "Epoch 4/10\n",
            "1503/1503 [==============================] - 10s 6ms/step - loss: 0.0492 - root_mean_squared_error: 0.2218 - val_loss: 0.0218 - val_root_mean_squared_error: 0.1476\n",
            "Epoch 5/10\n",
            "1503/1503 [==============================] - 9s 6ms/step - loss: 0.0455 - root_mean_squared_error: 0.2132 - val_loss: 0.0217 - val_root_mean_squared_error: 0.1473\n",
            "Epoch 6/10\n",
            "1503/1503 [==============================] - 10s 6ms/step - loss: 0.0431 - root_mean_squared_error: 0.2076 - val_loss: 0.0205 - val_root_mean_squared_error: 0.1432\n",
            "Epoch 7/10\n",
            "1503/1503 [==============================] - 10s 6ms/step - loss: 0.0407 - root_mean_squared_error: 0.2017 - val_loss: 0.0287 - val_root_mean_squared_error: 0.1695\n",
            "Epoch 8/10\n",
            "1503/1503 [==============================] - 10s 6ms/step - loss: 0.0397 - root_mean_squared_error: 0.1992 - val_loss: 0.0321 - val_root_mean_squared_error: 0.1791\n",
            "Epoch 9/10\n",
            "1503/1503 [==============================] - 10s 6ms/step - loss: 0.0384 - root_mean_squared_error: 0.1958 - val_loss: 0.0240 - val_root_mean_squared_error: 0.1549\n",
            "Epoch 10/10\n",
            "1503/1503 [==============================] - 9s 6ms/step - loss: 0.0343 - root_mean_squared_error: 0.1853 - val_loss: 0.0267 - val_root_mean_squared_error: 0.1633\n",
            "Epoch 1/10\n",
            "2282/2282 [==============================] - 15s 7ms/step - loss: 0.0838 - root_mean_squared_error: 0.2895 - val_loss: 0.0327 - val_root_mean_squared_error: 0.1807\n",
            "Epoch 2/10\n",
            "2282/2282 [==============================] - 14s 6ms/step - loss: 0.0577 - root_mean_squared_error: 0.2401 - val_loss: 0.0260 - val_root_mean_squared_error: 0.1614\n",
            "Epoch 3/10\n",
            "2282/2282 [==============================] - 15s 6ms/step - loss: 0.0512 - root_mean_squared_error: 0.2263 - val_loss: 0.0492 - val_root_mean_squared_error: 0.2219\n",
            "Epoch 4/10\n",
            "2282/2282 [==============================] - 15s 6ms/step - loss: 0.0458 - root_mean_squared_error: 0.2140 - val_loss: 0.0295 - val_root_mean_squared_error: 0.1717\n",
            "Epoch 5/10\n",
            "2282/2282 [==============================] - 15s 6ms/step - loss: 0.0422 - root_mean_squared_error: 0.2055 - val_loss: 0.0319 - val_root_mean_squared_error: 0.1785\n",
            "Epoch 6/10\n",
            "2282/2282 [==============================] - 14s 6ms/step - loss: 0.0369 - root_mean_squared_error: 0.1920 - val_loss: 0.0304 - val_root_mean_squared_error: 0.1744\n",
            "Epoch 7/10\n",
            "2282/2282 [==============================] - 15s 6ms/step - loss: 0.0334 - root_mean_squared_error: 0.1827 - val_loss: 0.0614 - val_root_mean_squared_error: 0.2479\n",
            "Epoch 8/10\n",
            "2282/2282 [==============================] - 15s 6ms/step - loss: 0.0325 - root_mean_squared_error: 0.1803 - val_loss: 0.0174 - val_root_mean_squared_error: 0.1319\n",
            "Epoch 9/10\n",
            "2282/2282 [==============================] - 15s 7ms/step - loss: 0.0305 - root_mean_squared_error: 0.1745 - val_loss: 0.0354 - val_root_mean_squared_error: 0.1881\n",
            "Epoch 10/10\n",
            "2282/2282 [==============================] - 14s 6ms/step - loss: 0.0305 - root_mean_squared_error: 0.1747 - val_loss: 0.0334 - val_root_mean_squared_error: 0.1828\n",
            "Epoch 1/10\n",
            "3061/3061 [==============================] - 20s 6ms/step - loss: 0.0764 - root_mean_squared_error: 0.2763 - val_loss: 0.1900 - val_root_mean_squared_error: 0.4358\n",
            "Epoch 2/10\n",
            "3061/3061 [==============================] - 19s 6ms/step - loss: 0.0535 - root_mean_squared_error: 0.2314 - val_loss: 0.1671 - val_root_mean_squared_error: 0.4088\n",
            "Epoch 3/10\n",
            "3061/3061 [==============================] - 19s 6ms/step - loss: 0.0452 - root_mean_squared_error: 0.2125 - val_loss: 0.1355 - val_root_mean_squared_error: 0.3680\n",
            "Epoch 4/10\n",
            "3061/3061 [==============================] - 19s 6ms/step - loss: 0.0405 - root_mean_squared_error: 0.2012 - val_loss: 0.1105 - val_root_mean_squared_error: 0.3324\n",
            "Epoch 5/10\n",
            "3061/3061 [==============================] - 19s 6ms/step - loss: 0.0344 - root_mean_squared_error: 0.1856 - val_loss: 0.1072 - val_root_mean_squared_error: 0.3273\n",
            "Epoch 6/10\n",
            "3061/3061 [==============================] - 19s 6ms/step - loss: 0.0314 - root_mean_squared_error: 0.1772 - val_loss: 0.1110 - val_root_mean_squared_error: 0.3331\n",
            "Epoch 7/10\n",
            "3061/3061 [==============================] - 19s 6ms/step - loss: 0.0288 - root_mean_squared_error: 0.1697 - val_loss: 0.0897 - val_root_mean_squared_error: 0.2996\n",
            "Epoch 8/10\n",
            "3061/3061 [==============================] - 19s 6ms/step - loss: 0.0274 - root_mean_squared_error: 0.1656 - val_loss: 0.0578 - val_root_mean_squared_error: 0.2404\n",
            "Epoch 9/10\n",
            "3061/3061 [==============================] - 19s 6ms/step - loss: 0.0259 - root_mean_squared_error: 0.1610 - val_loss: 0.0685 - val_root_mean_squared_error: 0.2618\n",
            "Epoch 10/10\n",
            "3061/3061 [==============================] - 19s 6ms/step - loss: 0.0258 - root_mean_squared_error: 0.1605 - val_loss: 0.0577 - val_root_mean_squared_error: 0.2403\n",
            "Epoch 1/10\n",
            "3840/3840 [==============================] - 25s 6ms/step - loss: 0.0831 - root_mean_squared_error: 0.2882 - val_loss: 0.1495 - val_root_mean_squared_error: 0.3867\n",
            "Epoch 2/10\n",
            "3840/3840 [==============================] - 24s 6ms/step - loss: 0.0594 - root_mean_squared_error: 0.2437 - val_loss: 0.1405 - val_root_mean_squared_error: 0.3748\n",
            "Epoch 3/10\n",
            "3840/3840 [==============================] - 24s 6ms/step - loss: 0.0476 - root_mean_squared_error: 0.2182 - val_loss: 0.0848 - val_root_mean_squared_error: 0.2912\n",
            "Epoch 4/10\n",
            "3840/3840 [==============================] - 25s 7ms/step - loss: 0.0373 - root_mean_squared_error: 0.1931 - val_loss: 0.0713 - val_root_mean_squared_error: 0.2670\n",
            "Epoch 5/10\n",
            "3840/3840 [==============================] - 24s 6ms/step - loss: 0.0336 - root_mean_squared_error: 0.1833 - val_loss: 0.0626 - val_root_mean_squared_error: 0.2503\n",
            "Epoch 6/10\n",
            "3840/3840 [==============================] - 24s 6ms/step - loss: 0.0316 - root_mean_squared_error: 0.1778 - val_loss: 0.0532 - val_root_mean_squared_error: 0.2307\n",
            "Epoch 7/10\n",
            "3840/3840 [==============================] - 24s 6ms/step - loss: 0.0282 - root_mean_squared_error: 0.1681 - val_loss: 0.0554 - val_root_mean_squared_error: 0.2354\n",
            "Epoch 8/10\n",
            "3840/3840 [==============================] - 24s 6ms/step - loss: 0.0271 - root_mean_squared_error: 0.1645 - val_loss: 0.0543 - val_root_mean_squared_error: 0.2331\n",
            "Epoch 9/10\n",
            "3840/3840 [==============================] - 24s 6ms/step - loss: 0.0247 - root_mean_squared_error: 0.1572 - val_loss: 0.0614 - val_root_mean_squared_error: 0.2477\n",
            "Epoch 10/10\n",
            "3840/3840 [==============================] - 24s 6ms/step - loss: 0.0227 - root_mean_squared_error: 0.1507 - val_loss: 0.0581 - val_root_mean_squared_error: 0.2410\n"
          ],
          "name": "stdout"
        }
      ]
    },
    {
      "cell_type": "code",
      "metadata": {
        "id": "T8M9VTWGyp7t",
        "colab_type": "code",
        "colab": {
          "base_uri": "https://localhost:8080/",
          "height": 500
        },
        "outputId": "7b6ac17c-112a-4282-f7f7-1b55a01ec76b"
      },
      "source": [
        "plt.figure(figsize=(10,8))\n",
        "plt.plot(range(len(train_scores)),train_scores,label='Train Scores')\n",
        "plt.plot(range(len(val_scores)),val_scores,label='Validation Scores')\n",
        "plt.plot(range(len(test_scores)),test_scores,label='Test Scores')\n",
        "plt.legend()"
      ],
      "execution_count": 30,
      "outputs": [
        {
          "output_type": "execute_result",
          "data": {
            "text/plain": [
              "<matplotlib.legend.Legend at 0x7fe606fdef98>"
            ]
          },
          "metadata": {
            "tags": []
          },
          "execution_count": 30
        },
        {
          "output_type": "display_data",
          "data": {
            "image/png": "[encoded data removed]",
            "text/plain": [
              "<Figure size 720x576 with 1 Axes>"
            ]
          },
          "metadata": {
            "tags": []
          }
        }
      ]
    },
    {
      "cell_type": "markdown",
      "metadata": {
        "id": "XDJ3EJABMaVe",
        "colab_type": "text"
      },
      "source": [
        "### Hold Out Score"
      ]
    },
    {
      "cell_type": "markdown",
      "metadata": {
        "id": "UrZ9HNlNcSLE",
        "colab_type": "text"
      },
      "source": [
        "Here, the same model is trained on all the data used on the Validation and tested on a Holdout Set never seen before."
      ]
    },
    {
      "cell_type": "code",
      "metadata": {
        "id": "KMcTgPbPMaVe",
        "colab_type": "code",
        "colab": {}
      },
      "source": [
        "X_train, X_holdout, y_train, y_holdout = train_test_split(X, y, test_size=0.125, shuffle=False)"
      ],
      "execution_count": 31,
      "outputs": []
    },
    {
      "cell_type": "code",
      "metadata": {
        "id": "QzBMhFivMaVg",
        "colab_type": "code",
        "colab": {}
      },
      "source": [
        "X_train, X_val, y_train, y_val = train_test_split(X_train, y_train, test_size=0.143, shuffle=False)"
      ],
      "execution_count": 32,
      "outputs": []
    },
    {
      "cell_type": "code",
      "metadata": {
        "id": "DCt5uDOTMaVj",
        "colab_type": "code",
        "colab": {}
      },
      "source": [
        "X_train, y_train = split_sequences(X_train.values,y_train.values,n_steps)\n",
        "X_val, y_val = split_sequences(X_val.values,y_val.values,n_steps)\n",
        "X_holdout, y_holdout = split_sequences(X_holdout.values,y_holdout.values,n_steps)"
      ],
      "execution_count": 33,
      "outputs": []
    },
    {
      "cell_type": "code",
      "metadata": {
        "id": "zLZJNzIrMaVl",
        "colab_type": "code",
        "colab": {}
      },
      "source": [
        "model = LSTM_Model(input_shape)"
      ],
      "execution_count": 34,
      "outputs": []
    },
    {
      "cell_type": "code",
      "metadata": {
        "tags": [],
        "id": "XUfPcqXlMaVn",
        "colab_type": "code",
        "colab": {
          "base_uri": "https://localhost:8080/",
          "height": 374
        },
        "outputId": "faab9bc4-09fd-43da-dac6-e97249a353da"
      },
      "source": [
        "callbacks_list = [tf.keras.callbacks.EarlyStopping(monitor=monitor, patience=patience, verbose=0, min_delta=1e-8)]\n",
        "model.compile(optimizer='adam', loss='mse', metrics=[tf.keras.metrics.RootMeanSquaredError()])\n",
        "model.fit(x = X_train, y = y_train, batch_size = batch_size, epochs = epochs, validation_data = (X_val, y_val), callbacks=callbacks_list)"
      ],
      "execution_count": 35,
      "outputs": [
        {
          "output_type": "stream",
          "text": [
            "Epoch 1/10\n",
            "4619/4619 [==============================] - 30s 7ms/step - loss: 0.0665 - root_mean_squared_error: 0.2579 - val_loss: 0.1496 - val_root_mean_squared_error: 0.3867\n",
            "Epoch 2/10\n",
            "4619/4619 [==============================] - 30s 6ms/step - loss: 0.0357 - root_mean_squared_error: 0.1890 - val_loss: 0.0706 - val_root_mean_squared_error: 0.2658\n",
            "Epoch 3/10\n",
            "4619/4619 [==============================] - 30s 6ms/step - loss: 0.0322 - root_mean_squared_error: 0.1796 - val_loss: 0.0947 - val_root_mean_squared_error: 0.3077\n",
            "Epoch 4/10\n",
            "4619/4619 [==============================] - 30s 6ms/step - loss: 0.0277 - root_mean_squared_error: 0.1663 - val_loss: 0.0939 - val_root_mean_squared_error: 0.3065\n",
            "Epoch 5/10\n",
            "4619/4619 [==============================] - 31s 7ms/step - loss: 0.0260 - root_mean_squared_error: 0.1611 - val_loss: 0.0707 - val_root_mean_squared_error: 0.2660\n",
            "Epoch 6/10\n",
            "4619/4619 [==============================] - 30s 6ms/step - loss: 0.0251 - root_mean_squared_error: 0.1585 - val_loss: 0.0852 - val_root_mean_squared_error: 0.2919\n",
            "Epoch 7/10\n",
            "4619/4619 [==============================] - 30s 6ms/step - loss: 0.0240 - root_mean_squared_error: 0.1550 - val_loss: 0.1833 - val_root_mean_squared_error: 0.4282\n",
            "Epoch 8/10\n",
            "4619/4619 [==============================] - 30s 6ms/step - loss: 0.0228 - root_mean_squared_error: 0.1509 - val_loss: 0.0863 - val_root_mean_squared_error: 0.2937\n",
            "Epoch 9/10\n",
            "4619/4619 [==============================] - 30s 6ms/step - loss: 0.0216 - root_mean_squared_error: 0.1469 - val_loss: 0.1206 - val_root_mean_squared_error: 0.3472\n",
            "Epoch 10/10\n",
            "4619/4619 [==============================] - 30s 6ms/step - loss: 0.0208 - root_mean_squared_error: 0.1442 - val_loss: 0.0877 - val_root_mean_squared_error: 0.2962\n"
          ],
          "name": "stdout"
        },
        {
          "output_type": "execute_result",
          "data": {
            "text/plain": [
              "<tensorflow.python.keras.callbacks.History at 0x7fe606950c18>"
            ]
          },
          "metadata": {
            "tags": []
          },
          "execution_count": 35
        }
      ]
    },
    {
      "cell_type": "code",
      "metadata": {
        "tags": [],
        "id": "X4PNtrv0MaVp",
        "colab_type": "code",
        "colab": {}
      },
      "source": [
        "preds = model.predict(X_holdout,batch_size = batch_size,callbacks=callbacks_list)"
      ],
      "execution_count": 36,
      "outputs": []
    },
    {
      "cell_type": "markdown",
      "metadata": {
        "id": "Y8PCgJ71cDUf",
        "colab_type": "text"
      },
      "source": [
        "Here, Predicitions and True Labels of the Holdout Set are scaled back to measure the CAPE Error, and be compared on a Chart."
      ]
    },
    {
      "cell_type": "code",
      "metadata": {
        "id": "wXT215AXZ1mm",
        "colab_type": "code",
        "colab": {}
      },
      "source": [
        "preds = scaler.inverse_transform(preds)\n",
        "y_holdout = scaler.inverse_transform(pd.DataFrame(y_holdout))"
      ],
      "execution_count": 37,
      "outputs": []
    },
    {
      "cell_type": "code",
      "metadata": {
        "id": "kCgrT7-KWetR",
        "colab_type": "code",
        "colab": {}
      },
      "source": [
        "def metric_cnr(preds,labels):\n",
        "    cape_cnr = 100*np.sum(np.abs(preds-labels))/np.sum(labels)\n",
        "    return 'CAPE', cape_cnr"
      ],
      "execution_count": 38,
      "outputs": []
    },
    {
      "cell_type": "code",
      "metadata": {
        "id": "Y2_xB0ODWiZ7",
        "colab_type": "code",
        "colab": {
          "base_uri": "https://localhost:8080/",
          "height": 34
        },
        "outputId": "815ffba4-e7d7-4331-c4ec-ce4e6f4a7604"
      },
      "source": [
        "metric_cnr(preds,y_holdout)"
      ],
      "execution_count": 39,
      "outputs": [
        {
          "output_type": "execute_result",
          "data": {
            "text/plain": [
              "('CAPE', 34.69178859667893)"
            ]
          },
          "metadata": {
            "tags": []
          },
          "execution_count": 39
        }
      ]
    },
    {
      "cell_type": "code",
      "metadata": {
        "id": "l_TjOBo0MaVr",
        "colab_type": "code",
        "colab": {
          "base_uri": "https://localhost:8080/",
          "height": 500
        },
        "outputId": "444bba3a-754b-4825-a227-ace8ea30f0a2"
      },
      "source": [
        "plt.figure(figsize=(15,8))\n",
        "preds_len = np.arange(len(y_holdout))\n",
        "plt.plot(preds_len,y_holdout,label='True Values')\n",
        "plt.plot(preds_len,preds,'r--',label='Predicts')\n",
        "plt.legend()"
      ],
      "execution_count": 40,
      "outputs": [
        {
          "output_type": "execute_result",
          "data": {
            "text/plain": [
              "<matplotlib.legend.Legend at 0x7fe61c354438>"
            ]
          },
          "metadata": {
            "tags": []
          },
          "execution_count": 40
        },
        {
          "output_type": "display_data",
          "data": {
            "image/png": "[encoded data removed]",
            "text/plain": [
              "<Figure size 1080x576 with 1 Axes>"
            ]
          },
          "metadata": {
            "tags": []
          }
        }
      ]
    },
    {
      "cell_type": "markdown",
      "metadata": {
        "id": "x-CCiRv1Mias",
        "colab_type": "text"
      },
      "source": [
        "## Submission Generation"
      ]
    },
    {
      "cell_type": "markdown",
      "metadata": {
        "id": "mAz3_aaLRNcG",
        "colab_type": "text"
      },
      "source": [
        "First, a function with all the preprocessing made to prepare data for network is defined."
      ]
    },
    {
      "cell_type": "code",
      "metadata": {
        "id": "aYOXuuuiRLYI",
        "colab_type": "code",
        "colab": {}
      },
      "source": [
        "def preprocessing_net(full_X,full_y=None):\n",
        "  processed_X = pd.DataFrame()\n",
        "  processed_y = pd.DataFrame()\n",
        "  for WF in full_X['WF'].unique():\n",
        "    X = full_X[full_X['WF']==WF]\n",
        "\n",
        "    scaler = MinMaxScaler(feature_range=(-1,1))\n",
        "\n",
        "    if full_y is not None:\n",
        "      y = full_y[full_y['ID'].isin(X['ID'])]\n",
        "      y = y.fillna(method=\"ffill\", axis=1) # ZOH\n",
        "      y = y.fillna(0)\n",
        "      y_saved_columns = y[['ID']].reset_index().drop('index',axis=1)\n",
        "      y = y.drop('ID',axis=1)\n",
        "      y = scaler.fit_transform(y)\n",
        "      y = pd.DataFrame(y)\n",
        "      y = pd.concat([y,y_saved_columns],axis=1)\n",
        "      processed_y = pd.concat([processed_y,y])\n",
        "\n",
        "    X_saved_columns = X[['ID','WF','Set']]\n",
        "    X_saved_columns = X_saved_columns.reset_index().drop('Time',axis=1)\n",
        "    X = X.drop(['ID','WF','Set'],axis=1)\n",
        "\n",
        "    # Fill NaN's\n",
        "    X = X.fillna(method=\"ffill\", axis=1) # ZOH\n",
        "    X = X.fillna(0)\n",
        "\n",
        "    # Scaling Data\n",
        "    directions = X[['Wind Direction 100m', 'Wind Direction 10m']]\n",
        "    directions[\"Sin_Wind Direction 100m\"] = np.sin(X['Wind Direction 100m']*(np.pi/180))\n",
        "    directions[\"Cos_Wind Direction 100m\"] = np.cos(X['Wind Direction 100m']*(np.pi/180))\n",
        "    directions[\"Sin_Wind Direction 10m\"] = np.sin(X['Wind Direction 10m']*(np.pi/180))\n",
        "    directions[\"Cos_Wind Direction 10m\"] = np.cos(X['Wind Direction 10m']*(np.pi/180))\n",
        "    directions = directions.drop(['Wind Direction 100m', 'Wind Direction 10m'],axis=1)\n",
        "    directions = directions.reset_index().drop('Time',axis=1)\n",
        "\n",
        "    X = X.drop(['Wind Direction 100m', 'Wind Direction 10m'],axis=1)\n",
        "    X_columns = X.columns\n",
        "\n",
        "    X = scaler.fit_transform(X)\n",
        "    X = pd.DataFrame(X,columns=X_columns)\n",
        "    X = pd.concat([X,directions],axis=1)\n",
        "    X = pd.concat([X,X_saved_columns],axis=1)\n",
        "\n",
        "    processed_X = pd.concat([processed_X,X])\n",
        "\n",
        "  return processed_X,processed_y"
      ],
      "execution_count": 62,
      "outputs": []
    },
    {
      "cell_type": "code",
      "metadata": {
        "id": "RkoA61G8yCUW",
        "colab_type": "code",
        "colab": {
          "base_uri": "https://localhost:8080/",
          "height": 307
        },
        "outputId": "7a001b6d-d4f0-4a10-e86d-b61568168c20"
      },
      "source": [
        "full_data,full_label = preprocessing_net(full_data,full_label)"
      ],
      "execution_count": 63,
      "outputs": [
        {
          "output_type": "error",
          "ename": "KeyError",
          "evalue": "ignored",
          "traceback": [
            "\u001b[0;31m---------------------------------------------------------------------------\u001b[0m",
            "\u001b[0;31mKeyError\u001b[0m                                  Traceback (most recent call last)",
            "\u001b[0;32m<ipython-input-63-c1d45e79834a>\u001b[0m in \u001b[0;36m<module>\u001b[0;34m()\u001b[0m\n\u001b[0;32m----> 1\u001b[0;31m \u001b[0mfull_data\u001b[0m\u001b[0;34m,\u001b[0m\u001b[0mfull_label\u001b[0m \u001b[0;34m=\u001b[0m \u001b[0mpreprocessing_net\u001b[0m\u001b[0;34m(\u001b[0m\u001b[0mfull_data\u001b[0m\u001b[0;34m,\u001b[0m\u001b[0mfull_label\u001b[0m\u001b[0;34m)\u001b[0m\u001b[0;34m\u001b[0m\u001b[0;34m\u001b[0m\u001b[0m\n\u001b[0m",
            "\u001b[0;32m<ipython-input-62-60daa859754b>\u001b[0m in \u001b[0;36mpreprocessing_net\u001b[0;34m(full_X, full_y)\u001b[0m\n\u001b[1;32m     19\u001b[0m \u001b[0;34m\u001b[0m\u001b[0m\n\u001b[1;32m     20\u001b[0m     \u001b[0mX_saved_columns\u001b[0m \u001b[0;34m=\u001b[0m \u001b[0mX\u001b[0m\u001b[0;34m[\u001b[0m\u001b[0;34m[\u001b[0m\u001b[0;34m'ID'\u001b[0m\u001b[0;34m,\u001b[0m\u001b[0;34m'WF'\u001b[0m\u001b[0;34m,\u001b[0m\u001b[0;34m'Set'\u001b[0m\u001b[0;34m]\u001b[0m\u001b[0;34m]\u001b[0m\u001b[0;34m\u001b[0m\u001b[0;34m\u001b[0m\u001b[0m\n\u001b[0;32m---> 21\u001b[0;31m     \u001b[0mX_saved_columns\u001b[0m \u001b[0;34m=\u001b[0m \u001b[0mX_saved_columns\u001b[0m\u001b[0;34m.\u001b[0m\u001b[0mreset_index\u001b[0m\u001b[0;34m(\u001b[0m\u001b[0;34m)\u001b[0m\u001b[0;34m.\u001b[0m\u001b[0mdrop\u001b[0m\u001b[0;34m(\u001b[0m\u001b[0;34m'Time'\u001b[0m\u001b[0;34m,\u001b[0m\u001b[0maxis\u001b[0m\u001b[0;34m=\u001b[0m\u001b[0;36m1\u001b[0m\u001b[0;34m)\u001b[0m\u001b[0;34m\u001b[0m\u001b[0;34m\u001b[0m\u001b[0m\n\u001b[0m\u001b[1;32m     22\u001b[0m     \u001b[0mX\u001b[0m \u001b[0;34m=\u001b[0m \u001b[0mX\u001b[0m\u001b[0;34m.\u001b[0m\u001b[0mdrop\u001b[0m\u001b[0;34m(\u001b[0m\u001b[0;34m[\u001b[0m\u001b[0;34m'ID'\u001b[0m\u001b[0;34m,\u001b[0m\u001b[0;34m'WF'\u001b[0m\u001b[0;34m,\u001b[0m\u001b[0;34m'Set'\u001b[0m\u001b[0;34m]\u001b[0m\u001b[0;34m,\u001b[0m\u001b[0maxis\u001b[0m\u001b[0;34m=\u001b[0m\u001b[0;36m1\u001b[0m\u001b[0;34m)\u001b[0m\u001b[0;34m\u001b[0m\u001b[0;34m\u001b[0m\u001b[0m\n\u001b[1;32m     23\u001b[0m \u001b[0;34m\u001b[0m\u001b[0m\n",
            "\u001b[0;32m/usr/local/lib/python3.6/dist-packages/pandas/core/frame.py\u001b[0m in \u001b[0;36mdrop\u001b[0;34m(self, labels, axis, index, columns, level, inplace, errors)\u001b[0m\n\u001b[1;32m   3995\u001b[0m             \u001b[0mlevel\u001b[0m\u001b[0;34m=\u001b[0m\u001b[0mlevel\u001b[0m\u001b[0;34m,\u001b[0m\u001b[0;34m\u001b[0m\u001b[0;34m\u001b[0m\u001b[0m\n\u001b[1;32m   3996\u001b[0m             \u001b[0minplace\u001b[0m\u001b[0;34m=\u001b[0m\u001b[0minplace\u001b[0m\u001b[0;34m,\u001b[0m\u001b[0;34m\u001b[0m\u001b[0;34m\u001b[0m\u001b[0m\n\u001b[0;32m-> 3997\u001b[0;31m             \u001b[0merrors\u001b[0m\u001b[0;34m=\u001b[0m\u001b[0merrors\u001b[0m\u001b[0;34m,\u001b[0m\u001b[0;34m\u001b[0m\u001b[0;34m\u001b[0m\u001b[0m\n\u001b[0m\u001b[1;32m   3998\u001b[0m         )\n\u001b[1;32m   3999\u001b[0m \u001b[0;34m\u001b[0m\u001b[0m\n",
            "\u001b[0;32m/usr/local/lib/python3.6/dist-packages/pandas/core/generic.py\u001b[0m in \u001b[0;36mdrop\u001b[0;34m(self, labels, axis, index, columns, level, inplace, errors)\u001b[0m\n\u001b[1;32m   3934\u001b[0m         \u001b[0;32mfor\u001b[0m \u001b[0maxis\u001b[0m\u001b[0;34m,\u001b[0m \u001b[0mlabels\u001b[0m \u001b[0;32min\u001b[0m \u001b[0maxes\u001b[0m\u001b[0;34m.\u001b[0m\u001b[0mitems\u001b[0m\u001b[0;34m(\u001b[0m\u001b[0;34m)\u001b[0m\u001b[0;34m:\u001b[0m\u001b[0;34m\u001b[0m\u001b[0;34m\u001b[0m\u001b[0m\n\u001b[1;32m   3935\u001b[0m             \u001b[0;32mif\u001b[0m \u001b[0mlabels\u001b[0m \u001b[0;32mis\u001b[0m \u001b[0;32mnot\u001b[0m \u001b[0;32mNone\u001b[0m\u001b[0;34m:\u001b[0m\u001b[0;34m\u001b[0m\u001b[0;34m\u001b[0m\u001b[0m\n\u001b[0;32m-> 3936\u001b[0;31m                 \u001b[0mobj\u001b[0m \u001b[0;34m=\u001b[0m \u001b[0mobj\u001b[0m\u001b[0;34m.\u001b[0m\u001b[0m_drop_axis\u001b[0m\u001b[0;34m(\u001b[0m\u001b[0mlabels\u001b[0m\u001b[0;34m,\u001b[0m \u001b[0maxis\u001b[0m\u001b[0;34m,\u001b[0m \u001b[0mlevel\u001b[0m\u001b[0;34m=\u001b[0m\u001b[0mlevel\u001b[0m\u001b[0;34m,\u001b[0m \u001b[0merrors\u001b[0m\u001b[0;34m=\u001b[0m\u001b[0merrors\u001b[0m\u001b[0;34m)\u001b[0m\u001b[0;34m\u001b[0m\u001b[0;34m\u001b[0m\u001b[0m\n\u001b[0m\u001b[1;32m   3937\u001b[0m \u001b[0;34m\u001b[0m\u001b[0m\n\u001b[1;32m   3938\u001b[0m         \u001b[0;32mif\u001b[0m \u001b[0minplace\u001b[0m\u001b[0;34m:\u001b[0m\u001b[0;34m\u001b[0m\u001b[0;34m\u001b[0m\u001b[0m\n",
            "\u001b[0;32m/usr/local/lib/python3.6/dist-packages/pandas/core/generic.py\u001b[0m in \u001b[0;36m_drop_axis\u001b[0;34m(self, labels, axis, level, errors)\u001b[0m\n\u001b[1;32m   3968\u001b[0m                 \u001b[0mnew_axis\u001b[0m \u001b[0;34m=\u001b[0m \u001b[0maxis\u001b[0m\u001b[0;34m.\u001b[0m\u001b[0mdrop\u001b[0m\u001b[0;34m(\u001b[0m\u001b[0mlabels\u001b[0m\u001b[0;34m,\u001b[0m \u001b[0mlevel\u001b[0m\u001b[0;34m=\u001b[0m\u001b[0mlevel\u001b[0m\u001b[0;34m,\u001b[0m \u001b[0merrors\u001b[0m\u001b[0;34m=\u001b[0m\u001b[0merrors\u001b[0m\u001b[0;34m)\u001b[0m\u001b[0;34m\u001b[0m\u001b[0;34m\u001b[0m\u001b[0m\n\u001b[1;32m   3969\u001b[0m             \u001b[0;32melse\u001b[0m\u001b[0;34m:\u001b[0m\u001b[0;34m\u001b[0m\u001b[0;34m\u001b[0m\u001b[0m\n\u001b[0;32m-> 3970\u001b[0;31m                 \u001b[0mnew_axis\u001b[0m \u001b[0;34m=\u001b[0m \u001b[0maxis\u001b[0m\u001b[0;34m.\u001b[0m\u001b[0mdrop\u001b[0m\u001b[0;34m(\u001b[0m\u001b[0mlabels\u001b[0m\u001b[0;34m,\u001b[0m \u001b[0merrors\u001b[0m\u001b[0;34m=\u001b[0m\u001b[0merrors\u001b[0m\u001b[0;34m)\u001b[0m\u001b[0;34m\u001b[0m\u001b[0;34m\u001b[0m\u001b[0m\n\u001b[0m\u001b[1;32m   3971\u001b[0m             \u001b[0mresult\u001b[0m \u001b[0;34m=\u001b[0m \u001b[0mself\u001b[0m\u001b[0;34m.\u001b[0m\u001b[0mreindex\u001b[0m\u001b[0;34m(\u001b[0m\u001b[0;34m**\u001b[0m\u001b[0;34m{\u001b[0m\u001b[0maxis_name\u001b[0m\u001b[0;34m:\u001b[0m \u001b[0mnew_axis\u001b[0m\u001b[0;34m}\u001b[0m\u001b[0;34m)\u001b[0m\u001b[0;34m\u001b[0m\u001b[0;34m\u001b[0m\u001b[0m\n\u001b[1;32m   3972\u001b[0m \u001b[0;34m\u001b[0m\u001b[0m\n",
            "\u001b[0;32m/usr/local/lib/python3.6/dist-packages/pandas/core/indexes/base.py\u001b[0m in \u001b[0;36mdrop\u001b[0;34m(self, labels, errors)\u001b[0m\n\u001b[1;32m   5016\u001b[0m         \u001b[0;32mif\u001b[0m \u001b[0mmask\u001b[0m\u001b[0;34m.\u001b[0m\u001b[0many\u001b[0m\u001b[0;34m(\u001b[0m\u001b[0;34m)\u001b[0m\u001b[0;34m:\u001b[0m\u001b[0;34m\u001b[0m\u001b[0;34m\u001b[0m\u001b[0m\n\u001b[1;32m   5017\u001b[0m             \u001b[0;32mif\u001b[0m \u001b[0merrors\u001b[0m \u001b[0;34m!=\u001b[0m \u001b[0;34m\"ignore\"\u001b[0m\u001b[0;34m:\u001b[0m\u001b[0;34m\u001b[0m\u001b[0;34m\u001b[0m\u001b[0m\n\u001b[0;32m-> 5018\u001b[0;31m                 \u001b[0;32mraise\u001b[0m \u001b[0mKeyError\u001b[0m\u001b[0;34m(\u001b[0m\u001b[0;34mf\"{labels[mask]} not found in axis\"\u001b[0m\u001b[0;34m)\u001b[0m\u001b[0;34m\u001b[0m\u001b[0;34m\u001b[0m\u001b[0m\n\u001b[0m\u001b[1;32m   5019\u001b[0m             \u001b[0mindexer\u001b[0m \u001b[0;34m=\u001b[0m \u001b[0mindexer\u001b[0m\u001b[0;34m[\u001b[0m\u001b[0;34m~\u001b[0m\u001b[0mmask\u001b[0m\u001b[0;34m]\u001b[0m\u001b[0;34m\u001b[0m\u001b[0;34m\u001b[0m\u001b[0m\n\u001b[1;32m   5020\u001b[0m         \u001b[0;32mreturn\u001b[0m \u001b[0mself\u001b[0m\u001b[0;34m.\u001b[0m\u001b[0mdelete\u001b[0m\u001b[0;34m(\u001b[0m\u001b[0mindexer\u001b[0m\u001b[0;34m)\u001b[0m\u001b[0;34m\u001b[0m\u001b[0;34m\u001b[0m\u001b[0m\n",
            "\u001b[0;31mKeyError\u001b[0m: \"['Time'] not found in axis\""
          ]
        }
      ]
    },
    {
      "cell_type": "code",
      "metadata": {
        "id": "sLWLHcIG5HCv",
        "colab_type": "code",
        "colab": {
          "base_uri": "https://localhost:8080/",
          "height": 606
        },
        "outputId": "fb5052d6-15d2-4984-a07a-dad4ebade235"
      },
      "source": [
        "final_preds = np.empty(0)\n",
        "for WF in full_data['WF'].unique():\n",
        "  X_WF = full_data[full_data['WF']==WF]\n",
        "  full_X_train = X_WF[X_WF['Set']=='Train']\n",
        "  full_y_train = full_label[full_label['ID'].isin(full_X_train['ID'])]\n",
        "  full_X_test = X_WF[X_WF['Set']=='Test']\n",
        "\n",
        "  full_X_train = full_X_train.drop(['ID','WF','Set'],axis=1)\n",
        "  full_y_train = full_y_train.drop('ID',axis=1)\n",
        "\n",
        "\n",
        "  full_X_train, full_y_train = split_sequences(full_X_train.values,full_y_train.values,n_steps)\n",
        "\n",
        "  num_months = 8\n",
        "  WF_preds = np.empty(0)\n",
        "  predicted_X_test = np.empty((0,60,95))\n",
        "  for month in full_X_test['Month_Number'].unique():\n",
        "    X_test = full_X_test[full_X_test['Month_Number']==month]\n",
        "    X_test = X_test.drop(['ID','WF','Set'],axis=1)\n",
        "    X_test, _ = split_sequences(X_test.values,None,n_steps)\n",
        "\n",
        "    X_train = np.append(full_X_train,predicted_X_test,axis=0)\n",
        "    y_train = np.append(full_y_train,WF_preds,axis=0)\n",
        "\n",
        "    X_train, X_val, y_train, y_val = train_test_split(X_train, y_train, test_size=1/num_months, shuffle=False)\n",
        "\n",
        "    model = LSTM_Model(input_shape,batch_size=batch_size)\n",
        "    callbacks_list = [tf.keras.callbacks.EarlyStopping(monitor=monitor, patience=patience, verbose=0, min_delta=1e-8)]\n",
        "    model.compile(optimizer='adam', loss='mse', metrics=[tf.keras.metrics.RootMeanSquaredError()])\n",
        "    model.fit(x = X_train, y = y_train, batch_size = batch_size, epochs = epochs, validation_data = (X_val, y_val), callbacks=callbacks_list,shuffle=False)\n",
        "\n",
        "    pred = model.predict(X_test,batch_size = batch_size,callbacks=callbacks_list)\n",
        "    pred = scaler.inverse_transform(pred)\n",
        "    pred = pred.reshape(pred.shape[0])\n",
        "\n",
        "    predicted_X_test = np.append(predicted_X_test,X_test)\n",
        "    WF_preds = np.append(WF_preds,pred)\n",
        "    num_months = num_months + 1\n",
        "\n",
        "  final_preds = np.append(final_preds,WF_preds)"
      ],
      "execution_count": 50,
      "outputs": [
        {
          "output_type": "stream",
          "text": [
            "Epoch 1/10\n",
            "5407/5407 [==============================] - 35s 7ms/step - loss: 9003747.0000 - root_mean_squared_error: 3000.6245 - val_loss: 31032636.0000 - val_root_mean_squared_error: 5570.6943\n",
            "Epoch 2/10\n",
            "5407/5407 [==============================] - 35s 6ms/step - loss: 8057598.5000 - root_mean_squared_error: 2838.5908 - val_loss: 29027928.0000 - val_root_mean_squared_error: 5387.7573\n",
            "Epoch 3/10\n",
            "5407/5407 [==============================] - 35s 6ms/step - loss: 7238845.5000 - root_mean_squared_error: 2690.5103 - val_loss: 27130818.0000 - val_root_mean_squared_error: 5208.7251\n",
            "Epoch 4/10\n",
            "5407/5407 [==============================] - 35s 6ms/step - loss: 6498272.5000 - root_mean_squared_error: 2549.1709 - val_loss: 25335860.0000 - val_root_mean_squared_error: 5033.4741\n",
            "Epoch 5/10\n",
            "5407/5407 [==============================] - 35s 6ms/step - loss: 6383767.0000 - root_mean_squared_error: 2526.6118 - val_loss: 25139378.0000 - val_root_mean_squared_error: 5013.9185\n",
            "Epoch 6/10\n",
            "5407/5407 [==============================] - 35s 7ms/step - loss: 5815119.0000 - root_mean_squared_error: 2411.4558 - val_loss: 23715292.0000 - val_root_mean_squared_error: 4869.8350\n",
            "Epoch 7/10\n",
            "5407/5407 [==============================] - 35s 6ms/step - loss: 5293731.0000 - root_mean_squared_error: 2300.8110 - val_loss: 22365758.0000 - val_root_mean_squared_error: 4729.2451\n",
            "Epoch 8/10\n",
            "5407/5407 [==============================] - 36s 7ms/step - loss: 5426468.0000 - root_mean_squared_error: 2329.4780 - val_loss: 22440354.0000 - val_root_mean_squared_error: 4737.1250\n",
            "Epoch 9/10\n",
            "5407/5407 [==============================] - 35s 6ms/step - loss: 4694228.0000 - root_mean_squared_error: 2166.6167 - val_loss: 20794094.0000 - val_root_mean_squared_error: 4560.0542\n",
            "Epoch 10/10\n",
            "5407/5407 [==============================] - 35s 6ms/step - loss: 4081038.2500 - root_mean_squared_error: 2020.1580 - val_loss: 19071310.0000 - val_root_mean_squared_error: 4367.0713\n"
          ],
          "name": "stdout"
        },
        {
          "output_type": "error",
          "ename": "TypeError",
          "evalue": "ignored",
          "traceback": [
            "\u001b[0;31m---------------------------------------------------------------------------\u001b[0m",
            "\u001b[0;31mTypeError\u001b[0m                                 Traceback (most recent call last)",
            "\u001b[0;32m<ipython-input-50-9f5660f2354d>\u001b[0m in \u001b[0;36m<module>\u001b[0;34m()\u001b[0m\n\u001b[1;32m     34\u001b[0m     \u001b[0mpred\u001b[0m \u001b[0;34m=\u001b[0m \u001b[0mpred\u001b[0m\u001b[0;34m.\u001b[0m\u001b[0mreshape\u001b[0m\u001b[0;34m(\u001b[0m\u001b[0mpred\u001b[0m\u001b[0;34m.\u001b[0m\u001b[0mshape\u001b[0m\u001b[0;34m[\u001b[0m\u001b[0;36m0\u001b[0m\u001b[0;34m]\u001b[0m\u001b[0;34m)\u001b[0m\u001b[0;34m\u001b[0m\u001b[0;34m\u001b[0m\u001b[0m\n\u001b[1;32m     35\u001b[0m \u001b[0;34m\u001b[0m\u001b[0m\n\u001b[0;32m---> 36\u001b[0;31m     \u001b[0mpredicted_X_test\u001b[0m \u001b[0;34m=\u001b[0m \u001b[0mnp\u001b[0m\u001b[0;34m.\u001b[0m\u001b[0mappend\u001b[0m\u001b[0;34m(\u001b[0m\u001b[0;34m(\u001b[0m\u001b[0mpredicted_X_test\u001b[0m\u001b[0;34m,\u001b[0m\u001b[0mX_test\u001b[0m\u001b[0;34m)\u001b[0m\u001b[0;34m)\u001b[0m\u001b[0;34m\u001b[0m\u001b[0;34m\u001b[0m\u001b[0m\n\u001b[0m\u001b[1;32m     37\u001b[0m     \u001b[0mWF_preds\u001b[0m \u001b[0;34m=\u001b[0m \u001b[0mnp\u001b[0m\u001b[0;34m.\u001b[0m\u001b[0mappend\u001b[0m\u001b[0;34m(\u001b[0m\u001b[0;34m(\u001b[0m\u001b[0mWF_preds\u001b[0m\u001b[0;34m,\u001b[0m\u001b[0mpred\u001b[0m\u001b[0;34m)\u001b[0m\u001b[0;34m)\u001b[0m\u001b[0;34m\u001b[0m\u001b[0;34m\u001b[0m\u001b[0m\n\u001b[1;32m     38\u001b[0m     \u001b[0mnum_months\u001b[0m \u001b[0;34m=\u001b[0m \u001b[0mnum_months\u001b[0m \u001b[0;34m+\u001b[0m \u001b[0;36m1\u001b[0m\u001b[0;34m\u001b[0m\u001b[0;34m\u001b[0m\u001b[0m\n",
            "\u001b[0;32m<__array_function__ internals>\u001b[0m in \u001b[0;36mappend\u001b[0;34m(*args, **kwargs)\u001b[0m\n",
            "\u001b[0;31mTypeError\u001b[0m: _append_dispatcher() missing 1 required positional argument: 'values'"
          ]
        }
      ]
    },
    {
      "cell_type": "code",
      "metadata": {
        "id": "69WJoQn8kszv",
        "colab_type": "code",
        "colab": {
          "base_uri": "https://localhost:8080/",
          "height": 419
        },
        "outputId": "b8d32baf-b0be-4b3d-cdd3-763ca3e7ce9b"
      },
      "source": [
        "full_label"
      ],
      "execution_count": 61,
      "outputs": [
        {
          "output_type": "execute_result",
          "data": {
            "text/html": [
              "<div>\n",
              "<style scoped>\n",
              "    .dataframe tbody tr th:only-of-type {\n",
              "        vertical-align: middle;\n",
              "    }\n",
              "\n",
              "    .dataframe tbody tr th {\n",
              "        vertical-align: top;\n",
              "    }\n",
              "\n",
              "    .dataframe thead th {\n",
              "        text-align: right;\n",
              "    }\n",
              "</style>\n",
              "<table border=\"1\" class=\"dataframe\">\n",
              "  <thead>\n",
              "    <tr style=\"text-align: right;\">\n",
              "      <th></th>\n",
              "      <th>0</th>\n",
              "      <th>ID</th>\n",
              "    </tr>\n",
              "  </thead>\n",
              "  <tbody>\n",
              "    <tr>\n",
              "      <th>0</th>\n",
              "      <td>-0.996055</td>\n",
              "      <td>1.0</td>\n",
              "    </tr>\n",
              "    <tr>\n",
              "      <th>1</th>\n",
              "      <td>-0.986193</td>\n",
              "      <td>2.0</td>\n",
              "    </tr>\n",
              "    <tr>\n",
              "      <th>2</th>\n",
              "      <td>-0.956607</td>\n",
              "      <td>3.0</td>\n",
              "    </tr>\n",
              "    <tr>\n",
              "      <th>3</th>\n",
              "      <td>-0.923077</td>\n",
              "      <td>4.0</td>\n",
              "    </tr>\n",
              "    <tr>\n",
              "      <th>4</th>\n",
              "      <td>-0.919132</td>\n",
              "      <td>5.0</td>\n",
              "    </tr>\n",
              "    <tr>\n",
              "      <th>...</th>\n",
              "      <td>...</td>\n",
              "      <td>...</td>\n",
              "    </tr>\n",
              "    <tr>\n",
              "      <th>6234</th>\n",
              "      <td>-0.984221</td>\n",
              "      <td>37371.0</td>\n",
              "    </tr>\n",
              "    <tr>\n",
              "      <th>6235</th>\n",
              "      <td>-0.869822</td>\n",
              "      <td>37372.0</td>\n",
              "    </tr>\n",
              "    <tr>\n",
              "      <th>6236</th>\n",
              "      <td>-0.948718</td>\n",
              "      <td>37373.0</td>\n",
              "    </tr>\n",
              "    <tr>\n",
              "      <th>6237</th>\n",
              "      <td>-0.996055</td>\n",
              "      <td>37374.0</td>\n",
              "    </tr>\n",
              "    <tr>\n",
              "      <th>6238</th>\n",
              "      <td>-1.000000</td>\n",
              "      <td>37375.0</td>\n",
              "    </tr>\n",
              "  </tbody>\n",
              "</table>\n",
              "<p>37375 rows × 2 columns</p>\n",
              "</div>"
            ],
            "text/plain": [
              "             0       ID\n",
              "0    -0.996055      1.0\n",
              "1    -0.986193      2.0\n",
              "2    -0.956607      3.0\n",
              "3    -0.923077      4.0\n",
              "4    -0.919132      5.0\n",
              "...        ...      ...\n",
              "6234 -0.984221  37371.0\n",
              "6235 -0.869822  37372.0\n",
              "6236 -0.948718  37373.0\n",
              "6237 -0.996055  37374.0\n",
              "6238 -1.000000  37375.0\n",
              "\n",
              "[37375 rows x 2 columns]"
            ]
          },
          "metadata": {
            "tags": []
          },
          "execution_count": 61
        }
      ]
    },
    {
      "cell_type": "code",
      "metadata": {
        "id": "ncMFzJYqaF_q",
        "colab_type": "code",
        "colab": {}
      },
      "source": [
        "final_preds = final_preds.reset_index()\n",
        "final_preds = final_preds.drop('index',axis=1)"
      ],
      "execution_count": null,
      "outputs": []
    },
    {
      "cell_type": "code",
      "metadata": {
        "id": "bu6q2KZZNR3U",
        "colab_type": "code",
        "colab": {}
      },
      "source": [
        "final_preds['ID'] = pd.read_csv(r'C:\\Users\\andre_\\OneDrive\\Documentos\\GitHub\\cnr\\Data\\random_submission_example.csv')['ID']\n",
        "final_preds = final_preds.set_index('ID')"
      ],
      "execution_count": null,
      "outputs": []
    },
    {
      "cell_type": "code",
      "metadata": {
        "id": "8XMZasjfNVhk",
        "colab_type": "code",
        "colab": {}
      },
      "source": [
        "plt.plot(final_preds.index,final_preds['Production'])"
      ],
      "execution_count": null,
      "outputs": []
    },
    {
      "cell_type": "code",
      "metadata": {
        "id": "UvmNmz_tNXPm",
        "colab_type": "code",
        "colab": {}
      },
      "source": [
        "final_preds.to_csv(r'C:\\Users\\andre_\\OneDrive\\Documentos\\GitHub\\cnr\\Data/Submission_XGB.csv')"
      ],
      "execution_count": null,
      "outputs": []
    },
    {
      "cell_type": "markdown",
      "metadata": {
        "id": "Nm0ul0uJ8E6u",
        "colab_type": "text"
      },
      "source": [
        "### Tests"
      ]
    },
    {
      "cell_type": "code",
      "metadata": {
        "id": "LDqW3sQzn8eY",
        "colab_type": "code",
        "colab": {
          "base_uri": "https://localhost:8080/",
          "height": 34
        },
        "outputId": "1f9e860c-c7dc-47ce-bf1e-537c4837b873"
      },
      "source": [
        "X_train.shape"
      ],
      "execution_count": null,
      "outputs": [
        {
          "output_type": "execute_result",
          "data": {
            "text/plain": [
              "(6622, 95)"
            ]
          },
          "metadata": {
            "tags": []
          },
          "execution_count": 57
        }
      ]
    },
    {
      "cell_type": "code",
      "metadata": {
        "id": "KX3dO_vl3FsE",
        "colab_type": "code",
        "colab": {
          "base_uri": "https://localhost:8080/",
          "height": 34
        },
        "outputId": "6cb8e6bf-2dd8-463b-ddc9-b2e0b1f045cf"
      },
      "source": [
        "WF_preds.shape"
      ],
      "execution_count": null,
      "outputs": [
        {
          "output_type": "execute_result",
          "data": {
            "text/plain": [
              "(324, 2)"
            ]
          },
          "metadata": {
            "tags": []
          },
          "execution_count": 65
        }
      ]
    },
    {
      "cell_type": "code",
      "metadata": {
        "id": "7GHaHkcJ3HHS",
        "colab_type": "code",
        "colab": {
          "base_uri": "https://localhost:8080/",
          "height": 34
        },
        "outputId": "39ccefcb-c4ed-43cd-e44d-295f4a3f3f6f"
      },
      "source": [
        "predicted_X_test.shape"
      ],
      "execution_count": null,
      "outputs": [
        {
          "output_type": "execute_result",
          "data": {
            "text/plain": [
              "(383, 96)"
            ]
          },
          "metadata": {
            "tags": []
          },
          "execution_count": 64
        }
      ]
    },
    {
      "cell_type": "code",
      "metadata": {
        "id": "PrMgaKI33eTj",
        "colab_type": "code",
        "colab": {
          "base_uri": "https://localhost:8080/",
          "height": 34
        },
        "outputId": "8a2395fc-6669-4b34-904b-1e605957019a"
      },
      "source": [
        "predicted_X_test.empty"
      ],
      "execution_count": null,
      "outputs": [
        {
          "output_type": "execute_result",
          "data": {
            "text/plain": [
              "True"
            ]
          },
          "metadata": {
            "tags": []
          },
          "execution_count": 69
        }
      ]
    },
    {
      "cell_type": "code",
      "metadata": {
        "id": "HW7ueoei6bqZ",
        "colab_type": "code",
        "colab": {
          "base_uri": "https://localhost:8080/",
          "height": 49
        },
        "outputId": "65ac24f3-f773-4359-e742-a4229abed5c3"
      },
      "source": [
        "WF_preds"
      ],
      "execution_count": null,
      "outputs": [
        {
          "output_type": "execute_result",
          "data": {
            "text/html": [
              "<div>\n",
              "<style scoped>\n",
              "    .dataframe tbody tr th:only-of-type {\n",
              "        vertical-align: middle;\n",
              "    }\n",
              "\n",
              "    .dataframe tbody tr th {\n",
              "        vertical-align: top;\n",
              "    }\n",
              "\n",
              "    .dataframe thead th {\n",
              "        text-align: right;\n",
              "    }\n",
              "</style>\n",
              "<table border=\"1\" class=\"dataframe\">\n",
              "  <thead>\n",
              "    <tr style=\"text-align: right;\">\n",
              "      <th></th>\n",
              "      <th>ID</th>\n",
              "      <th>Production</th>\n",
              "    </tr>\n",
              "  </thead>\n",
              "  <tbody>\n",
              "  </tbody>\n",
              "</table>\n",
              "</div>"
            ],
            "text/plain": [
              "Empty DataFrame\n",
              "Columns: [ID, Production]\n",
              "Index: []"
            ]
          },
          "metadata": {
            "tags": []
          },
          "execution_count": 82
        }
      ]
    },
    {
      "cell_type": "code",
      "metadata": {
        "id": "PpJ5Yocn7aKD",
        "colab_type": "code",
        "colab": {
          "base_uri": "https://localhost:8080/",
          "height": 163
        },
        "outputId": "95344975-5038-4005-b51b-50fd67a813e0"
      },
      "source": [
        "predicted_X_test"
      ],
      "execution_count": null,
      "outputs": [
        {
          "output_type": "execute_result",
          "data": {
            "text/html": [
              "<div>\n",
              "<style scoped>\n",
              "    .dataframe tbody tr th:only-of-type {\n",
              "        vertical-align: middle;\n",
              "    }\n",
              "\n",
              "    .dataframe tbody tr th {\n",
              "        vertical-align: top;\n",
              "    }\n",
              "\n",
              "    .dataframe thead th {\n",
              "        text-align: right;\n",
              "    }\n",
              "</style>\n",
              "<table border=\"1\" class=\"dataframe\">\n",
              "  <thead>\n",
              "    <tr style=\"text-align: right;\">\n",
              "      <th></th>\n",
              "      <th>ID</th>\n",
              "      <th>WF</th>\n",
              "      <th>U_100m</th>\n",
              "      <th>V_100m</th>\n",
              "      <th>U_10m</th>\n",
              "      <th>V_10m</th>\n",
              "      <th>T</th>\n",
              "      <th>CLCT</th>\n",
              "      <th>Set</th>\n",
              "      <th>Wind Speed 100m</th>\n",
              "      <th>Wind Direction 100m</th>\n",
              "      <th>Wind Speed 10m</th>\n",
              "      <th>Wind Direction 10m</th>\n",
              "      <th>T_lag_7_days</th>\n",
              "      <th>T_lag_14_days</th>\n",
              "      <th>T_lag_21_days</th>\n",
              "      <th>CLCT_lag_7_days</th>\n",
              "      <th>CLCT_lag_14_days</th>\n",
              "      <th>CLCT_lag_21_days</th>\n",
              "      <th>U_100m_lag_7_days</th>\n",
              "      <th>U_100m_lag_14_days</th>\n",
              "      <th>U_100m_lag_21_days</th>\n",
              "      <th>V_100m_lag_7_days</th>\n",
              "      <th>V_100m_lag_14_days</th>\n",
              "      <th>V_100m_lag_21_days</th>\n",
              "      <th>U_10m_lag_7_days</th>\n",
              "      <th>U_10m_lag_14_days</th>\n",
              "      <th>U_10m_lag_21_days</th>\n",
              "      <th>V_10m_lag_7_days</th>\n",
              "      <th>V_10m_lag_14_days</th>\n",
              "      <th>V_10m_lag_21_days</th>\n",
              "      <th>Month_Number</th>\n",
              "      <th>T_Last_Month_Mean</th>\n",
              "      <th>CLCT_Last_Month_Mean</th>\n",
              "      <th>U_100m_Last_Month_Mean</th>\n",
              "      <th>V_100m_Last_Month_Mean</th>\n",
              "      <th>U_10m_Last_Month_Mean</th>\n",
              "      <th>V_10m_Last_Month_Mean</th>\n",
              "      <th>TLast_Month_Variance</th>\n",
              "      <th>CLCTLast_Month_Variance</th>\n",
              "      <th>...</th>\n",
              "      <th>CLCT_Distance_Max</th>\n",
              "      <th>CLCT_Distance_Min</th>\n",
              "      <th>U_100m_Distance_Max</th>\n",
              "      <th>U_100m_Distance_Min</th>\n",
              "      <th>V_100m_Distance_Max</th>\n",
              "      <th>V_100m_Distance_Min</th>\n",
              "      <th>U_10m_Distance_Max</th>\n",
              "      <th>U_10m_Distance_Min</th>\n",
              "      <th>V_10m_Distance_Max</th>\n",
              "      <th>V_10m_Distance_Min</th>\n",
              "      <th>T_Rolling_7_Window_Mean</th>\n",
              "      <th>T_Rolling_14_Window_Mean</th>\n",
              "      <th>T_Rolling_7_Window_Variance</th>\n",
              "      <th>T_Rolling_14_Window_Variance</th>\n",
              "      <th>CLCT_Rolling_7_Window_Mean</th>\n",
              "      <th>CLCT_Rolling_14_Window_Mean</th>\n",
              "      <th>CLCT_Rolling_7_Window_Variance</th>\n",
              "      <th>CLCT_Rolling_14_Window_Variance</th>\n",
              "      <th>U_100m_Rolling_7_Window_Mean</th>\n",
              "      <th>U_100m_Rolling_14_Window_Mean</th>\n",
              "      <th>U_100m_Rolling_7_Window_Variance</th>\n",
              "      <th>U_100m_Rolling_14_Window_Variance</th>\n",
              "      <th>V_100m_Rolling_7_Window_Mean</th>\n",
              "      <th>V_100m_Rolling_14_Window_Mean</th>\n",
              "      <th>V_100m_Rolling_7_Window_Variance</th>\n",
              "      <th>V_100m_Rolling_14_Window_Variance</th>\n",
              "      <th>U_10m_Rolling_7_Window_Mean</th>\n",
              "      <th>U_10m_Rolling_14_Window_Mean</th>\n",
              "      <th>U_10m_Rolling_7_Window_Variance</th>\n",
              "      <th>U_10m_Rolling_14_Window_Variance</th>\n",
              "      <th>V_10m_Rolling_7_Window_Mean</th>\n",
              "      <th>V_10m_Rolling_14_Window_Mean</th>\n",
              "      <th>V_10m_Rolling_7_Window_Variance</th>\n",
              "      <th>V_10m_Rolling_14_Window_Variance</th>\n",
              "      <th>T_Expanded_Window_Max</th>\n",
              "      <th>CLCT_Expanded_Window_Max</th>\n",
              "      <th>U_100m_Expanded_Window_Max</th>\n",
              "      <th>V_100m_Expanded_Window_Max</th>\n",
              "      <th>U_10m_Expanded_Window_Max</th>\n",
              "      <th>V_10m_Expanded_Window_Max</th>\n",
              "    </tr>\n",
              "    <tr>\n",
              "      <th>Time</th>\n",
              "      <th></th>\n",
              "      <th></th>\n",
              "      <th></th>\n",
              "      <th></th>\n",
              "      <th></th>\n",
              "      <th></th>\n",
              "      <th></th>\n",
              "      <th></th>\n",
              "      <th></th>\n",
              "      <th></th>\n",
              "      <th></th>\n",
              "      <th></th>\n",
              "      <th></th>\n",
              "      <th></th>\n",
              "      <th></th>\n",
              "      <th></th>\n",
              "      <th></th>\n",
              "      <th></th>\n",
              "      <th></th>\n",
              "      <th></th>\n",
              "      <th></th>\n",
              "      <th></th>\n",
              "      <th></th>\n",
              "      <th></th>\n",
              "      <th></th>\n",
              "      <th></th>\n",
              "      <th></th>\n",
              "      <th></th>\n",
              "      <th></th>\n",
              "      <th></th>\n",
              "      <th></th>\n",
              "      <th></th>\n",
              "      <th></th>\n",
              "      <th></th>\n",
              "      <th></th>\n",
              "      <th></th>\n",
              "      <th></th>\n",
              "      <th></th>\n",
              "      <th></th>\n",
              "      <th></th>\n",
              "      <th></th>\n",
              "      <th></th>\n",
              "      <th></th>\n",
              "      <th></th>\n",
              "      <th></th>\n",
              "      <th></th>\n",
              "      <th></th>\n",
              "      <th></th>\n",
              "      <th></th>\n",
              "      <th></th>\n",
              "      <th></th>\n",
              "      <th></th>\n",
              "      <th></th>\n",
              "      <th></th>\n",
              "      <th></th>\n",
              "      <th></th>\n",
              "      <th></th>\n",
              "      <th></th>\n",
              "      <th></th>\n",
              "      <th></th>\n",
              "      <th></th>\n",
              "      <th></th>\n",
              "      <th></th>\n",
              "      <th></th>\n",
              "      <th></th>\n",
              "      <th></th>\n",
              "      <th></th>\n",
              "      <th></th>\n",
              "      <th></th>\n",
              "      <th></th>\n",
              "      <th></th>\n",
              "      <th></th>\n",
              "      <th></th>\n",
              "      <th></th>\n",
              "      <th></th>\n",
              "      <th></th>\n",
              "      <th></th>\n",
              "      <th></th>\n",
              "      <th></th>\n",
              "      <th></th>\n",
              "      <th></th>\n",
              "    </tr>\n",
              "  </thead>\n",
              "  <tbody>\n",
              "  </tbody>\n",
              "</table>\n",
              "<p>0 rows × 96 columns</p>\n",
              "</div>"
            ],
            "text/plain": [
              "Empty DataFrame\n",
              "Columns: [ID, WF, U_100m, V_100m, U_10m, V_10m, T, CLCT, Set, Wind Speed 100m, Wind Direction 100m, Wind Speed 10m, Wind Direction 10m, T_lag_7_days, T_lag_14_days, T_lag_21_days, CLCT_lag_7_days, CLCT_lag_14_days, CLCT_lag_21_days, U_100m_lag_7_days, U_100m_lag_14_days, U_100m_lag_21_days, V_100m_lag_7_days, V_100m_lag_14_days, V_100m_lag_21_days, U_10m_lag_7_days, U_10m_lag_14_days, U_10m_lag_21_days, V_10m_lag_7_days, V_10m_lag_14_days, V_10m_lag_21_days, Month_Number, T_Last_Month_Mean, CLCT_Last_Month_Mean, U_100m_Last_Month_Mean, V_100m_Last_Month_Mean, U_10m_Last_Month_Mean, V_10m_Last_Month_Mean, TLast_Month_Variance, CLCTLast_Month_Variance, U_100mLast_Month_Variance, V_100mLast_Month_Variance, U_10mLast_Month_Variance, V_10mLast_Month_Variance, cos_day, sin_day, cos_hour, sin_hour, cos_minute, sin_minute, cos_dayofyear, sin_dayofyear, cos_dayofweek, sin_dayofweek, T_Distance_Max, T_Distance_Min, CLCT_Distance_Max, CLCT_Distance_Min, U_100m_Distance_Max, U_100m_Distance_Min, V_100m_Distance_Max, V_100m_Distance_Min, U_10m_Distance_Max, U_10m_Distance_Min, V_10m_Distance_Max, V_10m_Distance_Min, T_Rolling_7_Window_Mean, T_Rolling_14_Window_Mean, T_Rolling_7_Window_Variance, T_Rolling_14_Window_Variance, CLCT_Rolling_7_Window_Mean, CLCT_Rolling_14_Window_Mean, CLCT_Rolling_7_Window_Variance, CLCT_Rolling_14_Window_Variance, U_100m_Rolling_7_Window_Mean, U_100m_Rolling_14_Window_Mean, U_100m_Rolling_7_Window_Variance, U_100m_Rolling_14_Window_Variance, V_100m_Rolling_7_Window_Mean, V_100m_Rolling_14_Window_Mean, V_100m_Rolling_7_Window_Variance, V_100m_Rolling_14_Window_Variance, U_10m_Rolling_7_Window_Mean, U_10m_Rolling_14_Window_Mean, U_10m_Rolling_7_Window_Variance, U_10m_Rolling_14_Window_Variance, V_10m_Rolling_7_Window_Mean, V_10m_Rolling_14_Window_Mean, V_10m_Rolling_7_Window_Variance, V_10m_Rolling_14_Window_Variance, T_Expanded_Window_Max, CLCT_Expanded_Window_Max, U_100m_Expanded_Window_Max, V_100m_Expanded_Window_Max, U_10m_Expanded_Window_Max, V_10m_Expanded_Window_Max]\n",
              "Index: []\n",
              "\n",
              "[0 rows x 96 columns]"
            ]
          },
          "metadata": {
            "tags": []
          },
          "execution_count": 79
        }
      ]
    },
    {
      "cell_type": "code",
      "metadata": {
        "id": "wRRC2HUA7fCQ",
        "colab_type": "code",
        "colab": {}
      },
      "source": [
        ""
      ],
      "execution_count": null,
      "outputs": []
    }
  ]
}