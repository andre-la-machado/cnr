{
  "nbformat": 4,
  "nbformat_minor": 0,
  "metadata": {
    "language_info": {
      "codemirror_mode": {
        "name": "ipython",
        "version": 3
      },
      "file_extension": ".py",
      "mimetype": "text/x-python",
      "name": "python",
      "nbconvert_exporter": "python",
      "pygments_lexer": "ipython3",
      "version": "3.7.6-final"
    },
    "orig_nbformat": 2,
    "kernelspec": {
      "name": "python_defaultSpec_1596670974807",
      "display_name": "Python 3.7.6 64-bit ('base': conda)"
    },
    "colab": {
      "name": "modelling_lstm_colab.ipynb",
      "provenance": [],
      "toc_visible": true,
      "include_colab_link": true
    },
    "accelerator": "GPU"
  },
  "cells": [
    {
      "cell_type": "markdown",
      "metadata": {
        "id": "view-in-github",
        "colab_type": "text"
      },
      "source": [
        "<a href=\"https://colab.research.google.com/github/andre-la-machado/cnr/blob/master/modelling_lstm_colab.ipynb\" target=\"_parent\"><img src=\"https://colab.research.google.com/assets/colab-badge.svg\" alt=\"Open In Colab\"/></a>"
      ]
    },
    {
      "cell_type": "markdown",
      "metadata": {
        "id": "WUg3rsB0MaUT",
        "colab_type": "text"
      },
      "source": [
        "# LSTM Modelling"
      ]
    },
    {
      "cell_type": "markdown",
      "metadata": {
        "id": "d2sEClXHMaUU",
        "colab_type": "text"
      },
      "source": [
        "On this Notebook, a LSTM Model will be tried for the Competitition Data."
      ]
    },
    {
      "cell_type": "markdown",
      "metadata": {
        "id": "WgcFrkVNMaUV",
        "colab_type": "text"
      },
      "source": [
        "## Libraries"
      ]
    },
    {
      "cell_type": "code",
      "metadata": {
        "id": "gRldKXObNEeh",
        "colab_type": "code",
        "colab": {
          "base_uri": "https://localhost:8080/",
          "height": 34
        },
        "outputId": "252fb289-3bbc-4f09-a02f-dd054f05b66c"
      },
      "source": [
        "%pip uninstall -q -y tensorflow\n",
        "%pip install -q -U tensorflow-gpu>=2\n",
        "%reset -f"
      ],
      "execution_count": 29,
      "outputs": [
        {
          "output_type": "stream",
          "text": [
            "\u001b[33mWARNING: Skipping tensorflow as it is not installed.\u001b[0m\n"
          ],
          "name": "stdout"
        }
      ]
    },
    {
      "cell_type": "code",
      "metadata": {
        "id": "ZkGRpSoARdI6",
        "colab_type": "code",
        "colab": {
          "base_uri": "https://localhost:8080/",
          "height": 357
        },
        "outputId": "5d1425dc-905c-4bc0-9be8-9f3fde92353f"
      },
      "source": [
        "!nvidia-smi"
      ],
      "execution_count": 30,
      "outputs": [
        {
          "output_type": "stream",
          "text": [
            "Thu Sep 17 00:37:08 2020       \n",
            "+-----------------------------------------------------------------------------+\n",
            "| NVIDIA-SMI 450.66       Driver Version: 418.67       CUDA Version: 10.1     |\n",
            "|-------------------------------+----------------------+----------------------+\n",
            "| GPU  Name        Persistence-M| Bus-Id        Disp.A | Volatile Uncorr. ECC |\n",
            "| Fan  Temp  Perf  Pwr:Usage/Cap|         Memory-Usage | GPU-Util  Compute M. |\n",
            "|                               |                      |               MIG M. |\n",
            "|===============================+======================+======================|\n",
            "|   0  Tesla T4            Off  | 00000000:00:04.0 Off |                    0 |\n",
            "| N/A   77C    P0    33W /  70W |    787MiB / 15079MiB |      0%      Default |\n",
            "|                               |                      |                 ERR! |\n",
            "+-------------------------------+----------------------+----------------------+\n",
            "                                                                               \n",
            "+-----------------------------------------------------------------------------+\n",
            "| Processes:                                                                  |\n",
            "|  GPU   GI   CI        PID   Type   Process name                  GPU Memory |\n",
            "|        ID   ID                                                   Usage      |\n",
            "|=============================================================================|\n",
            "|  No running processes found                                                 |\n",
            "+-----------------------------------------------------------------------------+\n"
          ],
          "name": "stdout"
        }
      ]
    },
    {
      "cell_type": "code",
      "metadata": {
        "id": "xPzbEtzOMaUW",
        "colab_type": "code",
        "colab": {}
      },
      "source": [
        "import numpy as np\n",
        "import pandas as pd \n",
        "import matplotlib.pyplot as plt \n",
        "import seaborn as sns \n",
        "sns.set_style('darkgrid')\n",
        "from cnr_methods import get_selected_features, transform_data, revert_data, get_simplified_data\n",
        "import random\n",
        "\n",
        "from sklearn.model_selection import TimeSeriesSplit, train_test_split\n",
        "from sklearn.preprocessing import MinMaxScaler\n",
        "import tensorflow as tf\n",
        "from hyperopt import fmin, tpe, hp, Trials, STATUS_OK"
      ],
      "execution_count": 31,
      "outputs": []
    },
    {
      "cell_type": "code",
      "metadata": {
        "tags": [],
        "id": "EJt5BAyhMaUZ",
        "colab_type": "code",
        "colab": {
          "base_uri": "https://localhost:8080/",
          "height": 102
        },
        "outputId": "4b3fa743-2933-426d-dcda-b8f34090849e"
      },
      "source": [
        "import tensorflow as tf\n",
        "print(tf.test.is_built_with_cuda())  # Sanity check: GPU available to tf or not\n",
        "print(tf.test.is_built_with_gpu_support())\n",
        "print(tf.config.list_physical_devices('GPU'))\n",
        "print(tf.__version__)  # Check if __version__>=\"2.0.0\"\n",
        "print(tf.keras.__version__)"
      ],
      "execution_count": 32,
      "outputs": [
        {
          "output_type": "stream",
          "text": [
            "True\n",
            "True\n",
            "[PhysicalDevice(name='/physical_device:GPU:0', device_type='GPU')]\n",
            "2.3.0\n",
            "2.4.0\n"
          ],
          "name": "stdout"
        }
      ]
    },
    {
      "cell_type": "markdown",
      "metadata": {
        "id": "TfHnGOTHMaUd",
        "colab_type": "text"
      },
      "source": [
        "## Read Data"
      ]
    },
    {
      "cell_type": "markdown",
      "metadata": {
        "id": "AJx9hbTsMaUd",
        "colab_type": "text"
      },
      "source": [
        "Here, the data used correspond to the results of the Feature Engineering and Selection Step. For simplicity, during Hyperparameter Optimization, only Wind Farm 3 Training Data is used."
      ]
    },
    {
      "cell_type": "code",
      "metadata": {
        "id": "hzHSYL52MaUe",
        "colab_type": "code",
        "colab": {}
      },
      "source": [
        "full_data = pd.read_csv(\"Selected_Features_Data.csv\")\n",
        "\n",
        "#full_data = full_data.rename({'Unnamed: 0' : 'Time'},axis=1)\n",
        "full_data = full_data.set_index('Time')\n",
        "\n",
        "full_label = pd.read_csv('Y_train.csv')\n",
        "X = full_data[full_data['Set']=='Train']\n",
        "\n",
        "WF = 'WF3'\n",
        "X = X[X['WF']==WF]\n",
        "y = full_label[full_label['ID'].isin(X['ID'])]"
      ],
      "execution_count": 33,
      "outputs": []
    },
    {
      "cell_type": "code",
      "metadata": {
        "id": "K3dqO0HFMaUk",
        "colab_type": "code",
        "colab": {
          "base_uri": "https://localhost:8080/",
          "height": 488
        },
        "outputId": "c08c438d-a40e-47b8-e7ca-449ca92ea0f4"
      },
      "source": [
        "X.head()"
      ],
      "execution_count": 34,
      "outputs": [
        {
          "output_type": "execute_result",
          "data": {
            "text/html": [
              "<div>\n",
              "<style scoped>\n",
              "    .dataframe tbody tr th:only-of-type {\n",
              "        vertical-align: middle;\n",
              "    }\n",
              "\n",
              "    .dataframe tbody tr th {\n",
              "        vertical-align: top;\n",
              "    }\n",
              "\n",
              "    .dataframe thead th {\n",
              "        text-align: right;\n",
              "    }\n",
              "</style>\n",
              "<table border=\"1\" class=\"dataframe\">\n",
              "  <thead>\n",
              "    <tr style=\"text-align: right;\">\n",
              "      <th></th>\n",
              "      <th>ID</th>\n",
              "      <th>WF</th>\n",
              "      <th>U_100m</th>\n",
              "      <th>V_100m</th>\n",
              "      <th>U_10m</th>\n",
              "      <th>V_10m</th>\n",
              "      <th>T</th>\n",
              "      <th>CLCT</th>\n",
              "      <th>Set</th>\n",
              "      <th>Wind Speed 100m</th>\n",
              "      <th>Wind Direction 100m</th>\n",
              "      <th>Wind Speed 10m</th>\n",
              "      <th>Wind Direction 10m</th>\n",
              "      <th>T_lag_7_days</th>\n",
              "      <th>T_lag_14_days</th>\n",
              "      <th>T_lag_21_days</th>\n",
              "      <th>CLCT_lag_7_days</th>\n",
              "      <th>CLCT_lag_14_days</th>\n",
              "      <th>CLCT_lag_21_days</th>\n",
              "      <th>U_100m_lag_7_days</th>\n",
              "      <th>U_100m_lag_14_days</th>\n",
              "      <th>U_100m_lag_21_days</th>\n",
              "      <th>V_100m_lag_7_days</th>\n",
              "      <th>V_100m_lag_14_days</th>\n",
              "      <th>V_100m_lag_21_days</th>\n",
              "      <th>U_10m_lag_7_days</th>\n",
              "      <th>U_10m_lag_14_days</th>\n",
              "      <th>U_10m_lag_21_days</th>\n",
              "      <th>V_10m_lag_7_days</th>\n",
              "      <th>V_10m_lag_14_days</th>\n",
              "      <th>V_10m_lag_21_days</th>\n",
              "      <th>Month_Number</th>\n",
              "      <th>T_Last_Month_Mean</th>\n",
              "      <th>CLCT_Last_Month_Mean</th>\n",
              "      <th>U_100m_Last_Month_Mean</th>\n",
              "      <th>V_100m_Last_Month_Mean</th>\n",
              "      <th>U_10m_Last_Month_Mean</th>\n",
              "      <th>V_10m_Last_Month_Mean</th>\n",
              "      <th>TLast_Month_Variance</th>\n",
              "      <th>CLCTLast_Month_Variance</th>\n",
              "      <th>...</th>\n",
              "      <th>CLCT_Distance_Max</th>\n",
              "      <th>CLCT_Distance_Min</th>\n",
              "      <th>U_100m_Distance_Max</th>\n",
              "      <th>U_100m_Distance_Min</th>\n",
              "      <th>V_100m_Distance_Max</th>\n",
              "      <th>V_100m_Distance_Min</th>\n",
              "      <th>U_10m_Distance_Max</th>\n",
              "      <th>U_10m_Distance_Min</th>\n",
              "      <th>V_10m_Distance_Max</th>\n",
              "      <th>V_10m_Distance_Min</th>\n",
              "      <th>T_Rolling_7_Window_Mean</th>\n",
              "      <th>T_Rolling_14_Window_Mean</th>\n",
              "      <th>T_Rolling_7_Window_Variance</th>\n",
              "      <th>T_Rolling_14_Window_Variance</th>\n",
              "      <th>CLCT_Rolling_7_Window_Mean</th>\n",
              "      <th>CLCT_Rolling_14_Window_Mean</th>\n",
              "      <th>CLCT_Rolling_7_Window_Variance</th>\n",
              "      <th>CLCT_Rolling_14_Window_Variance</th>\n",
              "      <th>U_100m_Rolling_7_Window_Mean</th>\n",
              "      <th>U_100m_Rolling_14_Window_Mean</th>\n",
              "      <th>U_100m_Rolling_7_Window_Variance</th>\n",
              "      <th>U_100m_Rolling_14_Window_Variance</th>\n",
              "      <th>V_100m_Rolling_7_Window_Mean</th>\n",
              "      <th>V_100m_Rolling_14_Window_Mean</th>\n",
              "      <th>V_100m_Rolling_7_Window_Variance</th>\n",
              "      <th>V_100m_Rolling_14_Window_Variance</th>\n",
              "      <th>U_10m_Rolling_7_Window_Mean</th>\n",
              "      <th>U_10m_Rolling_14_Window_Mean</th>\n",
              "      <th>U_10m_Rolling_7_Window_Variance</th>\n",
              "      <th>U_10m_Rolling_14_Window_Variance</th>\n",
              "      <th>V_10m_Rolling_7_Window_Mean</th>\n",
              "      <th>V_10m_Rolling_14_Window_Mean</th>\n",
              "      <th>V_10m_Rolling_7_Window_Variance</th>\n",
              "      <th>V_10m_Rolling_14_Window_Variance</th>\n",
              "      <th>T_Expanded_Window_Max</th>\n",
              "      <th>CLCT_Expanded_Window_Max</th>\n",
              "      <th>U_100m_Expanded_Window_Max</th>\n",
              "      <th>V_100m_Expanded_Window_Max</th>\n",
              "      <th>U_10m_Expanded_Window_Max</th>\n",
              "      <th>V_10m_Expanded_Window_Max</th>\n",
              "    </tr>\n",
              "    <tr>\n",
              "      <th>Time</th>\n",
              "      <th></th>\n",
              "      <th></th>\n",
              "      <th></th>\n",
              "      <th></th>\n",
              "      <th></th>\n",
              "      <th></th>\n",
              "      <th></th>\n",
              "      <th></th>\n",
              "      <th></th>\n",
              "      <th></th>\n",
              "      <th></th>\n",
              "      <th></th>\n",
              "      <th></th>\n",
              "      <th></th>\n",
              "      <th></th>\n",
              "      <th></th>\n",
              "      <th></th>\n",
              "      <th></th>\n",
              "      <th></th>\n",
              "      <th></th>\n",
              "      <th></th>\n",
              "      <th></th>\n",
              "      <th></th>\n",
              "      <th></th>\n",
              "      <th></th>\n",
              "      <th></th>\n",
              "      <th></th>\n",
              "      <th></th>\n",
              "      <th></th>\n",
              "      <th></th>\n",
              "      <th></th>\n",
              "      <th></th>\n",
              "      <th></th>\n",
              "      <th></th>\n",
              "      <th></th>\n",
              "      <th></th>\n",
              "      <th></th>\n",
              "      <th></th>\n",
              "      <th></th>\n",
              "      <th></th>\n",
              "      <th></th>\n",
              "      <th></th>\n",
              "      <th></th>\n",
              "      <th></th>\n",
              "      <th></th>\n",
              "      <th></th>\n",
              "      <th></th>\n",
              "      <th></th>\n",
              "      <th></th>\n",
              "      <th></th>\n",
              "      <th></th>\n",
              "      <th></th>\n",
              "      <th></th>\n",
              "      <th></th>\n",
              "      <th></th>\n",
              "      <th></th>\n",
              "      <th></th>\n",
              "      <th></th>\n",
              "      <th></th>\n",
              "      <th></th>\n",
              "      <th></th>\n",
              "      <th></th>\n",
              "      <th></th>\n",
              "      <th></th>\n",
              "      <th></th>\n",
              "      <th></th>\n",
              "      <th></th>\n",
              "      <th></th>\n",
              "      <th></th>\n",
              "      <th></th>\n",
              "      <th></th>\n",
              "      <th></th>\n",
              "      <th></th>\n",
              "      <th></th>\n",
              "      <th></th>\n",
              "      <th></th>\n",
              "      <th></th>\n",
              "      <th></th>\n",
              "      <th></th>\n",
              "      <th></th>\n",
              "      <th></th>\n",
              "    </tr>\n",
              "  </thead>\n",
              "  <tbody>\n",
              "    <tr>\n",
              "      <th>2018-05-01 01:00:00</th>\n",
              "      <td>12479</td>\n",
              "      <td>WF3</td>\n",
              "      <td>5.789500</td>\n",
              "      <td>3.820200</td>\n",
              "      <td>1.054669</td>\n",
              "      <td>1.317597</td>\n",
              "      <td>275.690</td>\n",
              "      <td>86.504507</td>\n",
              "      <td>Train</td>\n",
              "      <td>6.936299</td>\n",
              "      <td>0.583268</td>\n",
              "      <td>1.687717</td>\n",
              "      <td>0.895782</td>\n",
              "      <td>NaN</td>\n",
              "      <td>NaN</td>\n",
              "      <td>NaN</td>\n",
              "      <td>NaN</td>\n",
              "      <td>NaN</td>\n",
              "      <td>NaN</td>\n",
              "      <td>NaN</td>\n",
              "      <td>NaN</td>\n",
              "      <td>NaN</td>\n",
              "      <td>NaN</td>\n",
              "      <td>NaN</td>\n",
              "      <td>NaN</td>\n",
              "      <td>NaN</td>\n",
              "      <td>NaN</td>\n",
              "      <td>NaN</td>\n",
              "      <td>NaN</td>\n",
              "      <td>NaN</td>\n",
              "      <td>NaN</td>\n",
              "      <td>5</td>\n",
              "      <td>NaN</td>\n",
              "      <td>NaN</td>\n",
              "      <td>NaN</td>\n",
              "      <td>NaN</td>\n",
              "      <td>NaN</td>\n",
              "      <td>NaN</td>\n",
              "      <td>NaN</td>\n",
              "      <td>NaN</td>\n",
              "      <td>...</td>\n",
              "      <td>-1</td>\n",
              "      <td>-2</td>\n",
              "      <td>-223</td>\n",
              "      <td>-201</td>\n",
              "      <td>-193</td>\n",
              "      <td>-160</td>\n",
              "      <td>-223</td>\n",
              "      <td>-227</td>\n",
              "      <td>-193</td>\n",
              "      <td>-14</td>\n",
              "      <td>NaN</td>\n",
              "      <td>NaN</td>\n",
              "      <td>NaN</td>\n",
              "      <td>NaN</td>\n",
              "      <td>NaN</td>\n",
              "      <td>NaN</td>\n",
              "      <td>NaN</td>\n",
              "      <td>NaN</td>\n",
              "      <td>NaN</td>\n",
              "      <td>NaN</td>\n",
              "      <td>NaN</td>\n",
              "      <td>NaN</td>\n",
              "      <td>NaN</td>\n",
              "      <td>NaN</td>\n",
              "      <td>NaN</td>\n",
              "      <td>NaN</td>\n",
              "      <td>NaN</td>\n",
              "      <td>NaN</td>\n",
              "      <td>NaN</td>\n",
              "      <td>NaN</td>\n",
              "      <td>NaN</td>\n",
              "      <td>NaN</td>\n",
              "      <td>NaN</td>\n",
              "      <td>NaN</td>\n",
              "      <td>275.690</td>\n",
              "      <td>86.504507</td>\n",
              "      <td>5.7895</td>\n",
              "      <td>3.8202</td>\n",
              "      <td>1.054669</td>\n",
              "      <td>1.317597</td>\n",
              "    </tr>\n",
              "    <tr>\n",
              "      <th>2018-05-01 02:00:00</th>\n",
              "      <td>12480</td>\n",
              "      <td>WF3</td>\n",
              "      <td>6.003300</td>\n",
              "      <td>3.920600</td>\n",
              "      <td>0.876879</td>\n",
              "      <td>1.483483</td>\n",
              "      <td>275.770</td>\n",
              "      <td>98.976088</td>\n",
              "      <td>Train</td>\n",
              "      <td>7.170127</td>\n",
              "      <td>0.578533</td>\n",
              "      <td>1.723264</td>\n",
              "      <td>1.036951</td>\n",
              "      <td>NaN</td>\n",
              "      <td>NaN</td>\n",
              "      <td>NaN</td>\n",
              "      <td>NaN</td>\n",
              "      <td>NaN</td>\n",
              "      <td>NaN</td>\n",
              "      <td>NaN</td>\n",
              "      <td>NaN</td>\n",
              "      <td>NaN</td>\n",
              "      <td>NaN</td>\n",
              "      <td>NaN</td>\n",
              "      <td>NaN</td>\n",
              "      <td>NaN</td>\n",
              "      <td>NaN</td>\n",
              "      <td>NaN</td>\n",
              "      <td>NaN</td>\n",
              "      <td>NaN</td>\n",
              "      <td>NaN</td>\n",
              "      <td>5</td>\n",
              "      <td>NaN</td>\n",
              "      <td>NaN</td>\n",
              "      <td>NaN</td>\n",
              "      <td>NaN</td>\n",
              "      <td>NaN</td>\n",
              "      <td>NaN</td>\n",
              "      <td>NaN</td>\n",
              "      <td>NaN</td>\n",
              "      <td>...</td>\n",
              "      <td>-1</td>\n",
              "      <td>-2</td>\n",
              "      <td>-223</td>\n",
              "      <td>-201</td>\n",
              "      <td>-193</td>\n",
              "      <td>-160</td>\n",
              "      <td>-223</td>\n",
              "      <td>-227</td>\n",
              "      <td>-193</td>\n",
              "      <td>-14</td>\n",
              "      <td>NaN</td>\n",
              "      <td>NaN</td>\n",
              "      <td>NaN</td>\n",
              "      <td>NaN</td>\n",
              "      <td>NaN</td>\n",
              "      <td>NaN</td>\n",
              "      <td>NaN</td>\n",
              "      <td>NaN</td>\n",
              "      <td>NaN</td>\n",
              "      <td>NaN</td>\n",
              "      <td>NaN</td>\n",
              "      <td>NaN</td>\n",
              "      <td>NaN</td>\n",
              "      <td>NaN</td>\n",
              "      <td>NaN</td>\n",
              "      <td>NaN</td>\n",
              "      <td>NaN</td>\n",
              "      <td>NaN</td>\n",
              "      <td>NaN</td>\n",
              "      <td>NaN</td>\n",
              "      <td>NaN</td>\n",
              "      <td>NaN</td>\n",
              "      <td>NaN</td>\n",
              "      <td>NaN</td>\n",
              "      <td>275.770</td>\n",
              "      <td>98.976088</td>\n",
              "      <td>6.0033</td>\n",
              "      <td>3.9206</td>\n",
              "      <td>1.054669</td>\n",
              "      <td>1.483483</td>\n",
              "    </tr>\n",
              "    <tr>\n",
              "      <th>2018-05-01 03:00:00</th>\n",
              "      <td>12481</td>\n",
              "      <td>WF3</td>\n",
              "      <td>5.931829</td>\n",
              "      <td>0.907656</td>\n",
              "      <td>0.949640</td>\n",
              "      <td>1.419591</td>\n",
              "      <td>276.875</td>\n",
              "      <td>64.193607</td>\n",
              "      <td>Train</td>\n",
              "      <td>6.000870</td>\n",
              "      <td>0.151837</td>\n",
              "      <td>1.707938</td>\n",
              "      <td>0.981212</td>\n",
              "      <td>NaN</td>\n",
              "      <td>NaN</td>\n",
              "      <td>NaN</td>\n",
              "      <td>NaN</td>\n",
              "      <td>NaN</td>\n",
              "      <td>NaN</td>\n",
              "      <td>NaN</td>\n",
              "      <td>NaN</td>\n",
              "      <td>NaN</td>\n",
              "      <td>NaN</td>\n",
              "      <td>NaN</td>\n",
              "      <td>NaN</td>\n",
              "      <td>NaN</td>\n",
              "      <td>NaN</td>\n",
              "      <td>NaN</td>\n",
              "      <td>NaN</td>\n",
              "      <td>NaN</td>\n",
              "      <td>NaN</td>\n",
              "      <td>5</td>\n",
              "      <td>NaN</td>\n",
              "      <td>NaN</td>\n",
              "      <td>NaN</td>\n",
              "      <td>NaN</td>\n",
              "      <td>NaN</td>\n",
              "      <td>NaN</td>\n",
              "      <td>NaN</td>\n",
              "      <td>NaN</td>\n",
              "      <td>...</td>\n",
              "      <td>-1</td>\n",
              "      <td>-2</td>\n",
              "      <td>-223</td>\n",
              "      <td>-201</td>\n",
              "      <td>-193</td>\n",
              "      <td>-160</td>\n",
              "      <td>-223</td>\n",
              "      <td>-227</td>\n",
              "      <td>-193</td>\n",
              "      <td>-14</td>\n",
              "      <td>NaN</td>\n",
              "      <td>NaN</td>\n",
              "      <td>NaN</td>\n",
              "      <td>NaN</td>\n",
              "      <td>NaN</td>\n",
              "      <td>NaN</td>\n",
              "      <td>NaN</td>\n",
              "      <td>NaN</td>\n",
              "      <td>NaN</td>\n",
              "      <td>NaN</td>\n",
              "      <td>NaN</td>\n",
              "      <td>NaN</td>\n",
              "      <td>NaN</td>\n",
              "      <td>NaN</td>\n",
              "      <td>NaN</td>\n",
              "      <td>NaN</td>\n",
              "      <td>NaN</td>\n",
              "      <td>NaN</td>\n",
              "      <td>NaN</td>\n",
              "      <td>NaN</td>\n",
              "      <td>NaN</td>\n",
              "      <td>NaN</td>\n",
              "      <td>NaN</td>\n",
              "      <td>NaN</td>\n",
              "      <td>276.875</td>\n",
              "      <td>98.976088</td>\n",
              "      <td>6.0033</td>\n",
              "      <td>3.9206</td>\n",
              "      <td>1.054669</td>\n",
              "      <td>1.483483</td>\n",
              "    </tr>\n",
              "    <tr>\n",
              "      <th>2018-05-01 04:00:00</th>\n",
              "      <td>12482</td>\n",
              "      <td>WF3</td>\n",
              "      <td>5.205300</td>\n",
              "      <td>1.683800</td>\n",
              "      <td>1.027462</td>\n",
              "      <td>1.029786</td>\n",
              "      <td>275.650</td>\n",
              "      <td>57.482484</td>\n",
              "      <td>Train</td>\n",
              "      <td>5.470862</td>\n",
              "      <td>0.312855</td>\n",
              "      <td>1.454695</td>\n",
              "      <td>0.786528</td>\n",
              "      <td>NaN</td>\n",
              "      <td>NaN</td>\n",
              "      <td>NaN</td>\n",
              "      <td>NaN</td>\n",
              "      <td>NaN</td>\n",
              "      <td>NaN</td>\n",
              "      <td>NaN</td>\n",
              "      <td>NaN</td>\n",
              "      <td>NaN</td>\n",
              "      <td>NaN</td>\n",
              "      <td>NaN</td>\n",
              "      <td>NaN</td>\n",
              "      <td>NaN</td>\n",
              "      <td>NaN</td>\n",
              "      <td>NaN</td>\n",
              "      <td>NaN</td>\n",
              "      <td>NaN</td>\n",
              "      <td>NaN</td>\n",
              "      <td>5</td>\n",
              "      <td>NaN</td>\n",
              "      <td>NaN</td>\n",
              "      <td>NaN</td>\n",
              "      <td>NaN</td>\n",
              "      <td>NaN</td>\n",
              "      <td>NaN</td>\n",
              "      <td>NaN</td>\n",
              "      <td>NaN</td>\n",
              "      <td>...</td>\n",
              "      <td>-1</td>\n",
              "      <td>-2</td>\n",
              "      <td>-223</td>\n",
              "      <td>-201</td>\n",
              "      <td>-193</td>\n",
              "      <td>-160</td>\n",
              "      <td>-223</td>\n",
              "      <td>-227</td>\n",
              "      <td>-193</td>\n",
              "      <td>-14</td>\n",
              "      <td>NaN</td>\n",
              "      <td>NaN</td>\n",
              "      <td>NaN</td>\n",
              "      <td>NaN</td>\n",
              "      <td>NaN</td>\n",
              "      <td>NaN</td>\n",
              "      <td>NaN</td>\n",
              "      <td>NaN</td>\n",
              "      <td>NaN</td>\n",
              "      <td>NaN</td>\n",
              "      <td>NaN</td>\n",
              "      <td>NaN</td>\n",
              "      <td>NaN</td>\n",
              "      <td>NaN</td>\n",
              "      <td>NaN</td>\n",
              "      <td>NaN</td>\n",
              "      <td>NaN</td>\n",
              "      <td>NaN</td>\n",
              "      <td>NaN</td>\n",
              "      <td>NaN</td>\n",
              "      <td>NaN</td>\n",
              "      <td>NaN</td>\n",
              "      <td>NaN</td>\n",
              "      <td>NaN</td>\n",
              "      <td>276.875</td>\n",
              "      <td>98.976088</td>\n",
              "      <td>6.0033</td>\n",
              "      <td>3.9206</td>\n",
              "      <td>1.054669</td>\n",
              "      <td>1.483483</td>\n",
              "    </tr>\n",
              "    <tr>\n",
              "      <th>2018-05-01 05:00:00</th>\n",
              "      <td>12483</td>\n",
              "      <td>WF3</td>\n",
              "      <td>4.845900</td>\n",
              "      <td>0.702200</td>\n",
              "      <td>1.011645</td>\n",
              "      <td>0.785352</td>\n",
              "      <td>275.530</td>\n",
              "      <td>89.971463</td>\n",
              "      <td>Train</td>\n",
              "      <td>4.896512</td>\n",
              "      <td>0.143904</td>\n",
              "      <td>1.280704</td>\n",
              "      <td>0.660129</td>\n",
              "      <td>NaN</td>\n",
              "      <td>NaN</td>\n",
              "      <td>NaN</td>\n",
              "      <td>NaN</td>\n",
              "      <td>NaN</td>\n",
              "      <td>NaN</td>\n",
              "      <td>NaN</td>\n",
              "      <td>NaN</td>\n",
              "      <td>NaN</td>\n",
              "      <td>NaN</td>\n",
              "      <td>NaN</td>\n",
              "      <td>NaN</td>\n",
              "      <td>NaN</td>\n",
              "      <td>NaN</td>\n",
              "      <td>NaN</td>\n",
              "      <td>NaN</td>\n",
              "      <td>NaN</td>\n",
              "      <td>NaN</td>\n",
              "      <td>5</td>\n",
              "      <td>NaN</td>\n",
              "      <td>NaN</td>\n",
              "      <td>NaN</td>\n",
              "      <td>NaN</td>\n",
              "      <td>NaN</td>\n",
              "      <td>NaN</td>\n",
              "      <td>NaN</td>\n",
              "      <td>NaN</td>\n",
              "      <td>...</td>\n",
              "      <td>-1</td>\n",
              "      <td>-2</td>\n",
              "      <td>-223</td>\n",
              "      <td>-201</td>\n",
              "      <td>-193</td>\n",
              "      <td>-159</td>\n",
              "      <td>-223</td>\n",
              "      <td>-227</td>\n",
              "      <td>-193</td>\n",
              "      <td>-14</td>\n",
              "      <td>NaN</td>\n",
              "      <td>NaN</td>\n",
              "      <td>NaN</td>\n",
              "      <td>NaN</td>\n",
              "      <td>NaN</td>\n",
              "      <td>NaN</td>\n",
              "      <td>NaN</td>\n",
              "      <td>NaN</td>\n",
              "      <td>NaN</td>\n",
              "      <td>NaN</td>\n",
              "      <td>NaN</td>\n",
              "      <td>NaN</td>\n",
              "      <td>NaN</td>\n",
              "      <td>NaN</td>\n",
              "      <td>NaN</td>\n",
              "      <td>NaN</td>\n",
              "      <td>NaN</td>\n",
              "      <td>NaN</td>\n",
              "      <td>NaN</td>\n",
              "      <td>NaN</td>\n",
              "      <td>NaN</td>\n",
              "      <td>NaN</td>\n",
              "      <td>NaN</td>\n",
              "      <td>NaN</td>\n",
              "      <td>276.875</td>\n",
              "      <td>98.976088</td>\n",
              "      <td>6.0033</td>\n",
              "      <td>3.9206</td>\n",
              "      <td>1.054669</td>\n",
              "      <td>1.483483</td>\n",
              "    </tr>\n",
              "  </tbody>\n",
              "</table>\n",
              "<p>5 rows × 96 columns</p>\n",
              "</div>"
            ],
            "text/plain": [
              "                        ID  ... V_10m_Expanded_Window_Max\n",
              "Time                        ...                          \n",
              "2018-05-01 01:00:00  12479  ...                  1.317597\n",
              "2018-05-01 02:00:00  12480  ...                  1.483483\n",
              "2018-05-01 03:00:00  12481  ...                  1.483483\n",
              "2018-05-01 04:00:00  12482  ...                  1.483483\n",
              "2018-05-01 05:00:00  12483  ...                  1.483483\n",
              "\n",
              "[5 rows x 96 columns]"
            ]
          },
          "metadata": {
            "tags": []
          },
          "execution_count": 34
        }
      ]
    },
    {
      "cell_type": "markdown",
      "metadata": {
        "id": "GDPihT4eMaUt",
        "colab_type": "text"
      },
      "source": [
        "## Scaling Data"
      ]
    },
    {
      "cell_type": "markdown",
      "metadata": {
        "id": "cK7eE4ZXdbyU",
        "colab_type": "text"
      },
      "source": [
        "For a better performance of the Network, here the data is scaled between [-1,1] using MinMaxScaler. For the Direction Data, presented in degrees, Sin and Cos are calculated, which naturally have values in this same scale."
      ]
    },
    {
      "cell_type": "code",
      "metadata": {
        "id": "hpn10ECJG97j",
        "colab_type": "code",
        "colab": {}
      },
      "source": [
        "def preprocessing_X(X):\n",
        "\n",
        "  scaler = MinMaxScaler(feature_range=(-1,1))\n",
        "\n",
        "  X_saved_columns = X[['ID','WF','Set','Month_Number']]\n",
        "  X_saved_columns = X_saved_columns.reset_index().drop('Time',axis=1)\n",
        "  X = X.drop(['ID','WF','Set','Month_Number'],axis=1)\n",
        "\n",
        "  # Fill NaN's\n",
        "  X = X.fillna(method=\"ffill\", axis=1) # ZOH\n",
        "  X = X.fillna(0)\n",
        "\n",
        "  # Scaling Data\n",
        "  directions = X[['Wind Direction 100m', 'Wind Direction 10m']]\n",
        "  directions[\"Sin_Wind Direction 100m\"] = np.sin(X['Wind Direction 100m']*(np.pi/180))\n",
        "  directions[\"Cos_Wind Direction 100m\"] = np.cos(X['Wind Direction 100m']*(np.pi/180))\n",
        "  directions[\"Sin_Wind Direction 10m\"] = np.sin(X['Wind Direction 10m']*(np.pi/180))\n",
        "  directions[\"Cos_Wind Direction 10m\"] = np.cos(X['Wind Direction 10m']*(np.pi/180))\n",
        "  directions = directions.drop(['Wind Direction 100m', 'Wind Direction 10m'],axis=1)\n",
        "  directions = directions.reset_index().drop('Time',axis=1)\n",
        "\n",
        "  X = X.drop(['Wind Direction 100m', 'Wind Direction 10m'],axis=1)\n",
        "  X_columns = X.columns\n",
        "\n",
        "  X = scaler.fit_transform(X)\n",
        "  X = pd.DataFrame(X,columns=X_columns)\n",
        "  X = pd.concat([X,directions],axis=1)\n",
        "  X = pd.concat([X,X_saved_columns],axis=1)\n",
        "\n",
        "  return X"
      ],
      "execution_count": 35,
      "outputs": []
    },
    {
      "cell_type": "code",
      "metadata": {
        "id": "b95dMH0BHFmN",
        "colab_type": "code",
        "colab": {}
      },
      "source": [
        "def preprocessing_y(y):\n",
        "\n",
        "  scaler = MinMaxScaler(feature_range=(-1,1))\n",
        "\n",
        "  y = y.fillna(method=\"ffill\", axis=1) # ZOH\n",
        "  y = y.fillna(0)\n",
        "  y = y.drop('ID',axis=1)\n",
        "  y = scaler.fit_transform(y)\n",
        "  y = pd.DataFrame(y)\n",
        "\n",
        "  return y,scaler"
      ],
      "execution_count": 36,
      "outputs": []
    },
    {
      "cell_type": "code",
      "metadata": {
        "id": "UreNMlu_UmBC",
        "colab_type": "code",
        "colab": {
          "base_uri": "https://localhost:8080/",
          "height": 34
        },
        "outputId": "5aae8a75-186e-4b21-b3b4-e93c8c7fadae"
      },
      "source": [
        "y.shape"
      ],
      "execution_count": 37,
      "outputs": [
        {
          "output_type": "execute_result",
          "data": {
            "text/plain": [
              "(6239, 2)"
            ]
          },
          "metadata": {
            "tags": []
          },
          "execution_count": 37
        }
      ]
    },
    {
      "cell_type": "markdown",
      "metadata": {
        "id": "ZOe3UyUzMaU_",
        "colab_type": "text"
      },
      "source": [
        "## Subsets Creation"
      ]
    },
    {
      "cell_type": "markdown",
      "metadata": {
        "id": "TdZ3SWMKMaU_",
        "colab_type": "text"
      },
      "source": [
        "Here, the Data is converted to a group of subsets where each subset has n_steps of past data."
      ]
    },
    {
      "cell_type": "code",
      "metadata": {
        "id": "m5ns8yzXMaU_",
        "colab_type": "code",
        "colab": {}
      },
      "source": [
        "n_steps = 30"
      ],
      "execution_count": 38,
      "outputs": []
    },
    {
      "cell_type": "code",
      "metadata": {
        "id": "A800bL_SMaVC",
        "colab_type": "code",
        "colab": {}
      },
      "source": [
        "# split a multivariate sequence into samples\n",
        "def split_sequences(X, y = None, n_steps = 1):\n",
        "\tsample_X, sample_y = list(), list()\n",
        "\tfor i in range(len(X)):\n",
        "\t\t# find the end of this pattern\n",
        "\t\tend_ix = i + n_steps\n",
        "\t\t# check if we are beyond the dataset\n",
        "\t\tif end_ix > len(X):\n",
        "\t\t\tbreak\n",
        "\t\t# gather input and output parts of the pattern\n",
        "\t\tseq_x = X[i:end_ix, :]\n",
        "\t\tsample_X.append(seq_x)\n",
        "\t\tif y is not None:\n",
        "\t\t\tseq_y = y[end_ix-1,-1]\n",
        "\t\t\tsample_y.append(seq_y)\n",
        "\treturn np.array(sample_X), np.array(sample_y)"
      ],
      "execution_count": 39,
      "outputs": []
    },
    {
      "cell_type": "code",
      "metadata": {
        "id": "okz8xasuzDXS",
        "colab_type": "code",
        "colab": {}
      },
      "source": [
        "def shift_save(df,n_steps):\n",
        "  empty = pd.DataFrame(np.zeros((n_steps-1,df.shape[1])),columns=df.columns)\n",
        "  df = pd.concat([empty,df])\n",
        "  return df"
      ],
      "execution_count": 40,
      "outputs": []
    },
    {
      "cell_type": "code",
      "metadata": {
        "id": "RCgXPLQ0MaVE",
        "colab_type": "code",
        "colab": {}
      },
      "source": [
        "sample_X,sample_y = split_sequences(X.values,y.values,n_steps)"
      ],
      "execution_count": 41,
      "outputs": []
    },
    {
      "cell_type": "code",
      "metadata": {
        "id": "3qSIjG8HMaVH",
        "colab_type": "code",
        "colab": {}
      },
      "source": [
        "n_features = sample_X.shape[2] - 2"
      ],
      "execution_count": 42,
      "outputs": []
    },
    {
      "cell_type": "markdown",
      "metadata": {
        "id": "JzkqvqX5MaVJ",
        "colab_type": "text"
      },
      "source": [
        "## Model"
      ]
    },
    {
      "cell_type": "markdown",
      "metadata": {
        "id": "USm2oSuSMaVK",
        "colab_type": "text"
      },
      "source": [
        "Here, a function to create the Model usin Keras is defined."
      ]
    },
    {
      "cell_type": "code",
      "metadata": {
        "id": "Lt8xYhd3MaVK",
        "colab_type": "code",
        "colab": {}
      },
      "source": [
        "def LSTM_Model(input_shape, batch_size=1):\n",
        "  # Numerical branch\n",
        "\n",
        "  input_layer = tf.keras.Input(shape = input_shape,batch_size = batch_size)\n",
        "\n",
        "  hidden_1 = tf.keras.layers.LSTM(units=128,return_sequences=True,stateful=True)(input_layer)\n",
        "  hidden_1 = tf.keras.layers.Dropout(0.2)(hidden_1)\n",
        "\n",
        "  hidden_2 = tf.keras.layers.LSTM(units=87,return_sequences=True,stateful=True)(hidden_1)\n",
        "  hidden_2 = tf.keras.layers.Dropout(0.2)(hidden_2)\n",
        "\n",
        "  hidden_3 = tf.keras.layers.LSTM(units=57,stateful=True)(hidden_2)\n",
        "  hidden_3 = tf.keras.layers.Dropout(0.2)(hidden_3)\n",
        "\n",
        "  # Output\n",
        "  #outputs = tf.keras.layers.PReLU()(hidden_2)\n",
        "  #outputs = tf.keras.layers.Dropout(rate=0.2)(hidden_2)\n",
        "  outputs = tf.keras.layers.Dense(units=1)(hidden_3)\n",
        "\n",
        "  model = tf.keras.Model(inputs=input_layer, outputs=outputs)\n",
        "\n",
        "  return model"
      ],
      "execution_count": 60,
      "outputs": []
    },
    {
      "cell_type": "code",
      "metadata": {
        "id": "IrjTyZ8KMaVM",
        "colab_type": "code",
        "colab": {}
      },
      "source": [
        "input_shape = (n_steps,n_features)"
      ],
      "execution_count": 44,
      "outputs": []
    },
    {
      "cell_type": "code",
      "metadata": {
        "tags": [],
        "id": "ja7P7f1HMaVO",
        "colab_type": "code",
        "colab": {}
      },
      "source": [
        "model = LSTM_Model(input_shape)"
      ],
      "execution_count": 45,
      "outputs": []
    },
    {
      "cell_type": "code",
      "metadata": {
        "tags": [],
        "id": "__ARBNVBMaVQ",
        "colab_type": "code",
        "colab": {
          "base_uri": "https://localhost:8080/",
          "height": 425
        },
        "outputId": "c455173c-c1f1-4d30-feef-136d774caa77"
      },
      "source": [
        "model.summary()"
      ],
      "execution_count": 46,
      "outputs": [
        {
          "output_type": "stream",
          "text": [
            "Model: \"functional_15\"\n",
            "_________________________________________________________________\n",
            "Layer (type)                 Output Shape              Param #   \n",
            "=================================================================\n",
            "input_8 (InputLayer)         [(1, 30, 94)]             0         \n",
            "_________________________________________________________________\n",
            "lstm_21 (LSTM)               (1, 30, 128)              114176    \n",
            "_________________________________________________________________\n",
            "dropout_21 (Dropout)         (1, 30, 128)              0         \n",
            "_________________________________________________________________\n",
            "lstm_22 (LSTM)               (1, 30, 87)               75168     \n",
            "_________________________________________________________________\n",
            "dropout_22 (Dropout)         (1, 30, 87)               0         \n",
            "_________________________________________________________________\n",
            "lstm_23 (LSTM)               (1, 57)                   33060     \n",
            "_________________________________________________________________\n",
            "dropout_23 (Dropout)         (1, 57)                   0         \n",
            "_________________________________________________________________\n",
            "dense_7 (Dense)              (1, 1)                    58        \n",
            "=================================================================\n",
            "Total params: 222,462\n",
            "Trainable params: 222,462\n",
            "Non-trainable params: 0\n",
            "_________________________________________________________________\n"
          ],
          "name": "stdout"
        }
      ]
    },
    {
      "cell_type": "markdown",
      "metadata": {
        "id": "JpR1xJhqMaVT",
        "colab_type": "text"
      },
      "source": [
        "## Validation"
      ]
    },
    {
      "cell_type": "code",
      "metadata": {
        "id": "Y4K8mWyxMaVW",
        "colab_type": "code",
        "colab": {}
      },
      "source": [
        "random.seed(317)\n",
        "tf.random.set_seed(317)\n",
        "\n",
        "patience = 3\n",
        "epochs = 10\n",
        "k_fold_splits = 5\n",
        "total_it = 50\n",
        "monitor = \"root_mean_squared_error\"\n",
        "batch_size = 1"
      ],
      "execution_count": 47,
      "outputs": []
    },
    {
      "cell_type": "code",
      "metadata": {
        "id": "mqDvZgJusJ6R",
        "colab_type": "code",
        "colab": {
          "base_uri": "https://localhost:8080/",
          "height": 1000
        },
        "outputId": "9936bb43-e325-4e8e-9063-5bee93a19762"
      },
      "source": [
        "# Define Time Split Cross Validation\n",
        "tscv = TimeSeriesSplit(n_splits=k_fold_splits)\n",
        "\n",
        "# Separating Data from Hold Out Set\n",
        "\n",
        "X_cv, _, y_cv, _ = train_test_split(X, y, test_size=0.125, shuffle=False)\n",
        "\n",
        "train_scores = np.empty(0)\n",
        "val_scores = np.empty(0)\n",
        "test_scores = np.empty(0)\n",
        "for train_index, test_index in tscv.split(X_cv):\n",
        "\n",
        "    #train_index = train_index[-n_rows:]\n",
        "    #test_index = test_index[-n_rows:]\n",
        "\n",
        "    # Get the Data of the Split\n",
        "    X_train, X_test = X_cv.iloc[train_index], X_cv.iloc[test_index]\n",
        "    y_train, y_test = y_cv.iloc[train_index], y_cv.iloc[test_index]\n",
        "\n",
        "    # Separating Training Set of Split on Train and Validation Subsets\n",
        "    X_train, X_val, y_train, y_val = train_test_split(X_train, y_train, test_size=0.143, shuffle=False)\n",
        "\n",
        "    # Preprocessing Data\n",
        "    X_train = preprocessing_X(X_train)\n",
        "    X_val = preprocessing_X(X_val)\n",
        "    X_test = preprocessing_X(X_test)\n",
        "\n",
        "    X_train = X_train.drop(['ID','WF','Set','Month_Number'],axis=1)\n",
        "    X_val = X_val.drop(['ID','WF','Set','Month_Number'],axis=1)\n",
        "    X_test = X_test.drop(['ID','WF','Set','Month_Number'],axis=1)\n",
        "\n",
        "    y_train,_ = preprocessing_y(y_train)\n",
        "    y_val,_ = preprocessing_y(y_val)\n",
        "    y_test,_ = preprocessing_y(y_test)\n",
        "\n",
        "    # Reshape Data\n",
        "    X_train, y_train = split_sequences(X_train.values,y_train.values,n_steps)\n",
        "    X_val, y_val = split_sequences(X_val.values,y_val.values,n_steps)\n",
        "    X_test, y_test = split_sequences(X_test.values,y_test.values,n_steps)\n",
        "\n",
        "    # Create Model\n",
        "    model = LSTM_Model(input_shape,batch_size=batch_size)\n",
        "\n",
        "    # Callbacks\n",
        "    callbacks_list = [tf.keras.callbacks.EarlyStopping(monitor=monitor, patience=patience, verbose=0, min_delta=1e-8)]\n",
        "\n",
        "    # Train the Model\n",
        "    model.compile(optimizer='adam', loss='mse', metrics=[tf.keras.metrics.RootMeanSquaredError()])\n",
        "    history = model.fit(x = X_train, y = y_train, batch_size = batch_size, epochs = epochs, validation_data = (X_val, y_val), callbacks=callbacks_list,shuffle=False)\n",
        "\n",
        "    # Train and Validation Score\n",
        "    train_score = np.array(history.history['root_mean_squared_error']).mean()\n",
        "    val_score = np.array(history.history['val_root_mean_squared_error']).mean()\n",
        "\n",
        "    # Test Score\n",
        "    preds = model.predict(X_test,batch_size = batch_size,callbacks=callbacks_list)\n",
        "    preds = tf.cast(preds, tf.float32)\n",
        "    y_test = tf.cast(y_test, tf.float32)\n",
        "\n",
        "    m = tf.keras.metrics.RootMeanSquaredError()\n",
        "    m.update_state(y_test,preds)\n",
        "    test_score = m.result().numpy()\n",
        "\n",
        "    train_scores = np.append(train_scores,train_score)\n",
        "    val_scores = np.append(val_scores,val_score)\n",
        "    test_scores = np.append(test_scores,test_score)"
      ],
      "execution_count": 48,
      "outputs": [
        {
          "output_type": "stream",
          "text": [
            "/usr/local/lib/python3.6/dist-packages/ipykernel_launcher.py:15: SettingWithCopyWarning: \n",
            "A value is trying to be set on a copy of a slice from a DataFrame.\n",
            "Try using .loc[row_indexer,col_indexer] = value instead\n",
            "\n",
            "See the caveats in the documentation: https://pandas.pydata.org/pandas-docs/stable/user_guide/indexing.html#returning-a-view-versus-a-copy\n",
            "  from ipykernel import kernelapp as app\n",
            "/usr/local/lib/python3.6/dist-packages/ipykernel_launcher.py:16: SettingWithCopyWarning: \n",
            "A value is trying to be set on a copy of a slice from a DataFrame.\n",
            "Try using .loc[row_indexer,col_indexer] = value instead\n",
            "\n",
            "See the caveats in the documentation: https://pandas.pydata.org/pandas-docs/stable/user_guide/indexing.html#returning-a-view-versus-a-copy\n",
            "  app.launch_new_instance()\n",
            "/usr/local/lib/python3.6/dist-packages/ipykernel_launcher.py:17: SettingWithCopyWarning: \n",
            "A value is trying to be set on a copy of a slice from a DataFrame.\n",
            "Try using .loc[row_indexer,col_indexer] = value instead\n",
            "\n",
            "See the caveats in the documentation: https://pandas.pydata.org/pandas-docs/stable/user_guide/indexing.html#returning-a-view-versus-a-copy\n",
            "/usr/local/lib/python3.6/dist-packages/ipykernel_launcher.py:18: SettingWithCopyWarning: \n",
            "A value is trying to be set on a copy of a slice from a DataFrame.\n",
            "Try using .loc[row_indexer,col_indexer] = value instead\n",
            "\n",
            "See the caveats in the documentation: https://pandas.pydata.org/pandas-docs/stable/user_guide/indexing.html#returning-a-view-versus-a-copy\n",
            "/usr/local/lib/python3.6/dist-packages/ipykernel_launcher.py:15: SettingWithCopyWarning: \n",
            "A value is trying to be set on a copy of a slice from a DataFrame.\n",
            "Try using .loc[row_indexer,col_indexer] = value instead\n",
            "\n",
            "See the caveats in the documentation: https://pandas.pydata.org/pandas-docs/stable/user_guide/indexing.html#returning-a-view-versus-a-copy\n",
            "  from ipykernel import kernelapp as app\n",
            "/usr/local/lib/python3.6/dist-packages/ipykernel_launcher.py:16: SettingWithCopyWarning: \n",
            "A value is trying to be set on a copy of a slice from a DataFrame.\n",
            "Try using .loc[row_indexer,col_indexer] = value instead\n",
            "\n",
            "See the caveats in the documentation: https://pandas.pydata.org/pandas-docs/stable/user_guide/indexing.html#returning-a-view-versus-a-copy\n",
            "  app.launch_new_instance()\n",
            "/usr/local/lib/python3.6/dist-packages/ipykernel_launcher.py:17: SettingWithCopyWarning: \n",
            "A value is trying to be set on a copy of a slice from a DataFrame.\n",
            "Try using .loc[row_indexer,col_indexer] = value instead\n",
            "\n",
            "See the caveats in the documentation: https://pandas.pydata.org/pandas-docs/stable/user_guide/indexing.html#returning-a-view-versus-a-copy\n",
            "/usr/local/lib/python3.6/dist-packages/ipykernel_launcher.py:18: SettingWithCopyWarning: \n",
            "A value is trying to be set on a copy of a slice from a DataFrame.\n",
            "Try using .loc[row_indexer,col_indexer] = value instead\n",
            "\n",
            "See the caveats in the documentation: https://pandas.pydata.org/pandas-docs/stable/user_guide/indexing.html#returning-a-view-versus-a-copy\n",
            "/usr/local/lib/python3.6/dist-packages/ipykernel_launcher.py:15: SettingWithCopyWarning: \n",
            "A value is trying to be set on a copy of a slice from a DataFrame.\n",
            "Try using .loc[row_indexer,col_indexer] = value instead\n",
            "\n",
            "See the caveats in the documentation: https://pandas.pydata.org/pandas-docs/stable/user_guide/indexing.html#returning-a-view-versus-a-copy\n",
            "  from ipykernel import kernelapp as app\n",
            "/usr/local/lib/python3.6/dist-packages/ipykernel_launcher.py:16: SettingWithCopyWarning: \n",
            "A value is trying to be set on a copy of a slice from a DataFrame.\n",
            "Try using .loc[row_indexer,col_indexer] = value instead\n",
            "\n",
            "See the caveats in the documentation: https://pandas.pydata.org/pandas-docs/stable/user_guide/indexing.html#returning-a-view-versus-a-copy\n",
            "  app.launch_new_instance()\n",
            "/usr/local/lib/python3.6/dist-packages/ipykernel_launcher.py:17: SettingWithCopyWarning: \n",
            "A value is trying to be set on a copy of a slice from a DataFrame.\n",
            "Try using .loc[row_indexer,col_indexer] = value instead\n",
            "\n",
            "See the caveats in the documentation: https://pandas.pydata.org/pandas-docs/stable/user_guide/indexing.html#returning-a-view-versus-a-copy\n",
            "/usr/local/lib/python3.6/dist-packages/ipykernel_launcher.py:18: SettingWithCopyWarning: \n",
            "A value is trying to be set on a copy of a slice from a DataFrame.\n",
            "Try using .loc[row_indexer,col_indexer] = value instead\n",
            "\n",
            "See the caveats in the documentation: https://pandas.pydata.org/pandas-docs/stable/user_guide/indexing.html#returning-a-view-versus-a-copy\n"
          ],
          "name": "stderr"
        },
        {
          "output_type": "stream",
          "text": [
            "Epoch 1/10\n",
            "754/754 [==============================] - 7s 9ms/step - loss: 0.1410 - root_mean_squared_error: 0.3755 - val_loss: 0.2070 - val_root_mean_squared_error: 0.4550\n",
            "Epoch 2/10\n",
            "754/754 [==============================] - 6s 8ms/step - loss: 0.1412 - root_mean_squared_error: 0.3757 - val_loss: 0.2148 - val_root_mean_squared_error: 0.4635\n",
            "Epoch 3/10\n",
            "754/754 [==============================] - 6s 8ms/step - loss: 0.1462 - root_mean_squared_error: 0.3823 - val_loss: 0.1871 - val_root_mean_squared_error: 0.4325\n",
            "Epoch 4/10\n",
            "754/754 [==============================] - 6s 8ms/step - loss: 0.1348 - root_mean_squared_error: 0.3672 - val_loss: 0.1772 - val_root_mean_squared_error: 0.4209\n",
            "Epoch 5/10\n",
            "754/754 [==============================] - 6s 8ms/step - loss: 0.1062 - root_mean_squared_error: 0.3260 - val_loss: 0.1166 - val_root_mean_squared_error: 0.3414\n",
            "Epoch 6/10\n",
            "754/754 [==============================] - 6s 8ms/step - loss: 0.1102 - root_mean_squared_error: 0.3320 - val_loss: 0.1473 - val_root_mean_squared_error: 0.3838\n",
            "Epoch 7/10\n",
            "754/754 [==============================] - 6s 8ms/step - loss: 0.0844 - root_mean_squared_error: 0.2905 - val_loss: 0.1027 - val_root_mean_squared_error: 0.3204\n",
            "Epoch 8/10\n",
            "754/754 [==============================] - 6s 8ms/step - loss: 0.0721 - root_mean_squared_error: 0.2686 - val_loss: 0.1332 - val_root_mean_squared_error: 0.3649\n",
            "Epoch 9/10\n",
            "754/754 [==============================] - 6s 8ms/step - loss: 0.0699 - root_mean_squared_error: 0.2643 - val_loss: 0.1285 - val_root_mean_squared_error: 0.3584\n",
            "Epoch 10/10\n",
            "754/754 [==============================] - 6s 8ms/step - loss: 0.0711 - root_mean_squared_error: 0.2667 - val_loss: 0.1204 - val_root_mean_squared_error: 0.3470\n"
          ],
          "name": "stdout"
        },
        {
          "output_type": "stream",
          "text": [
            "/usr/local/lib/python3.6/dist-packages/ipykernel_launcher.py:15: SettingWithCopyWarning: \n",
            "A value is trying to be set on a copy of a slice from a DataFrame.\n",
            "Try using .loc[row_indexer,col_indexer] = value instead\n",
            "\n",
            "See the caveats in the documentation: https://pandas.pydata.org/pandas-docs/stable/user_guide/indexing.html#returning-a-view-versus-a-copy\n",
            "  from ipykernel import kernelapp as app\n",
            "/usr/local/lib/python3.6/dist-packages/ipykernel_launcher.py:16: SettingWithCopyWarning: \n",
            "A value is trying to be set on a copy of a slice from a DataFrame.\n",
            "Try using .loc[row_indexer,col_indexer] = value instead\n",
            "\n",
            "See the caveats in the documentation: https://pandas.pydata.org/pandas-docs/stable/user_guide/indexing.html#returning-a-view-versus-a-copy\n",
            "  app.launch_new_instance()\n",
            "/usr/local/lib/python3.6/dist-packages/ipykernel_launcher.py:17: SettingWithCopyWarning: \n",
            "A value is trying to be set on a copy of a slice from a DataFrame.\n",
            "Try using .loc[row_indexer,col_indexer] = value instead\n",
            "\n",
            "See the caveats in the documentation: https://pandas.pydata.org/pandas-docs/stable/user_guide/indexing.html#returning-a-view-versus-a-copy\n",
            "/usr/local/lib/python3.6/dist-packages/ipykernel_launcher.py:18: SettingWithCopyWarning: \n",
            "A value is trying to be set on a copy of a slice from a DataFrame.\n",
            "Try using .loc[row_indexer,col_indexer] = value instead\n",
            "\n",
            "See the caveats in the documentation: https://pandas.pydata.org/pandas-docs/stable/user_guide/indexing.html#returning-a-view-versus-a-copy\n",
            "/usr/local/lib/python3.6/dist-packages/ipykernel_launcher.py:15: SettingWithCopyWarning: \n",
            "A value is trying to be set on a copy of a slice from a DataFrame.\n",
            "Try using .loc[row_indexer,col_indexer] = value instead\n",
            "\n",
            "See the caveats in the documentation: https://pandas.pydata.org/pandas-docs/stable/user_guide/indexing.html#returning-a-view-versus-a-copy\n",
            "  from ipykernel import kernelapp as app\n",
            "/usr/local/lib/python3.6/dist-packages/ipykernel_launcher.py:16: SettingWithCopyWarning: \n",
            "A value is trying to be set on a copy of a slice from a DataFrame.\n",
            "Try using .loc[row_indexer,col_indexer] = value instead\n",
            "\n",
            "See the caveats in the documentation: https://pandas.pydata.org/pandas-docs/stable/user_guide/indexing.html#returning-a-view-versus-a-copy\n",
            "  app.launch_new_instance()\n",
            "/usr/local/lib/python3.6/dist-packages/ipykernel_launcher.py:17: SettingWithCopyWarning: \n",
            "A value is trying to be set on a copy of a slice from a DataFrame.\n",
            "Try using .loc[row_indexer,col_indexer] = value instead\n",
            "\n",
            "See the caveats in the documentation: https://pandas.pydata.org/pandas-docs/stable/user_guide/indexing.html#returning-a-view-versus-a-copy\n",
            "/usr/local/lib/python3.6/dist-packages/ipykernel_launcher.py:18: SettingWithCopyWarning: \n",
            "A value is trying to be set on a copy of a slice from a DataFrame.\n",
            "Try using .loc[row_indexer,col_indexer] = value instead\n",
            "\n",
            "See the caveats in the documentation: https://pandas.pydata.org/pandas-docs/stable/user_guide/indexing.html#returning-a-view-versus-a-copy\n",
            "/usr/local/lib/python3.6/dist-packages/ipykernel_launcher.py:15: SettingWithCopyWarning: \n",
            "A value is trying to be set on a copy of a slice from a DataFrame.\n",
            "Try using .loc[row_indexer,col_indexer] = value instead\n",
            "\n",
            "See the caveats in the documentation: https://pandas.pydata.org/pandas-docs/stable/user_guide/indexing.html#returning-a-view-versus-a-copy\n",
            "  from ipykernel import kernelapp as app\n",
            "/usr/local/lib/python3.6/dist-packages/ipykernel_launcher.py:16: SettingWithCopyWarning: \n",
            "A value is trying to be set on a copy of a slice from a DataFrame.\n",
            "Try using .loc[row_indexer,col_indexer] = value instead\n",
            "\n",
            "See the caveats in the documentation: https://pandas.pydata.org/pandas-docs/stable/user_guide/indexing.html#returning-a-view-versus-a-copy\n",
            "  app.launch_new_instance()\n",
            "/usr/local/lib/python3.6/dist-packages/ipykernel_launcher.py:17: SettingWithCopyWarning: \n",
            "A value is trying to be set on a copy of a slice from a DataFrame.\n",
            "Try using .loc[row_indexer,col_indexer] = value instead\n",
            "\n",
            "See the caveats in the documentation: https://pandas.pydata.org/pandas-docs/stable/user_guide/indexing.html#returning-a-view-versus-a-copy\n",
            "/usr/local/lib/python3.6/dist-packages/ipykernel_launcher.py:18: SettingWithCopyWarning: \n",
            "A value is trying to be set on a copy of a slice from a DataFrame.\n",
            "Try using .loc[row_indexer,col_indexer] = value instead\n",
            "\n",
            "See the caveats in the documentation: https://pandas.pydata.org/pandas-docs/stable/user_guide/indexing.html#returning-a-view-versus-a-copy\n"
          ],
          "name": "stderr"
        },
        {
          "output_type": "stream",
          "text": [
            "Epoch 1/10\n",
            "1533/1533 [==============================] - 13s 8ms/step - loss: 0.1142 - root_mean_squared_error: 0.3380 - val_loss: 0.1843 - val_root_mean_squared_error: 0.4293\n",
            "Epoch 2/10\n",
            "1533/1533 [==============================] - 12s 8ms/step - loss: 0.1024 - root_mean_squared_error: 0.3201 - val_loss: 0.2341 - val_root_mean_squared_error: 0.4839\n",
            "Epoch 3/10\n",
            "1533/1533 [==============================] - 12s 8ms/step - loss: 0.1076 - root_mean_squared_error: 0.3281 - val_loss: 0.1753 - val_root_mean_squared_error: 0.4186\n",
            "Epoch 4/10\n",
            "1533/1533 [==============================] - 12s 8ms/step - loss: 0.1041 - root_mean_squared_error: 0.3226 - val_loss: 0.1681 - val_root_mean_squared_error: 0.4100\n",
            "Epoch 5/10\n",
            "1533/1533 [==============================] - 12s 8ms/step - loss: 0.0932 - root_mean_squared_error: 0.3052 - val_loss: 0.1387 - val_root_mean_squared_error: 0.3724\n",
            "Epoch 6/10\n",
            "1533/1533 [==============================] - 12s 8ms/step - loss: 0.0763 - root_mean_squared_error: 0.2763 - val_loss: 0.3257 - val_root_mean_squared_error: 0.5707\n",
            "Epoch 7/10\n",
            "1533/1533 [==============================] - 12s 8ms/step - loss: 0.0646 - root_mean_squared_error: 0.2542 - val_loss: 0.4073 - val_root_mean_squared_error: 0.6382\n",
            "Epoch 8/10\n",
            "1533/1533 [==============================] - 12s 8ms/step - loss: 0.0674 - root_mean_squared_error: 0.2596 - val_loss: 0.1955 - val_root_mean_squared_error: 0.4422\n",
            "Epoch 9/10\n",
            "1533/1533 [==============================] - 12s 8ms/step - loss: 0.0520 - root_mean_squared_error: 0.2280 - val_loss: 0.1929 - val_root_mean_squared_error: 0.4392\n",
            "Epoch 10/10\n",
            "1533/1533 [==============================] - 12s 8ms/step - loss: 0.0514 - root_mean_squared_error: 0.2268 - val_loss: 0.2399 - val_root_mean_squared_error: 0.4898\n"
          ],
          "name": "stdout"
        },
        {
          "output_type": "stream",
          "text": [
            "/usr/local/lib/python3.6/dist-packages/ipykernel_launcher.py:15: SettingWithCopyWarning: \n",
            "A value is trying to be set on a copy of a slice from a DataFrame.\n",
            "Try using .loc[row_indexer,col_indexer] = value instead\n",
            "\n",
            "See the caveats in the documentation: https://pandas.pydata.org/pandas-docs/stable/user_guide/indexing.html#returning-a-view-versus-a-copy\n",
            "  from ipykernel import kernelapp as app\n",
            "/usr/local/lib/python3.6/dist-packages/ipykernel_launcher.py:16: SettingWithCopyWarning: \n",
            "A value is trying to be set on a copy of a slice from a DataFrame.\n",
            "Try using .loc[row_indexer,col_indexer] = value instead\n",
            "\n",
            "See the caveats in the documentation: https://pandas.pydata.org/pandas-docs/stable/user_guide/indexing.html#returning-a-view-versus-a-copy\n",
            "  app.launch_new_instance()\n",
            "/usr/local/lib/python3.6/dist-packages/ipykernel_launcher.py:17: SettingWithCopyWarning: \n",
            "A value is trying to be set on a copy of a slice from a DataFrame.\n",
            "Try using .loc[row_indexer,col_indexer] = value instead\n",
            "\n",
            "See the caveats in the documentation: https://pandas.pydata.org/pandas-docs/stable/user_guide/indexing.html#returning-a-view-versus-a-copy\n",
            "/usr/local/lib/python3.6/dist-packages/ipykernel_launcher.py:18: SettingWithCopyWarning: \n",
            "A value is trying to be set on a copy of a slice from a DataFrame.\n",
            "Try using .loc[row_indexer,col_indexer] = value instead\n",
            "\n",
            "See the caveats in the documentation: https://pandas.pydata.org/pandas-docs/stable/user_guide/indexing.html#returning-a-view-versus-a-copy\n",
            "/usr/local/lib/python3.6/dist-packages/ipykernel_launcher.py:15: SettingWithCopyWarning: \n",
            "A value is trying to be set on a copy of a slice from a DataFrame.\n",
            "Try using .loc[row_indexer,col_indexer] = value instead\n",
            "\n",
            "See the caveats in the documentation: https://pandas.pydata.org/pandas-docs/stable/user_guide/indexing.html#returning-a-view-versus-a-copy\n",
            "  from ipykernel import kernelapp as app\n",
            "/usr/local/lib/python3.6/dist-packages/ipykernel_launcher.py:16: SettingWithCopyWarning: \n",
            "A value is trying to be set on a copy of a slice from a DataFrame.\n",
            "Try using .loc[row_indexer,col_indexer] = value instead\n",
            "\n",
            "See the caveats in the documentation: https://pandas.pydata.org/pandas-docs/stable/user_guide/indexing.html#returning-a-view-versus-a-copy\n",
            "  app.launch_new_instance()\n",
            "/usr/local/lib/python3.6/dist-packages/ipykernel_launcher.py:17: SettingWithCopyWarning: \n",
            "A value is trying to be set on a copy of a slice from a DataFrame.\n",
            "Try using .loc[row_indexer,col_indexer] = value instead\n",
            "\n",
            "See the caveats in the documentation: https://pandas.pydata.org/pandas-docs/stable/user_guide/indexing.html#returning-a-view-versus-a-copy\n",
            "/usr/local/lib/python3.6/dist-packages/ipykernel_launcher.py:18: SettingWithCopyWarning: \n",
            "A value is trying to be set on a copy of a slice from a DataFrame.\n",
            "Try using .loc[row_indexer,col_indexer] = value instead\n",
            "\n",
            "See the caveats in the documentation: https://pandas.pydata.org/pandas-docs/stable/user_guide/indexing.html#returning-a-view-versus-a-copy\n",
            "/usr/local/lib/python3.6/dist-packages/ipykernel_launcher.py:15: SettingWithCopyWarning: \n",
            "A value is trying to be set on a copy of a slice from a DataFrame.\n",
            "Try using .loc[row_indexer,col_indexer] = value instead\n",
            "\n",
            "See the caveats in the documentation: https://pandas.pydata.org/pandas-docs/stable/user_guide/indexing.html#returning-a-view-versus-a-copy\n",
            "  from ipykernel import kernelapp as app\n",
            "/usr/local/lib/python3.6/dist-packages/ipykernel_launcher.py:16: SettingWithCopyWarning: \n",
            "A value is trying to be set on a copy of a slice from a DataFrame.\n",
            "Try using .loc[row_indexer,col_indexer] = value instead\n",
            "\n",
            "See the caveats in the documentation: https://pandas.pydata.org/pandas-docs/stable/user_guide/indexing.html#returning-a-view-versus-a-copy\n",
            "  app.launch_new_instance()\n",
            "/usr/local/lib/python3.6/dist-packages/ipykernel_launcher.py:17: SettingWithCopyWarning: \n",
            "A value is trying to be set on a copy of a slice from a DataFrame.\n",
            "Try using .loc[row_indexer,col_indexer] = value instead\n",
            "\n",
            "See the caveats in the documentation: https://pandas.pydata.org/pandas-docs/stable/user_guide/indexing.html#returning-a-view-versus-a-copy\n",
            "/usr/local/lib/python3.6/dist-packages/ipykernel_launcher.py:18: SettingWithCopyWarning: \n",
            "A value is trying to be set on a copy of a slice from a DataFrame.\n",
            "Try using .loc[row_indexer,col_indexer] = value instead\n",
            "\n",
            "See the caveats in the documentation: https://pandas.pydata.org/pandas-docs/stable/user_guide/indexing.html#returning-a-view-versus-a-copy\n"
          ],
          "name": "stderr"
        },
        {
          "output_type": "stream",
          "text": [
            "Epoch 1/10\n",
            "2312/2312 [==============================] - 19s 8ms/step - loss: 0.1116 - root_mean_squared_error: 0.3341 - val_loss: 0.1462 - val_root_mean_squared_error: 0.3824\n",
            "Epoch 2/10\n",
            "2312/2312 [==============================] - 18s 8ms/step - loss: 0.0979 - root_mean_squared_error: 0.3128 - val_loss: 0.1150 - val_root_mean_squared_error: 0.3390\n",
            "Epoch 3/10\n",
            "2312/2312 [==============================] - 18s 8ms/step - loss: 0.0816 - root_mean_squared_error: 0.2856 - val_loss: 0.1312 - val_root_mean_squared_error: 0.3623\n",
            "Epoch 4/10\n",
            "2312/2312 [==============================] - 19s 8ms/step - loss: 0.0737 - root_mean_squared_error: 0.2714 - val_loss: 0.1311 - val_root_mean_squared_error: 0.3621\n",
            "Epoch 5/10\n",
            "2312/2312 [==============================] - 18s 8ms/step - loss: 0.0624 - root_mean_squared_error: 0.2497 - val_loss: 0.1101 - val_root_mean_squared_error: 0.3319\n",
            "Epoch 6/10\n",
            "2312/2312 [==============================] - 18s 8ms/step - loss: 0.0566 - root_mean_squared_error: 0.2379 - val_loss: 0.1049 - val_root_mean_squared_error: 0.3239\n",
            "Epoch 7/10\n",
            "2312/2312 [==============================] - 18s 8ms/step - loss: 0.0504 - root_mean_squared_error: 0.2245 - val_loss: 0.0861 - val_root_mean_squared_error: 0.2934\n",
            "Epoch 8/10\n",
            "2312/2312 [==============================] - 18s 8ms/step - loss: 0.0490 - root_mean_squared_error: 0.2214 - val_loss: 0.0840 - val_root_mean_squared_error: 0.2899\n",
            "Epoch 9/10\n",
            "2312/2312 [==============================] - 18s 8ms/step - loss: 0.0445 - root_mean_squared_error: 0.2109 - val_loss: 0.0680 - val_root_mean_squared_error: 0.2609\n",
            "Epoch 10/10\n",
            "2312/2312 [==============================] - 18s 8ms/step - loss: 0.0401 - root_mean_squared_error: 0.2002 - val_loss: 0.0663 - val_root_mean_squared_error: 0.2575\n"
          ],
          "name": "stdout"
        },
        {
          "output_type": "stream",
          "text": [
            "/usr/local/lib/python3.6/dist-packages/ipykernel_launcher.py:15: SettingWithCopyWarning: \n",
            "A value is trying to be set on a copy of a slice from a DataFrame.\n",
            "Try using .loc[row_indexer,col_indexer] = value instead\n",
            "\n",
            "See the caveats in the documentation: https://pandas.pydata.org/pandas-docs/stable/user_guide/indexing.html#returning-a-view-versus-a-copy\n",
            "  from ipykernel import kernelapp as app\n",
            "/usr/local/lib/python3.6/dist-packages/ipykernel_launcher.py:16: SettingWithCopyWarning: \n",
            "A value is trying to be set on a copy of a slice from a DataFrame.\n",
            "Try using .loc[row_indexer,col_indexer] = value instead\n",
            "\n",
            "See the caveats in the documentation: https://pandas.pydata.org/pandas-docs/stable/user_guide/indexing.html#returning-a-view-versus-a-copy\n",
            "  app.launch_new_instance()\n",
            "/usr/local/lib/python3.6/dist-packages/ipykernel_launcher.py:17: SettingWithCopyWarning: \n",
            "A value is trying to be set on a copy of a slice from a DataFrame.\n",
            "Try using .loc[row_indexer,col_indexer] = value instead\n",
            "\n",
            "See the caveats in the documentation: https://pandas.pydata.org/pandas-docs/stable/user_guide/indexing.html#returning-a-view-versus-a-copy\n",
            "/usr/local/lib/python3.6/dist-packages/ipykernel_launcher.py:18: SettingWithCopyWarning: \n",
            "A value is trying to be set on a copy of a slice from a DataFrame.\n",
            "Try using .loc[row_indexer,col_indexer] = value instead\n",
            "\n",
            "See the caveats in the documentation: https://pandas.pydata.org/pandas-docs/stable/user_guide/indexing.html#returning-a-view-versus-a-copy\n",
            "/usr/local/lib/python3.6/dist-packages/ipykernel_launcher.py:15: SettingWithCopyWarning: \n",
            "A value is trying to be set on a copy of a slice from a DataFrame.\n",
            "Try using .loc[row_indexer,col_indexer] = value instead\n",
            "\n",
            "See the caveats in the documentation: https://pandas.pydata.org/pandas-docs/stable/user_guide/indexing.html#returning-a-view-versus-a-copy\n",
            "  from ipykernel import kernelapp as app\n",
            "/usr/local/lib/python3.6/dist-packages/ipykernel_launcher.py:16: SettingWithCopyWarning: \n",
            "A value is trying to be set on a copy of a slice from a DataFrame.\n",
            "Try using .loc[row_indexer,col_indexer] = value instead\n",
            "\n",
            "See the caveats in the documentation: https://pandas.pydata.org/pandas-docs/stable/user_guide/indexing.html#returning-a-view-versus-a-copy\n",
            "  app.launch_new_instance()\n",
            "/usr/local/lib/python3.6/dist-packages/ipykernel_launcher.py:17: SettingWithCopyWarning: \n",
            "A value is trying to be set on a copy of a slice from a DataFrame.\n",
            "Try using .loc[row_indexer,col_indexer] = value instead\n",
            "\n",
            "See the caveats in the documentation: https://pandas.pydata.org/pandas-docs/stable/user_guide/indexing.html#returning-a-view-versus-a-copy\n",
            "/usr/local/lib/python3.6/dist-packages/ipykernel_launcher.py:18: SettingWithCopyWarning: \n",
            "A value is trying to be set on a copy of a slice from a DataFrame.\n",
            "Try using .loc[row_indexer,col_indexer] = value instead\n",
            "\n",
            "See the caveats in the documentation: https://pandas.pydata.org/pandas-docs/stable/user_guide/indexing.html#returning-a-view-versus-a-copy\n",
            "/usr/local/lib/python3.6/dist-packages/ipykernel_launcher.py:15: SettingWithCopyWarning: \n",
            "A value is trying to be set on a copy of a slice from a DataFrame.\n",
            "Try using .loc[row_indexer,col_indexer] = value instead\n",
            "\n",
            "See the caveats in the documentation: https://pandas.pydata.org/pandas-docs/stable/user_guide/indexing.html#returning-a-view-versus-a-copy\n",
            "  from ipykernel import kernelapp as app\n",
            "/usr/local/lib/python3.6/dist-packages/ipykernel_launcher.py:16: SettingWithCopyWarning: \n",
            "A value is trying to be set on a copy of a slice from a DataFrame.\n",
            "Try using .loc[row_indexer,col_indexer] = value instead\n",
            "\n",
            "See the caveats in the documentation: https://pandas.pydata.org/pandas-docs/stable/user_guide/indexing.html#returning-a-view-versus-a-copy\n",
            "  app.launch_new_instance()\n",
            "/usr/local/lib/python3.6/dist-packages/ipykernel_launcher.py:17: SettingWithCopyWarning: \n",
            "A value is trying to be set on a copy of a slice from a DataFrame.\n",
            "Try using .loc[row_indexer,col_indexer] = value instead\n",
            "\n",
            "See the caveats in the documentation: https://pandas.pydata.org/pandas-docs/stable/user_guide/indexing.html#returning-a-view-versus-a-copy\n",
            "/usr/local/lib/python3.6/dist-packages/ipykernel_launcher.py:18: SettingWithCopyWarning: \n",
            "A value is trying to be set on a copy of a slice from a DataFrame.\n",
            "Try using .loc[row_indexer,col_indexer] = value instead\n",
            "\n",
            "See the caveats in the documentation: https://pandas.pydata.org/pandas-docs/stable/user_guide/indexing.html#returning-a-view-versus-a-copy\n"
          ],
          "name": "stderr"
        },
        {
          "output_type": "stream",
          "text": [
            "Epoch 1/10\n",
            "3091/3091 [==============================] - 25s 8ms/step - loss: 0.1017 - root_mean_squared_error: 0.3189 - val_loss: 0.2064 - val_root_mean_squared_error: 0.4543\n",
            "Epoch 2/10\n",
            "3091/3091 [==============================] - 24s 8ms/step - loss: 0.1038 - root_mean_squared_error: 0.3222 - val_loss: 0.1729 - val_root_mean_squared_error: 0.4159\n",
            "Epoch 3/10\n",
            "3091/3091 [==============================] - 24s 8ms/step - loss: 0.1013 - root_mean_squared_error: 0.3183 - val_loss: 0.1657 - val_root_mean_squared_error: 0.4070\n",
            "Epoch 4/10\n",
            "3091/3091 [==============================] - 24s 8ms/step - loss: 0.0916 - root_mean_squared_error: 0.3027 - val_loss: 0.1621 - val_root_mean_squared_error: 0.4026\n",
            "Epoch 5/10\n",
            "3091/3091 [==============================] - 24s 8ms/step - loss: 0.0830 - root_mean_squared_error: 0.2881 - val_loss: 0.1377 - val_root_mean_squared_error: 0.3710\n",
            "Epoch 6/10\n",
            "3091/3091 [==============================] - 24s 8ms/step - loss: 0.0689 - root_mean_squared_error: 0.2625 - val_loss: 0.1119 - val_root_mean_squared_error: 0.3346\n",
            "Epoch 7/10\n",
            "3091/3091 [==============================] - 24s 8ms/step - loss: 0.0572 - root_mean_squared_error: 0.2392 - val_loss: 0.0980 - val_root_mean_squared_error: 0.3130\n",
            "Epoch 8/10\n",
            "3091/3091 [==============================] - 25s 8ms/step - loss: 0.0491 - root_mean_squared_error: 0.2216 - val_loss: 0.1141 - val_root_mean_squared_error: 0.3378\n",
            "Epoch 9/10\n",
            "3091/3091 [==============================] - 24s 8ms/step - loss: 0.0373 - root_mean_squared_error: 0.1933 - val_loss: 0.0751 - val_root_mean_squared_error: 0.2741\n",
            "Epoch 10/10\n",
            "3091/3091 [==============================] - 24s 8ms/step - loss: 0.0409 - root_mean_squared_error: 0.2023 - val_loss: 0.1044 - val_root_mean_squared_error: 0.3231\n"
          ],
          "name": "stdout"
        },
        {
          "output_type": "stream",
          "text": [
            "/usr/local/lib/python3.6/dist-packages/ipykernel_launcher.py:15: SettingWithCopyWarning: \n",
            "A value is trying to be set on a copy of a slice from a DataFrame.\n",
            "Try using .loc[row_indexer,col_indexer] = value instead\n",
            "\n",
            "See the caveats in the documentation: https://pandas.pydata.org/pandas-docs/stable/user_guide/indexing.html#returning-a-view-versus-a-copy\n",
            "  from ipykernel import kernelapp as app\n",
            "/usr/local/lib/python3.6/dist-packages/ipykernel_launcher.py:16: SettingWithCopyWarning: \n",
            "A value is trying to be set on a copy of a slice from a DataFrame.\n",
            "Try using .loc[row_indexer,col_indexer] = value instead\n",
            "\n",
            "See the caveats in the documentation: https://pandas.pydata.org/pandas-docs/stable/user_guide/indexing.html#returning-a-view-versus-a-copy\n",
            "  app.launch_new_instance()\n",
            "/usr/local/lib/python3.6/dist-packages/ipykernel_launcher.py:17: SettingWithCopyWarning: \n",
            "A value is trying to be set on a copy of a slice from a DataFrame.\n",
            "Try using .loc[row_indexer,col_indexer] = value instead\n",
            "\n",
            "See the caveats in the documentation: https://pandas.pydata.org/pandas-docs/stable/user_guide/indexing.html#returning-a-view-versus-a-copy\n",
            "/usr/local/lib/python3.6/dist-packages/ipykernel_launcher.py:18: SettingWithCopyWarning: \n",
            "A value is trying to be set on a copy of a slice from a DataFrame.\n",
            "Try using .loc[row_indexer,col_indexer] = value instead\n",
            "\n",
            "See the caveats in the documentation: https://pandas.pydata.org/pandas-docs/stable/user_guide/indexing.html#returning-a-view-versus-a-copy\n",
            "/usr/local/lib/python3.6/dist-packages/ipykernel_launcher.py:15: SettingWithCopyWarning: \n",
            "A value is trying to be set on a copy of a slice from a DataFrame.\n",
            "Try using .loc[row_indexer,col_indexer] = value instead\n",
            "\n",
            "See the caveats in the documentation: https://pandas.pydata.org/pandas-docs/stable/user_guide/indexing.html#returning-a-view-versus-a-copy\n",
            "  from ipykernel import kernelapp as app\n",
            "/usr/local/lib/python3.6/dist-packages/ipykernel_launcher.py:16: SettingWithCopyWarning: \n",
            "A value is trying to be set on a copy of a slice from a DataFrame.\n",
            "Try using .loc[row_indexer,col_indexer] = value instead\n",
            "\n",
            "See the caveats in the documentation: https://pandas.pydata.org/pandas-docs/stable/user_guide/indexing.html#returning-a-view-versus-a-copy\n",
            "  app.launch_new_instance()\n",
            "/usr/local/lib/python3.6/dist-packages/ipykernel_launcher.py:17: SettingWithCopyWarning: \n",
            "A value is trying to be set on a copy of a slice from a DataFrame.\n",
            "Try using .loc[row_indexer,col_indexer] = value instead\n",
            "\n",
            "See the caveats in the documentation: https://pandas.pydata.org/pandas-docs/stable/user_guide/indexing.html#returning-a-view-versus-a-copy\n",
            "/usr/local/lib/python3.6/dist-packages/ipykernel_launcher.py:18: SettingWithCopyWarning: \n",
            "A value is trying to be set on a copy of a slice from a DataFrame.\n",
            "Try using .loc[row_indexer,col_indexer] = value instead\n",
            "\n",
            "See the caveats in the documentation: https://pandas.pydata.org/pandas-docs/stable/user_guide/indexing.html#returning-a-view-versus-a-copy\n",
            "/usr/local/lib/python3.6/dist-packages/ipykernel_launcher.py:15: SettingWithCopyWarning: \n",
            "A value is trying to be set on a copy of a slice from a DataFrame.\n",
            "Try using .loc[row_indexer,col_indexer] = value instead\n",
            "\n",
            "See the caveats in the documentation: https://pandas.pydata.org/pandas-docs/stable/user_guide/indexing.html#returning-a-view-versus-a-copy\n",
            "  from ipykernel import kernelapp as app\n",
            "/usr/local/lib/python3.6/dist-packages/ipykernel_launcher.py:16: SettingWithCopyWarning: \n",
            "A value is trying to be set on a copy of a slice from a DataFrame.\n",
            "Try using .loc[row_indexer,col_indexer] = value instead\n",
            "\n",
            "See the caveats in the documentation: https://pandas.pydata.org/pandas-docs/stable/user_guide/indexing.html#returning-a-view-versus-a-copy\n",
            "  app.launch_new_instance()\n",
            "/usr/local/lib/python3.6/dist-packages/ipykernel_launcher.py:17: SettingWithCopyWarning: \n",
            "A value is trying to be set on a copy of a slice from a DataFrame.\n",
            "Try using .loc[row_indexer,col_indexer] = value instead\n",
            "\n",
            "See the caveats in the documentation: https://pandas.pydata.org/pandas-docs/stable/user_guide/indexing.html#returning-a-view-versus-a-copy\n",
            "/usr/local/lib/python3.6/dist-packages/ipykernel_launcher.py:18: SettingWithCopyWarning: \n",
            "A value is trying to be set on a copy of a slice from a DataFrame.\n",
            "Try using .loc[row_indexer,col_indexer] = value instead\n",
            "\n",
            "See the caveats in the documentation: https://pandas.pydata.org/pandas-docs/stable/user_guide/indexing.html#returning-a-view-versus-a-copy\n"
          ],
          "name": "stderr"
        },
        {
          "output_type": "stream",
          "text": [
            "Epoch 1/10\n",
            "3870/3870 [==============================] - 31s 8ms/step - loss: 0.0828 - root_mean_squared_error: 0.2878 - val_loss: 0.2132 - val_root_mean_squared_error: 0.4618\n",
            "Epoch 2/10\n",
            "3870/3870 [==============================] - 30s 8ms/step - loss: 0.0735 - root_mean_squared_error: 0.2710 - val_loss: 0.2606 - val_root_mean_squared_error: 0.5105\n",
            "Epoch 3/10\n",
            "3870/3870 [==============================] - 30s 8ms/step - loss: 0.0612 - root_mean_squared_error: 0.2473 - val_loss: 0.1424 - val_root_mean_squared_error: 0.3774\n",
            "Epoch 4/10\n",
            "3870/3870 [==============================] - 30s 8ms/step - loss: 0.0518 - root_mean_squared_error: 0.2276 - val_loss: 0.0984 - val_root_mean_squared_error: 0.3137\n",
            "Epoch 5/10\n",
            "3870/3870 [==============================] - 31s 8ms/step - loss: 0.0409 - root_mean_squared_error: 0.2021 - val_loss: 0.1297 - val_root_mean_squared_error: 0.3602\n",
            "Epoch 6/10\n",
            "3870/3870 [==============================] - 30s 8ms/step - loss: 0.0371 - root_mean_squared_error: 0.1926 - val_loss: 0.0898 - val_root_mean_squared_error: 0.2997\n",
            "Epoch 7/10\n",
            "3870/3870 [==============================] - 31s 8ms/step - loss: 0.0305 - root_mean_squared_error: 0.1745 - val_loss: 0.0882 - val_root_mean_squared_error: 0.2970\n",
            "Epoch 8/10\n",
            "3870/3870 [==============================] - 31s 8ms/step - loss: 0.0276 - root_mean_squared_error: 0.1661 - val_loss: 0.0872 - val_root_mean_squared_error: 0.2953\n",
            "Epoch 9/10\n",
            "3870/3870 [==============================] - 31s 8ms/step - loss: 0.0251 - root_mean_squared_error: 0.1584 - val_loss: 0.1192 - val_root_mean_squared_error: 0.3453\n",
            "Epoch 10/10\n",
            "3870/3870 [==============================] - 31s 8ms/step - loss: 0.0287 - root_mean_squared_error: 0.1694 - val_loss: 0.0924 - val_root_mean_squared_error: 0.3040\n"
          ],
          "name": "stdout"
        }
      ]
    },
    {
      "cell_type": "code",
      "metadata": {
        "id": "yA7bnLfksZLd",
        "colab_type": "code",
        "colab": {
          "base_uri": "https://localhost:8080/",
          "height": 500
        },
        "outputId": "15d6cca1-2a74-44e3-89a7-e6fa911f3386"
      },
      "source": [
        "plt.figure(figsize=(10,8))\n",
        "plt.plot(range(len(train_scores)),train_scores,label='Train Scores')\n",
        "plt.plot(range(len(val_scores)),val_scores,label='Validation Scores')\n",
        "plt.plot(range(len(test_scores)),test_scores,label='Test Scores')\n",
        "plt.legend()"
      ],
      "execution_count": 49,
      "outputs": [
        {
          "output_type": "execute_result",
          "data": {
            "text/plain": [
              "<matplotlib.legend.Legend at 0x7f529f149208>"
            ]
          },
          "metadata": {
            "tags": []
          },
          "execution_count": 49
        },
        {
          "output_type": "display_data",
          "data": {
            "image/png": "[encoded data removed]",
            "text/plain": [
              "<Figure size 720x576 with 1 Axes>"
            ]
          },
          "metadata": {
            "tags": []
          }
        }
      ]
    },
    {
      "cell_type": "markdown",
      "metadata": {
        "id": "XDJ3EJABMaVe",
        "colab_type": "text"
      },
      "source": [
        "### Hold Out Score"
      ]
    },
    {
      "cell_type": "markdown",
      "metadata": {
        "id": "UrZ9HNlNcSLE",
        "colab_type": "text"
      },
      "source": [
        "Here, the same model is trained on all the data used on the Validation and tested on a Holdout Set never seen before."
      ]
    },
    {
      "cell_type": "code",
      "metadata": {
        "id": "KMcTgPbPMaVe",
        "colab_type": "code",
        "colab": {}
      },
      "source": [
        "X_train, X_holdout, y_train, y_holdout = train_test_split(X, y, test_size=0.125, shuffle=False)\n",
        "X_train, X_val, y_train, y_val = train_test_split(X_train, y_train, test_size=0.143, shuffle=False)"
      ],
      "execution_count": 61,
      "outputs": []
    },
    {
      "cell_type": "code",
      "metadata": {
        "id": "dv6-ih-IIK3N",
        "colab_type": "code",
        "colab": {
          "base_uri": "https://localhost:8080/",
          "height": 1000
        },
        "outputId": "33e0227a-5ac1-4917-80fd-98d008336d5e"
      },
      "source": [
        "X_train = preprocessing_X(X_train)\n",
        "X_val = preprocessing_X(X_val)\n",
        "X_holdout = preprocessing_X(X_holdout)\n",
        "\n",
        "X_train = X_train.drop(['ID','WF','Set','Month_Number'],axis=1)\n",
        "X_val = X_val.drop(['ID','WF','Set','Month_Number'],axis=1)\n",
        "X_holdout = X_holdout.drop(['ID','WF','Set','Month_Number'],axis=1)\n",
        "\n",
        "y_train,scaler = preprocessing_y(y_train)\n",
        "y_val,_ = preprocessing_y(y_val)\n",
        "y_holdout,_ = preprocessing_y(y_holdout)"
      ],
      "execution_count": 62,
      "outputs": [
        {
          "output_type": "stream",
          "text": [
            "/usr/local/lib/python3.6/dist-packages/ipykernel_launcher.py:15: SettingWithCopyWarning: \n",
            "A value is trying to be set on a copy of a slice from a DataFrame.\n",
            "Try using .loc[row_indexer,col_indexer] = value instead\n",
            "\n",
            "See the caveats in the documentation: https://pandas.pydata.org/pandas-docs/stable/user_guide/indexing.html#returning-a-view-versus-a-copy\n",
            "  from ipykernel import kernelapp as app\n",
            "/usr/local/lib/python3.6/dist-packages/ipykernel_launcher.py:16: SettingWithCopyWarning: \n",
            "A value is trying to be set on a copy of a slice from a DataFrame.\n",
            "Try using .loc[row_indexer,col_indexer] = value instead\n",
            "\n",
            "See the caveats in the documentation: https://pandas.pydata.org/pandas-docs/stable/user_guide/indexing.html#returning-a-view-versus-a-copy\n",
            "  app.launch_new_instance()\n",
            "/usr/local/lib/python3.6/dist-packages/ipykernel_launcher.py:17: SettingWithCopyWarning: \n",
            "A value is trying to be set on a copy of a slice from a DataFrame.\n",
            "Try using .loc[row_indexer,col_indexer] = value instead\n",
            "\n",
            "See the caveats in the documentation: https://pandas.pydata.org/pandas-docs/stable/user_guide/indexing.html#returning-a-view-versus-a-copy\n",
            "/usr/local/lib/python3.6/dist-packages/ipykernel_launcher.py:18: SettingWithCopyWarning: \n",
            "A value is trying to be set on a copy of a slice from a DataFrame.\n",
            "Try using .loc[row_indexer,col_indexer] = value instead\n",
            "\n",
            "See the caveats in the documentation: https://pandas.pydata.org/pandas-docs/stable/user_guide/indexing.html#returning-a-view-versus-a-copy\n",
            "/usr/local/lib/python3.6/dist-packages/ipykernel_launcher.py:15: SettingWithCopyWarning: \n",
            "A value is trying to be set on a copy of a slice from a DataFrame.\n",
            "Try using .loc[row_indexer,col_indexer] = value instead\n",
            "\n",
            "See the caveats in the documentation: https://pandas.pydata.org/pandas-docs/stable/user_guide/indexing.html#returning-a-view-versus-a-copy\n",
            "  from ipykernel import kernelapp as app\n",
            "/usr/local/lib/python3.6/dist-packages/ipykernel_launcher.py:16: SettingWithCopyWarning: \n",
            "A value is trying to be set on a copy of a slice from a DataFrame.\n",
            "Try using .loc[row_indexer,col_indexer] = value instead\n",
            "\n",
            "See the caveats in the documentation: https://pandas.pydata.org/pandas-docs/stable/user_guide/indexing.html#returning-a-view-versus-a-copy\n",
            "  app.launch_new_instance()\n",
            "/usr/local/lib/python3.6/dist-packages/ipykernel_launcher.py:17: SettingWithCopyWarning: \n",
            "A value is trying to be set on a copy of a slice from a DataFrame.\n",
            "Try using .loc[row_indexer,col_indexer] = value instead\n",
            "\n",
            "See the caveats in the documentation: https://pandas.pydata.org/pandas-docs/stable/user_guide/indexing.html#returning-a-view-versus-a-copy\n",
            "/usr/local/lib/python3.6/dist-packages/ipykernel_launcher.py:18: SettingWithCopyWarning: \n",
            "A value is trying to be set on a copy of a slice from a DataFrame.\n",
            "Try using .loc[row_indexer,col_indexer] = value instead\n",
            "\n",
            "See the caveats in the documentation: https://pandas.pydata.org/pandas-docs/stable/user_guide/indexing.html#returning-a-view-versus-a-copy\n",
            "/usr/local/lib/python3.6/dist-packages/ipykernel_launcher.py:15: SettingWithCopyWarning: \n",
            "A value is trying to be set on a copy of a slice from a DataFrame.\n",
            "Try using .loc[row_indexer,col_indexer] = value instead\n",
            "\n",
            "See the caveats in the documentation: https://pandas.pydata.org/pandas-docs/stable/user_guide/indexing.html#returning-a-view-versus-a-copy\n",
            "  from ipykernel import kernelapp as app\n",
            "/usr/local/lib/python3.6/dist-packages/ipykernel_launcher.py:16: SettingWithCopyWarning: \n",
            "A value is trying to be set on a copy of a slice from a DataFrame.\n",
            "Try using .loc[row_indexer,col_indexer] = value instead\n",
            "\n",
            "See the caveats in the documentation: https://pandas.pydata.org/pandas-docs/stable/user_guide/indexing.html#returning-a-view-versus-a-copy\n",
            "  app.launch_new_instance()\n",
            "/usr/local/lib/python3.6/dist-packages/ipykernel_launcher.py:17: SettingWithCopyWarning: \n",
            "A value is trying to be set on a copy of a slice from a DataFrame.\n",
            "Try using .loc[row_indexer,col_indexer] = value instead\n",
            "\n",
            "See the caveats in the documentation: https://pandas.pydata.org/pandas-docs/stable/user_guide/indexing.html#returning-a-view-versus-a-copy\n",
            "/usr/local/lib/python3.6/dist-packages/ipykernel_launcher.py:18: SettingWithCopyWarning: \n",
            "A value is trying to be set on a copy of a slice from a DataFrame.\n",
            "Try using .loc[row_indexer,col_indexer] = value instead\n",
            "\n",
            "See the caveats in the documentation: https://pandas.pydata.org/pandas-docs/stable/user_guide/indexing.html#returning-a-view-versus-a-copy\n"
          ],
          "name": "stderr"
        }
      ]
    },
    {
      "cell_type": "code",
      "metadata": {
        "id": "DCt5uDOTMaVj",
        "colab_type": "code",
        "colab": {}
      },
      "source": [
        "X_train, y_train = split_sequences(X_train.values,y_train.values,n_steps)\n",
        "X_val, y_val = split_sequences(X_val.values,y_val.values,n_steps)\n",
        "X_holdout, y_holdout = split_sequences(X_holdout.values,y_holdout.values,n_steps)"
      ],
      "execution_count": 63,
      "outputs": []
    },
    {
      "cell_type": "code",
      "metadata": {
        "id": "zLZJNzIrMaVl",
        "colab_type": "code",
        "colab": {}
      },
      "source": [
        "model = LSTM_Model(input_shape)"
      ],
      "execution_count": 64,
      "outputs": []
    },
    {
      "cell_type": "code",
      "metadata": {
        "tags": [],
        "id": "XUfPcqXlMaVn",
        "colab_type": "code",
        "colab": {
          "base_uri": "https://localhost:8080/",
          "height": 409
        },
        "outputId": "5000b62c-02f0-4b3c-ad4b-c7bef5386835"
      },
      "source": [
        "callbacks_list = [tf.keras.callbacks.EarlyStopping(monitor=monitor, patience=patience, verbose=0, min_delta=1e-8)]\n",
        "model.compile(optimizer='adam', loss='mse', metrics=[tf.keras.metrics.RootMeanSquaredError()])\n",
        "model.fit(x = X_train, y = y_train, batch_size = batch_size, epochs = epochs, validation_data = (X_val, y_val), callbacks=callbacks_list)"
      ],
      "execution_count": 65,
      "outputs": [
        {
          "output_type": "stream",
          "text": [
            "Epoch 1/10\n",
            "4649/4649 [==============================] - 37s 8ms/step - loss: 0.0617 - root_mean_squared_error: 0.2484 - val_loss: 0.1015 - val_root_mean_squared_error: 0.3186\n",
            "Epoch 2/10\n",
            "4483/4649 [===========================>..] - ETA: 1s - loss: 0.0335 - root_mean_squared_error: 0.1831"
          ],
          "name": "stdout"
        },
        {
          "output_type": "error",
          "ename": "KeyboardInterrupt",
          "evalue": "ignored",
          "traceback": [
            "\u001b[0;31m---------------------------------------------------------------------------\u001b[0m",
            "\u001b[0;31mKeyboardInterrupt\u001b[0m                         Traceback (most recent call last)",
            "\u001b[0;32m<ipython-input-65-b9ab9f271265>\u001b[0m in \u001b[0;36m<module>\u001b[0;34m()\u001b[0m\n\u001b[1;32m      1\u001b[0m \u001b[0mcallbacks_list\u001b[0m \u001b[0;34m=\u001b[0m \u001b[0;34m[\u001b[0m\u001b[0mtf\u001b[0m\u001b[0;34m.\u001b[0m\u001b[0mkeras\u001b[0m\u001b[0;34m.\u001b[0m\u001b[0mcallbacks\u001b[0m\u001b[0;34m.\u001b[0m\u001b[0mEarlyStopping\u001b[0m\u001b[0;34m(\u001b[0m\u001b[0mmonitor\u001b[0m\u001b[0;34m=\u001b[0m\u001b[0mmonitor\u001b[0m\u001b[0;34m,\u001b[0m \u001b[0mpatience\u001b[0m\u001b[0;34m=\u001b[0m\u001b[0mpatience\u001b[0m\u001b[0;34m,\u001b[0m \u001b[0mverbose\u001b[0m\u001b[0;34m=\u001b[0m\u001b[0;36m0\u001b[0m\u001b[0;34m,\u001b[0m \u001b[0mmin_delta\u001b[0m\u001b[0;34m=\u001b[0m\u001b[0;36m1e-8\u001b[0m\u001b[0;34m)\u001b[0m\u001b[0;34m]\u001b[0m\u001b[0;34m\u001b[0m\u001b[0;34m\u001b[0m\u001b[0m\n\u001b[1;32m      2\u001b[0m \u001b[0mmodel\u001b[0m\u001b[0;34m.\u001b[0m\u001b[0mcompile\u001b[0m\u001b[0;34m(\u001b[0m\u001b[0moptimizer\u001b[0m\u001b[0;34m=\u001b[0m\u001b[0;34m'adam'\u001b[0m\u001b[0;34m,\u001b[0m \u001b[0mloss\u001b[0m\u001b[0;34m=\u001b[0m\u001b[0;34m'mse'\u001b[0m\u001b[0;34m,\u001b[0m \u001b[0mmetrics\u001b[0m\u001b[0;34m=\u001b[0m\u001b[0;34m[\u001b[0m\u001b[0mtf\u001b[0m\u001b[0;34m.\u001b[0m\u001b[0mkeras\u001b[0m\u001b[0;34m.\u001b[0m\u001b[0mmetrics\u001b[0m\u001b[0;34m.\u001b[0m\u001b[0mRootMeanSquaredError\u001b[0m\u001b[0;34m(\u001b[0m\u001b[0;34m)\u001b[0m\u001b[0;34m]\u001b[0m\u001b[0;34m)\u001b[0m\u001b[0;34m\u001b[0m\u001b[0;34m\u001b[0m\u001b[0m\n\u001b[0;32m----> 3\u001b[0;31m \u001b[0mmodel\u001b[0m\u001b[0;34m.\u001b[0m\u001b[0mfit\u001b[0m\u001b[0;34m(\u001b[0m\u001b[0mx\u001b[0m \u001b[0;34m=\u001b[0m \u001b[0mX_train\u001b[0m\u001b[0;34m,\u001b[0m \u001b[0my\u001b[0m \u001b[0;34m=\u001b[0m \u001b[0my_train\u001b[0m\u001b[0;34m,\u001b[0m \u001b[0mbatch_size\u001b[0m \u001b[0;34m=\u001b[0m \u001b[0mbatch_size\u001b[0m\u001b[0;34m,\u001b[0m \u001b[0mepochs\u001b[0m \u001b[0;34m=\u001b[0m \u001b[0mepochs\u001b[0m\u001b[0;34m,\u001b[0m \u001b[0mvalidation_data\u001b[0m \u001b[0;34m=\u001b[0m \u001b[0;34m(\u001b[0m\u001b[0mX_val\u001b[0m\u001b[0;34m,\u001b[0m \u001b[0my_val\u001b[0m\u001b[0;34m)\u001b[0m\u001b[0;34m,\u001b[0m \u001b[0mcallbacks\u001b[0m\u001b[0;34m=\u001b[0m\u001b[0mcallbacks_list\u001b[0m\u001b[0;34m)\u001b[0m\u001b[0;34m\u001b[0m\u001b[0;34m\u001b[0m\u001b[0m\n\u001b[0m",
            "\u001b[0;32m/usr/local/lib/python3.6/dist-packages/tensorflow/python/keras/engine/training.py\u001b[0m in \u001b[0;36m_method_wrapper\u001b[0;34m(self, *args, **kwargs)\u001b[0m\n\u001b[1;32m    106\u001b[0m   \u001b[0;32mdef\u001b[0m \u001b[0m_method_wrapper\u001b[0m\u001b[0;34m(\u001b[0m\u001b[0mself\u001b[0m\u001b[0;34m,\u001b[0m \u001b[0;34m*\u001b[0m\u001b[0margs\u001b[0m\u001b[0;34m,\u001b[0m \u001b[0;34m**\u001b[0m\u001b[0mkwargs\u001b[0m\u001b[0;34m)\u001b[0m\u001b[0;34m:\u001b[0m\u001b[0;34m\u001b[0m\u001b[0;34m\u001b[0m\u001b[0m\n\u001b[1;32m    107\u001b[0m     \u001b[0;32mif\u001b[0m \u001b[0;32mnot\u001b[0m \u001b[0mself\u001b[0m\u001b[0;34m.\u001b[0m\u001b[0m_in_multi_worker_mode\u001b[0m\u001b[0;34m(\u001b[0m\u001b[0;34m)\u001b[0m\u001b[0;34m:\u001b[0m  \u001b[0;31m# pylint: disable=protected-access\u001b[0m\u001b[0;34m\u001b[0m\u001b[0;34m\u001b[0m\u001b[0m\n\u001b[0;32m--> 108\u001b[0;31m       \u001b[0;32mreturn\u001b[0m \u001b[0mmethod\u001b[0m\u001b[0;34m(\u001b[0m\u001b[0mself\u001b[0m\u001b[0;34m,\u001b[0m \u001b[0;34m*\u001b[0m\u001b[0margs\u001b[0m\u001b[0;34m,\u001b[0m \u001b[0;34m**\u001b[0m\u001b[0mkwargs\u001b[0m\u001b[0;34m)\u001b[0m\u001b[0;34m\u001b[0m\u001b[0;34m\u001b[0m\u001b[0m\n\u001b[0m\u001b[1;32m    109\u001b[0m \u001b[0;34m\u001b[0m\u001b[0m\n\u001b[1;32m    110\u001b[0m     \u001b[0;31m# Running inside `run_distribute_coordinator` already.\u001b[0m\u001b[0;34m\u001b[0m\u001b[0;34m\u001b[0m\u001b[0;34m\u001b[0m\u001b[0m\n",
            "\u001b[0;32m/usr/local/lib/python3.6/dist-packages/tensorflow/python/keras/engine/training.py\u001b[0m in \u001b[0;36mfit\u001b[0;34m(self, x, y, batch_size, epochs, verbose, callbacks, validation_split, validation_data, shuffle, class_weight, sample_weight, initial_epoch, steps_per_epoch, validation_steps, validation_batch_size, validation_freq, max_queue_size, workers, use_multiprocessing)\u001b[0m\n\u001b[1;32m   1096\u001b[0m                 batch_size=batch_size):\n\u001b[1;32m   1097\u001b[0m               \u001b[0mcallbacks\u001b[0m\u001b[0;34m.\u001b[0m\u001b[0mon_train_batch_begin\u001b[0m\u001b[0;34m(\u001b[0m\u001b[0mstep\u001b[0m\u001b[0;34m)\u001b[0m\u001b[0;34m\u001b[0m\u001b[0;34m\u001b[0m\u001b[0m\n\u001b[0;32m-> 1098\u001b[0;31m               \u001b[0mtmp_logs\u001b[0m \u001b[0;34m=\u001b[0m \u001b[0mtrain_function\u001b[0m\u001b[0;34m(\u001b[0m\u001b[0miterator\u001b[0m\u001b[0;34m)\u001b[0m\u001b[0;34m\u001b[0m\u001b[0;34m\u001b[0m\u001b[0m\n\u001b[0m\u001b[1;32m   1099\u001b[0m               \u001b[0;32mif\u001b[0m \u001b[0mdata_handler\u001b[0m\u001b[0;34m.\u001b[0m\u001b[0mshould_sync\u001b[0m\u001b[0;34m:\u001b[0m\u001b[0;34m\u001b[0m\u001b[0;34m\u001b[0m\u001b[0m\n\u001b[1;32m   1100\u001b[0m                 \u001b[0mcontext\u001b[0m\u001b[0;34m.\u001b[0m\u001b[0masync_wait\u001b[0m\u001b[0;34m(\u001b[0m\u001b[0;34m)\u001b[0m\u001b[0;34m\u001b[0m\u001b[0;34m\u001b[0m\u001b[0m\n",
            "\u001b[0;32m/usr/local/lib/python3.6/dist-packages/tensorflow/python/eager/def_function.py\u001b[0m in \u001b[0;36m__call__\u001b[0;34m(self, *args, **kwds)\u001b[0m\n\u001b[1;32m    778\u001b[0m       \u001b[0;32melse\u001b[0m\u001b[0;34m:\u001b[0m\u001b[0;34m\u001b[0m\u001b[0;34m\u001b[0m\u001b[0m\n\u001b[1;32m    779\u001b[0m         \u001b[0mcompiler\u001b[0m \u001b[0;34m=\u001b[0m \u001b[0;34m\"nonXla\"\u001b[0m\u001b[0;34m\u001b[0m\u001b[0;34m\u001b[0m\u001b[0m\n\u001b[0;32m--> 780\u001b[0;31m         \u001b[0mresult\u001b[0m \u001b[0;34m=\u001b[0m \u001b[0mself\u001b[0m\u001b[0;34m.\u001b[0m\u001b[0m_call\u001b[0m\u001b[0;34m(\u001b[0m\u001b[0;34m*\u001b[0m\u001b[0margs\u001b[0m\u001b[0;34m,\u001b[0m \u001b[0;34m**\u001b[0m\u001b[0mkwds\u001b[0m\u001b[0;34m)\u001b[0m\u001b[0;34m\u001b[0m\u001b[0;34m\u001b[0m\u001b[0m\n\u001b[0m\u001b[1;32m    781\u001b[0m \u001b[0;34m\u001b[0m\u001b[0m\n\u001b[1;32m    782\u001b[0m       \u001b[0mnew_tracing_count\u001b[0m \u001b[0;34m=\u001b[0m \u001b[0mself\u001b[0m\u001b[0;34m.\u001b[0m\u001b[0m_get_tracing_count\u001b[0m\u001b[0;34m(\u001b[0m\u001b[0;34m)\u001b[0m\u001b[0;34m\u001b[0m\u001b[0;34m\u001b[0m\u001b[0m\n",
            "\u001b[0;32m/usr/local/lib/python3.6/dist-packages/tensorflow/python/eager/def_function.py\u001b[0m in \u001b[0;36m_call\u001b[0;34m(self, *args, **kwds)\u001b[0m\n\u001b[1;32m    805\u001b[0m       \u001b[0;31m# In this case we have created variables on the first call, so we run the\u001b[0m\u001b[0;34m\u001b[0m\u001b[0;34m\u001b[0m\u001b[0;34m\u001b[0m\u001b[0m\n\u001b[1;32m    806\u001b[0m       \u001b[0;31m# defunned version which is guaranteed to never create variables.\u001b[0m\u001b[0;34m\u001b[0m\u001b[0;34m\u001b[0m\u001b[0;34m\u001b[0m\u001b[0m\n\u001b[0;32m--> 807\u001b[0;31m       \u001b[0;32mreturn\u001b[0m \u001b[0mself\u001b[0m\u001b[0;34m.\u001b[0m\u001b[0m_stateless_fn\u001b[0m\u001b[0;34m(\u001b[0m\u001b[0;34m*\u001b[0m\u001b[0margs\u001b[0m\u001b[0;34m,\u001b[0m \u001b[0;34m**\u001b[0m\u001b[0mkwds\u001b[0m\u001b[0;34m)\u001b[0m  \u001b[0;31m# pylint: disable=not-callable\u001b[0m\u001b[0;34m\u001b[0m\u001b[0;34m\u001b[0m\u001b[0m\n\u001b[0m\u001b[1;32m    808\u001b[0m     \u001b[0;32melif\u001b[0m \u001b[0mself\u001b[0m\u001b[0;34m.\u001b[0m\u001b[0m_stateful_fn\u001b[0m \u001b[0;32mis\u001b[0m \u001b[0;32mnot\u001b[0m \u001b[0;32mNone\u001b[0m\u001b[0;34m:\u001b[0m\u001b[0;34m\u001b[0m\u001b[0;34m\u001b[0m\u001b[0m\n\u001b[1;32m    809\u001b[0m       \u001b[0;31m# Release the lock early so that multiple threads can perform the call\u001b[0m\u001b[0;34m\u001b[0m\u001b[0;34m\u001b[0m\u001b[0;34m\u001b[0m\u001b[0m\n",
            "\u001b[0;32m/usr/local/lib/python3.6/dist-packages/tensorflow/python/eager/function.py\u001b[0m in \u001b[0;36m__call__\u001b[0;34m(self, *args, **kwargs)\u001b[0m\n\u001b[1;32m   2827\u001b[0m     \u001b[0;32mwith\u001b[0m \u001b[0mself\u001b[0m\u001b[0;34m.\u001b[0m\u001b[0m_lock\u001b[0m\u001b[0;34m:\u001b[0m\u001b[0;34m\u001b[0m\u001b[0;34m\u001b[0m\u001b[0m\n\u001b[1;32m   2828\u001b[0m       \u001b[0mgraph_function\u001b[0m\u001b[0;34m,\u001b[0m \u001b[0margs\u001b[0m\u001b[0;34m,\u001b[0m \u001b[0mkwargs\u001b[0m \u001b[0;34m=\u001b[0m \u001b[0mself\u001b[0m\u001b[0;34m.\u001b[0m\u001b[0m_maybe_define_function\u001b[0m\u001b[0;34m(\u001b[0m\u001b[0margs\u001b[0m\u001b[0;34m,\u001b[0m \u001b[0mkwargs\u001b[0m\u001b[0;34m)\u001b[0m\u001b[0;34m\u001b[0m\u001b[0;34m\u001b[0m\u001b[0m\n\u001b[0;32m-> 2829\u001b[0;31m     \u001b[0;32mreturn\u001b[0m \u001b[0mgraph_function\u001b[0m\u001b[0;34m.\u001b[0m\u001b[0m_filtered_call\u001b[0m\u001b[0;34m(\u001b[0m\u001b[0margs\u001b[0m\u001b[0;34m,\u001b[0m \u001b[0mkwargs\u001b[0m\u001b[0;34m)\u001b[0m  \u001b[0;31m# pylint: disable=protected-access\u001b[0m\u001b[0;34m\u001b[0m\u001b[0;34m\u001b[0m\u001b[0m\n\u001b[0m\u001b[1;32m   2830\u001b[0m \u001b[0;34m\u001b[0m\u001b[0m\n\u001b[1;32m   2831\u001b[0m   \u001b[0;34m@\u001b[0m\u001b[0mproperty\u001b[0m\u001b[0;34m\u001b[0m\u001b[0;34m\u001b[0m\u001b[0m\n",
            "\u001b[0;32m/usr/local/lib/python3.6/dist-packages/tensorflow/python/eager/function.py\u001b[0m in \u001b[0;36m_filtered_call\u001b[0;34m(self, args, kwargs, cancellation_manager)\u001b[0m\n\u001b[1;32m   1846\u001b[0m                            resource_variable_ops.BaseResourceVariable))],\n\u001b[1;32m   1847\u001b[0m         \u001b[0mcaptured_inputs\u001b[0m\u001b[0;34m=\u001b[0m\u001b[0mself\u001b[0m\u001b[0;34m.\u001b[0m\u001b[0mcaptured_inputs\u001b[0m\u001b[0;34m,\u001b[0m\u001b[0;34m\u001b[0m\u001b[0;34m\u001b[0m\u001b[0m\n\u001b[0;32m-> 1848\u001b[0;31m         cancellation_manager=cancellation_manager)\n\u001b[0m\u001b[1;32m   1849\u001b[0m \u001b[0;34m\u001b[0m\u001b[0m\n\u001b[1;32m   1850\u001b[0m   \u001b[0;32mdef\u001b[0m \u001b[0m_call_flat\u001b[0m\u001b[0;34m(\u001b[0m\u001b[0mself\u001b[0m\u001b[0;34m,\u001b[0m \u001b[0margs\u001b[0m\u001b[0;34m,\u001b[0m \u001b[0mcaptured_inputs\u001b[0m\u001b[0;34m,\u001b[0m \u001b[0mcancellation_manager\u001b[0m\u001b[0;34m=\u001b[0m\u001b[0;32mNone\u001b[0m\u001b[0;34m)\u001b[0m\u001b[0;34m:\u001b[0m\u001b[0;34m\u001b[0m\u001b[0;34m\u001b[0m\u001b[0m\n",
            "\u001b[0;32m/usr/local/lib/python3.6/dist-packages/tensorflow/python/eager/function.py\u001b[0m in \u001b[0;36m_call_flat\u001b[0;34m(self, args, captured_inputs, cancellation_manager)\u001b[0m\n\u001b[1;32m   1922\u001b[0m       \u001b[0;31m# No tape is watching; skip to running the function.\u001b[0m\u001b[0;34m\u001b[0m\u001b[0;34m\u001b[0m\u001b[0;34m\u001b[0m\u001b[0m\n\u001b[1;32m   1923\u001b[0m       return self._build_call_outputs(self._inference_function.call(\n\u001b[0;32m-> 1924\u001b[0;31m           ctx, args, cancellation_manager=cancellation_manager))\n\u001b[0m\u001b[1;32m   1925\u001b[0m     forward_backward = self._select_forward_and_backward_functions(\n\u001b[1;32m   1926\u001b[0m         \u001b[0margs\u001b[0m\u001b[0;34m,\u001b[0m\u001b[0;34m\u001b[0m\u001b[0;34m\u001b[0m\u001b[0m\n",
            "\u001b[0;32m/usr/local/lib/python3.6/dist-packages/tensorflow/python/eager/function.py\u001b[0m in \u001b[0;36mcall\u001b[0;34m(self, ctx, args, cancellation_manager)\u001b[0m\n\u001b[1;32m    548\u001b[0m               \u001b[0minputs\u001b[0m\u001b[0;34m=\u001b[0m\u001b[0margs\u001b[0m\u001b[0;34m,\u001b[0m\u001b[0;34m\u001b[0m\u001b[0;34m\u001b[0m\u001b[0m\n\u001b[1;32m    549\u001b[0m               \u001b[0mattrs\u001b[0m\u001b[0;34m=\u001b[0m\u001b[0mattrs\u001b[0m\u001b[0;34m,\u001b[0m\u001b[0;34m\u001b[0m\u001b[0;34m\u001b[0m\u001b[0m\n\u001b[0;32m--> 550\u001b[0;31m               ctx=ctx)\n\u001b[0m\u001b[1;32m    551\u001b[0m         \u001b[0;32melse\u001b[0m\u001b[0;34m:\u001b[0m\u001b[0;34m\u001b[0m\u001b[0;34m\u001b[0m\u001b[0m\n\u001b[1;32m    552\u001b[0m           outputs = execute.execute_with_cancellation(\n",
            "\u001b[0;32m/usr/local/lib/python3.6/dist-packages/tensorflow/python/eager/execute.py\u001b[0m in \u001b[0;36mquick_execute\u001b[0;34m(op_name, num_outputs, inputs, attrs, ctx, name)\u001b[0m\n\u001b[1;32m     58\u001b[0m     \u001b[0mctx\u001b[0m\u001b[0;34m.\u001b[0m\u001b[0mensure_initialized\u001b[0m\u001b[0;34m(\u001b[0m\u001b[0;34m)\u001b[0m\u001b[0;34m\u001b[0m\u001b[0;34m\u001b[0m\u001b[0m\n\u001b[1;32m     59\u001b[0m     tensors = pywrap_tfe.TFE_Py_Execute(ctx._handle, device_name, op_name,\n\u001b[0;32m---> 60\u001b[0;31m                                         inputs, attrs, num_outputs)\n\u001b[0m\u001b[1;32m     61\u001b[0m   \u001b[0;32mexcept\u001b[0m \u001b[0mcore\u001b[0m\u001b[0;34m.\u001b[0m\u001b[0m_NotOkStatusException\u001b[0m \u001b[0;32mas\u001b[0m \u001b[0me\u001b[0m\u001b[0;34m:\u001b[0m\u001b[0;34m\u001b[0m\u001b[0;34m\u001b[0m\u001b[0m\n\u001b[1;32m     62\u001b[0m     \u001b[0;32mif\u001b[0m \u001b[0mname\u001b[0m \u001b[0;32mis\u001b[0m \u001b[0;32mnot\u001b[0m \u001b[0;32mNone\u001b[0m\u001b[0;34m:\u001b[0m\u001b[0;34m\u001b[0m\u001b[0;34m\u001b[0m\u001b[0m\n",
            "\u001b[0;31mKeyboardInterrupt\u001b[0m: "
          ]
        }
      ]
    },
    {
      "cell_type": "code",
      "metadata": {
        "tags": [],
        "id": "X4PNtrv0MaVp",
        "colab_type": "code",
        "colab": {}
      },
      "source": [
        "preds = model.predict(X_holdout,batch_size = batch_size,callbacks=callbacks_list)"
      ],
      "execution_count": null,
      "outputs": []
    },
    {
      "cell_type": "markdown",
      "metadata": {
        "id": "Y8PCgJ71cDUf",
        "colab_type": "text"
      },
      "source": [
        "Here, Predicitions and True Labels of the Holdout Set are scaled back to measure the CAPE Error, and be compared on a Chart."
      ]
    },
    {
      "cell_type": "code",
      "metadata": {
        "id": "wXT215AXZ1mm",
        "colab_type": "code",
        "colab": {}
      },
      "source": [
        "preds = scaler.inverse_transform(preds)\n",
        "y_holdout = scaler.inverse_transform(pd.DataFrame(y_holdout))"
      ],
      "execution_count": null,
      "outputs": []
    },
    {
      "cell_type": "code",
      "metadata": {
        "id": "Pnu0r9nEsdN8",
        "colab_type": "code",
        "colab": {}
      },
      "source": [
        "def metric_cnr(preds,labels):\n",
        "    cape_cnr = 100*np.sum(np.abs(preds-labels))/np.sum(labels)\n",
        "    return 'CAPE', cape_cnr"
      ],
      "execution_count": null,
      "outputs": []
    },
    {
      "cell_type": "code",
      "metadata": {
        "id": "Y2_xB0ODWiZ7",
        "colab_type": "code",
        "colab": {}
      },
      "source": [
        "metric_cnr(preds,y_holdout)"
      ],
      "execution_count": null,
      "outputs": []
    },
    {
      "cell_type": "code",
      "metadata": {
        "id": "l_TjOBo0MaVr",
        "colab_type": "code",
        "colab": {}
      },
      "source": [
        "plt.figure(figsize=(15,8))\n",
        "preds_len = np.arange(len(y_holdout))\n",
        "plt.plot(preds_len,y_holdout,label='True Values')\n",
        "plt.plot(preds_len,preds,'r--',label='Predicts')\n",
        "plt.legend()"
      ],
      "execution_count": null,
      "outputs": []
    },
    {
      "cell_type": "markdown",
      "metadata": {
        "id": "x-CCiRv1Mias",
        "colab_type": "text"
      },
      "source": [
        "## Submission Generation"
      ]
    },
    {
      "cell_type": "markdown",
      "metadata": {
        "id": "mAz3_aaLRNcG",
        "colab_type": "text"
      },
      "source": [
        "First, a function with all the preprocessing made to prepare data for network is defined."
      ]
    },
    {
      "cell_type": "markdown",
      "metadata": {
        "id": "tYtIDxev6ave",
        "colab_type": "text"
      },
      "source": [
        "Here's a Function with all the Process of Submit Gen for One Wind Farm. This Model is the Standard:"
      ]
    },
    {
      "cell_type": "code",
      "metadata": {
        "id": "Pgk0VwBB-cVs",
        "colab_type": "code",
        "colab": {}
      },
      "source": [
        "def WF_submit_gen(full_data,full_label,WF,input_shape,batch_size):\n",
        "  # Get Data of Wind Farm\n",
        "  X_WF = full_data[full_data['WF']==WF]\n",
        "\n",
        "  # Scale X Data\n",
        "  X_WF = preprocessing_X(X_WF)\n",
        "\n",
        "  full_X_train = X_WF[X_WF['Set']=='Train']\n",
        "  full_X_test = X_WF[X_WF['Set']=='Test']\n",
        "  full_y_train = full_label[full_label['ID'].isin(full_X_train['ID'])]\n",
        "\n",
        "  # Scale y_train\n",
        "  full_y_train,scaler_y = preprocessing_y(full_y_train)\n",
        "\n",
        "  # Subsets Generation\n",
        "  full_X_train = full_X_train.drop(['ID','WF','Set'],axis=1)\n",
        "  full_X_train, full_y_train = split_sequences(full_X_train.values,full_y_train.values,n_steps)\n",
        "\n",
        "  full_X_test = full_X_test.reset_index().drop('index',axis=1)\n",
        "  full_X_test_split = full_X_test.drop(['ID','WF','Set'],axis=1)\n",
        "  full_X_test_split = shift_save(full_X_test_split,n_steps)\n",
        "  full_X_test_split, _ = split_sequences(full_X_test_split.values,None,n_steps)\n",
        "\n",
        "  # Months Loop\n",
        "  WF_preds = np.empty(0)\n",
        "  predicted_X_test = np.empty((0,60,95))\n",
        "  for month in full_X_test['Month_Number'].unique():\n",
        "\n",
        "    print(\"Farm {} - Month {}\".format(WF,month))\n",
        "\n",
        "    # Special Condition for Month 10\n",
        "    if month == 9:\n",
        "      X_test = full_X_test[full_X_test['Month_Number']==month]\n",
        "      X_test_10 = full_X_test[full_X_test['Month_Number']==10]\n",
        "      X_test = pd.concat([X_test,X_test_10])\n",
        "    else:\n",
        "      X_test = full_X_test[full_X_test['Month_Number']==month]\n",
        "\n",
        "    if month == 10:\n",
        "      continue\n",
        "    \n",
        "    # Separate Month Data on Numpy Matrix\n",
        "    ids = X_test.index\n",
        "    X_test = full_X_test_split[[ids]]\n",
        "\n",
        "    # Append Data Already Predicted\n",
        "    X_train = np.append(full_X_train,predicted_X_test,axis=0)\n",
        "    y_train = np.append(full_y_train,WF_preds,axis=0)\n",
        "\n",
        "    # Split Train Data on Train and Validation Set\n",
        "    X_train, X_val, y_train, y_val = train_test_split(X_train, y_train, test_size=0.2, shuffle=False)\n",
        "\n",
        "    # Model Creation and Training\n",
        "    model = LSTM_Model(input_shape,batch_size=batch_size)\n",
        "    callbacks_list = [tf.keras.callbacks.EarlyStopping(monitor=monitor, patience=patience, verbose=0, min_delta=1e-8)]\n",
        "    model.compile(optimizer='adam', loss='mse', metrics=[tf.keras.metrics.RootMeanSquaredError()])\n",
        "    model.fit(x = X_train, y = y_train, batch_size = batch_size, epochs = epochs, validation_data = (X_val, y_val), callbacks=callbacks_list,shuffle=False)\n",
        "\n",
        "    # Prediction Generation\n",
        "    pred = model.predict(X_test,batch_size = batch_size,callbacks=callbacks_list)\n",
        "    pred = pred.reshape(pred.shape[0])\n",
        "\n",
        "    # Save Predictions on Final Array\n",
        "    predicted_X_test = np.append(predicted_X_test,X_test,axis=0)\n",
        "    WF_preds = np.append(WF_preds,pred)\n",
        "\n",
        "  WF_preds = scaler_y.inverse_transform(pd.DataFrame(WF_preds))\n",
        "  WF_preds = pd.DataFrame(WF_preds,columns=['Production'])\n",
        "\n",
        "  return WF_preds"
      ],
      "execution_count": null,
      "outputs": []
    },
    {
      "cell_type": "code",
      "metadata": {
        "id": "b1Y2kRnDLxG3",
        "colab_type": "code",
        "colab": {}
      },
      "source": [
        "def WF_submit_gen_2(full_data,full_label,WF,input_shape,batch_size):\n",
        "  # Get Data of Wind Farm\n",
        "  X_WF = full_data[full_data['WF']==WF]\n",
        "\n",
        "  full_X_train = X_WF[X_WF['Set']=='Train']\n",
        "  full_X_test = X_WF[X_WF['Set']=='Test']\n",
        "  full_y_train = full_label[full_label['ID'].isin(full_X_train['ID'])]\n",
        "\n",
        "  # Months Loop\n",
        "  WF_preds = np.empty(0)\n",
        "  predicted_X_test = np.empty((0,60,95))\n",
        "  for month in full_X_test['Month_Number'].unique():\n",
        "\n",
        "    print(\"Farm {} - Month {}\".format(WF,month))\n",
        "\n",
        "    # Special Condition for Month 10\n",
        "    if month == 9:\n",
        "      X_test = full_X_test[full_X_test['Month_Number']==month]\n",
        "      X_test_10 = full_X_test[full_X_test['Month_Number']==10]\n",
        "      X_test = pd.concat([X_test,X_test_10])\n",
        "    else:\n",
        "      X_test = full_X_test[full_X_test['Month_Number']==month]\n",
        "\n",
        "    if month == 10:\n",
        "      continue\n",
        "\n",
        "    # Append Data Already Predicted\n",
        "    X_train = np.append(full_X_train,predicted_X_test,axis=0)\n",
        "    y_train = np.append(full_y_train,WF_preds,axis=0)\n",
        "\n",
        "    # Split Train Data on Train and Validation Set\n",
        "    X_train, X_val, y_train, y_val = train_test_split(X_train, y_train, test_size=0.2, shuffle=False)\n",
        "\n",
        "    # Preprocessing Data\n",
        "    X_train = preprocessing_X(X_train)\n",
        "    X_val = preprocessing_X(X_val)\n",
        "    X_test = preprocessing_X(X_test)\n",
        "\n",
        "    X_train = X_train.drop(['ID','WF','Set'],axis=1)\n",
        "    X_val = X_val.drop(['ID','WF','Set'],axis=1)\n",
        "    X_test = X_test.drop(['ID','WF','Set'],axis=1)\n",
        "\n",
        "    y_train,scaler_y = preprocessing_y(y_train)\n",
        "    y_val,_ = preprocessing_y(y_val)\n",
        "\n",
        "    # Subset Creation \n",
        "\n",
        "    X_train, y_train = split_sequences(X_train.values,y_train.values,n_steps)\n",
        "    X_val, y_val = split_sequences(X_val.values,y_val.values,n_steps)\n",
        "    X_test, _ = split_sequences(X_test.values,None,n_steps)\n",
        "\n",
        "    # Model Creation and Training\n",
        "    model = LSTM_Model(input_shape,batch_size=batch_size)\n",
        "    callbacks_list = [tf.keras.callbacks.EarlyStopping(monitor=monitor, patience=patience, verbose=0, min_delta=1e-8)]\n",
        "    model.compile(optimizer='adam', loss='mse', metrics=[tf.keras.metrics.RootMeanSquaredError()])\n",
        "    model.fit(x = X_train, y = y_train, batch_size = batch_size, epochs = epochs, validation_data = (X_val, y_val), callbacks=callbacks_list,shuffle=False)\n",
        "\n",
        "    # Prediction Generation\n",
        "    pred = model.predict(X_test,batch_size = batch_size,callbacks=callbacks_list)\n",
        "    pred = pred.reshape(pred.shape[0])\n",
        "\n",
        "    # Save Predictions on Final Array\n",
        "    predicted_X_test = np.append(predicted_X_test,X_test,axis=0)\n",
        "    WF_preds = np.append(WF_preds,pred)\n",
        "\n",
        "  WF_preds = scaler_y.inverse_transform(pd.DataFrame(WF_preds))\n",
        "  WF_preds = pd.DataFrame(WF_preds,columns=['Production'])\n",
        "\n",
        "  return WF_preds"
      ],
      "execution_count": null,
      "outputs": []
    },
    {
      "cell_type": "markdown",
      "metadata": {
        "id": "x1_odnSc6lLx",
        "colab_type": "text"
      },
      "source": [
        "Direct Submit Generation:"
      ]
    },
    {
      "cell_type": "code",
      "metadata": {
        "id": "HZxI1nocllLd",
        "colab_type": "code",
        "colab": {}
      },
      "source": [
        "def WF_submit_gen_3(full_data,full_label,WF,input_shape,batch_size):\n",
        "  # Get Data of Wind Farm\n",
        "  X_WF = full_data[full_data['WF']==WF]\n",
        "\n",
        "  # Scale X Data\n",
        "  X_WF = preprocessing_X(X_WF)\n",
        "\n",
        "  full_X_train = X_WF[X_WF['Set']=='Train']\n",
        "  full_X_test = X_WF[X_WF['Set']=='Test']\n",
        "  full_y_train = full_label[full_label['ID'].isin(full_X_train['ID'])]\n",
        "\n",
        "  # Scale y_train\n",
        "  full_y_train,scaler_y = preprocessing_y(full_y_train)\n",
        "\n",
        "  # Subsets Generation\n",
        "  full_X_train = full_X_train.drop(['ID','WF','Set'],axis=1)\n",
        "  full_X_train, full_y_train = split_sequences(full_X_train.values,full_y_train.values,n_steps)\n",
        "\n",
        "  full_X_test_split = full_X_test.drop(['ID','WF','Set'],axis=1)\n",
        "  full_X_test_split = shift_save(full_X_test_split,n_steps)\n",
        "  full_X_test_split, _ = split_sequences(full_X_test_split.values,None,n_steps)\n",
        "\n",
        "  # Split Train Data on Train and Validation Set\n",
        "  X_train, X_val, y_train, y_val = train_test_split(full_X_train, full_y_train, test_size=0.3, shuffle=False)\n",
        "\n",
        "  # Model Creation and Training\n",
        "  model = LSTM_Model(input_shape,batch_size=batch_size)\n",
        "  callbacks_list = [tf.keras.callbacks.EarlyStopping(monitor=monitor, patience=patience, verbose=0, min_delta=1e-8)]\n",
        "  model.compile(optimizer='adam', loss='mse', metrics=[tf.keras.metrics.RootMeanSquaredError()])\n",
        "  model.fit(x = X_train, y = y_train, batch_size = batch_size, epochs = epochs, validation_data = (X_val, y_val), callbacks=callbacks_list,shuffle=False)\n",
        "\n",
        "  # Prediction Generation\n",
        "  pred = model.predict(full_X_test_split,batch_size = batch_size,callbacks=callbacks_list)\n",
        "  pred = pred.reshape(pred.shape[0])\n",
        "\n",
        "  WF_preds = scaler_y.inverse_transform(pd.DataFrame(pred))\n",
        "  WF_preds = pd.DataFrame(WF_preds,columns=['Production'])\n",
        "\n",
        "  return WF_preds"
      ],
      "execution_count": null,
      "outputs": []
    },
    {
      "cell_type": "code",
      "metadata": {
        "id": "lhdQ4elWhebU",
        "colab_type": "code",
        "colab": {
          "base_uri": "https://localhost:8080/",
          "height": 1000
        },
        "outputId": "fdc6794a-20b7-49e6-acf1-a4662de80585"
      },
      "source": [
        "final_preds = pd.DataFrame()\n",
        "for WF in full_data['WF'].unique():\n",
        "  WF_preds = WF_submit_gen_2(full_data,full_label,WF,input_shape,batch_size)\n",
        "  final_preds = final_preds.append(WF_preds)"
      ],
      "execution_count": null,
      "outputs": [
        {
          "output_type": "stream",
          "text": [
            "/usr/local/lib/python3.6/dist-packages/ipykernel_launcher.py:15: SettingWithCopyWarning: \n",
            "A value is trying to be set on a copy of a slice from a DataFrame.\n",
            "Try using .loc[row_indexer,col_indexer] = value instead\n",
            "\n",
            "See the caveats in the documentation: https://pandas.pydata.org/pandas-docs/stable/user_guide/indexing.html#returning-a-view-versus-a-copy\n",
            "  from ipykernel import kernelapp as app\n",
            "/usr/local/lib/python3.6/dist-packages/ipykernel_launcher.py:16: SettingWithCopyWarning: \n",
            "A value is trying to be set on a copy of a slice from a DataFrame.\n",
            "Try using .loc[row_indexer,col_indexer] = value instead\n",
            "\n",
            "See the caveats in the documentation: https://pandas.pydata.org/pandas-docs/stable/user_guide/indexing.html#returning-a-view-versus-a-copy\n",
            "  app.launch_new_instance()\n",
            "/usr/local/lib/python3.6/dist-packages/ipykernel_launcher.py:17: SettingWithCopyWarning: \n",
            "A value is trying to be set on a copy of a slice from a DataFrame.\n",
            "Try using .loc[row_indexer,col_indexer] = value instead\n",
            "\n",
            "See the caveats in the documentation: https://pandas.pydata.org/pandas-docs/stable/user_guide/indexing.html#returning-a-view-versus-a-copy\n",
            "/usr/local/lib/python3.6/dist-packages/ipykernel_launcher.py:18: SettingWithCopyWarning: \n",
            "A value is trying to be set on a copy of a slice from a DataFrame.\n",
            "Try using .loc[row_indexer,col_indexer] = value instead\n",
            "\n",
            "See the caveats in the documentation: https://pandas.pydata.org/pandas-docs/stable/user_guide/indexing.html#returning-a-view-versus-a-copy\n"
          ],
          "name": "stderr"
        },
        {
          "output_type": "stream",
          "text": [
            "Epoch 1/10\n",
            "4326/4326 [==============================] - 49s 11ms/step - loss: 0.2215 - root_mean_squared_error: 0.4706 - val_loss: 0.4896 - val_root_mean_squared_error: 0.6997\n",
            "Epoch 2/10\n",
            "4326/4326 [==============================] - 48s 11ms/step - loss: 0.2266 - root_mean_squared_error: 0.4760 - val_loss: 0.4950 - val_root_mean_squared_error: 0.7036\n",
            "Epoch 3/10\n",
            "4326/4326 [==============================] - 49s 11ms/step - loss: 0.2364 - root_mean_squared_error: 0.4862 - val_loss: 0.4967 - val_root_mean_squared_error: 0.7048\n",
            "Epoch 4/10\n",
            "4326/4326 [==============================] - 48s 11ms/step - loss: 0.2293 - root_mean_squared_error: 0.4788 - val_loss: 0.5008 - val_root_mean_squared_error: 0.7077\n"
          ],
          "name": "stdout"
        },
        {
          "output_type": "stream",
          "text": [
            "/usr/local/lib/python3.6/dist-packages/ipykernel_launcher.py:15: SettingWithCopyWarning: \n",
            "A value is trying to be set on a copy of a slice from a DataFrame.\n",
            "Try using .loc[row_indexer,col_indexer] = value instead\n",
            "\n",
            "See the caveats in the documentation: https://pandas.pydata.org/pandas-docs/stable/user_guide/indexing.html#returning-a-view-versus-a-copy\n",
            "  from ipykernel import kernelapp as app\n",
            "/usr/local/lib/python3.6/dist-packages/ipykernel_launcher.py:16: SettingWithCopyWarning: \n",
            "A value is trying to be set on a copy of a slice from a DataFrame.\n",
            "Try using .loc[row_indexer,col_indexer] = value instead\n",
            "\n",
            "See the caveats in the documentation: https://pandas.pydata.org/pandas-docs/stable/user_guide/indexing.html#returning-a-view-versus-a-copy\n",
            "  app.launch_new_instance()\n",
            "/usr/local/lib/python3.6/dist-packages/ipykernel_launcher.py:17: SettingWithCopyWarning: \n",
            "A value is trying to be set on a copy of a slice from a DataFrame.\n",
            "Try using .loc[row_indexer,col_indexer] = value instead\n",
            "\n",
            "See the caveats in the documentation: https://pandas.pydata.org/pandas-docs/stable/user_guide/indexing.html#returning-a-view-versus-a-copy\n",
            "/usr/local/lib/python3.6/dist-packages/ipykernel_launcher.py:18: SettingWithCopyWarning: \n",
            "A value is trying to be set on a copy of a slice from a DataFrame.\n",
            "Try using .loc[row_indexer,col_indexer] = value instead\n",
            "\n",
            "See the caveats in the documentation: https://pandas.pydata.org/pandas-docs/stable/user_guide/indexing.html#returning-a-view-versus-a-copy\n"
          ],
          "name": "stderr"
        },
        {
          "output_type": "stream",
          "text": [
            "Epoch 1/10\n",
            "4326/4326 [==============================] - 49s 11ms/step - loss: 0.0669 - root_mean_squared_error: 0.2587 - val_loss: 0.2439 - val_root_mean_squared_error: 0.4939\n",
            "Epoch 2/10\n",
            "4326/4326 [==============================] - 48s 11ms/step - loss: 0.0644 - root_mean_squared_error: 0.2537 - val_loss: 0.2399 - val_root_mean_squared_error: 0.4898\n",
            "Epoch 3/10\n",
            "4326/4326 [==============================] - 48s 11ms/step - loss: 0.0649 - root_mean_squared_error: 0.2548 - val_loss: 0.2408 - val_root_mean_squared_error: 0.4907\n",
            "Epoch 4/10\n",
            "4326/4326 [==============================] - 48s 11ms/step - loss: 0.0644 - root_mean_squared_error: 0.2539 - val_loss: 0.2389 - val_root_mean_squared_error: 0.4888\n",
            "Epoch 5/10\n",
            "4326/4326 [==============================] - 49s 11ms/step - loss: 0.0651 - root_mean_squared_error: 0.2552 - val_loss: 0.2422 - val_root_mean_squared_error: 0.4921\n"
          ],
          "name": "stdout"
        },
        {
          "output_type": "stream",
          "text": [
            "/usr/local/lib/python3.6/dist-packages/ipykernel_launcher.py:15: SettingWithCopyWarning: \n",
            "A value is trying to be set on a copy of a slice from a DataFrame.\n",
            "Try using .loc[row_indexer,col_indexer] = value instead\n",
            "\n",
            "See the caveats in the documentation: https://pandas.pydata.org/pandas-docs/stable/user_guide/indexing.html#returning-a-view-versus-a-copy\n",
            "  from ipykernel import kernelapp as app\n",
            "/usr/local/lib/python3.6/dist-packages/ipykernel_launcher.py:16: SettingWithCopyWarning: \n",
            "A value is trying to be set on a copy of a slice from a DataFrame.\n",
            "Try using .loc[row_indexer,col_indexer] = value instead\n",
            "\n",
            "See the caveats in the documentation: https://pandas.pydata.org/pandas-docs/stable/user_guide/indexing.html#returning-a-view-versus-a-copy\n",
            "  app.launch_new_instance()\n",
            "/usr/local/lib/python3.6/dist-packages/ipykernel_launcher.py:17: SettingWithCopyWarning: \n",
            "A value is trying to be set on a copy of a slice from a DataFrame.\n",
            "Try using .loc[row_indexer,col_indexer] = value instead\n",
            "\n",
            "See the caveats in the documentation: https://pandas.pydata.org/pandas-docs/stable/user_guide/indexing.html#returning-a-view-versus-a-copy\n",
            "/usr/local/lib/python3.6/dist-packages/ipykernel_launcher.py:18: SettingWithCopyWarning: \n",
            "A value is trying to be set on a copy of a slice from a DataFrame.\n",
            "Try using .loc[row_indexer,col_indexer] = value instead\n",
            "\n",
            "See the caveats in the documentation: https://pandas.pydata.org/pandas-docs/stable/user_guide/indexing.html#returning-a-view-versus-a-copy\n"
          ],
          "name": "stderr"
        },
        {
          "output_type": "stream",
          "text": [
            "Epoch 1/10\n",
            "4326/4326 [==============================] - 48s 11ms/step - loss: 0.0854 - root_mean_squared_error: 0.2923 - val_loss: 0.2284 - val_root_mean_squared_error: 0.4779\n",
            "Epoch 2/10\n",
            "4326/4326 [==============================] - 47s 11ms/step - loss: 0.0849 - root_mean_squared_error: 0.2915 - val_loss: 0.2180 - val_root_mean_squared_error: 0.4669\n",
            "Epoch 3/10\n",
            "4326/4326 [==============================] - 47s 11ms/step - loss: 0.0856 - root_mean_squared_error: 0.2926 - val_loss: 0.2149 - val_root_mean_squared_error: 0.4636\n",
            "Epoch 4/10\n",
            "4326/4326 [==============================] - 47s 11ms/step - loss: 0.0830 - root_mean_squared_error: 0.2882 - val_loss: 0.2155 - val_root_mean_squared_error: 0.4642\n",
            "Epoch 5/10\n",
            "4326/4326 [==============================] - 47s 11ms/step - loss: 0.0788 - root_mean_squared_error: 0.2807 - val_loss: 0.2259 - val_root_mean_squared_error: 0.4753\n",
            "Epoch 6/10\n",
            "4326/4326 [==============================] - 48s 11ms/step - loss: 0.0772 - root_mean_squared_error: 0.2779 - val_loss: 0.2268 - val_root_mean_squared_error: 0.4762\n",
            "Epoch 7/10\n",
            "4326/4326 [==============================] - 47s 11ms/step - loss: 0.0791 - root_mean_squared_error: 0.2813 - val_loss: 0.2259 - val_root_mean_squared_error: 0.4753\n",
            "Epoch 8/10\n",
            "4326/4326 [==============================] - 47s 11ms/step - loss: 0.0786 - root_mean_squared_error: 0.2804 - val_loss: 0.2269 - val_root_mean_squared_error: 0.4763\n",
            "Epoch 9/10\n",
            "4326/4326 [==============================] - 46s 11ms/step - loss: 0.0778 - root_mean_squared_error: 0.2789 - val_loss: 0.2228 - val_root_mean_squared_error: 0.4720\n"
          ],
          "name": "stdout"
        },
        {
          "output_type": "stream",
          "text": [
            "/usr/local/lib/python3.6/dist-packages/ipykernel_launcher.py:15: SettingWithCopyWarning: \n",
            "A value is trying to be set on a copy of a slice from a DataFrame.\n",
            "Try using .loc[row_indexer,col_indexer] = value instead\n",
            "\n",
            "See the caveats in the documentation: https://pandas.pydata.org/pandas-docs/stable/user_guide/indexing.html#returning-a-view-versus-a-copy\n",
            "  from ipykernel import kernelapp as app\n",
            "/usr/local/lib/python3.6/dist-packages/ipykernel_launcher.py:16: SettingWithCopyWarning: \n",
            "A value is trying to be set on a copy of a slice from a DataFrame.\n",
            "Try using .loc[row_indexer,col_indexer] = value instead\n",
            "\n",
            "See the caveats in the documentation: https://pandas.pydata.org/pandas-docs/stable/user_guide/indexing.html#returning-a-view-versus-a-copy\n",
            "  app.launch_new_instance()\n",
            "/usr/local/lib/python3.6/dist-packages/ipykernel_launcher.py:17: SettingWithCopyWarning: \n",
            "A value is trying to be set on a copy of a slice from a DataFrame.\n",
            "Try using .loc[row_indexer,col_indexer] = value instead\n",
            "\n",
            "See the caveats in the documentation: https://pandas.pydata.org/pandas-docs/stable/user_guide/indexing.html#returning-a-view-versus-a-copy\n",
            "/usr/local/lib/python3.6/dist-packages/ipykernel_launcher.py:18: SettingWithCopyWarning: \n",
            "A value is trying to be set on a copy of a slice from a DataFrame.\n",
            "Try using .loc[row_indexer,col_indexer] = value instead\n",
            "\n",
            "See the caveats in the documentation: https://pandas.pydata.org/pandas-docs/stable/user_guide/indexing.html#returning-a-view-versus-a-copy\n"
          ],
          "name": "stderr"
        },
        {
          "output_type": "stream",
          "text": [
            "Epoch 1/10\n",
            "4326/4326 [==============================] - 48s 11ms/step - loss: 0.0674 - root_mean_squared_error: 0.2597 - val_loss: 0.2646 - val_root_mean_squared_error: 0.5144\n",
            "Epoch 2/10\n",
            "4326/4326 [==============================] - 47s 11ms/step - loss: 0.0675 - root_mean_squared_error: 0.2598 - val_loss: 0.2660 - val_root_mean_squared_error: 0.5157\n",
            "Epoch 3/10\n",
            "4326/4326 [==============================] - 47s 11ms/step - loss: 0.0657 - root_mean_squared_error: 0.2563 - val_loss: 0.2626 - val_root_mean_squared_error: 0.5125\n",
            "Epoch 4/10\n",
            "4326/4326 [==============================] - 47s 11ms/step - loss: 0.0663 - root_mean_squared_error: 0.2575 - val_loss: 0.2670 - val_root_mean_squared_error: 0.5167\n",
            "Epoch 5/10\n",
            "4326/4326 [==============================] - 47s 11ms/step - loss: 0.0687 - root_mean_squared_error: 0.2622 - val_loss: 0.2676 - val_root_mean_squared_error: 0.5173\n",
            "Epoch 6/10\n",
            "4326/4326 [==============================] - 47s 11ms/step - loss: 0.0678 - root_mean_squared_error: 0.2603 - val_loss: 0.2682 - val_root_mean_squared_error: 0.5179\n"
          ],
          "name": "stdout"
        },
        {
          "output_type": "stream",
          "text": [
            "/usr/local/lib/python3.6/dist-packages/ipykernel_launcher.py:15: SettingWithCopyWarning: \n",
            "A value is trying to be set on a copy of a slice from a DataFrame.\n",
            "Try using .loc[row_indexer,col_indexer] = value instead\n",
            "\n",
            "See the caveats in the documentation: https://pandas.pydata.org/pandas-docs/stable/user_guide/indexing.html#returning-a-view-versus-a-copy\n",
            "  from ipykernel import kernelapp as app\n",
            "/usr/local/lib/python3.6/dist-packages/ipykernel_launcher.py:16: SettingWithCopyWarning: \n",
            "A value is trying to be set on a copy of a slice from a DataFrame.\n",
            "Try using .loc[row_indexer,col_indexer] = value instead\n",
            "\n",
            "See the caveats in the documentation: https://pandas.pydata.org/pandas-docs/stable/user_guide/indexing.html#returning-a-view-versus-a-copy\n",
            "  app.launch_new_instance()\n",
            "/usr/local/lib/python3.6/dist-packages/ipykernel_launcher.py:17: SettingWithCopyWarning: \n",
            "A value is trying to be set on a copy of a slice from a DataFrame.\n",
            "Try using .loc[row_indexer,col_indexer] = value instead\n",
            "\n",
            "See the caveats in the documentation: https://pandas.pydata.org/pandas-docs/stable/user_guide/indexing.html#returning-a-view-versus-a-copy\n",
            "/usr/local/lib/python3.6/dist-packages/ipykernel_launcher.py:18: SettingWithCopyWarning: \n",
            "A value is trying to be set on a copy of a slice from a DataFrame.\n",
            "Try using .loc[row_indexer,col_indexer] = value instead\n",
            "\n",
            "See the caveats in the documentation: https://pandas.pydata.org/pandas-docs/stable/user_guide/indexing.html#returning-a-view-versus-a-copy\n"
          ],
          "name": "stderr"
        },
        {
          "output_type": "stream",
          "text": [
            "Epoch 1/10\n",
            "4284/4284 [==============================] - 47s 11ms/step - loss: 0.0423 - root_mean_squared_error: 0.2056 - val_loss: 0.2607 - val_root_mean_squared_error: 0.5106\n",
            "Epoch 2/10\n",
            "4284/4284 [==============================] - 46s 11ms/step - loss: 0.0459 - root_mean_squared_error: 0.2143 - val_loss: 0.2543 - val_root_mean_squared_error: 0.5043\n",
            "Epoch 3/10\n",
            "4284/4284 [==============================] - 47s 11ms/step - loss: 0.0459 - root_mean_squared_error: 0.2143 - val_loss: 0.2533 - val_root_mean_squared_error: 0.5033\n",
            "Epoch 4/10\n",
            "4284/4284 [==============================] - 47s 11ms/step - loss: 0.0468 - root_mean_squared_error: 0.2164 - val_loss: 0.2514 - val_root_mean_squared_error: 0.5014\n"
          ],
          "name": "stdout"
        },
        {
          "output_type": "stream",
          "text": [
            "/usr/local/lib/python3.6/dist-packages/ipykernel_launcher.py:15: SettingWithCopyWarning: \n",
            "A value is trying to be set on a copy of a slice from a DataFrame.\n",
            "Try using .loc[row_indexer,col_indexer] = value instead\n",
            "\n",
            "See the caveats in the documentation: https://pandas.pydata.org/pandas-docs/stable/user_guide/indexing.html#returning-a-view-versus-a-copy\n",
            "  from ipykernel import kernelapp as app\n",
            "/usr/local/lib/python3.6/dist-packages/ipykernel_launcher.py:16: SettingWithCopyWarning: \n",
            "A value is trying to be set on a copy of a slice from a DataFrame.\n",
            "Try using .loc[row_indexer,col_indexer] = value instead\n",
            "\n",
            "See the caveats in the documentation: https://pandas.pydata.org/pandas-docs/stable/user_guide/indexing.html#returning-a-view-versus-a-copy\n",
            "  app.launch_new_instance()\n",
            "/usr/local/lib/python3.6/dist-packages/ipykernel_launcher.py:17: SettingWithCopyWarning: \n",
            "A value is trying to be set on a copy of a slice from a DataFrame.\n",
            "Try using .loc[row_indexer,col_indexer] = value instead\n",
            "\n",
            "See the caveats in the documentation: https://pandas.pydata.org/pandas-docs/stable/user_guide/indexing.html#returning-a-view-versus-a-copy\n",
            "/usr/local/lib/python3.6/dist-packages/ipykernel_launcher.py:18: SettingWithCopyWarning: \n",
            "A value is trying to be set on a copy of a slice from a DataFrame.\n",
            "Try using .loc[row_indexer,col_indexer] = value instead\n",
            "\n",
            "See the caveats in the documentation: https://pandas.pydata.org/pandas-docs/stable/user_guide/indexing.html#returning-a-view-versus-a-copy\n"
          ],
          "name": "stderr"
        },
        {
          "output_type": "stream",
          "text": [
            "Epoch 1/10\n",
            "4326/4326 [==============================] - 49s 11ms/step - loss: 0.1532 - root_mean_squared_error: 0.3914 - val_loss: 0.3641 - val_root_mean_squared_error: 0.6034\n",
            "Epoch 2/10\n",
            "4326/4326 [==============================] - 47s 11ms/step - loss: 0.1729 - root_mean_squared_error: 0.4158 - val_loss: 0.3458 - val_root_mean_squared_error: 0.5880\n",
            "Epoch 3/10\n",
            "4326/4326 [==============================] - 47s 11ms/step - loss: 0.1704 - root_mean_squared_error: 0.4128 - val_loss: 0.3439 - val_root_mean_squared_error: 0.5864\n",
            "Epoch 4/10\n",
            "4326/4326 [==============================] - 47s 11ms/step - loss: 0.1709 - root_mean_squared_error: 0.4134 - val_loss: 0.3421 - val_root_mean_squared_error: 0.5849\n"
          ],
          "name": "stdout"
        }
      ]
    },
    {
      "cell_type": "code",
      "metadata": {
        "id": "bu6q2KZZNR3U",
        "colab_type": "code",
        "colab": {}
      },
      "source": [
        "final_preds = final_preds.reset_index().drop('index',axis=1)\n",
        "final_preds['ID'] = pd.read_csv(r'random_submission_example.csv')['ID']\n",
        "final_preds = final_preds.set_index('ID')"
      ],
      "execution_count": null,
      "outputs": []
    },
    {
      "cell_type": "code",
      "metadata": {
        "id": "XGnL_N8tNGlT",
        "colab_type": "code",
        "colab": {
          "base_uri": "https://localhost:8080/",
          "height": 450
        },
        "outputId": "41cd2992-5573-4e7d-ed18-7203f5fd568b"
      },
      "source": [
        "final_preds"
      ],
      "execution_count": null,
      "outputs": [
        {
          "output_type": "execute_result",
          "data": {
            "text/html": [
              "<div>\n",
              "<style scoped>\n",
              "    .dataframe tbody tr th:only-of-type {\n",
              "        vertical-align: middle;\n",
              "    }\n",
              "\n",
              "    .dataframe tbody tr th {\n",
              "        vertical-align: top;\n",
              "    }\n",
              "\n",
              "    .dataframe thead th {\n",
              "        text-align: right;\n",
              "    }\n",
              "</style>\n",
              "<table border=\"1\" class=\"dataframe\">\n",
              "  <thead>\n",
              "    <tr style=\"text-align: right;\">\n",
              "      <th></th>\n",
              "      <th>Production</th>\n",
              "    </tr>\n",
              "    <tr>\n",
              "      <th>ID</th>\n",
              "      <th></th>\n",
              "    </tr>\n",
              "  </thead>\n",
              "  <tbody>\n",
              "    <tr>\n",
              "      <th>37376</th>\n",
              "      <td>3.023962</td>\n",
              "    </tr>\n",
              "    <tr>\n",
              "      <th>37377</th>\n",
              "      <td>3.018954</td>\n",
              "    </tr>\n",
              "    <tr>\n",
              "      <th>37378</th>\n",
              "      <td>3.013116</td>\n",
              "    </tr>\n",
              "    <tr>\n",
              "      <th>37379</th>\n",
              "      <td>3.011632</td>\n",
              "    </tr>\n",
              "    <tr>\n",
              "      <th>37380</th>\n",
              "      <td>3.011119</td>\n",
              "    </tr>\n",
              "    <tr>\n",
              "      <th>...</th>\n",
              "      <td>...</td>\n",
              "    </tr>\n",
              "    <tr>\n",
              "      <th>73900</th>\n",
              "      <td>1.387582</td>\n",
              "    </tr>\n",
              "    <tr>\n",
              "      <th>73901</th>\n",
              "      <td>1.387581</td>\n",
              "    </tr>\n",
              "    <tr>\n",
              "      <th>73902</th>\n",
              "      <td>1.387580</td>\n",
              "    </tr>\n",
              "    <tr>\n",
              "      <th>73903</th>\n",
              "      <td>1.387580</td>\n",
              "    </tr>\n",
              "    <tr>\n",
              "      <th>73904</th>\n",
              "      <td>1.387576</td>\n",
              "    </tr>\n",
              "  </tbody>\n",
              "</table>\n",
              "<p>36529 rows × 1 columns</p>\n",
              "</div>"
            ],
            "text/plain": [
              "       Production\n",
              "ID               \n",
              "37376    3.023962\n",
              "37377    3.018954\n",
              "37378    3.013116\n",
              "37379    3.011632\n",
              "37380    3.011119\n",
              "...           ...\n",
              "73900    1.387582\n",
              "73901    1.387581\n",
              "73902    1.387580\n",
              "73903    1.387580\n",
              "73904    1.387576\n",
              "\n",
              "[36529 rows x 1 columns]"
            ]
          },
          "metadata": {
            "tags": []
          },
          "execution_count": 94
        }
      ]
    },
    {
      "cell_type": "code",
      "metadata": {
        "id": "8XMZasjfNVhk",
        "colab_type": "code",
        "colab": {
          "base_uri": "https://localhost:8080/",
          "height": 282
        },
        "outputId": "5e3d962c-f06f-4188-d486-2333e749e915"
      },
      "source": [
        "plt.plot(final_preds.index,final_preds['Production'])"
      ],
      "execution_count": null,
      "outputs": [
        {
          "output_type": "execute_result",
          "data": {
            "text/plain": [
              "[<matplotlib.lines.Line2D at 0x7f7591e78cf8>]"
            ]
          },
          "metadata": {
            "tags": []
          },
          "execution_count": 95
        },
        {
          "output_type": "display_data",
          "data": {
            "image/png": "[encoded data removed]",
            "text/plain": [
              "<Figure size 432x288 with 1 Axes>"
            ]
          },
          "metadata": {
            "tags": []
          }
        }
      ]
    },
    {
      "cell_type": "code",
      "metadata": {
        "id": "UvmNmz_tNXPm",
        "colab_type": "code",
        "colab": {}
      },
      "source": [
        "final_preds.to_csv('Submission_LSTM.csv')"
      ],
      "execution_count": null,
      "outputs": []
    },
    {
      "cell_type": "code",
      "metadata": {
        "id": "GhoZvdSu_JL0",
        "colab_type": "code",
        "colab": {
          "base_uri": "https://localhost:8080/",
          "height": 17
        },
        "outputId": "68a89ef8-9921-4090-cfc6-720fe7ada043"
      },
      "source": [
        "from google.colab import files\n",
        "files.download('Submission_LSTM.csv')"
      ],
      "execution_count": null,
      "outputs": [
        {
          "output_type": "display_data",
          "data": {
            "application/javascript": [
              "\n",
              "    async function download(id, filename, size) {\n",
              "      if (!google.colab.kernel.accessAllowed) {\n",
              "        return;\n",
              "      }\n",
              "      const div = document.createElement('div');\n",
              "      const label = document.createElement('label');\n",
              "      label.textContent = `Downloading \"${filename}\": `;\n",
              "      div.appendChild(label);\n",
              "      const progress = document.createElement('progress');\n",
              "      progress.max = size;\n",
              "      div.appendChild(progress);\n",
              "      document.body.appendChild(div);\n",
              "\n",
              "      const buffers = [];\n",
              "      let downloaded = 0;\n",
              "\n",
              "      const channel = await google.colab.kernel.comms.open(id);\n",
              "      // Send a message to notify the kernel that we're ready.\n",
              "      channel.send({})\n",
              "\n",
              "      for await (const message of channel.messages) {\n",
              "        // Send a message to notify the kernel that we're ready.\n",
              "        channel.send({})\n",
              "        if (message.buffers) {\n",
              "          for (const buffer of message.buffers) {\n",
              "            buffers.push(buffer);\n",
              "            downloaded += buffer.byteLength;\n",
              "            progress.value = downloaded;\n",
              "          }\n",
              "        }\n",
              "      }\n",
              "      const blob = new Blob(buffers, {type: 'application/binary'});\n",
              "      const a = document.createElement('a');\n",
              "      a.href = window.URL.createObjectURL(blob);\n",
              "      a.download = filename;\n",
              "      div.appendChild(a);\n",
              "      a.click();\n",
              "      div.remove();\n",
              "    }\n",
              "  "
            ],
            "text/plain": [
              "<IPython.core.display.Javascript object>"
            ]
          },
          "metadata": {
            "tags": []
          }
        },
        {
          "output_type": "display_data",
          "data": {
            "application/javascript": [
              "download(\"download_7ad97bc0-0789-44b5-a932-734fc3cc3b99\", \"Submission_LSTM.csv\", 895614)"
            ],
            "text/plain": [
              "<IPython.core.display.Javascript object>"
            ]
          },
          "metadata": {
            "tags": []
          }
        }
      ]
    },
    {
      "cell_type": "code",
      "metadata": {
        "id": "6QSjXV-I3ZbD",
        "colab_type": "code",
        "colab": {}
      },
      "source": [
        ""
      ],
      "execution_count": null,
      "outputs": []
    }
  ]
}