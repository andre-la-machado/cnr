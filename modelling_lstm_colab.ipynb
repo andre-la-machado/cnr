{
  "nbformat": 4,
  "nbformat_minor": 0,
  "metadata": {
    "language_info": {
      "codemirror_mode": {
        "name": "ipython",
        "version": 3
      },
      "file_extension": ".py",
      "mimetype": "text/x-python",
      "name": "python",
      "nbconvert_exporter": "python",
      "pygments_lexer": "ipython3",
      "version": "3.7.6-final"
    },
    "orig_nbformat": 2,
    "kernelspec": {
      "name": "python_defaultSpec_1596670974807",
      "display_name": "Python 3.7.6 64-bit ('base': conda)"
    },
    "colab": {
      "name": "modelling_lstm_colab.ipynb",
      "provenance": [],
      "toc_visible": true,
      "include_colab_link": true
    },
    "accelerator": "GPU"
  },
  "cells": [
    {
      "cell_type": "markdown",
      "metadata": {
        "id": "view-in-github",
        "colab_type": "text"
      },
      "source": [
        "<a href=\"https://colab.research.google.com/github/andre-la-machado/cnr/blob/master/modelling_lstm_colab.ipynb\" target=\"_parent\"><img src=\"https://colab.research.google.com/assets/colab-badge.svg\" alt=\"Open In Colab\"/></a>"
      ]
    },
    {
      "cell_type": "markdown",
      "metadata": {
        "id": "WUg3rsB0MaUT",
        "colab_type": "text"
      },
      "source": [
        "# LSTM Modelling"
      ]
    },
    {
      "cell_type": "markdown",
      "metadata": {
        "id": "d2sEClXHMaUU",
        "colab_type": "text"
      },
      "source": [
        "On this Notebook, a LSTM Model will be tried for the Competitition Data."
      ]
    },
    {
      "cell_type": "markdown",
      "metadata": {
        "id": "WgcFrkVNMaUV",
        "colab_type": "text"
      },
      "source": [
        "## Libraries"
      ]
    },
    {
      "cell_type": "code",
      "metadata": {
        "id": "gRldKXObNEeh",
        "colab_type": "code",
        "colab": {
          "base_uri": "https://localhost:8080/",
          "height": 34
        },
        "outputId": "f82dc102-f5c1-44d8-84f4-4fc77a6040cf"
      },
      "source": [
        "%pip uninstall -q -y tensorflow\n",
        "%pip install -q -U tensorflow-gpu>=2\n",
        "%reset -f"
      ],
      "execution_count": 57,
      "outputs": [
        {
          "output_type": "stream",
          "text": [
            "\u001b[33mWARNING: Skipping tensorflow as it is not installed.\u001b[0m\n"
          ],
          "name": "stdout"
        }
      ]
    },
    {
      "cell_type": "code",
      "metadata": {
        "id": "ZkGRpSoARdI6",
        "colab_type": "code",
        "colab": {
          "base_uri": "https://localhost:8080/",
          "height": 357
        },
        "outputId": "22753088-3185-4e64-c22b-78d8c77a1fae"
      },
      "source": [
        "!nvidia-smi"
      ],
      "execution_count": 58,
      "outputs": [
        {
          "output_type": "stream",
          "text": [
            "Sat Sep  5 21:27:01 2020       \n",
            "+-----------------------------------------------------------------------------+\n",
            "| NVIDIA-SMI 450.66       Driver Version: 418.67       CUDA Version: 10.1     |\n",
            "|-------------------------------+----------------------+----------------------+\n",
            "| GPU  Name        Persistence-M| Bus-Id        Disp.A | Volatile Uncorr. ECC |\n",
            "| Fan  Temp  Perf  Pwr:Usage/Cap|         Memory-Usage | GPU-Util  Compute M. |\n",
            "|                               |                      |               MIG M. |\n",
            "|===============================+======================+======================|\n",
            "|   0  Tesla T4            Off  | 00000000:00:04.0 Off |                    0 |\n",
            "| N/A   67C    P0    31W /  70W |    667MiB / 15079MiB |      0%      Default |\n",
            "|                               |                      |                 ERR! |\n",
            "+-------------------------------+----------------------+----------------------+\n",
            "                                                                               \n",
            "+-----------------------------------------------------------------------------+\n",
            "| Processes:                                                                  |\n",
            "|  GPU   GI   CI        PID   Type   Process name                  GPU Memory |\n",
            "|        ID   ID                                                   Usage      |\n",
            "|=============================================================================|\n",
            "|  No running processes found                                                 |\n",
            "+-----------------------------------------------------------------------------+\n"
          ],
          "name": "stdout"
        }
      ]
    },
    {
      "cell_type": "code",
      "metadata": {
        "id": "UJQZd0mUPnVD",
        "colab_type": "code",
        "colab": {
          "base_uri": "https://localhost:8080/",
          "height": 85
        },
        "outputId": "3ddb74ac-15ca-44d6-e5ef-1fa4ed4d4604"
      },
      "source": [
        "%pip install cupy-cuda101"
      ],
      "execution_count": 59,
      "outputs": [
        {
          "output_type": "stream",
          "text": [
            "Requirement already satisfied: cupy-cuda101 in /usr/local/lib/python3.6/dist-packages (7.4.0)\n",
            "Requirement already satisfied: fastrlock>=0.3 in /usr/local/lib/python3.6/dist-packages (from cupy-cuda101) (0.5)\n",
            "Requirement already satisfied: numpy>=1.9.0 in /usr/local/lib/python3.6/dist-packages (from cupy-cuda101) (1.18.5)\n",
            "Requirement already satisfied: six>=1.9.0 in /usr/local/lib/python3.6/dist-packages (from cupy-cuda101) (1.15.0)\n"
          ],
          "name": "stdout"
        }
      ]
    },
    {
      "cell_type": "code",
      "metadata": {
        "id": "xPzbEtzOMaUW",
        "colab_type": "code",
        "colab": {}
      },
      "source": [
        "import numpy as np\n",
        "import pandas as pd \n",
        "import matplotlib.pyplot as plt \n",
        "import seaborn as sns \n",
        "sns.set_style('darkgrid')\n",
        "from cnr_methods import get_selected_features, transform_data, revert_data,metric_cnr, get_simplified_data\n",
        "import random\n",
        "\n",
        "from sklearn.model_selection import TimeSeriesSplit, train_test_split\n",
        "from sklearn.preprocessing import MinMaxScaler\n",
        "import tensorflow as tf"
      ],
      "execution_count": 60,
      "outputs": []
    },
    {
      "cell_type": "code",
      "metadata": {
        "tags": [],
        "id": "EJt5BAyhMaUZ",
        "colab_type": "code",
        "colab": {
          "base_uri": "https://localhost:8080/",
          "height": 102
        },
        "outputId": "97e3b17b-774f-4569-bcb9-21f9b9302702"
      },
      "source": [
        "import tensorflow as tf\n",
        "print(tf.test.is_built_with_cuda())  # Sanity check: GPU available to tf or not\n",
        "print(tf.test.is_built_with_gpu_support())\n",
        "print(tf.config.list_physical_devices('GPU'))\n",
        "print(tf.__version__)  # Check if __version__>=\"2.0.0\"\n",
        "print(tf.keras.__version__)"
      ],
      "execution_count": 61,
      "outputs": [
        {
          "output_type": "stream",
          "text": [
            "True\n",
            "True\n",
            "[PhysicalDevice(name='/physical_device:GPU:0', device_type='GPU')]\n",
            "2.3.0\n",
            "2.4.0\n"
          ],
          "name": "stdout"
        }
      ]
    },
    {
      "cell_type": "markdown",
      "metadata": {
        "id": "TfHnGOTHMaUd",
        "colab_type": "text"
      },
      "source": [
        "## Read Data"
      ]
    },
    {
      "cell_type": "markdown",
      "metadata": {
        "id": "AJx9hbTsMaUd",
        "colab_type": "text"
      },
      "source": [
        "Here, the data used correspond to the results of the Feature Engineering and Selection Step. For simplicity, during Hyperparameter Optimization, only Wind Farm 3 Training Data is used."
      ]
    },
    {
      "cell_type": "code",
      "metadata": {
        "id": "hzHSYL52MaUe",
        "colab_type": "code",
        "colab": {}
      },
      "source": [
        "full_data = pd.read_csv(\"Selected_Features_Data.csv\")\n",
        "\n",
        "#full_data = full_data.rename({'Unnamed: 0' : 'Time'},axis=1)\n",
        "full_data = full_data.set_index('Time')\n",
        "\n",
        "full_label = pd.read_csv('Y_train.csv')\n",
        "X = full_data[full_data['Set']=='Train']\n",
        "\n",
        "WF = 'WF3'\n",
        "X = X[X['WF']==WF]\n",
        "y = full_label[full_label['ID'].isin(X['ID'])]"
      ],
      "execution_count": 62,
      "outputs": []
    },
    {
      "cell_type": "code",
      "metadata": {
        "id": "Wm8BYlb3MaUh",
        "colab_type": "code",
        "colab": {}
      },
      "source": [
        "X = X.drop(['ID','WF','Set'],axis=1)"
      ],
      "execution_count": 63,
      "outputs": []
    },
    {
      "cell_type": "code",
      "metadata": {
        "id": "K3dqO0HFMaUk",
        "colab_type": "code",
        "colab": {
          "base_uri": "https://localhost:8080/",
          "height": 488
        },
        "outputId": "83e65994-09f8-4ff2-fd90-c0775c8d9bb7"
      },
      "source": [
        "X.head()"
      ],
      "execution_count": 64,
      "outputs": [
        {
          "output_type": "execute_result",
          "data": {
            "text/html": [
              "<div>\n",
              "<style scoped>\n",
              "    .dataframe tbody tr th:only-of-type {\n",
              "        vertical-align: middle;\n",
              "    }\n",
              "\n",
              "    .dataframe tbody tr th {\n",
              "        vertical-align: top;\n",
              "    }\n",
              "\n",
              "    .dataframe thead th {\n",
              "        text-align: right;\n",
              "    }\n",
              "</style>\n",
              "<table border=\"1\" class=\"dataframe\">\n",
              "  <thead>\n",
              "    <tr style=\"text-align: right;\">\n",
              "      <th></th>\n",
              "      <th>U_100m</th>\n",
              "      <th>V_100m</th>\n",
              "      <th>U_10m</th>\n",
              "      <th>V_10m</th>\n",
              "      <th>T</th>\n",
              "      <th>CLCT</th>\n",
              "      <th>Wind Speed 100m</th>\n",
              "      <th>Wind Direction 100m</th>\n",
              "      <th>Wind Speed 10m</th>\n",
              "      <th>Wind Direction 10m</th>\n",
              "      <th>T_lag_7_days</th>\n",
              "      <th>T_lag_14_days</th>\n",
              "      <th>T_lag_21_days</th>\n",
              "      <th>CLCT_lag_7_days</th>\n",
              "      <th>CLCT_lag_14_days</th>\n",
              "      <th>CLCT_lag_21_days</th>\n",
              "      <th>U_100m_lag_7_days</th>\n",
              "      <th>U_100m_lag_14_days</th>\n",
              "      <th>U_100m_lag_21_days</th>\n",
              "      <th>V_100m_lag_7_days</th>\n",
              "      <th>V_100m_lag_14_days</th>\n",
              "      <th>V_100m_lag_21_days</th>\n",
              "      <th>U_10m_lag_7_days</th>\n",
              "      <th>U_10m_lag_14_days</th>\n",
              "      <th>U_10m_lag_21_days</th>\n",
              "      <th>V_10m_lag_7_days</th>\n",
              "      <th>V_10m_lag_14_days</th>\n",
              "      <th>V_10m_lag_21_days</th>\n",
              "      <th>Month_Number</th>\n",
              "      <th>T_Last_Month_Mean</th>\n",
              "      <th>CLCT_Last_Month_Mean</th>\n",
              "      <th>U_100m_Last_Month_Mean</th>\n",
              "      <th>V_100m_Last_Month_Mean</th>\n",
              "      <th>U_10m_Last_Month_Mean</th>\n",
              "      <th>V_10m_Last_Month_Mean</th>\n",
              "      <th>TLast_Month_Variance</th>\n",
              "      <th>CLCTLast_Month_Variance</th>\n",
              "      <th>U_100mLast_Month_Variance</th>\n",
              "      <th>V_100mLast_Month_Variance</th>\n",
              "      <th>U_10mLast_Month_Variance</th>\n",
              "      <th>...</th>\n",
              "      <th>CLCT_Distance_Max</th>\n",
              "      <th>CLCT_Distance_Min</th>\n",
              "      <th>U_100m_Distance_Max</th>\n",
              "      <th>U_100m_Distance_Min</th>\n",
              "      <th>V_100m_Distance_Max</th>\n",
              "      <th>V_100m_Distance_Min</th>\n",
              "      <th>U_10m_Distance_Max</th>\n",
              "      <th>U_10m_Distance_Min</th>\n",
              "      <th>V_10m_Distance_Max</th>\n",
              "      <th>V_10m_Distance_Min</th>\n",
              "      <th>T_Rolling_7_Window_Mean</th>\n",
              "      <th>T_Rolling_14_Window_Mean</th>\n",
              "      <th>T_Rolling_7_Window_Variance</th>\n",
              "      <th>T_Rolling_14_Window_Variance</th>\n",
              "      <th>CLCT_Rolling_7_Window_Mean</th>\n",
              "      <th>CLCT_Rolling_14_Window_Mean</th>\n",
              "      <th>CLCT_Rolling_7_Window_Variance</th>\n",
              "      <th>CLCT_Rolling_14_Window_Variance</th>\n",
              "      <th>U_100m_Rolling_7_Window_Mean</th>\n",
              "      <th>U_100m_Rolling_14_Window_Mean</th>\n",
              "      <th>U_100m_Rolling_7_Window_Variance</th>\n",
              "      <th>U_100m_Rolling_14_Window_Variance</th>\n",
              "      <th>V_100m_Rolling_7_Window_Mean</th>\n",
              "      <th>V_100m_Rolling_14_Window_Mean</th>\n",
              "      <th>V_100m_Rolling_7_Window_Variance</th>\n",
              "      <th>V_100m_Rolling_14_Window_Variance</th>\n",
              "      <th>U_10m_Rolling_7_Window_Mean</th>\n",
              "      <th>U_10m_Rolling_14_Window_Mean</th>\n",
              "      <th>U_10m_Rolling_7_Window_Variance</th>\n",
              "      <th>U_10m_Rolling_14_Window_Variance</th>\n",
              "      <th>V_10m_Rolling_7_Window_Mean</th>\n",
              "      <th>V_10m_Rolling_14_Window_Mean</th>\n",
              "      <th>V_10m_Rolling_7_Window_Variance</th>\n",
              "      <th>V_10m_Rolling_14_Window_Variance</th>\n",
              "      <th>T_Expanded_Window_Max</th>\n",
              "      <th>CLCT_Expanded_Window_Max</th>\n",
              "      <th>U_100m_Expanded_Window_Max</th>\n",
              "      <th>V_100m_Expanded_Window_Max</th>\n",
              "      <th>U_10m_Expanded_Window_Max</th>\n",
              "      <th>V_10m_Expanded_Window_Max</th>\n",
              "    </tr>\n",
              "    <tr>\n",
              "      <th>Time</th>\n",
              "      <th></th>\n",
              "      <th></th>\n",
              "      <th></th>\n",
              "      <th></th>\n",
              "      <th></th>\n",
              "      <th></th>\n",
              "      <th></th>\n",
              "      <th></th>\n",
              "      <th></th>\n",
              "      <th></th>\n",
              "      <th></th>\n",
              "      <th></th>\n",
              "      <th></th>\n",
              "      <th></th>\n",
              "      <th></th>\n",
              "      <th></th>\n",
              "      <th></th>\n",
              "      <th></th>\n",
              "      <th></th>\n",
              "      <th></th>\n",
              "      <th></th>\n",
              "      <th></th>\n",
              "      <th></th>\n",
              "      <th></th>\n",
              "      <th></th>\n",
              "      <th></th>\n",
              "      <th></th>\n",
              "      <th></th>\n",
              "      <th></th>\n",
              "      <th></th>\n",
              "      <th></th>\n",
              "      <th></th>\n",
              "      <th></th>\n",
              "      <th></th>\n",
              "      <th></th>\n",
              "      <th></th>\n",
              "      <th></th>\n",
              "      <th></th>\n",
              "      <th></th>\n",
              "      <th></th>\n",
              "      <th></th>\n",
              "      <th></th>\n",
              "      <th></th>\n",
              "      <th></th>\n",
              "      <th></th>\n",
              "      <th></th>\n",
              "      <th></th>\n",
              "      <th></th>\n",
              "      <th></th>\n",
              "      <th></th>\n",
              "      <th></th>\n",
              "      <th></th>\n",
              "      <th></th>\n",
              "      <th></th>\n",
              "      <th></th>\n",
              "      <th></th>\n",
              "      <th></th>\n",
              "      <th></th>\n",
              "      <th></th>\n",
              "      <th></th>\n",
              "      <th></th>\n",
              "      <th></th>\n",
              "      <th></th>\n",
              "      <th></th>\n",
              "      <th></th>\n",
              "      <th></th>\n",
              "      <th></th>\n",
              "      <th></th>\n",
              "      <th></th>\n",
              "      <th></th>\n",
              "      <th></th>\n",
              "      <th></th>\n",
              "      <th></th>\n",
              "      <th></th>\n",
              "      <th></th>\n",
              "      <th></th>\n",
              "      <th></th>\n",
              "      <th></th>\n",
              "      <th></th>\n",
              "      <th></th>\n",
              "      <th></th>\n",
              "    </tr>\n",
              "  </thead>\n",
              "  <tbody>\n",
              "    <tr>\n",
              "      <th>2018-05-01 01:00:00</th>\n",
              "      <td>-2.248500</td>\n",
              "      <td>-3.257800</td>\n",
              "      <td>1.254603</td>\n",
              "      <td>-0.289687</td>\n",
              "      <td>286.440</td>\n",
              "      <td>82.543144</td>\n",
              "      <td>3.958410</td>\n",
              "      <td>0.966685</td>\n",
              "      <td>1.287613</td>\n",
              "      <td>359.773077</td>\n",
              "      <td>NaN</td>\n",
              "      <td>NaN</td>\n",
              "      <td>NaN</td>\n",
              "      <td>NaN</td>\n",
              "      <td>NaN</td>\n",
              "      <td>NaN</td>\n",
              "      <td>NaN</td>\n",
              "      <td>NaN</td>\n",
              "      <td>NaN</td>\n",
              "      <td>NaN</td>\n",
              "      <td>NaN</td>\n",
              "      <td>NaN</td>\n",
              "      <td>NaN</td>\n",
              "      <td>NaN</td>\n",
              "      <td>NaN</td>\n",
              "      <td>NaN</td>\n",
              "      <td>NaN</td>\n",
              "      <td>NaN</td>\n",
              "      <td>5</td>\n",
              "      <td>NaN</td>\n",
              "      <td>NaN</td>\n",
              "      <td>NaN</td>\n",
              "      <td>NaN</td>\n",
              "      <td>NaN</td>\n",
              "      <td>NaN</td>\n",
              "      <td>NaN</td>\n",
              "      <td>NaN</td>\n",
              "      <td>NaN</td>\n",
              "      <td>NaN</td>\n",
              "      <td>NaN</td>\n",
              "      <td>...</td>\n",
              "      <td>-1</td>\n",
              "      <td>-11</td>\n",
              "      <td>-223</td>\n",
              "      <td>-168</td>\n",
              "      <td>-233</td>\n",
              "      <td>-251</td>\n",
              "      <td>-223</td>\n",
              "      <td>-184</td>\n",
              "      <td>-190</td>\n",
              "      <td>-251</td>\n",
              "      <td>NaN</td>\n",
              "      <td>NaN</td>\n",
              "      <td>NaN</td>\n",
              "      <td>NaN</td>\n",
              "      <td>NaN</td>\n",
              "      <td>NaN</td>\n",
              "      <td>NaN</td>\n",
              "      <td>NaN</td>\n",
              "      <td>NaN</td>\n",
              "      <td>NaN</td>\n",
              "      <td>NaN</td>\n",
              "      <td>NaN</td>\n",
              "      <td>NaN</td>\n",
              "      <td>NaN</td>\n",
              "      <td>NaN</td>\n",
              "      <td>NaN</td>\n",
              "      <td>NaN</td>\n",
              "      <td>NaN</td>\n",
              "      <td>NaN</td>\n",
              "      <td>NaN</td>\n",
              "      <td>NaN</td>\n",
              "      <td>NaN</td>\n",
              "      <td>NaN</td>\n",
              "      <td>NaN</td>\n",
              "      <td>286.440</td>\n",
              "      <td>82.543144</td>\n",
              "      <td>-2.248500</td>\n",
              "      <td>-3.257800</td>\n",
              "      <td>1.254603</td>\n",
              "      <td>-0.289687</td>\n",
              "    </tr>\n",
              "    <tr>\n",
              "      <th>2018-05-01 02:00:00</th>\n",
              "      <td>-2.434500</td>\n",
              "      <td>-1.446100</td>\n",
              "      <td>2.490908</td>\n",
              "      <td>-0.413370</td>\n",
              "      <td>286.260</td>\n",
              "      <td>99.990844</td>\n",
              "      <td>2.831607</td>\n",
              "      <td>0.535998</td>\n",
              "      <td>2.524975</td>\n",
              "      <td>359.835547</td>\n",
              "      <td>NaN</td>\n",
              "      <td>NaN</td>\n",
              "      <td>NaN</td>\n",
              "      <td>NaN</td>\n",
              "      <td>NaN</td>\n",
              "      <td>NaN</td>\n",
              "      <td>NaN</td>\n",
              "      <td>NaN</td>\n",
              "      <td>NaN</td>\n",
              "      <td>NaN</td>\n",
              "      <td>NaN</td>\n",
              "      <td>NaN</td>\n",
              "      <td>NaN</td>\n",
              "      <td>NaN</td>\n",
              "      <td>NaN</td>\n",
              "      <td>NaN</td>\n",
              "      <td>NaN</td>\n",
              "      <td>NaN</td>\n",
              "      <td>5</td>\n",
              "      <td>NaN</td>\n",
              "      <td>NaN</td>\n",
              "      <td>NaN</td>\n",
              "      <td>NaN</td>\n",
              "      <td>NaN</td>\n",
              "      <td>NaN</td>\n",
              "      <td>NaN</td>\n",
              "      <td>NaN</td>\n",
              "      <td>NaN</td>\n",
              "      <td>NaN</td>\n",
              "      <td>NaN</td>\n",
              "      <td>...</td>\n",
              "      <td>-1</td>\n",
              "      <td>-11</td>\n",
              "      <td>-223</td>\n",
              "      <td>-168</td>\n",
              "      <td>-233</td>\n",
              "      <td>-250</td>\n",
              "      <td>-223</td>\n",
              "      <td>-184</td>\n",
              "      <td>-190</td>\n",
              "      <td>-250</td>\n",
              "      <td>NaN</td>\n",
              "      <td>NaN</td>\n",
              "      <td>NaN</td>\n",
              "      <td>NaN</td>\n",
              "      <td>NaN</td>\n",
              "      <td>NaN</td>\n",
              "      <td>NaN</td>\n",
              "      <td>NaN</td>\n",
              "      <td>NaN</td>\n",
              "      <td>NaN</td>\n",
              "      <td>NaN</td>\n",
              "      <td>NaN</td>\n",
              "      <td>NaN</td>\n",
              "      <td>NaN</td>\n",
              "      <td>NaN</td>\n",
              "      <td>NaN</td>\n",
              "      <td>NaN</td>\n",
              "      <td>NaN</td>\n",
              "      <td>NaN</td>\n",
              "      <td>NaN</td>\n",
              "      <td>NaN</td>\n",
              "      <td>NaN</td>\n",
              "      <td>NaN</td>\n",
              "      <td>NaN</td>\n",
              "      <td>286.440</td>\n",
              "      <td>99.990844</td>\n",
              "      <td>-2.248500</td>\n",
              "      <td>-1.446100</td>\n",
              "      <td>2.490908</td>\n",
              "      <td>-0.289687</td>\n",
              "    </tr>\n",
              "    <tr>\n",
              "      <th>2018-05-01 03:00:00</th>\n",
              "      <td>-1.220571</td>\n",
              "      <td>-0.266871</td>\n",
              "      <td>0.997093</td>\n",
              "      <td>-1.415138</td>\n",
              "      <td>286.575</td>\n",
              "      <td>98.367235</td>\n",
              "      <td>1.249405</td>\n",
              "      <td>0.215257</td>\n",
              "      <td>1.731130</td>\n",
              "      <td>359.043004</td>\n",
              "      <td>NaN</td>\n",
              "      <td>NaN</td>\n",
              "      <td>NaN</td>\n",
              "      <td>NaN</td>\n",
              "      <td>NaN</td>\n",
              "      <td>NaN</td>\n",
              "      <td>NaN</td>\n",
              "      <td>NaN</td>\n",
              "      <td>NaN</td>\n",
              "      <td>NaN</td>\n",
              "      <td>NaN</td>\n",
              "      <td>NaN</td>\n",
              "      <td>NaN</td>\n",
              "      <td>NaN</td>\n",
              "      <td>NaN</td>\n",
              "      <td>NaN</td>\n",
              "      <td>NaN</td>\n",
              "      <td>NaN</td>\n",
              "      <td>5</td>\n",
              "      <td>NaN</td>\n",
              "      <td>NaN</td>\n",
              "      <td>NaN</td>\n",
              "      <td>NaN</td>\n",
              "      <td>NaN</td>\n",
              "      <td>NaN</td>\n",
              "      <td>NaN</td>\n",
              "      <td>NaN</td>\n",
              "      <td>NaN</td>\n",
              "      <td>NaN</td>\n",
              "      <td>NaN</td>\n",
              "      <td>...</td>\n",
              "      <td>-1</td>\n",
              "      <td>-10</td>\n",
              "      <td>-223</td>\n",
              "      <td>-168</td>\n",
              "      <td>-233</td>\n",
              "      <td>-250</td>\n",
              "      <td>-223</td>\n",
              "      <td>-184</td>\n",
              "      <td>-190</td>\n",
              "      <td>-250</td>\n",
              "      <td>NaN</td>\n",
              "      <td>NaN</td>\n",
              "      <td>NaN</td>\n",
              "      <td>NaN</td>\n",
              "      <td>NaN</td>\n",
              "      <td>NaN</td>\n",
              "      <td>NaN</td>\n",
              "      <td>NaN</td>\n",
              "      <td>NaN</td>\n",
              "      <td>NaN</td>\n",
              "      <td>NaN</td>\n",
              "      <td>NaN</td>\n",
              "      <td>NaN</td>\n",
              "      <td>NaN</td>\n",
              "      <td>NaN</td>\n",
              "      <td>NaN</td>\n",
              "      <td>NaN</td>\n",
              "      <td>NaN</td>\n",
              "      <td>NaN</td>\n",
              "      <td>NaN</td>\n",
              "      <td>NaN</td>\n",
              "      <td>NaN</td>\n",
              "      <td>NaN</td>\n",
              "      <td>NaN</td>\n",
              "      <td>286.575</td>\n",
              "      <td>99.990844</td>\n",
              "      <td>-1.220571</td>\n",
              "      <td>-0.266871</td>\n",
              "      <td>2.490908</td>\n",
              "      <td>-0.289687</td>\n",
              "    </tr>\n",
              "    <tr>\n",
              "      <th>2018-05-01 04:00:00</th>\n",
              "      <td>3.706500</td>\n",
              "      <td>-6.217400</td>\n",
              "      <td>0.689598</td>\n",
              "      <td>-0.961441</td>\n",
              "      <td>284.780</td>\n",
              "      <td>94.860604</td>\n",
              "      <td>7.238384</td>\n",
              "      <td>358.966787</td>\n",
              "      <td>1.183180</td>\n",
              "      <td>359.051417</td>\n",
              "      <td>NaN</td>\n",
              "      <td>NaN</td>\n",
              "      <td>NaN</td>\n",
              "      <td>NaN</td>\n",
              "      <td>NaN</td>\n",
              "      <td>NaN</td>\n",
              "      <td>NaN</td>\n",
              "      <td>NaN</td>\n",
              "      <td>NaN</td>\n",
              "      <td>NaN</td>\n",
              "      <td>NaN</td>\n",
              "      <td>NaN</td>\n",
              "      <td>NaN</td>\n",
              "      <td>NaN</td>\n",
              "      <td>NaN</td>\n",
              "      <td>NaN</td>\n",
              "      <td>NaN</td>\n",
              "      <td>NaN</td>\n",
              "      <td>5</td>\n",
              "      <td>NaN</td>\n",
              "      <td>NaN</td>\n",
              "      <td>NaN</td>\n",
              "      <td>NaN</td>\n",
              "      <td>NaN</td>\n",
              "      <td>NaN</td>\n",
              "      <td>NaN</td>\n",
              "      <td>NaN</td>\n",
              "      <td>NaN</td>\n",
              "      <td>NaN</td>\n",
              "      <td>NaN</td>\n",
              "      <td>...</td>\n",
              "      <td>-1</td>\n",
              "      <td>-10</td>\n",
              "      <td>-223</td>\n",
              "      <td>-168</td>\n",
              "      <td>-233</td>\n",
              "      <td>-250</td>\n",
              "      <td>-223</td>\n",
              "      <td>-184</td>\n",
              "      <td>-189</td>\n",
              "      <td>-250</td>\n",
              "      <td>NaN</td>\n",
              "      <td>NaN</td>\n",
              "      <td>NaN</td>\n",
              "      <td>NaN</td>\n",
              "      <td>NaN</td>\n",
              "      <td>NaN</td>\n",
              "      <td>NaN</td>\n",
              "      <td>NaN</td>\n",
              "      <td>NaN</td>\n",
              "      <td>NaN</td>\n",
              "      <td>NaN</td>\n",
              "      <td>NaN</td>\n",
              "      <td>NaN</td>\n",
              "      <td>NaN</td>\n",
              "      <td>NaN</td>\n",
              "      <td>NaN</td>\n",
              "      <td>NaN</td>\n",
              "      <td>NaN</td>\n",
              "      <td>NaN</td>\n",
              "      <td>NaN</td>\n",
              "      <td>NaN</td>\n",
              "      <td>NaN</td>\n",
              "      <td>NaN</td>\n",
              "      <td>NaN</td>\n",
              "      <td>286.575</td>\n",
              "      <td>99.990844</td>\n",
              "      <td>3.706500</td>\n",
              "      <td>-0.266871</td>\n",
              "      <td>2.490908</td>\n",
              "      <td>-0.289687</td>\n",
              "    </tr>\n",
              "    <tr>\n",
              "      <th>2018-05-01 05:00:00</th>\n",
              "      <td>3.813400</td>\n",
              "      <td>-5.444600</td>\n",
              "      <td>0.290994</td>\n",
              "      <td>-0.294963</td>\n",
              "      <td>284.460</td>\n",
              "      <td>95.905879</td>\n",
              "      <td>6.647232</td>\n",
              "      <td>359.040198</td>\n",
              "      <td>0.414344</td>\n",
              "      <td>359.207829</td>\n",
              "      <td>NaN</td>\n",
              "      <td>NaN</td>\n",
              "      <td>NaN</td>\n",
              "      <td>NaN</td>\n",
              "      <td>NaN</td>\n",
              "      <td>NaN</td>\n",
              "      <td>NaN</td>\n",
              "      <td>NaN</td>\n",
              "      <td>NaN</td>\n",
              "      <td>NaN</td>\n",
              "      <td>NaN</td>\n",
              "      <td>NaN</td>\n",
              "      <td>NaN</td>\n",
              "      <td>NaN</td>\n",
              "      <td>NaN</td>\n",
              "      <td>NaN</td>\n",
              "      <td>NaN</td>\n",
              "      <td>NaN</td>\n",
              "      <td>5</td>\n",
              "      <td>NaN</td>\n",
              "      <td>NaN</td>\n",
              "      <td>NaN</td>\n",
              "      <td>NaN</td>\n",
              "      <td>NaN</td>\n",
              "      <td>NaN</td>\n",
              "      <td>NaN</td>\n",
              "      <td>NaN</td>\n",
              "      <td>NaN</td>\n",
              "      <td>NaN</td>\n",
              "      <td>NaN</td>\n",
              "      <td>...</td>\n",
              "      <td>-1</td>\n",
              "      <td>-10</td>\n",
              "      <td>-222</td>\n",
              "      <td>-168</td>\n",
              "      <td>-233</td>\n",
              "      <td>-250</td>\n",
              "      <td>-223</td>\n",
              "      <td>-184</td>\n",
              "      <td>-189</td>\n",
              "      <td>-250</td>\n",
              "      <td>NaN</td>\n",
              "      <td>NaN</td>\n",
              "      <td>NaN</td>\n",
              "      <td>NaN</td>\n",
              "      <td>NaN</td>\n",
              "      <td>NaN</td>\n",
              "      <td>NaN</td>\n",
              "      <td>NaN</td>\n",
              "      <td>NaN</td>\n",
              "      <td>NaN</td>\n",
              "      <td>NaN</td>\n",
              "      <td>NaN</td>\n",
              "      <td>NaN</td>\n",
              "      <td>NaN</td>\n",
              "      <td>NaN</td>\n",
              "      <td>NaN</td>\n",
              "      <td>NaN</td>\n",
              "      <td>NaN</td>\n",
              "      <td>NaN</td>\n",
              "      <td>NaN</td>\n",
              "      <td>NaN</td>\n",
              "      <td>NaN</td>\n",
              "      <td>NaN</td>\n",
              "      <td>NaN</td>\n",
              "      <td>286.575</td>\n",
              "      <td>99.990844</td>\n",
              "      <td>3.813400</td>\n",
              "      <td>-0.266871</td>\n",
              "      <td>2.490908</td>\n",
              "      <td>-0.289687</td>\n",
              "    </tr>\n",
              "  </tbody>\n",
              "</table>\n",
              "<p>5 rows × 93 columns</p>\n",
              "</div>"
            ],
            "text/plain": [
              "                       U_100m  ...  V_10m_Expanded_Window_Max\n",
              "Time                           ...                           \n",
              "2018-05-01 01:00:00 -2.248500  ...                  -0.289687\n",
              "2018-05-01 02:00:00 -2.434500  ...                  -0.289687\n",
              "2018-05-01 03:00:00 -1.220571  ...                  -0.289687\n",
              "2018-05-01 04:00:00  3.706500  ...                  -0.289687\n",
              "2018-05-01 05:00:00  3.813400  ...                  -0.289687\n",
              "\n",
              "[5 rows x 93 columns]"
            ]
          },
          "metadata": {
            "tags": []
          },
          "execution_count": 64
        }
      ]
    },
    {
      "cell_type": "markdown",
      "metadata": {
        "id": "WJi-4o_NMaUn",
        "colab_type": "text"
      },
      "source": [
        "## Fill NaN's"
      ]
    },
    {
      "cell_type": "markdown",
      "metadata": {
        "id": "JQuVx6ggdLQs",
        "colab_type": "text"
      },
      "source": [
        "To avoid Exploding Gradients, here the NaN's are filled."
      ]
    },
    {
      "cell_type": "code",
      "metadata": {
        "id": "ooikiHfdMaUn",
        "colab_type": "code",
        "colab": {}
      },
      "source": [
        "X = X.fillna(method=\"ffill\", axis=1) # ZOH\n",
        "X = X.fillna(0)"
      ],
      "execution_count": 65,
      "outputs": []
    },
    {
      "cell_type": "code",
      "metadata": {
        "id": "qm7rGia8MaUq",
        "colab_type": "code",
        "colab": {}
      },
      "source": [
        "y = y.fillna(method=\"ffill\", axis=1) # ZOH\n",
        "y = y.fillna(0)"
      ],
      "execution_count": 66,
      "outputs": []
    },
    {
      "cell_type": "markdown",
      "metadata": {
        "id": "GDPihT4eMaUt",
        "colab_type": "text"
      },
      "source": [
        "## Scaling Data"
      ]
    },
    {
      "cell_type": "markdown",
      "metadata": {
        "id": "cK7eE4ZXdbyU",
        "colab_type": "text"
      },
      "source": [
        "For a better performance of the Network, here the data is scaled between [-1,1] using MinMaxScaler. For the Direction Data, presented in degrees, Sin and Cos are calculated, which naturally have values in this same scale."
      ]
    },
    {
      "cell_type": "code",
      "metadata": {
        "id": "FE8dIJ5vMaUu",
        "colab_type": "code",
        "colab": {
          "base_uri": "https://localhost:8080/",
          "height": 0
        },
        "outputId": "ec500574-966a-4d55-f1d7-56f34290ac38"
      },
      "source": [
        "directions = X[['Wind Direction 100m', 'Wind Direction 10m']]\n",
        "directions[\"Sin_Wind Direction 100m\"] = np.sin(X['Wind Direction 100m']*(np.pi/180))\n",
        "directions[\"Cos_Wind Direction 100m\"] = np.cos(X['Wind Direction 100m']*(np.pi/180))\n",
        "directions[\"Sin_Wind Direction 10m\"] = np.sin(X['Wind Direction 10m']*(np.pi/180))\n",
        "directions[\"Cos_Wind Direction 10m\"] = np.cos(X['Wind Direction 10m']*(np.pi/180))\n",
        "\n",
        "directions = directions.drop(['Wind Direction 100m', 'Wind Direction 10m'],axis=1)\n",
        "directions = directions.reset_index().drop('Time',axis=1)"
      ],
      "execution_count": 67,
      "outputs": [
        {
          "output_type": "stream",
          "text": [
            "/usr/local/lib/python3.6/dist-packages/ipykernel_launcher.py:2: SettingWithCopyWarning: \n",
            "A value is trying to be set on a copy of a slice from a DataFrame.\n",
            "Try using .loc[row_indexer,col_indexer] = value instead\n",
            "\n",
            "See the caveats in the documentation: https://pandas.pydata.org/pandas-docs/stable/user_guide/indexing.html#returning-a-view-versus-a-copy\n",
            "  \n",
            "/usr/local/lib/python3.6/dist-packages/ipykernel_launcher.py:3: SettingWithCopyWarning: \n",
            "A value is trying to be set on a copy of a slice from a DataFrame.\n",
            "Try using .loc[row_indexer,col_indexer] = value instead\n",
            "\n",
            "See the caveats in the documentation: https://pandas.pydata.org/pandas-docs/stable/user_guide/indexing.html#returning-a-view-versus-a-copy\n",
            "  This is separate from the ipykernel package so we can avoid doing imports until\n",
            "/usr/local/lib/python3.6/dist-packages/ipykernel_launcher.py:4: SettingWithCopyWarning: \n",
            "A value is trying to be set on a copy of a slice from a DataFrame.\n",
            "Try using .loc[row_indexer,col_indexer] = value instead\n",
            "\n",
            "See the caveats in the documentation: https://pandas.pydata.org/pandas-docs/stable/user_guide/indexing.html#returning-a-view-versus-a-copy\n",
            "  after removing the cwd from sys.path.\n",
            "/usr/local/lib/python3.6/dist-packages/ipykernel_launcher.py:5: SettingWithCopyWarning: \n",
            "A value is trying to be set on a copy of a slice from a DataFrame.\n",
            "Try using .loc[row_indexer,col_indexer] = value instead\n",
            "\n",
            "See the caveats in the documentation: https://pandas.pydata.org/pandas-docs/stable/user_guide/indexing.html#returning-a-view-versus-a-copy\n",
            "  \"\"\"\n"
          ],
          "name": "stderr"
        }
      ]
    },
    {
      "cell_type": "code",
      "metadata": {
        "id": "5THmj09xMaUw",
        "colab_type": "code",
        "colab": {}
      },
      "source": [
        "X = X.drop(['Wind Direction 100m', 'Wind Direction 10m'],axis=1)\n",
        "X_columns = X.columns"
      ],
      "execution_count": 68,
      "outputs": []
    },
    {
      "cell_type": "code",
      "metadata": {
        "id": "39m7PeooMaUy",
        "colab_type": "code",
        "colab": {}
      },
      "source": [
        "scaler = MinMaxScaler(feature_range=(-1,1))\n",
        "X = scaler.fit_transform(X)\n",
        "X = pd.DataFrame(X,columns=X_columns)"
      ],
      "execution_count": 69,
      "outputs": []
    },
    {
      "cell_type": "code",
      "metadata": {
        "id": "T2n0DJcMMaU1",
        "colab_type": "code",
        "colab": {}
      },
      "source": [
        "X = pd.concat([X,directions],axis=1)"
      ],
      "execution_count": 70,
      "outputs": []
    },
    {
      "cell_type": "code",
      "metadata": {
        "id": "8HgZErb3MaU3",
        "colab_type": "code",
        "colab": {}
      },
      "source": [
        "y = y.drop('ID',axis=1)\n",
        "y = scaler.fit_transform(y)\n",
        "y = pd.DataFrame(y)"
      ],
      "execution_count": 71,
      "outputs": []
    },
    {
      "cell_type": "code",
      "metadata": {
        "id": "knBm6dIBMaU6",
        "colab_type": "code",
        "colab": {
          "base_uri": "https://localhost:8080/",
          "height": 0
        },
        "outputId": "d3254c88-335b-46d4-a285-aa4e64152d36"
      },
      "source": [
        "X.head()"
      ],
      "execution_count": 72,
      "outputs": [
        {
          "output_type": "execute_result",
          "data": {
            "text/html": [
              "<div>\n",
              "<style scoped>\n",
              "    .dataframe tbody tr th:only-of-type {\n",
              "        vertical-align: middle;\n",
              "    }\n",
              "\n",
              "    .dataframe tbody tr th {\n",
              "        vertical-align: top;\n",
              "    }\n",
              "\n",
              "    .dataframe thead th {\n",
              "        text-align: right;\n",
              "    }\n",
              "</style>\n",
              "<table border=\"1\" class=\"dataframe\">\n",
              "  <thead>\n",
              "    <tr style=\"text-align: right;\">\n",
              "      <th></th>\n",
              "      <th>U_100m</th>\n",
              "      <th>V_100m</th>\n",
              "      <th>U_10m</th>\n",
              "      <th>V_10m</th>\n",
              "      <th>T</th>\n",
              "      <th>CLCT</th>\n",
              "      <th>Wind Speed 100m</th>\n",
              "      <th>Wind Speed 10m</th>\n",
              "      <th>T_lag_7_days</th>\n",
              "      <th>T_lag_14_days</th>\n",
              "      <th>T_lag_21_days</th>\n",
              "      <th>CLCT_lag_7_days</th>\n",
              "      <th>CLCT_lag_14_days</th>\n",
              "      <th>CLCT_lag_21_days</th>\n",
              "      <th>U_100m_lag_7_days</th>\n",
              "      <th>U_100m_lag_14_days</th>\n",
              "      <th>U_100m_lag_21_days</th>\n",
              "      <th>V_100m_lag_7_days</th>\n",
              "      <th>V_100m_lag_14_days</th>\n",
              "      <th>V_100m_lag_21_days</th>\n",
              "      <th>U_10m_lag_7_days</th>\n",
              "      <th>U_10m_lag_14_days</th>\n",
              "      <th>U_10m_lag_21_days</th>\n",
              "      <th>V_10m_lag_7_days</th>\n",
              "      <th>V_10m_lag_14_days</th>\n",
              "      <th>V_10m_lag_21_days</th>\n",
              "      <th>Month_Number</th>\n",
              "      <th>T_Last_Month_Mean</th>\n",
              "      <th>CLCT_Last_Month_Mean</th>\n",
              "      <th>U_100m_Last_Month_Mean</th>\n",
              "      <th>V_100m_Last_Month_Mean</th>\n",
              "      <th>U_10m_Last_Month_Mean</th>\n",
              "      <th>V_10m_Last_Month_Mean</th>\n",
              "      <th>TLast_Month_Variance</th>\n",
              "      <th>CLCTLast_Month_Variance</th>\n",
              "      <th>U_100mLast_Month_Variance</th>\n",
              "      <th>V_100mLast_Month_Variance</th>\n",
              "      <th>U_10mLast_Month_Variance</th>\n",
              "      <th>V_10mLast_Month_Variance</th>\n",
              "      <th>cos_day</th>\n",
              "      <th>...</th>\n",
              "      <th>V_100m_Distance_Max</th>\n",
              "      <th>V_100m_Distance_Min</th>\n",
              "      <th>U_10m_Distance_Max</th>\n",
              "      <th>U_10m_Distance_Min</th>\n",
              "      <th>V_10m_Distance_Max</th>\n",
              "      <th>V_10m_Distance_Min</th>\n",
              "      <th>T_Rolling_7_Window_Mean</th>\n",
              "      <th>T_Rolling_14_Window_Mean</th>\n",
              "      <th>T_Rolling_7_Window_Variance</th>\n",
              "      <th>T_Rolling_14_Window_Variance</th>\n",
              "      <th>CLCT_Rolling_7_Window_Mean</th>\n",
              "      <th>CLCT_Rolling_14_Window_Mean</th>\n",
              "      <th>CLCT_Rolling_7_Window_Variance</th>\n",
              "      <th>CLCT_Rolling_14_Window_Variance</th>\n",
              "      <th>U_100m_Rolling_7_Window_Mean</th>\n",
              "      <th>U_100m_Rolling_14_Window_Mean</th>\n",
              "      <th>U_100m_Rolling_7_Window_Variance</th>\n",
              "      <th>U_100m_Rolling_14_Window_Variance</th>\n",
              "      <th>V_100m_Rolling_7_Window_Mean</th>\n",
              "      <th>V_100m_Rolling_14_Window_Mean</th>\n",
              "      <th>V_100m_Rolling_7_Window_Variance</th>\n",
              "      <th>V_100m_Rolling_14_Window_Variance</th>\n",
              "      <th>U_10m_Rolling_7_Window_Mean</th>\n",
              "      <th>U_10m_Rolling_14_Window_Mean</th>\n",
              "      <th>U_10m_Rolling_7_Window_Variance</th>\n",
              "      <th>U_10m_Rolling_14_Window_Variance</th>\n",
              "      <th>V_10m_Rolling_7_Window_Mean</th>\n",
              "      <th>V_10m_Rolling_14_Window_Mean</th>\n",
              "      <th>V_10m_Rolling_7_Window_Variance</th>\n",
              "      <th>V_10m_Rolling_14_Window_Variance</th>\n",
              "      <th>T_Expanded_Window_Max</th>\n",
              "      <th>CLCT_Expanded_Window_Max</th>\n",
              "      <th>U_100m_Expanded_Window_Max</th>\n",
              "      <th>V_100m_Expanded_Window_Max</th>\n",
              "      <th>U_10m_Expanded_Window_Max</th>\n",
              "      <th>V_10m_Expanded_Window_Max</th>\n",
              "      <th>Sin_Wind Direction 100m</th>\n",
              "      <th>Cos_Wind Direction 100m</th>\n",
              "      <th>Sin_Wind Direction 10m</th>\n",
              "      <th>Cos_Wind Direction 10m</th>\n",
              "    </tr>\n",
              "  </thead>\n",
              "  <tbody>\n",
              "    <tr>\n",
              "      <th>0</th>\n",
              "      <td>-0.138088</td>\n",
              "      <td>0.115046</td>\n",
              "      <td>0.101243</td>\n",
              "      <td>0.289424</td>\n",
              "      <td>-0.287661</td>\n",
              "      <td>0.650863</td>\n",
              "      <td>-0.698185</td>\n",
              "      <td>-0.856981</td>\n",
              "      <td>0.997117</td>\n",
              "      <td>0.997117</td>\n",
              "      <td>0.997117</td>\n",
              "      <td>0.999317</td>\n",
              "      <td>0.999317</td>\n",
              "      <td>0.999317</td>\n",
              "      <td>0.999346</td>\n",
              "      <td>0.999346</td>\n",
              "      <td>0.999346</td>\n",
              "      <td>0.999362</td>\n",
              "      <td>0.999362</td>\n",
              "      <td>0.999362</td>\n",
              "      <td>0.999335</td>\n",
              "      <td>0.999335</td>\n",
              "      <td>0.999335</td>\n",
              "      <td>0.999347</td>\n",
              "      <td>0.999347</td>\n",
              "      <td>0.999347</td>\n",
              "      <td>-0.272727</td>\n",
              "      <td>-1.0</td>\n",
              "      <td>-1.0</td>\n",
              "      <td>1.0</td>\n",
              "      <td>1.0</td>\n",
              "      <td>1.0</td>\n",
              "      <td>1.0</td>\n",
              "      <td>-0.9589</td>\n",
              "      <td>-1.0</td>\n",
              "      <td>-1.0</td>\n",
              "      <td>-1.0</td>\n",
              "      <td>-0.680436</td>\n",
              "      <td>-1.0</td>\n",
              "      <td>1.0</td>\n",
              "      <td>...</td>\n",
              "      <td>-1.0</td>\n",
              "      <td>-1.000000</td>\n",
              "      <td>-1.0</td>\n",
              "      <td>-1.0</td>\n",
              "      <td>-1.000000</td>\n",
              "      <td>-1.000000</td>\n",
              "      <td>-1.000000</td>\n",
              "      <td>-1.000000</td>\n",
              "      <td>-1.000000</td>\n",
              "      <td>-1.000000</td>\n",
              "      <td>-1.000000</td>\n",
              "      <td>-1.000000</td>\n",
              "      <td>-1.000000</td>\n",
              "      <td>-1.000000</td>\n",
              "      <td>-1.000000</td>\n",
              "      <td>-1.000000</td>\n",
              "      <td>-1.000000</td>\n",
              "      <td>-1.000000</td>\n",
              "      <td>-1.00000</td>\n",
              "      <td>-1.000000</td>\n",
              "      <td>-1.000000</td>\n",
              "      <td>-1.000000</td>\n",
              "      <td>-1.00000</td>\n",
              "      <td>-1.000000</td>\n",
              "      <td>-1.000000</td>\n",
              "      <td>-1.000000</td>\n",
              "      <td>-1.000000</td>\n",
              "      <td>-1.000000</td>\n",
              "      <td>-1.000000</td>\n",
              "      <td>-1.000000</td>\n",
              "      <td>-1.000000</td>\n",
              "      <td>-1.000000</td>\n",
              "      <td>-1.000000</td>\n",
              "      <td>-1.000000</td>\n",
              "      <td>-1.000000</td>\n",
              "      <td>-1.0</td>\n",
              "      <td>0.016871</td>\n",
              "      <td>0.999858</td>\n",
              "      <td>-0.003961</td>\n",
              "      <td>0.999992</td>\n",
              "    </tr>\n",
              "    <tr>\n",
              "      <th>1</th>\n",
              "      <td>-0.149704</td>\n",
              "      <td>0.205944</td>\n",
              "      <td>0.226318</td>\n",
              "      <td>0.279576</td>\n",
              "      <td>-0.298535</td>\n",
              "      <td>0.999817</td>\n",
              "      <td>-0.785083</td>\n",
              "      <td>-0.714591</td>\n",
              "      <td>0.998583</td>\n",
              "      <td>0.998583</td>\n",
              "      <td>0.998583</td>\n",
              "      <td>0.999664</td>\n",
              "      <td>0.999664</td>\n",
              "      <td>0.999664</td>\n",
              "      <td>0.999679</td>\n",
              "      <td>0.999679</td>\n",
              "      <td>0.999679</td>\n",
              "      <td>0.999686</td>\n",
              "      <td>0.999686</td>\n",
              "      <td>0.999686</td>\n",
              "      <td>0.999673</td>\n",
              "      <td>0.999673</td>\n",
              "      <td>0.999673</td>\n",
              "      <td>0.999679</td>\n",
              "      <td>0.999679</td>\n",
              "      <td>0.999679</td>\n",
              "      <td>-0.272727</td>\n",
              "      <td>-1.0</td>\n",
              "      <td>-1.0</td>\n",
              "      <td>1.0</td>\n",
              "      <td>1.0</td>\n",
              "      <td>1.0</td>\n",
              "      <td>1.0</td>\n",
              "      <td>-0.9589</td>\n",
              "      <td>-1.0</td>\n",
              "      <td>-1.0</td>\n",
              "      <td>-1.0</td>\n",
              "      <td>-0.680436</td>\n",
              "      <td>-1.0</td>\n",
              "      <td>1.0</td>\n",
              "      <td>...</td>\n",
              "      <td>-1.0</td>\n",
              "      <td>-0.992308</td>\n",
              "      <td>-1.0</td>\n",
              "      <td>-1.0</td>\n",
              "      <td>-1.000000</td>\n",
              "      <td>-0.992308</td>\n",
              "      <td>-0.996413</td>\n",
              "      <td>-0.996405</td>\n",
              "      <td>-0.992565</td>\n",
              "      <td>-0.992744</td>\n",
              "      <td>-0.994302</td>\n",
              "      <td>-0.994302</td>\n",
              "      <td>-0.999287</td>\n",
              "      <td>-0.999191</td>\n",
              "      <td>-0.992483</td>\n",
              "      <td>-0.992465</td>\n",
              "      <td>-0.993161</td>\n",
              "      <td>-0.993328</td>\n",
              "      <td>-0.99242</td>\n",
              "      <td>-0.992398</td>\n",
              "      <td>-0.993832</td>\n",
              "      <td>-0.993718</td>\n",
              "      <td>-0.99232</td>\n",
              "      <td>-0.992295</td>\n",
              "      <td>-0.992804</td>\n",
              "      <td>-0.992898</td>\n",
              "      <td>-0.992268</td>\n",
              "      <td>-0.992257</td>\n",
              "      <td>-0.992965</td>\n",
              "      <td>-0.992974</td>\n",
              "      <td>-1.000000</td>\n",
              "      <td>0.998951</td>\n",
              "      <td>-1.000000</td>\n",
              "      <td>-0.794570</td>\n",
              "      <td>-0.721671</td>\n",
              "      <td>-1.0</td>\n",
              "      <td>0.009355</td>\n",
              "      <td>0.999956</td>\n",
              "      <td>-0.002870</td>\n",
              "      <td>0.999996</td>\n",
              "    </tr>\n",
              "    <tr>\n",
              "      <th>2</th>\n",
              "      <td>-0.073889</td>\n",
              "      <td>0.265110</td>\n",
              "      <td>0.075191</td>\n",
              "      <td>0.199814</td>\n",
              "      <td>-0.279505</td>\n",
              "      <td>0.967345</td>\n",
              "      <td>-0.907100</td>\n",
              "      <td>-0.805943</td>\n",
              "      <td>0.979989</td>\n",
              "      <td>0.979989</td>\n",
              "      <td>0.979989</td>\n",
              "      <td>0.995260</td>\n",
              "      <td>0.995260</td>\n",
              "      <td>0.995260</td>\n",
              "      <td>0.995462</td>\n",
              "      <td>0.995462</td>\n",
              "      <td>0.995462</td>\n",
              "      <td>0.995573</td>\n",
              "      <td>0.995573</td>\n",
              "      <td>0.995573</td>\n",
              "      <td>0.995384</td>\n",
              "      <td>0.995384</td>\n",
              "      <td>0.995384</td>\n",
              "      <td>0.995468</td>\n",
              "      <td>0.995468</td>\n",
              "      <td>0.995468</td>\n",
              "      <td>-0.272727</td>\n",
              "      <td>-1.0</td>\n",
              "      <td>-1.0</td>\n",
              "      <td>1.0</td>\n",
              "      <td>1.0</td>\n",
              "      <td>1.0</td>\n",
              "      <td>1.0</td>\n",
              "      <td>-0.9589</td>\n",
              "      <td>-1.0</td>\n",
              "      <td>-1.0</td>\n",
              "      <td>-1.0</td>\n",
              "      <td>-0.680436</td>\n",
              "      <td>-1.0</td>\n",
              "      <td>1.0</td>\n",
              "      <td>...</td>\n",
              "      <td>-1.0</td>\n",
              "      <td>-0.992308</td>\n",
              "      <td>-1.0</td>\n",
              "      <td>-1.0</td>\n",
              "      <td>-1.000000</td>\n",
              "      <td>-0.992308</td>\n",
              "      <td>-0.996413</td>\n",
              "      <td>-0.996405</td>\n",
              "      <td>-0.992565</td>\n",
              "      <td>-0.992744</td>\n",
              "      <td>-0.994302</td>\n",
              "      <td>-0.994302</td>\n",
              "      <td>-0.999287</td>\n",
              "      <td>-0.999191</td>\n",
              "      <td>-0.992483</td>\n",
              "      <td>-0.992465</td>\n",
              "      <td>-0.993161</td>\n",
              "      <td>-0.993328</td>\n",
              "      <td>-0.99242</td>\n",
              "      <td>-0.992398</td>\n",
              "      <td>-0.993832</td>\n",
              "      <td>-0.993718</td>\n",
              "      <td>-0.99232</td>\n",
              "      <td>-0.992295</td>\n",
              "      <td>-0.992804</td>\n",
              "      <td>-0.992898</td>\n",
              "      <td>-0.992268</td>\n",
              "      <td>-0.992257</td>\n",
              "      <td>-0.992965</td>\n",
              "      <td>-0.992974</td>\n",
              "      <td>-0.987333</td>\n",
              "      <td>0.998951</td>\n",
              "      <td>-0.887181</td>\n",
              "      <td>-0.660856</td>\n",
              "      <td>-0.721671</td>\n",
              "      <td>-1.0</td>\n",
              "      <td>0.003757</td>\n",
              "      <td>0.999993</td>\n",
              "      <td>-0.016702</td>\n",
              "      <td>0.999861</td>\n",
              "    </tr>\n",
              "    <tr>\n",
              "      <th>3</th>\n",
              "      <td>0.233830</td>\n",
              "      <td>-0.033446</td>\n",
              "      <td>0.044082</td>\n",
              "      <td>0.235938</td>\n",
              "      <td>-0.387943</td>\n",
              "      <td>0.897212</td>\n",
              "      <td>-0.445239</td>\n",
              "      <td>-0.868999</td>\n",
              "      <td>0.980186</td>\n",
              "      <td>0.980186</td>\n",
              "      <td>0.980186</td>\n",
              "      <td>0.995307</td>\n",
              "      <td>0.995307</td>\n",
              "      <td>0.995307</td>\n",
              "      <td>0.995507</td>\n",
              "      <td>0.995507</td>\n",
              "      <td>0.995507</td>\n",
              "      <td>0.995617</td>\n",
              "      <td>0.995617</td>\n",
              "      <td>0.995617</td>\n",
              "      <td>0.995429</td>\n",
              "      <td>0.995429</td>\n",
              "      <td>0.995429</td>\n",
              "      <td>0.995512</td>\n",
              "      <td>0.995512</td>\n",
              "      <td>0.995512</td>\n",
              "      <td>-0.272727</td>\n",
              "      <td>-1.0</td>\n",
              "      <td>-1.0</td>\n",
              "      <td>1.0</td>\n",
              "      <td>1.0</td>\n",
              "      <td>1.0</td>\n",
              "      <td>1.0</td>\n",
              "      <td>-0.9589</td>\n",
              "      <td>-1.0</td>\n",
              "      <td>-1.0</td>\n",
              "      <td>-1.0</td>\n",
              "      <td>-0.680436</td>\n",
              "      <td>-1.0</td>\n",
              "      <td>1.0</td>\n",
              "      <td>...</td>\n",
              "      <td>-1.0</td>\n",
              "      <td>-0.992308</td>\n",
              "      <td>-1.0</td>\n",
              "      <td>-1.0</td>\n",
              "      <td>-0.992308</td>\n",
              "      <td>-0.992308</td>\n",
              "      <td>-0.996413</td>\n",
              "      <td>-0.996405</td>\n",
              "      <td>-0.992565</td>\n",
              "      <td>-0.992744</td>\n",
              "      <td>-0.994302</td>\n",
              "      <td>-0.994302</td>\n",
              "      <td>-0.999287</td>\n",
              "      <td>-0.999191</td>\n",
              "      <td>-0.992483</td>\n",
              "      <td>-0.992465</td>\n",
              "      <td>-0.993161</td>\n",
              "      <td>-0.993328</td>\n",
              "      <td>-0.99242</td>\n",
              "      <td>-0.992398</td>\n",
              "      <td>-0.993832</td>\n",
              "      <td>-0.993718</td>\n",
              "      <td>-0.99232</td>\n",
              "      <td>-0.992295</td>\n",
              "      <td>-0.992804</td>\n",
              "      <td>-0.992898</td>\n",
              "      <td>-0.992268</td>\n",
              "      <td>-0.992257</td>\n",
              "      <td>-0.992965</td>\n",
              "      <td>-0.992974</td>\n",
              "      <td>-0.987333</td>\n",
              "      <td>0.998951</td>\n",
              "      <td>-0.346416</td>\n",
              "      <td>-0.660856</td>\n",
              "      <td>-0.721671</td>\n",
              "      <td>-1.0</td>\n",
              "      <td>-0.018032</td>\n",
              "      <td>0.999837</td>\n",
              "      <td>-0.016555</td>\n",
              "      <td>0.999863</td>\n",
              "    </tr>\n",
              "    <tr>\n",
              "      <th>4</th>\n",
              "      <td>0.240506</td>\n",
              "      <td>0.005328</td>\n",
              "      <td>0.003756</td>\n",
              "      <td>0.289004</td>\n",
              "      <td>-0.407274</td>\n",
              "      <td>0.918118</td>\n",
              "      <td>-0.490827</td>\n",
              "      <td>-0.957474</td>\n",
              "      <td>0.983856</td>\n",
              "      <td>0.983856</td>\n",
              "      <td>0.983856</td>\n",
              "      <td>0.996176</td>\n",
              "      <td>0.996176</td>\n",
              "      <td>0.996176</td>\n",
              "      <td>0.996339</td>\n",
              "      <td>0.996339</td>\n",
              "      <td>0.996339</td>\n",
              "      <td>0.996429</td>\n",
              "      <td>0.996429</td>\n",
              "      <td>0.996429</td>\n",
              "      <td>0.996276</td>\n",
              "      <td>0.996276</td>\n",
              "      <td>0.996276</td>\n",
              "      <td>0.996343</td>\n",
              "      <td>0.996343</td>\n",
              "      <td>0.996343</td>\n",
              "      <td>-0.272727</td>\n",
              "      <td>-1.0</td>\n",
              "      <td>-1.0</td>\n",
              "      <td>1.0</td>\n",
              "      <td>1.0</td>\n",
              "      <td>1.0</td>\n",
              "      <td>1.0</td>\n",
              "      <td>-0.9589</td>\n",
              "      <td>-1.0</td>\n",
              "      <td>-1.0</td>\n",
              "      <td>-1.0</td>\n",
              "      <td>-0.680436</td>\n",
              "      <td>-1.0</td>\n",
              "      <td>1.0</td>\n",
              "      <td>...</td>\n",
              "      <td>-1.0</td>\n",
              "      <td>-0.992308</td>\n",
              "      <td>-1.0</td>\n",
              "      <td>-1.0</td>\n",
              "      <td>-0.992308</td>\n",
              "      <td>-0.992308</td>\n",
              "      <td>-0.996413</td>\n",
              "      <td>-0.996405</td>\n",
              "      <td>-0.992565</td>\n",
              "      <td>-0.992744</td>\n",
              "      <td>-0.994302</td>\n",
              "      <td>-0.994302</td>\n",
              "      <td>-0.999287</td>\n",
              "      <td>-0.999191</td>\n",
              "      <td>-0.992483</td>\n",
              "      <td>-0.992465</td>\n",
              "      <td>-0.993161</td>\n",
              "      <td>-0.993328</td>\n",
              "      <td>-0.99242</td>\n",
              "      <td>-0.992398</td>\n",
              "      <td>-0.993832</td>\n",
              "      <td>-0.993718</td>\n",
              "      <td>-0.99232</td>\n",
              "      <td>-0.992295</td>\n",
              "      <td>-0.992804</td>\n",
              "      <td>-0.992898</td>\n",
              "      <td>-0.992268</td>\n",
              "      <td>-0.992257</td>\n",
              "      <td>-0.992965</td>\n",
              "      <td>-0.992974</td>\n",
              "      <td>-0.987333</td>\n",
              "      <td>0.998951</td>\n",
              "      <td>-0.334684</td>\n",
              "      <td>-0.660856</td>\n",
              "      <td>-0.721671</td>\n",
              "      <td>-1.0</td>\n",
              "      <td>-0.016751</td>\n",
              "      <td>0.999860</td>\n",
              "      <td>-0.013826</td>\n",
              "      <td>0.999904</td>\n",
              "    </tr>\n",
              "  </tbody>\n",
              "</table>\n",
              "<p>5 rows × 95 columns</p>\n",
              "</div>"
            ],
            "text/plain": [
              "     U_100m    V_100m  ...  Sin_Wind Direction 10m  Cos_Wind Direction 10m\n",
              "0 -0.138088  0.115046  ...               -0.003961                0.999992\n",
              "1 -0.149704  0.205944  ...               -0.002870                0.999996\n",
              "2 -0.073889  0.265110  ...               -0.016702                0.999861\n",
              "3  0.233830 -0.033446  ...               -0.016555                0.999863\n",
              "4  0.240506  0.005328  ...               -0.013826                0.999904\n",
              "\n",
              "[5 rows x 95 columns]"
            ]
          },
          "metadata": {
            "tags": []
          },
          "execution_count": 72
        }
      ]
    },
    {
      "cell_type": "code",
      "metadata": {
        "id": "yChNODtbMaU8",
        "colab_type": "code",
        "colab": {
          "base_uri": "https://localhost:8080/",
          "height": 0
        },
        "outputId": "90e3adf5-8653-430e-a0a0-75b88a528a7a"
      },
      "source": [
        "y"
      ],
      "execution_count": 73,
      "outputs": [
        {
          "output_type": "execute_result",
          "data": {
            "text/html": [
              "<div>\n",
              "<style scoped>\n",
              "    .dataframe tbody tr th:only-of-type {\n",
              "        vertical-align: middle;\n",
              "    }\n",
              "\n",
              "    .dataframe tbody tr th {\n",
              "        vertical-align: top;\n",
              "    }\n",
              "\n",
              "    .dataframe thead th {\n",
              "        text-align: right;\n",
              "    }\n",
              "</style>\n",
              "<table border=\"1\" class=\"dataframe\">\n",
              "  <thead>\n",
              "    <tr style=\"text-align: right;\">\n",
              "      <th></th>\n",
              "      <th>0</th>\n",
              "    </tr>\n",
              "  </thead>\n",
              "  <tbody>\n",
              "    <tr>\n",
              "      <th>0</th>\n",
              "      <td>-0.996055</td>\n",
              "    </tr>\n",
              "    <tr>\n",
              "      <th>1</th>\n",
              "      <td>-0.986193</td>\n",
              "    </tr>\n",
              "    <tr>\n",
              "      <th>2</th>\n",
              "      <td>-0.956607</td>\n",
              "    </tr>\n",
              "    <tr>\n",
              "      <th>3</th>\n",
              "      <td>-0.923077</td>\n",
              "    </tr>\n",
              "    <tr>\n",
              "      <th>4</th>\n",
              "      <td>-0.919132</td>\n",
              "    </tr>\n",
              "    <tr>\n",
              "      <th>...</th>\n",
              "      <td>...</td>\n",
              "    </tr>\n",
              "    <tr>\n",
              "      <th>6234</th>\n",
              "      <td>-0.911243</td>\n",
              "    </tr>\n",
              "    <tr>\n",
              "      <th>6235</th>\n",
              "      <td>-0.893491</td>\n",
              "    </tr>\n",
              "    <tr>\n",
              "      <th>6236</th>\n",
              "      <td>-0.990138</td>\n",
              "    </tr>\n",
              "    <tr>\n",
              "      <th>6237</th>\n",
              "      <td>-0.992110</td>\n",
              "    </tr>\n",
              "    <tr>\n",
              "      <th>6238</th>\n",
              "      <td>-0.990138</td>\n",
              "    </tr>\n",
              "  </tbody>\n",
              "</table>\n",
              "<p>6239 rows × 1 columns</p>\n",
              "</div>"
            ],
            "text/plain": [
              "             0\n",
              "0    -0.996055\n",
              "1    -0.986193\n",
              "2    -0.956607\n",
              "3    -0.923077\n",
              "4    -0.919132\n",
              "...        ...\n",
              "6234 -0.911243\n",
              "6235 -0.893491\n",
              "6236 -0.990138\n",
              "6237 -0.992110\n",
              "6238 -0.990138\n",
              "\n",
              "[6239 rows x 1 columns]"
            ]
          },
          "metadata": {
            "tags": []
          },
          "execution_count": 73
        }
      ]
    },
    {
      "cell_type": "code",
      "metadata": {
        "id": "UreNMlu_UmBC",
        "colab_type": "code",
        "colab": {
          "base_uri": "https://localhost:8080/",
          "height": 0
        },
        "outputId": "e1e86c93-83aa-4376-ce34-c7e2fc194c45"
      },
      "source": [
        "y.shape"
      ],
      "execution_count": 74,
      "outputs": [
        {
          "output_type": "execute_result",
          "data": {
            "text/plain": [
              "(6239, 1)"
            ]
          },
          "metadata": {
            "tags": []
          },
          "execution_count": 74
        }
      ]
    },
    {
      "cell_type": "markdown",
      "metadata": {
        "id": "ZOe3UyUzMaU_",
        "colab_type": "text"
      },
      "source": [
        "## Subsets Creation"
      ]
    },
    {
      "cell_type": "markdown",
      "metadata": {
        "id": "TdZ3SWMKMaU_",
        "colab_type": "text"
      },
      "source": [
        "Here, the Data is converted to a group of subsets where each subset has n_steps of past data."
      ]
    },
    {
      "cell_type": "code",
      "metadata": {
        "id": "m5ns8yzXMaU_",
        "colab_type": "code",
        "colab": {}
      },
      "source": [
        "n_steps = 60"
      ],
      "execution_count": 75,
      "outputs": []
    },
    {
      "cell_type": "code",
      "metadata": {
        "id": "A800bL_SMaVC",
        "colab_type": "code",
        "colab": {}
      },
      "source": [
        "# split a multivariate sequence into samples\n",
        "def split_sequences(X, y = None, n_steps = 1):\n",
        "\tsample_X, sample_y = list(), list()\n",
        "\tfor i in range(len(X)):\n",
        "\t\t# find the end of this pattern\n",
        "\t\tend_ix = i + n_steps\n",
        "\t\t# check if we are beyond the dataset\n",
        "\t\tif end_ix > len(X):\n",
        "\t\t\tbreak\n",
        "\t\t# gather input and output parts of the pattern\n",
        "\t\tseq_x = X[i:end_ix, :]\n",
        "\t\tsample_X.append(seq_x)\n",
        "\t\tif y is not None:\n",
        "\t\t\tseq_y = y[end_ix-1,-1]\n",
        "\t\t\tsample_y.append(seq_y)\n",
        "\treturn np.array(sample_X), np.array(sample_y)"
      ],
      "execution_count": 76,
      "outputs": []
    },
    {
      "cell_type": "code",
      "metadata": {
        "id": "okz8xasuzDXS",
        "colab_type": "code",
        "colab": {}
      },
      "source": [
        "def shift_save(df,n_steps):\n",
        "  empty = pd.DataFrame(np.zeros((n_steps-1,df.shape[1])),columns=df.columns)\n",
        "  df = pd.concat([empty,df])\n",
        "  return df"
      ],
      "execution_count": 77,
      "outputs": []
    },
    {
      "cell_type": "code",
      "metadata": {
        "id": "RCgXPLQ0MaVE",
        "colab_type": "code",
        "colab": {}
      },
      "source": [
        "sample_X,sample_y = split_sequences(X.values,y.values,n_steps)"
      ],
      "execution_count": 78,
      "outputs": []
    },
    {
      "cell_type": "code",
      "metadata": {
        "id": "3qSIjG8HMaVH",
        "colab_type": "code",
        "colab": {}
      },
      "source": [
        "n_features = sample_X.shape[2]"
      ],
      "execution_count": 80,
      "outputs": []
    },
    {
      "cell_type": "markdown",
      "metadata": {
        "id": "JzkqvqX5MaVJ",
        "colab_type": "text"
      },
      "source": [
        "## Model"
      ]
    },
    {
      "cell_type": "markdown",
      "metadata": {
        "id": "USm2oSuSMaVK",
        "colab_type": "text"
      },
      "source": [
        "Here, a function to create the Model usin Keras is defined."
      ]
    },
    {
      "cell_type": "code",
      "metadata": {
        "id": "Lt8xYhd3MaVK",
        "colab_type": "code",
        "colab": {}
      },
      "source": [
        "def LSTM_Model(input_shape, batch_size=1):\n",
        "  # Numerical branch\n",
        "\n",
        "  input_layer = tf.keras.Input(shape = input_shape,batch_size = batch_size)\n",
        "\n",
        "  hidden_1 = tf.keras.layers.LSTM(units=128,return_sequences=True,stateful=True)(input_layer)\n",
        "  hidden_1 = tf.keras.layers.Dropout(0.1)(hidden_1)\n",
        "\n",
        "  hidden_2 = tf.keras.layers.LSTM(units=87,return_sequences=True,stateful=True)(hidden_1)\n",
        "  hidden_2 = tf.keras.layers.Dropout(0.1)(hidden_2)\n",
        "\n",
        "  hidden_3 = tf.keras.layers.LSTM(units=57,stateful=True)(hidden_2)\n",
        "  hidden_3 = tf.keras.layers.Dropout(0.1)(hidden_3)\n",
        "\n",
        "\n",
        "  # Output\n",
        "  #outputs = tf.keras.layers.PReLU()(hidden_2)\n",
        "  #outputs = tf.keras.layers.Dropout(rate=0.2)(hidden_2)\n",
        "  outputs = tf.keras.layers.Dense(units=1)(hidden_3)\n",
        "\n",
        "  model = tf.keras.Model(inputs=input_layer, outputs=outputs)\n",
        "\n",
        "  return model"
      ],
      "execution_count": 81,
      "outputs": []
    },
    {
      "cell_type": "code",
      "metadata": {
        "id": "IrjTyZ8KMaVM",
        "colab_type": "code",
        "colab": {}
      },
      "source": [
        "input_shape = (n_steps,n_features)"
      ],
      "execution_count": 82,
      "outputs": []
    },
    {
      "cell_type": "code",
      "metadata": {
        "tags": [],
        "id": "ja7P7f1HMaVO",
        "colab_type": "code",
        "colab": {}
      },
      "source": [
        "model = LSTM_Model(input_shape)"
      ],
      "execution_count": 83,
      "outputs": []
    },
    {
      "cell_type": "code",
      "metadata": {
        "tags": [],
        "id": "__ARBNVBMaVQ",
        "colab_type": "code",
        "colab": {
          "base_uri": "https://localhost:8080/",
          "height": 0
        },
        "outputId": "352411d1-9d36-4f4a-808a-345903d1d7c8"
      },
      "source": [
        "model.summary()"
      ],
      "execution_count": 84,
      "outputs": [
        {
          "output_type": "stream",
          "text": [
            "Model: \"functional_15\"\n",
            "_________________________________________________________________\n",
            "Layer (type)                 Output Shape              Param #   \n",
            "=================================================================\n",
            "input_8 (InputLayer)         [(1, 60, 95)]             0         \n",
            "_________________________________________________________________\n",
            "lstm_21 (LSTM)               (1, 60, 128)              114688    \n",
            "_________________________________________________________________\n",
            "dropout_21 (Dropout)         (1, 60, 128)              0         \n",
            "_________________________________________________________________\n",
            "lstm_22 (LSTM)               (1, 60, 87)               75168     \n",
            "_________________________________________________________________\n",
            "dropout_22 (Dropout)         (1, 60, 87)               0         \n",
            "_________________________________________________________________\n",
            "lstm_23 (LSTM)               (1, 57)                   33060     \n",
            "_________________________________________________________________\n",
            "dropout_23 (Dropout)         (1, 57)                   0         \n",
            "_________________________________________________________________\n",
            "dense_7 (Dense)              (1, 1)                    58        \n",
            "=================================================================\n",
            "Total params: 222,974\n",
            "Trainable params: 222,974\n",
            "Non-trainable params: 0\n",
            "_________________________________________________________________\n"
          ],
          "name": "stdout"
        }
      ]
    },
    {
      "cell_type": "markdown",
      "metadata": {
        "id": "JpR1xJhqMaVT",
        "colab_type": "text"
      },
      "source": [
        "## Validation"
      ]
    },
    {
      "cell_type": "code",
      "metadata": {
        "id": "Y4K8mWyxMaVW",
        "colab_type": "code",
        "colab": {}
      },
      "source": [
        "random.seed(317)\n",
        "tf.random.set_seed(317)\n",
        "\n",
        "patience = 3\n",
        "epochs = 10\n",
        "k_fold_splits = 5\n",
        "total_it = 50\n",
        "monitor = \"root_mean_squared_error\"\n",
        "batch_size = 1\n",
        "\n",
        "#n_rows = round(X.shape[0]/k_fold_splits)"
      ],
      "execution_count": 85,
      "outputs": []
    },
    {
      "cell_type": "code",
      "metadata": {
        "tags": [],
        "id": "qgvERJ2tMaVZ",
        "colab_type": "code",
        "colab": {
          "base_uri": "https://localhost:8080/",
          "height": 697
        },
        "outputId": "c006ab6c-b997-467b-851b-e368ed9fa041"
      },
      "source": [
        "# Define Time Split Cross Validation\n",
        "tscv = TimeSeriesSplit(n_splits=k_fold_splits)\n",
        "\n",
        "# Separating Data from Hold Out Set\n",
        "\n",
        "X_cv, _, y_cv, _ = train_test_split(X, y, test_size=0.125, shuffle=False)\n",
        "\n",
        "train_scores = np.empty(0)\n",
        "val_scores = np.empty(0)\n",
        "test_scores = np.empty(0)\n",
        "for train_index, test_index in tscv.split(X_cv):\n",
        "\n",
        "    #train_index = train_index[-n_rows:]\n",
        "    #test_index = test_index[-n_rows:]\n",
        "\n",
        "    # Get the Data of the Split\n",
        "    X_train, X_test = X_cv.iloc[train_index], X_cv.iloc[test_index]\n",
        "    y_train, y_test = y_cv.iloc[train_index], y_cv.iloc[test_index]\n",
        "\n",
        "    # Separating Training Set of Split on Train and Validation Subsets\n",
        "    X_train, X_val, y_train, y_val = train_test_split(X_train, y_train, test_size=0.143, shuffle=False)\n",
        "\n",
        "    # Reshape Data\n",
        "    X_train, y_train = split_sequences(X_train.values,y_train.values,n_steps)\n",
        "    X_val, y_val = split_sequences(X_val.values,y_val.values,n_steps)\n",
        "    X_test, y_test = split_sequences(X_test.values,y_test.values,n_steps)\n",
        "\n",
        "    # Create Model\n",
        "    model = LSTM_Model(input_shape,batch_size=batch_size)\n",
        "\n",
        "    # Callbacks\n",
        "    callbacks_list = [tf.keras.callbacks.EarlyStopping(monitor=monitor, patience=patience, verbose=0, min_delta=1e-8)]\n",
        "\n",
        "    # Train the Model\n",
        "    model.compile(optimizer='adam', loss='mse', metrics=[tf.keras.metrics.RootMeanSquaredError()])\n",
        "    history = model.fit(x = X_train, y = y_train, batch_size = batch_size, epochs = epochs, validation_data = (X_val, y_val), callbacks=callbacks_list,shuffle=False)\n",
        "\n",
        "    # Train and Validation Score\n",
        "    train_score = np.array(history.history['root_mean_squared_error']).mean()\n",
        "    val_score = np.array(history.history['val_root_mean_squared_error']).mean()\n",
        "\n",
        "    # Test Score\n",
        "    preds = model.predict(X_test,batch_size = batch_size,callbacks=callbacks_list)\n",
        "    preds = tf.cast(preds, tf.float32)\n",
        "    y_test = tf.cast(y_test, tf.float32)\n",
        "\n",
        "    m = tf.keras.metrics.RootMeanSquaredError()\n",
        "    m.update_state(y_test,preds)\n",
        "    test_score = m.result().numpy()\n",
        "\n",
        "    train_scores = np.append(train_scores,train_score)\n",
        "    val_scores = np.append(val_scores,val_score)\n",
        "    test_scores = np.append(test_scores,test_score)"
      ],
      "execution_count": 86,
      "outputs": [
        {
          "output_type": "stream",
          "text": [
            "Epoch 1/10\n",
            "724/724 [==============================] - 8s 10ms/step - loss: 0.1520 - root_mean_squared_error: 0.3898 - val_loss: 0.0324 - val_root_mean_squared_error: 0.1801\n",
            "Epoch 2/10\n",
            "724/724 [==============================] - 7s 9ms/step - loss: 0.2183 - root_mean_squared_error: 0.4672 - val_loss: 0.0333 - val_root_mean_squared_error: 0.1825\n",
            "Epoch 3/10\n",
            "724/724 [==============================] - 7s 9ms/step - loss: 0.2120 - root_mean_squared_error: 0.4604 - val_loss: 0.0360 - val_root_mean_squared_error: 0.1897\n",
            "Epoch 4/10\n",
            "724/724 [==============================] - 7s 9ms/step - loss: 0.2242 - root_mean_squared_error: 0.4735 - val_loss: 0.0319 - val_root_mean_squared_error: 0.1785\n",
            "Epoch 1/10\n",
            "1503/1503 [==============================] - 16s 11ms/step - loss: 0.1569 - root_mean_squared_error: 0.3961 - val_loss: 0.1081 - val_root_mean_squared_error: 0.3288\n",
            "Epoch 2/10\n",
            "1503/1503 [==============================] - 14s 10ms/step - loss: 0.2371 - root_mean_squared_error: 0.4869 - val_loss: 0.1452 - val_root_mean_squared_error: 0.3811\n",
            "Epoch 3/10\n",
            "1503/1503 [==============================] - 14s 10ms/step - loss: 0.2127 - root_mean_squared_error: 0.4612 - val_loss: 0.1182 - val_root_mean_squared_error: 0.3438\n",
            "Epoch 4/10\n",
            "1503/1503 [==============================] - 14s 10ms/step - loss: 0.2173 - root_mean_squared_error: 0.4661 - val_loss: 0.1450 - val_root_mean_squared_error: 0.3809\n",
            "Epoch 1/10\n",
            "2282/2282 [==============================] - 23s 10ms/step - loss: 0.1700 - root_mean_squared_error: 0.4123 - val_loss: 0.1634 - val_root_mean_squared_error: 0.4042\n",
            "Epoch 2/10\n",
            "2282/2282 [==============================] - 23s 10ms/step - loss: 0.2103 - root_mean_squared_error: 0.4586 - val_loss: 0.1719 - val_root_mean_squared_error: 0.4146\n",
            "Epoch 3/10\n",
            "2282/2282 [==============================] - 22s 10ms/step - loss: 0.2040 - root_mean_squared_error: 0.4517 - val_loss: 0.1697 - val_root_mean_squared_error: 0.4119\n",
            "Epoch 4/10\n",
            "2282/2282 [==============================] - 23s 10ms/step - loss: 0.2017 - root_mean_squared_error: 0.4491 - val_loss: 0.1715 - val_root_mean_squared_error: 0.4141\n",
            "Epoch 1/10\n",
            "3061/3061 [==============================] - 31s 10ms/step - loss: 0.1614 - root_mean_squared_error: 0.4018 - val_loss: 0.1855 - val_root_mean_squared_error: 0.4307\n",
            "Epoch 2/10\n",
            "3061/3061 [==============================] - 31s 10ms/step - loss: 0.1890 - root_mean_squared_error: 0.4348 - val_loss: 0.2950 - val_root_mean_squared_error: 0.5431\n",
            "Epoch 3/10\n",
            "3061/3061 [==============================] - 30s 10ms/step - loss: 0.1802 - root_mean_squared_error: 0.4245 - val_loss: 0.1847 - val_root_mean_squared_error: 0.4298\n",
            "Epoch 4/10\n",
            "3061/3061 [==============================] - 30s 10ms/step - loss: 0.1983 - root_mean_squared_error: 0.4453 - val_loss: 0.1845 - val_root_mean_squared_error: 0.4295\n",
            "Epoch 1/10\n",
            "3840/3840 [==============================] - 39s 10ms/step - loss: 0.1723 - root_mean_squared_error: 0.4151 - val_loss: 0.4624 - val_root_mean_squared_error: 0.6800\n",
            "Epoch 2/10\n",
            "3840/3840 [==============================] - 38s 10ms/step - loss: 0.2051 - root_mean_squared_error: 0.4528 - val_loss: 0.4971 - val_root_mean_squared_error: 0.7051\n",
            "Epoch 3/10\n",
            "3840/3840 [==============================] - 39s 10ms/step - loss: 0.2165 - root_mean_squared_error: 0.4653 - val_loss: 0.5013 - val_root_mean_squared_error: 0.7080\n",
            "Epoch 4/10\n",
            "3840/3840 [==============================] - 39s 10ms/step - loss: 0.1982 - root_mean_squared_error: 0.4452 - val_loss: 0.4930 - val_root_mean_squared_error: 0.7021\n"
          ],
          "name": "stdout"
        }
      ]
    },
    {
      "cell_type": "code",
      "metadata": {
        "id": "T8M9VTWGyp7t",
        "colab_type": "code",
        "colab": {
          "base_uri": "https://localhost:8080/",
          "height": 500
        },
        "outputId": "bf5f4a80-0c2a-4cac-c726-eae8049c6ba1"
      },
      "source": [
        "plt.figure(figsize=(10,8))\n",
        "plt.plot(range(len(train_scores)),train_scores,label='Train Scores')\n",
        "plt.plot(range(len(val_scores)),val_scores,label='Validation Scores')\n",
        "plt.plot(range(len(test_scores)),test_scores,label='Test Scores')\n",
        "plt.legend()"
      ],
      "execution_count": 87,
      "outputs": [
        {
          "output_type": "execute_result",
          "data": {
            "text/plain": [
              "<matplotlib.legend.Legend at 0x7ff47199e0b8>"
            ]
          },
          "metadata": {
            "tags": []
          },
          "execution_count": 87
        },
        {
          "output_type": "display_data",
          "data": {
            "image/png": "[encoded data removed]",
            "text/plain": [
              "<Figure size 720x576 with 1 Axes>"
            ]
          },
          "metadata": {
            "tags": []
          }
        }
      ]
    },
    {
      "cell_type": "markdown",
      "metadata": {
        "id": "XDJ3EJABMaVe",
        "colab_type": "text"
      },
      "source": [
        "### Hold Out Score"
      ]
    },
    {
      "cell_type": "markdown",
      "metadata": {
        "id": "UrZ9HNlNcSLE",
        "colab_type": "text"
      },
      "source": [
        "Here, the same model is trained on all the data used on the Validation and tested on a Holdout Set never seen before."
      ]
    },
    {
      "cell_type": "code",
      "metadata": {
        "id": "KMcTgPbPMaVe",
        "colab_type": "code",
        "colab": {}
      },
      "source": [
        "X_train, X_holdout, y_train, y_holdout = train_test_split(X, y, test_size=0.125, shuffle=False)"
      ],
      "execution_count": 88,
      "outputs": []
    },
    {
      "cell_type": "code",
      "metadata": {
        "id": "_2GrFDqxtMxV",
        "colab_type": "code",
        "colab": {}
      },
      "source": [
        "#X_train, y_train = X_train.iloc[-n_rows:],y_train.iloc[-n_rows:]"
      ],
      "execution_count": 89,
      "outputs": []
    },
    {
      "cell_type": "code",
      "metadata": {
        "id": "QzBMhFivMaVg",
        "colab_type": "code",
        "colab": {}
      },
      "source": [
        "X_train, X_val, y_train, y_val = train_test_split(X_train, y_train, test_size=0.143, shuffle=False)"
      ],
      "execution_count": 90,
      "outputs": []
    },
    {
      "cell_type": "code",
      "metadata": {
        "id": "DCt5uDOTMaVj",
        "colab_type": "code",
        "colab": {}
      },
      "source": [
        "X_train, y_train = split_sequences(X_train.values,y_train.values,n_steps)\n",
        "X_val, y_val = split_sequences(X_val.values,y_val.values,n_steps)\n",
        "X_holdout, y_holdout = split_sequences(X_holdout.values,y_holdout.values,n_steps)"
      ],
      "execution_count": 91,
      "outputs": []
    },
    {
      "cell_type": "code",
      "metadata": {
        "id": "zLZJNzIrMaVl",
        "colab_type": "code",
        "colab": {}
      },
      "source": [
        "model = LSTM_Model(input_shape)"
      ],
      "execution_count": 92,
      "outputs": []
    },
    {
      "cell_type": "code",
      "metadata": {
        "tags": [],
        "id": "XUfPcqXlMaVn",
        "colab_type": "code",
        "colab": {
          "base_uri": "https://localhost:8080/",
          "height": 374
        },
        "outputId": "6c304ee6-e3f6-495c-bf47-f70b2e676c43"
      },
      "source": [
        "callbacks_list = [tf.keras.callbacks.EarlyStopping(monitor=monitor, patience=patience, verbose=0, min_delta=1e-8)]\n",
        "model.compile(optimizer='adam', loss='mse', metrics=[tf.keras.metrics.RootMeanSquaredError()])\n",
        "model.fit(x = X_train, y = y_train, batch_size = batch_size, epochs = epochs, validation_data = (X_val, y_val), callbacks=callbacks_list)"
      ],
      "execution_count": 93,
      "outputs": [
        {
          "output_type": "stream",
          "text": [
            "Epoch 1/10\n",
            "4619/4619 [==============================] - 48s 10ms/step - loss: 0.1339 - root_mean_squared_error: 0.3660 - val_loss: 0.1287 - val_root_mean_squared_error: 0.3588\n",
            "Epoch 2/10\n",
            "4619/4619 [==============================] - 47s 10ms/step - loss: 0.0875 - root_mean_squared_error: 0.2958 - val_loss: 0.2155 - val_root_mean_squared_error: 0.4642\n",
            "Epoch 3/10\n",
            "4619/4619 [==============================] - 47s 10ms/step - loss: 0.0777 - root_mean_squared_error: 0.2787 - val_loss: 0.2341 - val_root_mean_squared_error: 0.4838\n",
            "Epoch 4/10\n",
            "4619/4619 [==============================] - 47s 10ms/step - loss: 0.0692 - root_mean_squared_error: 0.2631 - val_loss: 0.1402 - val_root_mean_squared_error: 0.3745\n",
            "Epoch 5/10\n",
            "4619/4619 [==============================] - 45s 10ms/step - loss: 0.0628 - root_mean_squared_error: 0.2507 - val_loss: 0.1287 - val_root_mean_squared_error: 0.3588\n",
            "Epoch 6/10\n",
            "4619/4619 [==============================] - 46s 10ms/step - loss: 0.0552 - root_mean_squared_error: 0.2349 - val_loss: 0.1499 - val_root_mean_squared_error: 0.3871\n",
            "Epoch 7/10\n",
            "4619/4619 [==============================] - 47s 10ms/step - loss: 0.0591 - root_mean_squared_error: 0.2430 - val_loss: 0.1764 - val_root_mean_squared_error: 0.4200\n",
            "Epoch 8/10\n",
            "4619/4619 [==============================] - 47s 10ms/step - loss: 0.0528 - root_mean_squared_error: 0.2297 - val_loss: 0.3471 - val_root_mean_squared_error: 0.5892\n",
            "Epoch 9/10\n",
            "4619/4619 [==============================] - 47s 10ms/step - loss: 0.0548 - root_mean_squared_error: 0.2341 - val_loss: 0.1522 - val_root_mean_squared_error: 0.3902\n",
            "Epoch 10/10\n",
            "4619/4619 [==============================] - 47s 10ms/step - loss: 0.0481 - root_mean_squared_error: 0.2193 - val_loss: 0.1502 - val_root_mean_squared_error: 0.3876\n"
          ],
          "name": "stdout"
        },
        {
          "output_type": "execute_result",
          "data": {
            "text/plain": [
              "<tensorflow.python.keras.callbacks.History at 0x7ff46e3c57b8>"
            ]
          },
          "metadata": {
            "tags": []
          },
          "execution_count": 93
        }
      ]
    },
    {
      "cell_type": "code",
      "metadata": {
        "tags": [],
        "id": "X4PNtrv0MaVp",
        "colab_type": "code",
        "colab": {}
      },
      "source": [
        "preds = model.predict(X_holdout,batch_size = batch_size,callbacks=callbacks_list)"
      ],
      "execution_count": 94,
      "outputs": []
    },
    {
      "cell_type": "markdown",
      "metadata": {
        "id": "Y8PCgJ71cDUf",
        "colab_type": "text"
      },
      "source": [
        "Here, Predicitions and True Labels of the Holdout Set are scaled back to measure the CAPE Error, and be compared on a Chart."
      ]
    },
    {
      "cell_type": "code",
      "metadata": {
        "id": "wXT215AXZ1mm",
        "colab_type": "code",
        "colab": {}
      },
      "source": [
        "preds = scaler.inverse_transform(preds)\n",
        "y_holdout = scaler.inverse_transform(pd.DataFrame(y_holdout))"
      ],
      "execution_count": 95,
      "outputs": []
    },
    {
      "cell_type": "code",
      "metadata": {
        "id": "kCgrT7-KWetR",
        "colab_type": "code",
        "colab": {}
      },
      "source": [
        "def metric_cnr(preds,labels):\n",
        "    cape_cnr = 100*np.sum(np.abs(preds-labels))/np.sum(labels)\n",
        "    return 'CAPE', cape_cnr"
      ],
      "execution_count": 96,
      "outputs": []
    },
    {
      "cell_type": "code",
      "metadata": {
        "id": "Y2_xB0ODWiZ7",
        "colab_type": "code",
        "colab": {
          "base_uri": "https://localhost:8080/",
          "height": 34
        },
        "outputId": "2a8b1dc5-16fd-4a23-c82b-d807407c6616"
      },
      "source": [
        "metric_cnr(preds,y_holdout)"
      ],
      "execution_count": 97,
      "outputs": [
        {
          "output_type": "execute_result",
          "data": {
            "text/plain": [
              "('CAPE', 50.149859894553565)"
            ]
          },
          "metadata": {
            "tags": []
          },
          "execution_count": 97
        }
      ]
    },
    {
      "cell_type": "code",
      "metadata": {
        "id": "l_TjOBo0MaVr",
        "colab_type": "code",
        "colab": {
          "base_uri": "https://localhost:8080/",
          "height": 500
        },
        "outputId": "ef79796a-0705-48ea-9cbd-6fa2aab8e4d9"
      },
      "source": [
        "plt.figure(figsize=(15,8))\n",
        "preds_len = np.arange(len(y_holdout))\n",
        "plt.plot(preds_len,y_holdout,label='True Values')\n",
        "plt.plot(preds_len,preds,'r--',label='Predicts')\n",
        "plt.legend()"
      ],
      "execution_count": 98,
      "outputs": [
        {
          "output_type": "execute_result",
          "data": {
            "text/plain": [
              "<matplotlib.legend.Legend at 0x7ff4a6258588>"
            ]
          },
          "metadata": {
            "tags": []
          },
          "execution_count": 98
        },
        {
          "output_type": "display_data",
          "data": {
            "image/png": "[encoded data removed]",
            "text/plain": [
              "<Figure size 1080x576 with 1 Axes>"
            ]
          },
          "metadata": {
            "tags": []
          }
        }
      ]
    },
    {
      "cell_type": "markdown",
      "metadata": {
        "id": "x-CCiRv1Mias",
        "colab_type": "text"
      },
      "source": [
        "## Submission Generation"
      ]
    },
    {
      "cell_type": "markdown",
      "metadata": {
        "id": "mAz3_aaLRNcG",
        "colab_type": "text"
      },
      "source": [
        "First, a function with all the preprocessing made to prepare data for network is defined."
      ]
    },
    {
      "cell_type": "code",
      "metadata": {
        "id": "aYOXuuuiRLYI",
        "colab_type": "code",
        "colab": {}
      },
      "source": [
        "def preprocessing_X(X):\n",
        "\n",
        "  scaler = MinMaxScaler(feature_range=(-1,1))\n",
        "\n",
        "  X_saved_columns = X[['ID','WF','Set','Month_Number']]\n",
        "  X_saved_columns = X_saved_columns.reset_index().drop('Time',axis=1)\n",
        "  X = X.drop(['ID','WF','Set','Month_Number'],axis=1)\n",
        "\n",
        "  # Fill NaN's\n",
        "  X = X.fillna(method=\"ffill\", axis=1) # ZOH\n",
        "  X = X.fillna(0)\n",
        "\n",
        "  # Scaling Data\n",
        "  directions = X[['Wind Direction 100m', 'Wind Direction 10m']]\n",
        "  directions[\"Sin_Wind Direction 100m\"] = np.sin(X['Wind Direction 100m']*(np.pi/180))\n",
        "  directions[\"Cos_Wind Direction 100m\"] = np.cos(X['Wind Direction 100m']*(np.pi/180))\n",
        "  directions[\"Sin_Wind Direction 10m\"] = np.sin(X['Wind Direction 10m']*(np.pi/180))\n",
        "  directions[\"Cos_Wind Direction 10m\"] = np.cos(X['Wind Direction 10m']*(np.pi/180))\n",
        "  directions = directions.drop(['Wind Direction 100m', 'Wind Direction 10m'],axis=1)\n",
        "  directions = directions.reset_index().drop('Time',axis=1)\n",
        "\n",
        "  X = X.drop(['Wind Direction 100m', 'Wind Direction 10m'],axis=1)\n",
        "  X_columns = X.columns\n",
        "\n",
        "  X = scaler.fit_transform(X)\n",
        "  X = pd.DataFrame(X,columns=X_columns)\n",
        "  X = pd.concat([X,directions],axis=1)\n",
        "  X = pd.concat([X,X_saved_columns],axis=1)\n",
        "\n",
        "  return X"
      ],
      "execution_count": 105,
      "outputs": []
    },
    {
      "cell_type": "code",
      "metadata": {
        "id": "YIj9b5N3NKvV",
        "colab_type": "code",
        "colab": {}
      },
      "source": [
        "def preprocessing_y(y):\n",
        "\n",
        "  scaler = MinMaxScaler(feature_range=(-1,1))\n",
        "\n",
        "  y = y.fillna(method=\"ffill\", axis=1) # ZOH\n",
        "  y = y.fillna(0)\n",
        "  y = y.drop('ID',axis=1)\n",
        "  y = scaler.fit_transform(y)\n",
        "  y = pd.DataFrame(y)\n",
        "\n",
        "  return y,scaler"
      ],
      "execution_count": 100,
      "outputs": []
    },
    {
      "cell_type": "code",
      "metadata": {
        "id": "Pgk0VwBB-cVs",
        "colab_type": "code",
        "colab": {}
      },
      "source": [
        "def WF_submit_gen(full_data,full_label,WF,input_shape,batch_size):\n",
        "  # Get Data of Wind Farm\n",
        "  X_WF = full_data[full_data['WF']==WF]\n",
        "\n",
        "  # Scale X Data\n",
        "  X_WF = preprocessing_X(X_WF)\n",
        "\n",
        "  full_X_train = X_WF[X_WF['Set']=='Train']\n",
        "  full_X_test = X_WF[X_WF['Set']=='Test']\n",
        "  full_y_train = full_label[full_label['ID'].isin(full_X_train['ID'])]\n",
        "\n",
        "  # Scale y_train\n",
        "  full_y_train,scaler_y = preprocessing_y(full_y_train)\n",
        "\n",
        "  # Subsets Generation\n",
        "  full_X_train = full_X_train.drop(['ID','WF','Set'],axis=1)\n",
        "  full_X_train, full_y_train = split_sequences(full_X_train.values,full_y_train.values,n_steps)\n",
        "\n",
        "  full_X_test = full_X_test.reset_index().drop('index',axis=1)\n",
        "  full_X_test_split = full_X_test.drop(['ID','WF','Set'],axis=1)\n",
        "  full_X_test_split = shift_save(full_X_test_split,n_steps)\n",
        "  full_X_test_split, _ = split_sequences(full_X_test_split.values,None,n_steps)\n",
        "\n",
        "  # Months Loop\n",
        "  WF_preds = np.empty(0)\n",
        "  predicted_X_test = np.empty((0,60,95))\n",
        "  for month in full_X_test['Month_Number'].unique():\n",
        "\n",
        "    print(\"Farm {} - Month {}\".format(WF,month))\n",
        "\n",
        "    # Special Condition for Month 10\n",
        "    if month == 9:\n",
        "      X_test = full_X_test[full_X_test['Month_Number']==month]\n",
        "      X_test_10 = full_X_test[full_X_test['Month_Number']==10]\n",
        "      X_test = pd.concat([X_test,X_test_10])\n",
        "    else:\n",
        "      X_test = full_X_test[full_X_test['Month_Number']==month]\n",
        "\n",
        "    if month == 10:\n",
        "      continue\n",
        "    \n",
        "    # Separate Month Data on Numpy Matrix\n",
        "    ids = X_test.index\n",
        "    X_test = full_X_test_split[[ids]]\n",
        "\n",
        "    # Append Data Already Predicted\n",
        "    X_train = np.append(full_X_train,predicted_X_test,axis=0)\n",
        "    y_train = np.append(full_y_train,WF_preds,axis=0)\n",
        "\n",
        "    # Split Train Data on Train and Validation Set\n",
        "    X_train, X_val, y_train, y_val = train_test_split(X_train, y_train, test_size=0.2, shuffle=False)\n",
        "\n",
        "    # Model Creation and Training\n",
        "    model = LSTM_Model(input_shape,batch_size=batch_size)\n",
        "    callbacks_list = [tf.keras.callbacks.EarlyStopping(monitor=monitor, patience=patience, verbose=0, min_delta=1e-8)]\n",
        "    model.compile(optimizer='adam', loss='mse', metrics=[tf.keras.metrics.RootMeanSquaredError()])\n",
        "    model.fit(x = X_train, y = y_train, batch_size = batch_size, epochs = epochs, validation_data = (X_val, y_val), callbacks=callbacks_list,shuffle=False)\n",
        "\n",
        "    # Prediction Generation\n",
        "    pred = model.predict(X_test,batch_size = batch_size,callbacks=callbacks_list)\n",
        "    pred = pred.reshape(pred.shape[0])\n",
        "\n",
        "    # Save Predictions on Final Array\n",
        "    predicted_X_test = np.append(predicted_X_test,X_test,axis=0)\n",
        "    WF_preds = np.append(WF_preds,pred)\n",
        "\n",
        "  WF_preds = scaler_y.inverse_transform(pd.DataFrame(WF_preds))\n",
        "  WF_preds = pd.DataFrame(WF_preds,columns=['Production'])\n",
        "\n",
        "  return WF_preds"
      ],
      "execution_count": 114,
      "outputs": []
    },
    {
      "cell_type": "code",
      "metadata": {
        "id": "lhdQ4elWhebU",
        "colab_type": "code",
        "colab": {
          "base_uri": "https://localhost:8080/",
          "height": 1000
        },
        "outputId": "dd9745a2-c2cc-4c0c-a7cc-8d19e379db43"
      },
      "source": [
        "final_preds = pd.DataFrame()\n",
        "for WF in full_data['WF'].unique():\n",
        "  WF_preds = WF_submit_gen(full_data,full_label,WF,input_shape,batch_size)\n",
        "  final_preds = final_preds.append(WF_preds)"
      ],
      "execution_count": 115,
      "outputs": [
        {
          "output_type": "stream",
          "text": [
            "/usr/local/lib/python3.6/dist-packages/ipykernel_launcher.py:15: SettingWithCopyWarning: \n",
            "A value is trying to be set on a copy of a slice from a DataFrame.\n",
            "Try using .loc[row_indexer,col_indexer] = value instead\n",
            "\n",
            "See the caveats in the documentation: https://pandas.pydata.org/pandas-docs/stable/user_guide/indexing.html#returning-a-view-versus-a-copy\n",
            "  from ipykernel import kernelapp as app\n",
            "/usr/local/lib/python3.6/dist-packages/ipykernel_launcher.py:16: SettingWithCopyWarning: \n",
            "A value is trying to be set on a copy of a slice from a DataFrame.\n",
            "Try using .loc[row_indexer,col_indexer] = value instead\n",
            "\n",
            "See the caveats in the documentation: https://pandas.pydata.org/pandas-docs/stable/user_guide/indexing.html#returning-a-view-versus-a-copy\n",
            "  app.launch_new_instance()\n",
            "/usr/local/lib/python3.6/dist-packages/ipykernel_launcher.py:17: SettingWithCopyWarning: \n",
            "A value is trying to be set on a copy of a slice from a DataFrame.\n",
            "Try using .loc[row_indexer,col_indexer] = value instead\n",
            "\n",
            "See the caveats in the documentation: https://pandas.pydata.org/pandas-docs/stable/user_guide/indexing.html#returning-a-view-versus-a-copy\n",
            "/usr/local/lib/python3.6/dist-packages/ipykernel_launcher.py:18: SettingWithCopyWarning: \n",
            "A value is trying to be set on a copy of a slice from a DataFrame.\n",
            "Try using .loc[row_indexer,col_indexer] = value instead\n",
            "\n",
            "See the caveats in the documentation: https://pandas.pydata.org/pandas-docs/stable/user_guide/indexing.html#returning-a-view-versus-a-copy\n",
            "/usr/local/lib/python3.6/dist-packages/ipykernel_launcher.py:44: FutureWarning: Using a non-tuple sequence for multidimensional indexing is deprecated; use `arr[tuple(seq)]` instead of `arr[seq]`. In the future this will be interpreted as an array index, `arr[np.array(seq)]`, which will result either in an error or a different result.\n"
          ],
          "name": "stderr"
        },
        {
          "output_type": "stream",
          "text": [
            "Farm WF1 - Month 1\n",
            "Epoch 1/10\n",
            "4944/4944 [==============================] - 54s 11ms/step - loss: 0.2469 - root_mean_squared_error: 0.4969 - val_loss: 0.5231 - val_root_mean_squared_error: 0.7233\n",
            "Epoch 2/10\n",
            "4944/4944 [==============================] - 53s 11ms/step - loss: 0.2648 - root_mean_squared_error: 0.5145 - val_loss: 0.5266 - val_root_mean_squared_error: 0.7257\n",
            "Epoch 3/10\n",
            "4944/4944 [==============================] - 53s 11ms/step - loss: 0.2586 - root_mean_squared_error: 0.5086 - val_loss: 0.5929 - val_root_mean_squared_error: 0.7700\n",
            "Epoch 4/10\n",
            "4944/4944 [==============================] - 53s 11ms/step - loss: 0.2655 - root_mean_squared_error: 0.5153 - val_loss: 0.5556 - val_root_mean_squared_error: 0.7454\n",
            "Farm WF1 - Month 2\n",
            "Epoch 1/10\n",
            "5250/5250 [==============================] - 57s 11ms/step - loss: 0.2577 - root_mean_squared_error: 0.5077 - val_loss: 0.4439 - val_root_mean_squared_error: 0.6663\n",
            "Epoch 2/10\n",
            "5250/5250 [==============================] - 56s 11ms/step - loss: 0.2610 - root_mean_squared_error: 0.5109 - val_loss: 0.4470 - val_root_mean_squared_error: 0.6685\n",
            "Epoch 3/10\n",
            "5250/5250 [==============================] - 56s 11ms/step - loss: 0.2605 - root_mean_squared_error: 0.5104 - val_loss: 0.4482 - val_root_mean_squared_error: 0.6695\n",
            "Epoch 4/10\n",
            "4952/5250 [===========================>..] - ETA: 2s - loss: 0.2568 - root_mean_squared_error: 0.5067"
          ],
          "name": "stdout"
        },
        {
          "output_type": "error",
          "ename": "KeyboardInterrupt",
          "evalue": "ignored",
          "traceback": [
            "\u001b[0;31m---------------------------------------------------------------------------\u001b[0m",
            "\u001b[0;31mKeyboardInterrupt\u001b[0m                         Traceback (most recent call last)",
            "\u001b[0;32m<ipython-input-115-ca75bef66bb8>\u001b[0m in \u001b[0;36m<module>\u001b[0;34m()\u001b[0m\n\u001b[1;32m      1\u001b[0m \u001b[0mfinal_preds\u001b[0m \u001b[0;34m=\u001b[0m \u001b[0mpd\u001b[0m\u001b[0;34m.\u001b[0m\u001b[0mDataFrame\u001b[0m\u001b[0;34m(\u001b[0m\u001b[0;34m)\u001b[0m\u001b[0;34m\u001b[0m\u001b[0;34m\u001b[0m\u001b[0m\n\u001b[1;32m      2\u001b[0m \u001b[0;32mfor\u001b[0m \u001b[0mWF\u001b[0m \u001b[0;32min\u001b[0m \u001b[0mfull_data\u001b[0m\u001b[0;34m[\u001b[0m\u001b[0;34m'WF'\u001b[0m\u001b[0;34m]\u001b[0m\u001b[0;34m.\u001b[0m\u001b[0munique\u001b[0m\u001b[0;34m(\u001b[0m\u001b[0;34m)\u001b[0m\u001b[0;34m:\u001b[0m\u001b[0;34m\u001b[0m\u001b[0;34m\u001b[0m\u001b[0m\n\u001b[0;32m----> 3\u001b[0;31m   \u001b[0mWF_preds\u001b[0m \u001b[0;34m=\u001b[0m \u001b[0mWF_submit_gen\u001b[0m\u001b[0;34m(\u001b[0m\u001b[0mfull_data\u001b[0m\u001b[0;34m,\u001b[0m\u001b[0mfull_label\u001b[0m\u001b[0;34m,\u001b[0m\u001b[0mWF\u001b[0m\u001b[0;34m,\u001b[0m\u001b[0minput_shape\u001b[0m\u001b[0;34m,\u001b[0m\u001b[0mbatch_size\u001b[0m\u001b[0;34m)\u001b[0m\u001b[0;34m\u001b[0m\u001b[0;34m\u001b[0m\u001b[0m\n\u001b[0m\u001b[1;32m      4\u001b[0m   \u001b[0mfinal_preds\u001b[0m \u001b[0;34m=\u001b[0m \u001b[0mfinal_preds\u001b[0m\u001b[0;34m.\u001b[0m\u001b[0mappend\u001b[0m\u001b[0;34m(\u001b[0m\u001b[0mWF_preds\u001b[0m\u001b[0;34m)\u001b[0m\u001b[0;34m\u001b[0m\u001b[0;34m\u001b[0m\u001b[0m\n",
            "\u001b[0;32m<ipython-input-114-1b4ca964e916>\u001b[0m in \u001b[0;36mWF_submit_gen\u001b[0;34m(full_data, full_label, WF, input_shape, batch_size)\u001b[0m\n\u001b[1;32m     55\u001b[0m     \u001b[0mcallbacks_list\u001b[0m \u001b[0;34m=\u001b[0m \u001b[0;34m[\u001b[0m\u001b[0mtf\u001b[0m\u001b[0;34m.\u001b[0m\u001b[0mkeras\u001b[0m\u001b[0;34m.\u001b[0m\u001b[0mcallbacks\u001b[0m\u001b[0;34m.\u001b[0m\u001b[0mEarlyStopping\u001b[0m\u001b[0;34m(\u001b[0m\u001b[0mmonitor\u001b[0m\u001b[0;34m=\u001b[0m\u001b[0mmonitor\u001b[0m\u001b[0;34m,\u001b[0m \u001b[0mpatience\u001b[0m\u001b[0;34m=\u001b[0m\u001b[0mpatience\u001b[0m\u001b[0;34m,\u001b[0m \u001b[0mverbose\u001b[0m\u001b[0;34m=\u001b[0m\u001b[0;36m0\u001b[0m\u001b[0;34m,\u001b[0m \u001b[0mmin_delta\u001b[0m\u001b[0;34m=\u001b[0m\u001b[0;36m1e-8\u001b[0m\u001b[0;34m)\u001b[0m\u001b[0;34m]\u001b[0m\u001b[0;34m\u001b[0m\u001b[0;34m\u001b[0m\u001b[0m\n\u001b[1;32m     56\u001b[0m     \u001b[0mmodel\u001b[0m\u001b[0;34m.\u001b[0m\u001b[0mcompile\u001b[0m\u001b[0;34m(\u001b[0m\u001b[0moptimizer\u001b[0m\u001b[0;34m=\u001b[0m\u001b[0;34m'adam'\u001b[0m\u001b[0;34m,\u001b[0m \u001b[0mloss\u001b[0m\u001b[0;34m=\u001b[0m\u001b[0;34m'mse'\u001b[0m\u001b[0;34m,\u001b[0m \u001b[0mmetrics\u001b[0m\u001b[0;34m=\u001b[0m\u001b[0;34m[\u001b[0m\u001b[0mtf\u001b[0m\u001b[0;34m.\u001b[0m\u001b[0mkeras\u001b[0m\u001b[0;34m.\u001b[0m\u001b[0mmetrics\u001b[0m\u001b[0;34m.\u001b[0m\u001b[0mRootMeanSquaredError\u001b[0m\u001b[0;34m(\u001b[0m\u001b[0;34m)\u001b[0m\u001b[0;34m]\u001b[0m\u001b[0;34m)\u001b[0m\u001b[0;34m\u001b[0m\u001b[0;34m\u001b[0m\u001b[0m\n\u001b[0;32m---> 57\u001b[0;31m     \u001b[0mmodel\u001b[0m\u001b[0;34m.\u001b[0m\u001b[0mfit\u001b[0m\u001b[0;34m(\u001b[0m\u001b[0mx\u001b[0m \u001b[0;34m=\u001b[0m \u001b[0mX_train\u001b[0m\u001b[0;34m,\u001b[0m \u001b[0my\u001b[0m \u001b[0;34m=\u001b[0m \u001b[0my_train\u001b[0m\u001b[0;34m,\u001b[0m \u001b[0mbatch_size\u001b[0m \u001b[0;34m=\u001b[0m \u001b[0mbatch_size\u001b[0m\u001b[0;34m,\u001b[0m \u001b[0mepochs\u001b[0m \u001b[0;34m=\u001b[0m \u001b[0mepochs\u001b[0m\u001b[0;34m,\u001b[0m \u001b[0mvalidation_data\u001b[0m \u001b[0;34m=\u001b[0m \u001b[0;34m(\u001b[0m\u001b[0mX_val\u001b[0m\u001b[0;34m,\u001b[0m \u001b[0my_val\u001b[0m\u001b[0;34m)\u001b[0m\u001b[0;34m,\u001b[0m \u001b[0mcallbacks\u001b[0m\u001b[0;34m=\u001b[0m\u001b[0mcallbacks_list\u001b[0m\u001b[0;34m,\u001b[0m\u001b[0mshuffle\u001b[0m\u001b[0;34m=\u001b[0m\u001b[0;32mFalse\u001b[0m\u001b[0;34m)\u001b[0m\u001b[0;34m\u001b[0m\u001b[0;34m\u001b[0m\u001b[0m\n\u001b[0m\u001b[1;32m     58\u001b[0m \u001b[0;34m\u001b[0m\u001b[0m\n\u001b[1;32m     59\u001b[0m     \u001b[0;31m# Prediction Generation\u001b[0m\u001b[0;34m\u001b[0m\u001b[0;34m\u001b[0m\u001b[0;34m\u001b[0m\u001b[0m\n",
            "\u001b[0;32m/usr/local/lib/python3.6/dist-packages/tensorflow/python/keras/engine/training.py\u001b[0m in \u001b[0;36m_method_wrapper\u001b[0;34m(self, *args, **kwargs)\u001b[0m\n\u001b[1;32m    106\u001b[0m   \u001b[0;32mdef\u001b[0m \u001b[0m_method_wrapper\u001b[0m\u001b[0;34m(\u001b[0m\u001b[0mself\u001b[0m\u001b[0;34m,\u001b[0m \u001b[0;34m*\u001b[0m\u001b[0margs\u001b[0m\u001b[0;34m,\u001b[0m \u001b[0;34m**\u001b[0m\u001b[0mkwargs\u001b[0m\u001b[0;34m)\u001b[0m\u001b[0;34m:\u001b[0m\u001b[0;34m\u001b[0m\u001b[0;34m\u001b[0m\u001b[0m\n\u001b[1;32m    107\u001b[0m     \u001b[0;32mif\u001b[0m \u001b[0;32mnot\u001b[0m \u001b[0mself\u001b[0m\u001b[0;34m.\u001b[0m\u001b[0m_in_multi_worker_mode\u001b[0m\u001b[0;34m(\u001b[0m\u001b[0;34m)\u001b[0m\u001b[0;34m:\u001b[0m  \u001b[0;31m# pylint: disable=protected-access\u001b[0m\u001b[0;34m\u001b[0m\u001b[0;34m\u001b[0m\u001b[0m\n\u001b[0;32m--> 108\u001b[0;31m       \u001b[0;32mreturn\u001b[0m \u001b[0mmethod\u001b[0m\u001b[0;34m(\u001b[0m\u001b[0mself\u001b[0m\u001b[0;34m,\u001b[0m \u001b[0;34m*\u001b[0m\u001b[0margs\u001b[0m\u001b[0;34m,\u001b[0m \u001b[0;34m**\u001b[0m\u001b[0mkwargs\u001b[0m\u001b[0;34m)\u001b[0m\u001b[0;34m\u001b[0m\u001b[0;34m\u001b[0m\u001b[0m\n\u001b[0m\u001b[1;32m    109\u001b[0m \u001b[0;34m\u001b[0m\u001b[0m\n\u001b[1;32m    110\u001b[0m     \u001b[0;31m# Running inside `run_distribute_coordinator` already.\u001b[0m\u001b[0;34m\u001b[0m\u001b[0;34m\u001b[0m\u001b[0;34m\u001b[0m\u001b[0m\n",
            "\u001b[0;32m/usr/local/lib/python3.6/dist-packages/tensorflow/python/keras/engine/training.py\u001b[0m in \u001b[0;36mfit\u001b[0;34m(self, x, y, batch_size, epochs, verbose, callbacks, validation_split, validation_data, shuffle, class_weight, sample_weight, initial_epoch, steps_per_epoch, validation_steps, validation_batch_size, validation_freq, max_queue_size, workers, use_multiprocessing)\u001b[0m\n\u001b[1;32m   1096\u001b[0m                 batch_size=batch_size):\n\u001b[1;32m   1097\u001b[0m               \u001b[0mcallbacks\u001b[0m\u001b[0;34m.\u001b[0m\u001b[0mon_train_batch_begin\u001b[0m\u001b[0;34m(\u001b[0m\u001b[0mstep\u001b[0m\u001b[0;34m)\u001b[0m\u001b[0;34m\u001b[0m\u001b[0;34m\u001b[0m\u001b[0m\n\u001b[0;32m-> 1098\u001b[0;31m               \u001b[0mtmp_logs\u001b[0m \u001b[0;34m=\u001b[0m \u001b[0mtrain_function\u001b[0m\u001b[0;34m(\u001b[0m\u001b[0miterator\u001b[0m\u001b[0;34m)\u001b[0m\u001b[0;34m\u001b[0m\u001b[0;34m\u001b[0m\u001b[0m\n\u001b[0m\u001b[1;32m   1099\u001b[0m               \u001b[0;32mif\u001b[0m \u001b[0mdata_handler\u001b[0m\u001b[0;34m.\u001b[0m\u001b[0mshould_sync\u001b[0m\u001b[0;34m:\u001b[0m\u001b[0;34m\u001b[0m\u001b[0;34m\u001b[0m\u001b[0m\n\u001b[1;32m   1100\u001b[0m                 \u001b[0mcontext\u001b[0m\u001b[0;34m.\u001b[0m\u001b[0masync_wait\u001b[0m\u001b[0;34m(\u001b[0m\u001b[0;34m)\u001b[0m\u001b[0;34m\u001b[0m\u001b[0;34m\u001b[0m\u001b[0m\n",
            "\u001b[0;32m/usr/local/lib/python3.6/dist-packages/tensorflow/python/eager/def_function.py\u001b[0m in \u001b[0;36m__call__\u001b[0;34m(self, *args, **kwds)\u001b[0m\n\u001b[1;32m    778\u001b[0m       \u001b[0;32melse\u001b[0m\u001b[0;34m:\u001b[0m\u001b[0;34m\u001b[0m\u001b[0;34m\u001b[0m\u001b[0m\n\u001b[1;32m    779\u001b[0m         \u001b[0mcompiler\u001b[0m \u001b[0;34m=\u001b[0m \u001b[0;34m\"nonXla\"\u001b[0m\u001b[0;34m\u001b[0m\u001b[0;34m\u001b[0m\u001b[0m\n\u001b[0;32m--> 780\u001b[0;31m         \u001b[0mresult\u001b[0m \u001b[0;34m=\u001b[0m \u001b[0mself\u001b[0m\u001b[0;34m.\u001b[0m\u001b[0m_call\u001b[0m\u001b[0;34m(\u001b[0m\u001b[0;34m*\u001b[0m\u001b[0margs\u001b[0m\u001b[0;34m,\u001b[0m \u001b[0;34m**\u001b[0m\u001b[0mkwds\u001b[0m\u001b[0;34m)\u001b[0m\u001b[0;34m\u001b[0m\u001b[0;34m\u001b[0m\u001b[0m\n\u001b[0m\u001b[1;32m    781\u001b[0m \u001b[0;34m\u001b[0m\u001b[0m\n\u001b[1;32m    782\u001b[0m       \u001b[0mnew_tracing_count\u001b[0m \u001b[0;34m=\u001b[0m \u001b[0mself\u001b[0m\u001b[0;34m.\u001b[0m\u001b[0m_get_tracing_count\u001b[0m\u001b[0;34m(\u001b[0m\u001b[0;34m)\u001b[0m\u001b[0;34m\u001b[0m\u001b[0;34m\u001b[0m\u001b[0m\n",
            "\u001b[0;32m/usr/local/lib/python3.6/dist-packages/tensorflow/python/eager/def_function.py\u001b[0m in \u001b[0;36m_call\u001b[0;34m(self, *args, **kwds)\u001b[0m\n\u001b[1;32m    805\u001b[0m       \u001b[0;31m# In this case we have created variables on the first call, so we run the\u001b[0m\u001b[0;34m\u001b[0m\u001b[0;34m\u001b[0m\u001b[0;34m\u001b[0m\u001b[0m\n\u001b[1;32m    806\u001b[0m       \u001b[0;31m# defunned version which is guaranteed to never create variables.\u001b[0m\u001b[0;34m\u001b[0m\u001b[0;34m\u001b[0m\u001b[0;34m\u001b[0m\u001b[0m\n\u001b[0;32m--> 807\u001b[0;31m       \u001b[0;32mreturn\u001b[0m \u001b[0mself\u001b[0m\u001b[0;34m.\u001b[0m\u001b[0m_stateless_fn\u001b[0m\u001b[0;34m(\u001b[0m\u001b[0;34m*\u001b[0m\u001b[0margs\u001b[0m\u001b[0;34m,\u001b[0m \u001b[0;34m**\u001b[0m\u001b[0mkwds\u001b[0m\u001b[0;34m)\u001b[0m  \u001b[0;31m# pylint: disable=not-callable\u001b[0m\u001b[0;34m\u001b[0m\u001b[0;34m\u001b[0m\u001b[0m\n\u001b[0m\u001b[1;32m    808\u001b[0m     \u001b[0;32melif\u001b[0m \u001b[0mself\u001b[0m\u001b[0;34m.\u001b[0m\u001b[0m_stateful_fn\u001b[0m \u001b[0;32mis\u001b[0m \u001b[0;32mnot\u001b[0m \u001b[0;32mNone\u001b[0m\u001b[0;34m:\u001b[0m\u001b[0;34m\u001b[0m\u001b[0;34m\u001b[0m\u001b[0m\n\u001b[1;32m    809\u001b[0m       \u001b[0;31m# Release the lock early so that multiple threads can perform the call\u001b[0m\u001b[0;34m\u001b[0m\u001b[0;34m\u001b[0m\u001b[0;34m\u001b[0m\u001b[0m\n",
            "\u001b[0;32m/usr/local/lib/python3.6/dist-packages/tensorflow/python/eager/function.py\u001b[0m in \u001b[0;36m__call__\u001b[0;34m(self, *args, **kwargs)\u001b[0m\n\u001b[1;32m   2827\u001b[0m     \u001b[0;32mwith\u001b[0m \u001b[0mself\u001b[0m\u001b[0;34m.\u001b[0m\u001b[0m_lock\u001b[0m\u001b[0;34m:\u001b[0m\u001b[0;34m\u001b[0m\u001b[0;34m\u001b[0m\u001b[0m\n\u001b[1;32m   2828\u001b[0m       \u001b[0mgraph_function\u001b[0m\u001b[0;34m,\u001b[0m \u001b[0margs\u001b[0m\u001b[0;34m,\u001b[0m \u001b[0mkwargs\u001b[0m \u001b[0;34m=\u001b[0m \u001b[0mself\u001b[0m\u001b[0;34m.\u001b[0m\u001b[0m_maybe_define_function\u001b[0m\u001b[0;34m(\u001b[0m\u001b[0margs\u001b[0m\u001b[0;34m,\u001b[0m \u001b[0mkwargs\u001b[0m\u001b[0;34m)\u001b[0m\u001b[0;34m\u001b[0m\u001b[0;34m\u001b[0m\u001b[0m\n\u001b[0;32m-> 2829\u001b[0;31m     \u001b[0;32mreturn\u001b[0m \u001b[0mgraph_function\u001b[0m\u001b[0;34m.\u001b[0m\u001b[0m_filtered_call\u001b[0m\u001b[0;34m(\u001b[0m\u001b[0margs\u001b[0m\u001b[0;34m,\u001b[0m \u001b[0mkwargs\u001b[0m\u001b[0;34m)\u001b[0m  \u001b[0;31m# pylint: disable=protected-access\u001b[0m\u001b[0;34m\u001b[0m\u001b[0;34m\u001b[0m\u001b[0m\n\u001b[0m\u001b[1;32m   2830\u001b[0m \u001b[0;34m\u001b[0m\u001b[0m\n\u001b[1;32m   2831\u001b[0m   \u001b[0;34m@\u001b[0m\u001b[0mproperty\u001b[0m\u001b[0;34m\u001b[0m\u001b[0;34m\u001b[0m\u001b[0m\n",
            "\u001b[0;32m/usr/local/lib/python3.6/dist-packages/tensorflow/python/eager/function.py\u001b[0m in \u001b[0;36m_filtered_call\u001b[0;34m(self, args, kwargs, cancellation_manager)\u001b[0m\n\u001b[1;32m   1846\u001b[0m                            resource_variable_ops.BaseResourceVariable))],\n\u001b[1;32m   1847\u001b[0m         \u001b[0mcaptured_inputs\u001b[0m\u001b[0;34m=\u001b[0m\u001b[0mself\u001b[0m\u001b[0;34m.\u001b[0m\u001b[0mcaptured_inputs\u001b[0m\u001b[0;34m,\u001b[0m\u001b[0;34m\u001b[0m\u001b[0;34m\u001b[0m\u001b[0m\n\u001b[0;32m-> 1848\u001b[0;31m         cancellation_manager=cancellation_manager)\n\u001b[0m\u001b[1;32m   1849\u001b[0m \u001b[0;34m\u001b[0m\u001b[0m\n\u001b[1;32m   1850\u001b[0m   \u001b[0;32mdef\u001b[0m \u001b[0m_call_flat\u001b[0m\u001b[0;34m(\u001b[0m\u001b[0mself\u001b[0m\u001b[0;34m,\u001b[0m \u001b[0margs\u001b[0m\u001b[0;34m,\u001b[0m \u001b[0mcaptured_inputs\u001b[0m\u001b[0;34m,\u001b[0m \u001b[0mcancellation_manager\u001b[0m\u001b[0;34m=\u001b[0m\u001b[0;32mNone\u001b[0m\u001b[0;34m)\u001b[0m\u001b[0;34m:\u001b[0m\u001b[0;34m\u001b[0m\u001b[0;34m\u001b[0m\u001b[0m\n",
            "\u001b[0;32m/usr/local/lib/python3.6/dist-packages/tensorflow/python/eager/function.py\u001b[0m in \u001b[0;36m_call_flat\u001b[0;34m(self, args, captured_inputs, cancellation_manager)\u001b[0m\n\u001b[1;32m   1922\u001b[0m       \u001b[0;31m# No tape is watching; skip to running the function.\u001b[0m\u001b[0;34m\u001b[0m\u001b[0;34m\u001b[0m\u001b[0;34m\u001b[0m\u001b[0m\n\u001b[1;32m   1923\u001b[0m       return self._build_call_outputs(self._inference_function.call(\n\u001b[0;32m-> 1924\u001b[0;31m           ctx, args, cancellation_manager=cancellation_manager))\n\u001b[0m\u001b[1;32m   1925\u001b[0m     forward_backward = self._select_forward_and_backward_functions(\n\u001b[1;32m   1926\u001b[0m         \u001b[0margs\u001b[0m\u001b[0;34m,\u001b[0m\u001b[0;34m\u001b[0m\u001b[0;34m\u001b[0m\u001b[0m\n",
            "\u001b[0;32m/usr/local/lib/python3.6/dist-packages/tensorflow/python/eager/function.py\u001b[0m in \u001b[0;36mcall\u001b[0;34m(self, ctx, args, cancellation_manager)\u001b[0m\n\u001b[1;32m    548\u001b[0m               \u001b[0minputs\u001b[0m\u001b[0;34m=\u001b[0m\u001b[0margs\u001b[0m\u001b[0;34m,\u001b[0m\u001b[0;34m\u001b[0m\u001b[0;34m\u001b[0m\u001b[0m\n\u001b[1;32m    549\u001b[0m               \u001b[0mattrs\u001b[0m\u001b[0;34m=\u001b[0m\u001b[0mattrs\u001b[0m\u001b[0;34m,\u001b[0m\u001b[0;34m\u001b[0m\u001b[0;34m\u001b[0m\u001b[0m\n\u001b[0;32m--> 550\u001b[0;31m               ctx=ctx)\n\u001b[0m\u001b[1;32m    551\u001b[0m         \u001b[0;32melse\u001b[0m\u001b[0;34m:\u001b[0m\u001b[0;34m\u001b[0m\u001b[0;34m\u001b[0m\u001b[0m\n\u001b[1;32m    552\u001b[0m           outputs = execute.execute_with_cancellation(\n",
            "\u001b[0;32m/usr/local/lib/python3.6/dist-packages/tensorflow/python/eager/execute.py\u001b[0m in \u001b[0;36mquick_execute\u001b[0;34m(op_name, num_outputs, inputs, attrs, ctx, name)\u001b[0m\n\u001b[1;32m     58\u001b[0m     \u001b[0mctx\u001b[0m\u001b[0;34m.\u001b[0m\u001b[0mensure_initialized\u001b[0m\u001b[0;34m(\u001b[0m\u001b[0;34m)\u001b[0m\u001b[0;34m\u001b[0m\u001b[0;34m\u001b[0m\u001b[0m\n\u001b[1;32m     59\u001b[0m     tensors = pywrap_tfe.TFE_Py_Execute(ctx._handle, device_name, op_name,\n\u001b[0;32m---> 60\u001b[0;31m                                         inputs, attrs, num_outputs)\n\u001b[0m\u001b[1;32m     61\u001b[0m   \u001b[0;32mexcept\u001b[0m \u001b[0mcore\u001b[0m\u001b[0;34m.\u001b[0m\u001b[0m_NotOkStatusException\u001b[0m \u001b[0;32mas\u001b[0m \u001b[0me\u001b[0m\u001b[0;34m:\u001b[0m\u001b[0;34m\u001b[0m\u001b[0;34m\u001b[0m\u001b[0m\n\u001b[1;32m     62\u001b[0m     \u001b[0;32mif\u001b[0m \u001b[0mname\u001b[0m \u001b[0;32mis\u001b[0m \u001b[0;32mnot\u001b[0m \u001b[0;32mNone\u001b[0m\u001b[0;34m:\u001b[0m\u001b[0;34m\u001b[0m\u001b[0;34m\u001b[0m\u001b[0m\n",
            "\u001b[0;31mKeyboardInterrupt\u001b[0m: "
          ]
        }
      ]
    },
    {
      "cell_type": "code",
      "metadata": {
        "id": "bu6q2KZZNR3U",
        "colab_type": "code",
        "colab": {}
      },
      "source": [
        "final_preds['ID'] = pd.read_csv(r'random_submission_example.csv')['ID']\n",
        "final_preds = final_preds.set_index('ID')"
      ],
      "execution_count": null,
      "outputs": []
    },
    {
      "cell_type": "code",
      "metadata": {
        "id": "XGnL_N8tNGlT",
        "colab_type": "code",
        "colab": {
          "base_uri": "https://localhost:8080/",
          "height": 450
        },
        "outputId": "90923707-f643-4106-a156-5789757f2bc1"
      },
      "source": [
        "final_preds"
      ],
      "execution_count": null,
      "outputs": [
        {
          "output_type": "execute_result",
          "data": {
            "text/html": [
              "<div>\n",
              "<style scoped>\n",
              "    .dataframe tbody tr th:only-of-type {\n",
              "        vertical-align: middle;\n",
              "    }\n",
              "\n",
              "    .dataframe tbody tr th {\n",
              "        vertical-align: top;\n",
              "    }\n",
              "\n",
              "    .dataframe thead th {\n",
              "        text-align: right;\n",
              "    }\n",
              "</style>\n",
              "<table border=\"1\" class=\"dataframe\">\n",
              "  <thead>\n",
              "    <tr style=\"text-align: right;\">\n",
              "      <th></th>\n",
              "      <th>Production</th>\n",
              "    </tr>\n",
              "    <tr>\n",
              "      <th>ID</th>\n",
              "      <th></th>\n",
              "    </tr>\n",
              "  </thead>\n",
              "  <tbody>\n",
              "    <tr>\n",
              "      <th>37376</th>\n",
              "      <td>2.204020</td>\n",
              "    </tr>\n",
              "    <tr>\n",
              "      <th>37377</th>\n",
              "      <td>2.211824</td>\n",
              "    </tr>\n",
              "    <tr>\n",
              "      <th>37378</th>\n",
              "      <td>2.214334</td>\n",
              "    </tr>\n",
              "    <tr>\n",
              "      <th>37379</th>\n",
              "      <td>2.217317</td>\n",
              "    </tr>\n",
              "    <tr>\n",
              "      <th>37380</th>\n",
              "      <td>2.218236</td>\n",
              "    </tr>\n",
              "    <tr>\n",
              "      <th>...</th>\n",
              "      <td>...</td>\n",
              "    </tr>\n",
              "    <tr>\n",
              "      <th>73900</th>\n",
              "      <td>1.569189</td>\n",
              "    </tr>\n",
              "    <tr>\n",
              "      <th>73901</th>\n",
              "      <td>1.569176</td>\n",
              "    </tr>\n",
              "    <tr>\n",
              "      <th>73902</th>\n",
              "      <td>1.569184</td>\n",
              "    </tr>\n",
              "    <tr>\n",
              "      <th>73903</th>\n",
              "      <td>1.569114</td>\n",
              "    </tr>\n",
              "    <tr>\n",
              "      <th>73904</th>\n",
              "      <td>1.568810</td>\n",
              "    </tr>\n",
              "  </tbody>\n",
              "</table>\n",
              "<p>36529 rows × 1 columns</p>\n",
              "</div>"
            ],
            "text/plain": [
              "       Production\n",
              "ID               \n",
              "37376    2.204020\n",
              "37377    2.211824\n",
              "37378    2.214334\n",
              "37379    2.217317\n",
              "37380    2.218236\n",
              "...           ...\n",
              "73900    1.569189\n",
              "73901    1.569176\n",
              "73902    1.569184\n",
              "73903    1.569114\n",
              "73904    1.568810\n",
              "\n",
              "[36529 rows x 1 columns]"
            ]
          },
          "metadata": {
            "tags": []
          },
          "execution_count": 49
        }
      ]
    },
    {
      "cell_type": "code",
      "metadata": {
        "id": "8XMZasjfNVhk",
        "colab_type": "code",
        "colab": {
          "base_uri": "https://localhost:8080/",
          "height": 282
        },
        "outputId": "50b90022-86a1-493e-a53e-707774696092"
      },
      "source": [
        "plt.plot(final_preds.index,final_preds['Production'])"
      ],
      "execution_count": null,
      "outputs": [
        {
          "output_type": "execute_result",
          "data": {
            "text/plain": [
              "[<matplotlib.lines.Line2D at 0x7fc8285949e8>]"
            ]
          },
          "metadata": {
            "tags": []
          },
          "execution_count": 50
        },
        {
          "output_type": "display_data",
          "data": {
            "image/png": "[encoded data removed]",
            "text/plain": [
              "<Figure size 432x288 with 1 Axes>"
            ]
          },
          "metadata": {
            "tags": []
          }
        }
      ]
    },
    {
      "cell_type": "code",
      "metadata": {
        "id": "UvmNmz_tNXPm",
        "colab_type": "code",
        "colab": {}
      },
      "source": [
        "final_preds.to_csv('Submission_LSTM.csv')"
      ],
      "execution_count": null,
      "outputs": []
    },
    {
      "cell_type": "code",
      "metadata": {
        "id": "GhoZvdSu_JL0",
        "colab_type": "code",
        "colab": {
          "base_uri": "https://localhost:8080/",
          "height": 17
        },
        "outputId": "a8ddf544-7763-466e-84e2-a041cdccf84d"
      },
      "source": [
        "from google.colab import files\n",
        "files.download('Submission_LSTM.csv')"
      ],
      "execution_count": null,
      "outputs": [
        {
          "output_type": "display_data",
          "data": {
            "application/javascript": [
              "\n",
              "    async function download(id, filename, size) {\n",
              "      if (!google.colab.kernel.accessAllowed) {\n",
              "        return;\n",
              "      }\n",
              "      const div = document.createElement('div');\n",
              "      const label = document.createElement('label');\n",
              "      label.textContent = `Downloading \"${filename}\": `;\n",
              "      div.appendChild(label);\n",
              "      const progress = document.createElement('progress');\n",
              "      progress.max = size;\n",
              "      div.appendChild(progress);\n",
              "      document.body.appendChild(div);\n",
              "\n",
              "      const buffers = [];\n",
              "      let downloaded = 0;\n",
              "\n",
              "      const channel = await google.colab.kernel.comms.open(id);\n",
              "      // Send a message to notify the kernel that we're ready.\n",
              "      channel.send({})\n",
              "\n",
              "      for await (const message of channel.messages) {\n",
              "        // Send a message to notify the kernel that we're ready.\n",
              "        channel.send({})\n",
              "        if (message.buffers) {\n",
              "          for (const buffer of message.buffers) {\n",
              "            buffers.push(buffer);\n",
              "            downloaded += buffer.byteLength;\n",
              "            progress.value = downloaded;\n",
              "          }\n",
              "        }\n",
              "      }\n",
              "      const blob = new Blob(buffers, {type: 'application/binary'});\n",
              "      const a = document.createElement('a');\n",
              "      a.href = window.URL.createObjectURL(blob);\n",
              "      a.download = filename;\n",
              "      div.appendChild(a);\n",
              "      a.click();\n",
              "      div.remove();\n",
              "    }\n",
              "  "
            ],
            "text/plain": [
              "<IPython.core.display.Javascript object>"
            ]
          },
          "metadata": {
            "tags": []
          }
        },
        {
          "output_type": "display_data",
          "data": {
            "application/javascript": [
              "download(\"download_000bcdfb-5c62-4ab9-9851-f071181c3f23\", \"Submission_LSTM.csv\", 897027)"
            ],
            "text/plain": [
              "<IPython.core.display.Javascript object>"
            ]
          },
          "metadata": {
            "tags": []
          }
        }
      ]
    }
  ]
}