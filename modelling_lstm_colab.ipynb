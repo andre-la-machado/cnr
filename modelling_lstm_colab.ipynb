{
  "nbformat": 4,
  "nbformat_minor": 0,
  "metadata": {
    "language_info": {
      "codemirror_mode": {
        "name": "ipython",
        "version": 3
      },
      "file_extension": ".py",
      "mimetype": "text/x-python",
      "name": "python",
      "nbconvert_exporter": "python",
      "pygments_lexer": "ipython3",
      "version": "3.7.6-final"
    },
    "orig_nbformat": 2,
    "kernelspec": {
      "name": "python_defaultSpec_1596670974807",
      "display_name": "Python 3.7.6 64-bit ('base': conda)"
    },
    "colab": {
      "name": "modelling_lstm_colab.ipynb",
      "provenance": [],
      "toc_visible": true,
      "include_colab_link": true
    },
    "accelerator": "GPU"
  },
  "cells": [
    {
      "cell_type": "markdown",
      "metadata": {
        "id": "view-in-github",
        "colab_type": "text"
      },
      "source": [
        "<a href=\"https://colab.research.google.com/github/andre-la-machado/cnr/blob/master/modelling_lstm_colab.ipynb\" target=\"_parent\"><img src=\"https://colab.research.google.com/assets/colab-badge.svg\" alt=\"Open In Colab\"/></a>"
      ]
    },
    {
      "cell_type": "markdown",
      "metadata": {
        "id": "WUg3rsB0MaUT",
        "colab_type": "text"
      },
      "source": [
        "# LSTM Modelling"
      ]
    },
    {
      "cell_type": "markdown",
      "metadata": {
        "id": "d2sEClXHMaUU",
        "colab_type": "text"
      },
      "source": [
        "On this Notebook, a LSTM Model will be tried for the Competitition Data."
      ]
    },
    {
      "cell_type": "markdown",
      "metadata": {
        "id": "WgcFrkVNMaUV",
        "colab_type": "text"
      },
      "source": [
        "## Libraries"
      ]
    },
    {
      "cell_type": "code",
      "metadata": {
        "id": "gRldKXObNEeh",
        "colab_type": "code",
        "colab": {
          "base_uri": "https://localhost:8080/",
          "height": 34
        },
        "outputId": "5cb970d9-f248-439c-9d4d-cd73f4fc6a9e"
      },
      "source": [
        "%pip uninstall -q -y tensorflow\n",
        "%pip install -q -U tensorflow-gpu>=2\n",
        "%reset -f"
      ],
      "execution_count": 1,
      "outputs": [
        {
          "output_type": "stream",
          "text": [
            "\u001b[33mWARNING: Skipping tensorflow as it is not installed.\u001b[0m\n"
          ],
          "name": "stdout"
        }
      ]
    },
    {
      "cell_type": "code",
      "metadata": {
        "id": "ZkGRpSoARdI6",
        "colab_type": "code",
        "colab": {
          "base_uri": "https://localhost:8080/",
          "height": 357
        },
        "outputId": "a12ff2a7-a297-4977-c479-12c9de7104e7"
      },
      "source": [
        "!nvidia-smi"
      ],
      "execution_count": 2,
      "outputs": [
        {
          "output_type": "stream",
          "text": [
            "Tue Aug 11 14:52:57 2020       \n",
            "+-----------------------------------------------------------------------------+\n",
            "| NVIDIA-SMI 450.57       Driver Version: 418.67       CUDA Version: 10.1     |\n",
            "|-------------------------------+----------------------+----------------------+\n",
            "| GPU  Name        Persistence-M| Bus-Id        Disp.A | Volatile Uncorr. ECC |\n",
            "| Fan  Temp  Perf  Pwr:Usage/Cap|         Memory-Usage | GPU-Util  Compute M. |\n",
            "|                               |                      |               MIG M. |\n",
            "|===============================+======================+======================|\n",
            "|   0  Tesla P100-PCIE...  Off  | 00000000:00:04.0 Off |                    0 |\n",
            "| N/A   29C    P0    25W / 250W |      0MiB / 16280MiB |      0%      Default |\n",
            "|                               |                      |                 ERR! |\n",
            "+-------------------------------+----------------------+----------------------+\n",
            "                                                                               \n",
            "+-----------------------------------------------------------------------------+\n",
            "| Processes:                                                                  |\n",
            "|  GPU   GI   CI        PID   Type   Process name                  GPU Memory |\n",
            "|        ID   ID                                                   Usage      |\n",
            "|=============================================================================|\n",
            "|  No running processes found                                                 |\n",
            "+-----------------------------------------------------------------------------+\n"
          ],
          "name": "stdout"
        }
      ]
    },
    {
      "cell_type": "code",
      "metadata": {
        "id": "UJQZd0mUPnVD",
        "colab_type": "code",
        "colab": {
          "base_uri": "https://localhost:8080/",
          "height": 85
        },
        "outputId": "e06df74c-05b5-4357-8d06-361fb0c00b86"
      },
      "source": [
        "%pip install cupy-cuda101"
      ],
      "execution_count": 3,
      "outputs": [
        {
          "output_type": "stream",
          "text": [
            "Requirement already satisfied: cupy-cuda101 in /usr/local/lib/python3.6/dist-packages (7.4.0)\n",
            "Requirement already satisfied: numpy>=1.9.0 in /usr/local/lib/python3.6/dist-packages (from cupy-cuda101) (1.18.5)\n",
            "Requirement already satisfied: six>=1.9.0 in /usr/local/lib/python3.6/dist-packages (from cupy-cuda101) (1.15.0)\n",
            "Requirement already satisfied: fastrlock>=0.3 in /usr/local/lib/python3.6/dist-packages (from cupy-cuda101) (0.5)\n"
          ],
          "name": "stdout"
        }
      ]
    },
    {
      "cell_type": "code",
      "metadata": {
        "id": "xPzbEtzOMaUW",
        "colab_type": "code",
        "colab": {
          "base_uri": "https://localhost:8080/",
          "height": 51
        },
        "outputId": "f8bdeccc-d30f-4424-986c-70ef1287480b"
      },
      "source": [
        "import numpy as np\n",
        "import pandas as pd \n",
        "import matplotlib.pyplot as plt \n",
        "import seaborn as sns \n",
        "sns.set_style('darkgrid')\n",
        "from cnr_methods import get_selected_features, transform_data, revert_data,metric_cnr, get_simplified_data\n",
        "import random\n",
        "\n",
        "from sklearn.model_selection import TimeSeriesSplit, train_test_split\n",
        "from sklearn.preprocessing import MinMaxScaler\n",
        "import tensorflow as tf"
      ],
      "execution_count": 4,
      "outputs": [
        {
          "output_type": "stream",
          "text": [
            "/usr/local/lib/python3.6/dist-packages/statsmodels/tools/_testing.py:19: FutureWarning: pandas.util.testing is deprecated. Use the functions in the public API at pandas.testing instead.\n",
            "  import pandas.util.testing as tm\n"
          ],
          "name": "stderr"
        }
      ]
    },
    {
      "cell_type": "code",
      "metadata": {
        "tags": [],
        "id": "EJt5BAyhMaUZ",
        "colab_type": "code",
        "colab": {
          "base_uri": "https://localhost:8080/",
          "height": 102
        },
        "outputId": "363fcdb2-bce8-48ea-f5bc-70c59ab6de3a"
      },
      "source": [
        "import tensorflow as tf\n",
        "print(tf.test.is_built_with_cuda())  # Sanity check: GPU available to tf or not\n",
        "print(tf.test.is_built_with_gpu_support())\n",
        "print(tf.config.list_physical_devices('GPU'))\n",
        "print(tf.__version__)  # Check if __version__>=\"2.0.0\"\n",
        "print(tf.keras.__version__)"
      ],
      "execution_count": 5,
      "outputs": [
        {
          "output_type": "stream",
          "text": [
            "True\n",
            "True\n",
            "[PhysicalDevice(name='/physical_device:GPU:0', device_type='GPU')]\n",
            "2.3.0\n",
            "2.4.0\n"
          ],
          "name": "stdout"
        }
      ]
    },
    {
      "cell_type": "markdown",
      "metadata": {
        "id": "TfHnGOTHMaUd",
        "colab_type": "text"
      },
      "source": [
        "## Read Data"
      ]
    },
    {
      "cell_type": "markdown",
      "metadata": {
        "id": "AJx9hbTsMaUd",
        "colab_type": "text"
      },
      "source": [
        "Here, the data used correspond to the results of the Feature Engineering and Selection Step. For simplicity, during Hyperparameter Optimization, only Wind Farm 3 Training Data is used."
      ]
    },
    {
      "cell_type": "code",
      "metadata": {
        "id": "hzHSYL52MaUe",
        "colab_type": "code",
        "colab": {}
      },
      "source": [
        "full_data = pd.read_csv(\"Selected_Features_Data.csv\")\n",
        "\n",
        "#full_data = full_data.rename({'Unnamed: 0' : 'Time'},axis=1)\n",
        "full_data = full_data.set_index('Time')\n",
        "\n",
        "full_label = pd.read_csv('Y_train.csv')\n",
        "X = full_data[full_data['Set']=='Train']\n",
        "\n",
        "WF = 'WF3'\n",
        "X = X[X['WF']==WF]\n",
        "y = full_label[full_label['ID'].isin(X['ID'])]"
      ],
      "execution_count": 6,
      "outputs": []
    },
    {
      "cell_type": "code",
      "metadata": {
        "id": "Wm8BYlb3MaUh",
        "colab_type": "code",
        "colab": {}
      },
      "source": [
        "X = X.drop(['ID','WF','Set'],axis=1)"
      ],
      "execution_count": 7,
      "outputs": []
    },
    {
      "cell_type": "code",
      "metadata": {
        "id": "K3dqO0HFMaUk",
        "colab_type": "code",
        "colab": {
          "base_uri": "https://localhost:8080/",
          "height": 488
        },
        "outputId": "d96a4ae3-04dc-4242-b4d6-940d3b915117"
      },
      "source": [
        "X.head()"
      ],
      "execution_count": 8,
      "outputs": [
        {
          "output_type": "execute_result",
          "data": {
            "text/html": [
              "<div>\n",
              "<style scoped>\n",
              "    .dataframe tbody tr th:only-of-type {\n",
              "        vertical-align: middle;\n",
              "    }\n",
              "\n",
              "    .dataframe tbody tr th {\n",
              "        vertical-align: top;\n",
              "    }\n",
              "\n",
              "    .dataframe thead th {\n",
              "        text-align: right;\n",
              "    }\n",
              "</style>\n",
              "<table border=\"1\" class=\"dataframe\">\n",
              "  <thead>\n",
              "    <tr style=\"text-align: right;\">\n",
              "      <th></th>\n",
              "      <th>U_100m</th>\n",
              "      <th>V_100m</th>\n",
              "      <th>U_10m</th>\n",
              "      <th>V_10m</th>\n",
              "      <th>T</th>\n",
              "      <th>CLCT</th>\n",
              "      <th>Wind Speed 100m</th>\n",
              "      <th>Wind Direction 100m</th>\n",
              "      <th>Wind Speed 10m</th>\n",
              "      <th>Wind Direction 10m</th>\n",
              "      <th>T_lag_7_days</th>\n",
              "      <th>T_lag_14_days</th>\n",
              "      <th>T_lag_21_days</th>\n",
              "      <th>CLCT_lag_7_days</th>\n",
              "      <th>CLCT_lag_14_days</th>\n",
              "      <th>CLCT_lag_21_days</th>\n",
              "      <th>U_100m_lag_7_days</th>\n",
              "      <th>U_100m_lag_14_days</th>\n",
              "      <th>U_100m_lag_21_days</th>\n",
              "      <th>V_100m_lag_7_days</th>\n",
              "      <th>V_100m_lag_14_days</th>\n",
              "      <th>V_100m_lag_21_days</th>\n",
              "      <th>U_10m_lag_7_days</th>\n",
              "      <th>U_10m_lag_14_days</th>\n",
              "      <th>U_10m_lag_21_days</th>\n",
              "      <th>V_10m_lag_7_days</th>\n",
              "      <th>V_10m_lag_14_days</th>\n",
              "      <th>V_10m_lag_21_days</th>\n",
              "      <th>Month_Number</th>\n",
              "      <th>T_Last_Month_Mean</th>\n",
              "      <th>CLCT_Last_Month_Mean</th>\n",
              "      <th>U_100m_Last_Month_Mean</th>\n",
              "      <th>V_100m_Last_Month_Mean</th>\n",
              "      <th>U_10m_Last_Month_Mean</th>\n",
              "      <th>V_10m_Last_Month_Mean</th>\n",
              "      <th>TLast_Month_Variance</th>\n",
              "      <th>CLCTLast_Month_Variance</th>\n",
              "      <th>U_100mLast_Month_Variance</th>\n",
              "      <th>V_100mLast_Month_Variance</th>\n",
              "      <th>U_10mLast_Month_Variance</th>\n",
              "      <th>...</th>\n",
              "      <th>CLCT_Distance_Max</th>\n",
              "      <th>CLCT_Distance_Min</th>\n",
              "      <th>U_100m_Distance_Max</th>\n",
              "      <th>U_100m_Distance_Min</th>\n",
              "      <th>V_100m_Distance_Max</th>\n",
              "      <th>V_100m_Distance_Min</th>\n",
              "      <th>U_10m_Distance_Max</th>\n",
              "      <th>U_10m_Distance_Min</th>\n",
              "      <th>V_10m_Distance_Max</th>\n",
              "      <th>V_10m_Distance_Min</th>\n",
              "      <th>T_Rolling_7_Window_Mean</th>\n",
              "      <th>T_Rolling_14_Window_Mean</th>\n",
              "      <th>T_Rolling_7_Window_Variance</th>\n",
              "      <th>T_Rolling_14_Window_Variance</th>\n",
              "      <th>CLCT_Rolling_7_Window_Mean</th>\n",
              "      <th>CLCT_Rolling_14_Window_Mean</th>\n",
              "      <th>CLCT_Rolling_7_Window_Variance</th>\n",
              "      <th>CLCT_Rolling_14_Window_Variance</th>\n",
              "      <th>U_100m_Rolling_7_Window_Mean</th>\n",
              "      <th>U_100m_Rolling_14_Window_Mean</th>\n",
              "      <th>U_100m_Rolling_7_Window_Variance</th>\n",
              "      <th>U_100m_Rolling_14_Window_Variance</th>\n",
              "      <th>V_100m_Rolling_7_Window_Mean</th>\n",
              "      <th>V_100m_Rolling_14_Window_Mean</th>\n",
              "      <th>V_100m_Rolling_7_Window_Variance</th>\n",
              "      <th>V_100m_Rolling_14_Window_Variance</th>\n",
              "      <th>U_10m_Rolling_7_Window_Mean</th>\n",
              "      <th>U_10m_Rolling_14_Window_Mean</th>\n",
              "      <th>U_10m_Rolling_7_Window_Variance</th>\n",
              "      <th>U_10m_Rolling_14_Window_Variance</th>\n",
              "      <th>V_10m_Rolling_7_Window_Mean</th>\n",
              "      <th>V_10m_Rolling_14_Window_Mean</th>\n",
              "      <th>V_10m_Rolling_7_Window_Variance</th>\n",
              "      <th>V_10m_Rolling_14_Window_Variance</th>\n",
              "      <th>T_Expanded_Window_Max</th>\n",
              "      <th>CLCT_Expanded_Window_Max</th>\n",
              "      <th>U_100m_Expanded_Window_Max</th>\n",
              "      <th>V_100m_Expanded_Window_Max</th>\n",
              "      <th>U_10m_Expanded_Window_Max</th>\n",
              "      <th>V_10m_Expanded_Window_Max</th>\n",
              "    </tr>\n",
              "    <tr>\n",
              "      <th>Time</th>\n",
              "      <th></th>\n",
              "      <th></th>\n",
              "      <th></th>\n",
              "      <th></th>\n",
              "      <th></th>\n",
              "      <th></th>\n",
              "      <th></th>\n",
              "      <th></th>\n",
              "      <th></th>\n",
              "      <th></th>\n",
              "      <th></th>\n",
              "      <th></th>\n",
              "      <th></th>\n",
              "      <th></th>\n",
              "      <th></th>\n",
              "      <th></th>\n",
              "      <th></th>\n",
              "      <th></th>\n",
              "      <th></th>\n",
              "      <th></th>\n",
              "      <th></th>\n",
              "      <th></th>\n",
              "      <th></th>\n",
              "      <th></th>\n",
              "      <th></th>\n",
              "      <th></th>\n",
              "      <th></th>\n",
              "      <th></th>\n",
              "      <th></th>\n",
              "      <th></th>\n",
              "      <th></th>\n",
              "      <th></th>\n",
              "      <th></th>\n",
              "      <th></th>\n",
              "      <th></th>\n",
              "      <th></th>\n",
              "      <th></th>\n",
              "      <th></th>\n",
              "      <th></th>\n",
              "      <th></th>\n",
              "      <th></th>\n",
              "      <th></th>\n",
              "      <th></th>\n",
              "      <th></th>\n",
              "      <th></th>\n",
              "      <th></th>\n",
              "      <th></th>\n",
              "      <th></th>\n",
              "      <th></th>\n",
              "      <th></th>\n",
              "      <th></th>\n",
              "      <th></th>\n",
              "      <th></th>\n",
              "      <th></th>\n",
              "      <th></th>\n",
              "      <th></th>\n",
              "      <th></th>\n",
              "      <th></th>\n",
              "      <th></th>\n",
              "      <th></th>\n",
              "      <th></th>\n",
              "      <th></th>\n",
              "      <th></th>\n",
              "      <th></th>\n",
              "      <th></th>\n",
              "      <th></th>\n",
              "      <th></th>\n",
              "      <th></th>\n",
              "      <th></th>\n",
              "      <th></th>\n",
              "      <th></th>\n",
              "      <th></th>\n",
              "      <th></th>\n",
              "      <th></th>\n",
              "      <th></th>\n",
              "      <th></th>\n",
              "      <th></th>\n",
              "      <th></th>\n",
              "      <th></th>\n",
              "      <th></th>\n",
              "      <th></th>\n",
              "    </tr>\n",
              "  </thead>\n",
              "  <tbody>\n",
              "    <tr>\n",
              "      <th>2018-05-01 01:00:00</th>\n",
              "      <td>5.789500</td>\n",
              "      <td>3.820200</td>\n",
              "      <td>1.054669</td>\n",
              "      <td>1.317597</td>\n",
              "      <td>275.690</td>\n",
              "      <td>86.504507</td>\n",
              "      <td>6.936299</td>\n",
              "      <td>0.583268</td>\n",
              "      <td>1.687717</td>\n",
              "      <td>0.895782</td>\n",
              "      <td>NaN</td>\n",
              "      <td>NaN</td>\n",
              "      <td>NaN</td>\n",
              "      <td>NaN</td>\n",
              "      <td>NaN</td>\n",
              "      <td>NaN</td>\n",
              "      <td>NaN</td>\n",
              "      <td>NaN</td>\n",
              "      <td>NaN</td>\n",
              "      <td>NaN</td>\n",
              "      <td>NaN</td>\n",
              "      <td>NaN</td>\n",
              "      <td>NaN</td>\n",
              "      <td>NaN</td>\n",
              "      <td>NaN</td>\n",
              "      <td>NaN</td>\n",
              "      <td>NaN</td>\n",
              "      <td>NaN</td>\n",
              "      <td>5</td>\n",
              "      <td>NaN</td>\n",
              "      <td>NaN</td>\n",
              "      <td>NaN</td>\n",
              "      <td>NaN</td>\n",
              "      <td>NaN</td>\n",
              "      <td>NaN</td>\n",
              "      <td>NaN</td>\n",
              "      <td>NaN</td>\n",
              "      <td>NaN</td>\n",
              "      <td>NaN</td>\n",
              "      <td>NaN</td>\n",
              "      <td>...</td>\n",
              "      <td>-1</td>\n",
              "      <td>-2</td>\n",
              "      <td>-223</td>\n",
              "      <td>-201</td>\n",
              "      <td>-193</td>\n",
              "      <td>-160</td>\n",
              "      <td>-223</td>\n",
              "      <td>-227</td>\n",
              "      <td>-193</td>\n",
              "      <td>-14</td>\n",
              "      <td>NaN</td>\n",
              "      <td>NaN</td>\n",
              "      <td>NaN</td>\n",
              "      <td>NaN</td>\n",
              "      <td>NaN</td>\n",
              "      <td>NaN</td>\n",
              "      <td>NaN</td>\n",
              "      <td>NaN</td>\n",
              "      <td>NaN</td>\n",
              "      <td>NaN</td>\n",
              "      <td>NaN</td>\n",
              "      <td>NaN</td>\n",
              "      <td>NaN</td>\n",
              "      <td>NaN</td>\n",
              "      <td>NaN</td>\n",
              "      <td>NaN</td>\n",
              "      <td>NaN</td>\n",
              "      <td>NaN</td>\n",
              "      <td>NaN</td>\n",
              "      <td>NaN</td>\n",
              "      <td>NaN</td>\n",
              "      <td>NaN</td>\n",
              "      <td>NaN</td>\n",
              "      <td>NaN</td>\n",
              "      <td>275.690</td>\n",
              "      <td>86.504507</td>\n",
              "      <td>5.7895</td>\n",
              "      <td>3.8202</td>\n",
              "      <td>1.054669</td>\n",
              "      <td>1.317597</td>\n",
              "    </tr>\n",
              "    <tr>\n",
              "      <th>2018-05-01 02:00:00</th>\n",
              "      <td>6.003300</td>\n",
              "      <td>3.920600</td>\n",
              "      <td>0.876879</td>\n",
              "      <td>1.483483</td>\n",
              "      <td>275.770</td>\n",
              "      <td>98.976088</td>\n",
              "      <td>7.170127</td>\n",
              "      <td>0.578533</td>\n",
              "      <td>1.723264</td>\n",
              "      <td>1.036951</td>\n",
              "      <td>NaN</td>\n",
              "      <td>NaN</td>\n",
              "      <td>NaN</td>\n",
              "      <td>NaN</td>\n",
              "      <td>NaN</td>\n",
              "      <td>NaN</td>\n",
              "      <td>NaN</td>\n",
              "      <td>NaN</td>\n",
              "      <td>NaN</td>\n",
              "      <td>NaN</td>\n",
              "      <td>NaN</td>\n",
              "      <td>NaN</td>\n",
              "      <td>NaN</td>\n",
              "      <td>NaN</td>\n",
              "      <td>NaN</td>\n",
              "      <td>NaN</td>\n",
              "      <td>NaN</td>\n",
              "      <td>NaN</td>\n",
              "      <td>5</td>\n",
              "      <td>NaN</td>\n",
              "      <td>NaN</td>\n",
              "      <td>NaN</td>\n",
              "      <td>NaN</td>\n",
              "      <td>NaN</td>\n",
              "      <td>NaN</td>\n",
              "      <td>NaN</td>\n",
              "      <td>NaN</td>\n",
              "      <td>NaN</td>\n",
              "      <td>NaN</td>\n",
              "      <td>NaN</td>\n",
              "      <td>...</td>\n",
              "      <td>-1</td>\n",
              "      <td>-2</td>\n",
              "      <td>-223</td>\n",
              "      <td>-201</td>\n",
              "      <td>-193</td>\n",
              "      <td>-160</td>\n",
              "      <td>-223</td>\n",
              "      <td>-227</td>\n",
              "      <td>-193</td>\n",
              "      <td>-14</td>\n",
              "      <td>NaN</td>\n",
              "      <td>NaN</td>\n",
              "      <td>NaN</td>\n",
              "      <td>NaN</td>\n",
              "      <td>NaN</td>\n",
              "      <td>NaN</td>\n",
              "      <td>NaN</td>\n",
              "      <td>NaN</td>\n",
              "      <td>NaN</td>\n",
              "      <td>NaN</td>\n",
              "      <td>NaN</td>\n",
              "      <td>NaN</td>\n",
              "      <td>NaN</td>\n",
              "      <td>NaN</td>\n",
              "      <td>NaN</td>\n",
              "      <td>NaN</td>\n",
              "      <td>NaN</td>\n",
              "      <td>NaN</td>\n",
              "      <td>NaN</td>\n",
              "      <td>NaN</td>\n",
              "      <td>NaN</td>\n",
              "      <td>NaN</td>\n",
              "      <td>NaN</td>\n",
              "      <td>NaN</td>\n",
              "      <td>275.770</td>\n",
              "      <td>98.976088</td>\n",
              "      <td>6.0033</td>\n",
              "      <td>3.9206</td>\n",
              "      <td>1.054669</td>\n",
              "      <td>1.483483</td>\n",
              "    </tr>\n",
              "    <tr>\n",
              "      <th>2018-05-01 03:00:00</th>\n",
              "      <td>5.931829</td>\n",
              "      <td>0.907656</td>\n",
              "      <td>0.949640</td>\n",
              "      <td>1.419591</td>\n",
              "      <td>276.875</td>\n",
              "      <td>64.193607</td>\n",
              "      <td>6.000870</td>\n",
              "      <td>0.151837</td>\n",
              "      <td>1.707938</td>\n",
              "      <td>0.981212</td>\n",
              "      <td>NaN</td>\n",
              "      <td>NaN</td>\n",
              "      <td>NaN</td>\n",
              "      <td>NaN</td>\n",
              "      <td>NaN</td>\n",
              "      <td>NaN</td>\n",
              "      <td>NaN</td>\n",
              "      <td>NaN</td>\n",
              "      <td>NaN</td>\n",
              "      <td>NaN</td>\n",
              "      <td>NaN</td>\n",
              "      <td>NaN</td>\n",
              "      <td>NaN</td>\n",
              "      <td>NaN</td>\n",
              "      <td>NaN</td>\n",
              "      <td>NaN</td>\n",
              "      <td>NaN</td>\n",
              "      <td>NaN</td>\n",
              "      <td>5</td>\n",
              "      <td>NaN</td>\n",
              "      <td>NaN</td>\n",
              "      <td>NaN</td>\n",
              "      <td>NaN</td>\n",
              "      <td>NaN</td>\n",
              "      <td>NaN</td>\n",
              "      <td>NaN</td>\n",
              "      <td>NaN</td>\n",
              "      <td>NaN</td>\n",
              "      <td>NaN</td>\n",
              "      <td>NaN</td>\n",
              "      <td>...</td>\n",
              "      <td>-1</td>\n",
              "      <td>-2</td>\n",
              "      <td>-223</td>\n",
              "      <td>-201</td>\n",
              "      <td>-193</td>\n",
              "      <td>-160</td>\n",
              "      <td>-223</td>\n",
              "      <td>-227</td>\n",
              "      <td>-193</td>\n",
              "      <td>-14</td>\n",
              "      <td>NaN</td>\n",
              "      <td>NaN</td>\n",
              "      <td>NaN</td>\n",
              "      <td>NaN</td>\n",
              "      <td>NaN</td>\n",
              "      <td>NaN</td>\n",
              "      <td>NaN</td>\n",
              "      <td>NaN</td>\n",
              "      <td>NaN</td>\n",
              "      <td>NaN</td>\n",
              "      <td>NaN</td>\n",
              "      <td>NaN</td>\n",
              "      <td>NaN</td>\n",
              "      <td>NaN</td>\n",
              "      <td>NaN</td>\n",
              "      <td>NaN</td>\n",
              "      <td>NaN</td>\n",
              "      <td>NaN</td>\n",
              "      <td>NaN</td>\n",
              "      <td>NaN</td>\n",
              "      <td>NaN</td>\n",
              "      <td>NaN</td>\n",
              "      <td>NaN</td>\n",
              "      <td>NaN</td>\n",
              "      <td>276.875</td>\n",
              "      <td>98.976088</td>\n",
              "      <td>6.0033</td>\n",
              "      <td>3.9206</td>\n",
              "      <td>1.054669</td>\n",
              "      <td>1.483483</td>\n",
              "    </tr>\n",
              "    <tr>\n",
              "      <th>2018-05-01 04:00:00</th>\n",
              "      <td>5.205300</td>\n",
              "      <td>1.683800</td>\n",
              "      <td>1.027462</td>\n",
              "      <td>1.029786</td>\n",
              "      <td>275.650</td>\n",
              "      <td>57.482484</td>\n",
              "      <td>5.470862</td>\n",
              "      <td>0.312855</td>\n",
              "      <td>1.454695</td>\n",
              "      <td>0.786528</td>\n",
              "      <td>NaN</td>\n",
              "      <td>NaN</td>\n",
              "      <td>NaN</td>\n",
              "      <td>NaN</td>\n",
              "      <td>NaN</td>\n",
              "      <td>NaN</td>\n",
              "      <td>NaN</td>\n",
              "      <td>NaN</td>\n",
              "      <td>NaN</td>\n",
              "      <td>NaN</td>\n",
              "      <td>NaN</td>\n",
              "      <td>NaN</td>\n",
              "      <td>NaN</td>\n",
              "      <td>NaN</td>\n",
              "      <td>NaN</td>\n",
              "      <td>NaN</td>\n",
              "      <td>NaN</td>\n",
              "      <td>NaN</td>\n",
              "      <td>5</td>\n",
              "      <td>NaN</td>\n",
              "      <td>NaN</td>\n",
              "      <td>NaN</td>\n",
              "      <td>NaN</td>\n",
              "      <td>NaN</td>\n",
              "      <td>NaN</td>\n",
              "      <td>NaN</td>\n",
              "      <td>NaN</td>\n",
              "      <td>NaN</td>\n",
              "      <td>NaN</td>\n",
              "      <td>NaN</td>\n",
              "      <td>...</td>\n",
              "      <td>-1</td>\n",
              "      <td>-2</td>\n",
              "      <td>-223</td>\n",
              "      <td>-201</td>\n",
              "      <td>-193</td>\n",
              "      <td>-160</td>\n",
              "      <td>-223</td>\n",
              "      <td>-227</td>\n",
              "      <td>-193</td>\n",
              "      <td>-14</td>\n",
              "      <td>NaN</td>\n",
              "      <td>NaN</td>\n",
              "      <td>NaN</td>\n",
              "      <td>NaN</td>\n",
              "      <td>NaN</td>\n",
              "      <td>NaN</td>\n",
              "      <td>NaN</td>\n",
              "      <td>NaN</td>\n",
              "      <td>NaN</td>\n",
              "      <td>NaN</td>\n",
              "      <td>NaN</td>\n",
              "      <td>NaN</td>\n",
              "      <td>NaN</td>\n",
              "      <td>NaN</td>\n",
              "      <td>NaN</td>\n",
              "      <td>NaN</td>\n",
              "      <td>NaN</td>\n",
              "      <td>NaN</td>\n",
              "      <td>NaN</td>\n",
              "      <td>NaN</td>\n",
              "      <td>NaN</td>\n",
              "      <td>NaN</td>\n",
              "      <td>NaN</td>\n",
              "      <td>NaN</td>\n",
              "      <td>276.875</td>\n",
              "      <td>98.976088</td>\n",
              "      <td>6.0033</td>\n",
              "      <td>3.9206</td>\n",
              "      <td>1.054669</td>\n",
              "      <td>1.483483</td>\n",
              "    </tr>\n",
              "    <tr>\n",
              "      <th>2018-05-01 05:00:00</th>\n",
              "      <td>4.845900</td>\n",
              "      <td>0.702200</td>\n",
              "      <td>1.011645</td>\n",
              "      <td>0.785352</td>\n",
              "      <td>275.530</td>\n",
              "      <td>89.971463</td>\n",
              "      <td>4.896512</td>\n",
              "      <td>0.143904</td>\n",
              "      <td>1.280704</td>\n",
              "      <td>0.660129</td>\n",
              "      <td>NaN</td>\n",
              "      <td>NaN</td>\n",
              "      <td>NaN</td>\n",
              "      <td>NaN</td>\n",
              "      <td>NaN</td>\n",
              "      <td>NaN</td>\n",
              "      <td>NaN</td>\n",
              "      <td>NaN</td>\n",
              "      <td>NaN</td>\n",
              "      <td>NaN</td>\n",
              "      <td>NaN</td>\n",
              "      <td>NaN</td>\n",
              "      <td>NaN</td>\n",
              "      <td>NaN</td>\n",
              "      <td>NaN</td>\n",
              "      <td>NaN</td>\n",
              "      <td>NaN</td>\n",
              "      <td>NaN</td>\n",
              "      <td>5</td>\n",
              "      <td>NaN</td>\n",
              "      <td>NaN</td>\n",
              "      <td>NaN</td>\n",
              "      <td>NaN</td>\n",
              "      <td>NaN</td>\n",
              "      <td>NaN</td>\n",
              "      <td>NaN</td>\n",
              "      <td>NaN</td>\n",
              "      <td>NaN</td>\n",
              "      <td>NaN</td>\n",
              "      <td>NaN</td>\n",
              "      <td>...</td>\n",
              "      <td>-1</td>\n",
              "      <td>-2</td>\n",
              "      <td>-223</td>\n",
              "      <td>-201</td>\n",
              "      <td>-193</td>\n",
              "      <td>-159</td>\n",
              "      <td>-223</td>\n",
              "      <td>-227</td>\n",
              "      <td>-193</td>\n",
              "      <td>-14</td>\n",
              "      <td>NaN</td>\n",
              "      <td>NaN</td>\n",
              "      <td>NaN</td>\n",
              "      <td>NaN</td>\n",
              "      <td>NaN</td>\n",
              "      <td>NaN</td>\n",
              "      <td>NaN</td>\n",
              "      <td>NaN</td>\n",
              "      <td>NaN</td>\n",
              "      <td>NaN</td>\n",
              "      <td>NaN</td>\n",
              "      <td>NaN</td>\n",
              "      <td>NaN</td>\n",
              "      <td>NaN</td>\n",
              "      <td>NaN</td>\n",
              "      <td>NaN</td>\n",
              "      <td>NaN</td>\n",
              "      <td>NaN</td>\n",
              "      <td>NaN</td>\n",
              "      <td>NaN</td>\n",
              "      <td>NaN</td>\n",
              "      <td>NaN</td>\n",
              "      <td>NaN</td>\n",
              "      <td>NaN</td>\n",
              "      <td>276.875</td>\n",
              "      <td>98.976088</td>\n",
              "      <td>6.0033</td>\n",
              "      <td>3.9206</td>\n",
              "      <td>1.054669</td>\n",
              "      <td>1.483483</td>\n",
              "    </tr>\n",
              "  </tbody>\n",
              "</table>\n",
              "<p>5 rows × 93 columns</p>\n",
              "</div>"
            ],
            "text/plain": [
              "                       U_100m  ...  V_10m_Expanded_Window_Max\n",
              "Time                           ...                           \n",
              "2018-05-01 01:00:00  5.789500  ...                   1.317597\n",
              "2018-05-01 02:00:00  6.003300  ...                   1.483483\n",
              "2018-05-01 03:00:00  5.931829  ...                   1.483483\n",
              "2018-05-01 04:00:00  5.205300  ...                   1.483483\n",
              "2018-05-01 05:00:00  4.845900  ...                   1.483483\n",
              "\n",
              "[5 rows x 93 columns]"
            ]
          },
          "metadata": {
            "tags": []
          },
          "execution_count": 8
        }
      ]
    },
    {
      "cell_type": "markdown",
      "metadata": {
        "id": "WJi-4o_NMaUn",
        "colab_type": "text"
      },
      "source": [
        "## Fill NaN's"
      ]
    },
    {
      "cell_type": "markdown",
      "metadata": {
        "id": "JQuVx6ggdLQs",
        "colab_type": "text"
      },
      "source": [
        "To avoid Exploding Gradients, here the NaN's are filled."
      ]
    },
    {
      "cell_type": "code",
      "metadata": {
        "id": "ooikiHfdMaUn",
        "colab_type": "code",
        "colab": {}
      },
      "source": [
        "X = X.fillna(method=\"ffill\", axis=1) # ZOH\n",
        "X = X.fillna(0)"
      ],
      "execution_count": 9,
      "outputs": []
    },
    {
      "cell_type": "code",
      "metadata": {
        "id": "qm7rGia8MaUq",
        "colab_type": "code",
        "colab": {}
      },
      "source": [
        "y = y.fillna(method=\"ffill\", axis=1) # ZOH\n",
        "y = y.fillna(0)"
      ],
      "execution_count": 10,
      "outputs": []
    },
    {
      "cell_type": "markdown",
      "metadata": {
        "id": "GDPihT4eMaUt",
        "colab_type": "text"
      },
      "source": [
        "## Scaling Data"
      ]
    },
    {
      "cell_type": "markdown",
      "metadata": {
        "id": "cK7eE4ZXdbyU",
        "colab_type": "text"
      },
      "source": [
        "For a better performance of the Network, here the data is scaled between [-1,1] using MinMaxScaler. For the Direction Data, presented in degrees, Sin and Cos are calculated, which naturally have values in this same scale."
      ]
    },
    {
      "cell_type": "code",
      "metadata": {
        "id": "FE8dIJ5vMaUu",
        "colab_type": "code",
        "colab": {
          "base_uri": "https://localhost:8080/",
          "height": 425
        },
        "outputId": "e25f0568-be70-4026-f614-659a7f0945f4"
      },
      "source": [
        "directions = X[['Wind Direction 100m', 'Wind Direction 10m']]\n",
        "directions[\"Sin_Wind Direction 100m\"] = np.sin(X['Wind Direction 100m']*(np.pi/180))\n",
        "directions[\"Cos_Wind Direction 100m\"] = np.cos(X['Wind Direction 100m']*(np.pi/180))\n",
        "directions[\"Sin_Wind Direction 10m\"] = np.sin(X['Wind Direction 10m']*(np.pi/180))\n",
        "directions[\"Cos_Wind Direction 10m\"] = np.cos(X['Wind Direction 10m']*(np.pi/180))\n",
        "\n",
        "directions = directions.drop(['Wind Direction 100m', 'Wind Direction 10m'],axis=1)\n",
        "directions = directions.reset_index().drop('Time',axis=1)"
      ],
      "execution_count": 11,
      "outputs": [
        {
          "output_type": "stream",
          "text": [
            "/usr/local/lib/python3.6/dist-packages/ipykernel_launcher.py:2: SettingWithCopyWarning: \n",
            "A value is trying to be set on a copy of a slice from a DataFrame.\n",
            "Try using .loc[row_indexer,col_indexer] = value instead\n",
            "\n",
            "See the caveats in the documentation: https://pandas.pydata.org/pandas-docs/stable/user_guide/indexing.html#returning-a-view-versus-a-copy\n",
            "  \n",
            "/usr/local/lib/python3.6/dist-packages/ipykernel_launcher.py:3: SettingWithCopyWarning: \n",
            "A value is trying to be set on a copy of a slice from a DataFrame.\n",
            "Try using .loc[row_indexer,col_indexer] = value instead\n",
            "\n",
            "See the caveats in the documentation: https://pandas.pydata.org/pandas-docs/stable/user_guide/indexing.html#returning-a-view-versus-a-copy\n",
            "  This is separate from the ipykernel package so we can avoid doing imports until\n",
            "/usr/local/lib/python3.6/dist-packages/ipykernel_launcher.py:4: SettingWithCopyWarning: \n",
            "A value is trying to be set on a copy of a slice from a DataFrame.\n",
            "Try using .loc[row_indexer,col_indexer] = value instead\n",
            "\n",
            "See the caveats in the documentation: https://pandas.pydata.org/pandas-docs/stable/user_guide/indexing.html#returning-a-view-versus-a-copy\n",
            "  after removing the cwd from sys.path.\n",
            "/usr/local/lib/python3.6/dist-packages/ipykernel_launcher.py:5: SettingWithCopyWarning: \n",
            "A value is trying to be set on a copy of a slice from a DataFrame.\n",
            "Try using .loc[row_indexer,col_indexer] = value instead\n",
            "\n",
            "See the caveats in the documentation: https://pandas.pydata.org/pandas-docs/stable/user_guide/indexing.html#returning-a-view-versus-a-copy\n",
            "  \"\"\"\n"
          ],
          "name": "stderr"
        }
      ]
    },
    {
      "cell_type": "code",
      "metadata": {
        "id": "5THmj09xMaUw",
        "colab_type": "code",
        "colab": {}
      },
      "source": [
        "X = X.drop(['Wind Direction 100m', 'Wind Direction 10m'],axis=1)\n",
        "X_columns = X.columns"
      ],
      "execution_count": 12,
      "outputs": []
    },
    {
      "cell_type": "code",
      "metadata": {
        "id": "39m7PeooMaUy",
        "colab_type": "code",
        "colab": {}
      },
      "source": [
        "scaler = MinMaxScaler(feature_range=(-1,1))\n",
        "X = scaler.fit_transform(X)\n",
        "X = pd.DataFrame(X,columns=X_columns)"
      ],
      "execution_count": 13,
      "outputs": []
    },
    {
      "cell_type": "code",
      "metadata": {
        "id": "T2n0DJcMMaU1",
        "colab_type": "code",
        "colab": {}
      },
      "source": [
        "X = pd.concat([X,directions],axis=1)"
      ],
      "execution_count": 14,
      "outputs": []
    },
    {
      "cell_type": "code",
      "metadata": {
        "id": "8HgZErb3MaU3",
        "colab_type": "code",
        "colab": {}
      },
      "source": [
        "y = y.drop('ID',axis=1)\n",
        "y = scaler.fit_transform(y)\n",
        "y = pd.DataFrame(y)"
      ],
      "execution_count": 15,
      "outputs": []
    },
    {
      "cell_type": "code",
      "metadata": {
        "id": "knBm6dIBMaU6",
        "colab_type": "code",
        "colab": {
          "base_uri": "https://localhost:8080/",
          "height": 287
        },
        "outputId": "a4b6324a-031c-4620-e037-4b984e2366e1"
      },
      "source": [
        "X.head()"
      ],
      "execution_count": 16,
      "outputs": [
        {
          "output_type": "execute_result",
          "data": {
            "text/html": [
              "<div>\n",
              "<style scoped>\n",
              "    .dataframe tbody tr th:only-of-type {\n",
              "        vertical-align: middle;\n",
              "    }\n",
              "\n",
              "    .dataframe tbody tr th {\n",
              "        vertical-align: top;\n",
              "    }\n",
              "\n",
              "    .dataframe thead th {\n",
              "        text-align: right;\n",
              "    }\n",
              "</style>\n",
              "<table border=\"1\" class=\"dataframe\">\n",
              "  <thead>\n",
              "    <tr style=\"text-align: right;\">\n",
              "      <th></th>\n",
              "      <th>U_100m</th>\n",
              "      <th>V_100m</th>\n",
              "      <th>U_10m</th>\n",
              "      <th>V_10m</th>\n",
              "      <th>T</th>\n",
              "      <th>CLCT</th>\n",
              "      <th>Wind Speed 100m</th>\n",
              "      <th>Wind Speed 10m</th>\n",
              "      <th>T_lag_7_days</th>\n",
              "      <th>T_lag_14_days</th>\n",
              "      <th>T_lag_21_days</th>\n",
              "      <th>CLCT_lag_7_days</th>\n",
              "      <th>CLCT_lag_14_days</th>\n",
              "      <th>CLCT_lag_21_days</th>\n",
              "      <th>U_100m_lag_7_days</th>\n",
              "      <th>U_100m_lag_14_days</th>\n",
              "      <th>U_100m_lag_21_days</th>\n",
              "      <th>V_100m_lag_7_days</th>\n",
              "      <th>V_100m_lag_14_days</th>\n",
              "      <th>V_100m_lag_21_days</th>\n",
              "      <th>U_10m_lag_7_days</th>\n",
              "      <th>U_10m_lag_14_days</th>\n",
              "      <th>U_10m_lag_21_days</th>\n",
              "      <th>V_10m_lag_7_days</th>\n",
              "      <th>V_10m_lag_14_days</th>\n",
              "      <th>V_10m_lag_21_days</th>\n",
              "      <th>Month_Number</th>\n",
              "      <th>T_Last_Month_Mean</th>\n",
              "      <th>CLCT_Last_Month_Mean</th>\n",
              "      <th>U_100m_Last_Month_Mean</th>\n",
              "      <th>V_100m_Last_Month_Mean</th>\n",
              "      <th>U_10m_Last_Month_Mean</th>\n",
              "      <th>V_10m_Last_Month_Mean</th>\n",
              "      <th>TLast_Month_Variance</th>\n",
              "      <th>CLCTLast_Month_Variance</th>\n",
              "      <th>U_100mLast_Month_Variance</th>\n",
              "      <th>V_100mLast_Month_Variance</th>\n",
              "      <th>U_10mLast_Month_Variance</th>\n",
              "      <th>V_10mLast_Month_Variance</th>\n",
              "      <th>cos_day</th>\n",
              "      <th>...</th>\n",
              "      <th>V_100m_Distance_Max</th>\n",
              "      <th>V_100m_Distance_Min</th>\n",
              "      <th>U_10m_Distance_Max</th>\n",
              "      <th>U_10m_Distance_Min</th>\n",
              "      <th>V_10m_Distance_Max</th>\n",
              "      <th>V_10m_Distance_Min</th>\n",
              "      <th>T_Rolling_7_Window_Mean</th>\n",
              "      <th>T_Rolling_14_Window_Mean</th>\n",
              "      <th>T_Rolling_7_Window_Variance</th>\n",
              "      <th>T_Rolling_14_Window_Variance</th>\n",
              "      <th>CLCT_Rolling_7_Window_Mean</th>\n",
              "      <th>CLCT_Rolling_14_Window_Mean</th>\n",
              "      <th>CLCT_Rolling_7_Window_Variance</th>\n",
              "      <th>CLCT_Rolling_14_Window_Variance</th>\n",
              "      <th>U_100m_Rolling_7_Window_Mean</th>\n",
              "      <th>U_100m_Rolling_14_Window_Mean</th>\n",
              "      <th>U_100m_Rolling_7_Window_Variance</th>\n",
              "      <th>U_100m_Rolling_14_Window_Variance</th>\n",
              "      <th>V_100m_Rolling_7_Window_Mean</th>\n",
              "      <th>V_100m_Rolling_14_Window_Mean</th>\n",
              "      <th>V_100m_Rolling_7_Window_Variance</th>\n",
              "      <th>V_100m_Rolling_14_Window_Variance</th>\n",
              "      <th>U_10m_Rolling_7_Window_Mean</th>\n",
              "      <th>U_10m_Rolling_14_Window_Mean</th>\n",
              "      <th>U_10m_Rolling_7_Window_Variance</th>\n",
              "      <th>U_10m_Rolling_14_Window_Variance</th>\n",
              "      <th>V_10m_Rolling_7_Window_Mean</th>\n",
              "      <th>V_10m_Rolling_14_Window_Mean</th>\n",
              "      <th>V_10m_Rolling_7_Window_Variance</th>\n",
              "      <th>V_10m_Rolling_14_Window_Variance</th>\n",
              "      <th>T_Expanded_Window_Max</th>\n",
              "      <th>CLCT_Expanded_Window_Max</th>\n",
              "      <th>U_100m_Expanded_Window_Max</th>\n",
              "      <th>V_100m_Expanded_Window_Max</th>\n",
              "      <th>U_10m_Expanded_Window_Max</th>\n",
              "      <th>V_10m_Expanded_Window_Max</th>\n",
              "      <th>Sin_Wind Direction 100m</th>\n",
              "      <th>Cos_Wind Direction 100m</th>\n",
              "      <th>Sin_Wind Direction 10m</th>\n",
              "      <th>Cos_Wind Direction 10m</th>\n",
              "    </tr>\n",
              "  </thead>\n",
              "  <tbody>\n",
              "    <tr>\n",
              "      <th>0</th>\n",
              "      <td>0.228968</td>\n",
              "      <td>0.130650</td>\n",
              "      <td>-0.080167</td>\n",
              "      <td>0.046187</td>\n",
              "      <td>-0.652228</td>\n",
              "      <td>0.730090</td>\n",
              "      <td>-0.235387</td>\n",
              "      <td>-0.710735</td>\n",
              "      <td>-0.998463</td>\n",
              "      <td>-0.998463</td>\n",
              "      <td>-0.998463</td>\n",
              "      <td>-0.982084</td>\n",
              "      <td>-0.982084</td>\n",
              "      <td>-0.982084</td>\n",
              "      <td>-0.104511</td>\n",
              "      <td>-0.104511</td>\n",
              "      <td>-0.104511</td>\n",
              "      <td>-0.051678</td>\n",
              "      <td>-0.051678</td>\n",
              "      <td>-0.051678</td>\n",
              "      <td>-0.097700</td>\n",
              "      <td>-0.097700</td>\n",
              "      <td>-0.097700</td>\n",
              "      <td>0.004222</td>\n",
              "      <td>0.004222</td>\n",
              "      <td>0.004222</td>\n",
              "      <td>-0.272727</td>\n",
              "      <td>-1.0</td>\n",
              "      <td>-1.0</td>\n",
              "      <td>1.0</td>\n",
              "      <td>1.0</td>\n",
              "      <td>1.0</td>\n",
              "      <td>1.0</td>\n",
              "      <td>-1.0</td>\n",
              "      <td>-1.0</td>\n",
              "      <td>-1.0</td>\n",
              "      <td>-1.0</td>\n",
              "      <td>-0.77755</td>\n",
              "      <td>-0.795783</td>\n",
              "      <td>1.0</td>\n",
              "      <td>...</td>\n",
              "      <td>-1.0</td>\n",
              "      <td>-1.000000</td>\n",
              "      <td>-1.0</td>\n",
              "      <td>-1.0</td>\n",
              "      <td>-1.0</td>\n",
              "      <td>-1.0</td>\n",
              "      <td>-1.0</td>\n",
              "      <td>-1.0</td>\n",
              "      <td>-1.0</td>\n",
              "      <td>-1.0</td>\n",
              "      <td>-1.0</td>\n",
              "      <td>-1.0</td>\n",
              "      <td>-1.0</td>\n",
              "      <td>-1.0</td>\n",
              "      <td>-1.0</td>\n",
              "      <td>-1.0</td>\n",
              "      <td>-1.0</td>\n",
              "      <td>-1.0</td>\n",
              "      <td>-1.0</td>\n",
              "      <td>-1.0</td>\n",
              "      <td>-1.0</td>\n",
              "      <td>-1.0</td>\n",
              "      <td>-1.0</td>\n",
              "      <td>-1.0</td>\n",
              "      <td>-1.0</td>\n",
              "      <td>-1.0</td>\n",
              "      <td>-1.0</td>\n",
              "      <td>-1.0</td>\n",
              "      <td>-1.0</td>\n",
              "      <td>-1.0</td>\n",
              "      <td>-1.000000</td>\n",
              "      <td>-1.000000</td>\n",
              "      <td>-1.000000</td>\n",
              "      <td>-1.000000</td>\n",
              "      <td>-1.0</td>\n",
              "      <td>-1.000000</td>\n",
              "      <td>0.010180</td>\n",
              "      <td>0.999948</td>\n",
              "      <td>0.015634</td>\n",
              "      <td>0.999878</td>\n",
              "    </tr>\n",
              "    <tr>\n",
              "      <th>1</th>\n",
              "      <td>0.243537</td>\n",
              "      <td>0.136909</td>\n",
              "      <td>-0.099786</td>\n",
              "      <td>0.062691</td>\n",
              "      <td>-0.648044</td>\n",
              "      <td>0.979522</td>\n",
              "      <td>-0.209145</td>\n",
              "      <td>-0.704468</td>\n",
              "      <td>-0.997542</td>\n",
              "      <td>-0.997542</td>\n",
              "      <td>-0.997542</td>\n",
              "      <td>-0.979261</td>\n",
              "      <td>-0.979261</td>\n",
              "      <td>-0.979261</td>\n",
              "      <td>-0.094891</td>\n",
              "      <td>-0.094891</td>\n",
              "      <td>-0.094891</td>\n",
              "      <td>-0.042877</td>\n",
              "      <td>-0.042877</td>\n",
              "      <td>-0.042877</td>\n",
              "      <td>-0.082122</td>\n",
              "      <td>-0.082122</td>\n",
              "      <td>-0.082122</td>\n",
              "      <td>0.018267</td>\n",
              "      <td>0.018267</td>\n",
              "      <td>0.018267</td>\n",
              "      <td>-0.272727</td>\n",
              "      <td>-1.0</td>\n",
              "      <td>-1.0</td>\n",
              "      <td>1.0</td>\n",
              "      <td>1.0</td>\n",
              "      <td>1.0</td>\n",
              "      <td>1.0</td>\n",
              "      <td>-1.0</td>\n",
              "      <td>-1.0</td>\n",
              "      <td>-1.0</td>\n",
              "      <td>-1.0</td>\n",
              "      <td>-0.77755</td>\n",
              "      <td>-0.795783</td>\n",
              "      <td>1.0</td>\n",
              "      <td>...</td>\n",
              "      <td>-1.0</td>\n",
              "      <td>-1.000000</td>\n",
              "      <td>-1.0</td>\n",
              "      <td>-1.0</td>\n",
              "      <td>-1.0</td>\n",
              "      <td>-1.0</td>\n",
              "      <td>-1.0</td>\n",
              "      <td>-1.0</td>\n",
              "      <td>-1.0</td>\n",
              "      <td>-1.0</td>\n",
              "      <td>-1.0</td>\n",
              "      <td>-1.0</td>\n",
              "      <td>-1.0</td>\n",
              "      <td>-1.0</td>\n",
              "      <td>-1.0</td>\n",
              "      <td>-1.0</td>\n",
              "      <td>-1.0</td>\n",
              "      <td>-1.0</td>\n",
              "      <td>-1.0</td>\n",
              "      <td>-1.0</td>\n",
              "      <td>-1.0</td>\n",
              "      <td>-1.0</td>\n",
              "      <td>-1.0</td>\n",
              "      <td>-1.0</td>\n",
              "      <td>-1.0</td>\n",
              "      <td>-1.0</td>\n",
              "      <td>-1.0</td>\n",
              "      <td>-1.0</td>\n",
              "      <td>-1.0</td>\n",
              "      <td>-1.0</td>\n",
              "      <td>-0.994934</td>\n",
              "      <td>0.848259</td>\n",
              "      <td>-0.962208</td>\n",
              "      <td>-0.985599</td>\n",
              "      <td>-1.0</td>\n",
              "      <td>-0.965395</td>\n",
              "      <td>0.010097</td>\n",
              "      <td>0.999949</td>\n",
              "      <td>0.018097</td>\n",
              "      <td>0.999836</td>\n",
              "    </tr>\n",
              "    <tr>\n",
              "      <th>2</th>\n",
              "      <td>0.238667</td>\n",
              "      <td>-0.050938</td>\n",
              "      <td>-0.091757</td>\n",
              "      <td>0.056334</td>\n",
              "      <td>-0.590239</td>\n",
              "      <td>0.283872</td>\n",
              "      <td>-0.340364</td>\n",
              "      <td>-0.707170</td>\n",
              "      <td>-0.997906</td>\n",
              "      <td>-0.997906</td>\n",
              "      <td>-0.997906</td>\n",
              "      <td>-0.980376</td>\n",
              "      <td>-0.980376</td>\n",
              "      <td>-0.980376</td>\n",
              "      <td>-0.098689</td>\n",
              "      <td>-0.098689</td>\n",
              "      <td>-0.098689</td>\n",
              "      <td>-0.046352</td>\n",
              "      <td>-0.046352</td>\n",
              "      <td>-0.046352</td>\n",
              "      <td>-0.088273</td>\n",
              "      <td>-0.088273</td>\n",
              "      <td>-0.088273</td>\n",
              "      <td>0.012721</td>\n",
              "      <td>0.012721</td>\n",
              "      <td>0.012721</td>\n",
              "      <td>-0.272727</td>\n",
              "      <td>-1.0</td>\n",
              "      <td>-1.0</td>\n",
              "      <td>1.0</td>\n",
              "      <td>1.0</td>\n",
              "      <td>1.0</td>\n",
              "      <td>1.0</td>\n",
              "      <td>-1.0</td>\n",
              "      <td>-1.0</td>\n",
              "      <td>-1.0</td>\n",
              "      <td>-1.0</td>\n",
              "      <td>-0.77755</td>\n",
              "      <td>-0.795783</td>\n",
              "      <td>1.0</td>\n",
              "      <td>...</td>\n",
              "      <td>-1.0</td>\n",
              "      <td>-1.000000</td>\n",
              "      <td>-1.0</td>\n",
              "      <td>-1.0</td>\n",
              "      <td>-1.0</td>\n",
              "      <td>-1.0</td>\n",
              "      <td>-1.0</td>\n",
              "      <td>-1.0</td>\n",
              "      <td>-1.0</td>\n",
              "      <td>-1.0</td>\n",
              "      <td>-1.0</td>\n",
              "      <td>-1.0</td>\n",
              "      <td>-1.0</td>\n",
              "      <td>-1.0</td>\n",
              "      <td>-1.0</td>\n",
              "      <td>-1.0</td>\n",
              "      <td>-1.0</td>\n",
              "      <td>-1.0</td>\n",
              "      <td>-1.0</td>\n",
              "      <td>-1.0</td>\n",
              "      <td>-1.0</td>\n",
              "      <td>-1.0</td>\n",
              "      <td>-1.0</td>\n",
              "      <td>-1.0</td>\n",
              "      <td>-1.0</td>\n",
              "      <td>-1.0</td>\n",
              "      <td>-1.0</td>\n",
              "      <td>-1.0</td>\n",
              "      <td>-1.0</td>\n",
              "      <td>-1.0</td>\n",
              "      <td>-0.924962</td>\n",
              "      <td>0.848259</td>\n",
              "      <td>-0.962208</td>\n",
              "      <td>-0.985599</td>\n",
              "      <td>-1.0</td>\n",
              "      <td>-0.965395</td>\n",
              "      <td>0.002650</td>\n",
              "      <td>0.999996</td>\n",
              "      <td>0.017125</td>\n",
              "      <td>0.999853</td>\n",
              "    </tr>\n",
              "    <tr>\n",
              "      <th>3</th>\n",
              "      <td>0.189158</td>\n",
              "      <td>-0.002548</td>\n",
              "      <td>-0.083169</td>\n",
              "      <td>0.017554</td>\n",
              "      <td>-0.654321</td>\n",
              "      <td>0.149650</td>\n",
              "      <td>-0.399844</td>\n",
              "      <td>-0.751810</td>\n",
              "      <td>-0.999176</td>\n",
              "      <td>-0.999176</td>\n",
              "      <td>-0.999176</td>\n",
              "      <td>-0.984269</td>\n",
              "      <td>-0.984269</td>\n",
              "      <td>-0.984269</td>\n",
              "      <td>-0.111956</td>\n",
              "      <td>-0.111956</td>\n",
              "      <td>-0.111956</td>\n",
              "      <td>-0.058490</td>\n",
              "      <td>-0.058490</td>\n",
              "      <td>-0.058490</td>\n",
              "      <td>-0.109757</td>\n",
              "      <td>-0.109757</td>\n",
              "      <td>-0.109757</td>\n",
              "      <td>-0.006647</td>\n",
              "      <td>-0.006647</td>\n",
              "      <td>-0.006647</td>\n",
              "      <td>-0.272727</td>\n",
              "      <td>-1.0</td>\n",
              "      <td>-1.0</td>\n",
              "      <td>1.0</td>\n",
              "      <td>1.0</td>\n",
              "      <td>1.0</td>\n",
              "      <td>1.0</td>\n",
              "      <td>-1.0</td>\n",
              "      <td>-1.0</td>\n",
              "      <td>-1.0</td>\n",
              "      <td>-1.0</td>\n",
              "      <td>-0.77755</td>\n",
              "      <td>-0.795783</td>\n",
              "      <td>1.0</td>\n",
              "      <td>...</td>\n",
              "      <td>-1.0</td>\n",
              "      <td>-1.000000</td>\n",
              "      <td>-1.0</td>\n",
              "      <td>-1.0</td>\n",
              "      <td>-1.0</td>\n",
              "      <td>-1.0</td>\n",
              "      <td>-1.0</td>\n",
              "      <td>-1.0</td>\n",
              "      <td>-1.0</td>\n",
              "      <td>-1.0</td>\n",
              "      <td>-1.0</td>\n",
              "      <td>-1.0</td>\n",
              "      <td>-1.0</td>\n",
              "      <td>-1.0</td>\n",
              "      <td>-1.0</td>\n",
              "      <td>-1.0</td>\n",
              "      <td>-1.0</td>\n",
              "      <td>-1.0</td>\n",
              "      <td>-1.0</td>\n",
              "      <td>-1.0</td>\n",
              "      <td>-1.0</td>\n",
              "      <td>-1.0</td>\n",
              "      <td>-1.0</td>\n",
              "      <td>-1.0</td>\n",
              "      <td>-1.0</td>\n",
              "      <td>-1.0</td>\n",
              "      <td>-1.0</td>\n",
              "      <td>-1.0</td>\n",
              "      <td>-1.0</td>\n",
              "      <td>-1.0</td>\n",
              "      <td>-0.924962</td>\n",
              "      <td>0.848259</td>\n",
              "      <td>-0.962208</td>\n",
              "      <td>-0.985599</td>\n",
              "      <td>-1.0</td>\n",
              "      <td>-0.965395</td>\n",
              "      <td>0.005460</td>\n",
              "      <td>0.999985</td>\n",
              "      <td>0.013727</td>\n",
              "      <td>0.999906</td>\n",
              "    </tr>\n",
              "    <tr>\n",
              "      <th>4</th>\n",
              "      <td>0.164667</td>\n",
              "      <td>-0.063747</td>\n",
              "      <td>-0.084914</td>\n",
              "      <td>-0.006764</td>\n",
              "      <td>-0.660598</td>\n",
              "      <td>0.799429</td>\n",
              "      <td>-0.464300</td>\n",
              "      <td>-0.782480</td>\n",
              "      <td>-1.000000</td>\n",
              "      <td>-1.000000</td>\n",
              "      <td>-1.000000</td>\n",
              "      <td>-0.986797</td>\n",
              "      <td>-0.986797</td>\n",
              "      <td>-0.986797</td>\n",
              "      <td>-0.120569</td>\n",
              "      <td>-0.120569</td>\n",
              "      <td>-0.120569</td>\n",
              "      <td>-0.066370</td>\n",
              "      <td>-0.066370</td>\n",
              "      <td>-0.066370</td>\n",
              "      <td>-0.123705</td>\n",
              "      <td>-0.123705</td>\n",
              "      <td>-0.123705</td>\n",
              "      <td>-0.019222</td>\n",
              "      <td>-0.019222</td>\n",
              "      <td>-0.019222</td>\n",
              "      <td>-0.272727</td>\n",
              "      <td>-1.0</td>\n",
              "      <td>-1.0</td>\n",
              "      <td>1.0</td>\n",
              "      <td>1.0</td>\n",
              "      <td>1.0</td>\n",
              "      <td>1.0</td>\n",
              "      <td>-1.0</td>\n",
              "      <td>-1.0</td>\n",
              "      <td>-1.0</td>\n",
              "      <td>-1.0</td>\n",
              "      <td>-0.77755</td>\n",
              "      <td>-0.795783</td>\n",
              "      <td>1.0</td>\n",
              "      <td>...</td>\n",
              "      <td>-1.0</td>\n",
              "      <td>-0.992308</td>\n",
              "      <td>-1.0</td>\n",
              "      <td>-1.0</td>\n",
              "      <td>-1.0</td>\n",
              "      <td>-1.0</td>\n",
              "      <td>-1.0</td>\n",
              "      <td>-1.0</td>\n",
              "      <td>-1.0</td>\n",
              "      <td>-1.0</td>\n",
              "      <td>-1.0</td>\n",
              "      <td>-1.0</td>\n",
              "      <td>-1.0</td>\n",
              "      <td>-1.0</td>\n",
              "      <td>-1.0</td>\n",
              "      <td>-1.0</td>\n",
              "      <td>-1.0</td>\n",
              "      <td>-1.0</td>\n",
              "      <td>-1.0</td>\n",
              "      <td>-1.0</td>\n",
              "      <td>-1.0</td>\n",
              "      <td>-1.0</td>\n",
              "      <td>-1.0</td>\n",
              "      <td>-1.0</td>\n",
              "      <td>-1.0</td>\n",
              "      <td>-1.0</td>\n",
              "      <td>-1.0</td>\n",
              "      <td>-1.0</td>\n",
              "      <td>-1.0</td>\n",
              "      <td>-1.0</td>\n",
              "      <td>-0.924962</td>\n",
              "      <td>0.848259</td>\n",
              "      <td>-0.962208</td>\n",
              "      <td>-0.985599</td>\n",
              "      <td>-1.0</td>\n",
              "      <td>-0.965395</td>\n",
              "      <td>0.002512</td>\n",
              "      <td>0.999997</td>\n",
              "      <td>0.011521</td>\n",
              "      <td>0.999934</td>\n",
              "    </tr>\n",
              "  </tbody>\n",
              "</table>\n",
              "<p>5 rows × 95 columns</p>\n",
              "</div>"
            ],
            "text/plain": [
              "     U_100m    V_100m  ...  Sin_Wind Direction 10m  Cos_Wind Direction 10m\n",
              "0  0.228968  0.130650  ...                0.015634                0.999878\n",
              "1  0.243537  0.136909  ...                0.018097                0.999836\n",
              "2  0.238667 -0.050938  ...                0.017125                0.999853\n",
              "3  0.189158 -0.002548  ...                0.013727                0.999906\n",
              "4  0.164667 -0.063747  ...                0.011521                0.999934\n",
              "\n",
              "[5 rows x 95 columns]"
            ]
          },
          "metadata": {
            "tags": []
          },
          "execution_count": 16
        }
      ]
    },
    {
      "cell_type": "code",
      "metadata": {
        "id": "yChNODtbMaU8",
        "colab_type": "code",
        "colab": {
          "base_uri": "https://localhost:8080/",
          "height": 419
        },
        "outputId": "4904f93d-ada7-4b1d-ec57-7ed11de9d957"
      },
      "source": [
        "y"
      ],
      "execution_count": 17,
      "outputs": [
        {
          "output_type": "execute_result",
          "data": {
            "text/html": [
              "<div>\n",
              "<style scoped>\n",
              "    .dataframe tbody tr th:only-of-type {\n",
              "        vertical-align: middle;\n",
              "    }\n",
              "\n",
              "    .dataframe tbody tr th {\n",
              "        vertical-align: top;\n",
              "    }\n",
              "\n",
              "    .dataframe thead th {\n",
              "        text-align: right;\n",
              "    }\n",
              "</style>\n",
              "<table border=\"1\" class=\"dataframe\">\n",
              "  <thead>\n",
              "    <tr style=\"text-align: right;\">\n",
              "      <th></th>\n",
              "      <th>0</th>\n",
              "    </tr>\n",
              "  </thead>\n",
              "  <tbody>\n",
              "    <tr>\n",
              "      <th>0</th>\n",
              "      <td>-0.778768</td>\n",
              "    </tr>\n",
              "    <tr>\n",
              "      <th>1</th>\n",
              "      <td>-0.631774</td>\n",
              "    </tr>\n",
              "    <tr>\n",
              "      <th>2</th>\n",
              "      <td>-0.671863</td>\n",
              "    </tr>\n",
              "    <tr>\n",
              "      <th>3</th>\n",
              "      <td>-0.778768</td>\n",
              "    </tr>\n",
              "    <tr>\n",
              "      <th>4</th>\n",
              "      <td>-0.814402</td>\n",
              "    </tr>\n",
              "    <tr>\n",
              "      <th>...</th>\n",
              "      <td>...</td>\n",
              "    </tr>\n",
              "    <tr>\n",
              "      <th>6234</th>\n",
              "      <td>-0.768374</td>\n",
              "    </tr>\n",
              "    <tr>\n",
              "      <th>6235</th>\n",
              "      <td>-0.808463</td>\n",
              "    </tr>\n",
              "    <tr>\n",
              "      <th>6236</th>\n",
              "      <td>-0.867854</td>\n",
              "    </tr>\n",
              "    <tr>\n",
              "      <th>6237</th>\n",
              "      <td>-0.839644</td>\n",
              "    </tr>\n",
              "    <tr>\n",
              "      <th>6238</th>\n",
              "      <td>-0.853007</td>\n",
              "    </tr>\n",
              "  </tbody>\n",
              "</table>\n",
              "<p>6239 rows × 1 columns</p>\n",
              "</div>"
            ],
            "text/plain": [
              "             0\n",
              "0    -0.778768\n",
              "1    -0.631774\n",
              "2    -0.671863\n",
              "3    -0.778768\n",
              "4    -0.814402\n",
              "...        ...\n",
              "6234 -0.768374\n",
              "6235 -0.808463\n",
              "6236 -0.867854\n",
              "6237 -0.839644\n",
              "6238 -0.853007\n",
              "\n",
              "[6239 rows x 1 columns]"
            ]
          },
          "metadata": {
            "tags": []
          },
          "execution_count": 17
        }
      ]
    },
    {
      "cell_type": "markdown",
      "metadata": {
        "id": "ZOe3UyUzMaU_",
        "colab_type": "text"
      },
      "source": [
        "## Subsets Creation"
      ]
    },
    {
      "cell_type": "markdown",
      "metadata": {
        "id": "TdZ3SWMKMaU_",
        "colab_type": "text"
      },
      "source": [
        "Here, the Data is converted to a group of subsets where each subset has n_steps of past data."
      ]
    },
    {
      "cell_type": "code",
      "metadata": {
        "id": "m5ns8yzXMaU_",
        "colab_type": "code",
        "colab": {}
      },
      "source": [
        "n_steps = 7"
      ],
      "execution_count": 18,
      "outputs": []
    },
    {
      "cell_type": "code",
      "metadata": {
        "id": "A800bL_SMaVC",
        "colab_type": "code",
        "colab": {}
      },
      "source": [
        "# split a multivariate sequence into samples\n",
        "def split_sequences(X, y, n_steps):\n",
        "\tsample_X, sample_y = list(), list()\n",
        "\tfor i in range(len(X)):\n",
        "\t\t# find the end of this pattern\n",
        "\t\tend_ix = i + n_steps\n",
        "\t\t# check if we are beyond the dataset\n",
        "\t\tif end_ix > len(X):\n",
        "\t\t\tbreak\n",
        "\t\t# gather input and output parts of the pattern\n",
        "\t\tseq_x, seq_y = X[i:end_ix, :], y[end_ix-1,-1]\n",
        "\t\tsample_X.append(seq_x)\n",
        "\t\tsample_y.append(seq_y)\n",
        "\treturn np.array(sample_X), np.array(sample_y)"
      ],
      "execution_count": 19,
      "outputs": []
    },
    {
      "cell_type": "code",
      "metadata": {
        "id": "RCgXPLQ0MaVE",
        "colab_type": "code",
        "colab": {}
      },
      "source": [
        "sample_X,sample_y = split_sequences(X.values,y.values,n_steps)"
      ],
      "execution_count": 20,
      "outputs": []
    },
    {
      "cell_type": "code",
      "metadata": {
        "id": "3qSIjG8HMaVH",
        "colab_type": "code",
        "colab": {}
      },
      "source": [
        "n_features = sample_X.shape[2]"
      ],
      "execution_count": 21,
      "outputs": []
    },
    {
      "cell_type": "markdown",
      "metadata": {
        "id": "JzkqvqX5MaVJ",
        "colab_type": "text"
      },
      "source": [
        "## Model"
      ]
    },
    {
      "cell_type": "markdown",
      "metadata": {
        "id": "USm2oSuSMaVK",
        "colab_type": "text"
      },
      "source": [
        "Here, a function to create the Model usin Keras is defined."
      ]
    },
    {
      "cell_type": "code",
      "metadata": {
        "id": "Lt8xYhd3MaVK",
        "colab_type": "code",
        "colab": {}
      },
      "source": [
        "def LSTM_Model(input_shape, batch_size=1):\n",
        "  # Numerical branch\n",
        "\n",
        "  input_layer = tf.keras.Input(shape = input_shape,batch_size = batch_size)\n",
        "\n",
        "  hidden_1 = tf.keras.layers.LSTM(units=100,return_sequences=True,stateful=True)(input_layer)\n",
        "  hidden_1 = tf.keras.layers.Dropout(0.3)(hidden_1)\n",
        "\n",
        "  hidden_2 = tf.keras.layers.LSTM(units=50, stateful=True)(hidden_1)\n",
        "  hidden_2 = tf.keras.layers.Dropout(0.3)(hidden_2)\n",
        "\n",
        "\n",
        "  # Output\n",
        "  #outputs = tf.keras.layers.PReLU()(hidden_2)\n",
        "  outputs = tf.keras.layers.Dropout(rate=0.2)(hidden_2)\n",
        "  outputs = tf.keras.layers.Dense(units=1)(outputs)\n",
        "\n",
        "  model = tf.keras.Model(inputs=input_layer, outputs=outputs)\n",
        "\n",
        "  return model"
      ],
      "execution_count": 22,
      "outputs": []
    },
    {
      "cell_type": "code",
      "metadata": {
        "id": "IrjTyZ8KMaVM",
        "colab_type": "code",
        "colab": {}
      },
      "source": [
        "input_shape = (n_steps,n_features)"
      ],
      "execution_count": 23,
      "outputs": []
    },
    {
      "cell_type": "code",
      "metadata": {
        "tags": [],
        "id": "ja7P7f1HMaVO",
        "colab_type": "code",
        "colab": {}
      },
      "source": [
        "model = LSTM_Model(input_shape)"
      ],
      "execution_count": 24,
      "outputs": []
    },
    {
      "cell_type": "code",
      "metadata": {
        "tags": [],
        "id": "__ARBNVBMaVQ",
        "colab_type": "code",
        "colab": {
          "base_uri": "https://localhost:8080/",
          "height": 391
        },
        "outputId": "8f12fcaa-47f0-46d0-9d51-93abef87b946"
      },
      "source": [
        "model.summary()"
      ],
      "execution_count": 25,
      "outputs": [
        {
          "output_type": "stream",
          "text": [
            "Model: \"functional_1\"\n",
            "_________________________________________________________________\n",
            "Layer (type)                 Output Shape              Param #   \n",
            "=================================================================\n",
            "input_1 (InputLayer)         [(1, 7, 95)]              0         \n",
            "_________________________________________________________________\n",
            "lstm (LSTM)                  (1, 7, 100)               78400     \n",
            "_________________________________________________________________\n",
            "dropout (Dropout)            (1, 7, 100)               0         \n",
            "_________________________________________________________________\n",
            "lstm_1 (LSTM)                (1, 50)                   30200     \n",
            "_________________________________________________________________\n",
            "dropout_1 (Dropout)          (1, 50)                   0         \n",
            "_________________________________________________________________\n",
            "dropout_2 (Dropout)          (1, 50)                   0         \n",
            "_________________________________________________________________\n",
            "dense (Dense)                (1, 1)                    51        \n",
            "=================================================================\n",
            "Total params: 108,651\n",
            "Trainable params: 108,651\n",
            "Non-trainable params: 0\n",
            "_________________________________________________________________\n"
          ],
          "name": "stdout"
        }
      ]
    },
    {
      "cell_type": "markdown",
      "metadata": {
        "id": "JpR1xJhqMaVT",
        "colab_type": "text"
      },
      "source": [
        "## Validation"
      ]
    },
    {
      "cell_type": "code",
      "metadata": {
        "id": "Y4K8mWyxMaVW",
        "colab_type": "code",
        "colab": {}
      },
      "source": [
        "random.seed(317)\n",
        "tf.random.set_seed(317)\n",
        "\n",
        "patience = 3\n",
        "epochs = 10\n",
        "k_fold_splits = 5\n",
        "total_it = 50\n",
        "monitor = \"root_mean_squared_error\"\n",
        "batch_size = 1"
      ],
      "execution_count": 26,
      "outputs": []
    },
    {
      "cell_type": "code",
      "metadata": {
        "tags": [],
        "id": "qgvERJ2tMaVZ",
        "colab_type": "code",
        "colab": {
          "base_uri": "https://localhost:8080/",
          "height": 1000
        },
        "outputId": "6ef5996a-ef66-4b48-e1a4-16c9b57fed3c"
      },
      "source": [
        "# Define Time Split Cross Validation\n",
        "tscv = TimeSeriesSplit(n_splits=k_fold_splits)\n",
        "\n",
        "# Separating Data from Hold Out Set\n",
        "\n",
        "X_cv, _, y_cv, _ = train_test_split(X, y, test_size=0.125, shuffle=False)\n",
        "\n",
        "train_scores = np.empty(0)\n",
        "val_scores = np.empty(0)\n",
        "test_scores = np.empty(0)\n",
        "for train_index, test_index in tscv.split(X_cv):\n",
        "\n",
        "    # Get the Data of the Split\n",
        "    X_train, X_test = X_cv.iloc[train_index], X_cv.iloc[test_index]\n",
        "    y_train, y_test = y_cv.iloc[train_index], y_cv.iloc[test_index]\n",
        "\n",
        "    # Separating Training Set of Split on Train and Validation Subsets\n",
        "    X_train, X_val, y_train, y_val = train_test_split(X_train, y_train, test_size=0.143, shuffle=False)\n",
        "\n",
        "    # Reshape Data\n",
        "    X_train, y_train = split_sequences(X_train.values,y_train.values,n_steps)\n",
        "    X_val, y_val = split_sequences(X_val.values,y_val.values,n_steps)\n",
        "    X_test, y_test = split_sequences(X_test.values,y_test.values,n_steps)\n",
        "\n",
        "    # Create Model\n",
        "    model = LSTM_Model(input_shape,batch_size=batch_size)\n",
        "\n",
        "    # Callbacks\n",
        "    callbacks_list = [tf.keras.callbacks.EarlyStopping(monitor=monitor, patience=patience, verbose=0, min_delta=1e-8)]\n",
        "\n",
        "    # Train the Model\n",
        "    model.compile(optimizer='adam', loss='mse', metrics=[tf.keras.metrics.RootMeanSquaredError()])\n",
        "    history = model.fit(x = X_train, y = y_train, batch_size = batch_size, epochs = epochs, validation_data = (X_val, y_val), callbacks=callbacks_list,shuffle=False)\n",
        "\n",
        "    # Train and Validation Score\n",
        "    train_score = np.array(history.history['root_mean_squared_error']).mean()\n",
        "    val_score = np.array(history.history['val_root_mean_squared_error']).mean()\n",
        "\n",
        "    # Test Score\n",
        "    preds = model.predict(X_test,batch_size = batch_size,callbacks=callbacks_list)\n",
        "    preds = tf.cast(preds, tf.float32)\n",
        "    y_test = tf.cast(y_test, tf.float32)\n",
        "\n",
        "    m = tf.keras.metrics.RootMeanSquaredError()\n",
        "    m.update_state(y_test,preds)\n",
        "    test_score = m.result().numpy()\n",
        "\n",
        "    train_scores = np.append(train_scores,train_score)\n",
        "    val_scores = np.append(val_scores,val_score)\n",
        "    test_scores = np.append(test_scores,test_score)"
      ],
      "execution_count": 27,
      "outputs": [
        {
          "output_type": "stream",
          "text": [
            "Epoch 1/10\n",
            "777/777 [==============================] - 4s 5ms/step - loss: 0.1059 - root_mean_squared_error: 0.3254 - val_loss: 0.0495 - val_root_mean_squared_error: 0.2224\n",
            "Epoch 2/10\n",
            "777/777 [==============================] - 3s 4ms/step - loss: 0.1008 - root_mean_squared_error: 0.3175 - val_loss: 0.0341 - val_root_mean_squared_error: 0.1846\n",
            "Epoch 3/10\n",
            "777/777 [==============================] - 3s 4ms/step - loss: 0.0954 - root_mean_squared_error: 0.3089 - val_loss: 0.0421 - val_root_mean_squared_error: 0.2051\n",
            "Epoch 4/10\n",
            "777/777 [==============================] - 3s 4ms/step - loss: 0.0866 - root_mean_squared_error: 0.2943 - val_loss: 0.0313 - val_root_mean_squared_error: 0.1770\n",
            "Epoch 5/10\n",
            "777/777 [==============================] - 3s 4ms/step - loss: 0.0802 - root_mean_squared_error: 0.2832 - val_loss: 0.0618 - val_root_mean_squared_error: 0.2486\n",
            "Epoch 6/10\n",
            "777/777 [==============================] - 3s 4ms/step - loss: 0.0733 - root_mean_squared_error: 0.2707 - val_loss: 0.0271 - val_root_mean_squared_error: 0.1647\n",
            "Epoch 7/10\n",
            "777/777 [==============================] - 3s 4ms/step - loss: 0.0594 - root_mean_squared_error: 0.2437 - val_loss: 0.0534 - val_root_mean_squared_error: 0.2311\n",
            "Epoch 8/10\n",
            "777/777 [==============================] - 3s 4ms/step - loss: 0.0556 - root_mean_squared_error: 0.2359 - val_loss: 0.0426 - val_root_mean_squared_error: 0.2064\n",
            "Epoch 9/10\n",
            "777/777 [==============================] - 3s 4ms/step - loss: 0.0498 - root_mean_squared_error: 0.2232 - val_loss: 0.0256 - val_root_mean_squared_error: 0.1601\n",
            "Epoch 10/10\n",
            "777/777 [==============================] - 3s 4ms/step - loss: 0.0460 - root_mean_squared_error: 0.2145 - val_loss: 0.0440 - val_root_mean_squared_error: 0.2098\n",
            "Epoch 1/10\n",
            "1556/1556 [==============================] - 7s 5ms/step - loss: 0.0856 - root_mean_squared_error: 0.2926 - val_loss: 0.0782 - val_root_mean_squared_error: 0.2796\n",
            "Epoch 2/10\n",
            "1556/1556 [==============================] - 7s 5ms/step - loss: 0.0715 - root_mean_squared_error: 0.2674 - val_loss: 0.0686 - val_root_mean_squared_error: 0.2619\n",
            "Epoch 3/10\n",
            "1556/1556 [==============================] - 7s 4ms/step - loss: 0.0644 - root_mean_squared_error: 0.2538 - val_loss: 0.0471 - val_root_mean_squared_error: 0.2171\n",
            "Epoch 4/10\n",
            "1556/1556 [==============================] - 7s 4ms/step - loss: 0.0566 - root_mean_squared_error: 0.2378 - val_loss: 0.0365 - val_root_mean_squared_error: 0.1910\n",
            "Epoch 5/10\n",
            "1556/1556 [==============================] - 7s 4ms/step - loss: 0.0508 - root_mean_squared_error: 0.2254 - val_loss: 0.0242 - val_root_mean_squared_error: 0.1556\n",
            "Epoch 6/10\n",
            "1556/1556 [==============================] - 7s 4ms/step - loss: 0.0466 - root_mean_squared_error: 0.2159 - val_loss: 0.0193 - val_root_mean_squared_error: 0.1389\n",
            "Epoch 7/10\n",
            "1556/1556 [==============================] - 6s 4ms/step - loss: 0.0417 - root_mean_squared_error: 0.2041 - val_loss: 0.0158 - val_root_mean_squared_error: 0.1256\n",
            "Epoch 8/10\n",
            "1556/1556 [==============================] - 7s 4ms/step - loss: 0.0375 - root_mean_squared_error: 0.1935 - val_loss: 0.0164 - val_root_mean_squared_error: 0.1280\n",
            "Epoch 9/10\n",
            "1556/1556 [==============================] - 7s 4ms/step - loss: 0.0360 - root_mean_squared_error: 0.1898 - val_loss: 0.0158 - val_root_mean_squared_error: 0.1258\n",
            "Epoch 10/10\n",
            "1556/1556 [==============================] - 7s 4ms/step - loss: 0.0340 - root_mean_squared_error: 0.1843 - val_loss: 0.0191 - val_root_mean_squared_error: 0.1381\n",
            "Epoch 1/10\n",
            "2335/2335 [==============================] - 10s 4ms/step - loss: 0.0816 - root_mean_squared_error: 0.2857 - val_loss: 0.0422 - val_root_mean_squared_error: 0.2055\n",
            "Epoch 2/10\n",
            "2335/2335 [==============================] - 10s 4ms/step - loss: 0.0614 - root_mean_squared_error: 0.2477 - val_loss: 0.0357 - val_root_mean_squared_error: 0.1890\n",
            "Epoch 3/10\n",
            "2335/2335 [==============================] - 10s 4ms/step - loss: 0.0533 - root_mean_squared_error: 0.2308 - val_loss: 0.0286 - val_root_mean_squared_error: 0.1690\n",
            "Epoch 4/10\n",
            "2335/2335 [==============================] - 10s 4ms/step - loss: 0.0467 - root_mean_squared_error: 0.2162 - val_loss: 0.0272 - val_root_mean_squared_error: 0.1650\n",
            "Epoch 5/10\n",
            "2335/2335 [==============================] - 10s 4ms/step - loss: 0.0432 - root_mean_squared_error: 0.2078 - val_loss: 0.0196 - val_root_mean_squared_error: 0.1402\n",
            "Epoch 6/10\n",
            "2335/2335 [==============================] - 10s 4ms/step - loss: 0.0381 - root_mean_squared_error: 0.1952 - val_loss: 0.0278 - val_root_mean_squared_error: 0.1666\n",
            "Epoch 7/10\n",
            "2335/2335 [==============================] - 10s 4ms/step - loss: 0.0344 - root_mean_squared_error: 0.1854 - val_loss: 0.0258 - val_root_mean_squared_error: 0.1605\n",
            "Epoch 8/10\n",
            "2335/2335 [==============================] - 10s 4ms/step - loss: 0.0308 - root_mean_squared_error: 0.1756 - val_loss: 0.0190 - val_root_mean_squared_error: 0.1380\n",
            "Epoch 9/10\n",
            "2335/2335 [==============================] - 10s 4ms/step - loss: 0.0291 - root_mean_squared_error: 0.1706 - val_loss: 0.0226 - val_root_mean_squared_error: 0.1502\n",
            "Epoch 10/10\n",
            "2335/2335 [==============================] - 10s 4ms/step - loss: 0.0292 - root_mean_squared_error: 0.1708 - val_loss: 0.0186 - val_root_mean_squared_error: 0.1365\n",
            "Epoch 1/10\n",
            "3114/3114 [==============================] - 14s 4ms/step - loss: 0.0737 - root_mean_squared_error: 0.2715 - val_loss: 0.1475 - val_root_mean_squared_error: 0.3840\n",
            "Epoch 2/10\n",
            "3114/3114 [==============================] - 13s 4ms/step - loss: 0.0567 - root_mean_squared_error: 0.2381 - val_loss: 0.1313 - val_root_mean_squared_error: 0.3624\n",
            "Epoch 3/10\n",
            "3114/3114 [==============================] - 13s 4ms/step - loss: 0.0465 - root_mean_squared_error: 0.2157 - val_loss: 0.1038 - val_root_mean_squared_error: 0.3221\n",
            "Epoch 4/10\n",
            "3114/3114 [==============================] - 13s 4ms/step - loss: 0.0406 - root_mean_squared_error: 0.2015 - val_loss: 0.0868 - val_root_mean_squared_error: 0.2946\n",
            "Epoch 5/10\n",
            "3114/3114 [==============================] - 13s 4ms/step - loss: 0.0338 - root_mean_squared_error: 0.1838 - val_loss: 0.0793 - val_root_mean_squared_error: 0.2817\n",
            "Epoch 6/10\n",
            "3114/3114 [==============================] - 13s 4ms/step - loss: 0.0312 - root_mean_squared_error: 0.1766 - val_loss: 0.0644 - val_root_mean_squared_error: 0.2538\n",
            "Epoch 7/10\n",
            "3114/3114 [==============================] - 13s 4ms/step - loss: 0.0276 - root_mean_squared_error: 0.1660 - val_loss: 0.0476 - val_root_mean_squared_error: 0.2182\n",
            "Epoch 8/10\n",
            "3114/3114 [==============================] - 13s 4ms/step - loss: 0.0273 - root_mean_squared_error: 0.1653 - val_loss: 0.0395 - val_root_mean_squared_error: 0.1988\n",
            "Epoch 9/10\n",
            "3114/3114 [==============================] - 13s 4ms/step - loss: 0.0259 - root_mean_squared_error: 0.1609 - val_loss: 0.0355 - val_root_mean_squared_error: 0.1885\n",
            "Epoch 10/10\n",
            "3114/3114 [==============================] - 13s 4ms/step - loss: 0.0236 - root_mean_squared_error: 0.1535 - val_loss: 0.0406 - val_root_mean_squared_error: 0.2014\n",
            "Epoch 1/10\n",
            "3893/3893 [==============================] - 18s 5ms/step - loss: 0.0862 - root_mean_squared_error: 0.2936 - val_loss: 0.1427 - val_root_mean_squared_error: 0.3777\n",
            "Epoch 2/10\n",
            "3893/3893 [==============================] - 16s 4ms/step - loss: 0.0608 - root_mean_squared_error: 0.2465 - val_loss: 0.1181 - val_root_mean_squared_error: 0.3437\n",
            "Epoch 3/10\n",
            "3893/3893 [==============================] - 16s 4ms/step - loss: 0.0434 - root_mean_squared_error: 0.2084 - val_loss: 0.0812 - val_root_mean_squared_error: 0.2850\n",
            "Epoch 4/10\n",
            "3893/3893 [==============================] - 16s 4ms/step - loss: 0.0367 - root_mean_squared_error: 0.1915 - val_loss: 0.0636 - val_root_mean_squared_error: 0.2523\n",
            "Epoch 5/10\n",
            "3893/3893 [==============================] - 16s 4ms/step - loss: 0.0312 - root_mean_squared_error: 0.1765 - val_loss: 0.0514 - val_root_mean_squared_error: 0.2267\n",
            "Epoch 6/10\n",
            "3893/3893 [==============================] - 16s 4ms/step - loss: 0.0292 - root_mean_squared_error: 0.1709 - val_loss: 0.0548 - val_root_mean_squared_error: 0.2342\n",
            "Epoch 7/10\n",
            "3893/3893 [==============================] - 16s 4ms/step - loss: 0.0275 - root_mean_squared_error: 0.1659 - val_loss: 0.0594 - val_root_mean_squared_error: 0.2438\n",
            "Epoch 8/10\n",
            "3893/3893 [==============================] - 16s 4ms/step - loss: 0.0254 - root_mean_squared_error: 0.1594 - val_loss: 0.0676 - val_root_mean_squared_error: 0.2600\n",
            "Epoch 9/10\n",
            "3893/3893 [==============================] - 17s 4ms/step - loss: 0.0239 - root_mean_squared_error: 0.1546 - val_loss: 0.0544 - val_root_mean_squared_error: 0.2333\n",
            "Epoch 10/10\n",
            "3893/3893 [==============================] - 16s 4ms/step - loss: 0.0245 - root_mean_squared_error: 0.1564 - val_loss: 0.0561 - val_root_mean_squared_error: 0.2369\n"
          ],
          "name": "stdout"
        }
      ]
    },
    {
      "cell_type": "code",
      "metadata": {
        "id": "T8M9VTWGyp7t",
        "colab_type": "code",
        "colab": {
          "base_uri": "https://localhost:8080/",
          "height": 34
        },
        "outputId": "1cda0353-a570-4b8d-fd83-fd3d9888ab81"
      },
      "source": [
        "test_scores"
      ],
      "execution_count": 28,
      "outputs": [
        {
          "output_type": "execute_result",
          "data": {
            "text/plain": [
              "array([0.32940865, 0.20747343, 0.25975069, 0.26635262, 0.37560874])"
            ]
          },
          "metadata": {
            "tags": []
          },
          "execution_count": 28
        }
      ]
    },
    {
      "cell_type": "markdown",
      "metadata": {
        "id": "XDJ3EJABMaVe",
        "colab_type": "text"
      },
      "source": [
        "### Hold Out Score"
      ]
    },
    {
      "cell_type": "markdown",
      "metadata": {
        "id": "UrZ9HNlNcSLE",
        "colab_type": "text"
      },
      "source": [
        "Here, the same model is trained on all the data used on the Validation and tested on a Holdout Set never seen before."
      ]
    },
    {
      "cell_type": "code",
      "metadata": {
        "id": "KMcTgPbPMaVe",
        "colab_type": "code",
        "colab": {}
      },
      "source": [
        "X_train, X_holdout, y_train, y_holdout = train_test_split(X, y, test_size=0.125, shuffle=False)"
      ],
      "execution_count": 29,
      "outputs": []
    },
    {
      "cell_type": "code",
      "metadata": {
        "id": "QzBMhFivMaVg",
        "colab_type": "code",
        "colab": {}
      },
      "source": [
        "X_train, X_val, y_train, y_val = train_test_split(X_train, y_train, test_size=0.143, shuffle=False)"
      ],
      "execution_count": 30,
      "outputs": []
    },
    {
      "cell_type": "code",
      "metadata": {
        "id": "DCt5uDOTMaVj",
        "colab_type": "code",
        "colab": {}
      },
      "source": [
        "X_train, y_train = split_sequences(X_train.values,y_train.values,n_steps)\n",
        "X_val, y_val = split_sequences(X_val.values,y_val.values,n_steps)\n",
        "X_holdout, y_holdout = split_sequences(X_holdout.values,y_holdout.values,n_steps)"
      ],
      "execution_count": 31,
      "outputs": []
    },
    {
      "cell_type": "code",
      "metadata": {
        "id": "zLZJNzIrMaVl",
        "colab_type": "code",
        "colab": {}
      },
      "source": [
        "model = LSTM_Model(input_shape)"
      ],
      "execution_count": 32,
      "outputs": []
    },
    {
      "cell_type": "code",
      "metadata": {
        "id": "tbvV8YrlAeq9",
        "colab_type": "code",
        "colab": {}
      },
      "source": [
        "patience = 5\n",
        "epochs = 30"
      ],
      "execution_count": 33,
      "outputs": []
    },
    {
      "cell_type": "code",
      "metadata": {
        "tags": [],
        "id": "XUfPcqXlMaVn",
        "colab_type": "code",
        "colab": {
          "base_uri": "https://localhost:8080/",
          "height": 1000
        },
        "outputId": "3f11af4c-a660-4b31-f84b-6f6dfd275f9f"
      },
      "source": [
        "callbacks_list = [tf.keras.callbacks.EarlyStopping(monitor=monitor, patience=patience, verbose=0, min_delta=1e-8)]\n",
        "model.compile(optimizer='adam', loss='mse', metrics=[tf.keras.metrics.RootMeanSquaredError()])\n",
        "model.fit(x = X_train, y = y_train, batch_size = batch_size, epochs = epochs, validation_data = (X_val, y_val), callbacks=callbacks_list)"
      ],
      "execution_count": 34,
      "outputs": [
        {
          "output_type": "stream",
          "text": [
            "Epoch 1/30\n",
            "4672/4672 [==============================] - 20s 4ms/step - loss: 0.0669 - root_mean_squared_error: 0.2586 - val_loss: 0.0855 - val_root_mean_squared_error: 0.2925\n",
            "Epoch 2/30\n",
            "4672/4672 [==============================] - 20s 4ms/step - loss: 0.0359 - root_mean_squared_error: 0.1895 - val_loss: 0.0627 - val_root_mean_squared_error: 0.2505\n",
            "Epoch 3/30\n",
            "4672/4672 [==============================] - 20s 4ms/step - loss: 0.0314 - root_mean_squared_error: 0.1773 - val_loss: 0.0692 - val_root_mean_squared_error: 0.2631\n",
            "Epoch 4/30\n",
            "4672/4672 [==============================] - 20s 4ms/step - loss: 0.0280 - root_mean_squared_error: 0.1674 - val_loss: 0.0922 - val_root_mean_squared_error: 0.3037\n",
            "Epoch 5/30\n",
            "4672/4672 [==============================] - 20s 4ms/step - loss: 0.0258 - root_mean_squared_error: 0.1605 - val_loss: 0.1006 - val_root_mean_squared_error: 0.3172\n",
            "Epoch 6/30\n",
            "4672/4672 [==============================] - 20s 4ms/step - loss: 0.0254 - root_mean_squared_error: 0.1592 - val_loss: 0.1019 - val_root_mean_squared_error: 0.3191\n",
            "Epoch 7/30\n",
            "4672/4672 [==============================] - 20s 4ms/step - loss: 0.0230 - root_mean_squared_error: 0.1516 - val_loss: 0.0862 - val_root_mean_squared_error: 0.2935\n",
            "Epoch 8/30\n",
            "4672/4672 [==============================] - 21s 4ms/step - loss: 0.0222 - root_mean_squared_error: 0.1491 - val_loss: 0.0795 - val_root_mean_squared_error: 0.2820\n",
            "Epoch 9/30\n",
            "4672/4672 [==============================] - 20s 4ms/step - loss: 0.0219 - root_mean_squared_error: 0.1480 - val_loss: 0.0973 - val_root_mean_squared_error: 0.3119\n",
            "Epoch 10/30\n",
            "4672/4672 [==============================] - 20s 4ms/step - loss: 0.0208 - root_mean_squared_error: 0.1442 - val_loss: 0.0819 - val_root_mean_squared_error: 0.2862\n",
            "Epoch 11/30\n",
            "4672/4672 [==============================] - 20s 4ms/step - loss: 0.0189 - root_mean_squared_error: 0.1374 - val_loss: 0.0779 - val_root_mean_squared_error: 0.2791\n",
            "Epoch 12/30\n",
            "4672/4672 [==============================] - 20s 4ms/step - loss: 0.0183 - root_mean_squared_error: 0.1355 - val_loss: 0.0779 - val_root_mean_squared_error: 0.2791\n",
            "Epoch 13/30\n",
            "4672/4672 [==============================] - 20s 4ms/step - loss: 0.0190 - root_mean_squared_error: 0.1379 - val_loss: 0.0710 - val_root_mean_squared_error: 0.2664\n",
            "Epoch 14/30\n",
            "4672/4672 [==============================] - 20s 4ms/step - loss: 0.0181 - root_mean_squared_error: 0.1347 - val_loss: 0.0746 - val_root_mean_squared_error: 0.2731\n",
            "Epoch 15/30\n",
            "4672/4672 [==============================] - 20s 4ms/step - loss: 0.0181 - root_mean_squared_error: 0.1344 - val_loss: 0.0929 - val_root_mean_squared_error: 0.3049\n",
            "Epoch 16/30\n",
            "4672/4672 [==============================] - 20s 4ms/step - loss: 0.0171 - root_mean_squared_error: 0.1308 - val_loss: 0.0773 - val_root_mean_squared_error: 0.2780\n",
            "Epoch 17/30\n",
            "4672/4672 [==============================] - 20s 4ms/step - loss: 0.0169 - root_mean_squared_error: 0.1299 - val_loss: 0.1115 - val_root_mean_squared_error: 0.3340\n",
            "Epoch 18/30\n",
            "4672/4672 [==============================] - 20s 4ms/step - loss: 0.0153 - root_mean_squared_error: 0.1237 - val_loss: 0.0895 - val_root_mean_squared_error: 0.2992\n",
            "Epoch 19/30\n",
            "4672/4672 [==============================] - 20s 4ms/step - loss: 0.0152 - root_mean_squared_error: 0.1233 - val_loss: 0.1275 - val_root_mean_squared_error: 0.3571\n",
            "Epoch 20/30\n",
            "4672/4672 [==============================] - 20s 4ms/step - loss: 0.0165 - root_mean_squared_error: 0.1283 - val_loss: 0.0743 - val_root_mean_squared_error: 0.2726\n",
            "Epoch 21/30\n",
            "4672/4672 [==============================] - 20s 4ms/step - loss: 0.0153 - root_mean_squared_error: 0.1236 - val_loss: 0.0880 - val_root_mean_squared_error: 0.2966\n",
            "Epoch 22/30\n",
            "4672/4672 [==============================] - 20s 4ms/step - loss: 0.0143 - root_mean_squared_error: 0.1196 - val_loss: 0.1005 - val_root_mean_squared_error: 0.3170\n",
            "Epoch 23/30\n",
            "4672/4672 [==============================] - 20s 4ms/step - loss: 0.0149 - root_mean_squared_error: 0.1220 - val_loss: 0.1095 - val_root_mean_squared_error: 0.3310\n",
            "Epoch 24/30\n",
            "4672/4672 [==============================] - 21s 4ms/step - loss: 0.0146 - root_mean_squared_error: 0.1208 - val_loss: 0.1384 - val_root_mean_squared_error: 0.3720\n",
            "Epoch 25/30\n",
            "4672/4672 [==============================] - 20s 4ms/step - loss: 0.0146 - root_mean_squared_error: 0.1210 - val_loss: 0.1622 - val_root_mean_squared_error: 0.4027\n",
            "Epoch 26/30\n",
            "4672/4672 [==============================] - 20s 4ms/step - loss: 0.0134 - root_mean_squared_error: 0.1159 - val_loss: 0.0990 - val_root_mean_squared_error: 0.3146\n",
            "Epoch 27/30\n",
            "4672/4672 [==============================] - 20s 4ms/step - loss: 0.0145 - root_mean_squared_error: 0.1203 - val_loss: 0.1248 - val_root_mean_squared_error: 0.3533\n",
            "Epoch 28/30\n",
            "4672/4672 [==============================] - 20s 4ms/step - loss: 0.0141 - root_mean_squared_error: 0.1187 - val_loss: 0.1173 - val_root_mean_squared_error: 0.3425\n",
            "Epoch 29/30\n",
            "4672/4672 [==============================] - 20s 4ms/step - loss: 0.0134 - root_mean_squared_error: 0.1156 - val_loss: 0.1272 - val_root_mean_squared_error: 0.3566\n",
            "Epoch 30/30\n",
            "4672/4672 [==============================] - 20s 4ms/step - loss: 0.0130 - root_mean_squared_error: 0.1139 - val_loss: 0.0878 - val_root_mean_squared_error: 0.2963\n"
          ],
          "name": "stdout"
        },
        {
          "output_type": "execute_result",
          "data": {
            "text/plain": [
              "<tensorflow.python.keras.callbacks.History at 0x7fad499bae80>"
            ]
          },
          "metadata": {
            "tags": []
          },
          "execution_count": 34
        }
      ]
    },
    {
      "cell_type": "code",
      "metadata": {
        "tags": [],
        "id": "X4PNtrv0MaVp",
        "colab_type": "code",
        "colab": {}
      },
      "source": [
        "preds = model.predict(X_holdout,batch_size = batch_size,callbacks=callbacks_list)"
      ],
      "execution_count": 35,
      "outputs": []
    },
    {
      "cell_type": "markdown",
      "metadata": {
        "id": "Y8PCgJ71cDUf",
        "colab_type": "text"
      },
      "source": [
        "Here, Predicitions and True Labels of the Holdout Set are scaled back to measure the CAPE Error, and be compared on a Chart."
      ]
    },
    {
      "cell_type": "code",
      "metadata": {
        "id": "wXT215AXZ1mm",
        "colab_type": "code",
        "colab": {}
      },
      "source": [
        "preds = scaler.inverse_transform(preds)\n",
        "y_holdout = scaler.inverse_transform(pd.DataFrame(y_holdout))"
      ],
      "execution_count": 36,
      "outputs": []
    },
    {
      "cell_type": "code",
      "metadata": {
        "id": "kCgrT7-KWetR",
        "colab_type": "code",
        "colab": {}
      },
      "source": [
        "def metric_cnr(preds,labels):\n",
        "    cape_cnr = 100*np.sum(np.abs(preds-labels))/np.sum(labels)\n",
        "    return 'CAPE', cape_cnr"
      ],
      "execution_count": 37,
      "outputs": []
    },
    {
      "cell_type": "code",
      "metadata": {
        "id": "Y2_xB0ODWiZ7",
        "colab_type": "code",
        "colab": {
          "base_uri": "https://localhost:8080/",
          "height": 34
        },
        "outputId": "af16178f-0b55-4058-f852-f2a32cc33e3b"
      },
      "source": [
        "metric_cnr(preds,y_holdout)"
      ],
      "execution_count": 38,
      "outputs": [
        {
          "output_type": "execute_result",
          "data": {
            "text/plain": [
              "('CAPE', 41.860357402996016)"
            ]
          },
          "metadata": {
            "tags": []
          },
          "execution_count": 38
        }
      ]
    },
    {
      "cell_type": "code",
      "metadata": {
        "id": "l_TjOBo0MaVr",
        "colab_type": "code",
        "colab": {
          "base_uri": "https://localhost:8080/",
          "height": 500
        },
        "outputId": "f7efbf88-937a-4bcf-8868-c53c992857ae"
      },
      "source": [
        "plt.figure(figsize=(15,8))\n",
        "preds_len = np.arange(len(y_holdout))\n",
        "plt.plot(preds_len,y_holdout,label='True Values')\n",
        "plt.plot(preds_len,preds,'r--',label='Predicts')\n",
        "plt.legend()"
      ],
      "execution_count": 39,
      "outputs": [
        {
          "output_type": "execute_result",
          "data": {
            "text/plain": [
              "<matplotlib.legend.Legend at 0x7fad6c2d5630>"
            ]
          },
          "metadata": {
            "tags": []
          },
          "execution_count": 39
        },
        {
          "output_type": "display_data",
          "data": {
            "image/png": "[encoded data removed]",
            "text/plain": [
              "<Figure size 1080x576 with 1 Axes>"
            ]
          },
          "metadata": {
            "tags": []
          }
        }
      ]
    },
    {
      "cell_type": "code",
      "metadata": {
        "id": "ncMFzJYqaF_q",
        "colab_type": "code",
        "colab": {}
      },
      "source": [
        ""
      ],
      "execution_count": 39,
      "outputs": []
    }
  ]
}