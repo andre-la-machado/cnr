{
 "cells": [
  {
   "cell_type": "markdown",
   "metadata": {},
   "source": [
    "# Feature Enginnering Part 2"
   ]
  },
  {
   "cell_type": "markdown",
   "metadata": {},
   "source": [
    "Here, the Feature Engineering process, defined on Part 1, is applied to all data."
   ]
  },
  {
   "cell_type": "markdown",
   "metadata": {},
   "source": [
    "## Libraries"
   ]
  },
  {
   "cell_type": "code",
   "execution_count": 1,
   "metadata": {},
   "outputs": [],
   "source": [
    "import numpy as np \n",
    "import pandas as pd \n",
    "import tsfresh\n",
    "from tsfresh import extract_features\n",
    "from tsfresh.utilities.dataframe_functions import make_forecasting_frame\n",
    "from tsfresh.utilities.dataframe_functions import impute\n",
    "from cnr_methods import get_simplified_data, transform_data"
   ]
  },
  {
   "cell_type": "markdown",
   "metadata": {},
   "source": [
    "## Feature Engineering Functions"
   ]
  },
  {
   "cell_type": "markdown",
   "metadata": {},
   "source": [
    "Here, all the process created on Part 1 is organized on Functions before applying to the data."
   ]
  },
  {
   "cell_type": "code",
   "execution_count": 2,
   "metadata": {},
   "outputs": [],
   "source": [
    "def get_selected_features(n_features):\n",
    "    selected_features = pd.read_csv(r'Feature Selection\\Importance_WF1.csv')\n",
    "    selected_features = selected_features[:n_features]['feature']\n",
    "    return selected_features"
   ]
  },
  {
   "cell_type": "code",
   "execution_count": 3,
   "metadata": {},
   "outputs": [],
   "source": [
    "def get_manual_features(feature_data):\n",
    "\n",
    "    index = feature_data.index\n",
    "    features = ['T', 'CLCT', 'U_100m','V_100m','U_10m','V_10m']\n",
    "\n",
    "    # Wind Speed Vector\n",
    "    feature_data['Wind Speed 100m'] = np.sqrt(feature_data['U_100m']**2 + feature_data['V_100m']**2)\n",
    "    feature_data['Wind Direction 100m'] = np.arctan(feature_data['V_100m']/feature_data['U_100m'])\n",
    "    feature_data['Wind Speed 10m'] = np.sqrt(feature_data['U_10m']**2 + feature_data['V_10m']**2)\n",
    "    feature_data['Wind Direction 10m'] = np.arctan(feature_data['V_10m']/feature_data['U_10m'])\n",
    "\n",
    "    feature_data['Wind Direction 100m'] = feature_data['Wind Direction 100m'].apply(lambda x: 360 + x if x < 0 else x)\n",
    "    feature_data['Wind Direction 10m'] = feature_data['Wind Direction 10m'].apply(lambda x: 360 + x if x < 0 else x)\n",
    "\n",
    "    # Time Relative Variables \n",
    "\n",
    "    for column in features:\n",
    "        feature_data[column + '_last_week'] = feature_data[column].shift(7) # Values for Last Week\n",
    "        feature_data[column + '_last_month'] = feature_data[column].shift(30) # Values for Last Month\n",
    "\n",
    "    feature_data['Month_Number'] = feature_data.index.month # Month Number\n",
    "    feature_data['Quarter_Number'] = feature_data.index.quarter # Quarter Number\n",
    "\n",
    "    mean_month = feature_data.groupby('Month_Number').mean()[features] # Month Mean\n",
    "    median_month = feature_data.groupby('Month_Number').median()[features] # Month Median\n",
    "    variance_month = feature_data.groupby('Month_Number').var()[features] # Month Variance\n",
    "\n",
    "    mean_quarter = feature_data.groupby('Quarter_Number').mean()[features] # Quarter Mean\n",
    "    median_quarter = feature_data.groupby('Quarter_Number').median()[features] # Quarter Median\n",
    "    variance_quarter = feature_data.groupby('Quarter_Number').var()[features] # Quarter Variance\n",
    "\n",
    "    mean_month.columns = mean_month.columns + '_Month_Mean'\n",
    "    median_month.columns = median_month.columns + '_Month_Median'\n",
    "    variance_month.columns = variance_month.columns + '_Month_Variance'\n",
    "    mean_quarter.columns = mean_quarter.columns + '_Quarter_Mean'\n",
    "    median_quarter.columns = median_quarter.columns + '_Quarterh_Median'\n",
    "    variance_quarter.columns = variance_quarter.columns + '_Quarter_Variance'\n",
    "\n",
    "    feature_data = feature_data.merge(mean_month,on='Month_Number',how='left')\n",
    "    feature_data = feature_data.merge(median_month,on='Month_Number',how='left')\n",
    "    feature_data = feature_data.merge(variance_month,on='Month_Number',how='left')\n",
    "    feature_data = feature_data.merge(mean_quarter,on='Quarter_Number',how='left')\n",
    "    feature_data = feature_data.merge(median_quarter,on='Quarter_Number',how='left')\n",
    "    feature_data = feature_data.merge(variance_quarter,on='Quarter_Number',how='left')\n",
    "    feature_data.index = index\n",
    "\n",
    "    # Periodical Features\n",
    "\n",
    "    day = feature_data.index.day\n",
    "    hour = feature_data.index.hour\n",
    "    minute = feature_data.index.minute\n",
    "    dayofweek = feature_data.index.dayofweek\n",
    "    dayofyear = feature_data.index.dayofyear\n",
    "    days_in_month = feature_data.index.days_in_month\n",
    "\n",
    "    feature_data[\"cos_day\"], feature_data[\"sin_day\"] = (\n",
    "    np.cos(2 * np.pi * (day - 1) / days_in_month),\n",
    "    np.sin(2 * np.pi * (day - 1) / days_in_month),\n",
    "    )\n",
    "\n",
    "    feature_data[\"cos_hour\"], feature_data[\"sin_hour\"] = (\n",
    "        np.cos(2 * np.pi * hour / 24),\n",
    "        np.sin(2 * np.pi * hour / 24),\n",
    "        )\n",
    "\n",
    "    feature_data[\"cos_minute\"], feature_data[\"sin_minute\"] = (\n",
    "        np.cos(2 * np.pi * minute / 60),\n",
    "        np.sin(2 * np.pi * minute / 60),\n",
    "    )\n",
    "\n",
    "    feature_data[\"cos_dayofyear\"], feature_data[\"sin_dayofyear\"] = (\n",
    "        np.cos(2 * np.pi * (dayofyear - 1) / 365),\n",
    "        np.sin(2 * np.pi * (dayofyear - 1) / 365),\n",
    "    )\n",
    "\n",
    "    feature_data[\"cos_dayofweek\"], feature_data[\"sin_dayofweek\"] = (\n",
    "        np.cos(2 * np.pi * dayofweek / 7),\n",
    "        np.sin(2 * np.pi * dayofweek / 7),\n",
    "    )\n",
    "\n",
    "    # Distance from Max and Min\n",
    "\n",
    "    for column in features:\n",
    "        feature_data[column + '_Distance_Max'] = feature_data.index - feature_data[column].idxmax()\n",
    "        feature_data[column + '_Distance_Min'] = feature_data.index - feature_data[column].idxmin()\n",
    "        feature_data[column + '_Distance_Max'] = feature_data[column + '_Distance_Max'].apply(lambda x : x.days)\n",
    "        feature_data[column + '_Distance_Min'] = feature_data[column + '_Distance_Min'].apply(lambda x : x.days)\n",
    "\n",
    "    # Dropping Base Features \n",
    "    #features.append(['Month_Number','Quarter Number'])\n",
    "    feature_data = feature_data.drop(features,axis=1)\n",
    "\n",
    "    return feature_data"
   ]
  },
  {
   "cell_type": "code",
   "execution_count": 4,
   "metadata": {},
   "outputs": [],
   "source": [
    "def get_tsfresh_features(data):\n",
    "    tsfresh_data = pd.DataFrame()\n",
    "    for variable in ['U_100m','V_100m','U_10m','V_10m','T','CLCT']: \n",
    "        df_shift, y = make_forecasting_frame(data[variable],kind=variable,max_timeshift=20,rolling_direction=1)\n",
    "        X = extract_features(df_shift, column_id=\"id\", column_sort=\"time\", column_value=\"value\", impute_function=impute,show_warnings=False,n_jobs=3)\n",
    "        X['Feature'] = variable\n",
    "        tsfresh_data = tsfresh_data.append(X)\n",
    "\n",
    "    # Formmating the Data\n",
    "    tsfresh_data = tsfresh_data.pivot(columns='Feature')\n",
    "    tsfresh_data.columns = tsfresh_data.columns.map('{0[0]}|{0[1]}'.format)\n",
    "    tsfresh_data = tsfresh_data.loc[:, tsfresh_data.apply(pd.Series.nunique) != 1] # Remove Constant Columns\n",
    "\n",
    "    return tsfresh_data"
   ]
  },
  {
   "cell_type": "code",
   "execution_count": 5,
   "metadata": {},
   "outputs": [],
   "source": [
    "def get_features_data(X,selected_features): \n",
    "    feature_data = pd.DataFrame()\n",
    "    for WF in X['WF'].unique():\n",
    "        X_WF = X[X['WF']==WF]\n",
    "\n",
    "        X_manual = get_manual_features(X_WF)\n",
    "        X_tsfresh = get_tsfresh_features(X_WF)\n",
    "        X_WF = pd.concat([X_manual,X_tsfresh],axis=1)\n",
    "        feature_data = pd.concat([feature_data,X_WF],axis=0)\n",
    "\n",
    "    feature_data = pd.concat([X,feature_data],axis=1) \n",
    "    feature_data = feature_data[selected_features]\n",
    "\n",
    "    return feature_data"
   ]
  },
  {
   "cell_type": "markdown",
   "metadata": {},
   "source": [
    "## Process Application"
   ]
  },
  {
   "cell_type": "markdown",
   "metadata": {},
   "source": [
    "Here, the Feature Engineering is properly applied on the Full Data."
   ]
  },
  {
   "cell_type": "code",
   "execution_count": 6,
   "metadata": {},
   "outputs": [],
   "source": [
    "X,y_train = get_simplified_data()\n",
    "\n",
    "X_train = X[X['Set']=='Train']\n",
    "X_test = X[X['Set']=='Test']"
   ]
  },
  {
   "cell_type": "code",
   "execution_count": 7,
   "metadata": {},
   "outputs": [],
   "source": [
    "selected_features = get_selected_features(50)"
   ]
  },
  {
   "cell_type": "code",
   "execution_count": 8,
   "metadata": {},
   "outputs": [
    {
     "output_type": "stream",
     "name": "stderr",
     "text": "Feature Extraction: 100%|██████████| 15/15 [02:29<00:00,  9.96s/it]\nFeature Extraction: 100%|██████████| 15/15 [02:27<00:00,  9.85s/it]\nFeature Extraction: 100%|██████████| 15/15 [02:28<00:00,  9.90s/it]\nFeature Extraction: 100%|██████████| 15/15 [02:31<00:00, 10.10s/it]\nFeature Extraction: 100%|██████████| 15/15 [02:21<00:00,  9.46s/it]\nFeature Extraction: 100%|██████████| 15/15 [01:51<00:00,  7.46s/it]\nFeature Extraction: 100%|██████████| 15/15 [02:28<00:00,  9.89s/it]\nFeature Extraction: 100%|██████████| 15/15 [02:28<00:00,  9.91s/it]\nFeature Extraction: 100%|██████████| 15/15 [02:27<00:00,  9.86s/it]\nFeature Extraction: 100%|██████████| 15/15 [02:28<00:00,  9.91s/it]\nFeature Extraction: 100%|██████████| 15/15 [02:24<00:00,  9.64s/it]\nFeature Extraction: 100%|██████████| 15/15 [01:58<00:00,  7.87s/it]\nFeature Extraction: 100%|██████████| 15/15 [02:28<00:00,  9.92s/it]\nFeature Extraction: 100%|██████████| 15/15 [02:27<00:00,  9.86s/it]\nFeature Extraction: 100%|██████████| 15/15 [02:28<00:00,  9.90s/it]\nFeature Extraction: 100%|██████████| 15/15 [02:29<00:00,  9.97s/it]\nFeature Extraction: 100%|██████████| 15/15 [02:22<00:00,  9.50s/it]\nFeature Extraction: 100%|██████████| 15/15 [01:56<00:00,  7.76s/it]\nFeature Extraction: 100%|██████████| 15/15 [02:28<00:00,  9.87s/it]\nFeature Extraction: 100%|██████████| 15/15 [02:28<00:00,  9.91s/it]\nFeature Extraction: 100%|██████████| 15/15 [02:28<00:00,  9.91s/it]\nFeature Extraction: 100%|██████████| 15/15 [02:29<00:00,  9.98s/it]\nFeature Extraction: 100%|██████████| 15/15 [02:23<00:00,  9.55s/it]\nFeature Extraction: 100%|██████████| 15/15 [01:57<00:00,  7.85s/it]\nFeature Extraction: 100%|██████████| 15/15 [02:26<00:00,  9.80s/it]\nFeature Extraction: 100%|██████████| 15/15 [02:26<00:00,  9.80s/it]\nFeature Extraction: 100%|██████████| 15/15 [02:28<00:00,  9.93s/it]\nFeature Extraction: 100%|██████████| 15/15 [02:27<00:00,  9.82s/it]\nFeature Extraction: 100%|██████████| 15/15 [02:21<00:00,  9.43s/it]\nFeature Extraction: 100%|██████████| 15/15 [01:57<00:00,  7.85s/it]\nFeature Extraction: 100%|██████████| 15/15 [02:30<00:00, 10.05s/it]\nFeature Extraction: 100%|██████████| 15/15 [02:27<00:00,  9.83s/it]\nFeature Extraction: 100%|██████████| 15/15 [02:30<00:00, 10.01s/it]\nFeature Extraction: 100%|██████████| 15/15 [02:28<00:00,  9.87s/it]\nFeature Extraction: 100%|██████████| 15/15 [02:27<00:00,  9.83s/it]\nFeature Extraction: 100%|██████████| 15/15 [01:58<00:00,  7.90s/it]\n"
    }
   ],
   "source": [
    "X_train = get_features_data(X_train,selected_features)\n",
    "#X_test = get_features_data(X_test,selected_features)"
   ]
  },
  {
   "cell_type": "code",
   "execution_count": 9,
   "metadata": {},
   "outputs": [
    {
     "output_type": "execute_result",
     "data": {
      "text/plain": "                     Wind Speed 100m  \\\n2018-05-01 01:00:00         3.958410   \n2018-05-01 02:00:00         2.831607   \n2018-05-01 03:00:00         1.908954   \n2018-05-01 04:00:00         7.238384   \n2018-05-01 05:00:00         6.647232   \n...                              ...   \n2019-01-15 20:00:00         5.555136   \n2019-01-15 21:00:00         4.466715   \n2019-01-15 22:00:00         4.599713   \n2019-01-15 23:00:00         4.094362   \n2019-01-16 00:00:00         2.070834   \n\n                     value__energy_ratio_by_chunks__num_segments_10__segment_focus_9|V_100m  \\\n2018-05-01 01:00:00                                                NaN                        \n2018-05-01 02:00:00                                           0.000000                        \n2018-05-01 03:00:00                                           0.000000                        \n2018-05-01 04:00:00                                           0.000000                        \n2018-05-01 05:00:00                                           0.000000                        \n...                                                                ...                        \n2019-01-15 20:00:00                                           0.052024                        \n2019-01-15 21:00:00                                           0.049091                        \n2019-01-15 22:00:00                                           0.041070                        \n2019-01-15 23:00:00                                           0.035231                        \n2019-01-16 00:00:00                                           0.033592                        \n\n                     value__friedrich_coefficients__m_3__r_30__coeff_2|V_10m  \\\n2018-05-01 01:00:00                                                NaN         \n2018-05-01 02:00:00                                          -0.170318         \n2018-05-01 03:00:00                                          -0.170318         \n2018-05-01 04:00:00                                          -0.004963         \n2018-05-01 05:00:00                                           8.690463         \n...                                                                ...         \n2019-01-15 20:00:00                                           5.559128         \n2019-01-15 21:00:00                                           1.021078         \n2019-01-15 22:00:00                                          -0.305104         \n2019-01-15 23:00:00                                          -0.631844         \n2019-01-16 00:00:00                                          -0.522032         \n\n                     value__time_reversal_asymmetry_statistic__lag_3|V_100m  \\\n2018-05-01 01:00:00                                                NaN        \n2018-05-01 02:00:00                                           0.000000        \n2018-05-01 03:00:00                                           0.000000        \n2018-05-01 04:00:00                                           0.000000        \n2018-05-01 05:00:00                                           0.000000        \n...                                                                ...        \n2019-01-15 20:00:00                                         164.200976        \n2019-01-15 21:00:00                                         182.541877        \n2019-01-15 22:00:00                                         201.078845        \n2019-01-15 23:00:00                                         209.261386        \n2019-01-16 00:00:00                                         198.606328        \n\n                     value__c3__lag_2|V_10m  \\\n2018-05-01 01:00:00                     NaN   \n2018-05-01 02:00:00                0.000000   \n2018-05-01 03:00:00                0.000000   \n2018-05-01 04:00:00                0.000000   \n2018-05-01 05:00:00                0.000000   \n...                                     ...   \n2019-01-15 20:00:00             -121.642750   \n2019-01-15 21:00:00             -114.762898   \n2019-01-15 22:00:00             -107.245347   \n2019-01-15 23:00:00              -99.095078   \n2019-01-16 00:00:00              -91.201103   \n\n                     value__cid_ce__normalize_False|V_10m  \\\n2018-05-01 01:00:00                                   NaN   \n2018-05-01 02:00:00                              0.000000   \n2018-05-01 03:00:00                              0.123682   \n2018-05-01 04:00:00                              1.009375   \n2018-05-01 05:00:00                              1.106652   \n...                                                   ...   \n2019-01-15 20:00:00                              3.201610   \n2019-01-15 21:00:00                              3.249738   \n2019-01-15 22:00:00                              3.254980   \n2019-01-15 23:00:00                              3.250074   \n2019-01-16 00:00:00                              3.239163   \n\n                     value__quantile__q_0.1|V_100m  \\\n2018-05-01 01:00:00                            NaN   \n2018-05-01 02:00:00                      -3.257800   \n2018-05-01 03:00:00                      -3.076630   \n2018-05-01 04:00:00                      -2.895460   \n2018-05-01 05:00:00                      -5.329520   \n...                                            ...   \n2019-01-15 20:00:00                      -9.877035   \n2019-01-15 21:00:00                      -9.877035   \n2019-01-15 22:00:00                      -9.877035   \n2019-01-15 23:00:00                      -9.877035   \n2019-01-16 00:00:00                      -9.877035   \n\n                     value__cwt_coefficients__widths_(2, 5, 10, 20)__coeff_3__w_5|U_100m  \\\n2018-05-01 01:00:00                                                NaN                     \n2018-05-01 02:00:00                                           1.301759                     \n2018-05-01 03:00:00                                           1.301759                     \n2018-05-01 04:00:00                                           1.301759                     \n2018-05-01 05:00:00                                          -0.057668                     \n...                                                                ...                     \n2019-01-15 20:00:00                                           0.895961                     \n2019-01-15 21:00:00                                           1.053627                     \n2019-01-15 22:00:00                                           1.285723                     \n2019-01-15 23:00:00                                           1.339524                     \n2019-01-16 00:00:00                                           1.299867                     \n\n                     value__change_quantiles__f_agg_\"mean\"__isabs_False__qh_1.0__ql_0.4|U_10m  \\\n2018-05-01 01:00:00                                                NaN                          \n2018-05-01 02:00:00                                           0.000000                          \n2018-05-01 03:00:00                                           0.000000                          \n2018-05-01 04:00:00                                           1.236305                          \n2018-05-01 05:00:00                                           1.236305                          \n...                                                                ...                          \n2019-01-15 20:00:00                                           0.010199                          \n2019-01-15 21:00:00                                          -0.016723                          \n2019-01-15 22:00:00                                          -0.065147                          \n2019-01-15 23:00:00                                          -0.121936                          \n2019-01-16 00:00:00                                          -0.135450                          \n\n                     value__fft_coefficient__coeff_9__attr_\"real\"|V_10m  ...  \\\n2018-05-01 01:00:00                                                NaN   ...   \n2018-05-01 02:00:00                                          -0.159832   ...   \n2018-05-01 03:00:00                                          -0.159832   ...   \n2018-05-01 04:00:00                                          -0.159832   ...   \n2018-05-01 05:00:00                                          -0.159832   ...   \n...                                                                ...   ...   \n2019-01-15 20:00:00                                          -2.359539   ...   \n2019-01-15 21:00:00                                          -1.381516   ...   \n2019-01-15 22:00:00                                          -2.585641   ...   \n2019-01-15 23:00:00                                          -1.630878   ...   \n2019-01-16 00:00:00                                          -2.664824   ...   \n\n                     value__fft_coefficient__coeff_5__attr_\"angle\"|V_10m  \\\n2018-05-01 01:00:00                                                NaN     \n2018-05-01 02:00:00                                          19.832130     \n2018-05-01 03:00:00                                          19.832130     \n2018-05-01 04:00:00                                          19.832130     \n2018-05-01 05:00:00                                          19.832130     \n...                                                                ...     \n2019-01-15 20:00:00                                         170.743397     \n2019-01-15 21:00:00                                         100.635951     \n2019-01-15 22:00:00                                         115.336272     \n2019-01-15 23:00:00                                         147.219146     \n2019-01-16 00:00:00                                         162.113388     \n\n                     value__quantile__q_0.3|T  value__minimum|U_10m  \\\n2018-05-01 01:00:00                       NaN                   NaN   \n2018-05-01 02:00:00                286.440000              1.254603   \n2018-05-01 03:00:00                286.314000              1.254603   \n2018-05-01 04:00:00                286.368000              0.997093   \n2018-05-01 05:00:00                286.112000              0.689598   \n...                                       ...                   ...   \n2019-01-15 20:00:00                275.608000             -0.557474   \n2019-01-15 21:00:00                275.577000             -0.557474   \n2019-01-15 22:00:00                275.478245             -0.557474   \n2019-01-15 23:00:00                275.207028             -0.557474   \n2019-01-16 00:00:00                275.028957             -0.557474   \n\n                     value__cwt_coefficients__widths_(2, 5, 10, 20)__coeff_9__w_20|CLCT  \\\n2018-05-01 01:00:00                                                NaN                    \n2018-05-01 02:00:00                                         129.261055                    \n2018-05-01 03:00:00                                         129.261055                    \n2018-05-01 04:00:00                                         129.261055                    \n2018-05-01 05:00:00                                         129.261055                    \n...                                                                ...                    \n2019-01-15 20:00:00                                          85.957936                    \n2019-01-15 21:00:00                                          80.414405                    \n2019-01-15 22:00:00                                          77.610008                    \n2019-01-15 23:00:00                                          74.414578                    \n2019-01-16 00:00:00                                          69.267040                    \n\n                     value__agg_linear_trend__f_agg_\"mean\"__chunk_len_5__attr_\"slope\"|CLCT  \\\n2018-05-01 01:00:00                                                NaN                       \n2018-05-01 02:00:00                                           0.000000                       \n2018-05-01 03:00:00                                           0.000000                       \n2018-05-01 04:00:00                                           0.000000                       \n2018-05-01 05:00:00                                           0.000000                       \n...                                                                ...                       \n2019-01-15 20:00:00                                          -5.518759                       \n2019-01-15 21:00:00                                          -5.821506                       \n2019-01-15 22:00:00                                          -8.022825                       \n2019-01-15 23:00:00                                         -10.504460                       \n2019-01-16 00:00:00                                         -12.320355                       \n\n                     value__fft_coefficient__coeff_8__attr_\"imag\"|U_10m  \\\n2018-05-01 01:00:00                                                NaN    \n2018-05-01 02:00:00                                          -0.036940    \n2018-05-01 03:00:00                                          -0.036940    \n2018-05-01 04:00:00                                          -0.036940    \n2018-05-01 05:00:00                                          -0.036940    \n...                                                                ...    \n2019-01-15 20:00:00                                           0.231413    \n2019-01-15 21:00:00                                          -0.004651    \n2019-01-15 22:00:00                                          -0.212426    \n2019-01-15 23:00:00                                           0.050066    \n2019-01-16 00:00:00                                          -0.398622    \n\n                     value__cwt_coefficients__widths_(2, 5, 10, 20)__coeff_2__w_10|CLCT  \\\n2018-05-01 01:00:00                                                NaN                    \n2018-05-01 02:00:00                                          82.978398                    \n2018-05-01 03:00:00                                          82.978398                    \n2018-05-01 04:00:00                                          53.994460                    \n2018-05-01 05:00:00                                         101.230389                    \n...                                                                ...                    \n2019-01-15 20:00:00                                          56.902084                    \n2019-01-15 21:00:00                                          56.132273                    \n2019-01-15 22:00:00                                          62.209185                    \n2019-01-15 23:00:00                                          68.421053                    \n2019-01-16 00:00:00                                          70.796808                    \n\n                     Wind Speed 10m  \\\n2018-05-01 01:00:00        1.287613   \n2018-05-01 02:00:00        2.524975   \n2018-05-01 03:00:00        1.731130   \n2018-05-01 04:00:00        1.183180   \n2018-05-01 05:00:00        0.414344   \n...                             ...   \n2019-01-15 20:00:00        1.116643   \n2019-01-15 21:00:00        0.822711   \n2019-01-15 22:00:00        0.707360   \n2019-01-15 23:00:00        0.545934   \n2019-01-16 00:00:00        0.402614   \n\n                     value__linear_trend__attr_\"stderr\"|V_100m  \\\n2018-05-01 01:00:00                                        NaN   \n2018-05-01 02:00:00                                   0.058691   \n2018-05-01 03:00:00                                   0.000000   \n2018-05-01 04:00:00                                   0.351995   \n2018-05-01 05:00:00                                   1.182930   \n...                                                        ...   \n2019-01-15 20:00:00                                   0.032627   \n2019-01-15 21:00:00                                   0.030140   \n2019-01-15 22:00:00                                   0.030125   \n2019-01-15 23:00:00                                   0.029514   \n2019-01-16 00:00:00                                   0.027588   \n\n                     value__cwt_coefficients__widths_(2, 5, 10, 20)__coeff_11__w_2|V_100m  \n2018-05-01 01:00:00                                                NaN                     \n2018-05-01 02:00:00                                          -0.138579                     \n2018-05-01 03:00:00                                          -0.138579                     \n2018-05-01 04:00:00                                          -0.138579                     \n2018-05-01 05:00:00                                          -0.138579                     \n...                                                                ...                     \n2019-01-15 20:00:00                                           2.297913                     \n2019-01-15 21:00:00                                           1.567985                     \n2019-01-15 22:00:00                                           0.392285                     \n2019-01-15 23:00:00                                          -0.609207                     \n2019-01-16 00:00:00                                          -1.147097                     \n\n[37375 rows x 50 columns]",
      "text/html": "<div>\n<style scoped>\n    .dataframe tbody tr th:only-of-type {\n        vertical-align: middle;\n    }\n\n    .dataframe tbody tr th {\n        vertical-align: top;\n    }\n\n    .dataframe thead th {\n        text-align: right;\n    }\n</style>\n<table border=\"1\" class=\"dataframe\">\n  <thead>\n    <tr style=\"text-align: right;\">\n      <th></th>\n      <th>Wind Speed 100m</th>\n      <th>value__energy_ratio_by_chunks__num_segments_10__segment_focus_9|V_100m</th>\n      <th>value__friedrich_coefficients__m_3__r_30__coeff_2|V_10m</th>\n      <th>value__time_reversal_asymmetry_statistic__lag_3|V_100m</th>\n      <th>value__c3__lag_2|V_10m</th>\n      <th>value__cid_ce__normalize_False|V_10m</th>\n      <th>value__quantile__q_0.1|V_100m</th>\n      <th>value__cwt_coefficients__widths_(2, 5, 10, 20)__coeff_3__w_5|U_100m</th>\n      <th>value__change_quantiles__f_agg_\"mean\"__isabs_False__qh_1.0__ql_0.4|U_10m</th>\n      <th>value__fft_coefficient__coeff_9__attr_\"real\"|V_10m</th>\n      <th>...</th>\n      <th>value__fft_coefficient__coeff_5__attr_\"angle\"|V_10m</th>\n      <th>value__quantile__q_0.3|T</th>\n      <th>value__minimum|U_10m</th>\n      <th>value__cwt_coefficients__widths_(2, 5, 10, 20)__coeff_9__w_20|CLCT</th>\n      <th>value__agg_linear_trend__f_agg_\"mean\"__chunk_len_5__attr_\"slope\"|CLCT</th>\n      <th>value__fft_coefficient__coeff_8__attr_\"imag\"|U_10m</th>\n      <th>value__cwt_coefficients__widths_(2, 5, 10, 20)__coeff_2__w_10|CLCT</th>\n      <th>Wind Speed 10m</th>\n      <th>value__linear_trend__attr_\"stderr\"|V_100m</th>\n      <th>value__cwt_coefficients__widths_(2, 5, 10, 20)__coeff_11__w_2|V_100m</th>\n    </tr>\n  </thead>\n  <tbody>\n    <tr>\n      <th>2018-05-01 01:00:00</th>\n      <td>3.958410</td>\n      <td>NaN</td>\n      <td>NaN</td>\n      <td>NaN</td>\n      <td>NaN</td>\n      <td>NaN</td>\n      <td>NaN</td>\n      <td>NaN</td>\n      <td>NaN</td>\n      <td>NaN</td>\n      <td>...</td>\n      <td>NaN</td>\n      <td>NaN</td>\n      <td>NaN</td>\n      <td>NaN</td>\n      <td>NaN</td>\n      <td>NaN</td>\n      <td>NaN</td>\n      <td>1.287613</td>\n      <td>NaN</td>\n      <td>NaN</td>\n    </tr>\n    <tr>\n      <th>2018-05-01 02:00:00</th>\n      <td>2.831607</td>\n      <td>0.000000</td>\n      <td>-0.170318</td>\n      <td>0.000000</td>\n      <td>0.000000</td>\n      <td>0.000000</td>\n      <td>-3.257800</td>\n      <td>1.301759</td>\n      <td>0.000000</td>\n      <td>-0.159832</td>\n      <td>...</td>\n      <td>19.832130</td>\n      <td>286.440000</td>\n      <td>1.254603</td>\n      <td>129.261055</td>\n      <td>0.000000</td>\n      <td>-0.036940</td>\n      <td>82.978398</td>\n      <td>2.524975</td>\n      <td>0.058691</td>\n      <td>-0.138579</td>\n    </tr>\n    <tr>\n      <th>2018-05-01 03:00:00</th>\n      <td>1.908954</td>\n      <td>0.000000</td>\n      <td>-0.170318</td>\n      <td>0.000000</td>\n      <td>0.000000</td>\n      <td>0.123682</td>\n      <td>-3.076630</td>\n      <td>1.301759</td>\n      <td>0.000000</td>\n      <td>-0.159832</td>\n      <td>...</td>\n      <td>19.832130</td>\n      <td>286.314000</td>\n      <td>1.254603</td>\n      <td>129.261055</td>\n      <td>0.000000</td>\n      <td>-0.036940</td>\n      <td>82.978398</td>\n      <td>1.731130</td>\n      <td>0.000000</td>\n      <td>-0.138579</td>\n    </tr>\n    <tr>\n      <th>2018-05-01 04:00:00</th>\n      <td>7.238384</td>\n      <td>0.000000</td>\n      <td>-0.004963</td>\n      <td>0.000000</td>\n      <td>0.000000</td>\n      <td>1.009375</td>\n      <td>-2.895460</td>\n      <td>1.301759</td>\n      <td>1.236305</td>\n      <td>-0.159832</td>\n      <td>...</td>\n      <td>19.832130</td>\n      <td>286.368000</td>\n      <td>0.997093</td>\n      <td>129.261055</td>\n      <td>0.000000</td>\n      <td>-0.036940</td>\n      <td>53.994460</td>\n      <td>1.183180</td>\n      <td>0.351995</td>\n      <td>-0.138579</td>\n    </tr>\n    <tr>\n      <th>2018-05-01 05:00:00</th>\n      <td>6.647232</td>\n      <td>0.000000</td>\n      <td>8.690463</td>\n      <td>0.000000</td>\n      <td>0.000000</td>\n      <td>1.106652</td>\n      <td>-5.329520</td>\n      <td>-0.057668</td>\n      <td>1.236305</td>\n      <td>-0.159832</td>\n      <td>...</td>\n      <td>19.832130</td>\n      <td>286.112000</td>\n      <td>0.689598</td>\n      <td>129.261055</td>\n      <td>0.000000</td>\n      <td>-0.036940</td>\n      <td>101.230389</td>\n      <td>0.414344</td>\n      <td>1.182930</td>\n      <td>-0.138579</td>\n    </tr>\n    <tr>\n      <th>...</th>\n      <td>...</td>\n      <td>...</td>\n      <td>...</td>\n      <td>...</td>\n      <td>...</td>\n      <td>...</td>\n      <td>...</td>\n      <td>...</td>\n      <td>...</td>\n      <td>...</td>\n      <td>...</td>\n      <td>...</td>\n      <td>...</td>\n      <td>...</td>\n      <td>...</td>\n      <td>...</td>\n      <td>...</td>\n      <td>...</td>\n      <td>...</td>\n      <td>...</td>\n      <td>...</td>\n    </tr>\n    <tr>\n      <th>2019-01-15 20:00:00</th>\n      <td>5.555136</td>\n      <td>0.052024</td>\n      <td>5.559128</td>\n      <td>164.200976</td>\n      <td>-121.642750</td>\n      <td>3.201610</td>\n      <td>-9.877035</td>\n      <td>0.895961</td>\n      <td>0.010199</td>\n      <td>-2.359539</td>\n      <td>...</td>\n      <td>170.743397</td>\n      <td>275.608000</td>\n      <td>-0.557474</td>\n      <td>85.957936</td>\n      <td>-5.518759</td>\n      <td>0.231413</td>\n      <td>56.902084</td>\n      <td>1.116643</td>\n      <td>0.032627</td>\n      <td>2.297913</td>\n    </tr>\n    <tr>\n      <th>2019-01-15 21:00:00</th>\n      <td>4.466715</td>\n      <td>0.049091</td>\n      <td>1.021078</td>\n      <td>182.541877</td>\n      <td>-114.762898</td>\n      <td>3.249738</td>\n      <td>-9.877035</td>\n      <td>1.053627</td>\n      <td>-0.016723</td>\n      <td>-1.381516</td>\n      <td>...</td>\n      <td>100.635951</td>\n      <td>275.577000</td>\n      <td>-0.557474</td>\n      <td>80.414405</td>\n      <td>-5.821506</td>\n      <td>-0.004651</td>\n      <td>56.132273</td>\n      <td>0.822711</td>\n      <td>0.030140</td>\n      <td>1.567985</td>\n    </tr>\n    <tr>\n      <th>2019-01-15 22:00:00</th>\n      <td>4.599713</td>\n      <td>0.041070</td>\n      <td>-0.305104</td>\n      <td>201.078845</td>\n      <td>-107.245347</td>\n      <td>3.254980</td>\n      <td>-9.877035</td>\n      <td>1.285723</td>\n      <td>-0.065147</td>\n      <td>-2.585641</td>\n      <td>...</td>\n      <td>115.336272</td>\n      <td>275.478245</td>\n      <td>-0.557474</td>\n      <td>77.610008</td>\n      <td>-8.022825</td>\n      <td>-0.212426</td>\n      <td>62.209185</td>\n      <td>0.707360</td>\n      <td>0.030125</td>\n      <td>0.392285</td>\n    </tr>\n    <tr>\n      <th>2019-01-15 23:00:00</th>\n      <td>4.094362</td>\n      <td>0.035231</td>\n      <td>-0.631844</td>\n      <td>209.261386</td>\n      <td>-99.095078</td>\n      <td>3.250074</td>\n      <td>-9.877035</td>\n      <td>1.339524</td>\n      <td>-0.121936</td>\n      <td>-1.630878</td>\n      <td>...</td>\n      <td>147.219146</td>\n      <td>275.207028</td>\n      <td>-0.557474</td>\n      <td>74.414578</td>\n      <td>-10.504460</td>\n      <td>0.050066</td>\n      <td>68.421053</td>\n      <td>0.545934</td>\n      <td>0.029514</td>\n      <td>-0.609207</td>\n    </tr>\n    <tr>\n      <th>2019-01-16 00:00:00</th>\n      <td>2.070834</td>\n      <td>0.033592</td>\n      <td>-0.522032</td>\n      <td>198.606328</td>\n      <td>-91.201103</td>\n      <td>3.239163</td>\n      <td>-9.877035</td>\n      <td>1.299867</td>\n      <td>-0.135450</td>\n      <td>-2.664824</td>\n      <td>...</td>\n      <td>162.113388</td>\n      <td>275.028957</td>\n      <td>-0.557474</td>\n      <td>69.267040</td>\n      <td>-12.320355</td>\n      <td>-0.398622</td>\n      <td>70.796808</td>\n      <td>0.402614</td>\n      <td>0.027588</td>\n      <td>-1.147097</td>\n    </tr>\n  </tbody>\n</table>\n<p>37375 rows × 50 columns</p>\n</div>"
     },
     "metadata": {},
     "execution_count": 9
    }
   ],
   "source": [
    "X_train"
   ]
  },
  {
   "cell_type": "code",
   "execution_count": null,
   "metadata": {},
   "outputs": [],
   "source": []
  }
 ],
 "metadata": {
  "language_info": {
   "codemirror_mode": {
    "name": "ipython",
    "version": 3
   },
   "file_extension": ".py",
   "mimetype": "text/x-python",
   "name": "python",
   "nbconvert_exporter": "python",
   "pygments_lexer": "ipython3",
   "version": "3.7.6-final"
  },
  "orig_nbformat": 2,
  "kernelspec": {
   "name": "python3",
   "display_name": "Python 3"
  }
 },
 "nbformat": 4,
 "nbformat_minor": 2
}