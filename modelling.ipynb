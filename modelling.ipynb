{
 "cells": [
  {
   "cell_type": "markdown",
   "metadata": {},
   "source": [
    "# Modelling"
   ]
  },
  {
   "cell_type": "markdown",
   "metadata": {},
   "source": [
    "The objective fo this notebook is to utilize some methods to find and determine the optimal model to solve the challenge problem. "
   ]
  },
  {
   "cell_type": "markdown",
   "metadata": {},
   "source": [
    "## Libraries"
   ]
  },
  {
   "cell_type": "code",
   "execution_count": 1,
   "metadata": {},
   "outputs": [],
   "source": [
    "import numpy as np \n",
    "import pandas as pd\n",
    "from cnr_methods import get_simplified_data, transform_data, metric_cnr\n",
    "\n",
    "from sklearn.model_selection import TimeSeriesSplit\n",
    "from collections import deque\n",
    "import xgboost as xgb"
   ]
  },
  {
   "cell_type": "markdown",
   "metadata": {},
   "source": [
    "## Read Data"
   ]
  },
  {
   "cell_type": "markdown",
   "metadata": {},
   "source": [
    "Here, the data used correspond to the results of the Feature Engineering and Selection Step. (Add Later)"
   ]
  },
  {
   "cell_type": "code",
   "execution_count": 2,
   "metadata": {},
   "outputs": [],
   "source": [
    "# Initially using the Original Data\n",
    "X = get_simplified_data()\n",
    "X = X[X['Set']=='Train']\n",
    "y = pd.read_csv('Data/Y_train.csv')"
   ]
  },
  {
   "cell_type": "code",
   "execution_count": 3,
   "metadata": {},
   "outputs": [],
   "source": [
    "X['Time'] = pd.to_datetime(X['Time'],dayfirst=True)\n",
    "X = X.set_index('Time')"
   ]
  },
  {
   "cell_type": "markdown",
   "metadata": {},
   "source": [
    "For initial debugging, only One Windfarm will be considered."
   ]
  },
  {
   "cell_type": "code",
   "execution_count": 4,
   "metadata": {},
   "outputs": [],
   "source": [
    "WF = 'WF1'\n",
    "X = X[X['WF']==WF]\n",
    "y = y[y['ID'].isin(X['ID'])]"
   ]
  },
  {
   "cell_type": "markdown",
   "metadata": {},
   "source": [
    "## Validation Scheme"
   ]
  },
  {
   "cell_type": "markdown",
   "metadata": {},
   "source": [
    "Before proceeding to the Hyperparameter search, it is necessary first to have some way to reliably measure the performance of the model. For this purpose, it will be used a Time Split Cross Validation Method, were the \"Test\" Fold for each Iteration is going to be used as the Validation Data, and so, to make Early Stopping on the data."
   ]
  },
  {
   "cell_type": "code",
   "execution_count": 5,
   "metadata": {},
   "outputs": [],
   "source": [
    "def validation_scheme(X,y,k_fold_splits,param,num_boost_round,early_stopping_rounds):\n",
    "    #Define Time Split Cross Validation\n",
    "    tscv = TimeSeriesSplit(n_splits=k_fold_splits)\n",
    "\n",
    "    scores = np.empty(0)\n",
    "    for train_index, val_index in tscv.split(X):\n",
    "        # Get the Data of the Split\n",
    "        X_train, X_val = X.iloc[train_index], X.iloc[val_index]\n",
    "        y_train, y_val = y.iloc[train_index], y.iloc[val_index]\n",
    "        dtrain = xgb.DMatrix(X_train.drop(['ID','WF','Set'],axis=1),label=y_train['Production'])\n",
    "        dval = xgb.DMatrix(X_val.drop(['ID','WF','Set'],axis=1),label=y_val['Production'])\n",
    "\n",
    "        # Train the Model\n",
    "        #obj=metric_cnr, feval=metric_cnr\n",
    "        watchlist = [(dtrain,'train'),(dval,'eval')]\n",
    "        bst = xgb.train(param, dtrain, num_boost_round=num_boost_round, evals=watchlist, feval=metric_cnr,early_stopping_rounds=early_stopping_rounds)\n",
    "        scores = np.append(scores,bst.best_score)\n",
    "    return scores"
   ]
  },
  {
   "cell_type": "code",
   "execution_count": 11,
   "metadata": {},
   "outputs": [],
   "source": [
    "param = {'max_depth': 2, 'eta': 1, 'tree_method' : 'gpu_hist'}"
   ]
  },
  {
   "cell_type": "code",
   "execution_count": 12,
   "metadata": {},
   "outputs": [
    {
     "output_type": "stream",
     "name": "stdout",
     "text": "[0]\ttrain-rmse:1.64069\teval-rmse:1.33832\ttrain-CAPE:68.31301\teval-CAPE:51.10481\nMultiple eval metrics have been passed: 'eval-CAPE' will be used for early stopping.\n\nWill train until eval-CAPE hasn't improved in 10 rounds.\n[1]\ttrain-rmse:1.30794\teval-rmse:1.36047\ttrain-CAPE:49.81842\teval-CAPE:46.96684\n[2]\ttrain-rmse:1.24399\teval-rmse:1.32486\ttrain-CAPE:45.24114\teval-CAPE:44.37091\n[3]\ttrain-rmse:1.21064\teval-rmse:1.33637\ttrain-CAPE:43.32950\teval-CAPE:44.45235\n[4]\ttrain-rmse:1.17991\teval-rmse:1.30851\ttrain-CAPE:41.72203\teval-CAPE:42.84243\n[5]\ttrain-rmse:1.12658\teval-rmse:1.79660\ttrain-CAPE:40.10080\teval-CAPE:55.83307\n[6]\ttrain-rmse:1.08664\teval-rmse:1.83328\ttrain-CAPE:38.94361\teval-CAPE:57.18132\n[7]\ttrain-rmse:1.05842\teval-rmse:1.96902\ttrain-CAPE:37.57953\teval-CAPE:59.86401\n[8]\ttrain-rmse:1.04275\teval-rmse:1.92221\ttrain-CAPE:36.48556\teval-CAPE:58.57725\n[9]\ttrain-rmse:1.01942\teval-rmse:1.90141\ttrain-CAPE:36.33889\teval-CAPE:59.07350\n[0]\ttrain-rmse:1.45748\teval-rmse:1.54113\ttrain-CAPE:55.92869\teval-CAPE:69.62297\nMultiple eval metrics have been passed: 'eval-CAPE' will be used for early stopping.\n\nWill train until eval-CAPE hasn't improved in 10 rounds.\n[1]\ttrain-rmse:1.24965\teval-rmse:1.37757\ttrain-CAPE:44.65396\teval-CAPE:57.97808\n[2]\ttrain-rmse:1.18095\teval-rmse:1.42322\ttrain-CAPE:41.25153\teval-CAPE:59.31239\n[3]\ttrain-rmse:1.13327\teval-rmse:1.29550\ttrain-CAPE:40.36662\teval-CAPE:54.82154\n[4]\ttrain-rmse:1.10330\teval-rmse:1.31088\ttrain-CAPE:38.31155\teval-CAPE:54.01648\n[5]\ttrain-rmse:1.06936\teval-rmse:1.29384\ttrain-CAPE:37.78309\teval-CAPE:53.60800\n[6]\ttrain-rmse:1.04024\teval-rmse:1.23628\ttrain-CAPE:35.43709\teval-CAPE:50.47089\n[7]\ttrain-rmse:1.02083\teval-rmse:1.25665\ttrain-CAPE:34.98554\teval-CAPE:51.20150\n[8]\ttrain-rmse:1.00420\teval-rmse:1.30414\ttrain-CAPE:34.06083\teval-CAPE:52.76256\n[9]\ttrain-rmse:0.99062\teval-rmse:1.25186\ttrain-CAPE:33.96878\teval-CAPE:51.68502\n[0]\ttrain-rmse:1.44852\teval-rmse:1.37066\ttrain-CAPE:56.28146\teval-CAPE:102.59583\nMultiple eval metrics have been passed: 'eval-CAPE' will be used for early stopping.\n\nWill train until eval-CAPE hasn't improved in 10 rounds.\n[1]\ttrain-rmse:1.28697\teval-rmse:1.37894\ttrain-CAPE:48.77073\teval-CAPE:97.15166\n[2]\ttrain-rmse:1.23505\teval-rmse:1.34607\ttrain-CAPE:44.92107\teval-CAPE:92.50597\n[3]\ttrain-rmse:1.19402\teval-rmse:1.28005\ttrain-CAPE:45.11375\teval-CAPE:89.85751\n[4]\ttrain-rmse:1.14643\teval-rmse:1.24285\ttrain-CAPE:42.67715\teval-CAPE:86.79878\n[5]\ttrain-rmse:1.12206\teval-rmse:1.20700\ttrain-CAPE:40.24817\teval-CAPE:80.79534\n[6]\ttrain-rmse:1.09792\teval-rmse:1.22288\ttrain-CAPE:39.13560\teval-CAPE:81.01176\n[7]\ttrain-rmse:1.08045\teval-rmse:1.21552\ttrain-CAPE:38.25108\teval-CAPE:79.26462\n[8]\ttrain-rmse:1.05188\teval-rmse:1.17415\ttrain-CAPE:37.89965\teval-CAPE:78.23884\n[9]\ttrain-rmse:1.02902\teval-rmse:1.17457\ttrain-CAPE:37.35762\teval-CAPE:78.31484\n[0]\ttrain-rmse:1.42721\teval-rmse:1.17901\ttrain-CAPE:63.35938\teval-CAPE:65.52095\nMultiple eval metrics have been passed: 'eval-CAPE' will be used for early stopping.\n\nWill train until eval-CAPE hasn't improved in 10 rounds.\n[1]\ttrain-rmse:1.28292\teval-rmse:1.18550\ttrain-CAPE:53.82092\teval-CAPE:57.71760\n[2]\ttrain-rmse:1.23347\teval-rmse:1.16428\ttrain-CAPE:49.29717\teval-CAPE:52.88712\n[3]\ttrain-rmse:1.14540\teval-rmse:1.05801\ttrain-CAPE:46.83417\teval-CAPE:48.94916\n[4]\ttrain-rmse:1.11084\teval-rmse:1.04473\ttrain-CAPE:45.61471\teval-CAPE:47.32398\n[5]\ttrain-rmse:1.07726\teval-rmse:1.03757\ttrain-CAPE:43.42616\teval-CAPE:45.62697\n[6]\ttrain-rmse:1.04739\teval-rmse:1.03779\ttrain-CAPE:42.44453\teval-CAPE:45.65388\n[7]\ttrain-rmse:1.03343\teval-rmse:1.04567\ttrain-CAPE:41.06221\teval-CAPE:44.63728\n[8]\ttrain-rmse:1.02144\teval-rmse:0.97928\ttrain-CAPE:40.58523\teval-CAPE:42.27013\n[9]\ttrain-rmse:1.00233\teval-rmse:0.95425\ttrain-CAPE:40.72948\teval-CAPE:42.90955\n[0]\ttrain-rmse:1.36658\teval-rmse:2.87625\ttrain-CAPE:60.52299\teval-CAPE:64.13760\nMultiple eval metrics have been passed: 'eval-CAPE' will be used for early stopping.\n\nWill train until eval-CAPE hasn't improved in 10 rounds.\n[1]\ttrain-rmse:1.24073\teval-rmse:2.67885\ttrain-CAPE:54.32261\teval-CAPE:60.17279\n[2]\ttrain-rmse:1.19372\teval-rmse:2.59238\ttrain-CAPE:51.52590\teval-CAPE:57.86844\n[3]\ttrain-rmse:1.12709\teval-rmse:2.45628\ttrain-CAPE:46.08242\teval-CAPE:55.12121\n[4]\ttrain-rmse:1.09102\teval-rmse:2.47516\ttrain-CAPE:44.55578\teval-CAPE:55.97723\n[5]\ttrain-rmse:1.05922\teval-rmse:2.48866\ttrain-CAPE:43.17378\teval-CAPE:56.46883\n[6]\ttrain-rmse:1.04591\teval-rmse:2.30161\ttrain-CAPE:42.91977\teval-CAPE:55.56151\n[7]\ttrain-rmse:1.03152\teval-rmse:2.29154\ttrain-CAPE:41.78898\teval-CAPE:54.72114\n[8]\ttrain-rmse:1.01490\teval-rmse:2.29487\ttrain-CAPE:41.46997\teval-CAPE:54.80206\n[9]\ttrain-rmse:1.00287\teval-rmse:2.26837\ttrain-CAPE:41.16293\teval-CAPE:55.15504\n[0]\ttrain-rmse:1.62345\teval-rmse:3.12713\ttrain-CAPE:66.80969\teval-CAPE:62.23605\nMultiple eval metrics have been passed: 'eval-CAPE' will be used for early stopping.\n\nWill train until eval-CAPE hasn't improved in 10 rounds.\n[1]\ttrain-rmse:1.47966\teval-rmse:2.60991\ttrain-CAPE:58.10036\teval-CAPE:52.25434\n[2]\ttrain-rmse:1.39027\teval-rmse:2.40594\ttrain-CAPE:51.23870\teval-CAPE:46.73655\n[3]\ttrain-rmse:1.34605\teval-rmse:2.41819\ttrain-CAPE:49.27521\teval-CAPE:47.38632\n[4]\ttrain-rmse:1.32615\teval-rmse:2.23996\ttrain-CAPE:48.94363\teval-CAPE:42.51704\n[5]\ttrain-rmse:1.29074\teval-rmse:2.12116\ttrain-CAPE:47.13706\teval-CAPE:38.71111\n[6]\ttrain-rmse:1.27356\teval-rmse:2.11824\ttrain-CAPE:46.51928\teval-CAPE:38.34624\n[7]\ttrain-rmse:1.26077\teval-rmse:2.15028\ttrain-CAPE:45.87480\teval-CAPE:39.05066\n[8]\ttrain-rmse:1.23777\teval-rmse:2.73092\ttrain-CAPE:45.88043\teval-CAPE:49.86741\n[9]\ttrain-rmse:1.22783\teval-rmse:2.71588\ttrain-CAPE:45.24640\teval-CAPE:50.52050\n[0]\ttrain-rmse:1.84624\teval-rmse:2.69231\ttrain-CAPE:64.82949\teval-CAPE:87.57422\nMultiple eval metrics have been passed: 'eval-CAPE' will be used for early stopping.\n\nWill train until eval-CAPE hasn't improved in 10 rounds.\n[1]\ttrain-rmse:1.64861\teval-rmse:2.57298\ttrain-CAPE:54.61297\teval-CAPE:81.51091\n[2]\ttrain-rmse:1.55242\teval-rmse:2.49174\ttrain-CAPE:48.75484\teval-CAPE:78.92912\n[3]\ttrain-rmse:1.48856\teval-rmse:2.36613\ttrain-CAPE:47.45567\teval-CAPE:77.41124\n[4]\ttrain-rmse:1.45930\teval-rmse:2.23862\ttrain-CAPE:45.92791\teval-CAPE:73.37047\n[5]\ttrain-rmse:1.43264\teval-rmse:2.17226\ttrain-CAPE:44.95422\teval-CAPE:71.28798\n[6]\ttrain-rmse:1.40667\teval-rmse:2.16364\ttrain-CAPE:43.63935\teval-CAPE:70.25669\n[7]\ttrain-rmse:1.39285\teval-rmse:2.20734\ttrain-CAPE:43.85820\teval-CAPE:73.08142\n[8]\ttrain-rmse:1.37908\teval-rmse:2.15175\ttrain-CAPE:43.41828\teval-CAPE:71.42998\n[9]\ttrain-rmse:1.36437\teval-rmse:2.13736\ttrain-CAPE:42.71396\teval-CAPE:70.17256\n[0]\ttrain-rmse:1.96181\teval-rmse:2.35858\ttrain-CAPE:68.96546\teval-CAPE:40.26466\nMultiple eval metrics have been passed: 'eval-CAPE' will be used for early stopping.\n\nWill train until eval-CAPE hasn't improved in 10 rounds.\n[1]\ttrain-rmse:1.73142\teval-rmse:2.41530\ttrain-CAPE:57.15925\teval-CAPE:38.28022\n[2]\ttrain-rmse:1.63554\teval-rmse:2.48871\ttrain-CAPE:50.79807\teval-CAPE:38.79394\n[3]\ttrain-rmse:1.55478\teval-rmse:2.38437\ttrain-CAPE:49.83709\teval-CAPE:37.98514\n[4]\ttrain-rmse:1.51319\teval-rmse:3.28015\ttrain-CAPE:47.76132\teval-CAPE:50.91781\n[5]\ttrain-rmse:1.48759\teval-rmse:3.07071\ttrain-CAPE:46.57547\teval-CAPE:46.90444\n[6]\ttrain-rmse:1.46917\teval-rmse:3.22741\ttrain-CAPE:46.62200\teval-CAPE:49.63097\n[7]\ttrain-rmse:1.45936\teval-rmse:3.14875\ttrain-CAPE:45.55068\teval-CAPE:48.21718\n[8]\ttrain-rmse:1.44102\teval-rmse:3.14688\ttrain-CAPE:45.27173\teval-CAPE:48.92243\n[9]\ttrain-rmse:1.42050\teval-rmse:3.11493\ttrain-CAPE:44.59639\teval-CAPE:48.58437\n"
    }
   ],
   "source": [
    "scores = validation_scheme(X,y,k_fold_splits=8,param=param,num_boost_round=10,early_stopping_rounds=10)"
   ]
  },
  {
   "cell_type": "code",
   "execution_count": 13,
   "metadata": {},
   "outputs": [
    {
     "output_type": "execute_result",
     "data": {
      "text/plain": "array([42.84243 , 50.470889, 78.238845, 42.27013 , 54.72114 , 38.346235,\n       70.172557, 37.985143])"
     },
     "metadata": {},
     "execution_count": 13
    }
   ],
   "source": [
    "scores"
   ]
  },
  {
   "cell_type": "code",
   "execution_count": null,
   "metadata": {},
   "outputs": [],
   "source": []
  }
 ],
 "metadata": {
  "language_info": {
   "codemirror_mode": {
    "name": "ipython",
    "version": 3
   },
   "file_extension": ".py",
   "mimetype": "text/x-python",
   "name": "python",
   "nbconvert_exporter": "python",
   "pygments_lexer": "ipython3",
   "version": "3.7.6-final"
  },
  "orig_nbformat": 2,
  "kernelspec": {
   "name": "python3",
   "display_name": "Python 3"
  }
 },
 "nbformat": 4,
 "nbformat_minor": 2
}