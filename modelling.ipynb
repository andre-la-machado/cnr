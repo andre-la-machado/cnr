{
 "cells": [
  {
   "cell_type": "markdown",
   "metadata": {},
   "source": [
    "# Modelling"
   ]
  },
  {
   "cell_type": "markdown",
   "metadata": {},
   "source": [
    "The objective fo this notebook is to utilize some methods to find and determine the optimal model to solve the challenge problem. "
   ]
  },
  {
   "cell_type": "markdown",
   "metadata": {},
   "source": [
    "## Libraries"
   ]
  },
  {
   "cell_type": "code",
   "execution_count": 1,
   "metadata": {},
   "outputs": [],
   "source": [
    "import numpy as np \n",
    "import pandas as pd\n",
    "from cnr_methods import get_simplified_data, transform_data, metric_cnr\n",
    "\n",
    "from sklearn.model_selection import TimeSeriesSplit\n",
    "from collections import deque\n",
    "from hyperopt import fmin, tpe, hp, Trials, STATUS_OK\n",
    "import xgboost as xgb"
   ]
  },
  {
   "cell_type": "markdown",
   "metadata": {},
   "source": [
    "## Read Data"
   ]
  },
  {
   "cell_type": "markdown",
   "metadata": {},
   "source": [
    "Here, the data used correspond to the results of the Feature Engineering and Selection Step. (Add Later)"
   ]
  },
  {
   "cell_type": "code",
   "execution_count": 2,
   "metadata": {},
   "outputs": [],
   "source": [
    "# Initially using the Original Data\n",
    "full_data = get_simplified_data()\n",
    "full_data['Time'] = pd.to_datetime(full_data['Time'],dayfirst=True)\n",
    "full_data = full_data.set_index('Time')"
   ]
  },
  {
   "cell_type": "code",
   "execution_count": 3,
   "metadata": {},
   "outputs": [],
   "source": [
    "X = full_data[full_data['Set']=='Train']\n",
    "y = pd.read_csv('Data/Y_train.csv')"
   ]
  },
  {
   "cell_type": "markdown",
   "metadata": {},
   "source": [
    "For initial debugging, only One Windfarm will be considered."
   ]
  },
  {
   "cell_type": "code",
   "execution_count": 4,
   "metadata": {},
   "outputs": [],
   "source": [
    "WF = 'WF1'\n",
    "X = X[X['WF']==WF]\n",
    "y = y[y['ID'].isin(X['ID'])]"
   ]
  },
  {
   "cell_type": "markdown",
   "metadata": {},
   "source": [
    "## Validation Scheme"
   ]
  },
  {
   "cell_type": "markdown",
   "metadata": {},
   "source": [
    "Before proceeding to the Hyperparameter search, it is necessary first to have some way to reliably measure the performance of the model. For this purpose, it will be used a Time Split Cross Validation Method, were the \"Test\" Fold for each Iteration is going to be used as the Validation Data, and so, to make Early Stopping on the data."
   ]
  },
  {
   "cell_type": "code",
   "execution_count": 5,
   "metadata": {},
   "outputs": [],
   "source": [
    "k_fold_splits = 8\n",
    "num_boost_round = 10\n",
    "early_stopping_rounds = 1"
   ]
  },
  {
   "cell_type": "code",
   "execution_count": 6,
   "metadata": {},
   "outputs": [],
   "source": [
    "def objective(param,k_fold_splits=k_fold_splits,num_boost_round=num_boost_round,early_stopping_rounds=early_stopping_rounds):\n",
    "    # Define Time Split Cross Validation\n",
    "    tscv = TimeSeriesSplit(n_splits=k_fold_splits)\n",
    "\n",
    "    # Set XGBoost for GPU\n",
    "    param['tree_method'] = 'gpu_hist'\n",
    "\n",
    "    progress = dict() # Dict to save Results\n",
    "    scores = np.empty(0) # Append Scores of each Fold to get Mean Score\n",
    "    \n",
    "    for train_index, val_index in tscv.split(X):\n",
    "        # Get the Data of the Split\n",
    "        X_train, X_val = X.iloc[train_index], X.iloc[val_index]\n",
    "        y_train, y_val = y.iloc[train_index], y.iloc[val_index]\n",
    "        dtrain = xgb.DMatrix(X_train.drop(['ID','WF','Set'],axis=1),label=y_train['Production'])\n",
    "        dval = xgb.DMatrix(X_val.drop(['ID','WF','Set'],axis=1),label=y_val['Production'])\n",
    "\n",
    "        # Train the Model\n",
    "        watchlist = [(dtrain,'train'),(dval,'eval')]\n",
    "        bst = xgb.train(param, dtrain, num_boost_round=num_boost_round, evals=watchlist, feval=metric_cnr,early_stopping_rounds=early_stopping_rounds,evals_result=progress)\n",
    "        scores = np.append(scores,progress['eval']['CAPE'][-1])\n",
    "\n",
    "    return {'loss': scores.mean(), 'params': param, 'status': STATUS_OK}"
   ]
  },
  {
   "cell_type": "markdown",
   "metadata": {},
   "source": [
    "## Hyperparameter Tuning"
   ]
  },
  {
   "cell_type": "markdown",
   "metadata": {},
   "source": [
    "For the Hyperparameter Tuning, the HyperOpt Library will be used, which implements some techniques for a more efficient search for parameters."
   ]
  },
  {
   "cell_type": "markdown",
   "metadata": {},
   "source": [
    "### Domain Space"
   ]
  },
  {
   "cell_type": "code",
   "execution_count": 7,
   "metadata": {},
   "outputs": [],
   "source": [
    "space = {\n",
    "    'max_depth' : hp.randint('max_depth', 15),\n",
    "    'subsample' : hp.uniform('subsample', 0, 1),\n",
    "    'colsample_bytree' : hp.uniform('colsample_bytree', 0, 1),\n",
    "    'colsample_bylevel' : hp.uniform('colsample_bylevel', 0, 1),\n",
    "    'min_child_weight' : hp.uniform('min_child_weight', 0, 10),\n",
    "    'lambda' : hp.uniform('lambda', 0, 1),\n",
    "    'alpha' : hp.uniform('alpha', 0, 1),\n",
    "    'eta' : hp.uniform('eta', 0, 1)\n",
    "}"
   ]
  },
  {
   "cell_type": "markdown",
   "metadata": {},
   "source": [
    "### Optimization Algorithm"
   ]
  },
  {
   "cell_type": "code",
   "execution_count": 8,
   "metadata": {},
   "outputs": [],
   "source": [
    "tpe_algorithm = tpe.suggest\n",
    "bayes_trials = Trials()"
   ]
  },
  {
   "cell_type": "markdown",
   "metadata": {},
   "source": [
    "### Bayesian Optimization"
   ]
  },
  {
   "cell_type": "code",
   "execution_count": 9,
   "metadata": {},
   "outputs": [],
   "source": [
    "MAX_EVALS = 10"
   ]
  },
  {
   "cell_type": "code",
   "execution_count": 10,
   "metadata": {
    "tags": [
     "outputPrepend",
     "outputPrepend",
     "outputPrepend",
     "outputPrepend",
     "outputPrepend",
     "outputPrepend",
     "outputPrepend",
     "outputPrepend",
     "outputPrepend",
     "outputPrepend",
     "outputPrepend",
     "outputPrepend",
     "outputPrepend",
     "outputPrepend",
     "outputPrepend",
     "outputPrepend",
     "outputPrepend",
     "outputPrepend",
     "outputPrepend",
     "outputPrepend",
     "outputPrepend",
     "outputPrepend",
     "outputPrepend",
     "outputPrepend",
     "outputPrepend",
     "outputPrepend",
     "outputPrepend",
     "outputPrepend",
     "outputPrepend",
     "outputPrepend",
     "outputPrepend",
     "outputPrepend",
     "outputPrepend",
     "outputPrepend",
     "outputPrepend",
     "outputPrepend",
     "outputPrepend",
     "outputPrepend",
     "outputPrepend",
     "outputPrepend",
     "outputPrepend",
     "outputPrepend",
     "outputPrepend",
     "outputPrepend",
     "outputPrepend",
     "outputPrepend",
     "outputPrepend",
     "outputPrepend",
     "outputPrepend",
     "outputPrepend",
     "outputPrepend",
     "outputPrepend",
     "outputPrepend",
     "outputPrepend",
     "outputPrepend",
     "outputPrepend",
     "outputPrepend",
     "outputPrepend",
     "outputPrepend",
     "outputPrepend",
     "outputPrepend",
     "outputPrepend",
     "outputPrepend",
     "outputPrepend",
     "outputPrepend",
     "outputPrepend",
     "outputPrepend",
     "outputPrepend",
     "outputPrepend",
     "outputPrepend",
     "outputPrepend",
     "outputPrepend",
     "outputPrepend",
     "outputPrepend",
     "outputPrepend",
     "outputPrepend",
     "outputPrepend",
     "outputPrepend",
     "outputPrepend",
     "outputPrepend",
     "outputPrepend",
     "outputPrepend",
     "outputPrepend",
     "outputPrepend",
     "outputPrepend",
     "outputPrepend",
     "outputPrepend",
     "outputPrepend",
     "outputPrepend",
     "outputPrepend",
     "outputPrepend",
     "outputPrepend",
     "outputPrepend",
     "outputPrepend",
     "outputPrepend",
     "outputPrepend",
     "outputPrepend",
     "outputPrepend",
     "outputPrepend",
     "outputPrepend"
    ]
   },
   "outputs": [
    {
     "output_type": "stream",
     "name": "stdout",
     "text": "25087499999][3]\ttrain-rmse:1.83968\teval-rmse:1.12517\ttrain-CAPE:64.48514\teval-CAPE:82.52834\n\n 10%|█         | 1/10 [00:02<00:07,  1.20trial/s, best loss: 94.12825087499999][4]\ttrain-rmse:1.66999\teval-rmse:1.05779\ttrain-CAPE:58.86150\teval-CAPE:79.33852\n\n 10%|█         | 1/10 [00:02<00:07,  1.20trial/s, best loss: 94.12825087499999][5]\ttrain-rmse:1.52377\teval-rmse:1.00331\ttrain-CAPE:53.96324\teval-CAPE:76.88695\n\n 10%|█         | 1/10 [00:02<00:07,  1.20trial/s, best loss: 94.12825087499999][6]\ttrain-rmse:1.39916\teval-rmse:0.97267\ttrain-CAPE:50.19463\teval-CAPE:76.44528\n\n 10%|█         | 1/10 [00:02<00:07,  1.20trial/s, best loss: 94.12825087499999][7]\ttrain-rmse:1.29404\teval-rmse:0.96278\ttrain-CAPE:46.95075\teval-CAPE:76.27942\n\n 10%|█         | 1/10 [00:02<00:07,  1.20trial/s, best loss: 94.12825087499999][8]\ttrain-rmse:1.19824\teval-rmse:0.95266\ttrain-CAPE:43.74177\teval-CAPE:75.96969\n\n 10%|█         | 1/10 [00:02<00:07,  1.20trial/s, best loss: 94.12825087499999][9]\ttrain-rmse:1.10820\teval-rmse:0.94565\ttrain-CAPE:40.63926\teval-CAPE:75.44468\n\n 10%|█         | 1/10 [00:02<00:07,  1.20trial/s, best loss: 94.12825087499999][0]\ttrain-rmse:2.27749\teval-rmse:1.85622\ttrain-CAPE:86.64480\teval-CAPE:87.39808\n\n 10%|█         | 1/10 [00:02<00:07,  1.20trial/s, best loss: 94.12825087499999]Multiple eval metrics have been passed: 'eval-CAPE' will be used for early stopping.\n\n\n 10%|█         | 1/10 [00:02<00:07,  1.20trial/s, best loss: 94.12825087499999]Will train until eval-CAPE hasn't improved in 1 rounds.\n\n 10%|█         | 1/10 [00:02<00:07,  1.20trial/s, best loss: 94.12825087499999][1]\ttrain-rmse:2.06007\teval-rmse:1.65010\ttrain-CAPE:79.15201\teval-CAPE:78.08244\n\n 10%|█         | 1/10 [00:02<00:07,  1.20trial/s, best loss: 94.12825087499999][2]\ttrain-rmse:1.87014\teval-rmse:1.45275\ttrain-CAPE:72.66434\teval-CAPE:69.36042\n\n 10%|█         | 1/10 [00:02<00:07,  1.20trial/s, best loss: 94.12825087499999][3]\ttrain-rmse:1.69219\teval-rmse:1.28753\ttrain-CAPE:66.15620\teval-CAPE:61.83095\n\n 10%|█         | 1/10 [00:02<00:07,  1.20trial/s, best loss: 94.12825087499999][4]\ttrain-rmse:1.54474\teval-rmse:1.14016\ttrain-CAPE:60.83140\teval-CAPE:55.24536\n\n 10%|█         | 1/10 [00:02<00:07,  1.20trial/s, best loss: 94.12825087499999][5]\ttrain-rmse:1.42077\teval-rmse:1.03523\ttrain-CAPE:56.34159\teval-CAPE:50.56213\n\n 10%|█         | 1/10 [00:02<00:07,  1.20trial/s, best loss: 94.12825087499999][6]\ttrain-rmse:1.31330\teval-rmse:0.95226\ttrain-CAPE:52.74312\teval-CAPE:47.63673\n\n 10%|█         | 1/10 [00:02<00:07,  1.20trial/s, best loss: 94.12825087499999][7]\ttrain-rmse:1.22427\teval-rmse:0.90210\ttrain-CAPE:49.45918\teval-CAPE:45.84284\n\n 10%|█         | 1/10 [00:02<00:07,  1.20trial/s, best loss: 94.12825087499999][8]\ttrain-rmse:1.14175\teval-rmse:0.86162\ttrain-CAPE:46.43196\teval-CAPE:43.77920\n\n 10%|█         | 1/10 [00:02<00:07,  1.20trial/s, best loss: 94.12825087499999][9]\ttrain-rmse:1.05965\teval-rmse:0.83616\ttrain-CAPE:43.30521\teval-CAPE:42.22118\n\n 10%|█         | 1/10 [00:03<00:07,  1.20trial/s, best loss: 94.12825087499999][0]\ttrain-rmse:2.21609\teval-rmse:3.60396\ttrain-CAPE:87.19033\teval-CAPE:89.26353\n\n 10%|█         | 1/10 [00:03<00:07,  1.20trial/s, best loss: 94.12825087499999]Multiple eval metrics have been passed: 'eval-CAPE' will be used for early stopping.\n\n\n 10%|█         | 1/10 [00:03<00:07,  1.20trial/s, best loss: 94.12825087499999]Will train until eval-CAPE hasn't improved in 1 rounds.\n\n 10%|█         | 1/10 [00:03<00:07,  1.20trial/s, best loss: 94.12825087499999][1]\ttrain-rmse:2.00798\teval-rmse:3.41645\ttrain-CAPE:79.51421\teval-CAPE:84.63533\n\n 10%|█         | 1/10 [00:03<00:07,  1.20trial/s, best loss: 94.12825087499999][2]\ttrain-rmse:1.82582\teval-rmse:3.19755\ttrain-CAPE:72.83677\teval-CAPE:79.31444\n\n 10%|█         | 1/10 [00:03<00:07,  1.20trial/s, best loss: 94.12825087499999][3]\ttrain-rmse:1.65393\teval-rmse:3.03146\ttrain-CAPE:66.33857\teval-CAPE:74.83856\n\n 10%|█         | 1/10 [00:03<00:07,  1.20trial/s, best loss: 94.12825087499999][4]\ttrain-rmse:1.51623\teval-rmse:2.89554\ttrain-CAPE:60.94366\teval-CAPE:71.53222\n\n 10%|█         | 1/10 [00:03<00:07,  1.20trial/s, best loss: 94.12825087499999][5]\ttrain-rmse:1.39247\teval-rmse:2.78108\ttrain-CAPE:56.17937\teval-CAPE:68.28333\n\n 10%|█         | 1/10 [00:03<00:07,  1.20trial/s, best loss: 94.12825087499999][6]\ttrain-rmse:1.28499\teval-rmse:2.68835\ttrain-CAPE:52.35997\teval-CAPE:65.79396\n\n 10%|█         | 1/10 [00:03<00:07,  1.20trial/s, best loss: 94.12825087499999][7]\ttrain-rmse:1.19806\teval-rmse:2.62744\ttrain-CAPE:49.28140\teval-CAPE:64.06242\n\n 10%|█         | 1/10 [00:03<00:07,  1.20trial/s, best loss: 94.12825087499999][8]\ttrain-rmse:1.11638\teval-rmse:2.55423\ttrain-CAPE:46.15890\teval-CAPE:61.81945\n\n 10%|█         | 1/10 [00:03<00:07,  1.20trial/s, best loss: 94.12825087499999][9]\ttrain-rmse:1.04106\teval-rmse:2.48511\ttrain-CAPE:43.16448\teval-CAPE:59.89308\n\n 10%|█         | 1/10 [00:03<00:07,  1.20trial/s, best loss: 94.12825087499999][0]\ttrain-rmse:2.48873\teval-rmse:4.62093\ttrain-CAPE:87.88736\teval-CAPE:88.10171\n\n 10%|█         | 1/10 [00:03<00:07,  1.20trial/s, best loss: 94.12825087499999]Multiple eval metrics have been passed: 'eval-CAPE' will be used for early stopping.\n\n\n 10%|█         | 1/10 [00:03<00:07,  1.20trial/s, best loss: 94.12825087499999]Will train until eval-CAPE hasn't improved in 1 rounds.\n\n 10%|█         | 1/10 [00:03<00:07,  1.20trial/s, best loss: 94.12825087499999][1]\ttrain-rmse:2.27179\teval-rmse:4.31420\ttrain-CAPE:80.57428\teval-CAPE:81.86136\n\n 10%|█         | 1/10 [00:03<00:07,  1.20trial/s, best loss: 94.12825087499999][2]\ttrain-rmse:2.06795\teval-rmse:4.17416\ttrain-CAPE:73.78406\teval-CAPE:78.78100\n\n 10%|█         | 1/10 [00:04<00:07,  1.20trial/s, best loss: 94.12825087499999][3]\ttrain-rmse:1.88502\teval-rmse:3.91815\ttrain-CAPE:67.59334\teval-CAPE:74.30833\n\n 10%|█         | 1/10 [00:04<00:07,  1.20trial/s, best loss: 94.12825087499999][4]\ttrain-rmse:1.74440\teval-rmse:3.65229\ttrain-CAPE:62.60207\teval-CAPE:69.69732\n\n 10%|█         | 1/10 [00:04<00:07,  1.20trial/s, best loss: 94.12825087499999][5]\ttrain-rmse:1.61564\teval-rmse:3.46198\ttrain-CAPE:58.13439\teval-CAPE:66.33006\n\n 10%|█         | 1/10 [00:04<00:07,  1.20trial/s, best loss: 94.12825087499999][6]\ttrain-rmse:1.50919\teval-rmse:3.46574\ttrain-CAPE:54.61042\teval-CAPE:66.10825\n\n 10%|█         | 1/10 [00:04<00:07,  1.20trial/s, best loss: 94.12825087499999][7]\ttrain-rmse:1.41823\teval-rmse:3.40395\ttrain-CAPE:51.68093\teval-CAPE:64.86880\n\n 10%|█         | 1/10 [00:04<00:07,  1.20trial/s, best loss: 94.12825087499999][8]\ttrain-rmse:1.32985\teval-rmse:3.24964\ttrain-CAPE:48.50881\teval-CAPE:61.84760\n\n 10%|█         | 1/10 [00:04<00:07,  1.20trial/s, best loss: 94.12825087499999][9]\ttrain-rmse:1.24661\teval-rmse:3.11237\ttrain-CAPE:45.52817\teval-CAPE:59.35082\n\n 10%|█         | 1/10 [00:04<00:07,  1.20trial/s, best loss: 94.12825087499999][0]\ttrain-rmse:2.81746\teval-rmse:2.96727\ttrain-CAPE:86.39990\teval-CAPE:90.37586\n\n 10%|█         | 1/10 [00:04<00:07,  1.20trial/s, best loss: 94.12825087499999]Multiple eval metrics have been passed: 'eval-CAPE' will be used for early stopping.\n\n\n 10%|█         | 1/10 [00:04<00:07,  1.20trial/s, best loss: 94.12825087499999]Will train until eval-CAPE hasn't improved in 1 rounds.\n\n 10%|█         | 1/10 [00:04<00:07,  1.20trial/s, best loss: 94.12825087499999][1]\ttrain-rmse:2.56046\teval-rmse:2.76137\ttrain-CAPE:78.80548\teval-CAPE:84.97851\n\n 10%|█         | 1/10 [00:04<00:07,  1.20trial/s, best loss: 94.12825087499999][2]\ttrain-rmse:2.32874\teval-rmse:2.55752\ttrain-CAPE:72.02011\teval-CAPE:79.20585\n\n 10%|█         | 1/10 [00:04<00:07,  1.20trial/s, best loss: 94.12825087499999][3]\ttrain-rmse:2.12042\teval-rmse:2.39619\ttrain-CAPE:66.02671\teval-CAPE:75.40099\n\n 10%|█         | 1/10 [00:04<00:07,  1.20trial/s, best loss: 94.12825087499999][4]\ttrain-rmse:1.94859\teval-rmse:2.23306\ttrain-CAPE:61.08800\teval-CAPE:71.49425\n\n 10%|█         | 1/10 [00:04<00:07,  1.20trial/s, best loss: 94.12825087499999][5]\ttrain-rmse:1.79433\teval-rmse:2.11869\ttrain-CAPE:56.33608\teval-CAPE:68.73204\n\n 10%|█         | 1/10 [00:04<00:07,  1.20trial/s, best loss: 94.12825087499999][6]\ttrain-rmse:1.65950\teval-rmse:2.07548\ttrain-CAPE:52.49996\teval-CAPE:67.40786\n\n 10%|█         | 1/10 [00:04<00:07,  1.20trial/s, best loss: 94.12825087499999][7]\ttrain-rmse:1.55021\teval-rmse:2.02339\ttrain-CAPE:49.35753\teval-CAPE:66.57687\n\n 10%|█         | 1/10 [00:05<00:07,  1.20trial/s, best loss: 94.12825087499999][8]\ttrain-rmse:1.45174\teval-rmse:1.99392\ttrain-CAPE:46.19486\teval-CAPE:65.70505\n\n 10%|█         | 1/10 [00:05<00:07,  1.20trial/s, best loss: 94.12825087499999][9]\ttrain-rmse:1.36226\teval-rmse:1.95799\ttrain-CAPE:43.30926\teval-CAPE:64.70952\n\n 10%|█         | 1/10 [00:05<00:07,  1.20trial/s, best loss: 94.12825087499999][0]\ttrain-rmse:2.85474\teval-rmse:5.28439\ttrain-CAPE:87.65180\teval-CAPE:88.60925\n\n 10%|█         | 1/10 [00:05<00:07,  1.20trial/s, best loss: 94.12825087499999]Multiple eval metrics have been passed: 'eval-CAPE' will be used for early stopping.\n\n\n 10%|█         | 1/10 [00:05<00:07,  1.20trial/s, best loss: 94.12825087499999]Will train until eval-CAPE hasn't improved in 1 rounds.\n\n 10%|█         | 1/10 [00:05<00:07,  1.20trial/s, best loss: 94.12825087499999][1]\ttrain-rmse:2.61228\teval-rmse:4.84956\ttrain-CAPE:80.68847\teval-CAPE:81.72305\n\n 10%|█         | 1/10 [00:05<00:07,  1.20trial/s, best loss: 94.12825087499999][2]\ttrain-rmse:2.37285\teval-rmse:4.73398\ttrain-CAPE:73.66002\teval-CAPE:79.61893\n\n 10%|█         | 1/10 [00:05<00:07,  1.20trial/s, best loss: 94.12825087499999][3]\ttrain-rmse:2.16449\teval-rmse:4.40571\ttrain-CAPE:67.32374\teval-CAPE:74.24233\n\n 10%|█         | 1/10 [00:05<00:07,  1.20trial/s, best loss: 94.12825087499999][4]\ttrain-rmse:1.99951\teval-rmse:4.18568\ttrain-CAPE:62.50747\teval-CAPE:70.34072\n\n 10%|█         | 1/10 [00:05<00:07,  1.20trial/s, best loss: 94.12825087499999][5]\ttrain-rmse:1.84441\teval-rmse:4.14221\ttrain-CAPE:57.71420\teval-CAPE:69.30632\n\n 10%|█         | 1/10 [00:05<00:07,  1.20trial/s, best loss: 94.12825087499999][6]\ttrain-rmse:1.71583\teval-rmse:4.05656\ttrain-CAPE:54.09867\teval-CAPE:67.56353\n\n 10%|█         | 1/10 [00:05<00:07,  1.20trial/s, best loss: 94.12825087499999][7]\ttrain-rmse:1.61054\teval-rmse:4.01731\ttrain-CAPE:51.11043\teval-CAPE:66.52166\n\n 10%|█         | 1/10 [00:05<00:07,  1.20trial/s, best loss: 94.12825087499999][8]\ttrain-rmse:1.51131\teval-rmse:4.00576\ttrain-CAPE:48.00579\teval-CAPE:65.84845\n\n 10%|█         | 1/10 [00:05<00:07,  1.20trial/s, best loss: 94.12825087499999][9]\ttrain-rmse:1.42495\teval-rmse:3.84383\ttrain-CAPE:45.27643\teval-CAPE:63.03391\n\n 20%|██        | 2/10 [00:05<00:16,  2.11s/trial, best loss: 59.384975125][0]\ttrain-rmse:1.91455\teval-rmse:2.26069\ttrain-CAPE:71.47627\teval-CAPE:72.44816\n\n 20%|██        | 2/10 [00:06<00:16,  2.11s/trial, best loss: 59.384975125]Multiple eval metrics have been passed: 'eval-CAPE' will be used for early stopping.\n\n\n 20%|██        | 2/10 [00:06<00:16,  2.11s/trial, best loss: 59.384975125]Will train until eval-CAPE hasn't improved in 1 rounds.\n\n 20%|██        | 2/10 [00:06<00:16,  2.11s/trial, best loss: 59.384975125][1]\ttrain-rmse:1.48185\teval-rmse:1.93203\ttrain-CAPE:55.45749\teval-CAPE:62.61170\n\n 20%|██        | 2/10 [00:06<00:16,  2.11s/trial, best loss: 59.384975125][2]\ttrain-rmse:1.27158\teval-rmse:1.86695\ttrain-CAPE:48.09727\teval-CAPE:62.28824\n\n 20%|██        | 2/10 [00:06<00:16,  2.11s/trial, best loss: 59.384975125][3]\ttrain-rmse:1.13953\teval-rmse:1.73146\ttrain-CAPE:43.85292\teval-CAPE:58.56666\n\n 20%|██        | 2/10 [00:06<00:16,  2.11s/trial, best loss: 59.384975125][4]\ttrain-rmse:1.02673\teval-rmse:1.73091\ttrain-CAPE:40.62502\teval-CAPE:57.83452\n\n 20%|██        | 2/10 [00:06<00:16,  2.11s/trial, best loss: 59.384975125][5]\ttrain-rmse:0.96990\teval-rmse:1.68580\ttrain-CAPE:38.53489\teval-CAPE:56.19299\n\n 20%|██        | 2/10 [00:06<00:16,  2.11s/trial, best loss: 59.384975125][6]\ttrain-rmse:0.93019\teval-rmse:1.71120\ttrain-CAPE:36.12214\teval-CAPE:56.54667\n\n 20%|██        | 2/10 [00:06<00:16,  2.11s/trial, best loss: 59.384975125]Stopping. Best iteration:\n[5]\ttrain-rmse:0.96990\teval-rmse:1.68580\ttrain-CAPE:38.53489\teval-CAPE:56.19299\n\n\n 20%|██        | 2/10 [00:06<00:16,  2.11s/trial, best loss: 59.384975125][0]\ttrain-rmse:1.82612\teval-rmse:1.61720\ttrain-CAPE:59.97081\teval-CAPE:68.69131\n\n 20%|██        | 2/10 [00:06<00:16,  2.11s/trial, best loss: 59.384975125]Multiple eval metrics have been passed: 'eval-CAPE' will be used for early stopping.\n\n\n 20%|██        | 2/10 [00:06<00:16,  2.11s/trial, best loss: 59.384975125]Will train until eval-CAPE hasn't improved in 1 rounds.\n\n 20%|██        | 2/10 [00:06<00:16,  2.11s/trial, best loss: 59.384975125][1]\ttrain-rmse:1.37396\teval-rmse:1.54667\ttrain-CAPE:46.70223\teval-CAPE:64.65753\n\n 20%|██        | 2/10 [00:06<00:16,  2.11s/trial, best loss: 59.384975125][2]\ttrain-rmse:1.16100\teval-rmse:1.56069\ttrain-CAPE:40.02891\teval-CAPE:64.60784\n\n 20%|██        | 2/10 [00:06<00:16,  2.11s/trial, best loss: 59.384975125][3]\ttrain-rmse:1.04700\teval-rmse:1.42132\ttrain-CAPE:36.87755\teval-CAPE:59.36840\n\n 20%|██        | 2/10 [00:06<00:16,  2.11s/trial, best loss: 59.384975125][4]\ttrain-rmse:0.95803\teval-rmse:1.39039\ttrain-CAPE:33.72866\teval-CAPE:58.36987\n\n 20%|██        | 2/10 [00:06<00:16,  2.11s/trial, best loss: 59.384975125][5]\ttrain-rmse:0.91489\teval-rmse:1.37997\ttrain-CAPE:32.16997\teval-CAPE:57.81159\n\n 20%|██        | 2/10 [00:06<00:16,  2.11s/trial, best loss: 59.384975125][6]\ttrain-rmse:0.87508\teval-rmse:1.39639\ttrain-CAPE:31.06992\teval-CAPE:58.56346\n\n 20%|██        | 2/10 [00:06<00:16,  2.11s/trial, best loss: 59.384975125]Stopping. Best iteration:\n[5]\ttrain-rmse:0.91489\teval-rmse:1.37997\ttrain-CAPE:32.16997\teval-CAPE:57.81159\n\n\n 20%|██        | 2/10 [00:06<00:16,  2.11s/trial, best loss: 59.384975125][0]\ttrain-rmse:1.73649\teval-rmse:1.15746\ttrain-CAPE:61.87831\teval-CAPE:86.95802\n\n 20%|██        | 2/10 [00:06<00:16,  2.11s/trial, best loss: 59.384975125]Multiple eval metrics have been passed: 'eval-CAPE' will be used for early stopping.\n\n\n 20%|██        | 2/10 [00:06<00:16,  2.11s/trial, best loss: 59.384975125]Will train until eval-CAPE hasn't improved in 1 rounds.\n\n 20%|██        | 2/10 [00:06<00:16,  2.11s/trial, best loss: 59.384975125][1]\ttrain-rmse:1.32515\teval-rmse:1.16349\ttrain-CAPE:48.64649\teval-CAPE:90.25653\n\n 20%|██        | 2/10 [00:06<00:16,  2.11s/trial, best loss: 59.384975125]Stopping. Best iteration:\n[0]\ttrain-rmse:1.73649\teval-rmse:1.15746\ttrain-CAPE:61.87831\teval-CAPE:86.95802\n\n\n 20%|██        | 2/10 [00:06<00:16,  2.11s/trial, best loss: 59.384975125][0]\ttrain-rmse:1.60870\teval-rmse:1.15733\ttrain-CAPE:63.96127\teval-CAPE:57.68047\n\n 20%|██        | 2/10 [00:06<00:16,  2.11s/trial, best loss: 59.384975125]Multiple eval metrics have been passed: 'eval-CAPE' will be used for early stopping.\n\n\n 20%|██        | 2/10 [00:06<00:16,  2.11s/trial, best loss: 59.384975125]Will train until eval-CAPE hasn't improved in 1 rounds.\n\n 20%|██        | 2/10 [00:06<00:16,  2.11s/trial, best loss: 59.384975125][1]\ttrain-rmse:1.24917\teval-rmse:1.03584\ttrain-CAPE:51.66393\teval-CAPE:51.26877\n\n 20%|██        | 2/10 [00:06<00:16,  2.11s/trial, best loss: 59.384975125][2]\ttrain-rmse:1.07456\teval-rmse:1.03576\ttrain-CAPE:44.63364\teval-CAPE:51.08722\n\n 20%|██        | 2/10 [00:06<00:16,  2.11s/trial, best loss: 59.384975125][3]\ttrain-rmse:0.97919\teval-rmse:1.04110\ttrain-CAPE:40.32539\teval-CAPE:50.28574\n\n 20%|██        | 2/10 [00:06<00:16,  2.11s/trial, best loss: 59.384975125][4]\ttrain-rmse:0.90033\teval-rmse:1.05964\ttrain-CAPE:36.92060\teval-CAPE:49.44134\n\n 20%|██        | 2/10 [00:06<00:16,  2.11s/trial, best loss: 59.384975125][5]\ttrain-rmse:0.87724\teval-rmse:1.06858\ttrain-CAPE:35.98357\teval-CAPE:49.78866\n\n 20%|██        | 2/10 [00:06<00:16,  2.11s/trial, best loss: 59.384975125]Stopping. Best iteration:\n[4]\ttrain-rmse:0.90033\teval-rmse:1.05964\ttrain-CAPE:36.92060\teval-CAPE:49.44134\n\n\n 20%|██        | 2/10 [00:06<00:16,  2.11s/trial, best loss: 59.384975125][0]\ttrain-rmse:1.54574\teval-rmse:3.02677\ttrain-CAPE:62.91860\teval-CAPE:74.64899\n\n 20%|██        | 2/10 [00:07<00:16,  2.11s/trial, best loss: 59.384975125]Multiple eval metrics have been passed: 'eval-CAPE' will be used for early stopping.\n\n\n 20%|██        | 2/10 [00:07<00:16,  2.11s/trial, best loss: 59.384975125]Will train until eval-CAPE hasn't improved in 1 rounds.\n\n 20%|██        | 2/10 [00:07<00:16,  2.11s/trial, best loss: 59.384975125][1]\ttrain-rmse:1.17698\teval-rmse:2.64967\ttrain-CAPE:49.24327\teval-CAPE:63.38170\n\n 20%|██        | 2/10 [00:07<00:16,  2.11s/trial, best loss: 59.384975125][2]\ttrain-rmse:1.02073\teval-rmse:2.38731\ttrain-CAPE:42.81885\teval-CAPE:57.13918\n\n 20%|██        | 2/10 [00:07<00:16,  2.11s/trial, best loss: 59.384975125][3]\ttrain-rmse:0.91627\teval-rmse:2.30577\ttrain-CAPE:38.25785\teval-CAPE:54.68531\n\n 20%|██        | 2/10 [00:07<00:16,  2.11s/trial, best loss: 59.384975125][4]\ttrain-rmse:0.84412\teval-rmse:2.23634\ttrain-CAPE:35.20026\teval-CAPE:52.65254\n\n 20%|██        | 2/10 [00:07<00:16,  2.11s/trial, best loss: 59.384975125][5]\ttrain-rmse:0.81576\teval-rmse:2.23435\ttrain-CAPE:34.09213\teval-CAPE:52.47570\n\n 20%|██        | 2/10 [00:07<00:16,  2.11s/trial, best loss: 59.384975125][6]\ttrain-rmse:0.78540\teval-rmse:2.22450\ttrain-CAPE:32.88419\teval-CAPE:52.12725\n\n 20%|██        | 2/10 [00:07<00:16,  2.11s/trial, best loss: 59.384975125][7]\ttrain-rmse:0.76538\teval-rmse:2.22247\ttrain-CAPE:32.19676\teval-CAPE:51.96527\n\n 20%|██        | 2/10 [00:07<00:16,  2.11s/trial, best loss: 59.384975125][8]\ttrain-rmse:0.75365\teval-rmse:2.23609\ttrain-CAPE:31.80437\teval-CAPE:52.28734\n\n 20%|██        | 2/10 [00:07<00:16,  2.11s/trial, best loss: 59.384975125]Stopping. Best iteration:\n[7]\ttrain-rmse:0.76538\teval-rmse:2.22247\ttrain-CAPE:32.19676\teval-CAPE:51.96527\n\n\n 20%|██        | 2/10 [00:07<00:16,  2.11s/trial, best loss: 59.384975125][0]\ttrain-rmse:1.89427\teval-rmse:4.06074\ttrain-CAPE:67.91713\teval-CAPE:75.52425\n\n 20%|██        | 2/10 [00:07<00:16,  2.11s/trial, best loss: 59.384975125]Multiple eval metrics have been passed: 'eval-CAPE' will be used for early stopping.\n\n\n 20%|██        | 2/10 [00:07<00:16,  2.11s/trial, best loss: 59.384975125]Will train until eval-CAPE hasn't improved in 1 rounds.\n\n 20%|██        | 2/10 [00:07<00:16,  2.11s/trial, best loss: 59.384975125][1]\ttrain-rmse:1.46997\teval-rmse:3.28458\ttrain-CAPE:54.59956\teval-CAPE:62.70616\n\n 20%|██        | 2/10 [00:07<00:16,  2.11s/trial, best loss: 59.384975125][2]\ttrain-rmse:1.26850\teval-rmse:3.43725\ttrain-CAPE:47.08465\teval-CAPE:67.71469\n\n 20%|██        | 2/10 [00:07<00:16,  2.11s/trial, best loss: 59.384975125]Stopping. Best iteration:\n[1]\ttrain-rmse:1.46997\teval-rmse:3.28458\ttrain-CAPE:54.59956\teval-CAPE:62.70616\n\n\n 20%|██        | 2/10 [00:07<00:16,  2.11s/trial, best loss: 59.384975125][0]\ttrain-rmse:2.11482\teval-rmse:2.51362\ttrain-CAPE:67.58722\teval-CAPE:79.62666\n\n 20%|██        | 2/10 [00:07<00:16,  2.11s/trial, best loss: 59.384975125]Multiple eval metrics have been passed: 'eval-CAPE' will be used for early stopping.\n\n\n 20%|██        | 2/10 [00:07<00:16,  2.11s/trial, best loss: 59.384975125]Will train until eval-CAPE hasn't improved in 1 rounds.\n\n 20%|██        | 2/10 [00:07<00:16,  2.11s/trial, best loss: 59.384975125][1]\ttrain-rmse:1.64191\teval-rmse:2.32659\ttrain-CAPE:52.25041\teval-CAPE:75.09975\n\n 20%|██        | 2/10 [00:07<00:16,  2.11s/trial, best loss: 59.384975125][2]\ttrain-rmse:1.42181\teval-rmse:2.27405\ttrain-CAPE:45.17544\teval-CAPE:73.84493\n\n 20%|██        | 2/10 [00:07<00:16,  2.11s/trial, best loss: 59.384975125][3]\ttrain-rmse:1.27475\teval-rmse:2.34573\ttrain-CAPE:40.36638\teval-CAPE:78.54520\n\n 20%|██        | 2/10 [00:08<00:16,  2.11s/trial, best loss: 59.384975125]Stopping. Best iteration:\n[2]\ttrain-rmse:1.42181\teval-rmse:2.27405\ttrain-CAPE:45.17544\teval-CAPE:73.84493\n\n\n 20%|██        | 2/10 [00:08<00:16,  2.11s/trial, best loss: 59.384975125][0]\ttrain-rmse:2.05937\teval-rmse:3.94282\ttrain-CAPE:65.32503\teval-CAPE:66.52571\n\n 20%|██        | 2/10 [00:08<00:16,  2.11s/trial, best loss: 59.384975125]"
    }
   ],
   "source": [
    "best = fmin(fn = objective, space = space, algo = tpe.suggest, max_evals = MAX_EVALS, trials = bayes_trials, rstate = np.random.RandomState(50))"
   ]
  },
  {
   "cell_type": "markdown",
   "metadata": {},
   "source": [
    "## Generating Predictions"
   ]
  },
  {
   "cell_type": "code",
   "execution_count": null,
   "metadata": {},
   "outputs": [],
   "source": [
    "X_train = full_data[full_data['Set']=='Train']\n",
    "X_test = full_data[full_data['Set']=='Test']"
   ]
  },
  {
   "cell_type": "markdown",
   "metadata": {},
   "source": [
    "Loop of Wind Farms"
   ]
  },
  {
   "cell_type": "code",
   "execution_count": null,
   "metadata": {},
   "outputs": [],
   "source": []
  }
 ],
 "metadata": {
  "language_info": {
   "codemirror_mode": {
    "name": "ipython",
    "version": 3
   },
   "file_extension": ".py",
   "mimetype": "text/x-python",
   "name": "python",
   "nbconvert_exporter": "python",
   "pygments_lexer": "ipython3",
   "version": "3.7.6-final"
  },
  "orig_nbformat": 2,
  "kernelspec": {
   "name": "python3",
   "display_name": "Python 3"
  }
 },
 "nbformat": 4,
 "nbformat_minor": 2
}