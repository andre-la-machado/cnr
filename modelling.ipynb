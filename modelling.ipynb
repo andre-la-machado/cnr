{
 "cells": [
  {
   "cell_type": "markdown",
   "metadata": {},
   "source": [
    "# Modelling"
   ]
  },
  {
   "cell_type": "markdown",
   "metadata": {},
   "source": [
    "The objective fo this notebook is to utilize some methods to find and determine the optimal model to solve the challenge problem. "
   ]
  },
  {
   "cell_type": "markdown",
   "metadata": {},
   "source": [
    "## Libraries"
   ]
  },
  {
   "cell_type": "code",
   "execution_count": 1,
   "metadata": {},
   "outputs": [],
   "source": [
    "import numpy as np \n",
    "import cupy as cp\n",
    "import pandas as pd\n",
    "from cnr_methods import get_selected_features, transform_data, revert_data,metric_cnr, get_simplified_data\n",
    "import tsfresh\n",
    "\n",
    "\n",
    "from sklearn.model_selection import TimeSeriesSplit, train_test_split\n",
    "from collections import deque\n",
    "from hyperopt import fmin, tpe, hp, Trials, STATUS_OK\n",
    "import xgboost as xgb"
   ]
  },
  {
   "cell_type": "markdown",
   "metadata": {},
   "source": [
    "## Read Data"
   ]
  },
  {
   "cell_type": "markdown",
   "metadata": {},
   "source": [
    "Here, the data used correspond to the results of the Feature Engineering and Selection Step. (Add Later)"
   ]
  },
  {
   "cell_type": "code",
   "execution_count": 2,
   "metadata": {},
   "outputs": [],
   "source": [
    "full_data = get_selected_features(100)\n",
    "\n",
    "full_data = full_data.rename({'Unnamed: 0' : 'Time'},axis=1)\n",
    "full_data = full_data.set_index('Time')\n",
    "\n",
    "\n",
    "full_label = pd.read_csv('Data/Y_train.csv')\n",
    "X = full_data[full_data['Set']=='Train']\n",
    "\n",
    "WF = 'WF1'\n",
    "X = X[X['WF']==WF]\n",
    "y = full_label[full_label['ID'].isin(X['ID'])]"
   ]
  },
  {
   "cell_type": "code",
   "execution_count": 3,
   "metadata": {},
   "outputs": [],
   "source": [
    "X = X.drop(['ID','WF','Set'],axis=1)"
   ]
  },
  {
   "cell_type": "markdown",
   "metadata": {},
   "source": [
    "## Validation Scheme"
   ]
  },
  {
   "cell_type": "markdown",
   "metadata": {},
   "source": [
    "Before proceeding to the Hyperparameter search, it is necessary first to have some way to reliably measure the performance of the model. For this purpose, it will be used a Time Split Cross Validation Method, were the \"Test\" Fold for each Iteration is going to be used as the Validation Data, and so, to make Early Stopping on the data."
   ]
  },
  {
   "cell_type": "code",
   "execution_count": 4,
   "metadata": {},
   "outputs": [],
   "source": [
    "k_fold_splits = 5\n",
    "num_boost_round = 500\n",
    "early_stopping_rounds = 10"
   ]
  },
  {
   "cell_type": "code",
   "execution_count": 5,
   "metadata": {},
   "outputs": [],
   "source": [
    "def gpu_df(df,y):\n",
    "    gpu_matrix = cp.asarray(df)\n",
    "    gpu_matrix = xgb.DMatrix(gpu_matrix,label=y)\n",
    "    return gpu_matrix"
   ]
  },
  {
   "cell_type": "code",
   "execution_count": 6,
   "metadata": {},
   "outputs": [],
   "source": [
    "def objective(param,k_fold_splits=k_fold_splits,num_boost_round=num_boost_round,early_stopping_rounds=early_stopping_rounds):\n",
    "    # Define Time Split Cross Validation\n",
    "    tscv = TimeSeriesSplit(n_splits=k_fold_splits)\n",
    "\n",
    "    # Separating Data from Hold Out Set\n",
    "\n",
    "    X_cv, _, y_cv, _ = train_test_split(X, y, test_size=0.125, shuffle=False)\n",
    "\n",
    "    # Set XGBoost for GPU\n",
    "    param['tree_method'] = 'gpu_hist'\n",
    "\n",
    "    train_scores = np.empty(0)\n",
    "    val_scores = np.empty(0)\n",
    "    test_scores = np.empty(0)\n",
    "    for train_index, test_index in tscv.split(X_cv):\n",
    "\n",
    "        # Get the Data of the Split\n",
    "        X_train, X_test = X_cv.iloc[train_index], X_cv.iloc[test_index]\n",
    "        y_train, y_test = y_cv.iloc[train_index], y_cv.iloc[test_index]\n",
    "\n",
    "        # Separating Training Set of Split on Train and Validation Subsets\n",
    "        X_train, X_val, y_train, y_val = train_test_split(X_train, y_train, test_size=0.143, shuffle=False)\n",
    "\n",
    "        # Transform the Subsets (Diff)\n",
    "        X_train = transform_data(X_train)\n",
    "        X_val = transform_data(X_val)\n",
    "        X_test = transform_data(X_test)\n",
    "\n",
    "        # Apply GPU-DF Transformation\n",
    "        dtrain = gpu_df(X_train,y_train['Production'])\n",
    "        dval = gpu_df(X_val,y_val['Production'])\n",
    "        dtest = gpu_df(X_test,y_test['Production'])\n",
    "\n",
    "        # Train the Model\n",
    "        progress = dict()\n",
    "        watchlist = [(dtrain,'train'),(dval,'eval')]\n",
    "        bst = xgb.train(param, dtrain, num_boost_round=num_boost_round, evals=watchlist, feval=metric_cnr,early_stopping_rounds=early_stopping_rounds,verbose_eval=False,evals_result=progress)\n",
    "\n",
    "        # Train and Validation Score\n",
    "        train_score = np.array(progress['train']['CAPE']).mean()\n",
    "        val_score = np.array(progress['eval']['CAPE']).mean()\n",
    "\n",
    "        # Test Score\n",
    "        preds = bst.predict(dtest,ntree_limit=bst.best_ntree_limit)\n",
    "        test_score = metric_cnr(preds,dtest)\n",
    "\n",
    "        train_scores = np.append(train_scores,train_score)\n",
    "        val_scores = np.append(val_scores,val_score)\n",
    "        test_scores = np.append(test_scores,test_score[1])\n",
    "\n",
    "    return {'loss' : test_scores.mean(), 'params' : param, 'status' : STATUS_OK, 'train_loss' : train_scores.mean(), 'val_loss' : val_scores.mean(), 'test_score_array' : test_scores}"
   ]
  },
  {
   "cell_type": "code",
   "execution_count": 7,
   "metadata": {},
   "outputs": [],
   "source": [
    "def objective_2(param,k_fold_splits=k_fold_splits,num_boost_round=num_boost_round,early_stopping_rounds=early_stopping_rounds):\n",
    "    # Define Time Split Cross Validation\n",
    "    tscv = TimeSeriesSplit(n_splits=k_fold_splits)\n",
    "\n",
    "    # Separating Data from Hold Out Set\n",
    "    X_cv, _, y_cv, _ = train_test_split(X, y, test_size=0.125, shuffle=False)\n",
    "\n",
    "    # Set XGBoost for GPU\n",
    "    param['tree_method'] = 'gpu_hist'\n",
    "\n",
    "    train_scores = np.empty(0)\n",
    "    val_scores = np.empty(0)\n",
    "    for train_index, test_index in tscv.split(X_cv):\n",
    "\n",
    "        # Get the Data of the Split\n",
    "        X_train, X_val = X_cv.iloc[train_index], X_cv.iloc[test_index]\n",
    "        y_train, y_val = y_cv.iloc[train_index], y_cv.iloc[test_index]\n",
    "\n",
    "        # Transform the Subsets (Diff)\n",
    "        X_train, y_train = transform_data(X_train), transform_data(y_train[['Production']])\n",
    "        X_val, y_val = transform_data(X_val), transform_data(y_val[['Production']])\n",
    "\n",
    "        # Apply GPU-DF Transformation\n",
    "        dtrain = gpu_df(X_train,y_train)\n",
    "        dval = gpu_df(X_val,y_val)\n",
    "\n",
    "        # Train the Model\n",
    "        progress = dict()\n",
    "        watchlist = [(dtrain,'train'),(dval,'eval')]\n",
    "        bst = xgb.train(param, dtrain, num_boost_round=num_boost_round, evals=watchlist, feval=metric_cnr,early_stopping_rounds=early_stopping_rounds,verbose_eval=False,evals_result=progress)\n",
    "\n",
    "        # Train Score\n",
    "        train_score = np.array(progress['train']['CAPE']).mean()\n",
    "\n",
    "        # Test Score\n",
    "        preds = bst.predict(dval,ntree_limit=bst.best_ntree_limit)\n",
    "        val_score = metric_cnr(preds,dval)\n",
    "\n",
    "        train_scores = np.append(train_scores,train_score)\n",
    "        val_scores = np.append(val_scores,val_score[1])\n",
    "\n",
    "    return {'loss' : val_scores.mean(), 'params' : param, 'status' : STATUS_OK, 'train_loss' : train_scores.mean()}"
   ]
  },
  {
   "cell_type": "code",
   "execution_count": 8,
   "metadata": {},
   "outputs": [],
   "source": [
    "def objective_3(param,k_fold_splits=k_fold_splits,num_boost_round=num_boost_round,early_stopping_rounds=early_stopping_rounds):\n",
    "    # Define Time Split Cross Validation\n",
    "    tscv = TimeSeriesSplit(n_splits=k_fold_splits)\n",
    "\n",
    "    # Separating Data from Hold Out Set\n",
    "    X_cv, X_hold, y_cv, y_hold = train_test_split(X, y, test_size=0.125, shuffle=False)\n",
    "    X_train, X_val, y_train, y_val = train_test_split(X_cv, y_cv, test_size=0.125, shuffle=False)\n",
    "\n",
    "    # Transform the Subsets (Diff)\n",
    "    X_train, y_train = transform_data(X_train), transform_data(y_train[['Production']])\n",
    "    X_val, y_val = transform_data(X_val), transform_data(y_val[['Production']])\n",
    "    X_hold, y_hold = transform_data(X_hold), transform_data(y_hold[['Production']])\n",
    "\n",
    "    # Apply GPU-DF Transformation\n",
    "    dtrain = gpu_df(X_train,y_train)\n",
    "    dval = gpu_df(X_val,y_val)\n",
    "    dtest = gpu_df(X_test,y_test)\n",
    "\n",
    "    # Set XGBoost for GPU\n",
    "    param['tree_method'] = 'gpu_hist'\n",
    "\n",
    "    progress = dict()\n",
    "    watchlist = [(dtrain,'train'),(dval,'eval')]\n",
    "    bst = xgb.train(param, dtrain, num_boost_round=num_boost_round, evals=watchlist, feval=metric_cnr,early_stopping_rounds=early_stopping_rounds,verbose_eval=False,evals_result=progress)\n",
    "\n",
    "    # Train and Validation Score\n",
    "    train_score = np.array(progress['train']['CAPE']).mean()\n",
    "    val_score = np.array(progress['eval']['CAPE']).mean()\n",
    "\n",
    "    # Test Score\n",
    "    preds = bst.predict(dtest,ntree_limit=bst.best_ntree_limit)\n",
    "    test_score = metric_cnr(preds,dtest)\n",
    "\n",
    "    return {'loss' : test_score, 'params' : param, 'status' : STATUS_OK, 'train_loss' : train_score, 'val_loss' : val_score}"
   ]
  },
  {
   "cell_type": "markdown",
   "metadata": {},
   "source": [
    "## Hyperparameter Tuning"
   ]
  },
  {
   "cell_type": "markdown",
   "metadata": {},
   "source": [
    "For the Hyperparameter Tuning, the HyperOpt Library will be used, which implements some techniques for a more efficient search for parameters."
   ]
  },
  {
   "cell_type": "markdown",
   "metadata": {},
   "source": [
    "### Domain Space"
   ]
  },
  {
   "cell_type": "code",
   "execution_count": 9,
   "metadata": {},
   "outputs": [],
   "source": [
    "space = {\n",
    "    'max_depth' : 1 + hp.randint('max_depth', 15),\n",
    "    'subsample' : hp.uniform('subsample', 0, 1),\n",
    "    'colsample_bytree' : hp.uniform('colsample_bytree', 0, 1),\n",
    "    'colsample_bylevel' : hp.uniform('colsample_bylevel', 0, 1),\n",
    "    'min_child_weight' : hp.uniform('min_child_weight', 0, 10),\n",
    "    'lambda' : hp.uniform('lambda', 0, 1),\n",
    "    'alpha' : hp.uniform('alpha', 0, 1),\n",
    "    'eta' : hp.uniform('eta', 0, 1)\n",
    "}"
   ]
  },
  {
   "cell_type": "markdown",
   "metadata": {},
   "source": [
    "### Optimization Algorithm"
   ]
  },
  {
   "cell_type": "code",
   "execution_count": 10,
   "metadata": {},
   "outputs": [],
   "source": [
    "tpe_algorithm = tpe.suggest\n",
    "bayes_trials = Trials()"
   ]
  },
  {
   "cell_type": "markdown",
   "metadata": {},
   "source": [
    "### Bayesian Optimization"
   ]
  },
  {
   "cell_type": "code",
   "execution_count": 11,
   "metadata": {},
   "outputs": [],
   "source": [
    "MAX_EVALS = 300"
   ]
  },
  {
   "cell_type": "code",
   "execution_count": 12,
   "metadata": {
    "tags": [
     "outputPrepend",
     "outputPrepend",
     "outputPrepend",
     "outputPrepend",
     "outputPrepend",
     "outputPrepend",
     "outputPrepend",
     "outputPrepend",
     "outputPrepend",
     "outputPrepend",
     "outputPrepend",
     "outputPrepend",
     "outputPrepend",
     "outputPrepend",
     "outputPrepend",
     "outputPrepend",
     "outputPrepend",
     "outputPrepend",
     "outputPrepend",
     "outputPrepend",
     "outputPrepend",
     "outputPrepend",
     "outputPrepend",
     "outputPrepend",
     "outputPrepend",
     "outputPrepend",
     "outputPrepend",
     "outputPrepend",
     "outputPrepend",
     "outputPrepend",
     "outputPrepend",
     "outputPrepend",
     "outputPrepend",
     "outputPrepend",
     "outputPrepend",
     "outputPrepend",
     "outputPrepend",
     "outputPrepend",
     "outputPrepend",
     "outputPrepend",
     "outputPrepend",
     "outputPrepend",
     "outputPrepend",
     "outputPrepend",
     "outputPrepend",
     "outputPrepend",
     "outputPrepend",
     "outputPrepend",
     "outputPrepend",
     "outputPrepend",
     "outputPrepend",
     "outputPrepend",
     "outputPrepend",
     "outputPrepend",
     "outputPrepend",
     "outputPrepend",
     "outputPrepend",
     "outputPrepend",
     "outputPrepend",
     "outputPrepend",
     "outputPrepend",
     "outputPrepend",
     "outputPrepend",
     "outputPrepend",
     "outputPrepend",
     "outputPrepend",
     "outputPrepend",
     "outputPrepend",
     "outputPrepend",
     "outputPrepend",
     "outputPrepend",
     "outputPrepend",
     "outputPrepend",
     "outputPrepend",
     "outputPrepend",
     "outputPrepend",
     "outputPrepend",
     "outputPrepend",
     "outputPrepend",
     "outputPrepend",
     "outputPrepend",
     "outputPrepend",
     "outputPrepend",
     "outputPrepend",
     "outputPrepend",
     "outputPrepend",
     "outputPrepend",
     "outputPrepend",
     "outputPrepend",
     "outputPrepend",
     "outputPrepend",
     "outputPrepend",
     "outputPrepend",
     "outputPrepend",
     "outputPrepend",
     "outputPrepend",
     "outputPrepend",
     "outputPrepend",
     "outputPrepend",
     "outputPrepend"
    ]
   },
   "outputs": [
    {
     "output_type": "stream",
     "name": "stdout",
     "text": "100%|██████████| 300/300 [56:33<00:00, 11.31s/trial, best loss: 61.71781122200459]\n"
    }
   ],
   "source": [
    "best = fmin(fn = objective, space = space, algo = tpe.suggest, max_evals = MAX_EVALS, trials = bayes_trials, rstate = np.random.RandomState(50))"
   ]
  },
  {
   "cell_type": "markdown",
   "metadata": {},
   "source": [
    "### Hold Out Score"
   ]
  },
  {
   "cell_type": "code",
   "execution_count": 23,
   "metadata": {},
   "outputs": [],
   "source": [
    "X_train, X_holdout, y_train, y_holdout = train_test_split(X, y, test_size=0.125, shuffle=False)\n",
    "X_holdout = transform_data(X_holdout)\n",
    "dhold = gpu_df(X_holdout,y_holdout['Production'])"
   ]
  },
  {
   "cell_type": "code",
   "execution_count": 25,
   "metadata": {},
   "outputs": [],
   "source": [
    "X_train, X_val, y_train, y_val = train_test_split(X_train, y_train, test_size=0.143, shuffle=False)\n",
    "\n",
    "X_train = transform_data(X_train)\n",
    "X_val = transform_data(X_val)\n",
    "\n",
    "dtrain = gpu_df(X_train,y_train['Production'])\n",
    "dval = gpu_df(X_val,y_val['Production'])"
   ]
  },
  {
   "cell_type": "code",
   "execution_count": 26,
   "metadata": {},
   "outputs": [],
   "source": [
    "progress = dict()\n",
    "watchlist = [(dtrain,'train'),(dval,'eval')]\n",
    "bst = xgb.train(best, dtrain, num_boost_round=num_boost_round, evals=watchlist, feval=metric_cnr,early_stopping_rounds=early_stopping_rounds,verbose_eval=False,evals_result=progress)"
   ]
  },
  {
   "cell_type": "code",
   "execution_count": 27,
   "metadata": {},
   "outputs": [],
   "source": [
    "preds = bst.predict(dhold,ntree_limit=bst.best_ntree_limit)\n",
    "score = metric_cnr(preds,dhold)"
   ]
  },
  {
   "cell_type": "code",
   "execution_count": 28,
   "metadata": {},
   "outputs": [
    {
     "output_type": "stream",
     "name": "stdout",
     "text": "('CAPE', 65.52684202041121)\n"
    }
   ],
   "source": [
    "print(score)"
   ]
  },
  {
   "cell_type": "markdown",
   "metadata": {},
   "source": [
    "## Generating Predictions"
   ]
  },
  {
   "cell_type": "code",
   "execution_count": 36,
   "metadata": {},
   "outputs": [
    {
     "output_type": "execute_result",
     "data": {
      "text/plain": "{'alpha': 0.1417303862640725,\n 'colsample_bylevel': 0.6378675049254598,\n 'colsample_bytree': 0.992550137741651,\n 'eta': 0.1279325116071544,\n 'lambda': 0.21769987564354057,\n 'max_depth': 6,\n 'min_child_weight': 0.9633818080808089,\n 'subsample': 0.468090761379298,\n 'validate_parameters': 1}"
     },
     "metadata": {},
     "execution_count": 36
    }
   ],
   "source": [
    "best"
   ]
  },
  {
   "cell_type": "code",
   "execution_count": 37,
   "metadata": {},
   "outputs": [],
   "source": [
    "preds = []\n",
    "for WF in full_data['WF'].unique():\n",
    "    X_WF = full_data[full_data['WF']==WF]\n",
    "    X_train = X_WF[X_WF['Set']=='Train']\n",
    "    y_train = full_label[full_label['ID'].isin(X_train['ID'])]\n",
    "    X_test = X_WF[X_WF['Set']=='Test']\n",
    "\n",
    "    #Transform Data\n",
    "    X_train = transform_data(X_train.drop(['ID','WF','Set'],axis=1))\n",
    "    X_test = transform_data(X_test.drop(['ID','WF','Set'],axis=1))\n",
    "    dtrain = gpu_df(X_train,y_train['Production'])\n",
    "    dtest = gpu_df(X_test,None)\n",
    "\n",
    "    bst = xgb.train(best,dtrain)\n",
    "    pred = bst.predict(dtest)\n",
    "\n",
    "    preds = np.append(preds,pred)"
   ]
  },
  {
   "cell_type": "markdown",
   "metadata": {},
   "source": [
    "### Generate Submissions"
   ]
  },
  {
   "cell_type": "code",
   "execution_count": 38,
   "metadata": {},
   "outputs": [],
   "source": [
    "preds_id = pd.read_csv(r'C:\\Users\\andre_\\OneDrive\\Documentos\\GitHub\\cnr\\Data\\random_submission_example.csv')['ID']"
   ]
  },
  {
   "cell_type": "code",
   "execution_count": 39,
   "metadata": {},
   "outputs": [],
   "source": [
    "submission = pd.DataFrame()\n",
    "submission['ID'] = preds_id\n",
    "submission['Production'] = preds\n",
    "submission = submission.set_index('ID')"
   ]
  },
  {
   "cell_type": "code",
   "execution_count": 40,
   "metadata": {},
   "outputs": [
    {
     "output_type": "execute_result",
     "data": {
      "text/plain": "       Production\nID               \n37376    0.822704\n37377    0.822704\n37378    0.638979\n37379    0.884808\n37380    1.517015\n...           ...\n73900    0.811004\n73901    0.401514\n73902    0.401514\n73903    0.364643\n73904    0.364643\n\n[36529 rows x 1 columns]",
      "text/html": "<div>\n<style scoped>\n    .dataframe tbody tr th:only-of-type {\n        vertical-align: middle;\n    }\n\n    .dataframe tbody tr th {\n        vertical-align: top;\n    }\n\n    .dataframe thead th {\n        text-align: right;\n    }\n</style>\n<table border=\"1\" class=\"dataframe\">\n  <thead>\n    <tr style=\"text-align: right;\">\n      <th></th>\n      <th>Production</th>\n    </tr>\n    <tr>\n      <th>ID</th>\n      <th></th>\n    </tr>\n  </thead>\n  <tbody>\n    <tr>\n      <th>37376</th>\n      <td>0.822704</td>\n    </tr>\n    <tr>\n      <th>37377</th>\n      <td>0.822704</td>\n    </tr>\n    <tr>\n      <th>37378</th>\n      <td>0.638979</td>\n    </tr>\n    <tr>\n      <th>37379</th>\n      <td>0.884808</td>\n    </tr>\n    <tr>\n      <th>37380</th>\n      <td>1.517015</td>\n    </tr>\n    <tr>\n      <th>...</th>\n      <td>...</td>\n    </tr>\n    <tr>\n      <th>73900</th>\n      <td>0.811004</td>\n    </tr>\n    <tr>\n      <th>73901</th>\n      <td>0.401514</td>\n    </tr>\n    <tr>\n      <th>73902</th>\n      <td>0.401514</td>\n    </tr>\n    <tr>\n      <th>73903</th>\n      <td>0.364643</td>\n    </tr>\n    <tr>\n      <th>73904</th>\n      <td>0.364643</td>\n    </tr>\n  </tbody>\n</table>\n<p>36529 rows × 1 columns</p>\n</div>"
     },
     "metadata": {},
     "execution_count": 40
    }
   ],
   "source": [
    "submission"
   ]
  },
  {
   "cell_type": "code",
   "execution_count": 41,
   "metadata": {},
   "outputs": [],
   "source": [
    "submission.to_csv(r'Data\\Submission.csv')"
   ]
  },
  {
   "cell_type": "code",
   "execution_count": null,
   "metadata": {},
   "outputs": [],
   "source": []
  }
 ],
 "metadata": {
  "language_info": {
   "codemirror_mode": {
    "name": "ipython",
    "version": 3
   },
   "file_extension": ".py",
   "mimetype": "text/x-python",
   "name": "python",
   "nbconvert_exporter": "python",
   "pygments_lexer": "ipython3",
   "version": "3.7.6-final"
  },
  "orig_nbformat": 2,
  "kernelspec": {
   "name": "python3",
   "display_name": "Python 3"
  }
 },
 "nbformat": 4,
 "nbformat_minor": 2
}