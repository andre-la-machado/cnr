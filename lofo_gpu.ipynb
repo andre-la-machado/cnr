{
 "cells": [
  {
   "cell_type": "markdown",
   "metadata": {},
   "source": [
    "# LOFO for GPU"
   ]
  },
  {
   "cell_type": "markdown",
   "metadata": {},
   "source": [
    "## Bibliotecas Utilizadas"
   ]
  },
  {
   "cell_type": "code",
   "execution_count": 1,
   "metadata": {},
   "outputs": [],
   "source": [
    "import numpy as np\n",
    "import cupy as cp\n",
    "import pandas as pd\n",
    "import datetime\n",
    "from cnr_methods import get_simplified_data, metric_cnr\n",
    "\n",
    "from sklearn.model_selection import train_test_split, TimeSeriesSplit\n",
    "import xgboost as xgb"
   ]
  },
  {
   "cell_type": "markdown",
   "metadata": {},
   "source": [
    "## Leave One Feature Out"
   ]
  },
  {
   "cell_type": "code",
   "execution_count": 66,
   "metadata": {},
   "outputs": [],
   "source": [
    "def lofo_df(df,y,features,feature_out):\n",
    "    if feature_out is not None:\n",
    "        df = df.drop(feature_out,axis=1)\n",
    "    gpu_matrix = cp.asarray(df[[feature for feature in features if feature != feature_out]])\n",
    "    gpu_matrix = xgb.DMatrix(gpu_matrix,label=y)\n",
    "    return gpu_matrix"
   ]
  },
  {
   "cell_type": "code",
   "execution_count": 67,
   "metadata": {},
   "outputs": [],
   "source": [
    "def lofo_score(X,y,features,feature_out,model):\n",
    "    feature_df = lofo_df(X,y,features,feature_out=feature_out)\n",
    "    model_params = model.get_xgb_params()\n",
    "    lofo_score = xgb.cv(params=params,dtrain=feature_df, nfold=5)\n",
    "    #lofo_score = cross_validate(estimator=model,X=feature_df,y=y,scoring=scoring,cv=cv,n_jobs=n_jobs)\n",
    "    return lofo_score.iloc[:, [2]].mean()"
   ]
  },
  {
   "cell_type": "code",
   "execution_count": 68,
   "metadata": {},
   "outputs": [],
   "source": [
    "def LOFO_GPU_Importance(X,y,features,model):\n",
    "    base_score = lofo_score(X,y,features,None,model)\n",
    "    scores = np.empty(0)\n",
    "    i = 0\n",
    "    for feature_out in features:\n",
    "        i = i + 1\n",
    "        start_time = datetime.datetime.now()\n",
    "        feature_score = lofo_score(X,y,features,feature_out,model)\n",
    "        scores = np.append(scores,base_score-feature_score)\n",
    "        end_time = datetime.datetime.now()\n",
    "        delta = end_time - start_time\n",
    "        print('{}/{} {}.{} s/it'.format(i,len(features),delta.seconds,delta.microseconds))\n",
    "    importance_df = pd.DataFrame()\n",
    "    importance_df[\"feature\"] = features\n",
    "    importance_df[\"score\"] = scores\n",
    "    return importance_df.sort_values(by='score',ascending=True)"
   ]
  },
  {
   "cell_type": "code",
   "execution_count": 69,
   "metadata": {},
   "outputs": [],
   "source": [
    "x_train = pd.read_csv('Data/X_train.csv')\n",
    "y_train = pd.read_csv('Data/Y_train.csv')"
   ]
  },
  {
   "cell_type": "code",
   "execution_count": 70,
   "metadata": {},
   "outputs": [],
   "source": [
    "features = x_train.drop(['ID','WF','Time'],axis=1).columns\n",
    "model = xgb.XGBRegressor(tree_method='gpu_hist',max_depth=5)\n",
    "cv = KFold(n_splits=5, shuffle=False, random_state=0)\n",
    "scoring = make_scorer(mean_squared_error, greater_is_better=False,)\n",
    "n_jobs=2"
   ]
  },
  {
   "cell_type": "code",
   "execution_count": 71,
   "metadata": {},
   "outputs": [
    {
     "output_type": "stream",
     "name": "stdout",
     "text": "1/102 2.160516 s/it\n2/102 2.192221 s/it\n3/102 2.180734 s/it\n4/102 2.297052 s/it\n5/102 2.92967 s/it\n6/102 2.119747 s/it\n7/102 2.140981 s/it\n8/102 2.125453 s/it\n9/102 2.201463 s/it\n10/102 2.164225 s/it\n11/102 2.93454 s/it\n12/102 2.111707 s/it\n13/102 2.42634 s/it\n14/102 2.18509 s/it\n15/102 2.67307 s/it\n16/102 2.83932 s/it\n17/102 2.59300 s/it\n18/102 2.44056 s/it\n19/102 2.30547 s/it\n20/102 2.10603 s/it\n21/102 2.13918 s/it\n22/102 2.37754 s/it\n23/102 2.195575 s/it\n24/102 2.987015 s/it\n25/102 3.334085 s/it\n26/102 3.170521 s/it\n27/102 2.889383 s/it\n28/102 2.502161 s/it\n29/102 2.454040 s/it\n30/102 2.490076 s/it\n31/102 2.702162 s/it\n32/102 2.305795 s/it\n33/102 2.442085 s/it\n34/102 3.165890 s/it\n35/102 2.577025 s/it\n36/102 2.304734 s/it\n37/102 2.162587 s/it\n38/102 2.215352 s/it\n39/102 2.203236 s/it\n40/102 2.275436 s/it\n41/102 2.189384 s/it\n42/102 2.298511 s/it\n43/102 2.599305 s/it\n44/102 2.821636 s/it\n45/102 2.613248 s/it\n46/102 2.625768 s/it\n47/102 2.304152 s/it\n48/102 2.303443 s/it\n49/102 2.381076 s/it\n50/102 2.317756 s/it\n51/102 2.375595 s/it\n52/102 2.316507 s/it\n53/102 2.294027 s/it\n54/102 2.215267 s/it\n55/102 2.398669 s/it\n56/102 2.349287 s/it\n57/102 2.314916 s/it\n58/102 2.265815 s/it\n59/102 2.188283 s/it\n60/102 2.355846 s/it\n61/102 2.123965 s/it\n62/102 2.107627 s/it\n63/102 2.164486 s/it\n64/102 2.242507 s/it\n65/102 2.424196 s/it\n66/102 2.206478 s/it\n67/102 2.178815 s/it\n68/102 2.259527 s/it\n69/102 2.158674 s/it\n70/102 2.216956 s/it\n71/102 2.424748 s/it\n72/102 2.158273 s/it\n73/102 2.151024 s/it\n74/102 2.130863 s/it\n75/102 2.247952 s/it\n76/102 2.745731 s/it\n77/102 2.254575 s/it\n78/102 2.267792 s/it\n79/102 2.359079 s/it\n80/102 2.277736 s/it\n81/102 2.314208 s/it\n82/102 2.663271 s/it\n83/102 2.342604 s/it\n84/102 2.251392 s/it\n85/102 2.174451 s/it\n86/102 2.146049 s/it\n87/102 2.454020 s/it\n88/102 2.292013 s/it\n89/102 2.89955 s/it\n90/102 2.244099 s/it\n91/102 2.153225 s/it\n92/102 2.113045 s/it\n93/102 2.122047 s/it\n94/102 2.82233 s/it\n95/102 2.86243 s/it\n96/102 2.105753 s/it\n97/102 2.224314 s/it\n98/102 2.91550 s/it\n99/102 2.64925 s/it\n100/102 2.101377 s/it\n101/102 2.89895 s/it\n102/102 2.92064 s/it\n"
    }
   ],
   "source": [
    "importance_df = LOFO_GPU_Importance(x_train,y_train['Production'],features,model)"
   ]
  },
  {
   "cell_type": "code",
   "execution_count": 72,
   "metadata": {},
   "outputs": [
    {
     "output_type": "execute_result",
     "data": {
      "text/plain": "              feature     score\n25       NWP1_00h_D_V -0.005814\n22     NWP1_18h_D-1_V -0.003987\n97       NWP4_00h_D_V -0.002951\n26       NWP1_00h_D_T -0.001282\n4      NWP1_06h_D-2_V -0.001274\n..                ...       ...\n18     NWP1_12h_D-1_U  0.000778\n16     NWP1_06h_D-1_V  0.001007\n88     NWP4_12h_D-2_V  0.001106\n89  NWP4_12h_D-2_CLCT  0.001652\n96       NWP4_00h_D_U  0.003140\n\n[102 rows x 2 columns]",
      "text/html": "<div>\n<style scoped>\n    .dataframe tbody tr th:only-of-type {\n        vertical-align: middle;\n    }\n\n    .dataframe tbody tr th {\n        vertical-align: top;\n    }\n\n    .dataframe thead th {\n        text-align: right;\n    }\n</style>\n<table border=\"1\" class=\"dataframe\">\n  <thead>\n    <tr style=\"text-align: right;\">\n      <th></th>\n      <th>feature</th>\n      <th>score</th>\n    </tr>\n  </thead>\n  <tbody>\n    <tr>\n      <th>25</th>\n      <td>NWP1_00h_D_V</td>\n      <td>-0.005814</td>\n    </tr>\n    <tr>\n      <th>22</th>\n      <td>NWP1_18h_D-1_V</td>\n      <td>-0.003987</td>\n    </tr>\n    <tr>\n      <th>97</th>\n      <td>NWP4_00h_D_V</td>\n      <td>-0.002951</td>\n    </tr>\n    <tr>\n      <th>26</th>\n      <td>NWP1_00h_D_T</td>\n      <td>-0.001282</td>\n    </tr>\n    <tr>\n      <th>4</th>\n      <td>NWP1_06h_D-2_V</td>\n      <td>-0.001274</td>\n    </tr>\n    <tr>\n      <th>...</th>\n      <td>...</td>\n      <td>...</td>\n    </tr>\n    <tr>\n      <th>18</th>\n      <td>NWP1_12h_D-1_U</td>\n      <td>0.000778</td>\n    </tr>\n    <tr>\n      <th>16</th>\n      <td>NWP1_06h_D-1_V</td>\n      <td>0.001007</td>\n    </tr>\n    <tr>\n      <th>88</th>\n      <td>NWP4_12h_D-2_V</td>\n      <td>0.001106</td>\n    </tr>\n    <tr>\n      <th>89</th>\n      <td>NWP4_12h_D-2_CLCT</td>\n      <td>0.001652</td>\n    </tr>\n    <tr>\n      <th>96</th>\n      <td>NWP4_00h_D_U</td>\n      <td>0.003140</td>\n    </tr>\n  </tbody>\n</table>\n<p>102 rows × 2 columns</p>\n</div>"
     },
     "metadata": {},
     "execution_count": 72
    }
   ],
   "source": [
    "importance_df"
   ]
  },
  {
   "cell_type": "markdown",
   "metadata": {},
   "source": [
    "## RFE"
   ]
  },
  {
   "cell_type": "code",
   "execution_count": 2,
   "metadata": {},
   "outputs": [],
   "source": [
    "full_data, full_label = get_simplified_data()"
   ]
  },
  {
   "cell_type": "code",
   "execution_count": 3,
   "metadata": {},
   "outputs": [],
   "source": [
    "X = full_data[full_data['Set']=='Train']\n",
    "X = X[X['WF']=='WF1']\n",
    "y = full_label[full_label.index.isin(X['ID'])]"
   ]
  },
  {
   "cell_type": "code",
   "execution_count": 4,
   "metadata": {},
   "outputs": [],
   "source": [
    "X = X.drop(['ID','WF','Set'],axis=1)"
   ]
  },
  {
   "cell_type": "code",
   "execution_count": 5,
   "metadata": {},
   "outputs": [],
   "source": [
    "def gpu_df(df,y):\n",
    "    gpu_matrix = cp.asarray(df)\n",
    "    gpu_matrix = xgb.DMatrix(gpu_matrix,label=y)\n",
    "    return gpu_matrix"
   ]
  },
  {
   "cell_type": "code",
   "execution_count": 6,
   "metadata": {},
   "outputs": [],
   "source": [
    "def get_feat_scores(model,X_train):\n",
    "    scores = bst.get_fscore()\n",
    "    scores = pd.DataFrame.from_dict(scores,orient='index')\n",
    "    scores = scores.reset_index()\n",
    "    scores.columns = ['Features','score']\n",
    "    scores['Features'] = scores['Features'].apply(lambda x: x.split('f')[1])\n",
    "    scores['Features'] = scores['Features'].astype(int)\n",
    "\n",
    "    columns_df = pd.DataFrame(X_train.columns,columns=['feature'])\n",
    "    columns_df['Features'] = columns_df.index\n",
    "\n",
    "    scores = scores.merge(columns_df,on='Features',how='left')\n",
    "    scores = scores.sort_values(by='score',ascending=False)\n",
    "    scores = scores.reset_index()\n",
    "    scores = scores.drop(['index','Features'],axis=1)\n",
    "    scores = scores[['feature','score']]\n",
    "\n",
    "    return scores"
   ]
  },
  {
   "cell_type": "code",
   "execution_count": 7,
   "metadata": {},
   "outputs": [],
   "source": [
    "num_boost_round = 1000\n",
    "early_stopping_rounds = 100"
   ]
  },
  {
   "cell_type": "code",
   "execution_count": 8,
   "metadata": {},
   "outputs": [],
   "source": [
    "param = {'tree_method' : 'gpu_hist'}"
   ]
  },
  {
   "cell_type": "code",
   "execution_count": 66,
   "metadata": {},
   "outputs": [],
   "source": [
    "def rfe_score(X,y,param,num_boost_round,early_stopping_rounds):\n",
    "    X_cv, X_hold, y_cv, y_hold = train_test_split(X, y, test_size=0.33, shuffle=False)\n",
    "\n",
    "    fold_scores = []\n",
    "    tscv = TimeSeriesSplit(n_splits=5)\n",
    "    for train_index, test_index in tscv.split(X_cv):\n",
    "        X_train, X_test = X_cv.iloc[train_index], X_cv.iloc[test_index]\n",
    "        y_train, y_test = y_cv.iloc[train_index], y_cv.iloc[test_index]\n",
    "\n",
    "        X_train, X_val, y_train, y_val = train_test_split(X_train, y_train, test_size=0.143, shuffle=False)\n",
    "\n",
    "        dtrain = gpu_df(X_train,y_train['Production'])\n",
    "        dval = gpu_df(X_val,y_val['Production'])\n",
    "\n",
    "        watchlist = [(dtrain,'train'),(dval,'eval')]\n",
    "        bst = xgb.train(param, dtrain, num_boost_round=num_boost_round, evals=watchlist, feval=metric_cnr,early_stopping_rounds=early_stopping_rounds,verbose_eval=False)\n",
    "\n",
    "        scores = get_feat_scores(bst,X_train)\n",
    "\n",
    "        subset_score = []\n",
    "        for subset in np.arange(1,len(scores)+1):\n",
    "            features = scores.iloc[:subset]['feature']\n",
    "\n",
    "            dtrain = gpu_df(X_train[features],y_train['Production'])\n",
    "            dval = gpu_df(X_val[features],y_val['Production'])\n",
    "            dtest = gpu_df(X_test[features],y_test['Production'])\n",
    "\n",
    "            watchlist = [(dtrain,'train'),(dval,'eval')]\n",
    "            bst = xgb.train(param, dtrain, num_boost_round=num_boost_round, evals=watchlist, feval=metric_cnr,early_stopping_rounds=early_stopping_rounds,verbose_eval=False)\n",
    "\n",
    "            preds = bst.predict(dtest,ntree_limit=bst.best_ntree_limit)\n",
    "            test_score = metric_cnr(preds,dtest)\n",
    "            subset_score.append(test_score)\n",
    "        fold_scores.append(subset_score)\n",
    "\n",
    "    subset_mean_score = np.empty(0)\n",
    "    for i in np.arange(len(fold_scores[0])):\n",
    "        subset_mean_score = np.append(subset_mean_score,np.array([x[i][1] for x in fold_scores]).mean())\n",
    "\n",
    "    subset_size = subset_mean_score.argmin() + 1\n",
    "\n",
    "    dtrain = gpu_df(X_cv,y_cv['Production'])\n",
    "    dval = gpu_df(X_hold,y_hold['Production'])\n",
    "\n",
    "    watchlist = [(dtrain,'train'),(dval,'eval')]\n",
    "    bst = xgb.train(param, dtrain, num_boost_round=num_boost_round, evals=watchlist, feval=metric_cnr,early_stopping_rounds=early_stopping_rounds,verbose_eval=False)\n",
    "\n",
    "    scores = get_feat_scores(bst,X_cv)\n",
    "\n",
    "    selected_features = scores.iloc[:subset_size]['feature']\n",
    "\n",
    "    return selected_features"
   ]
  },
  {
   "cell_type": "code",
   "execution_count": 67,
   "metadata": {},
   "outputs": [],
   "source": [
    "selected_features = rfe_score(X,y,param,1000,100)"
   ]
  },
  {
   "cell_type": "code",
   "execution_count": 68,
   "metadata": {},
   "outputs": [
    {
     "output_type": "execute_result",
     "data": {
      "text/plain": "0    U_100m\n1    V_100m\n2         T\n3     V_10m\n4     U_10m\n5      CLCT\nName: feature, dtype: object"
     },
     "metadata": {},
     "execution_count": 68
    }
   ],
   "source": [
    "selected_features"
   ]
  },
  {
   "cell_type": "code",
   "execution_count": null,
   "metadata": {},
   "outputs": [],
   "source": []
  }
 ],
 "metadata": {
  "language_info": {
   "name": "python",
   "codemirror_mode": {
    "name": "ipython",
    "version": 3
   },
   "version": "3.7.6-final"
  },
  "orig_nbformat": 2,
  "file_extension": ".py",
  "mimetype": "text/x-python",
  "name": "python",
  "npconvert_exporter": "python",
  "pygments_lexer": "ipython3",
  "version": 3,
  "kernelspec": {
   "name": "python3",
   "display_name": "Python 3"
  }
 },
 "nbformat": 4,
 "nbformat_minor": 2
}