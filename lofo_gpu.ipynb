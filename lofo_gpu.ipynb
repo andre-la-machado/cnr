{
 "nbformat": 4,
 "nbformat_minor": 2,
 "metadata": {
  "language_info": {
   "name": "python",
   "codemirror_mode": {
    "name": "ipython",
    "version": 3
   },
   "version": "3.7.6-final"
  },
  "orig_nbformat": 2,
  "file_extension": ".py",
  "mimetype": "text/x-python",
  "name": "python",
  "npconvert_exporter": "python",
  "pygments_lexer": "ipython3",
  "version": 3,
  "kernelspec": {
   "name": "python3",
   "display_name": "Python 3"
  }
 },
 "cells": [
  {
   "cell_type": "markdown",
   "metadata": {},
   "source": [
    "# LOFO for GPU"
   ]
  },
  {
   "cell_type": "markdown",
   "metadata": {},
   "source": [
    "## Bibliotecas Utilizadas"
   ]
  },
  {
   "cell_type": "code",
   "execution_count": 1,
   "metadata": {},
   "outputs": [],
   "source": [
    "import numpy as np\n",
    "import cupy as cp\n",
    "import pandas as pd\n",
    "import datetime\n",
    "\n",
    "import xgboost as xgb\n",
    "from sklearn.metrics import make_scorer, mean_absolute_error\n",
    "from sklearn.model_selection import cross_validate\n",
    "\n",
    "from sklearn.model_selection import KFold\n",
    "from sklearn.metrics import make_scorer, mean_squared_error"
   ]
  },
  {
   "cell_type": "markdown",
   "metadata": {},
   "source": [
    "## Leave One Feature Out"
   ]
  },
  {
   "cell_type": "code",
   "execution_count": 2,
   "metadata": {},
   "outputs": [],
   "source": [
    "def lofo_df(df,features,feature_out):\n",
    "    if feature_out is not None:\n",
    "        df = df.drop(feature_out,axis=1)\n",
    "    gpu_matrix = cp.asarray(df[[feature for feature in features if feature != feature_out]])\n",
    "    #gpu_matrix = xgb.DMatrix(gpu_matrix)\n",
    "    return gpu_matrix"
   ]
  },
  {
   "cell_type": "code",
   "execution_count": 3,
   "metadata": {},
   "outputs": [],
   "source": [
    "def lofo_score(X,y,features,feature_out,model,cv,scoring,n_jobs):\n",
    "    feature_df = lofo_df(X,features,feature_out=feature_out)\n",
    "    lofo_score = cross_validate(estimator=model,X=feature_df,y=y,scoring=scoring,cv=cv,n_jobs=n_jobs)\n",
    "    return lofo_score['test_score'].mean()"
   ]
  },
  {
   "cell_type": "code",
   "execution_count": 4,
   "metadata": {},
   "outputs": [],
   "source": [
    "def LOFO_GPU_Importance(X,y,features,model,cv,scoring,n_jobs):\n",
    "    base_score = lofo_score(X,y,features,None,model,cv,scoring,n_jobs)\n",
    "    scores = np.empty(0)\n",
    "    i = 0\n",
    "    for feature_out in features:\n",
    "        i = i + 1\n",
    "        start_time = datetime.datetime.now()\n",
    "        feature_score = lofo_score(X,y,features,feature_out,model,cv,scoring,n_jobs)\n",
    "        scores = np.append(scores,base_score-feature_score)\n",
    "        end_time = datetime.datetime.now()\n",
    "        delta = end_time - start_time\n",
    "        print('{}/{} {}.{} s/it'.format(i,len(features),delta.seconds,delta.microseconds))\n",
    "    importance_df = pd.DataFrame()\n",
    "    importance_df[\"feature\"] = features\n",
    "    importance_df[\"score\"] = scores\n",
    "    return importance_df"
   ]
  },
  {
   "cell_type": "code",
   "execution_count": 5,
   "metadata": {},
   "outputs": [],
   "source": [
    "x_train = pd.read_csv('Data/X_train.csv')\n",
    "y_train = pd.read_csv('Data/Y_train.csv')"
   ]
  },
  {
   "cell_type": "code",
   "execution_count": 6,
   "metadata": {},
   "outputs": [],
   "source": [
    "features = x_train.drop(['ID','WF','Time'],axis=1).columns\n",
    "model = xgb.XGBRegressor(tree_method='gpu_hist',max_depth=5)\n",
    "cv = KFold(n_splits=5, shuffle=False, random_state=0)\n",
    "scoring = make_scorer(mean_squared_error, greater_is_better=False,)\n",
    "n_jobs=2"
   ]
  },
  {
   "cell_type": "code",
   "execution_count": 7,
   "metadata": {},
   "outputs": [
    {
     "output_type": "stream",
     "name": "stdout",
     "text": "1/102 7.264136 s/it\n2/102 7.234714 s/it\n3/102 7.202005 s/it\n4/102 7.158949 s/it\n5/102 7.188807 s/it\n6/102 7.163283 s/it\n7/102 7.280936 s/it\n8/102 7.223827 s/it\n9/102 7.382163 s/it\n10/102 7.223342 s/it\n11/102 7.256457 s/it\n12/102 7.338202 s/it\n13/102 7.217708 s/it\n14/102 7.191141 s/it\n15/102 7.140882 s/it\n16/102 7.210700 s/it\n17/102 7.257592 s/it\n18/102 7.331901 s/it\n19/102 7.289508 s/it\n20/102 7.158624 s/it\n21/102 7.249617 s/it\n22/102 7.159917 s/it\n23/102 7.186498 s/it\n24/102 7.187481 s/it\n25/102 7.243357 s/it\n26/102 7.187218 s/it\n27/102 7.295850 s/it\n28/102 7.214551 s/it\n29/102 7.219694 s/it\n30/102 7.194304 s/it\n31/102 7.235757 s/it\n32/102 7.202760 s/it\n33/102 7.185488 s/it\n34/102 7.240440 s/it\n35/102 7.290490 s/it\n36/102 7.219548 s/it\n37/102 7.230807 s/it\n38/102 7.292827 s/it\n39/102 7.259373 s/it\n40/102 7.203755 s/it\n41/102 7.312894 s/it\n42/102 7.209828 s/it\n43/102 7.206783 s/it\n44/102 7.212189 s/it\n45/102 7.214177 s/it\n46/102 7.202066 s/it\n47/102 7.241635 s/it\n48/102 7.311629 s/it\n49/102 7.355903 s/it\n50/102 7.335070 s/it\n51/102 7.420028 s/it\n52/102 7.230427 s/it\n53/102 7.283411 s/it\n54/102 7.297064 s/it\n55/102 7.338138 s/it\n56/102 7.272839 s/it\n57/102 7.214788 s/it\n58/102 7.290363 s/it\n59/102 7.318481 s/it\n60/102 7.274400 s/it\n61/102 7.153846 s/it\n62/102 7.361243 s/it\n63/102 7.296005 s/it\n64/102 7.212506 s/it\n65/102 7.287789 s/it\n66/102 7.288432 s/it\n67/102 7.291369 s/it\n68/102 7.227687 s/it\n69/102 7.269619 s/it\n70/102 7.226580 s/it\n71/102 7.238034 s/it\n72/102 7.232659 s/it\n73/102 7.251442 s/it\n74/102 7.293628 s/it\n75/102 7.208727 s/it\n76/102 7.258889 s/it\n77/102 7.258701 s/it\n78/102 7.295667 s/it\n79/102 7.300411 s/it\n80/102 7.201464 s/it\n81/102 7.286638 s/it\n82/102 7.344785 s/it\n83/102 7.201080 s/it\n84/102 7.290679 s/it\n85/102 7.329312 s/it\n86/102 7.305643 s/it\n87/102 7.263683 s/it\n88/102 7.230665 s/it\n89/102 7.217055 s/it\n90/102 7.192008 s/it\n91/102 7.273568 s/it\n92/102 7.353893 s/it\n93/102 7.308637 s/it\n94/102 7.263796 s/it\n95/102 7.284276 s/it\n96/102 7.320775 s/it\n97/102 7.194761 s/it\n98/102 7.266619 s/it\n99/102 7.337379 s/it\n100/102 7.203622 s/it\n101/102 7.277132 s/it\n102/102 7.327340 s/it\n"
    }
   ],
   "source": [
    "importance_df = LOFO_GPU_Importance(x_train,y_train['Production'],features,model,cv,scoring,n_jobs)"
   ]
  },
  {
   "cell_type": "code",
   "execution_count": 10,
   "metadata": {},
   "outputs": [
    {
     "output_type": "execute_result",
     "data": {
      "text/plain": "           feature     score\n42  NWP2_12h_D-1_U  0.071381\n18  NWP1_12h_D-1_U  0.070456\n21  NWP1_18h_D-1_U  0.067885\n90  NWP4_00h_D-1_U  0.065905\n57  NWP3_18h_D-2_U  0.060995\n..             ...       ...\n29    NWP1_06h_D_T -0.027390\n11  NWP1_18h_D-2_T -0.030797\n25    NWP1_00h_D_V -0.036174\n97    NWP4_00h_D_V -0.044534\n94  NWP4_12h_D-1_V -0.075885\n\n[102 rows x 2 columns]",
      "text/html": "<div>\n<style scoped>\n    .dataframe tbody tr th:only-of-type {\n        vertical-align: middle;\n    }\n\n    .dataframe tbody tr th {\n        vertical-align: top;\n    }\n\n    .dataframe thead th {\n        text-align: right;\n    }\n</style>\n<table border=\"1\" class=\"dataframe\">\n  <thead>\n    <tr style=\"text-align: right;\">\n      <th></th>\n      <th>feature</th>\n      <th>score</th>\n    </tr>\n  </thead>\n  <tbody>\n    <tr>\n      <th>42</th>\n      <td>NWP2_12h_D-1_U</td>\n      <td>0.071381</td>\n    </tr>\n    <tr>\n      <th>18</th>\n      <td>NWP1_12h_D-1_U</td>\n      <td>0.070456</td>\n    </tr>\n    <tr>\n      <th>21</th>\n      <td>NWP1_18h_D-1_U</td>\n      <td>0.067885</td>\n    </tr>\n    <tr>\n      <th>90</th>\n      <td>NWP4_00h_D-1_U</td>\n      <td>0.065905</td>\n    </tr>\n    <tr>\n      <th>57</th>\n      <td>NWP3_18h_D-2_U</td>\n      <td>0.060995</td>\n    </tr>\n    <tr>\n      <th>...</th>\n      <td>...</td>\n      <td>...</td>\n    </tr>\n    <tr>\n      <th>29</th>\n      <td>NWP1_06h_D_T</td>\n      <td>-0.027390</td>\n    </tr>\n    <tr>\n      <th>11</th>\n      <td>NWP1_18h_D-2_T</td>\n      <td>-0.030797</td>\n    </tr>\n    <tr>\n      <th>25</th>\n      <td>NWP1_00h_D_V</td>\n      <td>-0.036174</td>\n    </tr>\n    <tr>\n      <th>97</th>\n      <td>NWP4_00h_D_V</td>\n      <td>-0.044534</td>\n    </tr>\n    <tr>\n      <th>94</th>\n      <td>NWP4_12h_D-1_V</td>\n      <td>-0.075885</td>\n    </tr>\n  </tbody>\n</table>\n<p>102 rows × 2 columns</p>\n</div>"
     },
     "metadata": {},
     "execution_count": 10
    }
   ],
   "source": [
    "importance_df.sort_values(by='score',ascending=False)"
   ]
  },
  {
   "cell_type": "code",
   "execution_count": 109,
   "metadata": {},
   "outputs": [
    {
     "output_type": "execute_result",
     "data": {
      "text/plain": "Index(['ID', 'WF', 'Time', 'NWP1_00h_D-2_U', 'NWP1_00h_D-2_V',\n       'NWP1_00h_D-2_T', 'NWP1_06h_D-2_U', 'NWP1_06h_D-2_V', 'NWP1_06h_D-2_T',\n       'NWP1_12h_D-2_U',\n       ...\n       'NWP4_00h_D-1_CLCT', 'NWP4_12h_D-1_U', 'NWP4_12h_D-1_V',\n       'NWP4_12h_D-1_CLCT', 'NWP4_00h_D_U', 'NWP4_00h_D_V', 'NWP4_00h_D_CLCT',\n       'NWP4_12h_D_U', 'NWP4_12h_D_V', 'NWP4_12h_D_CLCT'],\n      dtype='object', length=105)"
     },
     "metadata": {},
     "execution_count": 109
    }
   ],
   "source": [
    "x_train.columns"
   ]
  },
  {
   "cell_type": "code",
   "execution_count": 11,
   "metadata": {},
   "outputs": [
    {
     "output_type": "execute_result",
     "data": {
      "text/plain": "          ID   WF              Time  NWP1_00h_D-2_U  NWP1_00h_D-2_V  \\\n0          1  WF1  01/05/2018 01:00             NaN             NaN   \n1          2  WF1  01/05/2018 02:00             NaN             NaN   \n2          3  WF1  01/05/2018 03:00             NaN             NaN   \n3          4  WF1  01/05/2018 04:00             NaN             NaN   \n4          5  WF1  01/05/2018 05:00             NaN             NaN   \n...      ...  ...               ...             ...             ...   \n37370  37371  WF6  15/01/2019 20:00             NaN             NaN   \n37371  37372  WF6  15/01/2019 21:00             NaN             NaN   \n37372  37373  WF6  15/01/2019 22:00             NaN             NaN   \n37373  37374  WF6  15/01/2019 23:00             NaN             NaN   \n37374  37375  WF6  16/01/2019 00:00         -1.3021         -3.5325   \n\n       NWP1_00h_D-2_T  NWP1_06h_D-2_U  NWP1_06h_D-2_V  NWP1_06h_D-2_T  \\\n0                 NaN             NaN             NaN             NaN   \n1                 NaN             NaN             NaN             NaN   \n2                 NaN             NaN             NaN             NaN   \n3                 NaN             NaN             NaN             NaN   \n4                 NaN             NaN             NaN             NaN   \n...               ...             ...             ...             ...   \n37370             NaN             NaN             NaN             NaN   \n37371             NaN             NaN             NaN             NaN   \n37372             NaN             NaN             NaN             NaN   \n37373             NaN             NaN             NaN             NaN   \n37374           272.9         -1.0218         -4.1875          273.47   \n\n       NWP1_12h_D-2_U  ...  NWP4_00h_D-1_CLCT  NWP4_12h_D-1_U  NWP4_12h_D-1_V  \\\n0                 NaN  ...                NaN             NaN             NaN   \n1                 NaN  ...                NaN             NaN             NaN   \n2                 NaN  ...                NaN             NaN             NaN   \n3                 NaN  ...                NaN             NaN             NaN   \n4                 NaN  ...                NaN             NaN             NaN   \n...               ...  ...                ...             ...             ...   \n37370         -1.7901  ...          -0.000013        0.675391       -0.984372   \n37371         -1.7966  ...          -0.000013        0.499687       -0.651881   \n37372         -1.6205  ...          -0.000013        0.261570       -0.767298   \n37373         -1.2611  ...          -0.000013       -0.030139       -0.537230   \n37374         -0.7804  ...          -0.000016       -0.255863       -0.389288   \n\n       NWP4_12h_D-1_CLCT  NWP4_00h_D_U  NWP4_00h_D_V  NWP4_00h_D_CLCT  \\\n0                    NaN      1.254603     -0.289687        82.543144   \n1                    NaN      2.490908     -0.413370        99.990844   \n2                    NaN      0.997093     -1.415138        98.367235   \n3                    NaN      0.689598     -0.961441        94.860604   \n4                    NaN      0.290994     -0.294963        95.905879   \n...                  ...           ...           ...              ...   \n37370          -0.000015      0.560460     -0.938410        -0.000016   \n37371          -0.000015      0.368801     -0.654958        -0.000016   \n37372          -0.000015      0.129741     -0.636798        -0.000016   \n37373          -0.000015      0.055551     -0.546788        -0.000016   \n37374          -0.000020     -0.071836     -0.601507        -0.000014   \n\n       NWP4_12h_D_U  NWP4_12h_D_V  NWP4_12h_D_CLCT  \n0               NaN           NaN              NaN  \n1               NaN           NaN              NaN  \n2               NaN           NaN              NaN  \n3               NaN           NaN              NaN  \n4               NaN           NaN              NaN  \n...             ...           ...              ...  \n37370      0.614775     -0.884509         -0.00002  \n37371      0.322804     -0.747691         -0.00002  \n37372      0.118189     -0.707538         -0.00002  \n37373     -0.160884     -0.532798         -0.00002  \n37374           NaN           NaN              NaN  \n\n[37375 rows x 105 columns]",
      "text/html": "<div>\n<style scoped>\n    .dataframe tbody tr th:only-of-type {\n        vertical-align: middle;\n    }\n\n    .dataframe tbody tr th {\n        vertical-align: top;\n    }\n\n    .dataframe thead th {\n        text-align: right;\n    }\n</style>\n<table border=\"1\" class=\"dataframe\">\n  <thead>\n    <tr style=\"text-align: right;\">\n      <th></th>\n      <th>ID</th>\n      <th>WF</th>\n      <th>Time</th>\n      <th>NWP1_00h_D-2_U</th>\n      <th>NWP1_00h_D-2_V</th>\n      <th>NWP1_00h_D-2_T</th>\n      <th>NWP1_06h_D-2_U</th>\n      <th>NWP1_06h_D-2_V</th>\n      <th>NWP1_06h_D-2_T</th>\n      <th>NWP1_12h_D-2_U</th>\n      <th>...</th>\n      <th>NWP4_00h_D-1_CLCT</th>\n      <th>NWP4_12h_D-1_U</th>\n      <th>NWP4_12h_D-1_V</th>\n      <th>NWP4_12h_D-1_CLCT</th>\n      <th>NWP4_00h_D_U</th>\n      <th>NWP4_00h_D_V</th>\n      <th>NWP4_00h_D_CLCT</th>\n      <th>NWP4_12h_D_U</th>\n      <th>NWP4_12h_D_V</th>\n      <th>NWP4_12h_D_CLCT</th>\n    </tr>\n  </thead>\n  <tbody>\n    <tr>\n      <th>0</th>\n      <td>1</td>\n      <td>WF1</td>\n      <td>01/05/2018 01:00</td>\n      <td>NaN</td>\n      <td>NaN</td>\n      <td>NaN</td>\n      <td>NaN</td>\n      <td>NaN</td>\n      <td>NaN</td>\n      <td>NaN</td>\n      <td>...</td>\n      <td>NaN</td>\n      <td>NaN</td>\n      <td>NaN</td>\n      <td>NaN</td>\n      <td>1.254603</td>\n      <td>-0.289687</td>\n      <td>82.543144</td>\n      <td>NaN</td>\n      <td>NaN</td>\n      <td>NaN</td>\n    </tr>\n    <tr>\n      <th>1</th>\n      <td>2</td>\n      <td>WF1</td>\n      <td>01/05/2018 02:00</td>\n      <td>NaN</td>\n      <td>NaN</td>\n      <td>NaN</td>\n      <td>NaN</td>\n      <td>NaN</td>\n      <td>NaN</td>\n      <td>NaN</td>\n      <td>...</td>\n      <td>NaN</td>\n      <td>NaN</td>\n      <td>NaN</td>\n      <td>NaN</td>\n      <td>2.490908</td>\n      <td>-0.413370</td>\n      <td>99.990844</td>\n      <td>NaN</td>\n      <td>NaN</td>\n      <td>NaN</td>\n    </tr>\n    <tr>\n      <th>2</th>\n      <td>3</td>\n      <td>WF1</td>\n      <td>01/05/2018 03:00</td>\n      <td>NaN</td>\n      <td>NaN</td>\n      <td>NaN</td>\n      <td>NaN</td>\n      <td>NaN</td>\n      <td>NaN</td>\n      <td>NaN</td>\n      <td>...</td>\n      <td>NaN</td>\n      <td>NaN</td>\n      <td>NaN</td>\n      <td>NaN</td>\n      <td>0.997093</td>\n      <td>-1.415138</td>\n      <td>98.367235</td>\n      <td>NaN</td>\n      <td>NaN</td>\n      <td>NaN</td>\n    </tr>\n    <tr>\n      <th>3</th>\n      <td>4</td>\n      <td>WF1</td>\n      <td>01/05/2018 04:00</td>\n      <td>NaN</td>\n      <td>NaN</td>\n      <td>NaN</td>\n      <td>NaN</td>\n      <td>NaN</td>\n      <td>NaN</td>\n      <td>NaN</td>\n      <td>...</td>\n      <td>NaN</td>\n      <td>NaN</td>\n      <td>NaN</td>\n      <td>NaN</td>\n      <td>0.689598</td>\n      <td>-0.961441</td>\n      <td>94.860604</td>\n      <td>NaN</td>\n      <td>NaN</td>\n      <td>NaN</td>\n    </tr>\n    <tr>\n      <th>4</th>\n      <td>5</td>\n      <td>WF1</td>\n      <td>01/05/2018 05:00</td>\n      <td>NaN</td>\n      <td>NaN</td>\n      <td>NaN</td>\n      <td>NaN</td>\n      <td>NaN</td>\n      <td>NaN</td>\n      <td>NaN</td>\n      <td>...</td>\n      <td>NaN</td>\n      <td>NaN</td>\n      <td>NaN</td>\n      <td>NaN</td>\n      <td>0.290994</td>\n      <td>-0.294963</td>\n      <td>95.905879</td>\n      <td>NaN</td>\n      <td>NaN</td>\n      <td>NaN</td>\n    </tr>\n    <tr>\n      <th>...</th>\n      <td>...</td>\n      <td>...</td>\n      <td>...</td>\n      <td>...</td>\n      <td>...</td>\n      <td>...</td>\n      <td>...</td>\n      <td>...</td>\n      <td>...</td>\n      <td>...</td>\n      <td>...</td>\n      <td>...</td>\n      <td>...</td>\n      <td>...</td>\n      <td>...</td>\n      <td>...</td>\n      <td>...</td>\n      <td>...</td>\n      <td>...</td>\n      <td>...</td>\n      <td>...</td>\n    </tr>\n    <tr>\n      <th>37370</th>\n      <td>37371</td>\n      <td>WF6</td>\n      <td>15/01/2019 20:00</td>\n      <td>NaN</td>\n      <td>NaN</td>\n      <td>NaN</td>\n      <td>NaN</td>\n      <td>NaN</td>\n      <td>NaN</td>\n      <td>-1.7901</td>\n      <td>...</td>\n      <td>-0.000013</td>\n      <td>0.675391</td>\n      <td>-0.984372</td>\n      <td>-0.000015</td>\n      <td>0.560460</td>\n      <td>-0.938410</td>\n      <td>-0.000016</td>\n      <td>0.614775</td>\n      <td>-0.884509</td>\n      <td>-0.00002</td>\n    </tr>\n    <tr>\n      <th>37371</th>\n      <td>37372</td>\n      <td>WF6</td>\n      <td>15/01/2019 21:00</td>\n      <td>NaN</td>\n      <td>NaN</td>\n      <td>NaN</td>\n      <td>NaN</td>\n      <td>NaN</td>\n      <td>NaN</td>\n      <td>-1.7966</td>\n      <td>...</td>\n      <td>-0.000013</td>\n      <td>0.499687</td>\n      <td>-0.651881</td>\n      <td>-0.000015</td>\n      <td>0.368801</td>\n      <td>-0.654958</td>\n      <td>-0.000016</td>\n      <td>0.322804</td>\n      <td>-0.747691</td>\n      <td>-0.00002</td>\n    </tr>\n    <tr>\n      <th>37372</th>\n      <td>37373</td>\n      <td>WF6</td>\n      <td>15/01/2019 22:00</td>\n      <td>NaN</td>\n      <td>NaN</td>\n      <td>NaN</td>\n      <td>NaN</td>\n      <td>NaN</td>\n      <td>NaN</td>\n      <td>-1.6205</td>\n      <td>...</td>\n      <td>-0.000013</td>\n      <td>0.261570</td>\n      <td>-0.767298</td>\n      <td>-0.000015</td>\n      <td>0.129741</td>\n      <td>-0.636798</td>\n      <td>-0.000016</td>\n      <td>0.118189</td>\n      <td>-0.707538</td>\n      <td>-0.00002</td>\n    </tr>\n    <tr>\n      <th>37373</th>\n      <td>37374</td>\n      <td>WF6</td>\n      <td>15/01/2019 23:00</td>\n      <td>NaN</td>\n      <td>NaN</td>\n      <td>NaN</td>\n      <td>NaN</td>\n      <td>NaN</td>\n      <td>NaN</td>\n      <td>-1.2611</td>\n      <td>...</td>\n      <td>-0.000013</td>\n      <td>-0.030139</td>\n      <td>-0.537230</td>\n      <td>-0.000015</td>\n      <td>0.055551</td>\n      <td>-0.546788</td>\n      <td>-0.000016</td>\n      <td>-0.160884</td>\n      <td>-0.532798</td>\n      <td>-0.00002</td>\n    </tr>\n    <tr>\n      <th>37374</th>\n      <td>37375</td>\n      <td>WF6</td>\n      <td>16/01/2019 00:00</td>\n      <td>-1.3021</td>\n      <td>-3.5325</td>\n      <td>272.9</td>\n      <td>-1.0218</td>\n      <td>-4.1875</td>\n      <td>273.47</td>\n      <td>-0.7804</td>\n      <td>...</td>\n      <td>-0.000016</td>\n      <td>-0.255863</td>\n      <td>-0.389288</td>\n      <td>-0.000020</td>\n      <td>-0.071836</td>\n      <td>-0.601507</td>\n      <td>-0.000014</td>\n      <td>NaN</td>\n      <td>NaN</td>\n      <td>NaN</td>\n    </tr>\n  </tbody>\n</table>\n<p>37375 rows × 105 columns</p>\n</div>"
     },
     "metadata": {},
     "execution_count": 11
    }
   ],
   "source": [
    "x_train"
   ]
  },
  {
   "cell_type": "code",
   "execution_count": null,
   "metadata": {},
   "outputs": [],
   "source": []
  }
 ]
}